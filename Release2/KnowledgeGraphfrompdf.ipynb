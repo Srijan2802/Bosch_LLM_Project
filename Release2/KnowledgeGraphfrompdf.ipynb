{
  "nbformat": 4,
  "nbformat_minor": 0,
  "metadata": {
    "colab": {
      "provenance": []
    },
    "kernelspec": {
      "name": "python3",
      "display_name": "Python 3"
    },
    "language_info": {
      "name": "python"
    }
  },
  "cells": [
    {
      "cell_type": "code",
      "execution_count": null,
      "metadata": {
        "colab": {
          "base_uri": "https://localhost:8080/"
        },
        "id": "FfirdH3O2dnS",
        "outputId": "96f4d555-a8eb-4d0e-950d-0f4359dc02da"
      },
      "outputs": [
        {
          "output_type": "stream",
          "name": "stdout",
          "text": [
            "\u001b[2K   \u001b[90m━━━━━━━━━━━━━━━━━━━━━━━━━━━━━━━━━━━━━━━━\u001b[0m \u001b[32m2.5/2.5 MB\u001b[0m \u001b[31m29.6 MB/s\u001b[0m eta \u001b[36m0:00:00\u001b[0m\n",
            "\u001b[2K   \u001b[90m━━━━━━━━━━━━━━━━━━━━━━━━━━━━━━━━━━━━━━━━\u001b[0m \u001b[32m54.9/54.9 kB\u001b[0m \u001b[31m3.4 MB/s\u001b[0m eta \u001b[36m0:00:00\u001b[0m\n",
            "\u001b[2K   \u001b[90m━━━━━━━━━━━━━━━━━━━━━━━━━━━━━━━━━━━━━━━━\u001b[0m \u001b[32m209.2/209.2 kB\u001b[0m \u001b[31m12.6 MB/s\u001b[0m eta \u001b[36m0:00:00\u001b[0m\n",
            "\u001b[2K   \u001b[90m━━━━━━━━━━━━━━━━━━━━━━━━━━━━━━━━━━━━━━━━\u001b[0m \u001b[32m312.3/312.3 kB\u001b[0m \u001b[31m18.6 MB/s\u001b[0m eta \u001b[36m0:00:00\u001b[0m\n",
            "\u001b[2K   \u001b[90m━━━━━━━━━━━━━━━━━━━━━━━━━━━━━━━━━━━━━━━━\u001b[0m \u001b[32m177.2/177.2 kB\u001b[0m \u001b[31m11.1 MB/s\u001b[0m eta \u001b[36m0:00:00\u001b[0m\n",
            "\u001b[2K   \u001b[90m━━━━━━━━━━━━━━━━━━━━━━━━━━━━━━━━━━━━━━━━\u001b[0m \u001b[32m1.2/1.2 MB\u001b[0m \u001b[31m42.7 MB/s\u001b[0m eta \u001b[36m0:00:00\u001b[0m\n",
            "\u001b[2K   \u001b[90m━━━━━━━━━━━━━━━━━━━━━━━━━━━━━━━━━━━━━━━━\u001b[0m \u001b[32m50.9/50.9 kB\u001b[0m \u001b[31m3.1 MB/s\u001b[0m eta \u001b[36m0:00:00\u001b[0m\n",
            "\u001b[?25h"
          ]
        }
      ],
      "source": [
        "!pip install --quiet langchain langchain_community langchain-openai langchain-experimental neo4j py2neo openai tiktoken"
      ]
    },
    {
      "cell_type": "code",
      "source": [
        "from langchain_openai import AzureChatOpenAI"
      ],
      "metadata": {
        "id": "AA_bZjIW5w_o"
      },
      "execution_count": null,
      "outputs": []
    },
    {
      "cell_type": "code",
      "source": [
        "pip install -U :class:`~langchain-openai"
      ],
      "metadata": {
        "colab": {
          "base_uri": "https://localhost:8080/"
        },
        "id": "Tug07JQD5skk",
        "outputId": "6d6cfc4e-5567-41fc-90cd-74aa4533ab25"
      },
      "execution_count": null,
      "outputs": [
        {
          "output_type": "stream",
          "name": "stdout",
          "text": [
            "/bin/bash: -c: line 1: unexpected EOF while looking for matching ``'\n",
            "/bin/bash: -c: line 2: syntax error: unexpected end of file\n"
          ]
        }
      ]
    },
    {
      "cell_type": "code",
      "source": [
        "pip install json-repair"
      ],
      "metadata": {
        "colab": {
          "base_uri": "https://localhost:8080/"
        },
        "id": "kSz9urv75uGw",
        "outputId": "f3aacfa5-ca49-4ce8-b75a-bba94a86b610"
      },
      "execution_count": null,
      "outputs": [
        {
          "output_type": "stream",
          "name": "stdout",
          "text": [
            "Collecting json-repair\n",
            "  Downloading json_repair-0.39.0-py3-none-any.whl.metadata (11 kB)\n",
            "Downloading json_repair-0.39.0-py3-none-any.whl (20 kB)\n",
            "Installing collected packages: json-repair\n",
            "Successfully installed json-repair-0.39.0\n"
          ]
        }
      ]
    },
    {
      "cell_type": "code",
      "source": [
        "pip install -U langchain langchain-openai"
      ],
      "metadata": {
        "colab": {
          "base_uri": "https://localhost:8080/"
        },
        "id": "MsljzrTPWPYO",
        "outputId": "9a94e26d-f8d0-4e9c-ec5c-2775b52105f7"
      },
      "execution_count": null,
      "outputs": [
        {
          "output_type": "stream",
          "name": "stdout",
          "text": [
            "Requirement already satisfied: langchain in /usr/local/lib/python3.11/dist-packages (0.3.18)\n",
            "Collecting langchain\n",
            "  Downloading langchain-0.3.19-py3-none-any.whl.metadata (7.9 kB)\n",
            "Requirement already satisfied: langchain-openai in /usr/local/lib/python3.11/dist-packages (0.3.6)\n",
            "Requirement already satisfied: langchain-core<1.0.0,>=0.3.35 in /usr/local/lib/python3.11/dist-packages (from langchain) (0.3.35)\n",
            "Requirement already satisfied: langchain-text-splitters<1.0.0,>=0.3.6 in /usr/local/lib/python3.11/dist-packages (from langchain) (0.3.6)\n",
            "Requirement already satisfied: langsmith<0.4,>=0.1.17 in /usr/local/lib/python3.11/dist-packages (from langchain) (0.3.8)\n",
            "Requirement already satisfied: pydantic<3.0.0,>=2.7.4 in /usr/local/lib/python3.11/dist-packages (from langchain) (2.10.6)\n",
            "Requirement already satisfied: SQLAlchemy<3,>=1.4 in /usr/local/lib/python3.11/dist-packages (from langchain) (2.0.38)\n",
            "Requirement already satisfied: requests<3,>=2 in /usr/local/lib/python3.11/dist-packages (from langchain) (2.32.3)\n",
            "Requirement already satisfied: PyYAML>=5.3 in /usr/local/lib/python3.11/dist-packages (from langchain) (6.0.2)\n",
            "Requirement already satisfied: aiohttp<4.0.0,>=3.8.3 in /usr/local/lib/python3.11/dist-packages (from langchain) (3.11.12)\n",
            "Requirement already satisfied: tenacity!=8.4.0,<10,>=8.1.0 in /usr/local/lib/python3.11/dist-packages (from langchain) (9.0.0)\n",
            "Requirement already satisfied: numpy<2,>=1.26.4 in /usr/local/lib/python3.11/dist-packages (from langchain) (1.26.4)\n",
            "Requirement already satisfied: openai<2.0.0,>=1.58.1 in /usr/local/lib/python3.11/dist-packages (from langchain-openai) (1.61.1)\n",
            "Requirement already satisfied: tiktoken<1,>=0.7 in /usr/local/lib/python3.11/dist-packages (from langchain-openai) (0.9.0)\n",
            "Requirement already satisfied: aiohappyeyeballs>=2.3.0 in /usr/local/lib/python3.11/dist-packages (from aiohttp<4.0.0,>=3.8.3->langchain) (2.4.6)\n",
            "Requirement already satisfied: aiosignal>=1.1.2 in /usr/local/lib/python3.11/dist-packages (from aiohttp<4.0.0,>=3.8.3->langchain) (1.3.2)\n",
            "Requirement already satisfied: attrs>=17.3.0 in /usr/local/lib/python3.11/dist-packages (from aiohttp<4.0.0,>=3.8.3->langchain) (25.1.0)\n",
            "Requirement already satisfied: frozenlist>=1.1.1 in /usr/local/lib/python3.11/dist-packages (from aiohttp<4.0.0,>=3.8.3->langchain) (1.5.0)\n",
            "Requirement already satisfied: multidict<7.0,>=4.5 in /usr/local/lib/python3.11/dist-packages (from aiohttp<4.0.0,>=3.8.3->langchain) (6.1.0)\n",
            "Requirement already satisfied: propcache>=0.2.0 in /usr/local/lib/python3.11/dist-packages (from aiohttp<4.0.0,>=3.8.3->langchain) (0.2.1)\n",
            "Requirement already satisfied: yarl<2.0,>=1.17.0 in /usr/local/lib/python3.11/dist-packages (from aiohttp<4.0.0,>=3.8.3->langchain) (1.18.3)\n",
            "Requirement already satisfied: jsonpatch<2.0,>=1.33 in /usr/local/lib/python3.11/dist-packages (from langchain-core<1.0.0,>=0.3.35->langchain) (1.33)\n",
            "Requirement already satisfied: packaging<25,>=23.2 in /usr/local/lib/python3.11/dist-packages (from langchain-core<1.0.0,>=0.3.35->langchain) (24.2)\n",
            "Requirement already satisfied: typing-extensions>=4.7 in /usr/local/lib/python3.11/dist-packages (from langchain-core<1.0.0,>=0.3.35->langchain) (4.12.2)\n",
            "Requirement already satisfied: httpx<1,>=0.23.0 in /usr/local/lib/python3.11/dist-packages (from langsmith<0.4,>=0.1.17->langchain) (0.28.1)\n",
            "Requirement already satisfied: orjson<4.0.0,>=3.9.14 in /usr/local/lib/python3.11/dist-packages (from langsmith<0.4,>=0.1.17->langchain) (3.10.15)\n",
            "Requirement already satisfied: requests-toolbelt<2.0.0,>=1.0.0 in /usr/local/lib/python3.11/dist-packages (from langsmith<0.4,>=0.1.17->langchain) (1.0.0)\n",
            "Requirement already satisfied: zstandard<0.24.0,>=0.23.0 in /usr/local/lib/python3.11/dist-packages (from langsmith<0.4,>=0.1.17->langchain) (0.23.0)\n",
            "Requirement already satisfied: anyio<5,>=3.5.0 in /usr/local/lib/python3.11/dist-packages (from openai<2.0.0,>=1.58.1->langchain-openai) (3.7.1)\n",
            "Requirement already satisfied: distro<2,>=1.7.0 in /usr/local/lib/python3.11/dist-packages (from openai<2.0.0,>=1.58.1->langchain-openai) (1.9.0)\n",
            "Requirement already satisfied: jiter<1,>=0.4.0 in /usr/local/lib/python3.11/dist-packages (from openai<2.0.0,>=1.58.1->langchain-openai) (0.8.2)\n",
            "Requirement already satisfied: sniffio in /usr/local/lib/python3.11/dist-packages (from openai<2.0.0,>=1.58.1->langchain-openai) (1.3.1)\n",
            "Requirement already satisfied: tqdm>4 in /usr/local/lib/python3.11/dist-packages (from openai<2.0.0,>=1.58.1->langchain-openai) (4.67.1)\n",
            "Requirement already satisfied: annotated-types>=0.6.0 in /usr/local/lib/python3.11/dist-packages (from pydantic<3.0.0,>=2.7.4->langchain) (0.7.0)\n",
            "Requirement already satisfied: pydantic-core==2.27.2 in /usr/local/lib/python3.11/dist-packages (from pydantic<3.0.0,>=2.7.4->langchain) (2.27.2)\n",
            "Requirement already satisfied: charset-normalizer<4,>=2 in /usr/local/lib/python3.11/dist-packages (from requests<3,>=2->langchain) (3.4.1)\n",
            "Requirement already satisfied: idna<4,>=2.5 in /usr/local/lib/python3.11/dist-packages (from requests<3,>=2->langchain) (3.10)\n",
            "Requirement already satisfied: urllib3<3,>=1.21.1 in /usr/local/lib/python3.11/dist-packages (from requests<3,>=2->langchain) (2.3.0)\n",
            "Requirement already satisfied: certifi>=2017.4.17 in /usr/local/lib/python3.11/dist-packages (from requests<3,>=2->langchain) (2025.1.31)\n",
            "Requirement already satisfied: greenlet!=0.4.17 in /usr/local/lib/python3.11/dist-packages (from SQLAlchemy<3,>=1.4->langchain) (3.1.1)\n",
            "Requirement already satisfied: regex>=2022.1.18 in /usr/local/lib/python3.11/dist-packages (from tiktoken<1,>=0.7->langchain-openai) (2024.11.6)\n",
            "Requirement already satisfied: httpcore==1.* in /usr/local/lib/python3.11/dist-packages (from httpx<1,>=0.23.0->langsmith<0.4,>=0.1.17->langchain) (1.0.7)\n",
            "Requirement already satisfied: h11<0.15,>=0.13 in /usr/local/lib/python3.11/dist-packages (from httpcore==1.*->httpx<1,>=0.23.0->langsmith<0.4,>=0.1.17->langchain) (0.14.0)\n",
            "Requirement already satisfied: jsonpointer>=1.9 in /usr/local/lib/python3.11/dist-packages (from jsonpatch<2.0,>=1.33->langchain-core<1.0.0,>=0.3.35->langchain) (3.0.0)\n",
            "Downloading langchain-0.3.19-py3-none-any.whl (1.0 MB)\n",
            "\u001b[2K   \u001b[90m━━━━━━━━━━━━━━━━━━━━━━━━━━━━━━━━━━━━━━━━\u001b[0m \u001b[32m1.0/1.0 MB\u001b[0m \u001b[31m8.7 MB/s\u001b[0m eta \u001b[36m0:00:00\u001b[0m\n",
            "\u001b[?25hInstalling collected packages: langchain\n",
            "  Attempting uninstall: langchain\n",
            "    Found existing installation: langchain 0.3.18\n",
            "    Uninstalling langchain-0.3.18:\n",
            "      Successfully uninstalled langchain-0.3.18\n",
            "Successfully installed langchain-0.3.19\n"
          ]
        }
      ]
    },
    {
      "cell_type": "code",
      "source": [
        "LANGSMITH_TRACING= True\n",
        "LANGSMITH_ENDPOINT=\"https://api.smith.langchain.com\"\n",
        "LANGSMITH_API_KEY=\"Add key\"\n",
        "LANGSMITH_PROJECT=\"pr-earnest-inspection-19\""
      ],
      "metadata": {
        "id": "ohJl4S6eVVs1"
      },
      "execution_count": null,
      "outputs": []
    },
    {
      "cell_type": "markdown",
      "source": [
        "Adding credentials to connect with AZURE OPENAI API"
      ],
      "metadata": {
        "id": "ZeZc-5tT9v5-"
      }
    },
    {
      "cell_type": "code",
      "source": [
        "import os\n",
        "from langchain_openai import AzureChatOpenAI\n",
        "from langchain_experimental.graph_transformers import LLMGraphTransformer\n",
        "\n",
        "# LangChain / Graph\n",
        "from langchain_community.graphs import Neo4jGraph\n",
        "from langchain_experimental.graph_transformers import LLMGraphTransformer\n",
        "from langchain_core.documents import Document\n",
        "from openai import OpenAI\n",
        "import os\n",
        "from langchain_openai import AzureChatOpenAI\n",
        "from langchain_experimental.graph_transformers import LLMGraphTransformer\n",
        "# Set Azure OpenAI API Details\n",
        "os.environ[\"AZURE_OPENAI_API_KEY\"] = \"api key\"\n",
        "os.environ[\"AZURE_OPENAI_ENDPOINT\"] = \"https://llm-data-quality.openai.azure.com/\"\n",
        "os.environ[\"AZURE_OPENAI_DEPLOYMENT\"] = \"gpt-4o\"  # Must match Azure\n",
        "os.environ[\"AZURE_OPENAI_API_VERSION\"] = \"2024-08-01-preview\"  # Recommended version\n",
        "\n",
        "# Initialize AzureChatOpenAI (Fixed format)\n",
        "llm = AzureChatOpenAI(\n",
        "    azure_endpoint=os.environ[\"AZURE_OPENAI_ENDPOINT\"],\n",
        "    azure_deployment=os.environ[\"AZURE_OPENAI_DEPLOYMENT\"],\n",
        "    api_key=os.environ[\"AZURE_OPENAI_API_KEY\"],\n",
        "    api_version=os.environ[\"AZURE_OPENAI_API_VERSION\"],\n",
        "    temperature=0.0\n",
        ")\n",
        "\n",
        "# Test the connection with .invoke()\n",
        "try:\n",
        "    response = llm.invoke(\n",
        "        [{\"role\": \"system\", \"content\": \"Hello, can you confirm this works?\"}]\n",
        "    )\n",
        "    print(\"✅ Azure OpenAI is working!\")\n",
        "    print(response)\n",
        "except Exception as e:\n",
        "    print(\"❌ Azure OpenAI is NOT working:\", e)\n",
        "\n",
        "# Create LLM->Graph transformer\n",
        "llm_transformer = LLMGraphTransformer(llm=llm)\n"
      ],
      "metadata": {
        "colab": {
          "base_uri": "https://localhost:8080/"
        },
        "id": "KkOEKYKzNehU",
        "outputId": "bb9c3aea-b21d-4372-8c00-8aacb462f6b5"
      },
      "execution_count": null,
      "outputs": [
        {
          "output_type": "stream",
          "name": "stdout",
          "text": [
            "✅ Azure OpenAI is working!\n",
            "content='Yes, this works! How can I assist you today? 😊' additional_kwargs={'refusal': None} response_metadata={'token_usage': {'completion_tokens': 13, 'prompt_tokens': 15, 'total_tokens': 28, 'completion_tokens_details': {'accepted_prediction_tokens': 0, 'audio_tokens': 0, 'reasoning_tokens': 0, 'rejected_prediction_tokens': 0}, 'prompt_tokens_details': {'audio_tokens': 0, 'cached_tokens': 0}}, 'model_name': 'gpt-4o-2024-11-20', 'system_fingerprint': 'fp_f3927aa00d', 'prompt_filter_results': [{'prompt_index': 0, 'content_filter_results': {}}], 'finish_reason': 'stop', 'logprobs': None, 'content_filter_results': {'hate': {'filtered': False, 'severity': 'safe'}, 'protected_material_code': {'filtered': False, 'detected': False}, 'protected_material_text': {'filtered': False, 'detected': False}, 'self_harm': {'filtered': False, 'severity': 'safe'}, 'sexual': {'filtered': False, 'severity': 'safe'}, 'violence': {'filtered': False, 'severity': 'safe'}}} id='run-94716eb1-479a-4493-8815-60e0922b0caf-0' usage_metadata={'input_tokens': 15, 'output_tokens': 13, 'total_tokens': 28, 'input_token_details': {'audio': 0, 'cache_read': 0}, 'output_token_details': {'audio': 0, 'reasoning': 0}}\n"
          ]
        }
      ]
    },
    {
      "cell_type": "code",
      "source": [
        "!neo4j start"
      ],
      "metadata": {
        "colab": {
          "base_uri": "https://localhost:8080/"
        },
        "id": "w-Rs4VW0ByrT",
        "outputId": "52cf98ec-c4de-4154-930d-1df7f1d58bc9"
      },
      "execution_count": null,
      "outputs": [
        {
          "output_type": "stream",
          "name": "stdout",
          "text": [
            "/bin/bash: line 1: neo4j: command not found\n"
          ]
        }
      ]
    },
    {
      "cell_type": "code",
      "source": [
        "from neo4j import GraphDatabase\n",
        "\n",
        "# URI examples: \"neo4j://localhost\", \"neo4j+s://xxx.databases.neo4j.io\"\n",
        "URI = \"neo4j+s://8ee3c741.databases.neo4j.io\"\n",
        "AUTH = (\"neo4j\", \"password\")\n",
        "\n",
        "with GraphDatabase.driver(URI, auth=AUTH) as driver:\n",
        "    driver.verify_connectivity()"
      ],
      "metadata": {
        "id": "TgMQH95dG8BV"
      },
      "execution_count": null,
      "outputs": []
    },
    {
      "cell_type": "markdown",
      "source": [
        "Making a **small graph using text** from website on Neo4jAura\n",
        "\n",
        "---\n",
        "\n"
      ],
      "metadata": {
        "id": "ifBsXcP39jjJ"
      }
    },
    {
      "cell_type": "code",
      "source": [
        "#Provide text from Bosch power tools\n",
        "text = \"\"\"\n",
        "The Bosch GNH18V-18M is an 18V Brushless 18-gauge Brad Nailer offering cordless convenience.\n",
        "It uses a CORE18V 4 Ah battery, delivering up to 2,000 nails per charge.\n",
        "Key features include a Dry-fire lockout to prevent damage,\n",
        "and an intuitive user interface toggling between single and bump-fire modes.\n",
        "\"\"\"\n",
        "\n",
        "documents = [Document(page_content=text)]\n",
        "\n"
      ],
      "metadata": {
        "id": "TsH37KEYJJLP"
      },
      "execution_count": null,
      "outputs": []
    },
    {
      "cell_type": "code",
      "source": [
        "#Convert to Graph\n",
        "graph_docs = llm_transformer.convert_to_graph_documents(documents)\n",
        "\n",
        "# Initialize the Neo4jGraph object with URI and authentication details\n",
        "from langchain_community.graphs import Neo4jGraph # Import the necessary class\n",
        "graph = Neo4jGraph(url=URI, username=AUTH[0], password=AUTH[1])\n",
        "\n",
        "if graph_docs:\n",
        "    # Print extracted info\n",
        "    for node in graph_docs[0].nodes:\n",
        "        print(\"Node =>\", node)\n",
        "    for rel in graph_docs[0].relationships:\n",
        "        print(\"Relation =>\", rel)\n",
        "    # Insert into Neo4j\n",
        "    graph.add_graph_documents(graph_docs)"
      ],
      "metadata": {
        "colab": {
          "base_uri": "https://localhost:8080/"
        },
        "id": "L38KBJ7dPZuK",
        "outputId": "f95228a8-c7ad-4feb-a62b-2ec5a8ead31e"
      },
      "execution_count": null,
      "outputs": [
        {
          "output_type": "stream",
          "name": "stderr",
          "text": [
            "<ipython-input-18-6061cdef3003>:6: LangChainDeprecationWarning: The class `Neo4jGraph` was deprecated in LangChain 0.3.8 and will be removed in 1.0. An updated version of the class exists in the :class:`~langchain-neo4j package and should be used instead. To use it run `pip install -U :class:`~langchain-neo4j` and import as `from :class:`~langchain_neo4j import Neo4jGraph``.\n",
            "  graph = Neo4jGraph(url=URI, username=AUTH[0], password=AUTH[1])\n"
          ]
        },
        {
          "output_type": "stream",
          "name": "stdout",
          "text": [
            "Node => id='Bosch Gnh18V-18M' type='Product' properties={}\n",
            "Node => id='Core18V 4 Ah Battery' type='Product' properties={}\n",
            "Node => id='Dry-Fire Lockout' type='Feature' properties={}\n",
            "Node => id='Intuitive User Interface' type='Feature' properties={}\n",
            "Node => id='Single-Fire Mode' type='Feature' properties={}\n",
            "Node => id='Bump-Fire Mode' type='Feature' properties={}\n",
            "Relation => source=Node(id='Bosch Gnh18V-18M', type='Product', properties={}) target=Node(id='Core18V 4 Ah Battery', type='Product', properties={}) type='USES' properties={}\n",
            "Relation => source=Node(id='Bosch Gnh18V-18M', type='Product', properties={}) target=Node(id='Dry-Fire Lockout', type='Feature', properties={}) type='HAS_FEATURE' properties={}\n",
            "Relation => source=Node(id='Bosch Gnh18V-18M', type='Product', properties={}) target=Node(id='Intuitive User Interface', type='Feature', properties={}) type='HAS_FEATURE' properties={}\n",
            "Relation => source=Node(id='Intuitive User Interface', type='Feature', properties={}) target=Node(id='Single-Fire Mode', type='Feature', properties={}) type='TOGGLES_BETWEEN' properties={}\n",
            "Relation => source=Node(id='Intuitive User Interface', type='Feature', properties={}) target=Node(id='Bump-Fire Mode', type='Feature', properties={}) type='TOGGLES_BETWEEN' properties={}\n"
          ]
        }
      ]
    },
    {
      "cell_type": "markdown",
      "source": [
        "Retrieving **data from the graph**\n",
        "\n",
        "---\n",
        "\n",
        "\n"
      ],
      "metadata": {
        "id": "kzKd3dG-9c4E"
      }
    },
    {
      "cell_type": "code",
      "source": [
        "from neo4j import GraphDatabase\n",
        "\n",
        "class Neo4jQuery:\n",
        "    def __init__(self, uri, user, password):\n",
        "        self.driver = GraphDatabase.driver(uri, auth=(user, password))\n",
        "\n",
        "    def close(self):\n",
        "        self.driver.close()\n",
        "\n",
        "    def fetch_tool_features(self, tool_name):\n",
        "        query = \"\"\"\n",
        "        MATCH (t:Product {id: $tool_name})-[:HAS_FEATURE]->(f:Feature)\n",
        "        RETURN f.id AS feature_name\n",
        "        \"\"\"\n",
        "        with self.driver.session() as session:\n",
        "            result = session.run(query, tool_name=tool_name)\n",
        "            return [record[\"feature_name\"] for record in result]\n",
        "\n",
        "    def fetch_tool_info(self, tool_name):\n",
        "        \"\"\"Fetches tool information from Neo4j.\"\"\"\n",
        "        # This is a placeholder. You'll need to define the actual query\n",
        "        # to retrieve the necessary tool information.\n",
        "        # Adjust the query and return value as needed.\n",
        "        query = \"\"\"\n",
        "            MATCH (t:Product {id: $tool_name})\n",
        "            RETURN t\n",
        "        \"\"\"\n",
        "        with self.driver.session() as session:\n",
        "            result = session.run(query, tool_name=tool_name)\n",
        "            # Process the result to extract the desired tool information.\n",
        "            # For example, you might return a dictionary of tool attributes.\n",
        "            tool_info = {}\n",
        "            for record in result:\n",
        "                tool_node = record[\"t\"]\n",
        "                tool_info[\"features\"] = list(tool_node.get(\"features\", []))\n",
        "                # Add more properties as needed\n",
        "            return tool_info\n",
        "\n",
        "# Connect to Neo4j\n",
        "neo4j_query = Neo4jQuery(URI, AUTH[0], AUTH[1])\n",
        "\n",
        "# Fetch features for Bosch Gnh18V-18M\n",
        "tool_features = neo4j_query.fetch_tool_features(\"Bosch Gnh18V-18M\")\n",
        "print(\"Retrieved Features:\", tool_features)"
      ],
      "metadata": {
        "colab": {
          "base_uri": "https://localhost:8080/"
        },
        "id": "A2z8xy8dUPxA",
        "outputId": "45d4d420-8c31-4447-987f-bd7dfa90fe24"
      },
      "execution_count": null,
      "outputs": [
        {
          "output_type": "stream",
          "name": "stdout",
          "text": [
            "Retrieved Features: ['Dry-Fire Lockout', 'Intuitive User Interface']\n"
          ]
        }
      ]
    },
    {
      "cell_type": "code",
      "source": [
        "def extract_tool_references(text):\n",
        "    \"\"\"\n",
        "    Extract potential tool names & numeric references using regex.\n",
        "    \"\"\"\n",
        "    tool_pattern = re.compile(r\"\\b(Bosch\\s[\\w\\d-]+)\\b\", re.IGNORECASE)  # Detect \"Bosch Gnh18V-18M\"\n",
        "    number_pattern = re.compile(r\"(\\d+\\.?\\d*)\\s?(Nm|V|RPM|PSI)\")  # Detect torque/voltage/speed\n",
        "\n",
        "    tool_matches = tool_pattern.findall(text)\n",
        "    number_matches = number_pattern.findall(text)\n",
        "\n",
        "    extracted_numbers = [f\"{num} {unit}\" for num, unit in number_matches]\n",
        "\n",
        "    return {\n",
        "        \"tools\": list(set(tool_matches)),  # Remove duplicates\n",
        "        \"numbers\": extracted_numbers\n",
        "    }"
      ],
      "metadata": {
        "id": "rAJyUcFY3KdJ"
      },
      "execution_count": null,
      "outputs": []
    },
    {
      "cell_type": "code",
      "source": [
        "!pip install pymupdf"
      ],
      "metadata": {
        "colab": {
          "base_uri": "https://localhost:8080/"
        },
        "id": "kdvGXMB1fklB",
        "outputId": "b182d6b7-32b5-4d3a-e787-c3fcd6dff76c"
      },
      "execution_count": null,
      "outputs": [
        {
          "output_type": "stream",
          "name": "stdout",
          "text": [
            "Collecting pymupdf\n",
            "  Downloading pymupdf-1.25.3-cp39-abi3-manylinux2014_x86_64.manylinux_2_17_x86_64.whl.metadata (3.4 kB)\n",
            "Downloading pymupdf-1.25.3-cp39-abi3-manylinux2014_x86_64.manylinux_2_17_x86_64.whl (20.0 MB)\n",
            "\u001b[2K   \u001b[90m━━━━━━━━━━━━━━━━━━━━━━━━━━━━━━━━━━━━━━━━\u001b[0m \u001b[32m20.0/20.0 MB\u001b[0m \u001b[31m75.5 MB/s\u001b[0m eta \u001b[36m0:00:00\u001b[0m\n",
            "\u001b[?25hInstalling collected packages: pymupdf\n",
            "Successfully installed pymupdf-1.25.3\n"
          ]
        }
      ]
    },
    {
      "cell_type": "markdown",
      "source": [
        "Generating large **synthetic data via Azure Open AI API** key, Scaling the data"
      ],
      "metadata": {
        "id": "eBR2mPaS6r7T"
      }
    },
    {
      "cell_type": "code",
      "source": [
        "import openai\n",
        "import pandas as pd\n",
        "import os\n",
        "import re\n",
        "\n",
        "# --- Azure OpenAI Setup ---\n",
        "client = openai.AzureOpenAI(\n",
        "    api_key=os.environ[\"AZURE_OPENAI_API_KEY\"],\n",
        "    api_version=os.environ[\"AZURE_OPENAI_API_VERSION\"],\n",
        "    azure_endpoint=os.environ[\"AZURE_OPENAI_ENDPOINT\"]\n",
        ")\n",
        "\n",
        "def generate_synthetic_reviews(n=500):\n",
        "    \"\"\"Generate structured synthetic reviews using OpenAI and return raw response.\"\"\"\n",
        "    system_prompt = f\"\"\"\n",
        "    You are a power tool expert generating **structured customer reviews** in CSV format.\n",
        "\n",
        "    **CSV Format (each row must follow this structure):**\n",
        "    Product_ID, Product_Name, Category, Review, Review_Date\n",
        "\n",
        "    **Rules:**\n",
        "    - **Product_Name & Category**: Use realistic Bosch power tools (drills, saws, grinders, etc.).\n",
        "    - **Review**:\n",
        "      - Must describe **realistic power tool features** (e.g., torque, battery life).\n",
        "      - **10% of reviews should have errors**:\n",
        "        - **Semantic Errors** (wrong tool names, typos).\n",
        "        - **Technical Errors** (incorrect torque, voltage, material use).\n",
        "    - **Date Format**: MM/DD/YYYY\n",
        "    - **Strictly output valid CSV rows. DO NOT add explanations.**\n",
        "    \"\"\"\n",
        "\n",
        "    user_prompt = f\"Generate {n} structured, varied customer reviews in the exact format above.\"\n",
        "\n",
        "    response = client.chat.completions.create(\n",
        "        model=\"gpt-4o\",\n",
        "        messages=[\n",
        "            {\"role\": \"system\", \"content\": system_prompt},\n",
        "            {\"role\": \"user\", \"content\": user_prompt}\n",
        "        ],\n",
        "        temperature=0.7\n",
        "    )\n",
        "\n",
        "    output_text = response.choices[0].message.content.strip()\n",
        "\n",
        "    # Print raw response for debugging\n",
        "    print(\"\\n **Raw API Response:**\\n\", output_text, \"\\n\")\n",
        "\n",
        "    return output_text\n",
        "\n",
        "def parse_ai_data(ai_data):\n",
        "    \"\"\"\n",
        "    Parses AI-generated CSV-like text into a structured Pandas DataFrame.\n",
        "    - Removes unwanted words like \"csv\".\n",
        "    - Ensures proper column separation.\n",
        "    - Handles common formatting issues.\n",
        "    \"\"\"\n",
        "    try:\n",
        "        # Remove unwanted prefixes (like \"csv\" or extra numbers at the start)\n",
        "        clean_data = re.sub(r\"^(csv\\s+)\", \"\", ai_data, count=1)\n",
        "\n",
        "        # Split rows by newline\n",
        "        rows = clean_data.strip().split(\"\\n\")\n",
        "\n",
        "        # Ensure correct CSV-like structure\n",
        "        structured_rows = [row.strip() for row in rows if row.count(\",\") >= 4]  # At least 4 commas to ensure 5 columns\n",
        "\n",
        "        # Split into columns\n",
        "        parsed_data = [row.split(\",\", maxsplit=4) for row in structured_rows]  # Ensures only 5 columns\n",
        "\n",
        "        # Convert to DataFrame\n",
        "        df = pd.DataFrame(parsed_data, columns=[\"Product_ID\", \"Product_Name\", \"Category\", \"Review\", \"Review_Date\"])\n",
        "\n",
        "        # Ensure Review_Date is in proper date format\n",
        "        df[\"Review_Date\"] = pd.to_datetime(df[\"Review_Date\"], errors=\"coerce\")\n",
        "\n",
        "        return df\n",
        "\n",
        "    except Exception as e:\n",
        "        print(f\" Error processing AI-generated data: {e}\")\n",
        "        return None\n",
        "\n",
        "# --- Generate 10 Reviews (for Debugging) ---\n",
        "num_reviews = 500\n",
        "ai_data = generate_synthetic_reviews(num_reviews)\n",
        "\n",
        "if ai_data:\n",
        "    print(\"\\n✅ **AI-Generated Data Successfully Retrieved**\")\n",
        "\n",
        "    # Parse AI data into structured format\n",
        "    df = parse_ai_data(ai_data)\n",
        "\n",
        "    if df is not None:\n",
        "\n",
        "        # Save to CSV\n",
        "        csv_path = \"/content/Reviews500.csv\"\n",
        "        df.to_csv(csv_path, index=False)\n",
        "\n",
        "        print(f\"\\n **Structured Data Saved:** {csv_path}\")\n"
      ],
      "metadata": {
        "id": "Q5e-kKZJ5kkK",
        "colab": {
          "base_uri": "https://localhost:8080/"
        },
        "outputId": "f6033aac-30f6-42c9-bca2-b114425afbf1"
      },
      "execution_count": null,
      "outputs": [
        {
          "output_type": "stream",
          "name": "stdout",
          "text": [
            "\n",
            " **Raw API Response:**\n",
            " ```csv\n",
            "Product_ID,Product_Name,Category,Review,Review_Date\n",
            "101,Bosch GSB 18V-55 Cordless Drill,Drills,\"The drill has great torque and the battery lasts for hours. Perfect for heavy-duty work.\",01/15/2023\n",
            "102,Bosch GCM12SD Glide Miter Saw,Saws,\"Extremely precise and smooth cuts. The dual-bevel design is a game-changer for angled cuts.\",03/22/2023\n",
            "103,Bosch GWS8-45 Angle Grinder,Grinders,\"Compact and powerful. The grip is comfortable, and the motor doesn't overheat.\",02/11/2023\n",
            "104,Bosch PS31-2A Cordless Drill,Drills,\"Lightweight and easy to handle. The torque settings are versatile for different materials.\",04/18/2023\n",
            "105,Bosch GTS1031 Portable Table Saw,Saws,\"The portability is excellent, but the fence alignment takes some effort to set up correctly.\",05/02/2023\n",
            "106,Bosch GOP40-30C Oscillating Multi-Tool,Multi-Tools,\"The Starlock interface is incredibly efficient for blade changes. A solid multitasker.\",06/14/2023\n",
            "107,Bosch GWS13-50VSP Angle Grinder,Grinders,\"Variable speed control is a standout feature. Handles metal cutting effortlessly.\",07/09/2023\n",
            "108,Bosch DDB181-02 Cordless Drill,Drills,\"Not as powerful as I expected for a Bosch drill. Struggles a bit with harder wood.\",08/01/2023\n",
            "109,Bosch CM10GD Miter Saw,Saws,\"The axial-glide system makes it compact and smooth to operate. Highly recommend it.\",09/13/2023\n",
            "110,Bosch PBD 40 Bench Drill,Drills,\"Excellent precision for detailed work. The digital display is very helpful.\",10/05/2023\n",
            "111,Bosch GWS18V-45 Cordless Grinder,Grinders,\"Battery life is decent, but the motor lacks the punch for prolonged metal grinding.\",11/22/2023\n",
            "112,Bosch 1617EVS Router,Routers,\"The variable speed dial is very handy, but the motor could be quieter.\",12/31/2023\n",
            "113,Bosch GKS18V-25 Circular Saw,Saws,\"Great saw for woodworking! Easy blade changes and precise cuts every time.\",01/10/2023\n",
            "114,Bosch GSB 12V-15 Cordless Drill,Drills,\"Compact and lightweight, but struggles with tougher concrete walls.\",02/14/2023\n",
            "115,Bosch GEX18V-5 Orbital Sander,Sanders,\"Dust collection is top-notch, making it a clean experience for fine sanding work.\",03/20/2023\n",
            "116,Bosch GWS9-45 Angle Grinder,Grinders,\"Powerful motor, but I wish it came with a better guard design for safety.\",04/25/2023\n",
            "117,Bosch GCM8SJL Sliding Miter Saw,Saws,\"Smooth operation and great dust extraction system. Perfect for precise cuts.\",05/17/2023\n",
            "118,Bosch PSB 18 LI-2 Cordless Drill,Drills,\"Efficient for light tasks, but the chuck loosens when drilling hard surfaces.\",06/27/2023\n",
            "119,Bosch GST18V-50 Jigsaw,Saws,\"Very ergonomic and the blade tracking is excellent. Cuts curves with ease.\",07/30/2023\n",
            "120,Bosch GOP18V-28 Multi-Tool,Multi-Tools,\"Versatile and durable, but the battery drains a bit quickly under heavy use.\",08/12/2023\n",
            "121,Bosch GWS10-45P Angle Grinder,Grinders,\"Comfortable paddle switch and excellent power for its size.\",09/06/2023\n",
            "122,Bosch GCM12SD Miter Saw,Saws,\"The saw is perfect for woodworking, but the blade included is not very sharp.\",10/18/2023\n",
            "123,Bosch GSB 18V-85 C Drill Driver,Drills,\"Delivers unmatched power. The brushless motor is efficient and reliable.\",11/25/2023\n",
            "124,Bosch GWS8-45E Angle Grinder,Grinders,\"Good torque for metal grinding, but the tool heats up quickly during extended use.\",12/08/2023\n",
            "125,Bosch GSR12V-140FC Cordless Drill,Drills,\"Versatile with its Flexiclick system, but the torque feels underwhelming.\",01/04/2023\n",
            "126,Bosch GTS10XC Table Saw,Saws,\"The saw is extremely stable and accurate, but it's quite heavy to move around.\",02/19/2023\n",
            "127,Bosch GWS18V-50 Cordless Grinder,Grinders,\"The battery life could be better, but it works well for most grinding tasks.\",03/11/2023\n",
            "128,Bosch 11255VSR Rotary Hammer,Drills,\"Excellent for drilling into concrete. The vibration control is a huge plus.\",04/07/2023\n",
            "129,Bosch GSS20-40 Orbital Sander,Sanders,\"The sanding pad holds up well, but the dust collection could be improved.\",05/29/2023\n",
            "130,Bosch CM8M Compact Miter Saw,Saws,\"Perfect for smaller workshops. Lightweight yet robust in performance.\",06/13/2023\n",
            "131,Bosch GSB 12V-30 Cordless Drill,Drills,\"Battery lasts all day, but the speed settings lack clarity.\",07/01/2023\n",
            "132,Bosch GWS13-60 High-Performance Grinder,Grinders,\"Cuts through steel effortlessly, but the handle isn't as ergonomic as expected.\",08/22/2023\n",
            "133,Bosch GCM10SD Miter Saw,Saws,\"Highly precise, but the sawdust collection bag doesn't work efficiently.\",09/16/2023\n",
            "134,Bosch GSR18V-190 Cordless Drill,Drills,\"The drill's speed control is intuitive, but the chuck occasionally slips.\",10/08/2023\n",
            "135,Bosch GWS12V-76 Cordless Mini Grinder,Grinders,\"Small and portable, but not powerful enough for heavy-duty tasks.\",11/14/2023\n",
            "136,Bosch GBH18V-26 Rotary Hammer,Drills,\"Exceptional performance on concrete, though the tool feels a bit heavy.\",12/21/2023\n",
            "137,Bosch GEX33-6 Orbital Sander,Sanders,\"Fantastic finish quality, but the dust bag doesn't fit tightly.\",01/18/2023\n",
            "138,Bosch GKT13-225 Track Saw,Saws,\"Accurate and smooth cuts. The track system is intuitive and easy to use.\",02/05/2023\n",
            "139,Bosch GSB 18V-50 Cordless Drill,Drills,\"Durable and powerful. It handles concrete walls with ease.\",03/14/2023\n",
            "140,Bosch GWS 7-115 Angle Grinder,Grinders,\"Compact and lightweight, but the motor lacks high-end power.\",04/09/2023\n",
            "141,Bosch GCM18V-08 Miter Saw,Saws,\"The cordless design is convenient, but the runtime could be longer.\",05/06/2023\n",
            "142,Bosch PS42-02 Impact Driver,Drills,\"Drives screws effortlessly, but it's slightly noisier than expected.\",06/22/2023\n",
            "143,Bosch GWS18V-10 Cordless Grinder,Grinders,\"Battery runtime is disappointing, but it handles light tasks well.\",07/19/2023\n",
            "144,Bosch GSS18V-40 Orbital Sander,Sanders,\"Great for finishing work, but I wish it had a variable speed option.\",08/31/2023\n",
            "145,Bosch GKT55 Track Saw,Saws,\"The precision is unmatched, but the included blade isn't very durable.\",09/27/2023\n",
            "146,Bosch GSB 18V-28 Cordless Drill,Drills,\"Reliable and versatile. Works well for both wood and masonry.\",10/12/2023\n",
            "147,Bosch GWS18V-75 Cordless Grinder,Grinders,\"Powerful and efficient, but the grip becomes uncomfortable after extended use.\",11/03/2023\n",
            "148,Bosch GSR18V-60C Drill Driver,Drills,\"The Bluetooth connectivity is a great feature, but the app is clunky.\",12/19/2023\n",
            "149,Bosch GEX34-6 Orbital Sander,Sanders,\"Smooth operation and minimal vibration. Dust extraction is excellent.\",01/08/2023\n",
            "150,Bosch GKS12V-26 Circular Saw,Saws,\"Compact and precise, but the battery life is shorter than expected.\",02/03/2023\n",
            "``` \n",
            "\n",
            "*Note: This is a partial output with 50 reviews. Generating all 500 reviews in this format would exceed the character limit allowed in a single response.* \n",
            "\n",
            "\n",
            "✅ **AI-Generated Data Successfully Retrieved**\n",
            "\n",
            " **Structured Data Saved:** /content/Reviews500.csv\n"
          ]
        },
        {
          "output_type": "stream",
          "name": "stderr",
          "text": [
            "<ipython-input-21-f7c4fbe844cf>:74: UserWarning: Could not infer format, so each element will be parsed individually, falling back to `dateutil`. To ensure parsing is consistent and as-expected, please specify a format.\n",
            "  df[\"Review_Date\"] = pd.to_datetime(df[\"Review_Date\"], errors=\"coerce\")\n"
          ]
        }
      ]
    },
    {
      "cell_type": "code",
      "source": [
        "from google.colab import files\n",
        "\n",
        "# Save DataFrame to CSV\n",
        "csv_path = \"100Reviews_new.csv\"\n",
        "df.to_csv(csv_path, index=False)\n",
        "\n",
        "# Download the file\n",
        "files.download(csv_path)"
      ],
      "metadata": {
        "colab": {
          "base_uri": "https://localhost:8080/",
          "height": 17
        },
        "id": "iEWQVk1CoT-B",
        "outputId": "8a4dfb9f-3c5e-4eb5-a7af-84d96dd89712"
      },
      "execution_count": null,
      "outputs": [
        {
          "output_type": "display_data",
          "data": {
            "text/plain": [
              "<IPython.core.display.Javascript object>"
            ],
            "application/javascript": [
              "\n",
              "    async function download(id, filename, size) {\n",
              "      if (!google.colab.kernel.accessAllowed) {\n",
              "        return;\n",
              "      }\n",
              "      const div = document.createElement('div');\n",
              "      const label = document.createElement('label');\n",
              "      label.textContent = `Downloading \"${filename}\": `;\n",
              "      div.appendChild(label);\n",
              "      const progress = document.createElement('progress');\n",
              "      progress.max = size;\n",
              "      div.appendChild(progress);\n",
              "      document.body.appendChild(div);\n",
              "\n",
              "      const buffers = [];\n",
              "      let downloaded = 0;\n",
              "\n",
              "      const channel = await google.colab.kernel.comms.open(id);\n",
              "      // Send a message to notify the kernel that we're ready.\n",
              "      channel.send({})\n",
              "\n",
              "      for await (const message of channel.messages) {\n",
              "        // Send a message to notify the kernel that we're ready.\n",
              "        channel.send({})\n",
              "        if (message.buffers) {\n",
              "          for (const buffer of message.buffers) {\n",
              "            buffers.push(buffer);\n",
              "            downloaded += buffer.byteLength;\n",
              "            progress.value = downloaded;\n",
              "          }\n",
              "        }\n",
              "      }\n",
              "      const blob = new Blob(buffers, {type: 'application/binary'});\n",
              "      const a = document.createElement('a');\n",
              "      a.href = window.URL.createObjectURL(blob);\n",
              "      a.download = filename;\n",
              "      div.appendChild(a);\n",
              "      a.click();\n",
              "      div.remove();\n",
              "    }\n",
              "  "
            ]
          },
          "metadata": {}
        },
        {
          "output_type": "display_data",
          "data": {
            "text/plain": [
              "<IPython.core.display.Javascript object>"
            ],
            "application/javascript": [
              "download(\"download_4e18538e-88a5-4752-8a33-fd03156fac87\", \"100Reviews_new.csv\", 4983)"
            ]
          },
          "metadata": {}
        }
      ]
    },
    {
      "cell_type": "markdown",
      "source": [
        "Let's define the graph now"
      ],
      "metadata": {
        "id": "LCGUCwejUz_1"
      }
    },
    {
      "cell_type": "markdown",
      "source": [
        "testing below"
      ],
      "metadata": {
        "id": "aXWalWAtXTFF"
      }
    },
    {
      "cell_type": "code",
      "source": [
        "from neo4j import GraphDatabase\n",
        "\n",
        "URI = \"neo4j+s://8ee3c741.databases.neo4j.io\"\n",
        "AUTH = (\"neo4j\", \"your password\")\n",
        "\n",
        "driver = GraphDatabase.driver(URI, auth=AUTH)\n",
        "\n",
        "def create_constraints():\n",
        "    constraints = [\n",
        "        \"CREATE CONSTRAINT IF NOT EXISTS FOR (t:Tool)       REQUIRE t.name IS UNIQUE\",\n",
        "        \"CREATE CONSTRAINT IF NOT EXISTS FOR (s:Scenario)   REQUIRE s.scenarioID IS UNIQUE\",\n",
        "        \"CREATE CONSTRAINT IF NOT EXISTS FOR (c:Constraint) REQUIRE c.id IS UNIQUE\",\n",
        "    ]\n",
        "    with driver.session() as session:\n",
        "        for cql in constraints:\n",
        "            session.run(cql)\n",
        "        print(\"✅ Created/ensured constraints for Tools, Scenarios, Constraints\")\n",
        "\n",
        "create_constraints()\n"
      ],
      "metadata": {
        "colab": {
          "base_uri": "https://localhost:8080/",
          "height": 384
        },
        "id": "8hfX1OC1QzFx",
        "outputId": "0e6bd239-9455-4104-e54e-bdca9c3544b9",
        "collapsed": true
      },
      "execution_count": null,
      "outputs": [
        {
          "output_type": "error",
          "ename": "ModuleNotFoundError",
          "evalue": "No module named 'neo4j'",
          "traceback": [
            "\u001b[0;31m---------------------------------------------------------------------------\u001b[0m",
            "\u001b[0;31mModuleNotFoundError\u001b[0m                       Traceback (most recent call last)",
            "\u001b[0;32m<ipython-input-1-edff2071840a>\u001b[0m in \u001b[0;36m<cell line: 0>\u001b[0;34m()\u001b[0m\n\u001b[0;32m----> 1\u001b[0;31m \u001b[0;32mimport\u001b[0m \u001b[0mneo4j\u001b[0m\u001b[0;34m\u001b[0m\u001b[0;34m\u001b[0m\u001b[0m\n\u001b[0m\u001b[1;32m      2\u001b[0m \u001b[0;32mfrom\u001b[0m \u001b[0mneo4j\u001b[0m \u001b[0;32mimport\u001b[0m \u001b[0mGraphDatabase\u001b[0m\u001b[0;34m\u001b[0m\u001b[0;34m\u001b[0m\u001b[0m\n\u001b[1;32m      3\u001b[0m \u001b[0;34m\u001b[0m\u001b[0m\n\u001b[1;32m      4\u001b[0m \u001b[0;31m# Connect to Neo4j Aura (or local Neo4j)\u001b[0m\u001b[0;34m\u001b[0m\u001b[0;34m\u001b[0m\u001b[0m\n\u001b[1;32m      5\u001b[0m \u001b[0muri\u001b[0m \u001b[0;34m=\u001b[0m \u001b[0;34m\"neo4j+s://8ee3c741.databases.neo4j.io\"\u001b[0m\u001b[0;34m\u001b[0m\u001b[0;34m\u001b[0m\u001b[0m\n",
            "\u001b[0;31mModuleNotFoundError\u001b[0m: No module named 'neo4j'",
            "",
            "\u001b[0;31m---------------------------------------------------------------------------\u001b[0;32m\nNOTE: If your import is failing due to a missing package, you can\nmanually install dependencies using either !pip or !apt.\n\nTo view examples of installing some common dependencies, click the\n\"Open Examples\" button below.\n\u001b[0;31m---------------------------------------------------------------------------\u001b[0m\n"
          ],
          "errorDetails": {
            "actions": [
              {
                "action": "open_url",
                "actionText": "Open Examples",
                "url": "/notebooks/snippets/importing_libraries.ipynb"
              }
            ]
          }
        }
      ]
    },
    {
      "cell_type": "code",
      "source": [
        "!pip uninstall fitz -y #remove the incorrect install\n",
        "!pip install pymupdf # install the correct package\n",
        "\n",
        "import pymupdf as fitz"
      ],
      "metadata": {
        "id": "9GmeSQHsXEvB"
      },
      "execution_count": null,
      "outputs": []
    },
    {
      "cell_type": "code",
      "source": [
        "import fitz  # PyMuPDF\n",
        "\n",
        "def extract_text_from_pdf(pdf_path):\n",
        "    text = \"\"\n",
        "    doc = fitz.open(pdf_path)\n",
        "    for page in doc:\n",
        "        text += page.get_text() + \"\\n\"\n",
        "    return text\n",
        "\n",
        "pdf_path = \"/content/Specification Sheet (1).pdf\"\n",
        "raw_pdf_text = extract_text_from_pdf(pdf_path)\n",
        "print(\"PDF text snippet:\", raw_pdf_text[:500], \"...\")"
      ],
      "metadata": {
        "id": "O2jRVndKXBsF"
      },
      "execution_count": null,
      "outputs": []
    },
    {
      "cell_type": "code",
      "source": [
        "import openai\n",
        "import os\n",
        "from langchain_experimental.graph_transformers import LLMGraphTransformer\n",
        "from langchain.docstore.document import Document\n",
        "from langchain_openai import AzureChatOpenAI\n",
        "\n",
        "client = openai.AzureOpenAI(\n",
        "    api_key=os.environ[\"AZURE_OPENAI_API_KEY\"],\n",
        "    api_version=os.environ[\"AZURE_OPENAI_API_VERSION\"],\n",
        "    azure_endpoint=os.environ[\"AZURE_OPENAI_ENDPOINT\"]\n",
        ")\n",
        "\n",
        "\n",
        "# Initialize AzureChatOpenAI (Fixed format)\n",
        "llm = AzureChatOpenAI(\n",
        "    azure_endpoint=os.environ[\"AZURE_OPENAI_ENDPOINT\"],\n",
        "    azure_deployment=os.environ[\"AZURE_OPENAI_DEPLOYMENT\"],\n",
        "    api_key=os.environ[\"AZURE_OPENAI_API_KEY\"],\n",
        "    api_version=os.environ[\"AZURE_OPENAI_API_VERSION\"],\n",
        "    temperature=0.0\n",
        ")\n",
        "\n",
        "system_prompt = \"\"\"\n",
        "You are an AI that extracts knowledge graph objects from text.\n",
        "Focus on these node types:\n",
        "\n",
        "(:Tool)\n",
        "  name, category, brand, typicalVoltage, torqueRange, rpmRange, weight, synonyms, recommendedScenarios\n",
        "\n",
        "(:Scenario)\n",
        "  scenarioID, temperatureRange, recommendedVoltage, recommendedTorque, recommendedBattery, notes\n",
        "\n",
        "(:Constraint)\n",
        "  id, type, minValue, maxValue, unit, context\n",
        "\n",
        "Represent each node as a dictionary in a \"nodes\" array,\n",
        "and each relationship as a dictionary in a \"relationships\" array.\n",
        "\n",
        "Example Output (JSON):\n",
        "{\n",
        "  \"nodes\": [\n",
        "    {\n",
        "      \"type\": \"Tool\",\n",
        "      \"properties\": {\n",
        "        \"name\": \"Bosch GNH18V-15MA\",\n",
        "        \"category\": \"Nailer\",\n",
        "        \"brand\": \"Bosch\",\n",
        "        \"typicalVoltage\": \"18V\",\n",
        "        \"torqueRange\": \"N/A\",\n",
        "        \"rpmRange\": \"N/A\",\n",
        "        \"weight\": \"6.8 lb\",\n",
        "        \"synonyms\": [\"GNH18\", \"Bosch Nailer\"],\n",
        "        \"recommendedScenarios\": [\"cold_environment\"]\n",
        "      }\n",
        "    },\n",
        "    {\n",
        "      \"type\": \"Scenario\",\n",
        "      \"properties\": {\n",
        "        \"scenarioID\": \"cold_environment\",\n",
        "        \"temperatureRange\": \"-10 to 5C\",\n",
        "        \"recommendedVoltage\": \"18V only\",\n",
        "        \"recommendedTorque\": \"N/A\",\n",
        "        \"recommendedBattery\": \"CORE18V 4Ah\",\n",
        "        \"notes\": \"For low temperatures\"\n",
        "      }\n",
        "    }\n",
        "  ],\n",
        "  \"relationships\": [\n",
        "    {\n",
        "      \"startNode\": \"Bosch GNH18V-15MA\",\n",
        "      \"endNode\": \"cold_environment\",\n",
        "      \"type\": \"HAS_SCENARIO\",\n",
        "      \"properties\": {}\n",
        "    }\n",
        "  ]\n",
        "}\n",
        "Only output valid JSON, no extra commentary.\n",
        "\"\"\"\n",
        "\n",
        "graph_transformer = LLMGraphTransformer(\n",
        "    llm=llm  # Pass the initialized llm object\n",
        ")"
      ],
      "metadata": {
        "id": "qgNZ7z9NXPVN"
      },
      "execution_count": null,
      "outputs": []
    },
    {
      "cell_type": "code",
      "source": [
        "from langchain.docstore.document import Document\n",
        "\n",
        "document = Document(page_content=raw_pdf_text)\n",
        "\n",
        "# Possibly chunk or summarize if text is too large\n",
        "# the system_prompt argument has been removed from the call\n",
        "# to convert_to_graph_documents as it is an invalid argument.\n",
        "graph_docs = graph_transformer.convert_to_graph_documents(\n",
        "    documents=[document],\n",
        ")\n",
        "\n",
        "print(\"Extracted Graph Docs:\", graph_docs)"
      ],
      "metadata": {
        "id": "hTj_uHZAXYK2"
      },
      "execution_count": null,
      "outputs": []
    },
    {
      "cell_type": "code",
      "source": [
        "from langchain_community.graphs import Neo4jGraph\n",
        "\n",
        "graph = Neo4jGraph(url=URI, username=AUTH[0], password=AUTH[1])\n",
        "\n",
        "if graph_docs and len(graph_docs) > 0:\n",
        "    doc_graph = graph_docs[0]\n",
        "    # Print for debugging\n",
        "    print(\"Nodes =>\", doc_graph.nodes)\n",
        "    print(\"Relationships =>\", doc_graph.relationships)\n",
        "\n",
        "    # Insert into Neo4j\n",
        "    graph.add_graph_documents(graph_docs)\n",
        "    print(\"✅ Inserted the PDF-based graph into Neo4j!\")\n"
      ],
      "metadata": {
        "id": "ZdylOX1Cbhwd"
      },
      "execution_count": null,
      "outputs": []
    },
    {
      "cell_type": "code",
      "source": [
        "def insert_graph_document(doc_graph):\n",
        "    with driver.session() as session:\n",
        "        # Insert Nodes\n",
        "        for node in doc_graph.nodes:\n",
        "            node_type = node.type\n",
        "            props = node.properties\n",
        "            # Unique ID from name or scenarioID or constraintID\n",
        "            unique_id = props.get(\"name\") or props.get(\"scenarioID\") or props.get(\"id\") or f\"node_{hash(str(props))}\"\n",
        "\n",
        "            query = f\"\"\"\n",
        "            MERGE (n:{node_type} {{uniqueId: $uid}})\n",
        "            SET n += $props\n",
        "            \"\"\"\n",
        "            session.run(query, uid=unique_id, props=props)\n",
        "\n",
        "        # Insert Relationships\n",
        "        for rel in doc_graph.relationships:\n",
        "            start_id = rel.source.properties.get(\"name\") or rel.source.properties.get(\"scenarioID\") or rel.source.properties.get(\"id\")\n",
        "            end_id = rel.target.properties.get(\"name\") or rel.target.properties.get(\"scenarioID\") or rel.target.properties.get(\"id\")\n",
        "            rel_type = rel.type\n",
        "            rel_props = rel.properties or {}\n",
        "\n",
        "            query = f\"\"\"\n",
        "            MATCH (start), (end)\n",
        "            WHERE start.uniqueId = $startId AND end.uniqueId = $endId\n",
        "            MERGE (start)-[r:{rel_type}]->(end)\n",
        "            SET r += $relProps\n",
        "            \"\"\"\n",
        "            session.run(query, startId=start_id, endId=end_id, relProps=rel_props)\n",
        "\n",
        "if graph_docs and len(graph_docs) > 0:\n",
        "    doc_graph = graph_docs[0]\n",
        "    insert_graph_document(doc_graph)\n",
        "    print(\"✅ Graph inserted from PDF specification!\")\n"
      ],
      "metadata": {
        "id": "_EGoFSvRbwTb"
      },
      "execution_count": null,
      "outputs": []
    },
    {
      "cell_type": "markdown",
      "source": [
        "Testing above"
      ],
      "metadata": {
        "id": "Lkq4J36EXQTO"
      }
    },
    {
      "cell_type": "code",
      "source": [
        "from langchain_experimental.graph_transformers import LLMGraphTransformer\n",
        "\n",
        "system_prompt = \"\"\"\n",
        "You are an AI that extracts knowledge graph objects from text.\n",
        "Output your results in a structured format that matches this schema:\n",
        "\n",
        "(:Tool)\n",
        "  name, category, brand, typicalVoltage, torqueRange, rpmRange, weight, synonyms, recommendedScenarios\n",
        "\n",
        "(:Scenario)\n",
        "  scenarioID, temperatureRange, recommendedVoltage, recommendedTorque, recommendedBattery, notes\n",
        "\n",
        "(:Constraint)\n",
        "  id, type, minValue, maxValue, unit, context\n",
        "\n",
        "\n",
        "Represent each node as a dictionary in a \"nodes\" array, and each relationship as a dictionary in a \"relationships\" array.\n",
        "\n",
        "Example Output (JSON):\n",
        "{\n",
        "  \"nodes\": [\n",
        "    {\n",
        "      \"type\": \"Tool\",\n",
        "      \"properties\": {\n",
        "        \"name\": \"Bosch GSR18V-1330CN\",\n",
        "        \"category\": \"Drill\",\n",
        "        \"brand\": \"Bosch\",\n",
        "        ...\n",
        "      }\n",
        "    },\n",
        "    {\n",
        "      \"type\": \"Scenario\",\n",
        "      \"properties\": {\n",
        "        \"scenarioID\": \"cold_environment\",\n",
        "        ...\n",
        "      }\n",
        "    }\n",
        "  ],\n",
        "  \"relationships\": [\n",
        "    {\n",
        "      \"startNode\": \"...\",\n",
        "      \"endNode\": \"...\",\n",
        "      \"type\": \"HAS_SCENARIO\",\n",
        "      \"properties\": {}\n",
        "    }\n",
        "  ]\n",
        "}\n",
        "Only output valid JSON, no extra commentary.\n",
        "\"\"\"\n",
        "# Instead of llm.system_prompt = system_prompt,\n",
        "# pass the system prompt in the messages when invoking the LLM:\n",
        "def run_graph_extraction(text):\n",
        "  response = llm.invoke(\n",
        "      [{\"role\": \"system\", \"content\": system_prompt},\n",
        "       {\"role\": \"user\", \"content\": text}]\n",
        "  )\n",
        "  return response\n",
        "# Example usage:\n",
        "extracted_graph = run_graph_extraction(\"The Bosch GNH18V-18M is an 18V Brushless 18-gauge Brad Nailer offering cordless convenience.It uses a CORE18V 4 Ah battery, delivering up to 2,000 nails per charge.Key features include a Dry-fire lockout to prevent damage,and an intuitive user interface toggling between single and bump-fire modes.\")\n",
        "\n",
        "# Continue with your graph processing using 'extracted_graph'\n",
        "from langchain_experimental.graph_transformers import LLMGraphTransformer\n",
        "\n",
        "graph_transformer = LLMGraphTransformer(\n",
        "    llm=llm\n",
        ")\n"
      ],
      "metadata": {
        "id": "32zFKlVqUzwd"
      },
      "execution_count": null,
      "outputs": []
    },
    {
      "cell_type": "code",
      "source": [
        "spec_text = \"\"\"\n",
        "Bosch GSR18V-1330CN\n",
        "Category: Drill\n",
        "Voltage: 18V\n",
        "Torque: 0-1330 in-lbs\n",
        "RPM: 0-2200\n",
        "Weight: 4.6\n",
        "Synonyms: GSR18V, GSR 1330 Drill\n",
        "Scenario: cold_environment\n",
        "...\n",
        "\"\"\"\n",
        "\n",
        "document = Document(page_content=spec_text)\n"
      ],
      "metadata": {
        "id": "7myyQf8XGIRm"
      },
      "execution_count": null,
      "outputs": []
    },
    {
      "cell_type": "code",
      "source": [
        "# 2) Convert documents to graph documents\n",
        "graph_docs = graph_transformer.convert_to_graph_documents([document]) # Ensure 'document' is in a list\n",
        "\n",
        "\n",
        "# 3) Connect to Neo4j (This part may not be necessary for this code snippet)\n",
        "graph = Neo4jGraph(url=URI, username=AUTH[0], password=AUTH[1])\n",
        "\n",
        "# 4) View extracted info & insert into Neo4j\n",
        "if graph_docs:\n",
        "    doc_graph = graph_docs[0]\n",
        "    print(\"Nodes =>\", doc_graph.nodes)\n",
        "    print(\"Relationships =>\", doc_graph.relationships)\n",
        "\n",
        "    # Insert into Neo4j (This part is also not necessary for this snippet)\n",
        "    graph.add_graph_documents(graph_docs)"
      ],
      "metadata": {
        "colab": {
          "base_uri": "https://localhost:8080/"
        },
        "id": "ceTkBRr2GLyT",
        "outputId": "39863605-17ea-4e62-bbbf-d2d337032773"
      },
      "execution_count": null,
      "outputs": [
        {
          "output_type": "stream",
          "name": "stdout",
          "text": [
            "Nodes => [Node(id='Bosch Gsr18V-1330Cn', type='Product', properties={}), Node(id='Drill', type='Category', properties={}), Node(id='18V', type='Voltage', properties={}), Node(id='0-1330 In-Lbs', type='Torque', properties={}), Node(id='0-2200', type='Rpm', properties={}), Node(id='4.6', type='Weight', properties={}), Node(id='Gsr18V', type='Synonym', properties={}), Node(id='Gsr 1330 Drill', type='Synonym', properties={}), Node(id='Cold_Environment', type='Scenario', properties={})]\n",
            "Relationships => [Relationship(source=Node(id='Bosch Gsr18V-1330Cn', type='Product', properties={}), target=Node(id='Drill', type='Category', properties={}), type='BELONGS_TO', properties={}), Relationship(source=Node(id='Bosch Gsr18V-1330Cn', type='Product', properties={}), target=Node(id='18V', type='Voltage', properties={}), type='HAS', properties={}), Relationship(source=Node(id='Bosch Gsr18V-1330Cn', type='Product', properties={}), target=Node(id='0-1330 In-Lbs', type='Torque', properties={}), type='HAS', properties={}), Relationship(source=Node(id='Bosch Gsr18V-1330Cn', type='Product', properties={}), target=Node(id='0-2200', type='Rpm', properties={}), type='HAS', properties={}), Relationship(source=Node(id='Bosch Gsr18V-1330Cn', type='Product', properties={}), target=Node(id='4.6', type='Weight', properties={}), type='HAS', properties={}), Relationship(source=Node(id='Bosch Gsr18V-1330Cn', type='Product', properties={}), target=Node(id='Gsr18V', type='Synonym', properties={}), type='HAS_SYNONYM', properties={}), Relationship(source=Node(id='Bosch Gsr18V-1330Cn', type='Product', properties={}), target=Node(id='Gsr 1330 Drill', type='Synonym', properties={}), type='HAS_SYNONYM', properties={}), Relationship(source=Node(id='Bosch Gsr18V-1330Cn', type='Product', properties={}), target=Node(id='Cold_Environment', type='Scenario', properties={}), type='SUITABLE_FOR', properties={})]\n"
          ]
        }
      ]
    },
    {
      "cell_type": "code",
      "source": [
        "from neo4j import GraphDatabase\n",
        "\n",
        "uri = \"neo4j+s://8ee3c741.databases.neo4j.io\"\n",
        "driver = GraphDatabase.driver(uri, auth=(\"neo4j\", \"Add password\"))\n",
        "\n",
        "def insert_graph_document(doc_graph):\n",
        "    with driver.session() as session:\n",
        "        # Insert Nodes\n",
        "        for node in doc_graph.nodes:\n",
        "            node_type = node.type  # Access the 'type' attribute directly\n",
        "            props = node.properties # Access the 'properties' attribute directly\n",
        "            # Provide a fallback uniqueId if name or id is missing or null\n",
        "            name = props.get(\"name\") or props.get(\"id\") or f\"node_{hash(str(props))}\"\n",
        "            query = f\"\"\"\n",
        "            MERGE (n:{node_type} {{uniqueId: $uid}})\n",
        "            SET n += $properties\n",
        "            \"\"\"\n",
        "            session.run(query, uid=name, properties=props)\n",
        "\n",
        "        # Insert Relationships\n",
        "        for rel in doc_graph.relationships:\n",
        "            # Accessing relationship attributes using dot notation\n",
        "            # Use 'source' and 'target' instead of 'start_node' and 'end_node'\n",
        "            start_node_id = rel.source.properties.get('name') or rel.source.properties.get('id')  # Extract id from source node\n",
        "            end_node_id = rel.target.properties.get('name') or rel.target.properties.get('id') # Extract id from target node\n",
        "            rel_type = rel.type\n",
        "            rel_props = rel.properties\n",
        "\n",
        "            # Adjust how you find the start/end node if your node schema differs\n",
        "            query = f\"\"\"\n",
        "            MATCH (start), (end)\n",
        "            WHERE start.uniqueId = $startId AND end.uniqueId = $endId\n",
        "            MERGE (start)-[r:{rel_type}]->(end)\n",
        "            SET r += $relProps\n",
        "            \"\"\"\n",
        "            # Pass the extracted node ids instead of Node objects\n",
        "            session.run(query, startId=start_node_id, endId=end_node_id, relProps=rel_props)\n",
        "\n",
        "# Example usage:\n",
        "if graph_docs:\n",
        "    insert_graph_document(graph_docs[0])\n",
        "    print(\"✅ Inserted the extracted graph into Neo4j!\")"
      ],
      "metadata": {
        "colab": {
          "base_uri": "https://localhost:8080/"
        },
        "id": "6R1yjTqdK2W5",
        "outputId": "c93d7c54-bbaf-48a9-a2b9-39bf3b777ab3"
      },
      "execution_count": null,
      "outputs": [
        {
          "output_type": "stream",
          "name": "stdout",
          "text": [
            "✅ Inserted the extracted graph into Neo4j!\n"
          ]
        }
      ]
    },
    {
      "cell_type": "code",
      "source": [
        "import openai\n",
        "import os\n",
        "\n",
        "# --- Azure OpenAI Setup ---\n",
        "client = openai.AzureOpenAI(\n",
        "    api_key=os.environ[\"AZURE_OPENAI_API_KEY\"],\n",
        "    api_version=os.environ[\"AZURE_OPENAI_API_VERSION\"],\n",
        "    azure_deployment=os.environ[\"AZURE_OPENAI_DEPLOYMENT\"],\n",
        "    azure_endpoint=os.environ[\"AZURE_OPENAI_ENDPOINT\"]\n",
        ")\n",
        "\n",
        "\n",
        "def validate_review_with_llm(review_text, tool_specs):\n",
        "    # Fallback if not all fields are present\n",
        "    name = tool_specs.get(\"name\", \"Unknown Tool\")\n",
        "    category = tool_specs.get(\"category\", \"N/A\")\n",
        "    voltage = tool_specs.get(\"typicalVoltage\", \"N/A\")\n",
        "    torque_range = tool_specs.get(\"torqueRange\", \"N/A\")\n",
        "    rpm_range = tool_specs.get(\"rpmRange\", \"N/A\")\n",
        "    weight = tool_specs.get(\"weight\", \"N/A\")\n",
        "    synonyms = tool_specs.get(\"synonyms\", [])\n",
        "\n",
        "    system_prompt = f\"\"\"\n",
        "                      Tool Name: {name},\n",
        "                      Category: {category},\n",
        "                      Voltage: {voltage},\n",
        "                      Torque Range: {torque_range},\n",
        "                      Speed Range: {rpm_range},\n",
        "                      Weight: {weight},\n",
        "                      Synonyms: {', '.join(synonyms)}\n",
        "                      Check if review has semantic mismatch or domain error.\n",
        "                      \"\"\"\n",
        "\n",
        "    user_prompt = f\"Review: {review_text}\\n\\nIdentify any semantic or numeric (domain) issues.\"\n",
        "\n",
        "    response = client.chat.completions.create(\n",
        "        # Changed model name to 'gpt-4o' to match Azure OpenAI deployment\n",
        "        model=\"gpt-4o\",\n",
        "        messages=[\n",
        "            {\"role\": \"system\", \"content\": system_prompt},\n",
        "            {\"role\": \"user\", \"content\": user_prompt}\n",
        "        ],\n",
        "        temperature=0.2,\n",
        "        # Adding deployment_id parameter pointing to Azure OpenAI deployment\n",
        "        #deployment_id=os.environ[\"AZURE_OPENAI_DEPLOYMENT\"]\n",
        "    )\n",
        "\n",
        "    return response.choices[0].message.content\n",
        "\n",
        "# Example usage:\n",
        "tool_specs = {\n",
        "    \"name\": \"Bosch GNH18V-18M\",\n",
        "    \"category\": \"Brad Nailer\",\n",
        "    \"typicalVoltage\": \"18V\",\n",
        "    \"torqueRange\": \"N/A\",\n",
        "    \"rpmRange\": \"N/A\",\n",
        "    \"weight\": \"6.8 lb\",\n",
        "    \"synonyms\": [\"Bosch GNH18\", \"GNH18 Nailer\"]\n",
        "}\n",
        "\n",
        "review_text = (\n",
        "    \"I love my Bosch GNH18 nailer, but I run it at 2,000 RPM for extra speed. \"\n",
        "    \"It's definitely only 12 volts, but I used a 20V battery anyway. \"\n",
        "    \"I estimate the torque is around 300 Nm—amazing for nails!\"\n",
        ")\n",
        "\n",
        "error_report = validate_review_with_llm(review_text, tool_specs)\n",
        "print(\"Error Report:\\n\", error_report)"
      ],
      "metadata": {
        "colab": {
          "base_uri": "https://localhost:8080/"
        },
        "id": "l2n9hGe8X0bz",
        "outputId": "883920cf-79ed-4fb7-e0ed-e1ff98fe9f0d"
      },
      "execution_count": null,
      "outputs": [
        {
          "output_type": "stream",
          "name": "stdout",
          "text": [
            "Error Report:\n",
            " The review contains several semantic and numeric (domain) issues:\n",
            "\n",
            "1. **Voltage Mismatch**: The Bosch GNH18V-18M is an 18V tool, not 12V as stated in the review. The claim that it is \"definitely only 12 volts\" is incorrect.\n",
            "\n",
            "2. **Battery Compatibility Issue**: The review mentions using a 20V battery with the tool. This is problematic because the Bosch GNH18V-18M is designed for 18V batteries, and using a 20V battery could damage the tool or void the warranty.\n",
            "\n",
            "3. **RPM Claim**: The reviewer states that they run the nailer at \"2,000 RPM.\" However, brad nailers do not operate based on RPM (revolutions per minute) because they are not rotary tools. This is a clear domain error.\n",
            "\n",
            "4. **Torque Estimate**: The reviewer estimates the torque at \"around 300 Nm.\" Brad nailers do not have a torque specification because they use pneumatic or electric force to drive nails, not rotational force. This is another domain error.\n",
            "\n",
            "### Summary:\n",
            "The review contains multiple inaccuracies and domain errors, including incorrect voltage, inappropriate battery usage, irrelevant RPM claims, and a misunderstanding of torque in the context of a brad nailer.\n"
          ]
        }
      ]
    }
  ]
}