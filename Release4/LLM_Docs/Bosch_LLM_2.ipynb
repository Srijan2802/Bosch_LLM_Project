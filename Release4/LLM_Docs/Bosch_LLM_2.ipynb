{
  "nbformat": 4,
  "nbformat_minor": 0,
  "metadata": {
    "colab": {
      "provenance": []
    },
    "kernelspec": {
      "name": "python3",
      "display_name": "Python 3"
    },
    "language_info": {
      "name": "python"
    },
    "widgets": {
      "application/vnd.jupyter.widget-state+json": {
        "b3aee3701a2047ca8110ef750a4f18ed": {
          "model_module": "@jupyter-widgets/controls",
          "model_name": "HBoxModel",
          "model_module_version": "1.5.0",
          "state": {
            "_dom_classes": [],
            "_model_module": "@jupyter-widgets/controls",
            "_model_module_version": "1.5.0",
            "_model_name": "HBoxModel",
            "_view_count": null,
            "_view_module": "@jupyter-widgets/controls",
            "_view_module_version": "1.5.0",
            "_view_name": "HBoxView",
            "box_style": "",
            "children": [
              "IPY_MODEL_2071d1ec028340c69201969a165822ab",
              "IPY_MODEL_687acda53efc4f0f8e8ae70f8ca239b3",
              "IPY_MODEL_f2c51b26b6a747f29ec42e7da6309653"
            ],
            "layout": "IPY_MODEL_500a279f3b3a43bb97f27625fccb76c3"
          }
        },
        "2071d1ec028340c69201969a165822ab": {
          "model_module": "@jupyter-widgets/controls",
          "model_name": "HTMLModel",
          "model_module_version": "1.5.0",
          "state": {
            "_dom_classes": [],
            "_model_module": "@jupyter-widgets/controls",
            "_model_module_version": "1.5.0",
            "_model_name": "HTMLModel",
            "_view_count": null,
            "_view_module": "@jupyter-widgets/controls",
            "_view_module_version": "1.5.0",
            "_view_name": "HTMLView",
            "description": "",
            "description_tooltip": null,
            "layout": "IPY_MODEL_7d5117cf1a4441089b8363d8fca17aaf",
            "placeholder": "​",
            "style": "IPY_MODEL_e807e125a9c648eeabc6b2313ed3e861",
            "value": "100%"
          }
        },
        "687acda53efc4f0f8e8ae70f8ca239b3": {
          "model_module": "@jupyter-widgets/controls",
          "model_name": "FloatProgressModel",
          "model_module_version": "1.5.0",
          "state": {
            "_dom_classes": [],
            "_model_module": "@jupyter-widgets/controls",
            "_model_module_version": "1.5.0",
            "_model_name": "FloatProgressModel",
            "_view_count": null,
            "_view_module": "@jupyter-widgets/controls",
            "_view_module_version": "1.5.0",
            "_view_name": "ProgressView",
            "bar_style": "success",
            "description": "",
            "description_tooltip": null,
            "layout": "IPY_MODEL_836d0de1b60442e98911b8ed865ddbfe",
            "max": 132,
            "min": 0,
            "orientation": "horizontal",
            "style": "IPY_MODEL_01f53dcb1d9c441ea238bd28ab0f60ce",
            "value": 132
          }
        },
        "f2c51b26b6a747f29ec42e7da6309653": {
          "model_module": "@jupyter-widgets/controls",
          "model_name": "HTMLModel",
          "model_module_version": "1.5.0",
          "state": {
            "_dom_classes": [],
            "_model_module": "@jupyter-widgets/controls",
            "_model_module_version": "1.5.0",
            "_model_name": "HTMLModel",
            "_view_count": null,
            "_view_module": "@jupyter-widgets/controls",
            "_view_module_version": "1.5.0",
            "_view_name": "HTMLView",
            "description": "",
            "description_tooltip": null,
            "layout": "IPY_MODEL_59603f7ec0e24f0b822bccdbd058389d",
            "placeholder": "​",
            "style": "IPY_MODEL_156bc2627cbd48a1b6b37793b9adf3e5",
            "value": " 132/132 [11:56&lt;00:00,  4.55s/it]"
          }
        },
        "500a279f3b3a43bb97f27625fccb76c3": {
          "model_module": "@jupyter-widgets/base",
          "model_name": "LayoutModel",
          "model_module_version": "1.2.0",
          "state": {
            "_model_module": "@jupyter-widgets/base",
            "_model_module_version": "1.2.0",
            "_model_name": "LayoutModel",
            "_view_count": null,
            "_view_module": "@jupyter-widgets/base",
            "_view_module_version": "1.2.0",
            "_view_name": "LayoutView",
            "align_content": null,
            "align_items": null,
            "align_self": null,
            "border": null,
            "bottom": null,
            "display": null,
            "flex": null,
            "flex_flow": null,
            "grid_area": null,
            "grid_auto_columns": null,
            "grid_auto_flow": null,
            "grid_auto_rows": null,
            "grid_column": null,
            "grid_gap": null,
            "grid_row": null,
            "grid_template_areas": null,
            "grid_template_columns": null,
            "grid_template_rows": null,
            "height": null,
            "justify_content": null,
            "justify_items": null,
            "left": null,
            "margin": null,
            "max_height": null,
            "max_width": null,
            "min_height": null,
            "min_width": null,
            "object_fit": null,
            "object_position": null,
            "order": null,
            "overflow": null,
            "overflow_x": null,
            "overflow_y": null,
            "padding": null,
            "right": null,
            "top": null,
            "visibility": null,
            "width": null
          }
        },
        "7d5117cf1a4441089b8363d8fca17aaf": {
          "model_module": "@jupyter-widgets/base",
          "model_name": "LayoutModel",
          "model_module_version": "1.2.0",
          "state": {
            "_model_module": "@jupyter-widgets/base",
            "_model_module_version": "1.2.0",
            "_model_name": "LayoutModel",
            "_view_count": null,
            "_view_module": "@jupyter-widgets/base",
            "_view_module_version": "1.2.0",
            "_view_name": "LayoutView",
            "align_content": null,
            "align_items": null,
            "align_self": null,
            "border": null,
            "bottom": null,
            "display": null,
            "flex": null,
            "flex_flow": null,
            "grid_area": null,
            "grid_auto_columns": null,
            "grid_auto_flow": null,
            "grid_auto_rows": null,
            "grid_column": null,
            "grid_gap": null,
            "grid_row": null,
            "grid_template_areas": null,
            "grid_template_columns": null,
            "grid_template_rows": null,
            "height": null,
            "justify_content": null,
            "justify_items": null,
            "left": null,
            "margin": null,
            "max_height": null,
            "max_width": null,
            "min_height": null,
            "min_width": null,
            "object_fit": null,
            "object_position": null,
            "order": null,
            "overflow": null,
            "overflow_x": null,
            "overflow_y": null,
            "padding": null,
            "right": null,
            "top": null,
            "visibility": null,
            "width": null
          }
        },
        "e807e125a9c648eeabc6b2313ed3e861": {
          "model_module": "@jupyter-widgets/controls",
          "model_name": "DescriptionStyleModel",
          "model_module_version": "1.5.0",
          "state": {
            "_model_module": "@jupyter-widgets/controls",
            "_model_module_version": "1.5.0",
            "_model_name": "DescriptionStyleModel",
            "_view_count": null,
            "_view_module": "@jupyter-widgets/base",
            "_view_module_version": "1.2.0",
            "_view_name": "StyleView",
            "description_width": ""
          }
        },
        "836d0de1b60442e98911b8ed865ddbfe": {
          "model_module": "@jupyter-widgets/base",
          "model_name": "LayoutModel",
          "model_module_version": "1.2.0",
          "state": {
            "_model_module": "@jupyter-widgets/base",
            "_model_module_version": "1.2.0",
            "_model_name": "LayoutModel",
            "_view_count": null,
            "_view_module": "@jupyter-widgets/base",
            "_view_module_version": "1.2.0",
            "_view_name": "LayoutView",
            "align_content": null,
            "align_items": null,
            "align_self": null,
            "border": null,
            "bottom": null,
            "display": null,
            "flex": null,
            "flex_flow": null,
            "grid_area": null,
            "grid_auto_columns": null,
            "grid_auto_flow": null,
            "grid_auto_rows": null,
            "grid_column": null,
            "grid_gap": null,
            "grid_row": null,
            "grid_template_areas": null,
            "grid_template_columns": null,
            "grid_template_rows": null,
            "height": null,
            "justify_content": null,
            "justify_items": null,
            "left": null,
            "margin": null,
            "max_height": null,
            "max_width": null,
            "min_height": null,
            "min_width": null,
            "object_fit": null,
            "object_position": null,
            "order": null,
            "overflow": null,
            "overflow_x": null,
            "overflow_y": null,
            "padding": null,
            "right": null,
            "top": null,
            "visibility": null,
            "width": null
          }
        },
        "01f53dcb1d9c441ea238bd28ab0f60ce": {
          "model_module": "@jupyter-widgets/controls",
          "model_name": "ProgressStyleModel",
          "model_module_version": "1.5.0",
          "state": {
            "_model_module": "@jupyter-widgets/controls",
            "_model_module_version": "1.5.0",
            "_model_name": "ProgressStyleModel",
            "_view_count": null,
            "_view_module": "@jupyter-widgets/base",
            "_view_module_version": "1.2.0",
            "_view_name": "StyleView",
            "bar_color": null,
            "description_width": ""
          }
        },
        "59603f7ec0e24f0b822bccdbd058389d": {
          "model_module": "@jupyter-widgets/base",
          "model_name": "LayoutModel",
          "model_module_version": "1.2.0",
          "state": {
            "_model_module": "@jupyter-widgets/base",
            "_model_module_version": "1.2.0",
            "_model_name": "LayoutModel",
            "_view_count": null,
            "_view_module": "@jupyter-widgets/base",
            "_view_module_version": "1.2.0",
            "_view_name": "LayoutView",
            "align_content": null,
            "align_items": null,
            "align_self": null,
            "border": null,
            "bottom": null,
            "display": null,
            "flex": null,
            "flex_flow": null,
            "grid_area": null,
            "grid_auto_columns": null,
            "grid_auto_flow": null,
            "grid_auto_rows": null,
            "grid_column": null,
            "grid_gap": null,
            "grid_row": null,
            "grid_template_areas": null,
            "grid_template_columns": null,
            "grid_template_rows": null,
            "height": null,
            "justify_content": null,
            "justify_items": null,
            "left": null,
            "margin": null,
            "max_height": null,
            "max_width": null,
            "min_height": null,
            "min_width": null,
            "object_fit": null,
            "object_position": null,
            "order": null,
            "overflow": null,
            "overflow_x": null,
            "overflow_y": null,
            "padding": null,
            "right": null,
            "top": null,
            "visibility": null,
            "width": null
          }
        },
        "156bc2627cbd48a1b6b37793b9adf3e5": {
          "model_module": "@jupyter-widgets/controls",
          "model_name": "DescriptionStyleModel",
          "model_module_version": "1.5.0",
          "state": {
            "_model_module": "@jupyter-widgets/controls",
            "_model_module_version": "1.5.0",
            "_model_name": "DescriptionStyleModel",
            "_view_count": null,
            "_view_module": "@jupyter-widgets/base",
            "_view_module_version": "1.2.0",
            "_view_name": "StyleView",
            "description_width": ""
          }
        }
      }
    }
  },
  "cells": [
    {
      "cell_type": "code",
      "execution_count": null,
      "metadata": {
        "colab": {
          "base_uri": "https://localhost:8080/"
        },
        "id": "FkYBRgRbX91a",
        "outputId": "62755222-ebdb-4662-8fa2-1572bfafc319"
      },
      "outputs": [
        {
          "output_type": "stream",
          "name": "stdout",
          "text": [
            "\u001b[2K   \u001b[90m━━━━━━━━━━━━━━━━━━━━━━━━━━━━━━━━━━━━━━━━\u001b[0m \u001b[32m2.5/2.5 MB\u001b[0m \u001b[31m30.2 MB/s\u001b[0m eta \u001b[36m0:00:00\u001b[0m\n",
            "\u001b[2K   \u001b[90m━━━━━━━━━━━━━━━━━━━━━━━━━━━━━━━━━━━━━━━━\u001b[0m \u001b[32m62.4/62.4 kB\u001b[0m \u001b[31m2.8 MB/s\u001b[0m eta \u001b[36m0:00:00\u001b[0m\n",
            "\u001b[2K   \u001b[90m━━━━━━━━━━━━━━━━━━━━━━━━━━━━━━━━━━━━━━━━\u001b[0m \u001b[32m209.2/209.2 kB\u001b[0m \u001b[31m6.2 MB/s\u001b[0m eta \u001b[36m0:00:00\u001b[0m\n",
            "\u001b[2K   \u001b[90m━━━━━━━━━━━━━━━━━━━━━━━━━━━━━━━━━━━━━━━━\u001b[0m \u001b[32m312.3/312.3 kB\u001b[0m \u001b[31m16.8 MB/s\u001b[0m eta \u001b[36m0:00:00\u001b[0m\n",
            "\u001b[2K   \u001b[90m━━━━━━━━━━━━━━━━━━━━━━━━━━━━━━━━━━━━━━━━\u001b[0m \u001b[32m177.2/177.2 kB\u001b[0m \u001b[31m6.0 MB/s\u001b[0m eta \u001b[36m0:00:00\u001b[0m\n",
            "\u001b[2K   \u001b[90m━━━━━━━━━━━━━━━━━━━━━━━━━━━━━━━━━━━━━━━━\u001b[0m \u001b[32m1.2/1.2 MB\u001b[0m \u001b[31m18.4 MB/s\u001b[0m eta \u001b[36m0:00:00\u001b[0m\n",
            "\u001b[2K   \u001b[90m━━━━━━━━━━━━━━━━━━━━━━━━━━━━━━━━━━━━━━━━\u001b[0m \u001b[32m44.4/44.4 kB\u001b[0m \u001b[31m3.0 MB/s\u001b[0m eta \u001b[36m0:00:00\u001b[0m\n",
            "\u001b[2K   \u001b[90m━━━━━━━━━━━━━━━━━━━━━━━━━━━━━━━━━━━━━━━━\u001b[0m \u001b[32m50.9/50.9 kB\u001b[0m \u001b[31m2.3 MB/s\u001b[0m eta \u001b[36m0:00:00\u001b[0m\n",
            "\u001b[?25h"
          ]
        }
      ],
      "source": [
        "!pip install --quiet langchain langchain_community langchain-openai langchain-experimental neo4j py2neo openai tiktoken"
      ]
    },
    {
      "cell_type": "code",
      "source": [
        "from langchain_openai import AzureChatOpenAI"
      ],
      "metadata": {
        "id": "jEliq7i3YW8p"
      },
      "execution_count": null,
      "outputs": []
    },
    {
      "cell_type": "code",
      "source": [
        "pip install -U :class:`~langchain-openai"
      ],
      "metadata": {
        "colab": {
          "base_uri": "https://localhost:8080/"
        },
        "id": "ZjavIl9_YfkK",
        "outputId": "d55f6ce8-2267-41c7-b1f6-dd68e61538ed"
      },
      "execution_count": null,
      "outputs": [
        {
          "output_type": "stream",
          "name": "stdout",
          "text": [
            "/bin/bash: -c: line 1: unexpected EOF while looking for matching ``'\n",
            "/bin/bash: -c: line 2: syntax error: unexpected end of file\n"
          ]
        }
      ]
    },
    {
      "cell_type": "code",
      "source": [
        "pip install json-repair"
      ],
      "metadata": {
        "colab": {
          "base_uri": "https://localhost:8080/"
        },
        "id": "WZj-qP1IYjyc",
        "outputId": "4d47e8fb-334f-4409-dc3b-5988d43037ee"
      },
      "execution_count": null,
      "outputs": [
        {
          "output_type": "stream",
          "name": "stdout",
          "text": [
            "Collecting json-repair\n",
            "  Downloading json_repair-0.42.0-py3-none-any.whl.metadata (11 kB)\n",
            "Downloading json_repair-0.42.0-py3-none-any.whl (21 kB)\n",
            "Installing collected packages: json-repair\n",
            "Successfully installed json-repair-0.42.0\n"
          ]
        }
      ]
    },
    {
      "cell_type": "code",
      "source": [
        "pip install -U langchain langchain-openai"
      ],
      "metadata": {
        "colab": {
          "base_uri": "https://localhost:8080/"
        },
        "id": "nmxm0bdsYsNU",
        "outputId": "e074c663-e945-4b6e-d7db-d0af1b92baf3"
      },
      "execution_count": null,
      "outputs": [
        {
          "output_type": "stream",
          "name": "stdout",
          "text": [
            "Requirement already satisfied: langchain in /usr/local/lib/python3.11/dist-packages (0.3.24)\n",
            "Requirement already satisfied: langchain-openai in /usr/local/lib/python3.11/dist-packages (0.3.14)\n",
            "Requirement already satisfied: langchain-core<1.0.0,>=0.3.55 in /usr/local/lib/python3.11/dist-packages (from langchain) (0.3.55)\n",
            "Requirement already satisfied: langchain-text-splitters<1.0.0,>=0.3.8 in /usr/local/lib/python3.11/dist-packages (from langchain) (0.3.8)\n",
            "Requirement already satisfied: langsmith<0.4,>=0.1.17 in /usr/local/lib/python3.11/dist-packages (from langchain) (0.3.33)\n",
            "Requirement already satisfied: pydantic<3.0.0,>=2.7.4 in /usr/local/lib/python3.11/dist-packages (from langchain) (2.11.3)\n",
            "Requirement already satisfied: SQLAlchemy<3,>=1.4 in /usr/local/lib/python3.11/dist-packages (from langchain) (2.0.40)\n",
            "Requirement already satisfied: requests<3,>=2 in /usr/local/lib/python3.11/dist-packages (from langchain) (2.32.3)\n",
            "Requirement already satisfied: PyYAML>=5.3 in /usr/local/lib/python3.11/dist-packages (from langchain) (6.0.2)\n",
            "Requirement already satisfied: openai<2.0.0,>=1.68.2 in /usr/local/lib/python3.11/dist-packages (from langchain-openai) (1.75.0)\n",
            "Requirement already satisfied: tiktoken<1,>=0.7 in /usr/local/lib/python3.11/dist-packages (from langchain-openai) (0.9.0)\n",
            "Requirement already satisfied: tenacity!=8.4.0,<10.0.0,>=8.1.0 in /usr/local/lib/python3.11/dist-packages (from langchain-core<1.0.0,>=0.3.55->langchain) (9.1.2)\n",
            "Requirement already satisfied: jsonpatch<2.0,>=1.33 in /usr/local/lib/python3.11/dist-packages (from langchain-core<1.0.0,>=0.3.55->langchain) (1.33)\n",
            "Requirement already satisfied: packaging<25,>=23.2 in /usr/local/lib/python3.11/dist-packages (from langchain-core<1.0.0,>=0.3.55->langchain) (24.2)\n",
            "Requirement already satisfied: typing-extensions>=4.7 in /usr/local/lib/python3.11/dist-packages (from langchain-core<1.0.0,>=0.3.55->langchain) (4.13.2)\n",
            "Requirement already satisfied: httpx<1,>=0.23.0 in /usr/local/lib/python3.11/dist-packages (from langsmith<0.4,>=0.1.17->langchain) (0.28.1)\n",
            "Requirement already satisfied: orjson<4.0.0,>=3.9.14 in /usr/local/lib/python3.11/dist-packages (from langsmith<0.4,>=0.1.17->langchain) (3.10.16)\n",
            "Requirement already satisfied: requests-toolbelt<2.0.0,>=1.0.0 in /usr/local/lib/python3.11/dist-packages (from langsmith<0.4,>=0.1.17->langchain) (1.0.0)\n",
            "Requirement already satisfied: zstandard<0.24.0,>=0.23.0 in /usr/local/lib/python3.11/dist-packages (from langsmith<0.4,>=0.1.17->langchain) (0.23.0)\n",
            "Requirement already satisfied: anyio<5,>=3.5.0 in /usr/local/lib/python3.11/dist-packages (from openai<2.0.0,>=1.68.2->langchain-openai) (4.9.0)\n",
            "Requirement already satisfied: distro<2,>=1.7.0 in /usr/local/lib/python3.11/dist-packages (from openai<2.0.0,>=1.68.2->langchain-openai) (1.9.0)\n",
            "Requirement already satisfied: jiter<1,>=0.4.0 in /usr/local/lib/python3.11/dist-packages (from openai<2.0.0,>=1.68.2->langchain-openai) (0.9.0)\n",
            "Requirement already satisfied: sniffio in /usr/local/lib/python3.11/dist-packages (from openai<2.0.0,>=1.68.2->langchain-openai) (1.3.1)\n",
            "Requirement already satisfied: tqdm>4 in /usr/local/lib/python3.11/dist-packages (from openai<2.0.0,>=1.68.2->langchain-openai) (4.67.1)\n",
            "Requirement already satisfied: annotated-types>=0.6.0 in /usr/local/lib/python3.11/dist-packages (from pydantic<3.0.0,>=2.7.4->langchain) (0.7.0)\n",
            "Requirement already satisfied: pydantic-core==2.33.1 in /usr/local/lib/python3.11/dist-packages (from pydantic<3.0.0,>=2.7.4->langchain) (2.33.1)\n",
            "Requirement already satisfied: typing-inspection>=0.4.0 in /usr/local/lib/python3.11/dist-packages (from pydantic<3.0.0,>=2.7.4->langchain) (0.4.0)\n",
            "Requirement already satisfied: charset-normalizer<4,>=2 in /usr/local/lib/python3.11/dist-packages (from requests<3,>=2->langchain) (3.4.1)\n",
            "Requirement already satisfied: idna<4,>=2.5 in /usr/local/lib/python3.11/dist-packages (from requests<3,>=2->langchain) (3.10)\n",
            "Requirement already satisfied: urllib3<3,>=1.21.1 in /usr/local/lib/python3.11/dist-packages (from requests<3,>=2->langchain) (2.3.0)\n",
            "Requirement already satisfied: certifi>=2017.4.17 in /usr/local/lib/python3.11/dist-packages (from requests<3,>=2->langchain) (2025.1.31)\n",
            "Requirement already satisfied: greenlet>=1 in /usr/local/lib/python3.11/dist-packages (from SQLAlchemy<3,>=1.4->langchain) (3.2.1)\n",
            "Requirement already satisfied: regex>=2022.1.18 in /usr/local/lib/python3.11/dist-packages (from tiktoken<1,>=0.7->langchain-openai) (2024.11.6)\n",
            "Requirement already satisfied: httpcore==1.* in /usr/local/lib/python3.11/dist-packages (from httpx<1,>=0.23.0->langsmith<0.4,>=0.1.17->langchain) (1.0.8)\n",
            "Requirement already satisfied: h11<0.15,>=0.13 in /usr/local/lib/python3.11/dist-packages (from httpcore==1.*->httpx<1,>=0.23.0->langsmith<0.4,>=0.1.17->langchain) (0.14.0)\n",
            "Requirement already satisfied: jsonpointer>=1.9 in /usr/local/lib/python3.11/dist-packages (from jsonpatch<2.0,>=1.33->langchain-core<1.0.0,>=0.3.55->langchain) (3.0.0)\n"
          ]
        }
      ]
    },
    {
      "cell_type": "code",
      "source": [
        "# 1. Install dependencies\n",
        "!pip install -q langchain-openai langchain-experimental langchain-community neo4j pandas tqdm"
      ],
      "metadata": {
        "id": "b2zojlG7w-Di"
      },
      "execution_count": null,
      "outputs": []
    },
    {
      "cell_type": "code",
      "source": [
        "from tqdm.auto import tqdm\n",
        "tqdm.pandas()"
      ],
      "metadata": {
        "id": "bIZ-25O6Y3Tq"
      },
      "execution_count": null,
      "outputs": []
    },
    {
      "cell_type": "code",
      "source": [
        "!pip install tqdm"
      ],
      "metadata": {
        "colab": {
          "base_uri": "https://localhost:8080/"
        },
        "id": "eDLVffBXY1A4",
        "outputId": "f08ad1e0-f523-4786-8a71-782e04379a0b"
      },
      "execution_count": null,
      "outputs": [
        {
          "output_type": "stream",
          "name": "stdout",
          "text": [
            "Requirement already satisfied: tqdm in /usr/local/lib/python3.11/dist-packages (4.67.1)\n"
          ]
        }
      ]
    },
    {
      "cell_type": "code",
      "source": [
        "import io\n",
        "import pandas as pd\n",
        "df = pd.read_excel('/content/Synthetic_Dataset_0411 3.xlsx')"
      ],
      "metadata": {
        "id": "wazFDqONxDJY"
      },
      "execution_count": null,
      "outputs": []
    },
    {
      "cell_type": "markdown",
      "source": [
        "Azure Setup"
      ],
      "metadata": {
        "id": "AEf6S3OgTw4W"
      }
    },
    {
      "cell_type": "code",
      "source": [
        "# 3. Set up Azure OpenAI client\n",
        "import os\n",
        "from langchain_openai import AzureChatOpenAI\n",
        "\n",
        "os.environ[\"AZURE_OPENAI_API_KEY\"]       = \"CGovkeIlaBZW0ZxDj7PxwwAKGcbmHaa9IHuIHhlpl11wWG2uiclUJQQJ99BBACYeBjFXJ3w3AAABACOGuRYX\"\n",
        "os.environ[\"AZURE_OPENAI_ENDPOINT\"]      = \"https://llm-data-quality.openai.azure.com/\"\n",
        "os.environ[\"AZURE_OPENAI_DEPLOYMENT\"]    = \"gpt-4o\"\n",
        "os.environ[\"AZURE_OPENAI_API_VERSION\"]   = \"2024-08-01-preview\""
      ],
      "metadata": {
        "id": "L5U2X17cxNna"
      },
      "execution_count": null,
      "outputs": []
    },
    {
      "cell_type": "code",
      "source": [
        "llm = AzureChatOpenAI(\n",
        "    azure_endpoint=os.environ[\"AZURE_OPENAI_ENDPOINT\"],\n",
        "    azure_deployment=os.environ[\"AZURE_OPENAI_DEPLOYMENT\"],\n",
        "    api_key=os.environ[\"AZURE_OPENAI_API_KEY\"],\n",
        "    api_version=os.environ[\"AZURE_OPENAI_API_VERSION\"],\n",
        "    temperature=0.0\n",
        ")\n",
        "\n",
        "# Quick test\n",
        "try:\n",
        "    resp = llm.invoke([{\"role\":\"system\",\"content\":\"Ping\"}])\n",
        "    print(\"✅ LLM OK\", resp)\n",
        "except Exception as e:\n",
        "    print(\"❌ LLM failed:\", e)"
      ],
      "metadata": {
        "colab": {
          "base_uri": "https://localhost:8080/"
        },
        "id": "wFnXCR9ubuWR",
        "outputId": "25bc6824-94ba-4a56-e674-cf48b6a16a3c"
      },
      "execution_count": null,
      "outputs": [
        {
          "output_type": "stream",
          "name": "stdout",
          "text": [
            "✅ LLM OK content='Hello! How can I assist you today?' additional_kwargs={'refusal': None} response_metadata={'token_usage': {'completion_tokens': 10, 'prompt_tokens': 8, 'total_tokens': 18, 'completion_tokens_details': {'accepted_prediction_tokens': 0, 'audio_tokens': 0, 'reasoning_tokens': 0, 'rejected_prediction_tokens': 0}, 'prompt_tokens_details': {'audio_tokens': 0, 'cached_tokens': 0}}, 'model_name': 'gpt-4o-2024-11-20', 'system_fingerprint': 'fp_ee1d74bde0', 'id': 'chatcmpl-BR7q5GG2luSMNU5BqciA8ZVvYkbKu', 'prompt_filter_results': [{'prompt_index': 0, 'content_filter_results': {}}], 'finish_reason': 'stop', 'logprobs': None, 'content_filter_results': {'hate': {'filtered': False, 'severity': 'safe'}, 'protected_material_code': {'filtered': False, 'detected': False}, 'protected_material_text': {'filtered': False, 'detected': False}, 'self_harm': {'filtered': False, 'severity': 'safe'}, 'sexual': {'filtered': False, 'severity': 'safe'}, 'violence': {'filtered': False, 'severity': 'safe'}}} id='run-9356aa07-104e-4c0e-a8c0-72adfc1e67a9-0' usage_metadata={'input_tokens': 8, 'output_tokens': 10, 'total_tokens': 18, 'input_token_details': {'audio': 0, 'cache_read': 0}, 'output_token_details': {'audio': 0, 'reasoning': 0}}\n"
          ]
        }
      ]
    },
    {
      "cell_type": "markdown",
      "source": [
        "#LLM Code"
      ],
      "metadata": {
        "id": "ecof0GeUT3n4"
      }
    },
    {
      "cell_type": "code",
      "source": [
        "# Cell 4: Define the combined detector (plaintext output)\n",
        "ERROR_PROMPT = \"\"\"\n",
        "You are a data-quality assistant. Given the text below, detect two issues:\n",
        "\n",
        "1. Semantic Misalignment:\n",
        "   • Misunderstanding product function/use\n",
        "   • Misinterpretation of technical terms\n",
        "   • Confusion between categories\n",
        "\n",
        "2. Specialized Error:\n",
        "   • Factually incorrect technical specs or usage limits\n",
        "   • Unsafe or unsupported usage scenarios\n",
        "   • Misleading performance claims\n",
        "\n",
        "Examples:\n",
        " a. Charging at 50°C → unsafe battery conditions\n",
        " b. Using 12V battery on 18V tool → unsupported hack\n",
        " c. Claiming “80 Nm on any screw” → overstated torque\n",
        "\n",
        "Return your answer in plain text EXACTLY like:\n",
        "\"misaligned\": true|false,\n",
        "\"specialized_error\": true|false,\n",
        "\"explanation\": \"<brief explanation>\"\n",
        "\n",
        "Here is the text:\n",
        "\"\"\"\n",
        "\n",
        "def detect_errors(text: str) -> dict:\n",
        "    content = llm.invoke([\n",
        "        {\"role\":\"system\", \"content\":\"You classify text quality issues.\"},\n",
        "        {\"role\":\"user\",   \"content\": ERROR_PROMPT + text}\n",
        "    ]).content.strip()\n",
        "\n",
        "    # extract the two flags and the explanation\n",
        "    m1 = re.search(r'\"misaligned\":\\s*(true|false)',         content)\n",
        "    m2 = re.search(r'\"specialized_error\":\\s*(true|false)',  content)\n",
        "    m3 = re.search(r'\"explanation\":\\s*\"([^\"]+)\"',           content)\n",
        "\n",
        "    return {\n",
        "        \"misaligned\":       (m1.group(1) == \"true\")  if m1 else False,\n",
        "        \"specialized_error\":(m2.group(1) == \"true\")  if m2 else False,\n",
        "        \"explanation\":      m3.group(1)              if m3 else content\n",
        "    }"
      ],
      "metadata": {
        "id": "-12Aa0fTxX8L"
      },
      "execution_count": null,
      "outputs": []
    },
    {
      "cell_type": "code",
      "source": [
        "# Classify each review into a single label + explanation\n",
        "import time\n",
        "def classify_review(text: str) -> pd.Series:\n",
        "    r = detect_errors(text)\n",
        "    if r[\"specialized_error\"]:\n",
        "        label = \"Specialized Error\"\n",
        "    elif r[\"misaligned\"]:\n",
        "        label = \"Semantic Misalignment\"\n",
        "    else:\n",
        "        label = \"Clean\"\n",
        "    #Adding a delay of 3 second between API calls\n",
        "    time.sleep(3)\n",
        "    return pd.Series({\"Predicted_Error\": label, \"Explanation\": r[\"explanation\"]})\n",
        "\n",
        "df[[\"Predicted_Error\",\"Explanation\"]] = df[\"Review\"].progress_apply(classify_review)"
      ],
      "metadata": {
        "colab": {
          "base_uri": "https://localhost:8080/",
          "height": 49,
          "referenced_widgets": [
            "b3aee3701a2047ca8110ef750a4f18ed",
            "2071d1ec028340c69201969a165822ab",
            "687acda53efc4f0f8e8ae70f8ca239b3",
            "f2c51b26b6a747f29ec42e7da6309653",
            "500a279f3b3a43bb97f27625fccb76c3",
            "7d5117cf1a4441089b8363d8fca17aaf",
            "e807e125a9c648eeabc6b2313ed3e861",
            "836d0de1b60442e98911b8ed865ddbfe",
            "01f53dcb1d9c441ea238bd28ab0f60ce",
            "59603f7ec0e24f0b822bccdbd058389d",
            "156bc2627cbd48a1b6b37793b9adf3e5"
          ]
        },
        "id": "sy8DqioQxlJa",
        "outputId": "6bb4b5c8-cc42-4af6-c121-babcfc8b8995"
      },
      "execution_count": null,
      "outputs": [
        {
          "output_type": "display_data",
          "data": {
            "text/plain": [
              "  0%|          | 0/132 [00:00<?, ?it/s]"
            ],
            "application/vnd.jupyter.widget-view+json": {
              "version_major": 2,
              "version_minor": 0,
              "model_id": "b3aee3701a2047ca8110ef750a4f18ed"
            }
          },
          "metadata": {}
        }
      ]
    },
    {
      "cell_type": "code",
      "source": [
        "# Cell 6: Reorder columns & inspect\n",
        "df = df[\n",
        "    [\"Product_ID\", \"Product_Name\", \"Category\",\n",
        "     \"Review\", \"Review_Date\", \"Error_Type\",\n",
        "     \"Predicted_Error\", \"Explanation\"]\n",
        "]\n",
        "df.head()"
      ],
      "metadata": {
        "colab": {
          "base_uri": "https://localhost:8080/",
          "height": 581
        },
        "id": "u6gLASN4a5jX",
        "outputId": "83f4cae2-4d42-4966-8a9f-21e7a8b4e28c"
      },
      "execution_count": null,
      "outputs": [
        {
          "output_type": "execute_result",
          "data": {
            "text/plain": [
              "  Product_ID            Product_Name Category  \\\n",
              "0   GSH18V-5  GSH18V-5L PROFESSIONAL   Hammer   \n",
              "1   GSH18V-5  GSH18V-5L PROFESSIONAL   Hammer   \n",
              "2   GSH18V-5  GSH18V-5L PROFESSIONAL   Hammer   \n",
              "3   GSH18V-5  GSH18V-5L PROFESSIONAL   Hammer   \n",
              "4   GSH18V-5  GSH18V-5L PROFESSIONAL   Hammer   \n",
              "\n",
              "                                              Review Review_Date Error_Type  \\\n",
              "0  This Bosch SDS-max hammer delivers incredible ...  2025-03-12      Clean   \n",
              "1  Love the power and portability—running on an 1...  2025-01-23      Clean   \n",
              "2  Excellent performance even in cold weather. Wo...  2024-12-03      Clean   \n",
              "3  Compact design and powerful impact energy. The...  2025-02-10      Clean   \n",
              "4  Great tool for demolition inside tight spaces....  2025-04-02      Clean   \n",
              "\n",
              "  Predicted_Error                                        Explanation  \n",
              "0           Clean  The text accurately describes the product's fu...  \n",
              "1           Clean  The text does not exhibit semantic misalignmen...  \n",
              "2           Clean  The text does not exhibit semantic misalignmen...  \n",
              "3           Clean  The text accurately describes the product's fe...  \n",
              "4           Clean  The text does not contain any semantic misalig...  "
            ],
            "text/html": [
              "\n",
              "  <div id=\"df-38c58a53-cb60-43c1-8760-95919e9fc43e\" class=\"colab-df-container\">\n",
              "    <div>\n",
              "<style scoped>\n",
              "    .dataframe tbody tr th:only-of-type {\n",
              "        vertical-align: middle;\n",
              "    }\n",
              "\n",
              "    .dataframe tbody tr th {\n",
              "        vertical-align: top;\n",
              "    }\n",
              "\n",
              "    .dataframe thead th {\n",
              "        text-align: right;\n",
              "    }\n",
              "</style>\n",
              "<table border=\"1\" class=\"dataframe\">\n",
              "  <thead>\n",
              "    <tr style=\"text-align: right;\">\n",
              "      <th></th>\n",
              "      <th>Product_ID</th>\n",
              "      <th>Product_Name</th>\n",
              "      <th>Category</th>\n",
              "      <th>Review</th>\n",
              "      <th>Review_Date</th>\n",
              "      <th>Error_Type</th>\n",
              "      <th>Predicted_Error</th>\n",
              "      <th>Explanation</th>\n",
              "    </tr>\n",
              "  </thead>\n",
              "  <tbody>\n",
              "    <tr>\n",
              "      <th>0</th>\n",
              "      <td>GSH18V-5</td>\n",
              "      <td>GSH18V-5L PROFESSIONAL</td>\n",
              "      <td>Hammer</td>\n",
              "      <td>This Bosch SDS-max hammer delivers incredible ...</td>\n",
              "      <td>2025-03-12</td>\n",
              "      <td>Clean</td>\n",
              "      <td>Clean</td>\n",
              "      <td>The text accurately describes the product's fu...</td>\n",
              "    </tr>\n",
              "    <tr>\n",
              "      <th>1</th>\n",
              "      <td>GSH18V-5</td>\n",
              "      <td>GSH18V-5L PROFESSIONAL</td>\n",
              "      <td>Hammer</td>\n",
              "      <td>Love the power and portability—running on an 1...</td>\n",
              "      <td>2025-01-23</td>\n",
              "      <td>Clean</td>\n",
              "      <td>Clean</td>\n",
              "      <td>The text does not exhibit semantic misalignmen...</td>\n",
              "    </tr>\n",
              "    <tr>\n",
              "      <th>2</th>\n",
              "      <td>GSH18V-5</td>\n",
              "      <td>GSH18V-5L PROFESSIONAL</td>\n",
              "      <td>Hammer</td>\n",
              "      <td>Excellent performance even in cold weather. Wo...</td>\n",
              "      <td>2024-12-03</td>\n",
              "      <td>Clean</td>\n",
              "      <td>Clean</td>\n",
              "      <td>The text does not exhibit semantic misalignmen...</td>\n",
              "    </tr>\n",
              "    <tr>\n",
              "      <th>3</th>\n",
              "      <td>GSH18V-5</td>\n",
              "      <td>GSH18V-5L PROFESSIONAL</td>\n",
              "      <td>Hammer</td>\n",
              "      <td>Compact design and powerful impact energy. The...</td>\n",
              "      <td>2025-02-10</td>\n",
              "      <td>Clean</td>\n",
              "      <td>Clean</td>\n",
              "      <td>The text accurately describes the product's fe...</td>\n",
              "    </tr>\n",
              "    <tr>\n",
              "      <th>4</th>\n",
              "      <td>GSH18V-5</td>\n",
              "      <td>GSH18V-5L PROFESSIONAL</td>\n",
              "      <td>Hammer</td>\n",
              "      <td>Great tool for demolition inside tight spaces....</td>\n",
              "      <td>2025-04-02</td>\n",
              "      <td>Clean</td>\n",
              "      <td>Clean</td>\n",
              "      <td>The text does not contain any semantic misalig...</td>\n",
              "    </tr>\n",
              "  </tbody>\n",
              "</table>\n",
              "</div>\n",
              "    <div class=\"colab-df-buttons\">\n",
              "\n",
              "  <div class=\"colab-df-container\">\n",
              "    <button class=\"colab-df-convert\" onclick=\"convertToInteractive('df-38c58a53-cb60-43c1-8760-95919e9fc43e')\"\n",
              "            title=\"Convert this dataframe to an interactive table.\"\n",
              "            style=\"display:none;\">\n",
              "\n",
              "  <svg xmlns=\"http://www.w3.org/2000/svg\" height=\"24px\" viewBox=\"0 -960 960 960\">\n",
              "    <path d=\"M120-120v-720h720v720H120Zm60-500h600v-160H180v160Zm220 220h160v-160H400v160Zm0 220h160v-160H400v160ZM180-400h160v-160H180v160Zm440 0h160v-160H620v160ZM180-180h160v-160H180v160Zm440 0h160v-160H620v160Z\"/>\n",
              "  </svg>\n",
              "    </button>\n",
              "\n",
              "  <style>\n",
              "    .colab-df-container {\n",
              "      display:flex;\n",
              "      gap: 12px;\n",
              "    }\n",
              "\n",
              "    .colab-df-convert {\n",
              "      background-color: #E8F0FE;\n",
              "      border: none;\n",
              "      border-radius: 50%;\n",
              "      cursor: pointer;\n",
              "      display: none;\n",
              "      fill: #1967D2;\n",
              "      height: 32px;\n",
              "      padding: 0 0 0 0;\n",
              "      width: 32px;\n",
              "    }\n",
              "\n",
              "    .colab-df-convert:hover {\n",
              "      background-color: #E2EBFA;\n",
              "      box-shadow: 0px 1px 2px rgba(60, 64, 67, 0.3), 0px 1px 3px 1px rgba(60, 64, 67, 0.15);\n",
              "      fill: #174EA6;\n",
              "    }\n",
              "\n",
              "    .colab-df-buttons div {\n",
              "      margin-bottom: 4px;\n",
              "    }\n",
              "\n",
              "    [theme=dark] .colab-df-convert {\n",
              "      background-color: #3B4455;\n",
              "      fill: #D2E3FC;\n",
              "    }\n",
              "\n",
              "    [theme=dark] .colab-df-convert:hover {\n",
              "      background-color: #434B5C;\n",
              "      box-shadow: 0px 1px 3px 1px rgba(0, 0, 0, 0.15);\n",
              "      filter: drop-shadow(0px 1px 2px rgba(0, 0, 0, 0.3));\n",
              "      fill: #FFFFFF;\n",
              "    }\n",
              "  </style>\n",
              "\n",
              "    <script>\n",
              "      const buttonEl =\n",
              "        document.querySelector('#df-38c58a53-cb60-43c1-8760-95919e9fc43e button.colab-df-convert');\n",
              "      buttonEl.style.display =\n",
              "        google.colab.kernel.accessAllowed ? 'block' : 'none';\n",
              "\n",
              "      async function convertToInteractive(key) {\n",
              "        const element = document.querySelector('#df-38c58a53-cb60-43c1-8760-95919e9fc43e');\n",
              "        const dataTable =\n",
              "          await google.colab.kernel.invokeFunction('convertToInteractive',\n",
              "                                                    [key], {});\n",
              "        if (!dataTable) return;\n",
              "\n",
              "        const docLinkHtml = 'Like what you see? Visit the ' +\n",
              "          '<a target=\"_blank\" href=https://colab.research.google.com/notebooks/data_table.ipynb>data table notebook</a>'\n",
              "          + ' to learn more about interactive tables.';\n",
              "        element.innerHTML = '';\n",
              "        dataTable['output_type'] = 'display_data';\n",
              "        await google.colab.output.renderOutput(dataTable, element);\n",
              "        const docLink = document.createElement('div');\n",
              "        docLink.innerHTML = docLinkHtml;\n",
              "        element.appendChild(docLink);\n",
              "      }\n",
              "    </script>\n",
              "  </div>\n",
              "\n",
              "\n",
              "    <div id=\"df-bd27f618-77f3-4f07-b806-4328733b4ab1\">\n",
              "      <button class=\"colab-df-quickchart\" onclick=\"quickchart('df-bd27f618-77f3-4f07-b806-4328733b4ab1')\"\n",
              "                title=\"Suggest charts\"\n",
              "                style=\"display:none;\">\n",
              "\n",
              "<svg xmlns=\"http://www.w3.org/2000/svg\" height=\"24px\"viewBox=\"0 0 24 24\"\n",
              "     width=\"24px\">\n",
              "    <g>\n",
              "        <path d=\"M19 3H5c-1.1 0-2 .9-2 2v14c0 1.1.9 2 2 2h14c1.1 0 2-.9 2-2V5c0-1.1-.9-2-2-2zM9 17H7v-7h2v7zm4 0h-2V7h2v10zm4 0h-2v-4h2v4z\"/>\n",
              "    </g>\n",
              "</svg>\n",
              "      </button>\n",
              "\n",
              "<style>\n",
              "  .colab-df-quickchart {\n",
              "      --bg-color: #E8F0FE;\n",
              "      --fill-color: #1967D2;\n",
              "      --hover-bg-color: #E2EBFA;\n",
              "      --hover-fill-color: #174EA6;\n",
              "      --disabled-fill-color: #AAA;\n",
              "      --disabled-bg-color: #DDD;\n",
              "  }\n",
              "\n",
              "  [theme=dark] .colab-df-quickchart {\n",
              "      --bg-color: #3B4455;\n",
              "      --fill-color: #D2E3FC;\n",
              "      --hover-bg-color: #434B5C;\n",
              "      --hover-fill-color: #FFFFFF;\n",
              "      --disabled-bg-color: #3B4455;\n",
              "      --disabled-fill-color: #666;\n",
              "  }\n",
              "\n",
              "  .colab-df-quickchart {\n",
              "    background-color: var(--bg-color);\n",
              "    border: none;\n",
              "    border-radius: 50%;\n",
              "    cursor: pointer;\n",
              "    display: none;\n",
              "    fill: var(--fill-color);\n",
              "    height: 32px;\n",
              "    padding: 0;\n",
              "    width: 32px;\n",
              "  }\n",
              "\n",
              "  .colab-df-quickchart:hover {\n",
              "    background-color: var(--hover-bg-color);\n",
              "    box-shadow: 0 1px 2px rgba(60, 64, 67, 0.3), 0 1px 3px 1px rgba(60, 64, 67, 0.15);\n",
              "    fill: var(--button-hover-fill-color);\n",
              "  }\n",
              "\n",
              "  .colab-df-quickchart-complete:disabled,\n",
              "  .colab-df-quickchart-complete:disabled:hover {\n",
              "    background-color: var(--disabled-bg-color);\n",
              "    fill: var(--disabled-fill-color);\n",
              "    box-shadow: none;\n",
              "  }\n",
              "\n",
              "  .colab-df-spinner {\n",
              "    border: 2px solid var(--fill-color);\n",
              "    border-color: transparent;\n",
              "    border-bottom-color: var(--fill-color);\n",
              "    animation:\n",
              "      spin 1s steps(1) infinite;\n",
              "  }\n",
              "\n",
              "  @keyframes spin {\n",
              "    0% {\n",
              "      border-color: transparent;\n",
              "      border-bottom-color: var(--fill-color);\n",
              "      border-left-color: var(--fill-color);\n",
              "    }\n",
              "    20% {\n",
              "      border-color: transparent;\n",
              "      border-left-color: var(--fill-color);\n",
              "      border-top-color: var(--fill-color);\n",
              "    }\n",
              "    30% {\n",
              "      border-color: transparent;\n",
              "      border-left-color: var(--fill-color);\n",
              "      border-top-color: var(--fill-color);\n",
              "      border-right-color: var(--fill-color);\n",
              "    }\n",
              "    40% {\n",
              "      border-color: transparent;\n",
              "      border-right-color: var(--fill-color);\n",
              "      border-top-color: var(--fill-color);\n",
              "    }\n",
              "    60% {\n",
              "      border-color: transparent;\n",
              "      border-right-color: var(--fill-color);\n",
              "    }\n",
              "    80% {\n",
              "      border-color: transparent;\n",
              "      border-right-color: var(--fill-color);\n",
              "      border-bottom-color: var(--fill-color);\n",
              "    }\n",
              "    90% {\n",
              "      border-color: transparent;\n",
              "      border-bottom-color: var(--fill-color);\n",
              "    }\n",
              "  }\n",
              "</style>\n",
              "\n",
              "      <script>\n",
              "        async function quickchart(key) {\n",
              "          const quickchartButtonEl =\n",
              "            document.querySelector('#' + key + ' button');\n",
              "          quickchartButtonEl.disabled = true;  // To prevent multiple clicks.\n",
              "          quickchartButtonEl.classList.add('colab-df-spinner');\n",
              "          try {\n",
              "            const charts = await google.colab.kernel.invokeFunction(\n",
              "                'suggestCharts', [key], {});\n",
              "          } catch (error) {\n",
              "            console.error('Error during call to suggestCharts:', error);\n",
              "          }\n",
              "          quickchartButtonEl.classList.remove('colab-df-spinner');\n",
              "          quickchartButtonEl.classList.add('colab-df-quickchart-complete');\n",
              "        }\n",
              "        (() => {\n",
              "          let quickchartButtonEl =\n",
              "            document.querySelector('#df-bd27f618-77f3-4f07-b806-4328733b4ab1 button');\n",
              "          quickchartButtonEl.style.display =\n",
              "            google.colab.kernel.accessAllowed ? 'block' : 'none';\n",
              "        })();\n",
              "      </script>\n",
              "    </div>\n",
              "\n",
              "    </div>\n",
              "  </div>\n"
            ],
            "application/vnd.google.colaboratory.intrinsic+json": {
              "type": "dataframe",
              "variable_name": "df",
              "summary": "{\n  \"name\": \"df\",\n  \"rows\": 132,\n  \"fields\": [\n    {\n      \"column\": \"Product_ID\",\n      \"properties\": {\n        \"dtype\": \"category\",\n        \"num_unique_values\": 12,\n        \"samples\": [\n          \"GNH18V-16MA\",\n          \"GSR18V-755C\",\n          \"GSH18V-5\"\n        ],\n        \"semantic_type\": \"\",\n        \"description\": \"\"\n      }\n    },\n    {\n      \"column\": \"Product_Name\",\n      \"properties\": {\n        \"dtype\": \"category\",\n        \"num_unique_values\": 12,\n        \"samples\": [\n          \"GNH18V-16MAN PROFESSIONAL\",\n          \"GSR18V-755CB25 PROFESSIONAL\",\n          \"GSH18V-5L PROFESSIONAL\"\n        ],\n        \"semantic_type\": \"\",\n        \"description\": \"\"\n      }\n    },\n    {\n      \"column\": \"Category\",\n      \"properties\": {\n        \"dtype\": \"category\",\n        \"num_unique_values\": 9,\n        \"samples\": [\n          \"Stapler\",\n          \"Drill/Driver\",\n          \"Finish Nailer\"\n        ],\n        \"semantic_type\": \"\",\n        \"description\": \"\"\n      }\n    },\n    {\n      \"column\": \"Review\",\n      \"properties\": {\n        \"dtype\": \"string\",\n        \"num_unique_values\": 132,\n        \"samples\": [\n          \"Used with the Core18V 8.0 Ah battery and it easily lasted through a full workday.\",\n          \"Doubles as a finish nailer with the right blade setup. Very versatile!\",\n          \"Gives me 1,900 ft-lbs of torque\\u2014more than enough to drive lag bolts into concrete walls.\"\n        ],\n        \"semantic_type\": \"\",\n        \"description\": \"\"\n      }\n    },\n    {\n      \"column\": \"Review_Date\",\n      \"properties\": {\n        \"dtype\": \"date\",\n        \"min\": \"2024-12-03 00:00:00\",\n        \"max\": \"2025-04-06 00:00:00\",\n        \"num_unique_values\": 77,\n        \"samples\": [\n          \"2025-04-02 00:00:00\",\n          \"2025-01-22 00:00:00\",\n          \"2025-03-31 00:00:00\"\n        ],\n        \"semantic_type\": \"\",\n        \"description\": \"\"\n      }\n    },\n    {\n      \"column\": \"Error_Type\",\n      \"properties\": {\n        \"dtype\": \"category\",\n        \"num_unique_values\": 3,\n        \"samples\": [\n          \"Clean\",\n          \"Semantic Misalignment\",\n          \"Specialized Error\"\n        ],\n        \"semantic_type\": \"\",\n        \"description\": \"\"\n      }\n    },\n    {\n      \"column\": \"Predicted_Error\",\n      \"properties\": {\n        \"dtype\": \"category\",\n        \"num_unique_values\": 3,\n        \"samples\": [\n          \"Clean\",\n          \"Semantic Misalignment\",\n          \"Specialized Error\"\n        ],\n        \"semantic_type\": \"\",\n        \"description\": \"\"\n      }\n    },\n    {\n      \"column\": \"Explanation\",\n      \"properties\": {\n        \"dtype\": \"string\",\n        \"num_unique_values\": 123,\n        \"samples\": [\n          \"The claim misunderstands the function of drills, which require a power source (battery or cord). Additionally, the statement is factually incorrect as drills cannot operate without a power source, making the claim misleading.\",\n          \"The text does not contain any semantic misalignment or specialized errors; it simply describes user experience with no technical claims or unsafe usage scenarios.\",\n          \"The text does not present any semantic misalignment or specialized errors; it accurately describes the tool's performance without technical inaccuracies or unsafe claims.\"\n        ],\n        \"semantic_type\": \"\",\n        \"description\": \"\"\n      }\n    }\n  ]\n}"
            }
          },
          "metadata": {},
          "execution_count": 52
        }
      ]
    },
    {
      "cell_type": "code",
      "source": [
        "#Save your results\n",
        "df.to_excel(\"semantic_and_contextual_errors.xlsx\", index=False)\n",
        "print(\"✅ Saved to semantic_and_contextual_errors.xlsx\")"
      ],
      "metadata": {
        "colab": {
          "base_uri": "https://localhost:8080/"
        },
        "id": "2VGIguHXa8YH",
        "outputId": "43327861-40df-4724-9f11-6225d0e01b2a"
      },
      "execution_count": null,
      "outputs": [
        {
          "output_type": "stream",
          "name": "stdout",
          "text": [
            "✅ Saved to semantic_and_contextual_errors.xlsx\n"
          ]
        }
      ]
    },
    {
      "cell_type": "markdown",
      "source": [
        "#Classification report"
      ],
      "metadata": {
        "id": "AdoGduTU3F8S"
      }
    },
    {
      "cell_type": "code",
      "source": [
        "import pandas as pd\n",
        "\n",
        "df = pd.read_excel('/content/semantic_and_contextual_errors-3.xlsx')\n",
        "print(df.head())"
      ],
      "metadata": {
        "id": "Jw8QsUuJK16-",
        "outputId": "fe32defe-966b-4b5d-e92e-69132d60cb71",
        "colab": {
          "base_uri": "https://localhost:8080/"
        }
      },
      "execution_count": null,
      "outputs": [
        {
          "output_type": "stream",
          "name": "stdout",
          "text": [
            "  Product_ID            Product_Name Category  \\\n",
            "0   GSH18V-5  GSH18V-5L PROFESSIONAL   Hammer   \n",
            "1   GSH18V-5  GSH18V-5L PROFESSIONAL   Hammer   \n",
            "2   GSH18V-5  GSH18V-5L PROFESSIONAL   Hammer   \n",
            "3   GSH18V-5  GSH18V-5L PROFESSIONAL   Hammer   \n",
            "4   GSH18V-5  GSH18V-5L PROFESSIONAL   Hammer   \n",
            "\n",
            "                                              Review Review_Date Error_Type  \\\n",
            "0  This Bosch SDS-max hammer delivers incredible ...  2025-03-12      Clean   \n",
            "1  Love the power and portability—running on an 1...  2025-01-23      Clean   \n",
            "2  Excellent performance even in cold weather. Wo...  2024-12-03      Clean   \n",
            "3  Compact design and powerful impact energy. The...  2025-02-10      Clean   \n",
            "4  Great tool for demolition inside tight spaces....  2025-04-02      Clean   \n",
            "\n",
            "  Predicted_Error                                        Explanation  \n",
            "0           Clean  The text accurately describes the product's fu...  \n",
            "1           Clean  The text does not exhibit semantic misalignmen...  \n",
            "2           Clean  The text does not exhibit semantic misalignmen...  \n",
            "3           Clean  The text accurately describes the product's fe...  \n",
            "4           Clean  The text does not contain any semantic misalig...  \n"
          ]
        }
      ]
    },
    {
      "cell_type": "code",
      "source": [
        "df = df.rename(columns={\"Error_Type\": \"Actual_Error\"})\n",
        "print(df.columns.tolist())"
      ],
      "metadata": {
        "id": "6PVio4UnLLAc",
        "outputId": "45cf924e-ffb2-4a87-875d-52ee4155bae8",
        "colab": {
          "base_uri": "https://localhost:8080/"
        }
      },
      "execution_count": null,
      "outputs": [
        {
          "output_type": "stream",
          "name": "stdout",
          "text": [
            "['Product_ID', 'Product_Name', 'Category', 'Review', 'Review_Date', 'Actual_Error', 'Predicted_Error', 'Explanation']\n"
          ]
        }
      ]
    },
    {
      "cell_type": "code",
      "source": [
        "import pandas as pd\n",
        "from sklearn.metrics import confusion_matrix, classification_report, accuracy_score\n",
        "import seaborn as sns\n",
        "import matplotlib.pyplot as plt\n",
        "\n",
        "y_true = df[\"Actual_Error\"]\n",
        "y_pred = df[\"Predicted_Error\"]\n",
        "\n",
        "# 2. Define the order of classes so matrix axes align:\n",
        "labels = [\"Clean\", \"Semantic Misalignment\", \"Specialized Error\"]\n",
        "\n",
        "# 3. Compute confusion matrix (raw counts):\n",
        "cm = confusion_matrix(y_true, y_pred, labels=labels)\n",
        "\n",
        "# 4. Display it as a heatmap for readability:\n",
        "plt.figure(figsize=(6,4))\n",
        "sns.heatmap(cm, annot=True, fmt=\"d\", cmap=\"Blues\",\n",
        "            xticklabels=labels, yticklabels=labels)\n",
        "plt.ylabel(\"Actual\")\n",
        "plt.xlabel(\"Predicted\")\n",
        "plt.title(\"Confusion Matrix\")\n",
        "plt.show()\n",
        "\n",
        "# 5. Compute overall accuracy:\n",
        "acc = accuracy_score(y_true, y_pred)\n",
        "print(f\"Accuracy: {acc:.3f}\\n\")\n",
        "\n",
        "# 6. Generate detailed per-class metrics:\n",
        "report = classification_report(y_true, y_pred, labels=labels, zero_division=0)\n",
        "print(\"Classification Report:\\n\", report)"
      ],
      "metadata": {
        "id": "EH8qXKUtLPNb",
        "outputId": "fc26de52-dc86-474c-d8fe-05983f2ffe80",
        "colab": {
          "base_uri": "https://localhost:8080/",
          "height": 791
        }
      },
      "execution_count": null,
      "outputs": [
        {
          "output_type": "display_data",
          "data": {
            "text/plain": [
              "<Figure size 600x400 with 2 Axes>"
            ],
            "image/png": "[encoded data removed]"
          },
          "metadata": {}
        },
        {
          "output_type": "stream",
          "name": "stdout",
          "text": [
            "Accuracy: 0.689\n",
            "\n",
            "Classification Report:\n",
            "                        precision    recall  f1-score   support\n",
            "\n",
            "                Clean       0.80      0.82      0.81        60\n",
            "Semantic Misalignment       0.52      0.33      0.41        36\n",
            "    Specialized Error       0.62      0.83      0.71        36\n",
            "\n",
            "             accuracy                           0.69       132\n",
            "            macro avg       0.65      0.66      0.64       132\n",
            "         weighted avg       0.68      0.69      0.67       132\n",
            "\n"
          ]
        }
      ]
    },
    {
      "cell_type": "code",
      "source": [
        "import pandas as pd\n",
        "from sklearn.metrics import accuracy_score\n",
        "\n",
        "labels = [\"Clean\", \"Semantic Misalignment\", \"Specialized Error\"]\n",
        "\n",
        "for label in labels:\n",
        "    # select only the rows where the actual label is `label`\n",
        "    mask = df[\"Actual_Error\"] == label\n",
        "\n",
        "    # compute accuracy on that subset\n",
        "    acc = accuracy_score(\n",
        "        df.loc[mask, \"Actual_Error\"],\n",
        "        df.loc[mask, \"Predicted_Error\"]\n",
        "    )\n",
        "    print(f\"{label:22s} accuracy: {acc:.3f}  (n={mask.sum()})\")"
      ],
      "metadata": {
        "id": "Lk2krkajLip8",
        "outputId": "3265b4d1-3917-4d44-98c6-ee2353fca63e",
        "colab": {
          "base_uri": "https://localhost:8080/"
        }
      },
      "execution_count": null,
      "outputs": [
        {
          "output_type": "stream",
          "name": "stdout",
          "text": [
            "Clean                  accuracy: 0.817  (n=60)\n",
            "Semantic Misalignment  accuracy: 0.333  (n=36)\n",
            "Specialized Error      accuracy: 0.833  (n=36)\n"
          ]
        }
      ]
    }
  ]
}