{
  "nbformat": 4,
  "nbformat_minor": 0,
  "metadata": {
    "colab": {
      "provenance": [],
      "gpuType": "T4"
    },
    "kernelspec": {
      "name": "python3",
      "display_name": "Python 3"
    },
    "language_info": {
      "name": "python"
    },
    "accelerator": "GPU"
  },
  "cells": [
    {
      "cell_type": "code",
      "execution_count": null,
      "metadata": {
        "colab": {
          "base_uri": "https://localhost:8080/"
        },
        "id": "FfirdH3O2dnS",
        "outputId": "4dc4a4dd-e287-404d-a6ca-4157621ce124"
      },
      "outputs": [
        {
          "output_type": "stream",
          "name": "stdout",
          "text": [
            "\u001b[?25l   \u001b[90m━━━━━━━━━━━━━━━━━━━━━━━━━━━━━━━━━━━━━━━━\u001b[0m \u001b[32m0.0/2.5 MB\u001b[0m \u001b[31m?\u001b[0m eta \u001b[36m-:--:--\u001b[0m\r\u001b[2K   \u001b[91m━━━━━━━━━━━━━━━━━━━━━━━━━━━━━━━━━━━━━━━\u001b[0m\u001b[91m╸\u001b[0m \u001b[32m2.5/2.5 MB\u001b[0m \u001b[31m162.6 MB/s\u001b[0m eta \u001b[36m0:00:01\u001b[0m\r\u001b[2K   \u001b[90m━━━━━━━━━━━━━━━━━━━━━━━━━━━━━━━━━━━━━━━━\u001b[0m \u001b[32m2.5/2.5 MB\u001b[0m \u001b[31m72.0 MB/s\u001b[0m eta \u001b[36m0:00:00\u001b[0m\n",
            "\u001b[?25h\u001b[?25l   \u001b[90m━━━━━━━━━━━━━━━━━━━━━━━━━━━━━━━━━━━━━━━━\u001b[0m \u001b[32m0.0/61.3 kB\u001b[0m \u001b[31m?\u001b[0m eta \u001b[36m-:--:--\u001b[0m\r\u001b[2K   \u001b[90m━━━━━━━━━━━━━━━━━━━━━━━━━━━━━━━━━━━━━━━━\u001b[0m \u001b[32m61.3/61.3 kB\u001b[0m \u001b[31m5.5 MB/s\u001b[0m eta \u001b[36m0:00:00\u001b[0m\n",
            "\u001b[2K   \u001b[90m━━━━━━━━━━━━━━━━━━━━━━━━━━━━━━━━━━━━━━━━\u001b[0m \u001b[32m209.2/209.2 kB\u001b[0m \u001b[31m17.3 MB/s\u001b[0m eta \u001b[36m0:00:00\u001b[0m\n",
            "\u001b[2K   \u001b[90m━━━━━━━━━━━━━━━━━━━━━━━━━━━━━━━━━━━━━━━━\u001b[0m \u001b[32m312.3/312.3 kB\u001b[0m \u001b[31m24.0 MB/s\u001b[0m eta \u001b[36m0:00:00\u001b[0m\n",
            "\u001b[2K   \u001b[90m━━━━━━━━━━━━━━━━━━━━━━━━━━━━━━━━━━━━━━━━\u001b[0m \u001b[32m177.2/177.2 kB\u001b[0m \u001b[31m15.0 MB/s\u001b[0m eta \u001b[36m0:00:00\u001b[0m\n",
            "\u001b[2K   \u001b[90m━━━━━━━━━━━━━━━━━━━━━━━━━━━━━━━━━━━━━━━━\u001b[0m \u001b[32m1.2/1.2 MB\u001b[0m \u001b[31m51.9 MB/s\u001b[0m eta \u001b[36m0:00:00\u001b[0m\n",
            "\u001b[2K   \u001b[90m━━━━━━━━━━━━━━━━━━━━━━━━━━━━━━━━━━━━━━━━\u001b[0m \u001b[32m50.9/50.9 kB\u001b[0m \u001b[31m5.0 MB/s\u001b[0m eta \u001b[36m0:00:00\u001b[0m\n",
            "\u001b[?25h"
          ]
        }
      ],
      "source": [
        "!pip install --quiet langchain langchain_community langchain-openai langchain-experimental neo4j py2neo openai tiktoken"
      ]
    },
    {
      "cell_type": "code",
      "source": [
        "from langchain_openai import AzureChatOpenAI"
      ],
      "metadata": {
        "id": "AA_bZjIW5w_o"
      },
      "execution_count": null,
      "outputs": []
    },
    {
      "cell_type": "code",
      "source": [
        "pip install -U :class:`~langchain-openai"
      ],
      "metadata": {
        "colab": {
          "base_uri": "https://localhost:8080/"
        },
        "id": "Tug07JQD5skk",
        "outputId": "8f3f33ff-eb4e-4a39-9e04-5f6626d656b8"
      },
      "execution_count": null,
      "outputs": [
        {
          "output_type": "stream",
          "name": "stdout",
          "text": [
            "/bin/bash: -c: line 1: unexpected EOF while looking for matching ``'\n",
            "/bin/bash: -c: line 2: syntax error: unexpected end of file\n"
          ]
        }
      ]
    },
    {
      "cell_type": "code",
      "source": [
        "pip install json-repair"
      ],
      "metadata": {
        "colab": {
          "base_uri": "https://localhost:8080/"
        },
        "id": "kSz9urv75uGw",
        "outputId": "5732fb9f-f13e-474c-8174-75bf6716730d"
      },
      "execution_count": null,
      "outputs": [
        {
          "output_type": "stream",
          "name": "stdout",
          "text": [
            "Collecting json-repair\n",
            "  Downloading json_repair-0.40.0-py3-none-any.whl.metadata (11 kB)\n",
            "Downloading json_repair-0.40.0-py3-none-any.whl (20 kB)\n",
            "Installing collected packages: json-repair\n",
            "Successfully installed json-repair-0.40.0\n"
          ]
        }
      ]
    },
    {
      "cell_type": "code",
      "source": [
        "pip install -U langchain langchain-openai"
      ],
      "metadata": {
        "colab": {
          "base_uri": "https://localhost:8080/"
        },
        "id": "MsljzrTPWPYO",
        "outputId": "52a90886-4813-4b45-b3e4-1af7f6bdbe98"
      },
      "execution_count": null,
      "outputs": [
        {
          "output_type": "stream",
          "name": "stdout",
          "text": [
            "Requirement already satisfied: langchain in /usr/local/lib/python3.11/dist-packages (0.3.21)\n",
            "Collecting langchain\n",
            "  Downloading langchain-0.3.22-py3-none-any.whl.metadata (7.8 kB)\n",
            "Requirement already satisfied: langchain-openai in /usr/local/lib/python3.11/dist-packages (0.3.12)\n",
            "Requirement already satisfied: langchain-core<1.0.0,>=0.3.49 in /usr/local/lib/python3.11/dist-packages (from langchain) (0.3.49)\n",
            "Requirement already satisfied: langchain-text-splitters<1.0.0,>=0.3.7 in /usr/local/lib/python3.11/dist-packages (from langchain) (0.3.7)\n",
            "Requirement already satisfied: langsmith<0.4,>=0.1.17 in /usr/local/lib/python3.11/dist-packages (from langchain) (0.3.19)\n",
            "Requirement already satisfied: pydantic<3.0.0,>=2.7.4 in /usr/local/lib/python3.11/dist-packages (from langchain) (2.11.0)\n",
            "Requirement already satisfied: SQLAlchemy<3,>=1.4 in /usr/local/lib/python3.11/dist-packages (from langchain) (2.0.40)\n",
            "Requirement already satisfied: requests<3,>=2 in /usr/local/lib/python3.11/dist-packages (from langchain) (2.32.3)\n",
            "Requirement already satisfied: PyYAML>=5.3 in /usr/local/lib/python3.11/dist-packages (from langchain) (6.0.2)\n",
            "Requirement already satisfied: openai<2.0.0,>=1.68.2 in /usr/local/lib/python3.11/dist-packages (from langchain-openai) (1.69.0)\n",
            "Requirement already satisfied: tiktoken<1,>=0.7 in /usr/local/lib/python3.11/dist-packages (from langchain-openai) (0.9.0)\n",
            "Requirement already satisfied: tenacity!=8.4.0,<10.0.0,>=8.1.0 in /usr/local/lib/python3.11/dist-packages (from langchain-core<1.0.0,>=0.3.49->langchain) (9.0.0)\n",
            "Requirement already satisfied: jsonpatch<2.0,>=1.33 in /usr/local/lib/python3.11/dist-packages (from langchain-core<1.0.0,>=0.3.49->langchain) (1.33)\n",
            "Requirement already satisfied: packaging<25,>=23.2 in /usr/local/lib/python3.11/dist-packages (from langchain-core<1.0.0,>=0.3.49->langchain) (24.2)\n",
            "Requirement already satisfied: typing-extensions>=4.7 in /usr/local/lib/python3.11/dist-packages (from langchain-core<1.0.0,>=0.3.49->langchain) (4.13.0)\n",
            "Requirement already satisfied: httpx<1,>=0.23.0 in /usr/local/lib/python3.11/dist-packages (from langsmith<0.4,>=0.1.17->langchain) (0.28.1)\n",
            "Requirement already satisfied: orjson<4.0.0,>=3.9.14 in /usr/local/lib/python3.11/dist-packages (from langsmith<0.4,>=0.1.17->langchain) (3.10.16)\n",
            "Requirement already satisfied: requests-toolbelt<2.0.0,>=1.0.0 in /usr/local/lib/python3.11/dist-packages (from langsmith<0.4,>=0.1.17->langchain) (1.0.0)\n",
            "Requirement already satisfied: zstandard<0.24.0,>=0.23.0 in /usr/local/lib/python3.11/dist-packages (from langsmith<0.4,>=0.1.17->langchain) (0.23.0)\n",
            "Requirement already satisfied: anyio<5,>=3.5.0 in /usr/local/lib/python3.11/dist-packages (from openai<2.0.0,>=1.68.2->langchain-openai) (4.9.0)\n",
            "Requirement already satisfied: distro<2,>=1.7.0 in /usr/local/lib/python3.11/dist-packages (from openai<2.0.0,>=1.68.2->langchain-openai) (1.9.0)\n",
            "Requirement already satisfied: jiter<1,>=0.4.0 in /usr/local/lib/python3.11/dist-packages (from openai<2.0.0,>=1.68.2->langchain-openai) (0.9.0)\n",
            "Requirement already satisfied: sniffio in /usr/local/lib/python3.11/dist-packages (from openai<2.0.0,>=1.68.2->langchain-openai) (1.3.1)\n",
            "Requirement already satisfied: tqdm>4 in /usr/local/lib/python3.11/dist-packages (from openai<2.0.0,>=1.68.2->langchain-openai) (4.67.1)\n",
            "Requirement already satisfied: annotated-types>=0.6.0 in /usr/local/lib/python3.11/dist-packages (from pydantic<3.0.0,>=2.7.4->langchain) (0.7.0)\n",
            "Requirement already satisfied: pydantic-core==2.33.0 in /usr/local/lib/python3.11/dist-packages (from pydantic<3.0.0,>=2.7.4->langchain) (2.33.0)\n",
            "Requirement already satisfied: typing-inspection>=0.4.0 in /usr/local/lib/python3.11/dist-packages (from pydantic<3.0.0,>=2.7.4->langchain) (0.4.0)\n",
            "Requirement already satisfied: charset-normalizer<4,>=2 in /usr/local/lib/python3.11/dist-packages (from requests<3,>=2->langchain) (3.4.1)\n",
            "Requirement already satisfied: idna<4,>=2.5 in /usr/local/lib/python3.11/dist-packages (from requests<3,>=2->langchain) (3.10)\n",
            "Requirement already satisfied: urllib3<3,>=1.21.1 in /usr/local/lib/python3.11/dist-packages (from requests<3,>=2->langchain) (2.3.0)\n",
            "Requirement already satisfied: certifi>=2017.4.17 in /usr/local/lib/python3.11/dist-packages (from requests<3,>=2->langchain) (2025.1.31)\n",
            "Requirement already satisfied: greenlet>=1 in /usr/local/lib/python3.11/dist-packages (from SQLAlchemy<3,>=1.4->langchain) (3.1.1)\n",
            "Requirement already satisfied: regex>=2022.1.18 in /usr/local/lib/python3.11/dist-packages (from tiktoken<1,>=0.7->langchain-openai) (2024.11.6)\n",
            "Requirement already satisfied: httpcore==1.* in /usr/local/lib/python3.11/dist-packages (from httpx<1,>=0.23.0->langsmith<0.4,>=0.1.17->langchain) (1.0.7)\n",
            "Requirement already satisfied: h11<0.15,>=0.13 in /usr/local/lib/python3.11/dist-packages (from httpcore==1.*->httpx<1,>=0.23.0->langsmith<0.4,>=0.1.17->langchain) (0.14.0)\n",
            "Requirement already satisfied: jsonpointer>=1.9 in /usr/local/lib/python3.11/dist-packages (from jsonpatch<2.0,>=1.33->langchain-core<1.0.0,>=0.3.49->langchain) (3.0.0)\n",
            "Downloading langchain-0.3.22-py3-none-any.whl (1.0 MB)\n",
            "\u001b[2K   \u001b[90m━━━━━━━━━━━━━━━━━━━━━━━━━━━━━━━━━━━━━━━━\u001b[0m \u001b[32m1.0/1.0 MB\u001b[0m \u001b[31m24.5 MB/s\u001b[0m eta \u001b[36m0:00:00\u001b[0m\n",
            "\u001b[?25hInstalling collected packages: langchain\n",
            "  Attempting uninstall: langchain\n",
            "    Found existing installation: langchain 0.3.21\n",
            "    Uninstalling langchain-0.3.21:\n",
            "      Successfully uninstalled langchain-0.3.21\n",
            "Successfully installed langchain-0.3.22\n"
          ]
        }
      ]
    },
    {
      "cell_type": "code",
      "source": [
        "LANGSMITH_TRACING= True\n",
        "LANGSMITH_ENDPOINT=\"https://api.smith.langchain.com\"\n",
        "LANGSMITH_API_KEY=\"ADD_API_KEY\"\n",
        "LANGSMITH_PROJECT=\"pr-earnest-inspection-19\""
      ],
      "metadata": {
        "id": "ohJl4S6eVVs1"
      },
      "execution_count": null,
      "outputs": []
    },
    {
      "cell_type": "markdown",
      "source": [
        "Adding credentials to connect with AZURE OPENAI API"
      ],
      "metadata": {
        "id": "ZeZc-5tT9v5-"
      }
    },
    {
      "cell_type": "code",
      "source": [
        "import os\n",
        "from langchain_openai import AzureChatOpenAI\n",
        "from langchain_experimental.graph_transformers import LLMGraphTransformer\n",
        "\n",
        "# LangChain / Graph\n",
        "from langchain_community.graphs import Neo4jGraph\n",
        "from langchain_experimental.graph_transformers import LLMGraphTransformer\n",
        "from langchain_core.documents import Document\n",
        "from openai import OpenAI\n",
        "import os\n",
        "from langchain_openai import AzureChatOpenAI\n",
        "from langchain_experimental.graph_transformers import LLMGraphTransformer\n",
        "# Set Azure OpenAI API Details\n",
        "os.environ[\"AZURE_OPENAI_API_KEY\"] = \"ADD_API_KEY\"\n",
        "os.environ[\"AZURE_OPENAI_ENDPOINT\"] = \"https://llm-data-quality.openai.azure.com/\"\n",
        "os.environ[\"AZURE_OPENAI_DEPLOYMENT\"] = \"gpt-4o\"  # Must match Azure\n",
        "os.environ[\"AZURE_OPENAI_API_VERSION\"] = \"2024-08-01-preview\"  # Recommended version\n",
        "\n",
        "# Initialize AzureChatOpenAI (Fixed format)\n",
        "llm = AzureChatOpenAI(\n",
        "    azure_endpoint=os.environ[\"AZURE_OPENAI_ENDPOINT\"],\n",
        "    azure_deployment=os.environ[\"AZURE_OPENAI_DEPLOYMENT\"],\n",
        "    api_key=os.environ[\"AZURE_OPENAI_API_KEY\"],\n",
        "    api_version=os.environ[\"AZURE_OPENAI_API_VERSION\"],\n",
        "    temperature=0.0\n",
        ")\n",
        "\n",
        "# Test the connection with .invoke()\n",
        "try:\n",
        "    response = llm.invoke(\n",
        "        [{\"role\": \"system\", \"content\": \"Hello, can you confirm this works?\"}]\n",
        "    )\n",
        "    print(\"✅ Azure OpenAI is working!\")\n",
        "    print(response)\n",
        "except Exception as e:\n",
        "    print(\"❌ Azure OpenAI is NOT working:\", e)\n",
        "\n",
        "# Create LLM->Graph transformer\n",
        "llm_transformer = LLMGraphTransformer(llm=llm)\n"
      ],
      "metadata": {
        "colab": {
          "base_uri": "https://localhost:8080/"
        },
        "id": "KkOEKYKzNehU",
        "outputId": "827f200e-0fcc-4b95-bacf-8f8f11760f2f"
      },
      "execution_count": null,
      "outputs": [
        {
          "output_type": "stream",
          "name": "stdout",
          "text": [
            "✅ Azure OpenAI is working!\n",
            "content='Yes, I can confirm that this works! How can I assist you today? 😊' additional_kwargs={'refusal': None} response_metadata={'token_usage': {'completion_tokens': 18, 'prompt_tokens': 15, 'total_tokens': 33, 'completion_tokens_details': {'accepted_prediction_tokens': 0, 'audio_tokens': 0, 'reasoning_tokens': 0, 'rejected_prediction_tokens': 0}, 'prompt_tokens_details': {'audio_tokens': 0, 'cached_tokens': 0}}, 'model_name': 'gpt-4o-2024-11-20', 'system_fingerprint': 'fp_ded0d14823', 'id': 'chatcmpl-BHuEhAjekgWf0swxPvyACKhkHBhfJ', 'prompt_filter_results': [{'prompt_index': 0, 'content_filter_results': {}}], 'finish_reason': 'stop', 'logprobs': None, 'content_filter_results': {'hate': {'filtered': False, 'severity': 'safe'}, 'self_harm': {'filtered': False, 'severity': 'safe'}, 'sexual': {'filtered': False, 'severity': 'safe'}, 'violence': {'filtered': False, 'severity': 'safe'}}} id='run-bc1b16c4-ace4-4936-a164-05c032feabb4-0' usage_metadata={'input_tokens': 15, 'output_tokens': 18, 'total_tokens': 33, 'input_token_details': {'audio': 0, 'cache_read': 0}, 'output_token_details': {'audio': 0, 'reasoning': 0}}\n"
          ]
        }
      ]
    },
    {
      "cell_type": "code",
      "source": [
        "!neo4j start"
      ],
      "metadata": {
        "colab": {
          "base_uri": "https://localhost:8080/"
        },
        "id": "w-Rs4VW0ByrT",
        "outputId": "38e5b502-2578-45b6-efca-a0ea06e96338"
      },
      "execution_count": null,
      "outputs": [
        {
          "output_type": "stream",
          "name": "stdout",
          "text": [
            "/bin/bash: line 1: neo4j: command not found\n"
          ]
        }
      ]
    },
    {
      "cell_type": "code",
      "source": [
        "from neo4j import GraphDatabase\n",
        "\n",
        "# URI examples: \"neo4j://localhost\", \"neo4j+s://xxx.databases.neo4j.io\"\n",
        "URI = \"neo4j+s://8ee3c741.databases.neo4j.io\"\n",
        "AUTH = (\"neo4j\", \"ADD_KEY\")\n",
        "\n",
        "with GraphDatabase.driver(URI, auth=AUTH) as driver:\n",
        "    driver.verify_connectivity()"
      ],
      "metadata": {
        "id": "TgMQH95dG8BV"
      },
      "execution_count": null,
      "outputs": []
    },
    {
      "cell_type": "markdown",
      "source": [
        "Making a **small graph using text** from website on Neo4jAura\n",
        "\n",
        "---\n",
        "\n"
      ],
      "metadata": {
        "id": "ifBsXcP39jjJ"
      }
    },
    {
      "cell_type": "code",
      "source": [
        "#Provide text from Bosch power tools\n",
        "text = \"\"\"\n",
        "The Bosch GNH18V-18M is an 18V Brushless 18-gauge Brad Nailer offering cordless convenience.\n",
        "It uses a CORE18V 4 Ah battery, delivering up to 2,000 nails per charge.\n",
        "Key features include a Dry-fire lockout to prevent damage,\n",
        "and an intuitive user interface toggling between single and bump-fire modes.\n",
        "\"\"\"\n",
        "\n",
        "documents = [Document(page_content=text)]\n",
        "\n"
      ],
      "metadata": {
        "id": "TsH37KEYJJLP"
      },
      "execution_count": null,
      "outputs": []
    },
    {
      "cell_type": "code",
      "source": [
        "#Convert to Graph\n",
        "graph_docs = llm_transformer.convert_to_graph_documents(documents)\n",
        "\n",
        "# Initialize the Neo4jGraph object with URI and authentication details\n",
        "from langchain_community.graphs import Neo4jGraph # Import the necessary class\n",
        "graph = Neo4jGraph(url=URI, username=AUTH[0], password=AUTH[1])\n",
        "\n",
        "if graph_docs:\n",
        "    # Print extracted info\n",
        "    for node in graph_docs[0].nodes:\n",
        "        print(\"Node =>\", node)\n",
        "    for rel in graph_docs[0].relationships:\n",
        "        print(\"Relation =>\", rel)\n",
        "    # Insert into Neo4j\n",
        "    graph.add_graph_documents(graph_docs)"
      ],
      "metadata": {
        "colab": {
          "base_uri": "https://localhost:8080/"
        },
        "id": "L38KBJ7dPZuK",
        "outputId": "f95228a8-c7ad-4feb-a62b-2ec5a8ead31e"
      },
      "execution_count": null,
      "outputs": [
        {
          "output_type": "stream",
          "name": "stderr",
          "text": [
            "<ipython-input-18-6061cdef3003>:6: LangChainDeprecationWarning: The class `Neo4jGraph` was deprecated in LangChain 0.3.8 and will be removed in 1.0. An updated version of the class exists in the :class:`~langchain-neo4j package and should be used instead. To use it run `pip install -U :class:`~langchain-neo4j` and import as `from :class:`~langchain_neo4j import Neo4jGraph``.\n",
            "  graph = Neo4jGraph(url=URI, username=AUTH[0], password=AUTH[1])\n"
          ]
        },
        {
          "output_type": "stream",
          "name": "stdout",
          "text": [
            "Node => id='Bosch Gnh18V-18M' type='Product' properties={}\n",
            "Node => id='Core18V 4 Ah Battery' type='Product' properties={}\n",
            "Node => id='Dry-Fire Lockout' type='Feature' properties={}\n",
            "Node => id='Intuitive User Interface' type='Feature' properties={}\n",
            "Node => id='Single-Fire Mode' type='Feature' properties={}\n",
            "Node => id='Bump-Fire Mode' type='Feature' properties={}\n",
            "Relation => source=Node(id='Bosch Gnh18V-18M', type='Product', properties={}) target=Node(id='Core18V 4 Ah Battery', type='Product', properties={}) type='USES' properties={}\n",
            "Relation => source=Node(id='Bosch Gnh18V-18M', type='Product', properties={}) target=Node(id='Dry-Fire Lockout', type='Feature', properties={}) type='HAS_FEATURE' properties={}\n",
            "Relation => source=Node(id='Bosch Gnh18V-18M', type='Product', properties={}) target=Node(id='Intuitive User Interface', type='Feature', properties={}) type='HAS_FEATURE' properties={}\n",
            "Relation => source=Node(id='Intuitive User Interface', type='Feature', properties={}) target=Node(id='Single-Fire Mode', type='Feature', properties={}) type='TOGGLES_BETWEEN' properties={}\n",
            "Relation => source=Node(id='Intuitive User Interface', type='Feature', properties={}) target=Node(id='Bump-Fire Mode', type='Feature', properties={}) type='TOGGLES_BETWEEN' properties={}\n"
          ]
        }
      ]
    },
    {
      "cell_type": "markdown",
      "source": [
        "Retrieving **data from the graph**\n",
        "\n",
        "---\n",
        "\n",
        "\n"
      ],
      "metadata": {
        "id": "kzKd3dG-9c4E"
      }
    },
    {
      "cell_type": "code",
      "source": [
        "from neo4j import GraphDatabase\n",
        "\n",
        "class Neo4jQuery:\n",
        "    def __init__(self, uri, user, password):\n",
        "        self.driver = GraphDatabase.driver(uri, auth=(user, password))\n",
        "\n",
        "    def close(self):\n",
        "        self.driver.close()\n",
        "\n",
        "    def fetch_tool_features(self, tool_name):\n",
        "        query = \"\"\"\n",
        "        MATCH (t:Product {id: $tool_name})-[:HAS_FEATURE]->(f:Feature)\n",
        "        RETURN f.id AS feature_name\n",
        "        \"\"\"\n",
        "        with self.driver.session() as session:\n",
        "            result = session.run(query, tool_name=tool_name)\n",
        "            return [record[\"feature_name\"] for record in result]\n",
        "\n",
        "    def fetch_tool_info(self, tool_name):\n",
        "        \"\"\"Fetches tool information from Neo4j.\"\"\"\n",
        "        # This is a placeholder. You'll need to define the actual query\n",
        "        # to retrieve the necessary tool information.\n",
        "        # Adjust the query and return value as needed.\n",
        "        query = \"\"\"\n",
        "            MATCH (t:Product {id: $tool_name})\n",
        "            RETURN t\n",
        "        \"\"\"\n",
        "        with self.driver.session() as session:\n",
        "            result = session.run(query, tool_name=tool_name)\n",
        "            # Process the result to extract the desired tool information.\n",
        "            # For example, you might return a dictionary of tool attributes.\n",
        "            tool_info = {}\n",
        "            for record in result:\n",
        "                tool_node = record[\"t\"]\n",
        "                tool_info[\"features\"] = list(tool_node.get(\"features\", []))\n",
        "                # Add more properties as needed\n",
        "            return tool_info\n",
        "\n",
        "# Connect to Neo4j\n",
        "neo4j_query = Neo4jQuery(URI, AUTH[0], AUTH[1])\n",
        "\n",
        "# Fetch features for Bosch Gnh18V-18M\n",
        "tool_features = neo4j_query.fetch_tool_features(\"Bosch Gnh18V-18M\")\n",
        "print(\"Retrieved Features:\", tool_features)"
      ],
      "metadata": {
        "colab": {
          "base_uri": "https://localhost:8080/"
        },
        "id": "A2z8xy8dUPxA",
        "outputId": "45d4d420-8c31-4447-987f-bd7dfa90fe24"
      },
      "execution_count": null,
      "outputs": [
        {
          "output_type": "stream",
          "name": "stdout",
          "text": [
            "Retrieved Features: ['Dry-Fire Lockout', 'Intuitive User Interface']\n"
          ]
        }
      ]
    },
    {
      "cell_type": "code",
      "source": [
        "def extract_tool_references(text):\n",
        "    \"\"\"\n",
        "    Extract potential tool names & numeric references using regex.\n",
        "    \"\"\"\n",
        "    tool_pattern = re.compile(r\"\\b(Bosch\\s[\\w\\d-]+)\\b\", re.IGNORECASE)  # Detect \"Bosch Gnh18V-18M\"\n",
        "    number_pattern = re.compile(r\"(\\d+\\.?\\d*)\\s?(Nm|V|RPM|PSI)\")  # Detect torque/voltage/speed\n",
        "\n",
        "    tool_matches = tool_pattern.findall(text)\n",
        "    number_matches = number_pattern.findall(text)\n",
        "\n",
        "    extracted_numbers = [f\"{num} {unit}\" for num, unit in number_matches]\n",
        "\n",
        "    return {\n",
        "        \"tools\": list(set(tool_matches)),  # Remove duplicates\n",
        "        \"numbers\": extracted_numbers\n",
        "    }"
      ],
      "metadata": {
        "id": "rAJyUcFY3KdJ"
      },
      "execution_count": null,
      "outputs": []
    },
    {
      "cell_type": "code",
      "source": [
        "!pip install pymupdf"
      ],
      "metadata": {
        "colab": {
          "base_uri": "https://localhost:8080/"
        },
        "id": "kdvGXMB1fklB",
        "outputId": "139a5ec8-38b0-4e60-a225-07c424400ef0"
      },
      "execution_count": null,
      "outputs": [
        {
          "output_type": "stream",
          "name": "stdout",
          "text": [
            "Collecting pymupdf\n",
            "  Downloading pymupdf-1.25.4-cp39-abi3-manylinux2014_x86_64.manylinux_2_17_x86_64.whl.metadata (3.4 kB)\n",
            "Downloading pymupdf-1.25.4-cp39-abi3-manylinux2014_x86_64.manylinux_2_17_x86_64.whl (20.0 MB)\n",
            "\u001b[2K   \u001b[90m━━━━━━━━━━━━━━━━━━━━━━━━━━━━━━━━━━━━━━━━\u001b[0m \u001b[32m20.0/20.0 MB\u001b[0m \u001b[31m45.9 MB/s\u001b[0m eta \u001b[36m0:00:00\u001b[0m\n",
            "\u001b[?25hInstalling collected packages: pymupdf\n",
            "Successfully installed pymupdf-1.25.4\n"
          ]
        }
      ]
    },
    {
      "cell_type": "markdown",
      "source": [
        "Generating large **synthetic data via Azure Open AI API** key, Scaling the data"
      ],
      "metadata": {
        "id": "eBR2mPaS6r7T"
      }
    },
    {
      "cell_type": "code",
      "source": [
        "import openai\n",
        "import pandas as pd\n",
        "import os\n",
        "import re\n",
        "\n",
        "# --- Azure OpenAI Setup ---\n",
        "client = openai.AzureOpenAI(\n",
        "    api_key=os.environ[\"AZURE_OPENAI_API_KEY\"],\n",
        "    api_version=os.environ[\"AZURE_OPENAI_API_VERSION\"],\n",
        "    azure_endpoint=os.environ[\"AZURE_OPENAI_ENDPOINT\"]\n",
        ")\n",
        "\n",
        "def generate_synthetic_reviews(n=500):\n",
        "    \"\"\"Generate structured synthetic reviews using OpenAI and return raw response.\"\"\"\n",
        "    system_prompt = f\"\"\"\n",
        "    You are a power tool expert generating **structured customer reviews** in CSV format.\n",
        "\n",
        "    **CSV Format (each row must follow this structure):**\n",
        "    Product_ID, Product_Name, Category, Review, Review_Date\n",
        "\n",
        "    **Rules:**\n",
        "    - **Product_Name & Category**: Use realistic Bosch power tools (drills, saws, grinders, etc.).\n",
        "    - **Review**:\n",
        "      - Must describe **realistic power tool features** (e.g., torque, battery life).\n",
        "      - **10% of reviews should have errors**:\n",
        "        - **Semantic Errors** (wrong tool names, typos).\n",
        "        - **Technical Errors** (incorrect torque, voltage, material use).\n",
        "    - **Date Format**: MM/DD/YYYY\n",
        "    - **Strictly output valid CSV rows. DO NOT add explanations.**\n",
        "    \"\"\"\n",
        "\n",
        "    user_prompt = f\"Generate {n} structured, varied customer reviews in the exact format above.\"\n",
        "\n",
        "    response = client.chat.completions.create(\n",
        "        model=\"gpt-4o\",\n",
        "        messages=[\n",
        "            {\"role\": \"system\", \"content\": system_prompt},\n",
        "            {\"role\": \"user\", \"content\": user_prompt}\n",
        "        ],\n",
        "        temperature=0.7\n",
        "    )\n",
        "\n",
        "    output_text = response.choices[0].message.content.strip()\n",
        "\n",
        "    # Print raw response for debugging\n",
        "    print(\"\\n **Raw API Response:**\\n\", output_text, \"\\n\")\n",
        "\n",
        "    return output_text\n",
        "\n",
        "def parse_ai_data(ai_data):\n",
        "    \"\"\"\n",
        "    Parses AI-generated CSV-like text into a structured Pandas DataFrame.\n",
        "    - Removes unwanted words like \"csv\".\n",
        "    - Ensures proper column separation.\n",
        "    - Handles common formatting issues.\n",
        "    \"\"\"\n",
        "    try:\n",
        "        # Remove unwanted prefixes (like \"csv\" or extra numbers at the start)\n",
        "        clean_data = re.sub(r\"^(csv\\s+)\", \"\", ai_data, count=1)\n",
        "\n",
        "        # Split rows by newline\n",
        "        rows = clean_data.strip().split(\"\\n\")\n",
        "\n",
        "        # Ensure correct CSV-like structure\n",
        "        structured_rows = [row.strip() for row in rows if row.count(\",\") >= 4]  # At least 4 commas to ensure 5 columns\n",
        "\n",
        "        # Split into columns\n",
        "        parsed_data = [row.split(\",\", maxsplit=4) for row in structured_rows]  # Ensures only 5 columns\n",
        "\n",
        "        # Convert to DataFrame\n",
        "        df = pd.DataFrame(parsed_data, columns=[\"Product_ID\", \"Product_Name\", \"Category\", \"Review\", \"Review_Date\"])\n",
        "\n",
        "        # Ensure Review_Date is in proper date format\n",
        "        df[\"Review_Date\"] = pd.to_datetime(df[\"Review_Date\"], errors=\"coerce\")\n",
        "\n",
        "        return df\n",
        "\n",
        "    except Exception as e:\n",
        "        print(f\" Error processing AI-generated data: {e}\")\n",
        "        return None\n",
        "\n",
        "# --- Generate 10 Reviews (for Debugging) ---\n",
        "num_reviews = 500\n",
        "ai_data = generate_synthetic_reviews(num_reviews)\n",
        "\n",
        "if ai_data:\n",
        "    print(\"\\n✅ **AI-Generated Data Successfully Retrieved**\")\n",
        "\n",
        "    # Parse AI data into structured format\n",
        "    df = parse_ai_data(ai_data)\n",
        "\n",
        "    if df is not None:\n",
        "\n",
        "        # Save to CSV\n",
        "        csv_path = \"/content/Reviews500.csv\"\n",
        "        df.to_csv(csv_path, index=False)\n",
        "\n",
        "        print(f\"\\n **Structured Data Saved:** {csv_path}\")\n"
      ],
      "metadata": {
        "id": "Q5e-kKZJ5kkK",
        "colab": {
          "base_uri": "https://localhost:8080/"
        },
        "outputId": "8c6ffdbd-aa03-4780-a870-4bcd6d07a7e1"
      },
      "execution_count": null,
      "outputs": [
        {
          "output_type": "stream",
          "name": "stdout",
          "text": [
            "\n",
            " **Raw API Response:**\n",
            " ```csv\n",
            "Product_ID,Product_Name,Category,Review,Review_Date\n",
            "101,Bosch GSB 18V-55,Cordless Drill,\"Excellent torque and battery life. Perfect for heavy-duty drilling tasks.\",01/15/2023\n",
            "102,Bosch GWS 18V-10 C,Cordless Grinder,\"Powerful yet compact. Cuts through metal like butter.\",02/10/2023\n",
            "103,Bosch GST 18V-LI B,Cordless Jigsaw,\"Smooth performance on wood and plastic. Blade change is seamless.\",03/08/2023\n",
            "104,Bosch GCM 12 SDE,Miter Saw,\"Very accurate and sturdy. The variable speed feature is great.\",04/25/2023\n",
            "105,Bosch GSB 18V-55,Cordless Drill,\"Battery drains too quickly for extended use. Not ideal for professionals.\",05/12/2023\n",
            "106,Bosch GKS 18V-57 C,Cordless Circular Saw,\"Lightweight and precise. Cuts through hardwood effortlessly.\",06/07/2023\n",
            "107,Bosch GWS 18V-10 C,Cordless Grinder,\"The handle is uncomfortable for prolonged use. Needs improvement.\",07/02/2023\n",
            "108,Bosch GBH 18V-26,Cordless Rotary Hammer,\"Unmatched performance on concrete. Vibration control works wonders.\",08/15/2023\n",
            "109,Bosch GKS 18V-57 C,Cordless Circular Saw,\"Doesn't cut through metal despite claiming it does. Misleading features.\",09/10/2023\n",
            "110,Bosch GOP 55-36,Oscillating Multi-Tool,\"Extremely versatile tool. Perfect for detailed cuts and sanding.\",10/05/2023\n",
            "111,Bosch GCM 12 SDE,Miter Saw,\"Inconsistent blade speed, but overall reliable for small projects.\",11/20/2023\n",
            "112,Bosch GSB 18V-21,Cordless Drill,\"Lightweight design and excellent torque. Ideal for home use.\",12/01/2023\n",
            "113,Bosch GWS 18V-10 C,Cordless Grinder,\"The motor overheats quickly under heavy use. Disappointed.\",01/07/2024\n",
            "114,Bosch GST 18V-LI B,Cordless Jigsaw,\"Great tool for intricate cuts. The LED light is a helpful addition.\",02/14/2024\n",
            "115,Bosch GKS 18V-57 C,Cordless Circular Saw,\"The saw blade wobbles a bit during operation. Needs better alignment.\",03/21/2024\n",
            "116,Bosch GBH 18V-26,Cordless Rotary Hammer,\"Effortless drilling on masonry. The SDS-plus system is reliable.\",04/19/2024\n",
            "117,Bosch GSB 18V-55,Cordless Drill,\"Advertised as brushless but clearly isn't. Misleading marketing.\",05/27/2024\n",
            "118,Bosch GCM 12 SDE,Miter Saw,\"The bevel adjustment is smooth, making angled cuts a breeze.\",06/18/2024\n",
            "119,Bosch GOP 55-36,Oscillating Multi-Tool,\"Compact and efficient. Great for tight spaces.\",07/12/2024\n",
            "120,Bosch GWS 18V-10 C,Cordless Grinder,\"Fantastic power output. Handles heavy-duty tasks with ease.\",08/04/2024\n",
            "``` \n",
            "\n",
            "\n",
            "✅ **AI-Generated Data Successfully Retrieved**\n",
            "\n",
            " **Structured Data Saved:** /content/Reviews500.csv\n"
          ]
        },
        {
          "output_type": "stream",
          "name": "stderr",
          "text": [
            "<ipython-input-14-f7c4fbe844cf>:74: UserWarning: Could not infer format, so each element will be parsed individually, falling back to `dateutil`. To ensure parsing is consistent and as-expected, please specify a format.\n",
            "  df[\"Review_Date\"] = pd.to_datetime(df[\"Review_Date\"], errors=\"coerce\")\n"
          ]
        }
      ]
    },
    {
      "cell_type": "code",
      "source": [
        "from google.colab import files\n",
        "\n",
        "# Save DataFrame to CSV\n",
        "csv_path = \"100Reviews_new.csv\"\n",
        "df.to_csv(csv_path, index=False)\n",
        "\n",
        "# Download the file\n",
        "files.download(csv_path)"
      ],
      "metadata": {
        "colab": {
          "base_uri": "https://localhost:8080/",
          "height": 17
        },
        "id": "iEWQVk1CoT-B",
        "outputId": "8a4dfb9f-3c5e-4eb5-a7af-84d96dd89712"
      },
      "execution_count": null,
      "outputs": [
        {
          "output_type": "display_data",
          "data": {
            "text/plain": [
              "<IPython.core.display.Javascript object>"
            ],
            "application/javascript": [
              "\n",
              "    async function download(id, filename, size) {\n",
              "      if (!google.colab.kernel.accessAllowed) {\n",
              "        return;\n",
              "      }\n",
              "      const div = document.createElement('div');\n",
              "      const label = document.createElement('label');\n",
              "      label.textContent = `Downloading \"${filename}\": `;\n",
              "      div.appendChild(label);\n",
              "      const progress = document.createElement('progress');\n",
              "      progress.max = size;\n",
              "      div.appendChild(progress);\n",
              "      document.body.appendChild(div);\n",
              "\n",
              "      const buffers = [];\n",
              "      let downloaded = 0;\n",
              "\n",
              "      const channel = await google.colab.kernel.comms.open(id);\n",
              "      // Send a message to notify the kernel that we're ready.\n",
              "      channel.send({})\n",
              "\n",
              "      for await (const message of channel.messages) {\n",
              "        // Send a message to notify the kernel that we're ready.\n",
              "        channel.send({})\n",
              "        if (message.buffers) {\n",
              "          for (const buffer of message.buffers) {\n",
              "            buffers.push(buffer);\n",
              "            downloaded += buffer.byteLength;\n",
              "            progress.value = downloaded;\n",
              "          }\n",
              "        }\n",
              "      }\n",
              "      const blob = new Blob(buffers, {type: 'application/binary'});\n",
              "      const a = document.createElement('a');\n",
              "      a.href = window.URL.createObjectURL(blob);\n",
              "      a.download = filename;\n",
              "      div.appendChild(a);\n",
              "      a.click();\n",
              "      div.remove();\n",
              "    }\n",
              "  "
            ]
          },
          "metadata": {}
        },
        {
          "output_type": "display_data",
          "data": {
            "text/plain": [
              "<IPython.core.display.Javascript object>"
            ],
            "application/javascript": [
              "download(\"download_4e18538e-88a5-4752-8a33-fd03156fac87\", \"100Reviews_new.csv\", 4983)"
            ]
          },
          "metadata": {}
        }
      ]
    },
    {
      "cell_type": "markdown",
      "source": [
        "Let's define the graph now"
      ],
      "metadata": {
        "id": "LCGUCwejUz_1"
      }
    },
    {
      "cell_type": "markdown",
      "source": [
        "testing below"
      ],
      "metadata": {
        "id": "aXWalWAtXTFF"
      }
    },
    {
      "cell_type": "code",
      "source": [
        "from neo4j import GraphDatabase\n",
        "\n",
        "URI = \"neo4j+s://8ee3c741.databases.neo4j.io\"\n",
        "AUTH = (\"neo4j\", \"ADD_PWD\")\n",
        "\n",
        "driver = GraphDatabase.driver(URI, auth=AUTH)\n",
        "\n",
        "def create_constraints():\n",
        "    constraints = [\n",
        "        \"CREATE CONSTRAINT IF NOT EXISTS FOR (t:Tool)       REQUIRE t.name IS UNIQUE\",\n",
        "        \"CREATE CONSTRAINT IF NOT EXISTS FOR (s:Scenario)   REQUIRE s.scenarioID IS UNIQUE\",\n",
        "        \"CREATE CONSTRAINT IF NOT EXISTS FOR (c:Constraint) REQUIRE c.id IS UNIQUE\",\n",
        "    ]\n",
        "    with driver.session() as session:\n",
        "        for cql in constraints:\n",
        "            session.run(cql)\n",
        "        print(\"✅ Created/ensured constraints for Tools, Scenarios, Constraints\")\n",
        "\n",
        "create_constraints()\n"
      ],
      "metadata": {
        "colab": {
          "base_uri": "https://localhost:8080/"
        },
        "id": "8hfX1OC1QzFx",
        "outputId": "df9a9889-91a6-43c1-f918-280c71dc70fd"
      },
      "execution_count": null,
      "outputs": [
        {
          "output_type": "stream",
          "name": "stdout",
          "text": [
            "✅ Created/ensured constraints for Tools, Scenarios, Constraints\n"
          ]
        }
      ]
    },
    {
      "cell_type": "code",
      "source": [
        "!pip uninstall fitz -y #remove the incorrect install\n",
        "!pip install pymupdf # install the correct package\n",
        "\n",
        "import pymupdf as fitz"
      ],
      "metadata": {
        "colab": {
          "base_uri": "https://localhost:8080/"
        },
        "id": "CM2pAqlfUmJo",
        "outputId": "7f437b38-3ea8-4b74-b1c4-4e907d311e3f"
      },
      "execution_count": null,
      "outputs": [
        {
          "output_type": "stream",
          "name": "stdout",
          "text": [
            "\u001b[33mWARNING: Skipping fitz as it is not installed.\u001b[0m\u001b[33m\n",
            "\u001b[0mCollecting pymupdf\n",
            "  Downloading pymupdf-1.25.5-cp39-abi3-manylinux2014_x86_64.manylinux_2_17_x86_64.whl.metadata (3.4 kB)\n",
            "Downloading pymupdf-1.25.5-cp39-abi3-manylinux2014_x86_64.manylinux_2_17_x86_64.whl (20.0 MB)\n",
            "\u001b[2K   \u001b[90m━━━━━━━━━━━━━━━━━━━━━━━━━━━━━━━━━━━━━━━━\u001b[0m \u001b[32m20.0/20.0 MB\u001b[0m \u001b[31m34.5 MB/s\u001b[0m eta \u001b[36m0:00:00\u001b[0m\n",
            "\u001b[?25hInstalling collected packages: pymupdf\n",
            "Successfully installed pymupdf-1.25.5\n"
          ]
        }
      ]
    },
    {
      "cell_type": "code",
      "source": [
        "def extract_text_from_pdf(pdf_path):\n",
        "    text = \"\"\n",
        "    doc = fitz.open(pdf_path)\n",
        "    for page in doc:\n",
        "        text += page.get_text() + \"\\n\"\n",
        "    return text\n",
        "\n",
        "pdf_path = \"/content/Specification Sheet (2).pdf\"\n",
        "raw_pdf_text = extract_text_from_pdf(pdf_path)"
      ],
      "metadata": {
        "id": "O2jRVndKXBsF"
      },
      "execution_count": null,
      "outputs": []
    },
    {
      "cell_type": "code",
      "source": [
        "import openai, os, json\n",
        "\n",
        "# Set Azure Open AI credentials\n",
        "openai.api_type = \"azure\"\n",
        "openai.api_key = os.environ[\"AZURE_OPENAI_API_KEY\"]  # Your Azure key\n",
        "openai.api_version = os.environ[\"AZURE_OPENAI_API_VERSION\"]  # e.g., \"2023-07-01-preview\"\n",
        "openai.api_base = os.environ[\"AZURE_OPENAI_ENDPOINT\"]  # e.g., \"https://<resource-name>.openai.azure.com/\"\n",
        "\n",
        "# Define your strict system prompt\n",
        "system_prompt = \"\"\"\n",
        "You are an AI that extracts knowledge graph objects from text.\n",
        "Output a valid JSON object with exactly two keys: \"nodes\" and \"relationships\".\n",
        "\n",
        "Use only these node types:\n",
        "- Tool\n",
        "- Scenario\n",
        "- Constraint\n",
        "\n",
        "And only these relationship types:\n",
        "- HAS_SCENARIO (Tool → Scenario)\n",
        "- HAS_CONSTRAINT (Tool → Constraint)\n",
        "\n",
        "For each Tool node, extract these properties:\n",
        "  - name (string)            // e.g., \"Bosch GNH18V-18M Professional\"\n",
        "  - category (string)        // e.g., \"Nailer\", \"Drill\", etc.\n",
        "  - brand (string)           // e.g., \"Bosch\"\n",
        "  - typicalVoltage (string)  // e.g., \"18V\"\n",
        "  - torqueRange (string)     // e.g., \"0–1330 in-lbs\" or \"N/A\"\n",
        "  - rpmRange (string)        // e.g., \"0–2200\" or \"N/A\"\n",
        "  - weight (string or number)// e.g., \"6.8 lb\"\n",
        "  - synonyms ([string])      // e.g., [\"Bosch GNH18\", \"GNH18 Nailer\"]\n",
        "  - recommendedScenarios ([string])  // e.g., [\"cold_environment\"]\n",
        "\n",
        "For each Scenario node, extract:\n",
        "  - scenarioID (string)\n",
        "  - temperatureRange (string)\n",
        "  - recommendedVoltage (string)\n",
        "  - recommendedTorque (string)\n",
        "  - recommendedBattery (string)\n",
        "  - notes (string)\n",
        "\n",
        "For each Constraint node, extract:\n",
        "  - id (string)\n",
        "  - type (string)       // e.g., \"voltage\", \"torque\", \"rpm\"\n",
        "  - minValue (number)\n",
        "  - maxValue (number)\n",
        "  - unit (string)       // e.g., \"Nm\", \"V\"\n",
        "  - context (string)    // e.g., \"heavyDuty\", \"coldEnvironment\"\n",
        "\n",
        "Relationships allowed:\n",
        "  - HAS_SCENARIO (Tool → Scenario)\n",
        "  - HAS_CONSTRAINT (Tool → Constraint)\n",
        "\n",
        "Output your results as valid JSON with two arrays: \"nodes\" and \"relationships\".\n",
        "Do not include any extra commentary or additional node types.\n",
        "Example Output (JSON):\n",
        "{\n",
        "  \"nodes\": [\n",
        "    {\n",
        "      \"type\": \"Tool\",\n",
        "      \"properties\": {\n",
        "         \"name\": \"Bosch GNH18V-18M Professional\",\n",
        "         \"category\": \"Nailer\",\n",
        "         \"brand\": \"Bosch\",\n",
        "         \"typicalVoltage\": \"18V\",\n",
        "         \"torqueRange\": \"N/A\",\n",
        "         \"rpmRange\": \"N/A\",\n",
        "         \"weight\": \"6.8 lb\",\n",
        "         \"synonyms\": [\"Bosch GNH18\", \"GNH18 Nailer\"],\n",
        "         \"recommendedScenarios\": [\"cold_environment\"]\n",
        "      }\n",
        "    }\n",
        "  ],\n",
        "  \"relationships\": []\n",
        "}\n",
        "\"\"\"\n",
        "\n",
        "# Extract the graph from the PDF text: We'll include the extracted text in the user prompt\n",
        "\n",
        "pdf_path = \"/content/Specification Sheet (2).pdf\"\n",
        "raw_pdf_text = extract_text_from_pdf(pdf_path)\n",
        "user_prompt = f\"Extract the graph objects as JSON according to the instructions above from the following text:\\n{raw_pdf_text}\"\n",
        "\n",
        "# Initialize Azure OpenAI client\n",
        "client = openai.AzureOpenAI(\n",
        "    api_key=os.environ[\"AZURE_OPENAI_API_KEY\"],\n",
        "    api_version=os.environ[\"AZURE_OPENAI_API_VERSION\"],\n",
        "    azure_endpoint=os.environ[\"AZURE_OPENAI_ENDPOINT\"]\n",
        ")\n",
        "\n",
        "# Make the API call:\n",
        "response = client.chat.completions.create(\n",
        "    model=\"gpt-4o\",\n",
        "    messages=[\n",
        "        {\"role\": \"system\", \"content\": system_prompt},\n",
        "        {\"role\": \"user\", \"content\": user_prompt}\n",
        "    ],\n",
        "    temperature=0.0\n",
        ")\n",
        "\n",
        "graph_json = response.choices[0].message.content\n",
        "\n",
        "# Find the start and end of the JSON object\n",
        "start_index = graph_json.find(\"{\")\n",
        "end_index = graph_json.rfind(\"}\") + 1  # Add 1 to include the closing brace\n",
        "\n",
        "# Extract only the JSON string\n",
        "graph_json_clean = graph_json[start_index:end_index]\n",
        "\n",
        "# Parse the JSON into a Python dictionary\n",
        "graph_data = json.loads(graph_json_clean)\n",
        "print(graph_data)"
      ],
      "metadata": {
        "colab": {
          "base_uri": "https://localhost:8080/"
        },
        "id": "u31uftncuNDN",
        "outputId": "4f36df66-4ca8-4a3e-f093-ee4b34d2f23b"
      },
      "execution_count": null,
      "outputs": [
        {
          "output_type": "stream",
          "name": "stdout",
          "text": [
            "{'nodes': [{'type': 'Tool', 'properties': {'name': 'GSH18V-5L PROFESSIONAL', 'category': 'Hammer', 'brand': 'Bosch', 'typicalVoltage': '18V', 'torqueRange': 'N/A', 'rpmRange': '0–3050 BPM', 'weight': 11.7, 'synonyms': ['GSH18V-5', 'SDS-max Hammer'], 'recommendedScenarios': ['cold_environment']}}, {'type': 'Tool', 'properties': {'name': 'GSR18V-1330CN PROFESSIONAL', 'category': 'Drill', 'brand': 'Bosch', 'typicalVoltage': '18V', 'torqueRange': '0–1330 in-lbs', 'rpmRange': '0–2200', 'weight': 4.6, 'synonyms': ['GSR18V-1330C', 'Cordless Drill'], 'recommendedScenarios': ['cold_environment']}}, {'type': 'Tool', 'properties': {'name': 'GKF18V-25N PROFESSIONAL', 'category': 'Router', 'brand': 'Bosch', 'typicalVoltage': '18V', 'torqueRange': 'N/A', 'rpmRange': '10,000–30,000', 'weight': 2.4, 'synonyms': ['GKF18V-25', 'Cordless Router'], 'recommendedScenarios': ['cold_environment']}}, {'type': 'Tool', 'properties': {'name': 'GWX18V-10PN PROFESSIONAL', 'category': 'Angle Grinder', 'brand': 'Bosch', 'typicalVoltage': '18V', 'torqueRange': 'N/A', 'rpmRange': '9000', 'weight': 4.3, 'synonyms': ['GWX18V-10P', 'X-LOCK Grinder'], 'recommendedScenarios': ['cold_environment']}}, {'type': 'Tool', 'properties': {'name': 'GCU18V-30N PROFESSIONAL', 'category': 'Drywall Tool', 'brand': 'Bosch', 'typicalVoltage': '18V', 'torqueRange': 'N/A', 'rpmRange': '30,000', 'weight': 2.1, 'synonyms': ['GCU18V-30', 'Cordless Drywall Tool'], 'recommendedScenarios': ['cold_environment']}}, {'type': 'Tool', 'properties': {'name': 'GNH18V-15MAN PROFESSIONAL', 'category': 'Nailer', 'brand': 'Bosch', 'typicalVoltage': '18V', 'torqueRange': 'N/A', 'rpmRange': 'N/A', 'weight': 6.8, 'synonyms': ['GNH18V-15MA', 'Cordless Nailer'], 'recommendedScenarios': ['cold_environment']}}, {'type': 'Tool', 'properties': {'name': 'GHO12V-08N PROFESSIONAL', 'category': 'Planer', 'brand': 'Bosch', 'typicalVoltage': '12V', 'torqueRange': 'N/A', 'rpmRange': '14,500', 'weight': 3.3, 'synonyms': ['GHO12V-08', 'Cordless Planer'], 'recommendedScenarios': ['cold_environment']}}, {'type': 'Tool', 'properties': {'name': 'GHO18V-26N PROFESSIONAL', 'category': 'Planer', 'brand': 'Bosch', 'typicalVoltage': '18V', 'torqueRange': 'N/A', 'rpmRange': '13,600', 'weight': 5.4, 'synonyms': ['GHO18V-26', 'Cordless Planer'], 'recommendedScenarios': ['cold_environment']}}, {'type': 'Tool', 'properties': {'name': 'GTH18V-18MN PROFESSIONAL', 'category': 'Stapler', 'brand': 'Bosch', 'typicalVoltage': '18V', 'torqueRange': 'N/A', 'rpmRange': 'N/A', 'weight': 6.8, 'synonyms': ['GTH18V-18M', 'Cordless Stapler'], 'recommendedScenarios': ['cold_environment']}}, {'type': 'Tool', 'properties': {'name': 'GSR18V-755CB25 PROFESSIONAL', 'category': 'Drill', 'brand': 'Bosch', 'typicalVoltage': '18V', 'torqueRange': '0–755 in-lbs', 'rpmRange': '0–2100', 'weight': 3.4, 'synonyms': ['GSR18V-975C', 'GSR18V-755C', 'Cordless Drill'], 'recommendedScenarios': ['cold_environment']}}, {'type': 'Tool', 'properties': {'name': 'GNH18V-16MAN PROFESSIONAL', 'category': 'Nailer', 'brand': 'Bosch', 'typicalVoltage': '18V', 'torqueRange': 'N/A', 'rpmRange': 'N/A', 'weight': 6.6, 'synonyms': ['GNH18V-16MA', 'Cordless Nailer'], 'recommendedScenarios': ['cold_environment']}}, {'type': 'Tool', 'properties': {'name': 'GBL18V-450N PROFESSIONAL', 'category': 'Blower', 'brand': 'Bosch', 'typicalVoltage': '18V', 'torqueRange': 'N/A', 'rpmRange': '8,000–20,800', 'weight': 6.6, 'synonyms': ['GBL18V-450', 'Cordless Blower'], 'recommendedScenarios': ['cold_environment']}}], 'relationships': []}\n"
          ]
        }
      ]
    },
    {
      "cell_type": "code",
      "source": [
        "from typing import Dict, Any #Import Dict for type hinting\n",
        "\n",
        "def insert_graph_document_from_data(graph_data: Dict[str, Any]):\n",
        "    with driver.session() as session:\n",
        "        # Insert Nodes\n",
        "        for node in graph_data[\"nodes\"]:\n",
        "            node_type = node[\"type\"]\n",
        "            props = node[\"properties\"]\n",
        "            # Create a unique ID from name or scenarioID or id\n",
        "            unique_id = props.get(\"name\") or props.get(\"scenarioID\") or props.get(\"id\") or f\"node_{hash(json.dumps(props))}\"\n",
        "            query = f\"\"\"\n",
        "            MERGE (n:{node_type} {{uniqueId: $uid}})\n",
        "            SET n += $props\n",
        "            \"\"\"\n",
        "            session.run(query, uid=unique_id, props=props)\n",
        "\n",
        "        # Insert Relationships\n",
        "        for rel in graph_data[\"relationships\"]:\n",
        "            # Get start and end node IDs using 'from' and 'to' keys\n",
        "            start_id = rel[\"from\"]  # Use 'from' instead of 'startNode'\n",
        "            end_id = rel[\"to\"]    # Use 'to' instead of 'endNode'\n",
        "            rel_type = rel[\"type\"]\n",
        "            rel_props = rel.get(\"properties\", {})\n",
        "            query = f\"\"\"\n",
        "            MATCH (start {{uniqueId: $startId}}), (end {{uniqueId: $endId}})\n",
        "            MERGE (start)-[r:{rel_type}]->(end)\n",
        "            SET r += $relProps\n",
        "            \"\"\"\n",
        "            session.run(query, startId=start_id, endId=end_id, relProps=rel_props)\n",
        "\n",
        "# Call the function to insert the graph data\n",
        "insert_graph_document_from_data(graph_data)\n",
        "print(\"✅ Inserted the extracted graph into Neo4j!\")\n",
        "\n",
        "driver.close()"
      ],
      "metadata": {
        "colab": {
          "base_uri": "https://localhost:8080/"
        },
        "id": "h62Hw6jkxnRr",
        "outputId": "65e04454-799e-45c8-a705-73664775de15"
      },
      "execution_count": null,
      "outputs": [
        {
          "output_type": "stream",
          "name": "stderr",
          "text": [
            "<ipython-input-16-349ed4c02a3c>:4: DeprecationWarning: Using a driver after it has been closed is deprecated. Future versions of the driver will raise an error.\n",
            "  with driver.session() as session:\n"
          ]
        },
        {
          "output_type": "stream",
          "name": "stdout",
          "text": [
            "✅ Inserted the extracted graph into Neo4j!\n"
          ]
        }
      ]
    },
    {
      "cell_type": "code",
      "source": [
        "import openai\n",
        "import os\n",
        "from langchain_experimental.graph_transformers import LLMGraphTransformer\n",
        "from langchain.docstore.document import Document\n",
        "from langchain_openai import AzureChatOpenAI\n",
        "\n",
        "client = openai.AzureOpenAI(\n",
        "    api_key=os.environ[\"AZURE_OPENAI_API_KEY\"],\n",
        "    api_version=os.environ[\"AZURE_OPENAI_API_VERSION\"],\n",
        "    azure_endpoint=os.environ[\"AZURE_OPENAI_ENDPOINT\"]\n",
        ")\n",
        "\n",
        "\n",
        "# Initialize AzureChatOpenAI (Fixed format)\n",
        "llm = AzureChatOpenAI(\n",
        "    azure_endpoint=os.environ[\"AZURE_OPENAI_ENDPOINT\"],\n",
        "    azure_deployment=os.environ[\"AZURE_OPENAI_DEPLOYMENT\"],\n",
        "    api_key=os.environ[\"AZURE_OPENAI_API_KEY\"],\n",
        "    api_version=os.environ[\"AZURE_OPENAI_API_VERSION\"],\n",
        "    temperature=0.0\n",
        ")\n",
        "\n",
        "system_prompt = \"\"\"\n",
        "You are an AI that extracts knowledge graph objects from text.\n",
        "Focus on these node types:\n",
        "\n",
        "(:Tool)\n",
        "  name, category, brand, typicalVoltage, torqueRange, rpmRange, weight, synonyms, recommendedScenarios\n",
        "\n",
        "(:Scenario)\n",
        "  scenarioID, temperatureRange, recommendedVoltage, recommendedTorque, recommendedBattery, notes\n",
        "\n",
        "(:Constraint)\n",
        "  id, type, minValue, maxValue, unit, context\n",
        "\n",
        "Represent each node as a dictionary in a \"nodes\" array,\n",
        "and each relationship as a dictionary in a \"relationships\" array.\n",
        "\n",
        "Example Output (JSON):\n",
        "{\n",
        "  \"nodes\": [\n",
        "    {\n",
        "      \"type\": \"Tool\",\n",
        "      \"properties\": {\n",
        "        \"name\": \"Bosch GNH18V-15MA\",\n",
        "        \"category\": \"Nailer\",\n",
        "        \"brand\": \"Bosch\",\n",
        "        \"typicalVoltage\": \"18V\",\n",
        "        \"torqueRange\": \"N/A\",\n",
        "        \"rpmRange\": \"N/A\",\n",
        "        \"weight\": \"6.8 lb\",\n",
        "        \"synonyms\": [\"GNH18\", \"Bosch Nailer\"],\n",
        "        \"recommendedScenarios\": [\"cold_environment\"]\n",
        "      }\n",
        "    },\n",
        "    {\n",
        "      \"type\": \"Scenario\",\n",
        "      \"properties\": {\n",
        "        \"scenarioID\": \"cold_environment\",\n",
        "        \"temperatureRange\": \"-10 to 5C\",\n",
        "        \"recommendedVoltage\": \"18V only\",\n",
        "        \"recommendedTorque\": \"N/A\",\n",
        "        \"recommendedBattery\": \"CORE18V 4Ah\",\n",
        "        \"notes\": \"For low temperatures\"\n",
        "      }\n",
        "    }\n",
        "  ],\n",
        "  \"relationships\": [\n",
        "    {\n",
        "      \"startNode\": \"Bosch GNH18V-15MA\",\n",
        "      \"endNode\": \"cold_environment\",\n",
        "      \"type\": \"HAS_SCENARIO\",\n",
        "      \"properties\": {}\n",
        "    }\n",
        "  ]\n",
        "}\n",
        "Only output valid JSON, no extra commentary.\n",
        "\"\"\"\n",
        "\n",
        "graph_transformer = LLMGraphTransformer(\n",
        "    llm=llm  # Pass the initialized llm object\n",
        ")"
      ],
      "metadata": {
        "id": "qgNZ7z9NXPVN"
      },
      "execution_count": null,
      "outputs": []
    },
    {
      "cell_type": "code",
      "source": [
        "from langchain.docstore.document import Document\n",
        "\n",
        "document = Document(page_content=raw_pdf_text)\n",
        "\n",
        "# Possibly chunk or summarize if text is too large\n",
        "# the system_prompt argument has been removed from the call\n",
        "# to convert_to_graph_documents as it is an invalid argument.\n",
        "graph_docs = graph_transformer.convert_to_graph_documents(\n",
        "    documents=[document],\n",
        ")\n",
        "\n",
        "print(\"Extracted Graph Docs:\", graph_docs)"
      ],
      "metadata": {
        "colab": {
          "base_uri": "https://localhost:8080/"
        },
        "id": "hTj_uHZAXYK2",
        "outputId": "135958b3-a853-41ac-8669-4a64b6703f8e"
      },
      "execution_count": null,
      "outputs": [
        {
          "output_type": "stream",
          "name": "stdout",
          "text": [
            "Extracted Graph Docs: [GraphDocument(nodes=[Node(id='Gnh18V-15Ma', type='Tool', properties={}), Node(id='Gho12V-08N', type='Tool', properties={}), Node(id='Gho18V-26N', type='Tool', properties={}), Node(id='Gth18V-18Mn', type='Tool', properties={}), Node(id='Gsr18V-755Cb25', type='Tool', properties={}), Node(id='Gnh18V-16Man', type='Tool', properties={}), Node(id='Gbl18V-450N', type='Tool', properties={})], relationships=[Relationship(source=Node(id='Gnh18V-15Ma', type='Tool', properties={}), target=Node(id='Gnh15G125Gv', type='Accessory', properties={}), type='WORKS_WITH', properties={}), Relationship(source=Node(id='Gnh18V-15Ma', type='Tool', properties={}), target=Node(id='Gnh15G150Gv', type='Accessory', properties={}), type='WORKS_WITH', properties={}), Relationship(source=Node(id='Gnh18V-15Ma', type='Tool', properties={}), target=Node(id='Gnh15G175Gv', type='Accessory', properties={}), type='WORKS_WITH', properties={}), Relationship(source=Node(id='Gnh18V-15Ma', type='Tool', properties={}), target=Node(id='Gnh15G200Gc', type='Accessory', properties={}), type='WORKS_WITH', properties={}), Relationship(source=Node(id='Gnh18V-15Ma', type='Tool', properties={}), target=Node(id='Gnh15G225Gv', type='Accessory', properties={}), type='WORKS_WITH', properties={}), Relationship(source=Node(id='Gnh18V-15Ma', type='Tool', properties={}), target=Node(id='Gnh15G250Gv', type='Accessory', properties={}), type='WORKS_WITH', properties={}), Relationship(source=Node(id='Gnh18V-15Ma', type='Tool', properties={}), target=Node(id='Gnh15G125Ss', type='Accessory', properties={}), type='WORKS_WITH', properties={}), Relationship(source=Node(id='Gnh18V-15Ma', type='Tool', properties={}), target=Node(id='Gnh15G200Ss', type='Accessory', properties={}), type='WORKS_WITH', properties={}), Relationship(source=Node(id='Gnh18V-15Ma', type='Tool', properties={}), target=Node(id='Gnh15G250Ss', type='Accessory', properties={}), type='WORKS_WITH', properties={}), Relationship(source=Node(id='Gho12V-08N', type='Tool', properties={}), target=Node(id='Vh1635A', type='Accessory', properties={}), type='WORKS_WITH', properties={}), Relationship(source=Node(id='Gho12V-08N', type='Tool', properties={}), target=Node(id='Vac008', type='Accessory', properties={}), type='WORKS_WITH', properties={}), Relationship(source=Node(id='Gho12V-08N', type='Tool', properties={}), target=Node(id='Vh1035', type='Accessory', properties={}), type='WORKS_WITH', properties={}), Relationship(source=Node(id='Gho12V-08N', type='Tool', properties={}), target=Node(id='Vac005', type='Accessory', properties={}), type='WORKS_WITH', properties={}), Relationship(source=Node(id='Gho12V-08N', type='Tool', properties={}), target=Node(id='Vac006', type='Accessory', properties={}), type='WORKS_WITH', properties={}), Relationship(source=Node(id='Gho12V-08N', type='Tool', properties={}), target=Node(id='Vac024', type='Accessory', properties={}), type='WORKS_WITH', properties={}), Relationship(source=Node(id='Gho18V-26N', type='Tool', properties={}), target=Node(id='2605411035', type='Accessory', properties={}), type='WORKS_WITH', properties={}), Relationship(source=Node(id='Gho18V-26N', type='Tool', properties={}), target=Node(id='Vh1635A', type='Accessory', properties={}), type='WORKS_WITH', properties={}), Relationship(source=Node(id='Gho18V-26N', type='Tool', properties={}), target=Node(id='Vac008', type='Accessory', properties={}), type='WORKS_WITH', properties={}), Relationship(source=Node(id='Gho18V-26N', type='Tool', properties={}), target=Node(id='Vh1035', type='Accessory', properties={}), type='WORKS_WITH', properties={}), Relationship(source=Node(id='Gho18V-26N', type='Tool', properties={}), target=Node(id='Vac005', type='Accessory', properties={}), type='WORKS_WITH', properties={}), Relationship(source=Node(id='Gho18V-26N', type='Tool', properties={}), target=Node(id='Vac006', type='Accessory', properties={}), type='WORKS_WITH', properties={}), Relationship(source=Node(id='Gho18V-26N', type='Tool', properties={}), target=Node(id='Vac002', type='Accessory', properties={}), type='WORKS_WITH', properties={}), Relationship(source=Node(id='Gho18V-26N', type='Tool', properties={}), target=Node(id='Vac020', type='Accessory', properties={}), type='WORKS_WITH', properties={}), Relationship(source=Node(id='Gho18V-26N', type='Tool', properties={}), target=Node(id='2607000073', type='Accessory', properties={}), type='WORKS_WITH', properties={}), Relationship(source=Node(id='Gho18V-26N', type='Tool', properties={}), target=Node(id='Pa1202', type='Accessory', properties={}), type='WORKS_WITH', properties={}), Relationship(source=Node(id='Gth18V-18Mn', type='Tool', properties={}), target=Node(id='Gth18G062Gv', type='Accessory', properties={}), type='WORKS_WITH', properties={}), Relationship(source=Node(id='Gth18V-18Mn', type='Tool', properties={}), target=Node(id='Gth18G100Gv', type='Accessory', properties={}), type='WORKS_WITH', properties={}), Relationship(source=Node(id='Gth18V-18Mn', type='Tool', properties={}), target=Node(id='Gth18G116Gv', type='Accessory', properties={}), type='WORKS_WITH', properties={}), Relationship(source=Node(id='Gth18V-18Mn', type='Tool', properties={}), target=Node(id='Gth18G137Gv', type='Accessory', properties={}), type='WORKS_WITH', properties={}), Relationship(source=Node(id='Gth18V-18Mn', type='Tool', properties={}), target=Node(id='Gth18G150Gv', type='Accessory', properties={}), type='WORKS_WITH', properties={}), Relationship(source=Node(id='Gsr18V-755Cb25', type='Tool', properties={}), target=Node(id='Gcy42', type='Accessory', properties={}), type='WORKS_WITH', properties={}), Relationship(source=Node(id='Gnh18V-16Man', type='Tool', properties={}), target=Node(id='Gnh18G200Gv', type='Accessory', properties={}), type='WORKS_WITH', properties={}), Relationship(source=Node(id='Gnh18V-16Man', type='Tool', properties={}), target=Node(id='Gnh16G175Gv', type='Accessory', properties={}), type='WORKS_WITH', properties={}), Relationship(source=Node(id='Gnh18V-16Man', type='Tool', properties={}), target=Node(id='Gnh16G200Gv', type='Accessory', properties={}), type='WORKS_WITH', properties={}), Relationship(source=Node(id='Gnh18V-16Man', type='Tool', properties={}), target=Node(id='Gnh16G225Gv', type='Accessory', properties={}), type='WORKS_WITH', properties={}), Relationship(source=Node(id='Gnh18V-16Man', type='Tool', properties={}), target=Node(id='Gnh16G250Gv', type='Accessory', properties={}), type='WORKS_WITH', properties={}), Relationship(source=Node(id='Gnh18V-16Man', type='Tool', properties={}), target=Node(id='Gnh16G125Gv', type='Accessory', properties={}), type='WORKS_WITH', properties={}), Relationship(source=Node(id='Gbl18V-450N', type='Tool', properties={}), target=Node(id='Gba18V80', type='Accessory', properties={}), type='WORKS_WITH', properties={}), Relationship(source=Node(id='Gbl18V-450N', type='Tool', properties={}), target=Node(id='Gba18V120', type='Accessory', properties={}), type='WORKS_WITH', properties={})], source=Document(metadata={}, page_content='TECHNICAL DATA \\nHeight in \\n12.7 \" \\nLength in \\n14.9 \" \\nWeight \\n6.8 lb \\nWidth in \\n3.7 \" \\nWorks \\nWith \\nGNH15G125GV, 1-1/4\" 34° 15 ga Finish Nails - Galvanized, GNH15G150GV, 1-1/2\" \\n34° 15 ga Finish Nails - Galvanized, GNH15G175GV, 1-3/4\" 34° 15 ga Finish Nails - \\nGalvanized, GNH15G200GC, 2\" 34° 15 ga Finish Nails - Galvanized, GNH15G225GV, \\n2-1/4\" 34° 15 ga Finish Nails - Galvanized, GNH15G250GV, 2-1/2\" 34° 15 ga Finish \\nNails - Galvanized, GNH15G125SS, 1-1/2\" 34° 15 ga Finish Nails - Stainless Steel, \\nGNH15G200SS, 2\" 34° 15 ga Finish Nails - Stainless Steel, GNH15G250SS, 2-1/2\" 34° \\n15 ga Finish Nails - Stainless Steel  \\nIncludes \\n(1) Bosch GNH18V-15MA 18V Brushless 15-gauge Angled Finish Nailer \\n  \\n  \\n  \\nGHO12V-08N PROFESSIONAL (Planer) \\nFrom user manual: \\n \\nTechnical data from website: \\n\\nTECHNICAL DATA \\nBattery \\nLithium-Ion Battery  \\nBattery \\nChemistry \\nLithium Ion  \\nHeight in \\n4.33 \" \\nLength in \\n10.04 \" \\nNo Load \\nRPM \\n14,500  \\nPlaning \\nDepth \\n0\" - .08\"  \\nPlaning \\nWidth \\n0\" - 2.2\"  \\nVariable \\nSpeed \\nNo  \\nWeight \\n3.3 lb \\nWidth in \\n3.94 \" \\nWorks \\nWith \\nAnti-Static Vacuum Hoses, VH1635A (by means of anti-static adapter included with \\nthat hose), VAC008, and most other 35 mm anti-static hoses, Other Vacuum Hoses, \\nVH1035 and VH1635 (by means of VX120 adapter included with those hoses), \\nVAC005 and VAC006 hoses, and most other 35 mm hoses, Adapter for 1-1/4 in. or \\n1-1/2 in. Hose, VAC024 (incompatible with VAC002)  \\nIncludes \\n(1) GHO12V-08 12V Max Brushless Planer \\n(2) PA1208 2.2 In. (56 mm) Woodrazor Micrograin Carbide Planer Blades \\n(1) Blade Wrench (1907950003) \\n(1) Shavings Deflector (1607000CJ0) \\n(1) Shavings Bag (2605411243) \\n(1) Vacuum Hose Adapter (1600A012LX) \\nGHO18V-26N PROFESSIONAL \\n(Planers) \\nFrom user manual: \\n\\n \\n \\n \\n \\n \\n \\n \\nTechnical data from website: \\nTECHNICAL DATA \\n \\nBatter\\ny \\nLithium-Ion Battery \\nHeight \\nin \\n7.3 \" \\nLengt\\nh in \\n11.4 \" \\n\\nNo \\nLoad \\nRPM \\n13,600 \\nPlanin\\ng \\nDepth \\n0” - 0.102” \\nPlanin\\ng \\nWidth \\n0\" - 3.25\" \\nVariab\\nle \\nSpeed \\nYes \\nWeigh\\nt \\n5.4 lb \\nWeigh\\nt (lbs.) \\n5.4 \\nWidth \\nin \\n6 \" \\nWorks \\nWith \\nShavings Bag, 2605411035, Anti-Static Vacuum Hoses, VH1635A (by means of anti-\\nstatic adapter included with that hose). VAC008, and most other 35 mm anti-static \\nhoses., Other Vacuum Hoses, VH1035 and VH1635 (by means of VX120 adapter \\nincluded with those hoses). VAC005 and VAC006 hoses, and most other 35 mm \\nhoses., Adapter for 1-1/4 in. and 1-1/2 in. Vacuum Hoses, VAC002, Adapter For 2-1/2 \\nin. Vacuum Hoses, VAC020, Rabbeting Depth Stop, 2607000073, 3-1/4 Woodrazor \\nMicrograin Planer Blades, PA1202 \\nInclud\\nes \\n(1) GHO18V-26N 18V Brushless Planer \\n(1) Dust bag \\n(1) Guide fence \\n(2) Tungsten carbide blades (one blade installed on the tool and the second blade in the \\non-tool storage) \\n \\n \\nGTH18V-18MN PROFESSIONAL  \\n\\n(Bare Tool) \\nFrom user manual: \\n \\nTechnical data from website: \\nTECHNICAL DATA \\nHeigh\\nt in \\n10.9 \" \\nLengt\\nh in \\n13 \" \\nWeig\\nht \\n6.8 lb \\nWidth \\nin \\n3.8 \" \\n\\nWork\\ns With \\nGTH18G062GV, 5/8\" 18g Narrow Crown Staples - Galvanized, GTH18G100GV, 1\" 18g \\nNarrow Crown Staples - Galvanized, GTH18G116GV, 1-3/16\" 18g Narrow Crown \\nStaples - Galvanized, GTH18G137GV, 1-3/8\" 18g Narrow Crown Staples - Galvanized, \\nGTH18G150GV, 1-1/2\" 18g Narrow Crown Staples - Galvanized \\nInclud\\nes \\n(1) Bosch GTH18V-18M 18V Brushless 18-gauge Narrow Crown Stapler \\nGSR18V-755CB25 PROFESSIONAL \\n(CORDLESS DRILL/DRIVERS) \\nFrom user manual: \\n \\n\\nTechnical data from website: \\nTECHNICAL DATA \\nBattery Chemistry \\nLithium Ion \\nBattery/Charger \\nIncluded \\nCase Type \\nBag \\nChuck Capacity \\n1/2\" Keyless Chuck \\nChuck Design \\nKeyless \\nChuck Size \\n1/2 in \\nHeight in \\n8.4 \" \\nLength in \\n7.6 \" \\nNo Load RPM \\n0-2,100 \\nReverse \\nYes \\nTorque (in. lbs.) \\n755 \\nVariable Speed \\nYes \\nWeight (lbs.) \\n3.4 \\nWidth in \\n3 \" \\nWorks With \\nBosch Bluetooth® Connectivity \\nModule, GCY42 (See tool manual \\nfor its connectivity/app features.) \\n\\nIncludes \\n(1) GSR18V-755C 18V EC \\nBrushless Connected-Ready \\nBrute Tough 1/2 In. Drill/Driver \\n(2) 18V CORE18V Lithium-Ion 4.0 \\nAh Compact Batteries \\n(1) 18V Charger \\n(1) Auxiliary Handle \\n(1) 4x Bit Holder \\n(4) Bits \\n(1) Belt Clip \\n(1) Carrying Bag \\nGNH18V-16MAN PROFESSIONAL \\n \\n(Nailer) \\nFrom user manual: \\n\\n \\nTechnical data from website: \\nTECHNICAL DATA \\nHeight in \\n11.1 \" \\nLength in \\n13.3 \" \\nWeight \\n6.6 lb \\nWidth in \\n3.8 \" \\n\\nWorks With \\nGNH18G200GV, 1-1/2\" 20° 16 ga \\nFinish Nails – Galvanized, \\nGNH16G175GV, 1-3/4\" 20° 16 ga \\nFinish Nails – Galvanized, \\nGNH16G200GV, 2\" 20° 16 ga \\nFinish Nails – Galvanized, \\nGNH16G225GV, 2-1/4\" 20° 16 ga \\nFinish Nails – Galvanized, \\nGNH16G250GV, 2-1/2\" 20° 16 ga \\nFinish Nails – Galvanized, \\nGNH16G125GV, 1-1/4\" 20° 16 ga \\nFinish Nails – Galvanized \\nIncludes \\n(1) Bosch GNH18V-16MA 18V \\nBrushless 16-gauge Angled Finish \\nNailer \\nGBL18V-450N PROFESSIONAL  \\n(Blower) \\nFrom user manual: \\n\\n \\nTechnical data from website: \\nTECHNICAL DATA \\nAir Velocity (mph) \\n123 \\nAir Volume (CFM) \\n459 \\nBattery Capacity \\nWarning Lamp \\nNo \\nBattery Chemistry \\nLithium Ion \\nDecibel Rating (dB) \\n64 \\n\\nHeight in \\n11.9 \" \\nLength in \\n33.6 \" \\nMotor Speed \\nVariable \\nNo Load RPM \\n8,000-20,800 \\nOverheat Protection \\nYes \\nOverload Protection \\nYes \\nVacuum Capable \\nNo \\nVariable Speed \\nYes \\nWeight \\n6.6 lb \\nWeight (lbs.) \\n6.6 \\nWidth in \\n7.7 \" \\nWorks With \\nRecommended Battery Packs to help achieve maximum tool \\nperformance, GBA18V80 and GBA18V120 Batteries \\nIncludes \\n(1) GBL18V-450N PROFACTOR™ 18V Blower \\n \\n \\n\\n'))]\n"
          ]
        }
      ]
    },
    {
      "cell_type": "code",
      "source": [
        "from langchain_community.graphs import Neo4jGraph\n",
        "\n",
        "graph = Neo4jGraph(url=URI, username=AUTH[0], password=AUTH[1])\n",
        "\n",
        "if graph_docs and len(graph_docs) > 0:\n",
        "    doc_graph = graph_docs[0]\n",
        "    # Print for debugging\n",
        "    print(\"Nodes =>\", doc_graph.nodes)\n",
        "    print(\"Relationships =>\", doc_graph.relationships)\n",
        "\n",
        "    # Insert into Neo4j\n",
        "    graph.add_graph_documents(graph_docs)\n",
        "    print(\"✅ Inserted the PDF-based graph into Neo4j!\")\n"
      ],
      "metadata": {
        "colab": {
          "base_uri": "https://localhost:8080/"
        },
        "id": "hVk5riNfbqq1",
        "outputId": "b2c2f659-dfcc-4290-9e54-c90c77f9e77e"
      },
      "execution_count": null,
      "outputs": [
        {
          "output_type": "stream",
          "name": "stderr",
          "text": [
            "<ipython-input-21-fe023b69b18d>:3: LangChainDeprecationWarning: The class `Neo4jGraph` was deprecated in LangChain 0.3.8 and will be removed in 1.0. An updated version of the class exists in the :class:`~langchain-neo4j package and should be used instead. To use it run `pip install -U :class:`~langchain-neo4j` and import as `from :class:`~langchain_neo4j import Neo4jGraph``.\n",
            "  graph = Neo4jGraph(url=URI, username=AUTH[0], password=AUTH[1])\n"
          ]
        },
        {
          "output_type": "stream",
          "name": "stdout",
          "text": [
            "Nodes => [Node(id='Gnh18V-15Ma', type='Tool', properties={}), Node(id='Gho12V-08N', type='Tool', properties={}), Node(id='Gho18V-26N', type='Tool', properties={}), Node(id='Gth18V-18Mn', type='Tool', properties={}), Node(id='Gsr18V-755Cb25', type='Tool', properties={}), Node(id='Gnh18V-16Man', type='Tool', properties={}), Node(id='Gbl18V-450N', type='Tool', properties={})]\n",
            "Relationships => [Relationship(source=Node(id='Gnh18V-15Ma', type='Tool', properties={}), target=Node(id='Gnh15G125Gv', type='Accessory', properties={}), type='WORKS_WITH', properties={}), Relationship(source=Node(id='Gnh18V-15Ma', type='Tool', properties={}), target=Node(id='Gnh15G150Gv', type='Accessory', properties={}), type='WORKS_WITH', properties={}), Relationship(source=Node(id='Gnh18V-15Ma', type='Tool', properties={}), target=Node(id='Gnh15G175Gv', type='Accessory', properties={}), type='WORKS_WITH', properties={}), Relationship(source=Node(id='Gnh18V-15Ma', type='Tool', properties={}), target=Node(id='Gnh15G200Gc', type='Accessory', properties={}), type='WORKS_WITH', properties={}), Relationship(source=Node(id='Gnh18V-15Ma', type='Tool', properties={}), target=Node(id='Gnh15G225Gv', type='Accessory', properties={}), type='WORKS_WITH', properties={}), Relationship(source=Node(id='Gnh18V-15Ma', type='Tool', properties={}), target=Node(id='Gnh15G250Gv', type='Accessory', properties={}), type='WORKS_WITH', properties={}), Relationship(source=Node(id='Gnh18V-15Ma', type='Tool', properties={}), target=Node(id='Gnh15G125Ss', type='Accessory', properties={}), type='WORKS_WITH', properties={}), Relationship(source=Node(id='Gnh18V-15Ma', type='Tool', properties={}), target=Node(id='Gnh15G200Ss', type='Accessory', properties={}), type='WORKS_WITH', properties={}), Relationship(source=Node(id='Gnh18V-15Ma', type='Tool', properties={}), target=Node(id='Gnh15G250Ss', type='Accessory', properties={}), type='WORKS_WITH', properties={}), Relationship(source=Node(id='Gho12V-08N', type='Tool', properties={}), target=Node(id='Vh1635A', type='Accessory', properties={}), type='WORKS_WITH', properties={}), Relationship(source=Node(id='Gho12V-08N', type='Tool', properties={}), target=Node(id='Vac008', type='Accessory', properties={}), type='WORKS_WITH', properties={}), Relationship(source=Node(id='Gho12V-08N', type='Tool', properties={}), target=Node(id='Vh1035', type='Accessory', properties={}), type='WORKS_WITH', properties={}), Relationship(source=Node(id='Gho12V-08N', type='Tool', properties={}), target=Node(id='Vac005', type='Accessory', properties={}), type='WORKS_WITH', properties={}), Relationship(source=Node(id='Gho12V-08N', type='Tool', properties={}), target=Node(id='Vac006', type='Accessory', properties={}), type='WORKS_WITH', properties={}), Relationship(source=Node(id='Gho12V-08N', type='Tool', properties={}), target=Node(id='Vac024', type='Accessory', properties={}), type='WORKS_WITH', properties={}), Relationship(source=Node(id='Gho18V-26N', type='Tool', properties={}), target=Node(id='2605411035', type='Accessory', properties={}), type='WORKS_WITH', properties={}), Relationship(source=Node(id='Gho18V-26N', type='Tool', properties={}), target=Node(id='Vh1635A', type='Accessory', properties={}), type='WORKS_WITH', properties={}), Relationship(source=Node(id='Gho18V-26N', type='Tool', properties={}), target=Node(id='Vac008', type='Accessory', properties={}), type='WORKS_WITH', properties={}), Relationship(source=Node(id='Gho18V-26N', type='Tool', properties={}), target=Node(id='Vh1035', type='Accessory', properties={}), type='WORKS_WITH', properties={}), Relationship(source=Node(id='Gho18V-26N', type='Tool', properties={}), target=Node(id='Vac005', type='Accessory', properties={}), type='WORKS_WITH', properties={}), Relationship(source=Node(id='Gho18V-26N', type='Tool', properties={}), target=Node(id='Vac006', type='Accessory', properties={}), type='WORKS_WITH', properties={}), Relationship(source=Node(id='Gho18V-26N', type='Tool', properties={}), target=Node(id='Vac002', type='Accessory', properties={}), type='WORKS_WITH', properties={}), Relationship(source=Node(id='Gho18V-26N', type='Tool', properties={}), target=Node(id='Vac020', type='Accessory', properties={}), type='WORKS_WITH', properties={}), Relationship(source=Node(id='Gho18V-26N', type='Tool', properties={}), target=Node(id='2607000073', type='Accessory', properties={}), type='WORKS_WITH', properties={}), Relationship(source=Node(id='Gho18V-26N', type='Tool', properties={}), target=Node(id='Pa1202', type='Accessory', properties={}), type='WORKS_WITH', properties={}), Relationship(source=Node(id='Gth18V-18Mn', type='Tool', properties={}), target=Node(id='Gth18G062Gv', type='Accessory', properties={}), type='WORKS_WITH', properties={}), Relationship(source=Node(id='Gth18V-18Mn', type='Tool', properties={}), target=Node(id='Gth18G100Gv', type='Accessory', properties={}), type='WORKS_WITH', properties={}), Relationship(source=Node(id='Gth18V-18Mn', type='Tool', properties={}), target=Node(id='Gth18G116Gv', type='Accessory', properties={}), type='WORKS_WITH', properties={}), Relationship(source=Node(id='Gth18V-18Mn', type='Tool', properties={}), target=Node(id='Gth18G137Gv', type='Accessory', properties={}), type='WORKS_WITH', properties={}), Relationship(source=Node(id='Gth18V-18Mn', type='Tool', properties={}), target=Node(id='Gth18G150Gv', type='Accessory', properties={}), type='WORKS_WITH', properties={}), Relationship(source=Node(id='Gsr18V-755Cb25', type='Tool', properties={}), target=Node(id='Gcy42', type='Accessory', properties={}), type='WORKS_WITH', properties={}), Relationship(source=Node(id='Gnh18V-16Man', type='Tool', properties={}), target=Node(id='Gnh18G200Gv', type='Accessory', properties={}), type='WORKS_WITH', properties={}), Relationship(source=Node(id='Gnh18V-16Man', type='Tool', properties={}), target=Node(id='Gnh16G175Gv', type='Accessory', properties={}), type='WORKS_WITH', properties={}), Relationship(source=Node(id='Gnh18V-16Man', type='Tool', properties={}), target=Node(id='Gnh16G200Gv', type='Accessory', properties={}), type='WORKS_WITH', properties={}), Relationship(source=Node(id='Gnh18V-16Man', type='Tool', properties={}), target=Node(id='Gnh16G225Gv', type='Accessory', properties={}), type='WORKS_WITH', properties={}), Relationship(source=Node(id='Gnh18V-16Man', type='Tool', properties={}), target=Node(id='Gnh16G250Gv', type='Accessory', properties={}), type='WORKS_WITH', properties={}), Relationship(source=Node(id='Gnh18V-16Man', type='Tool', properties={}), target=Node(id='Gnh16G125Gv', type='Accessory', properties={}), type='WORKS_WITH', properties={}), Relationship(source=Node(id='Gbl18V-450N', type='Tool', properties={}), target=Node(id='Gba18V80', type='Accessory', properties={}), type='WORKS_WITH', properties={}), Relationship(source=Node(id='Gbl18V-450N', type='Tool', properties={}), target=Node(id='Gba18V120', type='Accessory', properties={}), type='WORKS_WITH', properties={})]\n",
            "✅ Inserted the PDF-based graph into Neo4j!\n"
          ]
        }
      ]
    },
    {
      "cell_type": "code",
      "source": [
        "def insert_graph_document(doc_graph):\n",
        "    with driver.session() as session:\n",
        "        # Insert Nodes\n",
        "        for node in doc_graph.nodes:\n",
        "            node_type = node.type\n",
        "            props = node.properties\n",
        "            # Unique ID from name or scenarioID or constraintID\n",
        "            unique_id = props.get(\"name\") or props.get(\"scenarioID\") or props.get(\"id\") or f\"node_{hash(str(props))}\"\n",
        "\n",
        "            query = f\"\"\"\n",
        "            MERGE (n:{node_type} {{uniqueId: $uid}})\n",
        "            SET n += $props\n",
        "            \"\"\"\n",
        "            session.run(query, uid=unique_id, props=props)\n",
        "\n",
        "        # Insert Relationships\n",
        "        for rel in doc_graph.relationships:\n",
        "            start_id = rel.source.properties.get(\"name\") or rel.source.properties.get(\"scenarioID\") or rel.source.properties.get(\"id\")\n",
        "            end_id = rel.target.properties.get(\"name\") or rel.target.properties.get(\"scenarioID\") or rel.target.properties.get(\"id\")\n",
        "            rel_type = rel.type\n",
        "            rel_props = rel.properties or {}\n",
        "\n",
        "            query = f\"\"\"\n",
        "            MATCH (start), (end)\n",
        "            WHERE start.uniqueId = $startId AND end.uniqueId = $endId\n",
        "            MERGE (start)-[r:{rel_type}]->(end)\n",
        "            SET r += $relProps\n",
        "            \"\"\"\n",
        "            session.run(query, startId=start_id, endId=end_id, relProps=rel_props)\n",
        "\n",
        "if graph_docs and len(graph_docs) > 0:\n",
        "    doc_graph = graph_docs[0]\n",
        "    insert_graph_document(doc_graph)\n",
        "    print(\"✅ Graph inserted from PDF specification!\")\n"
      ],
      "metadata": {
        "colab": {
          "base_uri": "https://localhost:8080/"
        },
        "id": "_EGoFSvRbwTb",
        "outputId": "f6154b7e-f340-41e7-e1cc-b47cca784c4e"
      },
      "execution_count": null,
      "outputs": [
        {
          "output_type": "stream",
          "name": "stdout",
          "text": [
            "✅ Graph inserted from PDF specification!\n"
          ]
        }
      ]
    },
    {
      "cell_type": "markdown",
      "source": [
        "Testing above"
      ],
      "metadata": {
        "id": "Lkq4J36EXQTO"
      }
    },
    {
      "cell_type": "markdown",
      "source": [
        "test test 2"
      ],
      "metadata": {
        "id": "x7oPng-EA9XE"
      }
    },
    {
      "cell_type": "code",
      "source": [
        "from langchain_experimental.graph_transformers import LLMGraphTransformer\n",
        "\n",
        "system_prompt = \"\"\"\n",
        "You are an AI extracting data from text. You MUST ONLY use these labels:\n",
        "- Tool\n",
        "- Scenario\n",
        "- Constraint\n",
        "\n",
        "Each node is one of these 3 labels only.\n",
        "Output valid JSON with \"nodes\" and \"relationships\" arrays.\n",
        "\n",
        "Node \"type\" must be \"Tool\", \"Scenario\", or \"Constraint\" EXACTLY, no others.\n",
        "\n",
        "Properties for Tool:\n",
        "  - name (string)\n",
        "  - category (string)\n",
        "  - brand (string)\n",
        "  - typicalVoltage (string)\n",
        "  - torqueRange (string)\n",
        "  - rpmRange (string)\n",
        "  - weight (float or string)\n",
        "  - synonyms ([string])\n",
        "  - recommendedScenarios ([string])\n",
        "\n",
        "Scenario:\n",
        "  - scenarioID\n",
        "  - temperatureRange\n",
        "  - recommendedVoltage\n",
        "  - recommendedTorque\n",
        "  - recommendedBattery\n",
        "  - notes\n",
        "\n",
        "Constraint:\n",
        "  - id\n",
        "  - type\n",
        "  - minValue\n",
        "  - maxValue\n",
        "  - unit\n",
        "  - context\n",
        "\n",
        "Relationships can only be:\n",
        "- HAS_SCENARIO (Tool -> Scenario)\n",
        "- HAS_CONSTRAINT (Tool -> Constraint)\n",
        "\n",
        "Example Output (JSON):\n",
        "{\n",
        "  \"nodes\": [\n",
        "    { \"type\": \"Tool\", \"properties\": { \"name\": \"Bosch GHO12V-08N\", ... } },\n",
        "    { \"type\": \"Scenario\", \"properties\": {...} },\n",
        "    ...\n",
        "  ],\n",
        "  \"relationships\": [\n",
        "    { \"startNode\": \"...\", \"endNode\": \"...\", \"type\": \"HAS_SCENARIO\", \"properties\": {} }\n",
        "  ]\n",
        "}\n",
        "ONLY output valid JSON. DO NOT create new node labels like Accessory or Battery.\n",
        "\n",
        "\n",
        "\"\"\"\n",
        "# Instead of llm.system_prompt = system_prompt,\n",
        "# pass the system prompt in the messages when invoking the LLM:\n",
        "def run_graph_extraction(text):\n",
        "  response = llm.invoke(\n",
        "      [{\"role\": \"system\", \"content\": system_prompt},\n",
        "       {\"role\": \"user\", \"content\": text}]\n",
        "  )\n",
        "  return response\n",
        "# Example usage:\n",
        "extracted_graph = run_graph_extraction(\"The Bosch GNH18V-18M is an 18V Brushless 18-gauge Brad Nailer offering cordless convenience.It uses a CORE18V 4 Ah battery, delivering up to 2,000 nails per charge.Key features include a Dry-fire lockout to prevent damage,and an intuitive user interface toggling between single and bump-fire modes.\")\n",
        "\n",
        "# Continue with your graph processing using 'extracted_graph'\n",
        "from langchain_experimental.graph_transformers import LLMGraphTransformer\n",
        "\n",
        "graph_transformer = LLMGraphTransformer(\n",
        "    llm=llm\n",
        ")\n"
      ],
      "metadata": {
        "id": "32zFKlVqUzwd"
      },
      "execution_count": null,
      "outputs": []
    },
    {
      "cell_type": "code",
      "source": [
        "document = Document(page_content=raw_pdf_text)\n"
      ],
      "metadata": {
        "id": "7myyQf8XGIRm"
      },
      "execution_count": null,
      "outputs": []
    },
    {
      "cell_type": "code",
      "source": [
        "# 2) Convert documents to graph documents\n",
        "graph_docs = graph_transformer.convert_to_graph_documents([document]) # Ensure 'document' is in a list\n",
        "\n",
        "\n",
        "# 3) Connect to Neo4j (This part may not be necessary for this code snippet)\n",
        "graph = Neo4jGraph(url=URI, username=AUTH[0], password=AUTH[1])\n",
        "\n",
        "# 4) View extracted info & insert into Neo4j\n",
        "if graph_docs:\n",
        "    doc_graph = graph_docs[0]\n",
        "    print(\"Nodes =>\", doc_graph.nodes)\n",
        "    print(\"Relationships =>\", doc_graph.relationships)\n",
        "\n",
        "    # Insert into Neo4j (This part is also not necessary for this snippet)\n",
        "    graph.add_graph_documents(graph_docs)"
      ],
      "metadata": {
        "colab": {
          "base_uri": "https://localhost:8080/"
        },
        "id": "ceTkBRr2GLyT",
        "outputId": "9b12a9e2-8836-4acb-c1ab-6073a843b72e"
      },
      "execution_count": null,
      "outputs": [
        {
          "output_type": "stream",
          "name": "stdout",
          "text": [
            "Nodes => [Node(id='Bosch Gnh18V-15Ma', type='Product', properties={}), Node(id='Bosch Gho12V-08', type='Product', properties={}), Node(id='Bosch Gho18V-26N', type='Product', properties={}), Node(id='Bosch Gth18V-18M', type='Product', properties={}), Node(id='Bosch Gsr18V-755C', type='Product', properties={}), Node(id='Bosch Gnh18V-16Ma', type='Product', properties={}), Node(id='Bosch Gbl18V-450N', type='Product', properties={})]\n",
            "Relationships => [Relationship(source=Node(id='Bosch Gnh18V-15Ma', type='Product', properties={}), target=Node(id='Gnh15G125Gv', type='Product', properties={}), type='COMPATIBLE_WITH', properties={}), Relationship(source=Node(id='Bosch Gnh18V-15Ma', type='Product', properties={}), target=Node(id='Gnh15G150Gv', type='Product', properties={}), type='COMPATIBLE_WITH', properties={}), Relationship(source=Node(id='Bosch Gnh18V-15Ma', type='Product', properties={}), target=Node(id='Gnh15G175Gv', type='Product', properties={}), type='COMPATIBLE_WITH', properties={}), Relationship(source=Node(id='Bosch Gnh18V-15Ma', type='Product', properties={}), target=Node(id='Gnh15G200Gc', type='Product', properties={}), type='COMPATIBLE_WITH', properties={}), Relationship(source=Node(id='Bosch Gnh18V-15Ma', type='Product', properties={}), target=Node(id='Gnh15G225Gv', type='Product', properties={}), type='COMPATIBLE_WITH', properties={}), Relationship(source=Node(id='Bosch Gnh18V-15Ma', type='Product', properties={}), target=Node(id='Gnh15G250Gv', type='Product', properties={}), type='COMPATIBLE_WITH', properties={}), Relationship(source=Node(id='Bosch Gnh18V-15Ma', type='Product', properties={}), target=Node(id='Gnh15G125Ss', type='Product', properties={}), type='COMPATIBLE_WITH', properties={}), Relationship(source=Node(id='Bosch Gnh18V-15Ma', type='Product', properties={}), target=Node(id='Gnh15G200Ss', type='Product', properties={}), type='COMPATIBLE_WITH', properties={}), Relationship(source=Node(id='Bosch Gnh18V-15Ma', type='Product', properties={}), target=Node(id='Gnh15G250Ss', type='Product', properties={}), type='COMPATIBLE_WITH', properties={}), Relationship(source=Node(id='Bosch Gho12V-08', type='Product', properties={}), target=Node(id='Vh1635A', type='Product', properties={}), type='COMPATIBLE_WITH', properties={}), Relationship(source=Node(id='Bosch Gho12V-08', type='Product', properties={}), target=Node(id='Vac008', type='Product', properties={}), type='COMPATIBLE_WITH', properties={}), Relationship(source=Node(id='Bosch Gho12V-08', type='Product', properties={}), target=Node(id='Vh1035', type='Product', properties={}), type='COMPATIBLE_WITH', properties={}), Relationship(source=Node(id='Bosch Gho12V-08', type='Product', properties={}), target=Node(id='Vac005', type='Product', properties={}), type='COMPATIBLE_WITH', properties={}), Relationship(source=Node(id='Bosch Gho12V-08', type='Product', properties={}), target=Node(id='Vac006', type='Product', properties={}), type='COMPATIBLE_WITH', properties={}), Relationship(source=Node(id='Bosch Gho12V-08', type='Product', properties={}), target=Node(id='Vac024', type='Product', properties={}), type='COMPATIBLE_WITH', properties={}), Relationship(source=Node(id='Bosch Gho18V-26N', type='Product', properties={}), target=Node(id='2605411035', type='Product', properties={}), type='COMPATIBLE_WITH', properties={}), Relationship(source=Node(id='Bosch Gho18V-26N', type='Product', properties={}), target=Node(id='Vh1635A', type='Product', properties={}), type='COMPATIBLE_WITH', properties={}), Relationship(source=Node(id='Bosch Gho18V-26N', type='Product', properties={}), target=Node(id='Vac008', type='Product', properties={}), type='COMPATIBLE_WITH', properties={}), Relationship(source=Node(id='Bosch Gho18V-26N', type='Product', properties={}), target=Node(id='Vh1035', type='Product', properties={}), type='COMPATIBLE_WITH', properties={}), Relationship(source=Node(id='Bosch Gho18V-26N', type='Product', properties={}), target=Node(id='Vac005', type='Product', properties={}), type='COMPATIBLE_WITH', properties={}), Relationship(source=Node(id='Bosch Gho18V-26N', type='Product', properties={}), target=Node(id='Vac006', type='Product', properties={}), type='COMPATIBLE_WITH', properties={}), Relationship(source=Node(id='Bosch Gho18V-26N', type='Product', properties={}), target=Node(id='Vac002', type='Product', properties={}), type='COMPATIBLE_WITH', properties={}), Relationship(source=Node(id='Bosch Gho18V-26N', type='Product', properties={}), target=Node(id='Vac020', type='Product', properties={}), type='COMPATIBLE_WITH', properties={}), Relationship(source=Node(id='Bosch Gho18V-26N', type='Product', properties={}), target=Node(id='2607000073', type='Product', properties={}), type='COMPATIBLE_WITH', properties={}), Relationship(source=Node(id='Bosch Gho18V-26N', type='Product', properties={}), target=Node(id='Pa1202', type='Product', properties={}), type='COMPATIBLE_WITH', properties={}), Relationship(source=Node(id='Bosch Gth18V-18M', type='Product', properties={}), target=Node(id='Gth18G062Gv', type='Product', properties={}), type='COMPATIBLE_WITH', properties={}), Relationship(source=Node(id='Bosch Gth18V-18M', type='Product', properties={}), target=Node(id='Gth18G100Gv', type='Product', properties={}), type='COMPATIBLE_WITH', properties={}), Relationship(source=Node(id='Bosch Gth18V-18M', type='Product', properties={}), target=Node(id='Gth18G116Gv', type='Product', properties={}), type='COMPATIBLE_WITH', properties={}), Relationship(source=Node(id='Bosch Gth18V-18M', type='Product', properties={}), target=Node(id='Gth18G137Gv', type='Product', properties={}), type='COMPATIBLE_WITH', properties={}), Relationship(source=Node(id='Bosch Gth18V-18M', type='Product', properties={}), target=Node(id='Gth18G150Gv', type='Product', properties={}), type='COMPATIBLE_WITH', properties={}), Relationship(source=Node(id='Bosch Gsr18V-755C', type='Product', properties={}), target=Node(id='Gcy42', type='Product', properties={}), type='COMPATIBLE_WITH', properties={}), Relationship(source=Node(id='Bosch Gnh18V-16Ma', type='Product', properties={}), target=Node(id='Gnh18G200Gv', type='Product', properties={}), type='COMPATIBLE_WITH', properties={}), Relationship(source=Node(id='Bosch Gnh18V-16Ma', type='Product', properties={}), target=Node(id='Gnh16G175Gv', type='Product', properties={}), type='COMPATIBLE_WITH', properties={}), Relationship(source=Node(id='Bosch Gnh18V-16Ma', type='Product', properties={}), target=Node(id='Gnh16G200Gv', type='Product', properties={}), type='COMPATIBLE_WITH', properties={}), Relationship(source=Node(id='Bosch Gnh18V-16Ma', type='Product', properties={}), target=Node(id='Gnh16G225Gv', type='Product', properties={}), type='COMPATIBLE_WITH', properties={}), Relationship(source=Node(id='Bosch Gnh18V-16Ma', type='Product', properties={}), target=Node(id='Gnh16G250Gv', type='Product', properties={}), type='COMPATIBLE_WITH', properties={}), Relationship(source=Node(id='Bosch Gnh18V-16Ma', type='Product', properties={}), target=Node(id='Gnh16G125Gv', type='Product', properties={}), type='COMPATIBLE_WITH', properties={}), Relationship(source=Node(id='Bosch Gbl18V-450N', type='Product', properties={}), target=Node(id='Gba18V80', type='Product', properties={}), type='COMPATIBLE_WITH', properties={}), Relationship(source=Node(id='Bosch Gbl18V-450N', type='Product', properties={}), target=Node(id='Gba18V120', type='Product', properties={}), type='COMPATIBLE_WITH', properties={})]\n"
          ]
        }
      ]
    },
    {
      "cell_type": "code",
      "source": [
        "from neo4j import GraphDatabase\n",
        "\n",
        "uri = \"neo4j+s://8ee3c741.databases.neo4j.io\"\n",
        "driver = GraphDatabase.driver(uri, auth=(\"neo4j\", \"ADD_PWD\"))\n",
        "\n",
        "def insert_graph_document(doc_graph):\n",
        "    with driver.session() as session:\n",
        "        # Insert Nodes\n",
        "        for node in doc_graph.nodes:\n",
        "            node_type = node.type  # Access the 'type' attribute directly\n",
        "            props = node.properties # Access the 'properties' attribute directly\n",
        "            # Provide a fallback uniqueId if name or id is missing or null\n",
        "            name = props.get(\"name\") or props.get(\"id\") or f\"node_{hash(str(props))}\"\n",
        "            query = f\"\"\"\n",
        "            MERGE (n:{node_type} {{uniqueId: $uid}})\n",
        "            SET n += $properties\n",
        "            \"\"\"\n",
        "            session.run(query, uid=name, properties=props)\n",
        "\n",
        "        # Insert Relationships\n",
        "        for rel in doc_graph.relationships:\n",
        "            # Accessing relationship attributes using dot notation\n",
        "            # Use 'source' and 'target' instead of 'start_node' and 'end_node'\n",
        "            start_node_id = rel.source.properties.get('name') or rel.source.properties.get('id')  # Extract id from source node\n",
        "            end_node_id = rel.target.properties.get('name') or rel.target.properties.get('id') # Extract id from target node\n",
        "            rel_type = rel.type\n",
        "            rel_props = rel.properties\n",
        "\n",
        "            # Adjust how you find the start/end node if your node schema differs\n",
        "            query = f\"\"\"\n",
        "            MATCH (start), (end)\n",
        "            WHERE start.uniqueId = $startId AND end.uniqueId = $endId\n",
        "            MERGE (start)-[r:{rel_type}]->(end)\n",
        "            SET r += $relProps\n",
        "            \"\"\"\n",
        "            # Pass the extracted node ids instead of Node objects\n",
        "            session.run(query, startId=start_node_id, endId=end_node_id, relProps=rel_props)\n",
        "\n",
        "# Example usage:\n",
        "if graph_docs:\n",
        "    insert_graph_document(graph_docs[0])\n",
        "    print(\"✅ Inserted the extracted graph into Neo4j!\")"
      ],
      "metadata": {
        "colab": {
          "base_uri": "https://localhost:8080/"
        },
        "id": "6R1yjTqdK2W5",
        "outputId": "07f9b9ee-ad77-4d19-9f05-b82c299a0b45"
      },
      "execution_count": null,
      "outputs": [
        {
          "output_type": "stream",
          "name": "stdout",
          "text": [
            "✅ Inserted the extracted graph into Neo4j!\n"
          ]
        }
      ]
    },
    {
      "cell_type": "code",
      "source": [
        "import openai\n",
        "import os\n",
        "\n",
        "# --- Azure OpenAI Setup ---\n",
        "client = openai.AzureOpenAI(\n",
        "    api_key=os.environ[\"AZURE_OPENAI_API_KEY\"],\n",
        "    api_version=os.environ[\"AZURE_OPENAI_API_VERSION\"],\n",
        "    azure_deployment=os.environ[\"AZURE_OPENAI_DEPLOYMENT\"],\n",
        "    azure_endpoint=os.environ[\"AZURE_OPENAI_ENDPOINT\"]\n",
        ")\n",
        "\n",
        "\n",
        "def validate_review_with_llm(review_text, tool_specs):\n",
        "    # Fallback if not all fields are present\n",
        "    name = tool_specs.get(\"name\", \"Unknown Tool\")\n",
        "    category = tool_specs.get(\"category\", \"N/A\")\n",
        "    voltage = tool_specs.get(\"typicalVoltage\", \"N/A\")\n",
        "    torque_range = tool_specs.get(\"torqueRange\", \"N/A\")\n",
        "    rpm_range = tool_specs.get(\"rpmRange\", \"N/A\")\n",
        "    weight = tool_specs.get(\"weight\", \"N/A\")\n",
        "    synonyms = tool_specs.get(\"synonyms\", [])\n",
        "\n",
        "    system_prompt = f\"\"\"\n",
        "                      Tool Name: {name},\n",
        "                      Category: {category},\n",
        "                      Voltage: {voltage},\n",
        "                      Torque Range: {torque_range},\n",
        "                      Speed Range: {rpm_range},\n",
        "                      Weight: {weight},\n",
        "                      Synonyms: {', '.join(synonyms)}\n",
        "                      Check if review has semantic mismatch or domain error.\n",
        "                      \"\"\"\n",
        "\n",
        "    user_prompt = f\"Review: {review_text}\\n\\nIdentify any semantic or numeric (domain) issues.\"\n",
        "\n",
        "    response = client.chat.completions.create(\n",
        "        # Changed model name to 'gpt-4o' to match Azure OpenAI deployment\n",
        "        model=\"gpt-4o\",\n",
        "        messages=[\n",
        "            {\"role\": \"system\", \"content\": system_prompt},\n",
        "            {\"role\": \"user\", \"content\": user_prompt}\n",
        "        ],\n",
        "        temperature=0.2,\n",
        "        # Adding deployment_id parameter pointing to Azure OpenAI deployment\n",
        "        #deployment_id=os.environ[\"AZURE_OPENAI_DEPLOYMENT\"]\n",
        "    )\n",
        "\n",
        "    return response.choices[0].message.content\n",
        "\n",
        "# Example usage:\n",
        "tool_specs = {\n",
        "    \"name\": \"Bosch GNH18V-18M\",\n",
        "    \"category\": \"Brad Nailer\",\n",
        "    \"typicalVoltage\": \"18V\",\n",
        "    \"torqueRange\": \"N/A\",\n",
        "    \"rpmRange\": \"N/A\",\n",
        "    \"weight\": \"6.8 lb\",\n",
        "    \"synonyms\": [\"Bosch GNH18\", \"GNH18 Nailer\"]\n",
        "}\n",
        "\n",
        "review_text = (\n",
        "    \"I love my Bosch GNH18 nailer, but I run it at 2,000 RPM for extra speed. \"\n",
        "    \"It's definitely only 12 volts, but I used a 20V battery anyway. \"\n",
        "    \"I estimate the torque is around 300 Nm—amazing for nails!\"\n",
        ")\n",
        "\n",
        "error_report = validate_review_with_llm(review_text, tool_specs)\n",
        "print(\"Error Report:\\n\", error_report)"
      ],
      "metadata": {
        "colab": {
          "base_uri": "https://localhost:8080/"
        },
        "id": "l2n9hGe8X0bz",
        "outputId": "883920cf-79ed-4fb7-e0ed-e1ff98fe9f0d"
      },
      "execution_count": null,
      "outputs": [
        {
          "output_type": "stream",
          "name": "stdout",
          "text": [
            "Error Report:\n",
            " The review contains several semantic and numeric (domain) issues:\n",
            "\n",
            "1. **Voltage Mismatch**: The Bosch GNH18V-18M is an 18V tool, not 12V as stated in the review. The claim that it is \"definitely only 12 volts\" is incorrect.\n",
            "\n",
            "2. **Battery Compatibility Issue**: The review mentions using a 20V battery with the tool. This is problematic because the Bosch GNH18V-18M is designed for 18V batteries, and using a 20V battery could damage the tool or void the warranty.\n",
            "\n",
            "3. **RPM Claim**: The reviewer states that they run the nailer at \"2,000 RPM.\" However, brad nailers do not operate based on RPM (revolutions per minute) because they are not rotary tools. This is a clear domain error.\n",
            "\n",
            "4. **Torque Estimate**: The reviewer estimates the torque at \"around 300 Nm.\" Brad nailers do not have a torque specification because they use pneumatic or electric force to drive nails, not rotational force. This is another domain error.\n",
            "\n",
            "### Summary:\n",
            "The review contains multiple inaccuracies and domain errors, including incorrect voltage, inappropriate battery usage, irrelevant RPM claims, and a misunderstanding of torque in the context of a brad nailer.\n"
          ]
        }
      ]
    },
    {
      "cell_type": "markdown",
      "source": [
        "Claude test Bosch"
      ],
      "metadata": {
        "id": "ci7AJyOQ2bG5"
      }
    },
    {
      "cell_type": "code",
      "source": [
        "!pip uninstall fitz -y #remove the incorrect install\n",
        "!pip install pymupdf # install the correct package\n",
        "\n",
        "import pymupdf as fitz"
      ],
      "metadata": {
        "id": "_cZUwH8TkUHA",
        "colab": {
          "base_uri": "https://localhost:8080/"
        },
        "outputId": "eb543a86-63ca-4029-c19a-f0360c0ac859"
      },
      "execution_count": null,
      "outputs": [
        {
          "output_type": "stream",
          "name": "stdout",
          "text": [
            "\u001b[33mWARNING: Skipping fitz as it is not installed.\u001b[0m\u001b[33m\n",
            "\u001b[0mCollecting pymupdf\n",
            "  Downloading pymupdf-1.25.5-cp39-abi3-manylinux2014_x86_64.manylinux_2_17_x86_64.whl.metadata (3.4 kB)\n",
            "Downloading pymupdf-1.25.5-cp39-abi3-manylinux2014_x86_64.manylinux_2_17_x86_64.whl (20.0 MB)\n",
            "\u001b[2K   \u001b[90m━━━━━━━━━━━━━━━━━━━━━━━━━━━━━━━━━━━━━━━━\u001b[0m \u001b[32m20.0/20.0 MB\u001b[0m \u001b[31m88.9 MB/s\u001b[0m eta \u001b[36m0:00:00\u001b[0m\n",
            "\u001b[?25hInstalling collected packages: pymupdf\n",
            "Successfully installed pymupdf-1.25.5\n"
          ]
        }
      ]
    },
    {
      "cell_type": "markdown",
      "source": [
        "Using regex to take out important text from document to graph"
      ],
      "metadata": {
        "id": "NiE1YBg5CPvh"
      }
    },
    {
      "cell_type": "code",
      "source": [
        "def extract_text_from_pdf(pdf_path):\n",
        "    text = \"\"\n",
        "    doc = fitz.open(pdf_path)\n",
        "    for page in doc:\n",
        "        text += page.get_text() + \"\\n\"\n",
        "    return text\n",
        "\n",
        "pdf_path = \"/content/Specification Sheet 1.pdf\"\n",
        "raw_pdf_text = extract_text_from_pdf(pdf_path)"
      ],
      "metadata": {
        "id": "6cJFnrL2kTPn"
      },
      "execution_count": null,
      "outputs": []
    },
    {
      "cell_type": "code",
      "source": [
        "import re\n",
        "from typing import List, Dict, Any\n",
        "from neo4j import GraphDatabase\n",
        "from langchain_community.graphs import Neo4jGraph\n",
        "from langchain.docstore.document import Document\n",
        "\n",
        "class BoschToolProcessor:\n",
        "    \"\"\"Class to process Bosch tool specifications and build a Neo4j knowledge graph.\"\"\"\n",
        "\n",
        "    def __init__(self, neo4j_uri: str, neo4j_username: str, neo4j_password: str):\n",
        "        \"\"\"Initialize with Neo4j connection parameters.\"\"\"\n",
        "        self.uri = neo4j_uri\n",
        "        self.auth = (neo4j_username, neo4j_password)\n",
        "        self.graph = Neo4jGraph(url=neo4j_uri, username=neo4j_username, password=neo4j_password)\n",
        "\n",
        "        # Add standard name mapping to reduce redundancy\n",
        "        self.standard_spec_map = {\n",
        "            'height': 'height',\n",
        "            'height_in': 'height',\n",
        "            'length': 'length',\n",
        "            'length_in': 'length',\n",
        "            'width': 'width',\n",
        "            'width_in': 'width',\n",
        "            'weight': 'weight',\n",
        "            'weight_lbs': 'weight',\n",
        "            'voltage': 'voltage',\n",
        "            'voltage_rating': 'voltage',\n",
        "            'battery': 'voltage',\n",
        "            'rating': 'voltage',\n",
        "            'planing_width': 'planing_width',\n",
        "            'planing_depth': 'planing_depth'\n",
        "        }\n",
        "\n",
        "        # Add unit standardization mapping\n",
        "        self.unit_symbol_map = {\n",
        "            'in': 'in',\n",
        "            'inch': 'in',\n",
        "            'inches': 'in',\n",
        "            'lb': 'lb',\n",
        "            'lbs': 'lb',\n",
        "            'pounds': 'lb',\n",
        "            'v': 'V',\n",
        "            'volt': 'V',\n",
        "            'volts': 'V',\n",
        "            'rpm': 'RPM',\n",
        "            'min': 'min',\n",
        "            'minute': 'min',\n",
        "            'mm': 'mm'\n",
        "        }\n",
        "\n",
        "    def create_constraints(self):\n",
        "        \"\"\"Create Neo4j constraints to ensure data integrity.\"\"\"\n",
        "        constraints = [\n",
        "            \"CREATE CONSTRAINT IF NOT EXISTS FOR (t:Tool) REQUIRE t.model_number IS UNIQUE\",\n",
        "            \"CREATE CONSTRAINT IF NOT EXISTS FOR (c:Category) REQUIRE c.name IS UNIQUE\",\n",
        "            \"CREATE CONSTRAINT IF NOT EXISTS FOR (u:Unit) REQUIRE u.symbol IS UNIQUE\",\n",
        "            \"CREATE CONSTRAINT IF NOT EXISTS FOR (s:Scenario) REQUIRE s.scenarioID IS UNIQUE\",\n",
        "            \"CREATE CONSTRAINT IF NOT EXISTS FOR (c:Constraint) REQUIRE c.id IS UNIQUE\",\n",
        "            \"CREATE CONSTRAINT IF NOT EXISTS FOR (l:Limitation) REQUIRE l.id IS UNIQUE\",\n",
        "            \"CREATE CONSTRAINT IF NOT EXISTS FOR (s:Specification) REQUIRE s.name IS UNIQUE\"\n",
        "        ]\n",
        "\n",
        "        for constraint in constraints:\n",
        "            self.graph.query(constraint)\n",
        "\n",
        "    def extract_tool_data(self, document: Document) -> List[Dict[str, Any]]:\n",
        "        \"\"\"\n",
        "        Extract tool data from document content.\n",
        "        Returns a list of dictionaries, each representing a tool.\n",
        "        \"\"\"\n",
        "        content = document.page_content\n",
        "        tools = []\n",
        "\n",
        "        # Improved pattern to find tool sections - matches model headers followed by category in parentheses\n",
        "        model_sections = re.split(r'([A-Z0-9\\-]+V?-[A-Z0-9]+[A-Z0-9N]*)\\s+PROFESSIONAL\\s+\\(([^)]+)\\)', content)\n",
        "\n",
        "        # Skip the first element if it's empty\n",
        "        if model_sections and not model_sections[0].strip():\n",
        "            model_sections = model_sections[1:]\n",
        "\n",
        "        for i in range(0, len(model_sections), 3):\n",
        "            if i+2 >= len(model_sections):\n",
        "                break  # Ensure we have all three components\n",
        "\n",
        "            model_number = model_sections[i].strip()\n",
        "            category = model_sections[i+1].strip()\n",
        "            section_content = model_sections[i+2]\n",
        "\n",
        "            # Create tool dictionary\n",
        "            tool = {\n",
        "                \"model_number\": model_number,\n",
        "                \"name\": f\"Bosch {model_number} Professional\",\n",
        "                \"category\": category,\n",
        "                \"specifications\": {},\n",
        "                \"accessories\": [],\n",
        "                \"includes\": [],\n",
        "                \"limitations\": [],\n",
        "                \"operational_ranges\": []\n",
        "            }\n",
        "\n",
        "            # Extract specifications: look for lines that contain key-value pairs\n",
        "            lines = section_content.split('\\n')\n",
        "            for line in lines:\n",
        "                line = line.strip()\n",
        "                if not line:\n",
        "                    continue\n",
        "\n",
        "                # Skip lines that don't look like specifications\n",
        "                if len(line.split(': ')) < 2:\n",
        "                    # Try alternative format with colon without space\n",
        "                    parts = line.split(':')\n",
        "                    if len(parts) < 2:\n",
        "                        continue\n",
        "                    key = parts[0].strip()\n",
        "                    value = ':'.join(parts[1:]).strip()\n",
        "                else:\n",
        "                    key, value = line.split(': ', 1)\n",
        "                    key = key.strip()\n",
        "                    value = value.strip()\n",
        "\n",
        "                # Clean up key for better consistency as specification name\n",
        "                spec_name = key.lower().replace(' ', '_').replace(':', '').replace('.', '')\n",
        "\n",
        "                # Skip specifications with meaningless names\n",
        "                if spec_name in [\"that\", \"with\", \"and\", \"or\", \"by\", \"from\", \"to\", \"for\"]:\n",
        "                    continue\n",
        "\n",
        "                # Standardize specification names\n",
        "                if spec_name in self.standard_spec_map:\n",
        "                    spec_name = self.standard_spec_map[spec_name]\n",
        "\n",
        "                # Process the value based on its format\n",
        "                # Enhanced pattern matching for ranges with dashes\n",
        "                range_match = re.search(r'([-+]?[\\d.]+)\\s*([\"\\w°CF]+)?\\s*[-–]\\s*([-+]?[\\d.]+)\\s*([\"\\w°CF]+)?', value)\n",
        "                value_match = re.search(r'^([-+]?[\\d.]+)\\s*([\"\\w°CF]+)?$', value)\n",
        "                yes_no_match = re.search(r'^(yes|no)$', value, re.IGNORECASE)\n",
        "\n",
        "                # Process yes/no values\n",
        "                if yes_no_match:\n",
        "                    tool[\"specifications\"][spec_name] = {\n",
        "                        \"value\": yes_no_match.group(1).lower(),\n",
        "                        \"unit\": \"boolean\"\n",
        "                    }\n",
        "                # Process range values\n",
        "                elif range_match:\n",
        "                    try:\n",
        "                        min_value = float(range_match.group(1))\n",
        "                        max_value = float(range_match.group(3))\n",
        "\n",
        "                        # Handle units - prefer second unit if both are present\n",
        "                        unit = range_match.group(4) if range_match.group(4) else range_match.group(2) if range_match.group(2) else \"\"\n",
        "                        unit = unit.replace('\"', 'in')\n",
        "\n",
        "                        # Standardize unit\n",
        "                        if unit.lower() in self.unit_symbol_map:\n",
        "                            unit = self.unit_symbol_map[unit.lower()]\n",
        "\n",
        "                        # Store as range in specifications\n",
        "                        tool[\"specifications\"][spec_name] = {\n",
        "                            \"value_min\": min_value,\n",
        "                            \"value_max\": max_value,\n",
        "                            \"unit\": unit,\n",
        "                            \"is_range\": True\n",
        "                        }\n",
        "\n",
        "                        # Add to operational ranges\n",
        "                        tool[\"operational_ranges\"].append({\n",
        "                            \"name\": spec_name.replace(\"_\", \" \"),\n",
        "                            \"min_value\": min_value,\n",
        "                            \"max_value\": max_value,\n",
        "                            \"unit\": unit,\n",
        "                            \"warning_type\": \"operational_range\"\n",
        "                        })\n",
        "\n",
        "                        # Generate limitation based on the range\n",
        "                        limitation_description = f\"{spec_name.replace('_', ' ').title()} must be between {min_value} and {max_value} {unit}.\"\n",
        "                        tool[\"limitations\"].append({\n",
        "                            \"description\": limitation_description,\n",
        "                            \"warning_type\": \"operational_range\",\n",
        "                            \"spec_name\": spec_name,\n",
        "                            \"min_value\": min_value,\n",
        "                            \"max_value\": max_value,\n",
        "                            \"unit\": unit\n",
        "                        })\n",
        "\n",
        "                    except ValueError:\n",
        "                        # Fallback for conversion errors\n",
        "                        tool[\"specifications\"][spec_name] = {\n",
        "                            \"value\": value,\n",
        "                            \"unit\": \"\"\n",
        "                        }\n",
        "                # Process single numeric values\n",
        "                elif value_match:\n",
        "                    try:\n",
        "                        numeric_value = float(value_match.group(1))\n",
        "                        unit = value_match.group(2) if value_match.group(2) else \"\"\n",
        "                        unit = unit.replace('\"', 'in')\n",
        "\n",
        "                        # Standardize unit\n",
        "                        if unit.lower() in self.unit_symbol_map:\n",
        "                            unit = self.unit_symbol_map[unit.lower()]\n",
        "\n",
        "                        tool[\"specifications\"][spec_name] = {\n",
        "                            \"value\": numeric_value,\n",
        "                            \"unit\": unit\n",
        "                        }\n",
        "                    except ValueError:\n",
        "                        tool[\"specifications\"][spec_name] = {\n",
        "                            \"value\": value,\n",
        "                            \"unit\": \"\"\n",
        "                        }\n",
        "                # Handle other types of values\n",
        "                else:\n",
        "                    tool[\"specifications\"][spec_name] = {\n",
        "                        \"value\": value,\n",
        "                        \"unit\": \"\"\n",
        "                    }\n",
        "\n",
        "            # Look for common patterns in the specification keys to extract more structured data\n",
        "            # For example, \"Maximum Capacities\" often contains structured data\n",
        "            for line in lines:\n",
        "                if \"Maximum Capacities:\" in line:\n",
        "                    # Extract capacities section\n",
        "                    capacities_text = line.split(\"Maximum Capacities:\", 1)[1].strip()\n",
        "                    # Split by commas and process each capacity\n",
        "                    capacities = capacities_text.split(',')\n",
        "                    for capacity in capacities:\n",
        "                        capacity = capacity.strip()\n",
        "                        capacity_match = re.match(r'([^:]+):\\s*([^,]+)', capacity)\n",
        "                        if capacity_match:\n",
        "                            cap_name = capacity_match.group(1).strip().lower().replace(' ', '_')\n",
        "                            cap_value = capacity_match.group(2).strip()\n",
        "\n",
        "                            # Standardize specification names\n",
        "                            if cap_name in self.standard_spec_map:\n",
        "                                cap_name = self.standard_spec_map[cap_name]\n",
        "\n",
        "                            # Process range values in capacities\n",
        "                            range_match = re.search(r'([-+]?[\\d.]+)\\s*([\"\\w°CF]+)?\\s*[-–]\\s*([-+]?[\\d.]+)\\s*([\"\\w°CF]+)?', cap_value)\n",
        "                            if range_match:\n",
        "                                try:\n",
        "                                    min_value = float(range_match.group(1))\n",
        "                                    max_value = float(range_match.group(3))\n",
        "                                    unit = range_match.group(4) if range_match.group(4) else range_match.group(2) if range_match.group(2) else \"\"\n",
        "                                    unit = unit.replace('\"', 'in')\n",
        "\n",
        "                                    # Standardize unit\n",
        "                                    if unit.lower() in self.unit_symbol_map:\n",
        "                                        unit = self.unit_symbol_map[unit.lower()]\n",
        "\n",
        "                                    tool[\"specifications\"][cap_name] = {\n",
        "                                        \"value_min\": min_value,\n",
        "                                        \"value_max\": max_value,\n",
        "                                        \"unit\": unit,\n",
        "                                        \"is_range\": True\n",
        "                                    }\n",
        "                                except ValueError:\n",
        "                                    tool[\"specifications\"][cap_name] = {\n",
        "                                        \"value\": cap_value,\n",
        "                                        \"unit\": \"\"\n",
        "                                    }\n",
        "                            else:\n",
        "                                tool[\"specifications\"][cap_name] = {\n",
        "                                    \"value\": cap_value,\n",
        "                                    \"unit\": \"\"\n",
        "                                }\n",
        "\n",
        "            # Extract accessories and included items from any text that mentions them\n",
        "            for i, line in enumerate(lines):\n",
        "                if \"Works With\" in line:\n",
        "                    # Extract accessories if found\n",
        "                    acc_start = i\n",
        "                    for j in range(acc_start + 1, len(lines)):\n",
        "                        if not lines[j].strip() or any(keyword in lines[j] for keyword in [\"Includes\", \"TECHNICAL\", \"MODEL\"]):\n",
        "                            break\n",
        "                        if lines[j].strip():\n",
        "                            accessory = lines[j].strip()\n",
        "                            if accessory not in tool[\"accessories\"]:\n",
        "                                tool[\"accessories\"].append(accessory)\n",
        "\n",
        "                if \"Includes\" in line:\n",
        "                    # Extract included items if found\n",
        "                    inc_start = i\n",
        "                    for j in range(inc_start + 1, len(lines)):\n",
        "                        if not lines[j].strip() or any(keyword in lines[j] for keyword in [\"TECHNICAL\", \"MODEL\"]):\n",
        "                            break\n",
        "                        if lines[j].strip():\n",
        "                            item = lines[j].strip()\n",
        "                            if item not in tool[\"includes\"]:\n",
        "                                tool[\"includes\"].append(item)\n",
        "\n",
        "            # Infer limitations based on specifications\n",
        "            self._infer_limitations(tool)\n",
        "\n",
        "            # Add the tool to the list only if it has a valid model number and specifications\n",
        "            if tool[\"model_number\"] and tool[\"specifications\"]:\n",
        "                tools.append(tool)\n",
        "\n",
        "        return tools\n",
        "\n",
        "    def _infer_limitations(self, tool: Dict[str, Any]):\n",
        "        \"\"\"Helper method to infer limitations based on tool specifications.\"\"\"\n",
        "        category = tool[\"category\"].lower()\n",
        "\n",
        "        # Check for voltage limitations\n",
        "        for spec_name, spec_data in tool[\"specifications\"].items():\n",
        "            # Generate limitations for battery/voltage specifications\n",
        "            if \"battery\" in spec_name.lower() or \"voltage\" in spec_name.lower():\n",
        "                value = spec_data.get(\"value\", \"\")\n",
        "                if isinstance(value, (int, float)):\n",
        "                    max_voltage = value\n",
        "                    tool[\"limitations\"].append({\n",
        "                        \"description\": f\"Maximum operating voltage: {max_voltage}V. Using higher voltage may damage the tool.\",\n",
        "                        \"warning_type\": \"voltage\",\n",
        "                        \"max_value\": max_voltage,\n",
        "                        \"unit\": \"V\"\n",
        "                    })\n",
        "                elif isinstance(value, str) and (\"12v\" in value.lower() or \"12-volt\" in value.lower()):\n",
        "                    tool[\"limitations\"].append({\n",
        "                        \"description\": \"Designed for 12V operation only. Not suitable for heavy-duty applications that require 18V or higher.\",\n",
        "                        \"warning_type\": \"voltage\",\n",
        "                        \"max_value\": 12,\n",
        "                        \"unit\": \"V\"\n",
        "                    })\n",
        "\n",
        "            # Generate limitations for temperature ranges\n",
        "            if \"temperature\" in spec_name.lower() or \"temp\" in spec_name.lower():\n",
        "                if \"value_min\" in spec_data and \"value_max\" in spec_data:\n",
        "                    min_temp = spec_data[\"value_min\"]\n",
        "                    max_temp = spec_data[\"value_max\"]\n",
        "                    unit = spec_data.get(\"unit\", \"°F\")\n",
        "                    tool[\"limitations\"].append({\n",
        "                        \"description\": f\"Operating temperature range: {min_temp}{unit} to {max_temp}{unit}. Using outside this range may damage the tool.\",\n",
        "                        \"warning_type\": \"temperature\",\n",
        "                        \"min_value\": min_temp,\n",
        "                        \"max_value\": max_temp,\n",
        "                        \"unit\": unit\n",
        "                    })\n",
        "\n",
        "            # Generate limitations for speed/RPM\n",
        "            if \"rpm\" in spec_name.lower() or \"speed\" in spec_name.lower():\n",
        "                if \"value\" in spec_data and isinstance(spec_data[\"value\"], (int, float)):\n",
        "                    max_rpm = spec_data[\"value\"]\n",
        "                    tool[\"limitations\"].append({\n",
        "                        \"description\": f\"Maximum speed: {max_rpm} RPM. Operating above this speed may cause motor damage.\",\n",
        "                        \"warning_type\": \"speed\",\n",
        "                        \"max_value\": max_rpm,\n",
        "                        \"unit\": \"RPM\"\n",
        "                    })\n",
        "\n",
        "        # Planer-specific limitations\n",
        "        if \"planer\" in category:\n",
        "            if \"planing_depth\" in tool[\"specifications\"]:\n",
        "                depth_info = tool[\"specifications\"][\"planing_depth\"]\n",
        "                if \"value_min\" in depth_info and \"value_max\" in depth_info:\n",
        "                    min_depth = depth_info[\"value_min\"]\n",
        "                    max_depth = depth_info[\"value_max\"]\n",
        "                    unit = depth_info.get(\"unit\", \"in\")\n",
        "                    tool[\"limitations\"].append({\n",
        "                        \"description\": f\"Planing depth limited to {min_depth}{unit}-{max_depth}{unit}. Attempting deeper cuts may damage the tool.\",\n",
        "                        \"warning_type\": \"material\",\n",
        "                        \"min_value\": min_depth,\n",
        "                        \"max_value\": max_depth,\n",
        "                        \"unit\": unit,\n",
        "                        \"spec_name\": \"planing_depth\"\n",
        "                    })\n",
        "                elif \"value\" in depth_info:\n",
        "                    max_depth = depth_info[\"value\"]\n",
        "                    if isinstance(max_depth, (int, float)) and max_depth < 0.1:\n",
        "                        tool[\"limitations\"].append({\n",
        "                            \"description\": f\"Maximum planing depth limited to {max_depth} inches. Not suitable for deep material removal.\",\n",
        "                            \"warning_type\": \"material\",\n",
        "                            \"max_value\": max_depth,\n",
        "                            \"unit\": \"in\",\n",
        "                            \"spec_name\": \"planing_depth\"\n",
        "                        })\n",
        "\n",
        "            if \"planing_width\" in tool[\"specifications\"]:\n",
        "                width_info = tool[\"specifications\"][\"planing_width\"]\n",
        "                if \"value_min\" in width_info and \"value_max\" in width_info:\n",
        "                    min_width = width_info[\"value_min\"]\n",
        "                    max_width = width_info[\"value_max\"]\n",
        "                    unit = width_info.get(\"unit\", \"in\")\n",
        "                    tool[\"limitations\"].append({\n",
        "                        \"description\": f\"Planing width limited to {min_width}{unit}-{max_width}{unit}. Cannot plane wider materials.\",\n",
        "                        \"warning_type\": \"material\",\n",
        "                        \"min_value\": min_width,\n",
        "                        \"max_value\": max_width,\n",
        "                        \"unit\": unit,\n",
        "                        \"spec_name\": \"planing_width\"\n",
        "                    })\n",
        "\n",
        "        # Drill-specific limitations\n",
        "        if \"drill\" in category or \"driver\" in category:\n",
        "            if \"torque\" in tool[\"specifications\"]:\n",
        "                torque_info = tool[\"specifications\"][\"torque\"]\n",
        "                torque_value = torque_info.get(\"value\", 0)\n",
        "                if isinstance(torque_value, (int, float)) and torque_value < 600:\n",
        "                    tool[\"limitations\"].append({\n",
        "                        \"description\": f\"Maximum torque limited to {torque_value} in-lbs. May not be suitable for drilling into hardened materials.\",\n",
        "                        \"warning_type\": \"torque\",\n",
        "                        \"max_value\": torque_value,\n",
        "                        \"unit\": \"in-lbs\",\n",
        "                        \"spec_name\": \"torque\"\n",
        "                    })\n",
        "\n",
        "        # Nailer-specific limitations\n",
        "        if \"nailer\" in category or \"nail\" in category:\n",
        "            tool[\"limitations\"].append({\n",
        "                \"description\": \"Only compatible with specified nail types and sizes. Using incorrect nails may damage the tool or workpiece.\",\n",
        "                \"warning_type\": \"compatibility\"\n",
        "            })\n",
        "\n",
        "    def build_neo4j_graph(self, tools: List[Dict[str, Any]]):\n",
        "        \"\"\"Create Neo4j graph from extracted tools data.\"\"\"\n",
        "        # First clear existing database to avoid duplicates\n",
        "        self.graph.query(\"MATCH (n) DETACH DELETE n\")\n",
        "\n",
        "        # Create constraints to ensure data integrity\n",
        "        self.create_constraints()\n",
        "\n",
        "        for tool in tools:\n",
        "            # 1. Create Tool node with more properties\n",
        "            tool_props = {\n",
        "                \"model_number\": tool[\"model_number\"],\n",
        "                \"name\": tool[\"name\"],\n",
        "                \"full_name\": f\"Bosch {tool['model_number']} Professional {tool['category']}\".strip()\n",
        "            }\n",
        "\n",
        "            self.graph.query(\n",
        "                \"CREATE (t:Tool $props)\",\n",
        "                {\"props\": tool_props}\n",
        "            )\n",
        "\n",
        "            # 2. Create and connect Category with BELONGS_TO relationship\n",
        "            self.graph.query(\n",
        "                \"MATCH (t:Tool {model_number: $model}) \"\n",
        "                \"MERGE (c:Category {name: $category}) \"\n",
        "                \"MERGE (t)-[:BELONGS_TO]->(c)\",\n",
        "                {\"model\": tool[\"model_number\"], \"category\": tool[\"category\"]}\n",
        "            )\n",
        "\n",
        "            # 3. Create and connect Specifications with improved handling\n",
        "            for spec_name, spec_data in tool[\"specifications\"].items():\n",
        "                # Handle range values vs single values\n",
        "                spec_props = {\n",
        "                    \"name\": spec_name.replace(\"_\", \" \")\n",
        "                }\n",
        "\n",
        "                # Create a tool-specific property set for this specification\n",
        "                tool_spec_props = {}\n",
        "\n",
        "                if \"value_min\" in spec_data and \"value_max\" in spec_data:\n",
        "                    tool_spec_props[\"value_min\"] = spec_data[\"value_min\"]\n",
        "                    tool_spec_props[\"value_max\"] = spec_data[\"value_max\"]\n",
        "                    tool_spec_props[\"is_range\"] = True\n",
        "                else:\n",
        "                    # Handle different value types appropriately\n",
        "                    value = spec_data.get(\"value\", \"\")\n",
        "                    if isinstance(value, (int, float)):\n",
        "                        tool_spec_props[\"numeric_value\"] = value\n",
        "                    else:\n",
        "                        tool_spec_props[\"text_value\"] = str(value)\n",
        "\n",
        "                # Use MERGE instead of CREATE for specifications to reduce redundancy\n",
        "                spec_result = self.graph.query(\n",
        "                    \"MATCH (t:Tool {model_number: $model}) \"\n",
        "                    \"MERGE (s:Specification {name: $spec_name}) \"\n",
        "                    \"ON CREATE SET s = $props \"\n",
        "                    \"MERGE (t)-[:HAS_SPECIFICATION]->(s) \"\n",
        "                    \"RETURN id(s) as spec_id\",\n",
        "                    {\n",
        "                        \"model\": tool[\"model_number\"],\n",
        "                        \"spec_name\": spec_props[\"name\"],\n",
        "                        \"props\": spec_props\n",
        "                    }\n",
        "                )\n",
        "\n",
        "                spec_id = spec_result[0][\"spec_id\"] if spec_result else None\n",
        "\n",
        "                # If we have a unit, create and connect it with HAS_UNIT relationship\n",
        "                if spec_data.get(\"unit\") and spec_id:\n",
        "                    unit_symbol = spec_data[\"unit\"].replace('\"', 'in')\n",
        "\n",
        "                    # Skip empty units\n",
        "                    if not unit_symbol:\n",
        "                        continue\n",
        "\n",
        "                    # Standardize unit names\n",
        "                    if unit_symbol.lower() in self.unit_symbol_map:\n",
        "                        unit_symbol = self.unit_symbol_map[unit_symbol.lower()]\n",
        "\n",
        "                    unit_name_map = {\n",
        "                        'in': 'inch',\n",
        "                        'lb': 'pound',\n",
        "                        'RPM': 'revolutions per minute',\n",
        "                        'boolean': 'yes/no value',\n",
        "                        '°F': 'degrees Fahrenheit',\n",
        "                        '°C': 'degrees Celsius',\n",
        "                        'V': 'volt'\n",
        "                    }\n",
        "\n",
        "                    unit_name = unit_name_map.get(unit_symbol, unit_symbol)\n",
        "\n",
        "                    self.graph.query(\n",
        "                        \"MATCH (s:Specification) WHERE id(s) = $spec_id \"\n",
        "                        \"MERGE (u:Unit {symbol: $symbol}) \"\n",
        "                        \"ON CREATE SET u.name = $name \"\n",
        "                        \"MERGE (s)-[:HAS_UNIT]->(u)\",\n",
        "                        {\"spec_id\": spec_id, \"symbol\": unit_symbol, \"name\": unit_name}\n",
        "                    )\n",
        "\n",
        "                # For range specifications, create min and max limit nodes\n",
        "                if \"value_min\" in spec_data and \"value_max\" in spec_data:\n",
        "                    # Create Min Limit node and connect it\n",
        "                    min_limit_props = {\n",
        "                        \"id\": f\"{tool['model_number']}_{spec_name}_min\",\n",
        "                        \"name\": f\"Minimum {spec_name.replace('_', ' ')}\",\n",
        "                        \"value\": spec_data[\"value_min\"],\n",
        "                        \"unit\": spec_data.get(\"unit\", \"\"),\n",
        "                        \"limit_type\": \"minimum\"\n",
        "                    }\n",
        "\n",
        "                    self.graph.query(\n",
        "                        \"MATCH (s:Specification) WHERE id(s) = $spec_id \"\n",
        "                        \"MERGE (l:RangeLimit {name: $limit_name, value: $value, unit: $unit, limit_type: $limit_type}) \"\n",
        "                        \"MERGE (s)-[:HAS_MIN_LIMIT]->(l)\",\n",
        "                        {\n",
        "                            \"spec_id\": spec_id,\n",
        "                            \"limit_name\": min_limit_props[\"name\"],\n",
        "                            \"value\": min_limit_props[\"value\"],\n",
        "                            \"unit\": min_limit_props[\"unit\"],\n",
        "                            \"limit_type\": min_limit_props[\"limit_type\"]\n",
        "                        }\n",
        "                    )\n",
        "\n",
        "                    # Create Max Limit node and connect it\n",
        "                    max_limit_props = {\n",
        "                        \"id\": f\"{tool['model_number']}_{spec_name}_max\",\n",
        "                        \"name\": f\"Maximum {spec_name.replace('_', ' ')}\",\n",
        "                        \"value\": spec_data[\"value_max\"],\n",
        "                        \"unit\": spec_data.get(\"unit\", \"\"),\n",
        "                        \"limit_type\": \"maximum\"\n",
        "                    }\n",
        "\n",
        "                    self.graph.query(\n",
        "                        \"MATCH (s:Specification) WHERE id(s) = $spec_id \"\n",
        "                        \"MERGE (l:RangeLimit {name: $limit_name, value: $value, unit: $unit, limit_type: $limit_type}) \"\n",
        "                        \"MERGE (s)-[:HAS_MAX_LIMIT]->(l)\",\n",
        "                        {\n",
        "                            \"spec_id\": spec_id,\n",
        "                            \"limit_name\": max_limit_props[\"name\"],\n",
        "                            \"value\": max_limit_props[\"value\"],\n",
        "                            \"unit\": max_limit_props[\"unit\"],\n",
        "                            \"limit_type\": max_limit_props[\"limit_type\"]\n",
        "                        }\n",
        "                    )\n",
        "                  # Clean up orphaned nodes and merge duplicates\n",
        "                  # Remove any nodes that aren't connected to anything\n",
        "                    self.graph.query(\"\"\"\n",
        "                        MATCH (n)\n",
        "                        WHERE NOT (n)--()\n",
        "                        DELETE n\"\"\")\n",
        "\n",
        "            # 4. Create and connect Accessories with COMPATIBLE_WITH relationship\n",
        "            for i, accessory in enumerate(tool[\"accessories\"]):\n",
        "                # Try to extract model number if present\n",
        "                model_match = re.search(r'([A-Z0-9]+(?:\\-[A-Z0-9]+)*)', accessory)\n",
        "                accessory_props = {\n",
        "                    \"name\": accessory.strip(),\n",
        "                    \"type\": \"Accessory\"\n",
        "                }\n",
        "\n",
        "                if model_match:\n",
        "                    accessory_props[\"model_number\"] = model_match.group(1)\n",
        "\n",
        "                self.graph.query(\n",
        "                    \"MATCH (t:Tool {model_number: $model}) \"\n",
        "                    \"MERGE (a:Accessory {name: $name}) \"  # Use MERGE instead of CREATE\n",
        "                    \"MERGE (t)-[:COMPATIBLE_WITH]->(a)\",\n",
        "                    {\"model\": tool[\"model_number\"], \"name\": accessory_props[\"name\"]}\n",
        "                )\n",
        "\n",
        "            # 5. Create and connect Included Items with INCLUDES relationship\n",
        "            for i, item in enumerate(tool[\"includes\"]):\n",
        "                # Try to extract model number and quantity\n",
        "                model_match = re.search(r'([A-Z0-9]+(?:\\-[A-Z0-9]+)*)', item)\n",
        "                quantity_match = re.search(r'\\((\\d+)\\)', item)\n",
        "\n",
        "                item_props = {\n",
        "                    \"name\": item.strip(),\n",
        "                    \"quantity\": int(quantity_match.group(1)) if quantity_match else 1\n",
        "                }\n",
        "\n",
        "                if model_match:\n",
        "                    item_props[\"model_number\"] = model_match.group(1)\n",
        "\n",
        "                self.graph.query(\n",
        "                    \"MATCH (t:Tool {model_number: $model}) \"\n",
        "                    \"MERGE (i:IncludedItem {name: $name}) \"  # Use MERGE instead of CREATE\n",
        "                    \"MERGE (t)-[:INCLUDES]->(i)\",\n",
        "                    {\"model\": tool[\"model_number\"], \"name\": item_props[\"name\"]}\n",
        "                )\n",
        "\n",
        "            # 6. Create and connect Limitations with HAS_LIMITATION relationship and enhanced properties\n",
        "            for i, limitation in enumerate(tool[\"limitations\"]):\n",
        "                limitation_props = {\n",
        "                    \"description\": limitation[\"description\"],\n",
        "                    \"warning_type\": limitation[\"warning_type\"],\n",
        "                    \"id\": f\"{tool['model_number']}_limit_{i}\"\n",
        "                }\n",
        "\n",
        "                # Add min/max values if they exist\n",
        "                if \"min_value\" in limitation:\n",
        "                    limitation_props[\"min_value\"] = limitation[\"min_value\"]\n",
        "                if \"max_value\" in limitation:\n",
        "                    limitation_props[\"max_value\"] = limitation[\"max_value\"]\n",
        "                if \"unit\" in limitation:\n",
        "                    limitation_props[\"unit\"] = limitation[\"unit\"]\n",
        "                if \"spec_name\" in limitation:\n",
        "                    limitation_props[\"spec_name\"] = limitation[\"spec_name\"]\n",
        "\n",
        "                # Use MERGE for limitations with the same warning type and description\n",
        "                limitation_result = self.graph.query(\n",
        "                    \"MATCH (t:Tool {model_number: $model}) \"\n",
        "                    \"MERGE (l:Limitation {description: $description, warning_type: $warning_type}) \"\n",
        "                    \"ON CREATE SET l.id = $id \"\n",
        "                    \"MERGE (t)-[:HAS_LIMITATION]->(l) \"\n",
        "                    \"RETURN id(l) as limit_id\",\n",
        "                    {\n",
        "                        \"model\": tool[\"model_number\"],\n",
        "                        \"description\": limitation_props[\"description\"],\n",
        "                        \"warning_type\": limitation_props[\"warning_type\"],\n",
        "                        \"id\": limitation_props[\"id\"]\n",
        "                    }\n",
        "                )\n",
        "\n",
        "                limit_id = limitation_result[0][\"limit_id\"] if limitation_result else None\n",
        "\n",
        "                # For range-based limitations, create separate min and max limit nodes\n",
        "                if \"min_value\" in limitation and \"max_value\" in limitation and limit_id:\n",
        "                    # Create Min Limit node and connect it to the limitation\n",
        "                    min_limit_props = {\n",
        "                        \"name\": f\"Minimum {limitation.get('spec_name', 'value').replace('_', ' ')}\",\n",
        "                        \"value\": limitation[\"min_value\"],\n",
        "                        \"unit\": limitation.get(\"unit\", \"\"),\n",
        "                        \"limit_type\": \"minimum\"\n",
        "                    }\n",
        "\n",
        "                    self.graph.query(\n",
        "                        \"MATCH (l:Limitation) WHERE id(l) = $limit_id \"\n",
        "                        \"MERGE (r:RangeLimit {name: $name, value: $value, unit: $unit, limit_type: $limit_type}) \"\n",
        "                        \"MERGE (l)-[:HAS_MIN_LIMIT]->(r)\",\n",
        "                        {\n",
        "                            \"limit_id\": limit_id,\n",
        "                            \"name\": min_limit_props[\"name\"],\n",
        "                            \"value\": min_limit_props[\"value\"],\n",
        "                            \"unit\": min_limit_props[\"unit\"],\n",
        "                            \"limit_type\": min_limit_props[\"limit_type\"]\n",
        "                        }\n",
        "                    )\n",
        "\n",
        "                    # Create Max Limit node and connect it to the limitation\n",
        "                    max_limit_props = {\n",
        "                        \"name\": f\"Maximum {limitation.get('spec_name', 'value').replace('_', ' ')}\",\n",
        "                        \"value\": limitation[\"max_value\"],\n",
        "                        \"unit\": limitation.get(\"unit\", \"\"),\n",
        "                        \"limit_type\": \"maximum\"\n",
        "                    }\n",
        "\n",
        "                    self.graph.query(\n",
        "                        \"MATCH (l:Limitation) WHERE id(l) = $limit_id \"\n",
        "                        \"CREATE (r:RangeLimit $props) \"\n",
        "                        \"MERGE (l)-[:HAS_MAX_LIMIT]->(r)\",\n",
        "                        {\"limit_id\": limit_id, \"props\": max_limit_props}\n",
        "                    )\n",
        "\n",
        "                # Connect limitation to specification if spec_name is provided\n",
        "                if \"spec_name\" in limitation:\n",
        "                    self.graph.query(\n",
        "                        \"MATCH (l:Limitation) WHERE id(l) = $limit_id \"\n",
        "                        \"MATCH (s:Specification {id: $spec_id}) \"\n",
        "                        \"MERGE (l)-[:LIMITS_SPECIFICATION]->(s)\",\n",
        "                        {\n",
        "                            \"limit_id\": limit_id,\n",
        "                            \"spec_id\": f\"{tool['model_number']}_{limitation['spec_name']}\"\n",
        "                        }\n",
        "                    )\n",
        "\n",
        "    def process_document(self, document: Document):\n",
        "        \"\"\"Process document content and build Neo4j graph.\"\"\"\n",
        "        # Extract tool data\n",
        "        tools = self.extract_tool_data(document)\n",
        "\n",
        "        if not tools:\n",
        "            print(\"No tools found in the document. Check the document format or extraction patterns.\")\n",
        "            return {\"tools_processed\": 0, \"tools\": []}\n",
        "\n",
        "        # Build Neo4j graph\n",
        "        self.build_neo4j_graph(tools)\n",
        "\n",
        "        return {\n",
        "            \"tools_processed\": len(tools),\n",
        "            \"tools\": tools\n",
        "        }\n",
        "\n",
        "def main():\n",
        "    # Neo4j connection details\n",
        "    URI = \"neo4j+s://8ee3c741.databases.neo4j.io\"  # Update with your connection details\n",
        "    AUTH = (\"neo4j\", \"IA36BLF3uO0pH_A2A0h-3wJ1EhPIT-ye-bgae9AO-t8\")    # Update with your credentials\n",
        "\n",
        "    # Create a document from your content\n",
        "    # Replace raw_pdf_text with your actual document content\n",
        "    # For example, read from the PDF or text file\n",
        "    document = Document(page_content=raw_pdf_text)\n",
        "\n",
        "    # Process the document\n",
        "    processor = BoschToolProcessor(URI, AUTH[0], AUTH[1])\n",
        "    result = processor.process_document(document)\n",
        "\n",
        "    print(f\"Processed {result['tools_processed']} tools\")\n",
        "\n",
        "    # Print detailed information about each extracted tool\n",
        "    for i, tool in enumerate(result['tools']):\n",
        "        print(f\"\\nTool {i+1}: {tool['model_number']}\")\n",
        "        print(f\"  Category: {tool['category']}\")\n",
        "        print(f\"  Specifications:\")\n",
        "        for name, data in tool['specifications'].items():\n",
        "            print(f\"    - {name}: {data}\")\n",
        "        print(f\"  Accessories: {len(tool['accessories'])}\")\n",
        "        for acc in tool['accessories']:\n",
        "            print(f\"    - {acc}\")\n",
        "        print(f\"  Included Items: {len(tool['includes'])}\")\n",
        "        for item in tool['includes']:\n",
        "            print(f\"    - {item}\")\n",
        "        print(f\"  Limitations: {len(tool['limitations'])}\")\n",
        "        for limitation in tool['limitations']:\n",
        "            print(f\"    - {limitation['warning_type']}: {limitation['description']}\")\n",
        "            if \"min_value\" in limitation and \"max_value\" in limitation:\n",
        "                print(f\"      Range: {limitation['min_value']} - {limitation['max_value']} {limitation.get('unit', '')}\")\n",
        "\n",
        "if __name__ == \"__main__\":\n",
        "    main()\n",
        "\n"
      ],
      "metadata": {
        "colab": {
          "base_uri": "https://localhost:8080/"
        },
        "id": "QemM10tOod_D",
        "outputId": "6dc9e31f-690c-4005-adcb-b613f1d8abbb"
      },
      "execution_count": null,
      "outputs": [
        {
          "output_type": "stream",
          "name": "stderr",
          "text": [
            "WARNING:neo4j.notifications:Received notification from DBMS server: {severity: WARNING} {code: Neo.ClientNotification.Statement.FeatureDeprecationWarning} {category: DEPRECATION} {title: This feature is deprecated and will be removed in future versions.} {description: The query used a deprecated function: `id`.} {position: line: 1, column: 150, offset: 149} for query: 'MATCH (t:Tool {model_number: $model}) MERGE (s:Specification {name: $spec_name}) ON CREATE SET s = $props MERGE (t)-[:HAS_SPECIFICATION]->(s) RETURN id(s) as spec_id'\n",
            "WARNING:neo4j.notifications:Received notification from DBMS server: {severity: WARNING} {code: Neo.ClientNotification.Statement.FeatureDeprecationWarning} {category: DEPRECATION} {title: This feature is deprecated and will be removed in future versions.} {description: The query used a deprecated function: `id`.} {position: line: 1, column: 31, offset: 30} for query: 'MATCH (s:Specification) WHERE id(s) = $spec_id MERGE (u:Unit {symbol: $symbol}) ON CREATE SET u.name = $name MERGE (s)-[:HAS_UNIT]->(u)'\n",
            "WARNING:neo4j.notifications:Received notification from DBMS server: {severity: WARNING} {code: Neo.ClientNotification.Statement.FeatureDeprecationWarning} {category: DEPRECATION} {title: This feature is deprecated and will be removed in future versions.} {description: The query used a deprecated function: `id`.} {position: line: 1, column: 31, offset: 30} for query: 'MATCH (s:Specification) WHERE id(s) = $spec_id MERGE (l:RangeLimit {name: $limit_name, value: $value, unit: $unit, limit_type: $limit_type}) MERGE (s)-[:HAS_MIN_LIMIT]->(l)'\n",
            "WARNING:neo4j.notifications:Received notification from DBMS server: {severity: WARNING} {code: Neo.ClientNotification.Statement.FeatureDeprecationWarning} {category: DEPRECATION} {title: This feature is deprecated and will be removed in future versions.} {description: The query used a deprecated function: `id`.} {position: line: 1, column: 31, offset: 30} for query: 'MATCH (s:Specification) WHERE id(s) = $spec_id MERGE (l:RangeLimit {name: $limit_name, value: $value, unit: $unit, limit_type: $limit_type}) MERGE (s)-[:HAS_MAX_LIMIT]->(l)'\n",
            "WARNING:neo4j.notifications:Received notification from DBMS server: {severity: WARNING} {code: Neo.ClientNotification.Statement.FeatureDeprecationWarning} {category: DEPRECATION} {title: This feature is deprecated and will be removed in future versions.} {description: The query used a deprecated function: `id`.} {position: line: 1, column: 150, offset: 149} for query: 'MATCH (t:Tool {model_number: $model}) MERGE (s:Specification {name: $spec_name}) ON CREATE SET s = $props MERGE (t)-[:HAS_SPECIFICATION]->(s) RETURN id(s) as spec_id'\n",
            "WARNING:neo4j.notifications:Received notification from DBMS server: {severity: WARNING} {code: Neo.ClientNotification.Statement.FeatureDeprecationWarning} {category: DEPRECATION} {title: This feature is deprecated and will be removed in future versions.} {description: The query used a deprecated function: `id`.} {position: line: 1, column: 31, offset: 30} for query: 'MATCH (s:Specification) WHERE id(s) = $spec_id MERGE (u:Unit {symbol: $symbol}) ON CREATE SET u.name = $name MERGE (s)-[:HAS_UNIT]->(u)'\n",
            "WARNING:neo4j.notifications:Received notification from DBMS server: {severity: WARNING} {code: Neo.ClientNotification.Statement.FeatureDeprecationWarning} {category: DEPRECATION} {title: This feature is deprecated and will be removed in future versions.} {description: The query used a deprecated function: `id`.} {position: line: 1, column: 150, offset: 149} for query: 'MATCH (t:Tool {model_number: $model}) MERGE (s:Specification {name: $spec_name}) ON CREATE SET s = $props MERGE (t)-[:HAS_SPECIFICATION]->(s) RETURN id(s) as spec_id'\n",
            "WARNING:neo4j.notifications:Received notification from DBMS server: {severity: WARNING} {code: Neo.ClientNotification.Statement.FeatureDeprecationWarning} {category: DEPRECATION} {title: This feature is deprecated and will be removed in future versions.} {description: The query used a deprecated function: `id`.} {position: line: 1, column: 150, offset: 149} for query: 'MATCH (t:Tool {model_number: $model}) MERGE (s:Specification {name: $spec_name}) ON CREATE SET s = $props MERGE (t)-[:HAS_SPECIFICATION]->(s) RETURN id(s) as spec_id'\n",
            "WARNING:neo4j.notifications:Received notification from DBMS server: {severity: WARNING} {code: Neo.ClientNotification.Statement.FeatureDeprecationWarning} {category: DEPRECATION} {title: This feature is deprecated and will be removed in future versions.} {description: The query used a deprecated function: `id`.} {position: line: 1, column: 31, offset: 30} for query: 'MATCH (s:Specification) WHERE id(s) = $spec_id MERGE (u:Unit {symbol: $symbol}) ON CREATE SET u.name = $name MERGE (s)-[:HAS_UNIT]->(u)'\n",
            "WARNING:neo4j.notifications:Received notification from DBMS server: {severity: WARNING} {code: Neo.ClientNotification.Statement.FeatureDeprecationWarning} {category: DEPRECATION} {title: This feature is deprecated and will be removed in future versions.} {description: The query used a deprecated function: `id`.} {position: line: 1, column: 150, offset: 149} for query: 'MATCH (t:Tool {model_number: $model}) MERGE (s:Specification {name: $spec_name}) ON CREATE SET s = $props MERGE (t)-[:HAS_SPECIFICATION]->(s) RETURN id(s) as spec_id'\n",
            "WARNING:neo4j.notifications:Received notification from DBMS server: {severity: WARNING} {code: Neo.ClientNotification.Statement.FeatureDeprecationWarning} {category: DEPRECATION} {title: This feature is deprecated and will be removed in future versions.} {description: The query used a deprecated function: `id`.} {position: line: 1, column: 150, offset: 149} for query: 'MATCH (t:Tool {model_number: $model}) MERGE (s:Specification {name: $spec_name}) ON CREATE SET s = $props MERGE (t)-[:HAS_SPECIFICATION]->(s) RETURN id(s) as spec_id'\n",
            "WARNING:neo4j.notifications:Received notification from DBMS server: {severity: WARNING} {code: Neo.ClientNotification.Statement.FeatureDeprecationWarning} {category: DEPRECATION} {title: This feature is deprecated and will be removed in future versions.} {description: The query used a deprecated function: `id`.} {position: line: 1, column: 150, offset: 149} for query: 'MATCH (t:Tool {model_number: $model}) MERGE (s:Specification {name: $spec_name}) ON CREATE SET s = $props MERGE (t)-[:HAS_SPECIFICATION]->(s) RETURN id(s) as spec_id'\n",
            "WARNING:neo4j.notifications:Received notification from DBMS server: {severity: WARNING} {code: Neo.ClientNotification.Statement.FeatureDeprecationWarning} {category: DEPRECATION} {title: This feature is deprecated and will be removed in future versions.} {description: The query used a deprecated function: `id`.} {position: line: 1, column: 150, offset: 149} for query: 'MATCH (t:Tool {model_number: $model}) MERGE (s:Specification {name: $spec_name}) ON CREATE SET s = $props MERGE (t)-[:HAS_SPECIFICATION]->(s) RETURN id(s) as spec_id'\n",
            "WARNING:neo4j.notifications:Received notification from DBMS server: {severity: WARNING} {code: Neo.ClientNotification.Statement.FeatureDeprecationWarning} {category: DEPRECATION} {title: This feature is deprecated and will be removed in future versions.} {description: The query used a deprecated function: `id`.} {position: line: 1, column: 150, offset: 149} for query: 'MATCH (t:Tool {model_number: $model}) MERGE (s:Specification {name: $spec_name}) ON CREATE SET s = $props MERGE (t)-[:HAS_SPECIFICATION]->(s) RETURN id(s) as spec_id'\n",
            "WARNING:neo4j.notifications:Received notification from DBMS server: {severity: WARNING} {code: Neo.ClientNotification.Statement.FeatureDeprecationWarning} {category: DEPRECATION} {title: This feature is deprecated and will be removed in future versions.} {description: The query used a deprecated function: `id`.} {position: line: 1, column: 150, offset: 149} for query: 'MATCH (t:Tool {model_number: $model}) MERGE (s:Specification {name: $spec_name}) ON CREATE SET s = $props MERGE (t)-[:HAS_SPECIFICATION]->(s) RETURN id(s) as spec_id'\n",
            "WARNING:neo4j.notifications:Received notification from DBMS server: {severity: WARNING} {code: Neo.ClientNotification.Statement.FeatureDeprecationWarning} {category: DEPRECATION} {title: This feature is deprecated and will be removed in future versions.} {description: The query used a deprecated function: `id`.} {position: line: 1, column: 150, offset: 149} for query: 'MATCH (t:Tool {model_number: $model}) MERGE (s:Specification {name: $spec_name}) ON CREATE SET s = $props MERGE (t)-[:HAS_SPECIFICATION]->(s) RETURN id(s) as spec_id'\n",
            "WARNING:neo4j.notifications:Received notification from DBMS server: {severity: WARNING} {code: Neo.ClientNotification.Statement.FeatureDeprecationWarning} {category: DEPRECATION} {title: This feature is deprecated and will be removed in future versions.} {description: The query used a deprecated function: `id`.} {position: line: 1, column: 150, offset: 149} for query: 'MATCH (t:Tool {model_number: $model}) MERGE (s:Specification {name: $spec_name}) ON CREATE SET s = $props MERGE (t)-[:HAS_SPECIFICATION]->(s) RETURN id(s) as spec_id'\n",
            "WARNING:neo4j.notifications:Received notification from DBMS server: {severity: WARNING} {code: Neo.ClientNotification.Statement.FeatureDeprecationWarning} {category: DEPRECATION} {title: This feature is deprecated and will be removed in future versions.} {description: The query used a deprecated function: `id`.} {position: line: 1, column: 150, offset: 149} for query: 'MATCH (t:Tool {model_number: $model}) MERGE (s:Specification {name: $spec_name}) ON CREATE SET s = $props MERGE (t)-[:HAS_SPECIFICATION]->(s) RETURN id(s) as spec_id'\n",
            "WARNING:neo4j.notifications:Received notification from DBMS server: {severity: WARNING} {code: Neo.ClientNotification.Statement.FeatureDeprecationWarning} {category: DEPRECATION} {title: This feature is deprecated and will be removed in future versions.} {description: The query used a deprecated function: `id`.} {position: line: 1, column: 150, offset: 149} for query: 'MATCH (t:Tool {model_number: $model}) MERGE (s:Specification {name: $spec_name}) ON CREATE SET s = $props MERGE (t)-[:HAS_SPECIFICATION]->(s) RETURN id(s) as spec_id'\n",
            "WARNING:neo4j.notifications:Received notification from DBMS server: {severity: WARNING} {code: Neo.ClientNotification.Statement.FeatureDeprecationWarning} {category: DEPRECATION} {title: This feature is deprecated and will be removed in future versions.} {description: The query used a deprecated function: `id`.} {position: line: 1, column: 31, offset: 30} for query: 'MATCH (s:Specification) WHERE id(s) = $spec_id MERGE (u:Unit {symbol: $symbol}) ON CREATE SET u.name = $name MERGE (s)-[:HAS_UNIT]->(u)'\n",
            "WARNING:neo4j.notifications:Received notification from DBMS server: {severity: WARNING} {code: Neo.ClientNotification.Statement.FeatureDeprecationWarning} {category: DEPRECATION} {title: This feature is deprecated and will be removed in future versions.} {description: The query used a deprecated function: `id`.} {position: line: 1, column: 150, offset: 149} for query: 'MATCH (t:Tool {model_number: $model}) MERGE (s:Specification {name: $spec_name}) ON CREATE SET s = $props MERGE (t)-[:HAS_SPECIFICATION]->(s) RETURN id(s) as spec_id'\n",
            "WARNING:neo4j.notifications:Received notification from DBMS server: {severity: WARNING} {code: Neo.ClientNotification.Statement.FeatureDeprecationWarning} {category: DEPRECATION} {title: This feature is deprecated and will be removed in future versions.} {description: The query used a deprecated function: `id`.} {position: line: 1, column: 150, offset: 149} for query: 'MATCH (t:Tool {model_number: $model}) MERGE (s:Specification {name: $spec_name}) ON CREATE SET s = $props MERGE (t)-[:HAS_SPECIFICATION]->(s) RETURN id(s) as spec_id'\n",
            "WARNING:neo4j.notifications:Received notification from DBMS server: {severity: WARNING} {code: Neo.ClientNotification.Statement.FeatureDeprecationWarning} {category: DEPRECATION} {title: This feature is deprecated and will be removed in future versions.} {description: The query used a deprecated function: `id`.} {position: line: 1, column: 31, offset: 30} for query: 'MATCH (s:Specification) WHERE id(s) = $spec_id MERGE (u:Unit {symbol: $symbol}) ON CREATE SET u.name = $name MERGE (s)-[:HAS_UNIT]->(u)'\n",
            "WARNING:neo4j.notifications:Received notification from DBMS server: {severity: WARNING} {code: Neo.ClientNotification.Statement.FeatureDeprecationWarning} {category: DEPRECATION} {title: This feature is deprecated and will be removed in future versions.} {description: The query used a deprecated function: `id`.} {position: line: 1, column: 150, offset: 149} for query: 'MATCH (t:Tool {model_number: $model}) MERGE (s:Specification {name: $spec_name}) ON CREATE SET s = $props MERGE (t)-[:HAS_SPECIFICATION]->(s) RETURN id(s) as spec_id'\n",
            "WARNING:neo4j.notifications:Received notification from DBMS server: {severity: WARNING} {code: Neo.ClientNotification.Statement.FeatureDeprecationWarning} {category: DEPRECATION} {title: This feature is deprecated and will be removed in future versions.} {description: The query used a deprecated function: `id`.} {position: line: 1, column: 150, offset: 149} for query: 'MATCH (t:Tool {model_number: $model}) MERGE (s:Specification {name: $spec_name}) ON CREATE SET s = $props MERGE (t)-[:HAS_SPECIFICATION]->(s) RETURN id(s) as spec_id'\n",
            "WARNING:neo4j.notifications:Received notification from DBMS server: {severity: WARNING} {code: Neo.ClientNotification.Statement.FeatureDeprecationWarning} {category: DEPRECATION} {title: This feature is deprecated and will be removed in future versions.} {description: The query used a deprecated function: `id`.} {position: line: 1, column: 31, offset: 30} for query: 'MATCH (s:Specification) WHERE id(s) = $spec_id MERGE (l:RangeLimit {name: $limit_name, value: $value, unit: $unit, limit_type: $limit_type}) MERGE (s)-[:HAS_MIN_LIMIT]->(l)'\n",
            "WARNING:neo4j.notifications:Received notification from DBMS server: {severity: WARNING} {code: Neo.ClientNotification.Statement.FeatureDeprecationWarning} {category: DEPRECATION} {title: This feature is deprecated and will be removed in future versions.} {description: The query used a deprecated function: `id`.} {position: line: 1, column: 31, offset: 30} for query: 'MATCH (s:Specification) WHERE id(s) = $spec_id MERGE (l:RangeLimit {name: $limit_name, value: $value, unit: $unit, limit_type: $limit_type}) MERGE (s)-[:HAS_MAX_LIMIT]->(l)'\n",
            "WARNING:neo4j.notifications:Received notification from DBMS server: {severity: WARNING} {code: Neo.ClientNotification.Statement.FeatureDeprecationWarning} {category: DEPRECATION} {title: This feature is deprecated and will be removed in future versions.} {description: The query used a deprecated function: `id`.} {position: line: 1, column: 150, offset: 149} for query: 'MATCH (t:Tool {model_number: $model}) MERGE (s:Specification {name: $spec_name}) ON CREATE SET s = $props MERGE (t)-[:HAS_SPECIFICATION]->(s) RETURN id(s) as spec_id'\n",
            "WARNING:neo4j.notifications:Received notification from DBMS server: {severity: WARNING} {code: Neo.ClientNotification.Statement.FeatureDeprecationWarning} {category: DEPRECATION} {title: This feature is deprecated and will be removed in future versions.} {description: The query used a deprecated function: `id`.} {position: line: 1, column: 31, offset: 30} for query: 'MATCH (s:Specification) WHERE id(s) = $spec_id MERGE (u:Unit {symbol: $symbol}) ON CREATE SET u.name = $name MERGE (s)-[:HAS_UNIT]->(u)'\n",
            "WARNING:neo4j.notifications:Received notification from DBMS server: {severity: WARNING} {code: Neo.ClientNotification.Statement.FeatureDeprecationWarning} {category: DEPRECATION} {title: This feature is deprecated and will be removed in future versions.} {description: The query used a deprecated function: `id`.} {position: line: 1, column: 150, offset: 149} for query: 'MATCH (t:Tool {model_number: $model}) MERGE (s:Specification {name: $spec_name}) ON CREATE SET s = $props MERGE (t)-[:HAS_SPECIFICATION]->(s) RETURN id(s) as spec_id'\n",
            "WARNING:neo4j.notifications:Received notification from DBMS server: {severity: WARNING} {code: Neo.ClientNotification.Statement.FeatureDeprecationWarning} {category: DEPRECATION} {title: This feature is deprecated and will be removed in future versions.} {description: The query used a deprecated function: `id`.} {position: line: 1, column: 31, offset: 30} for query: 'MATCH (s:Specification) WHERE id(s) = $spec_id MERGE (u:Unit {symbol: $symbol}) ON CREATE SET u.name = $name MERGE (s)-[:HAS_UNIT]->(u)'\n",
            "WARNING:neo4j.notifications:Received notification from DBMS server: {severity: WARNING} {code: Neo.ClientNotification.Statement.FeatureDeprecationWarning} {category: DEPRECATION} {title: This feature is deprecated and will be removed in future versions.} {description: The query used a deprecated function: `id`.} {position: line: 1, column: 150, offset: 149} for query: 'MATCH (t:Tool {model_number: $model}) MERGE (s:Specification {name: $spec_name}) ON CREATE SET s = $props MERGE (t)-[:HAS_SPECIFICATION]->(s) RETURN id(s) as spec_id'\n",
            "WARNING:neo4j.notifications:Received notification from DBMS server: {severity: WARNING} {code: Neo.ClientNotification.Statement.FeatureDeprecationWarning} {category: DEPRECATION} {title: This feature is deprecated and will be removed in future versions.} {description: The query used a deprecated function: `id`.} {position: line: 1, column: 31, offset: 30} for query: 'MATCH (s:Specification) WHERE id(s) = $spec_id MERGE (u:Unit {symbol: $symbol}) ON CREATE SET u.name = $name MERGE (s)-[:HAS_UNIT]->(u)'\n",
            "WARNING:neo4j.notifications:Received notification from DBMS server: {severity: WARNING} {code: Neo.ClientNotification.Statement.FeatureDeprecationWarning} {category: DEPRECATION} {title: This feature is deprecated and will be removed in future versions.} {description: The query used a deprecated function: `id`.} {position: line: 1, column: 150, offset: 149} for query: 'MATCH (t:Tool {model_number: $model}) MERGE (s:Specification {name: $spec_name}) ON CREATE SET s = $props MERGE (t)-[:HAS_SPECIFICATION]->(s) RETURN id(s) as spec_id'\n",
            "WARNING:neo4j.notifications:Received notification from DBMS server: {severity: WARNING} {code: Neo.ClientNotification.Statement.FeatureDeprecationWarning} {category: DEPRECATION} {title: This feature is deprecated and will be removed in future versions.} {description: The query used a deprecated function: `id`.} {position: line: 1, column: 150, offset: 149} for query: 'MATCH (t:Tool {model_number: $model}) MERGE (s:Specification {name: $spec_name}) ON CREATE SET s = $props MERGE (t)-[:HAS_SPECIFICATION]->(s) RETURN id(s) as spec_id'\n",
            "WARNING:neo4j.notifications:Received notification from DBMS server: {severity: WARNING} {code: Neo.ClientNotification.Statement.FeatureDeprecationWarning} {category: DEPRECATION} {title: This feature is deprecated and will be removed in future versions.} {description: The query used a deprecated function: `id`.} {position: line: 1, column: 31, offset: 30} for query: 'MATCH (s:Specification) WHERE id(s) = $spec_id MERGE (u:Unit {symbol: $symbol}) ON CREATE SET u.name = $name MERGE (s)-[:HAS_UNIT]->(u)'\n",
            "WARNING:neo4j.notifications:Received notification from DBMS server: {severity: WARNING} {code: Neo.ClientNotification.Statement.FeatureDeprecationWarning} {category: DEPRECATION} {title: This feature is deprecated and will be removed in future versions.} {description: The query used a deprecated function: `id`.} {position: line: 1, column: 182, offset: 181} for query: 'MATCH (t:Tool {model_number: $model}) MERGE (l:Limitation {description: $description, warning_type: $warning_type}) ON CREATE SET l.id = $id MERGE (t)-[:HAS_LIMITATION]->(l) RETURN id(l) as limit_id'\n",
            "WARNING:neo4j.notifications:Received notification from DBMS server: {severity: WARNING} {code: Neo.ClientNotification.Statement.FeatureDeprecationWarning} {category: DEPRECATION} {title: This feature is deprecated and will be removed in future versions.} {description: The query used a deprecated function: `id`.} {position: line: 1, column: 28, offset: 27} for query: 'MATCH (l:Limitation) WHERE id(l) = $limit_id MERGE (r:RangeLimit {name: $name, value: $value, unit: $unit, limit_type: $limit_type}) MERGE (l)-[:HAS_MIN_LIMIT]->(r)'\n",
            "WARNING:neo4j.notifications:Received notification from DBMS server: {severity: WARNING} {code: Neo.ClientNotification.Statement.FeatureDeprecationWarning} {category: DEPRECATION} {title: This feature is deprecated and will be removed in future versions.} {description: The query used a deprecated function: `id`.} {position: line: 1, column: 28, offset: 27} for query: 'MATCH (l:Limitation) WHERE id(l) = $limit_id CREATE (r:RangeLimit $props) MERGE (l)-[:HAS_MAX_LIMIT]->(r)'\n",
            "WARNING:neo4j.notifications:Received notification from DBMS server: {severity: WARNING} {code: Neo.ClientNotification.Statement.FeatureDeprecationWarning} {category: DEPRECATION} {title: This feature is deprecated and will be removed in future versions.} {description: The query used a deprecated function: `id`.} {position: line: 1, column: 28, offset: 27} for query: 'MATCH (l:Limitation) WHERE id(l) = $limit_id MATCH (s:Specification {id: $spec_id}) MERGE (l)-[:LIMITS_SPECIFICATION]->(s)'\n",
            "WARNING:neo4j.notifications:Received notification from DBMS server: {severity: WARNING} {code: Neo.ClientNotification.Statement.FeatureDeprecationWarning} {category: DEPRECATION} {title: This feature is deprecated and will be removed in future versions.} {description: The query used a deprecated function: `id`.} {position: line: 1, column: 182, offset: 181} for query: 'MATCH (t:Tool {model_number: $model}) MERGE (l:Limitation {description: $description, warning_type: $warning_type}) ON CREATE SET l.id = $id MERGE (t)-[:HAS_LIMITATION]->(l) RETURN id(l) as limit_id'\n",
            "WARNING:neo4j.notifications:Received notification from DBMS server: {severity: WARNING} {code: Neo.ClientNotification.Statement.FeatureDeprecationWarning} {category: DEPRECATION} {title: This feature is deprecated and will be removed in future versions.} {description: The query used a deprecated function: `id`.} {position: line: 1, column: 28, offset: 27} for query: 'MATCH (l:Limitation) WHERE id(l) = $limit_id MERGE (r:RangeLimit {name: $name, value: $value, unit: $unit, limit_type: $limit_type}) MERGE (l)-[:HAS_MIN_LIMIT]->(r)'\n",
            "WARNING:neo4j.notifications:Received notification from DBMS server: {severity: WARNING} {code: Neo.ClientNotification.Statement.FeatureDeprecationWarning} {category: DEPRECATION} {title: This feature is deprecated and will be removed in future versions.} {description: The query used a deprecated function: `id`.} {position: line: 1, column: 28, offset: 27} for query: 'MATCH (l:Limitation) WHERE id(l) = $limit_id CREATE (r:RangeLimit $props) MERGE (l)-[:HAS_MAX_LIMIT]->(r)'\n",
            "WARNING:neo4j.notifications:Received notification from DBMS server: {severity: WARNING} {code: Neo.ClientNotification.Statement.FeatureDeprecationWarning} {category: DEPRECATION} {title: This feature is deprecated and will be removed in future versions.} {description: The query used a deprecated function: `id`.} {position: line: 1, column: 28, offset: 27} for query: 'MATCH (l:Limitation) WHERE id(l) = $limit_id MATCH (s:Specification {id: $spec_id}) MERGE (l)-[:LIMITS_SPECIFICATION]->(s)'\n",
            "WARNING:neo4j.notifications:Received notification from DBMS server: {severity: WARNING} {code: Neo.ClientNotification.Statement.FeatureDeprecationWarning} {category: DEPRECATION} {title: This feature is deprecated and will be removed in future versions.} {description: The query used a deprecated function: `id`.} {position: line: 1, column: 182, offset: 181} for query: 'MATCH (t:Tool {model_number: $model}) MERGE (l:Limitation {description: $description, warning_type: $warning_type}) ON CREATE SET l.id = $id MERGE (t)-[:HAS_LIMITATION]->(l) RETURN id(l) as limit_id'\n",
            "WARNING:neo4j.notifications:Received notification from DBMS server: {severity: WARNING} {code: Neo.ClientNotification.Statement.FeatureDeprecationWarning} {category: DEPRECATION} {title: This feature is deprecated and will be removed in future versions.} {description: The query used a deprecated function: `id`.} {position: line: 1, column: 150, offset: 149} for query: 'MATCH (t:Tool {model_number: $model}) MERGE (s:Specification {name: $spec_name}) ON CREATE SET s = $props MERGE (t)-[:HAS_SPECIFICATION]->(s) RETURN id(s) as spec_id'\n",
            "WARNING:neo4j.notifications:Received notification from DBMS server: {severity: WARNING} {code: Neo.ClientNotification.Statement.FeatureDeprecationWarning} {category: DEPRECATION} {title: This feature is deprecated and will be removed in future versions.} {description: The query used a deprecated function: `id`.} {position: line: 1, column: 31, offset: 30} for query: 'MATCH (s:Specification) WHERE id(s) = $spec_id MERGE (u:Unit {symbol: $symbol}) ON CREATE SET u.name = $name MERGE (s)-[:HAS_UNIT]->(u)'\n",
            "WARNING:neo4j.notifications:Received notification from DBMS server: {severity: WARNING} {code: Neo.ClientNotification.Statement.FeatureDeprecationWarning} {category: DEPRECATION} {title: This feature is deprecated and will be removed in future versions.} {description: The query used a deprecated function: `id`.} {position: line: 1, column: 31, offset: 30} for query: 'MATCH (s:Specification) WHERE id(s) = $spec_id MERGE (l:RangeLimit {name: $limit_name, value: $value, unit: $unit, limit_type: $limit_type}) MERGE (s)-[:HAS_MIN_LIMIT]->(l)'\n",
            "WARNING:neo4j.notifications:Received notification from DBMS server: {severity: WARNING} {code: Neo.ClientNotification.Statement.FeatureDeprecationWarning} {category: DEPRECATION} {title: This feature is deprecated and will be removed in future versions.} {description: The query used a deprecated function: `id`.} {position: line: 1, column: 31, offset: 30} for query: 'MATCH (s:Specification) WHERE id(s) = $spec_id MERGE (l:RangeLimit {name: $limit_name, value: $value, unit: $unit, limit_type: $limit_type}) MERGE (s)-[:HAS_MAX_LIMIT]->(l)'\n",
            "WARNING:neo4j.notifications:Received notification from DBMS server: {severity: WARNING} {code: Neo.ClientNotification.Statement.FeatureDeprecationWarning} {category: DEPRECATION} {title: This feature is deprecated and will be removed in future versions.} {description: The query used a deprecated function: `id`.} {position: line: 1, column: 150, offset: 149} for query: 'MATCH (t:Tool {model_number: $model}) MERGE (s:Specification {name: $spec_name}) ON CREATE SET s = $props MERGE (t)-[:HAS_SPECIFICATION]->(s) RETURN id(s) as spec_id'\n",
            "WARNING:neo4j.notifications:Received notification from DBMS server: {severity: WARNING} {code: Neo.ClientNotification.Statement.FeatureDeprecationWarning} {category: DEPRECATION} {title: This feature is deprecated and will be removed in future versions.} {description: The query used a deprecated function: `id`.} {position: line: 1, column: 31, offset: 30} for query: 'MATCH (s:Specification) WHERE id(s) = $spec_id MERGE (u:Unit {symbol: $symbol}) ON CREATE SET u.name = $name MERGE (s)-[:HAS_UNIT]->(u)'\n",
            "WARNING:neo4j.notifications:Received notification from DBMS server: {severity: WARNING} {code: Neo.ClientNotification.Statement.FeatureDeprecationWarning} {category: DEPRECATION} {title: This feature is deprecated and will be removed in future versions.} {description: The query used a deprecated function: `id`.} {position: line: 1, column: 150, offset: 149} for query: 'MATCH (t:Tool {model_number: $model}) MERGE (s:Specification {name: $spec_name}) ON CREATE SET s = $props MERGE (t)-[:HAS_SPECIFICATION]->(s) RETURN id(s) as spec_id'\n",
            "WARNING:neo4j.notifications:Received notification from DBMS server: {severity: WARNING} {code: Neo.ClientNotification.Statement.FeatureDeprecationWarning} {category: DEPRECATION} {title: This feature is deprecated and will be removed in future versions.} {description: The query used a deprecated function: `id`.} {position: line: 1, column: 31, offset: 30} for query: 'MATCH (s:Specification) WHERE id(s) = $spec_id MERGE (l:RangeLimit {name: $limit_name, value: $value, unit: $unit, limit_type: $limit_type}) MERGE (s)-[:HAS_MIN_LIMIT]->(l)'\n",
            "WARNING:neo4j.notifications:Received notification from DBMS server: {severity: WARNING} {code: Neo.ClientNotification.Statement.FeatureDeprecationWarning} {category: DEPRECATION} {title: This feature is deprecated and will be removed in future versions.} {description: The query used a deprecated function: `id`.} {position: line: 1, column: 31, offset: 30} for query: 'MATCH (s:Specification) WHERE id(s) = $spec_id MERGE (l:RangeLimit {name: $limit_name, value: $value, unit: $unit, limit_type: $limit_type}) MERGE (s)-[:HAS_MAX_LIMIT]->(l)'\n",
            "WARNING:neo4j.notifications:Received notification from DBMS server: {severity: WARNING} {code: Neo.ClientNotification.Statement.FeatureDeprecationWarning} {category: DEPRECATION} {title: This feature is deprecated and will be removed in future versions.} {description: The query used a deprecated function: `id`.} {position: line: 1, column: 150, offset: 149} for query: 'MATCH (t:Tool {model_number: $model}) MERGE (s:Specification {name: $spec_name}) ON CREATE SET s = $props MERGE (t)-[:HAS_SPECIFICATION]->(s) RETURN id(s) as spec_id'\n",
            "WARNING:neo4j.notifications:Received notification from DBMS server: {severity: WARNING} {code: Neo.ClientNotification.Statement.FeatureDeprecationWarning} {category: DEPRECATION} {title: This feature is deprecated and will be removed in future versions.} {description: The query used a deprecated function: `id`.} {position: line: 1, column: 31, offset: 30} for query: 'MATCH (s:Specification) WHERE id(s) = $spec_id MERGE (l:RangeLimit {name: $limit_name, value: $value, unit: $unit, limit_type: $limit_type}) MERGE (s)-[:HAS_MIN_LIMIT]->(l)'\n",
            "WARNING:neo4j.notifications:Received notification from DBMS server: {severity: WARNING} {code: Neo.ClientNotification.Statement.FeatureDeprecationWarning} {category: DEPRECATION} {title: This feature is deprecated and will be removed in future versions.} {description: The query used a deprecated function: `id`.} {position: line: 1, column: 31, offset: 30} for query: 'MATCH (s:Specification) WHERE id(s) = $spec_id MERGE (l:RangeLimit {name: $limit_name, value: $value, unit: $unit, limit_type: $limit_type}) MERGE (s)-[:HAS_MAX_LIMIT]->(l)'\n",
            "WARNING:neo4j.notifications:Received notification from DBMS server: {severity: WARNING} {code: Neo.ClientNotification.Statement.FeatureDeprecationWarning} {category: DEPRECATION} {title: This feature is deprecated and will be removed in future versions.} {description: The query used a deprecated function: `id`.} {position: line: 1, column: 150, offset: 149} for query: 'MATCH (t:Tool {model_number: $model}) MERGE (s:Specification {name: $spec_name}) ON CREATE SET s = $props MERGE (t)-[:HAS_SPECIFICATION]->(s) RETURN id(s) as spec_id'\n",
            "WARNING:neo4j.notifications:Received notification from DBMS server: {severity: WARNING} {code: Neo.ClientNotification.Statement.FeatureDeprecationWarning} {category: DEPRECATION} {title: This feature is deprecated and will be removed in future versions.} {description: The query used a deprecated function: `id`.} {position: line: 1, column: 150, offset: 149} for query: 'MATCH (t:Tool {model_number: $model}) MERGE (s:Specification {name: $spec_name}) ON CREATE SET s = $props MERGE (t)-[:HAS_SPECIFICATION]->(s) RETURN id(s) as spec_id'\n",
            "WARNING:neo4j.notifications:Received notification from DBMS server: {severity: WARNING} {code: Neo.ClientNotification.Statement.FeatureDeprecationWarning} {category: DEPRECATION} {title: This feature is deprecated and will be removed in future versions.} {description: The query used a deprecated function: `id`.} {position: line: 1, column: 150, offset: 149} for query: 'MATCH (t:Tool {model_number: $model}) MERGE (s:Specification {name: $spec_name}) ON CREATE SET s = $props MERGE (t)-[:HAS_SPECIFICATION]->(s) RETURN id(s) as spec_id'\n",
            "WARNING:neo4j.notifications:Received notification from DBMS server: {severity: WARNING} {code: Neo.ClientNotification.Statement.FeatureDeprecationWarning} {category: DEPRECATION} {title: This feature is deprecated and will be removed in future versions.} {description: The query used a deprecated function: `id`.} {position: line: 1, column: 150, offset: 149} for query: 'MATCH (t:Tool {model_number: $model}) MERGE (s:Specification {name: $spec_name}) ON CREATE SET s = $props MERGE (t)-[:HAS_SPECIFICATION]->(s) RETURN id(s) as spec_id'\n",
            "WARNING:neo4j.notifications:Received notification from DBMS server: {severity: WARNING} {code: Neo.ClientNotification.Statement.FeatureDeprecationWarning} {category: DEPRECATION} {title: This feature is deprecated and will be removed in future versions.} {description: The query used a deprecated function: `id`.} {position: line: 1, column: 150, offset: 149} for query: 'MATCH (t:Tool {model_number: $model}) MERGE (s:Specification {name: $spec_name}) ON CREATE SET s = $props MERGE (t)-[:HAS_SPECIFICATION]->(s) RETURN id(s) as spec_id'\n",
            "WARNING:neo4j.notifications:Received notification from DBMS server: {severity: WARNING} {code: Neo.ClientNotification.Statement.FeatureDeprecationWarning} {category: DEPRECATION} {title: This feature is deprecated and will be removed in future versions.} {description: The query used a deprecated function: `id`.} {position: line: 1, column: 31, offset: 30} for query: 'MATCH (s:Specification) WHERE id(s) = $spec_id MERGE (l:RangeLimit {name: $limit_name, value: $value, unit: $unit, limit_type: $limit_type}) MERGE (s)-[:HAS_MIN_LIMIT]->(l)'\n",
            "WARNING:neo4j.notifications:Received notification from DBMS server: {severity: WARNING} {code: Neo.ClientNotification.Statement.FeatureDeprecationWarning} {category: DEPRECATION} {title: This feature is deprecated and will be removed in future versions.} {description: The query used a deprecated function: `id`.} {position: line: 1, column: 31, offset: 30} for query: 'MATCH (s:Specification) WHERE id(s) = $spec_id MERGE (l:RangeLimit {name: $limit_name, value: $value, unit: $unit, limit_type: $limit_type}) MERGE (s)-[:HAS_MAX_LIMIT]->(l)'\n",
            "WARNING:neo4j.notifications:Received notification from DBMS server: {severity: WARNING} {code: Neo.ClientNotification.Statement.FeatureDeprecationWarning} {category: DEPRECATION} {title: This feature is deprecated and will be removed in future versions.} {description: The query used a deprecated function: `id`.} {position: line: 1, column: 150, offset: 149} for query: 'MATCH (t:Tool {model_number: $model}) MERGE (s:Specification {name: $spec_name}) ON CREATE SET s = $props MERGE (t)-[:HAS_SPECIFICATION]->(s) RETURN id(s) as spec_id'\n",
            "WARNING:neo4j.notifications:Received notification from DBMS server: {severity: WARNING} {code: Neo.ClientNotification.Statement.FeatureDeprecationWarning} {category: DEPRECATION} {title: This feature is deprecated and will be removed in future versions.} {description: The query used a deprecated function: `id`.} {position: line: 1, column: 150, offset: 149} for query: 'MATCH (t:Tool {model_number: $model}) MERGE (s:Specification {name: $spec_name}) ON CREATE SET s = $props MERGE (t)-[:HAS_SPECIFICATION]->(s) RETURN id(s) as spec_id'\n",
            "WARNING:neo4j.notifications:Received notification from DBMS server: {severity: WARNING} {code: Neo.ClientNotification.Statement.FeatureDeprecationWarning} {category: DEPRECATION} {title: This feature is deprecated and will be removed in future versions.} {description: The query used a deprecated function: `id`.} {position: line: 1, column: 150, offset: 149} for query: 'MATCH (t:Tool {model_number: $model}) MERGE (s:Specification {name: $spec_name}) ON CREATE SET s = $props MERGE (t)-[:HAS_SPECIFICATION]->(s) RETURN id(s) as spec_id'\n",
            "WARNING:neo4j.notifications:Received notification from DBMS server: {severity: WARNING} {code: Neo.ClientNotification.Statement.FeatureDeprecationWarning} {category: DEPRECATION} {title: This feature is deprecated and will be removed in future versions.} {description: The query used a deprecated function: `id`.} {position: line: 1, column: 150, offset: 149} for query: 'MATCH (t:Tool {model_number: $model}) MERGE (s:Specification {name: $spec_name}) ON CREATE SET s = $props MERGE (t)-[:HAS_SPECIFICATION]->(s) RETURN id(s) as spec_id'\n",
            "WARNING:neo4j.notifications:Received notification from DBMS server: {severity: WARNING} {code: Neo.ClientNotification.Statement.FeatureDeprecationWarning} {category: DEPRECATION} {title: This feature is deprecated and will be removed in future versions.} {description: The query used a deprecated function: `id`.} {position: line: 1, column: 150, offset: 149} for query: 'MATCH (t:Tool {model_number: $model}) MERGE (s:Specification {name: $spec_name}) ON CREATE SET s = $props MERGE (t)-[:HAS_SPECIFICATION]->(s) RETURN id(s) as spec_id'\n",
            "WARNING:neo4j.notifications:Received notification from DBMS server: {severity: WARNING} {code: Neo.ClientNotification.Statement.FeatureDeprecationWarning} {category: DEPRECATION} {title: This feature is deprecated and will be removed in future versions.} {description: The query used a deprecated function: `id`.} {position: line: 1, column: 150, offset: 149} for query: 'MATCH (t:Tool {model_number: $model}) MERGE (s:Specification {name: $spec_name}) ON CREATE SET s = $props MERGE (t)-[:HAS_SPECIFICATION]->(s) RETURN id(s) as spec_id'\n",
            "WARNING:neo4j.notifications:Received notification from DBMS server: {severity: WARNING} {code: Neo.ClientNotification.Statement.FeatureDeprecationWarning} {category: DEPRECATION} {title: This feature is deprecated and will be removed in future versions.} {description: The query used a deprecated function: `id`.} {position: line: 1, column: 150, offset: 149} for query: 'MATCH (t:Tool {model_number: $model}) MERGE (s:Specification {name: $spec_name}) ON CREATE SET s = $props MERGE (t)-[:HAS_SPECIFICATION]->(s) RETURN id(s) as spec_id'\n",
            "WARNING:neo4j.notifications:Received notification from DBMS server: {severity: WARNING} {code: Neo.ClientNotification.Statement.FeatureDeprecationWarning} {category: DEPRECATION} {title: This feature is deprecated and will be removed in future versions.} {description: The query used a deprecated function: `id`.} {position: line: 1, column: 150, offset: 149} for query: 'MATCH (t:Tool {model_number: $model}) MERGE (s:Specification {name: $spec_name}) ON CREATE SET s = $props MERGE (t)-[:HAS_SPECIFICATION]->(s) RETURN id(s) as spec_id'\n",
            "WARNING:neo4j.notifications:Received notification from DBMS server: {severity: WARNING} {code: Neo.ClientNotification.Statement.FeatureDeprecationWarning} {category: DEPRECATION} {title: This feature is deprecated and will be removed in future versions.} {description: The query used a deprecated function: `id`.} {position: line: 1, column: 150, offset: 149} for query: 'MATCH (t:Tool {model_number: $model}) MERGE (s:Specification {name: $spec_name}) ON CREATE SET s = $props MERGE (t)-[:HAS_SPECIFICATION]->(s) RETURN id(s) as spec_id'\n",
            "WARNING:neo4j.notifications:Received notification from DBMS server: {severity: WARNING} {code: Neo.ClientNotification.Statement.FeatureDeprecationWarning} {category: DEPRECATION} {title: This feature is deprecated and will be removed in future versions.} {description: The query used a deprecated function: `id`.} {position: line: 1, column: 150, offset: 149} for query: 'MATCH (t:Tool {model_number: $model}) MERGE (s:Specification {name: $spec_name}) ON CREATE SET s = $props MERGE (t)-[:HAS_SPECIFICATION]->(s) RETURN id(s) as spec_id'\n",
            "WARNING:neo4j.notifications:Received notification from DBMS server: {severity: WARNING} {code: Neo.ClientNotification.Statement.FeatureDeprecationWarning} {category: DEPRECATION} {title: This feature is deprecated and will be removed in future versions.} {description: The query used a deprecated function: `id`.} {position: line: 1, column: 150, offset: 149} for query: 'MATCH (t:Tool {model_number: $model}) MERGE (s:Specification {name: $spec_name}) ON CREATE SET s = $props MERGE (t)-[:HAS_SPECIFICATION]->(s) RETURN id(s) as spec_id'\n",
            "WARNING:neo4j.notifications:Received notification from DBMS server: {severity: WARNING} {code: Neo.ClientNotification.Statement.FeatureDeprecationWarning} {category: DEPRECATION} {title: This feature is deprecated and will be removed in future versions.} {description: The query used a deprecated function: `id`.} {position: line: 1, column: 150, offset: 149} for query: 'MATCH (t:Tool {model_number: $model}) MERGE (s:Specification {name: $spec_name}) ON CREATE SET s = $props MERGE (t)-[:HAS_SPECIFICATION]->(s) RETURN id(s) as spec_id'\n",
            "WARNING:neo4j.notifications:Received notification from DBMS server: {severity: WARNING} {code: Neo.ClientNotification.Statement.FeatureDeprecationWarning} {category: DEPRECATION} {title: This feature is deprecated and will be removed in future versions.} {description: The query used a deprecated function: `id`.} {position: line: 1, column: 31, offset: 30} for query: 'MATCH (s:Specification) WHERE id(s) = $spec_id MERGE (u:Unit {symbol: $symbol}) ON CREATE SET u.name = $name MERGE (s)-[:HAS_UNIT]->(u)'\n",
            "WARNING:neo4j.notifications:Received notification from DBMS server: {severity: WARNING} {code: Neo.ClientNotification.Statement.FeatureDeprecationWarning} {category: DEPRECATION} {title: This feature is deprecated and will be removed in future versions.} {description: The query used a deprecated function: `id`.} {position: line: 1, column: 150, offset: 149} for query: 'MATCH (t:Tool {model_number: $model}) MERGE (s:Specification {name: $spec_name}) ON CREATE SET s = $props MERGE (t)-[:HAS_SPECIFICATION]->(s) RETURN id(s) as spec_id'\n",
            "WARNING:neo4j.notifications:Received notification from DBMS server: {severity: WARNING} {code: Neo.ClientNotification.Statement.FeatureDeprecationWarning} {category: DEPRECATION} {title: This feature is deprecated and will be removed in future versions.} {description: The query used a deprecated function: `id`.} {position: line: 1, column: 31, offset: 30} for query: 'MATCH (s:Specification) WHERE id(s) = $spec_id MERGE (u:Unit {symbol: $symbol}) ON CREATE SET u.name = $name MERGE (s)-[:HAS_UNIT]->(u)'\n",
            "WARNING:neo4j.notifications:Received notification from DBMS server: {severity: WARNING} {code: Neo.ClientNotification.Statement.FeatureDeprecationWarning} {category: DEPRECATION} {title: This feature is deprecated and will be removed in future versions.} {description: The query used a deprecated function: `id`.} {position: line: 1, column: 150, offset: 149} for query: 'MATCH (t:Tool {model_number: $model}) MERGE (s:Specification {name: $spec_name}) ON CREATE SET s = $props MERGE (t)-[:HAS_SPECIFICATION]->(s) RETURN id(s) as spec_id'\n",
            "WARNING:neo4j.notifications:Received notification from DBMS server: {severity: WARNING} {code: Neo.ClientNotification.Statement.FeatureDeprecationWarning} {category: DEPRECATION} {title: This feature is deprecated and will be removed in future versions.} {description: The query used a deprecated function: `id`.} {position: line: 1, column: 31, offset: 30} for query: 'MATCH (s:Specification) WHERE id(s) = $spec_id MERGE (l:RangeLimit {name: $limit_name, value: $value, unit: $unit, limit_type: $limit_type}) MERGE (s)-[:HAS_MIN_LIMIT]->(l)'\n",
            "WARNING:neo4j.notifications:Received notification from DBMS server: {severity: WARNING} {code: Neo.ClientNotification.Statement.FeatureDeprecationWarning} {category: DEPRECATION} {title: This feature is deprecated and will be removed in future versions.} {description: The query used a deprecated function: `id`.} {position: line: 1, column: 31, offset: 30} for query: 'MATCH (s:Specification) WHERE id(s) = $spec_id MERGE (l:RangeLimit {name: $limit_name, value: $value, unit: $unit, limit_type: $limit_type}) MERGE (s)-[:HAS_MAX_LIMIT]->(l)'\n",
            "WARNING:neo4j.notifications:Received notification from DBMS server: {severity: WARNING} {code: Neo.ClientNotification.Statement.FeatureDeprecationWarning} {category: DEPRECATION} {title: This feature is deprecated and will be removed in future versions.} {description: The query used a deprecated function: `id`.} {position: line: 1, column: 150, offset: 149} for query: 'MATCH (t:Tool {model_number: $model}) MERGE (s:Specification {name: $spec_name}) ON CREATE SET s = $props MERGE (t)-[:HAS_SPECIFICATION]->(s) RETURN id(s) as spec_id'\n",
            "WARNING:neo4j.notifications:Received notification from DBMS server: {severity: WARNING} {code: Neo.ClientNotification.Statement.FeatureDeprecationWarning} {category: DEPRECATION} {title: This feature is deprecated and will be removed in future versions.} {description: The query used a deprecated function: `id`.} {position: line: 1, column: 31, offset: 30} for query: 'MATCH (s:Specification) WHERE id(s) = $spec_id MERGE (u:Unit {symbol: $symbol}) ON CREATE SET u.name = $name MERGE (s)-[:HAS_UNIT]->(u)'\n",
            "WARNING:neo4j.notifications:Received notification from DBMS server: {severity: WARNING} {code: Neo.ClientNotification.Statement.FeatureDeprecationWarning} {category: DEPRECATION} {title: This feature is deprecated and will be removed in future versions.} {description: The query used a deprecated function: `id`.} {position: line: 1, column: 150, offset: 149} for query: 'MATCH (t:Tool {model_number: $model}) MERGE (s:Specification {name: $spec_name}) ON CREATE SET s = $props MERGE (t)-[:HAS_SPECIFICATION]->(s) RETURN id(s) as spec_id'\n",
            "WARNING:neo4j.notifications:Received notification from DBMS server: {severity: WARNING} {code: Neo.ClientNotification.Statement.FeatureDeprecationWarning} {category: DEPRECATION} {title: This feature is deprecated and will be removed in future versions.} {description: The query used a deprecated function: `id`.} {position: line: 1, column: 150, offset: 149} for query: 'MATCH (t:Tool {model_number: $model}) MERGE (s:Specification {name: $spec_name}) ON CREATE SET s = $props MERGE (t)-[:HAS_SPECIFICATION]->(s) RETURN id(s) as spec_id'\n",
            "WARNING:neo4j.notifications:Received notification from DBMS server: {severity: WARNING} {code: Neo.ClientNotification.Statement.FeatureDeprecationWarning} {category: DEPRECATION} {title: This feature is deprecated and will be removed in future versions.} {description: The query used a deprecated function: `id`.} {position: line: 1, column: 150, offset: 149} for query: 'MATCH (t:Tool {model_number: $model}) MERGE (s:Specification {name: $spec_name}) ON CREATE SET s = $props MERGE (t)-[:HAS_SPECIFICATION]->(s) RETURN id(s) as spec_id'\n",
            "WARNING:neo4j.notifications:Received notification from DBMS server: {severity: WARNING} {code: Neo.ClientNotification.Statement.FeatureDeprecationWarning} {category: DEPRECATION} {title: This feature is deprecated and will be removed in future versions.} {description: The query used a deprecated function: `id`.} {position: line: 1, column: 31, offset: 30} for query: 'MATCH (s:Specification) WHERE id(s) = $spec_id MERGE (u:Unit {symbol: $symbol}) ON CREATE SET u.name = $name MERGE (s)-[:HAS_UNIT]->(u)'\n",
            "WARNING:neo4j.notifications:Received notification from DBMS server: {severity: WARNING} {code: Neo.ClientNotification.Statement.FeatureDeprecationWarning} {category: DEPRECATION} {title: This feature is deprecated and will be removed in future versions.} {description: The query used a deprecated function: `id`.} {position: line: 1, column: 150, offset: 149} for query: 'MATCH (t:Tool {model_number: $model}) MERGE (s:Specification {name: $spec_name}) ON CREATE SET s = $props MERGE (t)-[:HAS_SPECIFICATION]->(s) RETURN id(s) as spec_id'\n",
            "WARNING:neo4j.notifications:Received notification from DBMS server: {severity: WARNING} {code: Neo.ClientNotification.Statement.FeatureDeprecationWarning} {category: DEPRECATION} {title: This feature is deprecated and will be removed in future versions.} {description: The query used a deprecated function: `id`.} {position: line: 1, column: 31, offset: 30} for query: 'MATCH (s:Specification) WHERE id(s) = $spec_id MERGE (u:Unit {symbol: $symbol}) ON CREATE SET u.name = $name MERGE (s)-[:HAS_UNIT]->(u)'\n",
            "WARNING:neo4j.notifications:Received notification from DBMS server: {severity: WARNING} {code: Neo.ClientNotification.Statement.FeatureDeprecationWarning} {category: DEPRECATION} {title: This feature is deprecated and will be removed in future versions.} {description: The query used a deprecated function: `id`.} {position: line: 1, column: 150, offset: 149} for query: 'MATCH (t:Tool {model_number: $model}) MERGE (s:Specification {name: $spec_name}) ON CREATE SET s = $props MERGE (t)-[:HAS_SPECIFICATION]->(s) RETURN id(s) as spec_id'\n",
            "WARNING:neo4j.notifications:Received notification from DBMS server: {severity: WARNING} {code: Neo.ClientNotification.Statement.FeatureDeprecationWarning} {category: DEPRECATION} {title: This feature is deprecated and will be removed in future versions.} {description: The query used a deprecated function: `id`.} {position: line: 1, column: 150, offset: 149} for query: 'MATCH (t:Tool {model_number: $model}) MERGE (s:Specification {name: $spec_name}) ON CREATE SET s = $props MERGE (t)-[:HAS_SPECIFICATION]->(s) RETURN id(s) as spec_id'\n",
            "WARNING:neo4j.notifications:Received notification from DBMS server: {severity: WARNING} {code: Neo.ClientNotification.Statement.FeatureDeprecationWarning} {category: DEPRECATION} {title: This feature is deprecated and will be removed in future versions.} {description: The query used a deprecated function: `id`.} {position: line: 1, column: 31, offset: 30} for query: 'MATCH (s:Specification) WHERE id(s) = $spec_id MERGE (u:Unit {symbol: $symbol}) ON CREATE SET u.name = $name MERGE (s)-[:HAS_UNIT]->(u)'\n",
            "WARNING:neo4j.notifications:Received notification from DBMS server: {severity: WARNING} {code: Neo.ClientNotification.Statement.FeatureDeprecationWarning} {category: DEPRECATION} {title: This feature is deprecated and will be removed in future versions.} {description: The query used a deprecated function: `id`.} {position: line: 1, column: 150, offset: 149} for query: 'MATCH (t:Tool {model_number: $model}) MERGE (s:Specification {name: $spec_name}) ON CREATE SET s = $props MERGE (t)-[:HAS_SPECIFICATION]->(s) RETURN id(s) as spec_id'\n",
            "WARNING:neo4j.notifications:Received notification from DBMS server: {severity: WARNING} {code: Neo.ClientNotification.Statement.FeatureDeprecationWarning} {category: DEPRECATION} {title: This feature is deprecated and will be removed in future versions.} {description: The query used a deprecated function: `id`.} {position: line: 1, column: 150, offset: 149} for query: 'MATCH (t:Tool {model_number: $model}) MERGE (s:Specification {name: $spec_name}) ON CREATE SET s = $props MERGE (t)-[:HAS_SPECIFICATION]->(s) RETURN id(s) as spec_id'\n",
            "WARNING:neo4j.notifications:Received notification from DBMS server: {severity: WARNING} {code: Neo.ClientNotification.Statement.FeatureDeprecationWarning} {category: DEPRECATION} {title: This feature is deprecated and will be removed in future versions.} {description: The query used a deprecated function: `id`.} {position: line: 1, column: 31, offset: 30} for query: 'MATCH (s:Specification) WHERE id(s) = $spec_id MERGE (l:RangeLimit {name: $limit_name, value: $value, unit: $unit, limit_type: $limit_type}) MERGE (s)-[:HAS_MIN_LIMIT]->(l)'\n",
            "WARNING:neo4j.notifications:Received notification from DBMS server: {severity: WARNING} {code: Neo.ClientNotification.Statement.FeatureDeprecationWarning} {category: DEPRECATION} {title: This feature is deprecated and will be removed in future versions.} {description: The query used a deprecated function: `id`.} {position: line: 1, column: 31, offset: 30} for query: 'MATCH (s:Specification) WHERE id(s) = $spec_id MERGE (l:RangeLimit {name: $limit_name, value: $value, unit: $unit, limit_type: $limit_type}) MERGE (s)-[:HAS_MAX_LIMIT]->(l)'\n",
            "WARNING:neo4j.notifications:Received notification from DBMS server: {severity: WARNING} {code: Neo.ClientNotification.Statement.FeatureDeprecationWarning} {category: DEPRECATION} {title: This feature is deprecated and will be removed in future versions.} {description: The query used a deprecated function: `id`.} {position: line: 1, column: 182, offset: 181} for query: 'MATCH (t:Tool {model_number: $model}) MERGE (l:Limitation {description: $description, warning_type: $warning_type}) ON CREATE SET l.id = $id MERGE (t)-[:HAS_LIMITATION]->(l) RETURN id(l) as limit_id'\n",
            "WARNING:neo4j.notifications:Received notification from DBMS server: {severity: WARNING} {code: Neo.ClientNotification.Statement.FeatureDeprecationWarning} {category: DEPRECATION} {title: This feature is deprecated and will be removed in future versions.} {description: The query used a deprecated function: `id`.} {position: line: 1, column: 28, offset: 27} for query: 'MATCH (l:Limitation) WHERE id(l) = $limit_id MERGE (r:RangeLimit {name: $name, value: $value, unit: $unit, limit_type: $limit_type}) MERGE (l)-[:HAS_MIN_LIMIT]->(r)'\n",
            "WARNING:neo4j.notifications:Received notification from DBMS server: {severity: WARNING} {code: Neo.ClientNotification.Statement.FeatureDeprecationWarning} {category: DEPRECATION} {title: This feature is deprecated and will be removed in future versions.} {description: The query used a deprecated function: `id`.} {position: line: 1, column: 28, offset: 27} for query: 'MATCH (l:Limitation) WHERE id(l) = $limit_id CREATE (r:RangeLimit $props) MERGE (l)-[:HAS_MAX_LIMIT]->(r)'\n",
            "WARNING:neo4j.notifications:Received notification from DBMS server: {severity: WARNING} {code: Neo.ClientNotification.Statement.FeatureDeprecationWarning} {category: DEPRECATION} {title: This feature is deprecated and will be removed in future versions.} {description: The query used a deprecated function: `id`.} {position: line: 1, column: 28, offset: 27} for query: 'MATCH (l:Limitation) WHERE id(l) = $limit_id MATCH (s:Specification {id: $spec_id}) MERGE (l)-[:LIMITS_SPECIFICATION]->(s)'\n",
            "WARNING:neo4j.notifications:Received notification from DBMS server: {severity: WARNING} {code: Neo.ClientNotification.Statement.FeatureDeprecationWarning} {category: DEPRECATION} {title: This feature is deprecated and will be removed in future versions.} {description: The query used a deprecated function: `id`.} {position: line: 1, column: 182, offset: 181} for query: 'MATCH (t:Tool {model_number: $model}) MERGE (l:Limitation {description: $description, warning_type: $warning_type}) ON CREATE SET l.id = $id MERGE (t)-[:HAS_LIMITATION]->(l) RETURN id(l) as limit_id'\n",
            "WARNING:neo4j.notifications:Received notification from DBMS server: {severity: WARNING} {code: Neo.ClientNotification.Statement.FeatureDeprecationWarning} {category: DEPRECATION} {title: This feature is deprecated and will be removed in future versions.} {description: The query used a deprecated function: `id`.} {position: line: 1, column: 28, offset: 27} for query: 'MATCH (l:Limitation) WHERE id(l) = $limit_id MERGE (r:RangeLimit {name: $name, value: $value, unit: $unit, limit_type: $limit_type}) MERGE (l)-[:HAS_MIN_LIMIT]->(r)'\n",
            "WARNING:neo4j.notifications:Received notification from DBMS server: {severity: WARNING} {code: Neo.ClientNotification.Statement.FeatureDeprecationWarning} {category: DEPRECATION} {title: This feature is deprecated and will be removed in future versions.} {description: The query used a deprecated function: `id`.} {position: line: 1, column: 28, offset: 27} for query: 'MATCH (l:Limitation) WHERE id(l) = $limit_id CREATE (r:RangeLimit $props) MERGE (l)-[:HAS_MAX_LIMIT]->(r)'\n",
            "WARNING:neo4j.notifications:Received notification from DBMS server: {severity: WARNING} {code: Neo.ClientNotification.Statement.FeatureDeprecationWarning} {category: DEPRECATION} {title: This feature is deprecated and will be removed in future versions.} {description: The query used a deprecated function: `id`.} {position: line: 1, column: 28, offset: 27} for query: 'MATCH (l:Limitation) WHERE id(l) = $limit_id MATCH (s:Specification {id: $spec_id}) MERGE (l)-[:LIMITS_SPECIFICATION]->(s)'\n",
            "WARNING:neo4j.notifications:Received notification from DBMS server: {severity: WARNING} {code: Neo.ClientNotification.Statement.FeatureDeprecationWarning} {category: DEPRECATION} {title: This feature is deprecated and will be removed in future versions.} {description: The query used a deprecated function: `id`.} {position: line: 1, column: 182, offset: 181} for query: 'MATCH (t:Tool {model_number: $model}) MERGE (l:Limitation {description: $description, warning_type: $warning_type}) ON CREATE SET l.id = $id MERGE (t)-[:HAS_LIMITATION]->(l) RETURN id(l) as limit_id'\n",
            "WARNING:neo4j.notifications:Received notification from DBMS server: {severity: WARNING} {code: Neo.ClientNotification.Statement.FeatureDeprecationWarning} {category: DEPRECATION} {title: This feature is deprecated and will be removed in future versions.} {description: The query used a deprecated function: `id`.} {position: line: 1, column: 28, offset: 27} for query: 'MATCH (l:Limitation) WHERE id(l) = $limit_id MERGE (r:RangeLimit {name: $name, value: $value, unit: $unit, limit_type: $limit_type}) MERGE (l)-[:HAS_MIN_LIMIT]->(r)'\n",
            "WARNING:neo4j.notifications:Received notification from DBMS server: {severity: WARNING} {code: Neo.ClientNotification.Statement.FeatureDeprecationWarning} {category: DEPRECATION} {title: This feature is deprecated and will be removed in future versions.} {description: The query used a deprecated function: `id`.} {position: line: 1, column: 28, offset: 27} for query: 'MATCH (l:Limitation) WHERE id(l) = $limit_id CREATE (r:RangeLimit $props) MERGE (l)-[:HAS_MAX_LIMIT]->(r)'\n",
            "WARNING:neo4j.notifications:Received notification from DBMS server: {severity: WARNING} {code: Neo.ClientNotification.Statement.FeatureDeprecationWarning} {category: DEPRECATION} {title: This feature is deprecated and will be removed in future versions.} {description: The query used a deprecated function: `id`.} {position: line: 1, column: 28, offset: 27} for query: 'MATCH (l:Limitation) WHERE id(l) = $limit_id MATCH (s:Specification {id: $spec_id}) MERGE (l)-[:LIMITS_SPECIFICATION]->(s)'\n",
            "WARNING:neo4j.notifications:Received notification from DBMS server: {severity: WARNING} {code: Neo.ClientNotification.Statement.FeatureDeprecationWarning} {category: DEPRECATION} {title: This feature is deprecated and will be removed in future versions.} {description: The query used a deprecated function: `id`.} {position: line: 1, column: 182, offset: 181} for query: 'MATCH (t:Tool {model_number: $model}) MERGE (l:Limitation {description: $description, warning_type: $warning_type}) ON CREATE SET l.id = $id MERGE (t)-[:HAS_LIMITATION]->(l) RETURN id(l) as limit_id'\n",
            "WARNING:neo4j.notifications:Received notification from DBMS server: {severity: WARNING} {code: Neo.ClientNotification.Statement.FeatureDeprecationWarning} {category: DEPRECATION} {title: This feature is deprecated and will be removed in future versions.} {description: The query used a deprecated function: `id`.} {position: line: 1, column: 28, offset: 27} for query: 'MATCH (l:Limitation) WHERE id(l) = $limit_id MERGE (r:RangeLimit {name: $name, value: $value, unit: $unit, limit_type: $limit_type}) MERGE (l)-[:HAS_MIN_LIMIT]->(r)'\n",
            "WARNING:neo4j.notifications:Received notification from DBMS server: {severity: WARNING} {code: Neo.ClientNotification.Statement.FeatureDeprecationWarning} {category: DEPRECATION} {title: This feature is deprecated and will be removed in future versions.} {description: The query used a deprecated function: `id`.} {position: line: 1, column: 28, offset: 27} for query: 'MATCH (l:Limitation) WHERE id(l) = $limit_id CREATE (r:RangeLimit $props) MERGE (l)-[:HAS_MAX_LIMIT]->(r)'\n",
            "WARNING:neo4j.notifications:Received notification from DBMS server: {severity: WARNING} {code: Neo.ClientNotification.Statement.FeatureDeprecationWarning} {category: DEPRECATION} {title: This feature is deprecated and will be removed in future versions.} {description: The query used a deprecated function: `id`.} {position: line: 1, column: 28, offset: 27} for query: 'MATCH (l:Limitation) WHERE id(l) = $limit_id MATCH (s:Specification {id: $spec_id}) MERGE (l)-[:LIMITS_SPECIFICATION]->(s)'\n",
            "WARNING:neo4j.notifications:Received notification from DBMS server: {severity: WARNING} {code: Neo.ClientNotification.Statement.FeatureDeprecationWarning} {category: DEPRECATION} {title: This feature is deprecated and will be removed in future versions.} {description: The query used a deprecated function: `id`.} {position: line: 1, column: 182, offset: 181} for query: 'MATCH (t:Tool {model_number: $model}) MERGE (l:Limitation {description: $description, warning_type: $warning_type}) ON CREATE SET l.id = $id MERGE (t)-[:HAS_LIMITATION]->(l) RETURN id(l) as limit_id'\n",
            "WARNING:neo4j.notifications:Received notification from DBMS server: {severity: WARNING} {code: Neo.ClientNotification.Statement.FeatureDeprecationWarning} {category: DEPRECATION} {title: This feature is deprecated and will be removed in future versions.} {description: The query used a deprecated function: `id`.} {position: line: 1, column: 28, offset: 27} for query: 'MATCH (l:Limitation) WHERE id(l) = $limit_id MERGE (r:RangeLimit {name: $name, value: $value, unit: $unit, limit_type: $limit_type}) MERGE (l)-[:HAS_MIN_LIMIT]->(r)'\n",
            "WARNING:neo4j.notifications:Received notification from DBMS server: {severity: WARNING} {code: Neo.ClientNotification.Statement.FeatureDeprecationWarning} {category: DEPRECATION} {title: This feature is deprecated and will be removed in future versions.} {description: The query used a deprecated function: `id`.} {position: line: 1, column: 28, offset: 27} for query: 'MATCH (l:Limitation) WHERE id(l) = $limit_id CREATE (r:RangeLimit $props) MERGE (l)-[:HAS_MAX_LIMIT]->(r)'\n",
            "WARNING:neo4j.notifications:Received notification from DBMS server: {severity: WARNING} {code: Neo.ClientNotification.Statement.FeatureDeprecationWarning} {category: DEPRECATION} {title: This feature is deprecated and will be removed in future versions.} {description: The query used a deprecated function: `id`.} {position: line: 1, column: 28, offset: 27} for query: 'MATCH (l:Limitation) WHERE id(l) = $limit_id MATCH (s:Specification {id: $spec_id}) MERGE (l)-[:LIMITS_SPECIFICATION]->(s)'\n",
            "WARNING:neo4j.notifications:Received notification from DBMS server: {severity: WARNING} {code: Neo.ClientNotification.Statement.FeatureDeprecationWarning} {category: DEPRECATION} {title: This feature is deprecated and will be removed in future versions.} {description: The query used a deprecated function: `id`.} {position: line: 1, column: 182, offset: 181} for query: 'MATCH (t:Tool {model_number: $model}) MERGE (l:Limitation {description: $description, warning_type: $warning_type}) ON CREATE SET l.id = $id MERGE (t)-[:HAS_LIMITATION]->(l) RETURN id(l) as limit_id'\n",
            "WARNING:neo4j.notifications:Received notification from DBMS server: {severity: WARNING} {code: Neo.ClientNotification.Statement.FeatureDeprecationWarning} {category: DEPRECATION} {title: This feature is deprecated and will be removed in future versions.} {description: The query used a deprecated function: `id`.} {position: line: 1, column: 150, offset: 149} for query: 'MATCH (t:Tool {model_number: $model}) MERGE (s:Specification {name: $spec_name}) ON CREATE SET s = $props MERGE (t)-[:HAS_SPECIFICATION]->(s) RETURN id(s) as spec_id'\n",
            "WARNING:neo4j.notifications:Received notification from DBMS server: {severity: WARNING} {code: Neo.ClientNotification.Statement.FeatureDeprecationWarning} {category: DEPRECATION} {title: This feature is deprecated and will be removed in future versions.} {description: The query used a deprecated function: `id`.} {position: line: 1, column: 31, offset: 30} for query: 'MATCH (s:Specification) WHERE id(s) = $spec_id MERGE (u:Unit {symbol: $symbol}) ON CREATE SET u.name = $name MERGE (s)-[:HAS_UNIT]->(u)'\n",
            "WARNING:neo4j.notifications:Received notification from DBMS server: {severity: WARNING} {code: Neo.ClientNotification.Statement.FeatureDeprecationWarning} {category: DEPRECATION} {title: This feature is deprecated and will be removed in future versions.} {description: The query used a deprecated function: `id`.} {position: line: 1, column: 31, offset: 30} for query: 'MATCH (s:Specification) WHERE id(s) = $spec_id MERGE (l:RangeLimit {name: $limit_name, value: $value, unit: $unit, limit_type: $limit_type}) MERGE (s)-[:HAS_MIN_LIMIT]->(l)'\n",
            "WARNING:neo4j.notifications:Received notification from DBMS server: {severity: WARNING} {code: Neo.ClientNotification.Statement.FeatureDeprecationWarning} {category: DEPRECATION} {title: This feature is deprecated and will be removed in future versions.} {description: The query used a deprecated function: `id`.} {position: line: 1, column: 31, offset: 30} for query: 'MATCH (s:Specification) WHERE id(s) = $spec_id MERGE (l:RangeLimit {name: $limit_name, value: $value, unit: $unit, limit_type: $limit_type}) MERGE (s)-[:HAS_MAX_LIMIT]->(l)'\n",
            "WARNING:neo4j.notifications:Received notification from DBMS server: {severity: WARNING} {code: Neo.ClientNotification.Statement.FeatureDeprecationWarning} {category: DEPRECATION} {title: This feature is deprecated and will be removed in future versions.} {description: The query used a deprecated function: `id`.} {position: line: 1, column: 150, offset: 149} for query: 'MATCH (t:Tool {model_number: $model}) MERGE (s:Specification {name: $spec_name}) ON CREATE SET s = $props MERGE (t)-[:HAS_SPECIFICATION]->(s) RETURN id(s) as spec_id'\n",
            "WARNING:neo4j.notifications:Received notification from DBMS server: {severity: WARNING} {code: Neo.ClientNotification.Statement.FeatureDeprecationWarning} {category: DEPRECATION} {title: This feature is deprecated and will be removed in future versions.} {description: The query used a deprecated function: `id`.} {position: line: 1, column: 31, offset: 30} for query: 'MATCH (s:Specification) WHERE id(s) = $spec_id MERGE (u:Unit {symbol: $symbol}) ON CREATE SET u.name = $name MERGE (s)-[:HAS_UNIT]->(u)'\n",
            "WARNING:neo4j.notifications:Received notification from DBMS server: {severity: WARNING} {code: Neo.ClientNotification.Statement.FeatureDeprecationWarning} {category: DEPRECATION} {title: This feature is deprecated and will be removed in future versions.} {description: The query used a deprecated function: `id`.} {position: line: 1, column: 150, offset: 149} for query: 'MATCH (t:Tool {model_number: $model}) MERGE (s:Specification {name: $spec_name}) ON CREATE SET s = $props MERGE (t)-[:HAS_SPECIFICATION]->(s) RETURN id(s) as spec_id'\n",
            "WARNING:neo4j.notifications:Received notification from DBMS server: {severity: WARNING} {code: Neo.ClientNotification.Statement.FeatureDeprecationWarning} {category: DEPRECATION} {title: This feature is deprecated and will be removed in future versions.} {description: The query used a deprecated function: `id`.} {position: line: 1, column: 31, offset: 30} for query: 'MATCH (s:Specification) WHERE id(s) = $spec_id MERGE (l:RangeLimit {name: $limit_name, value: $value, unit: $unit, limit_type: $limit_type}) MERGE (s)-[:HAS_MIN_LIMIT]->(l)'\n",
            "WARNING:neo4j.notifications:Received notification from DBMS server: {severity: WARNING} {code: Neo.ClientNotification.Statement.FeatureDeprecationWarning} {category: DEPRECATION} {title: This feature is deprecated and will be removed in future versions.} {description: The query used a deprecated function: `id`.} {position: line: 1, column: 31, offset: 30} for query: 'MATCH (s:Specification) WHERE id(s) = $spec_id MERGE (l:RangeLimit {name: $limit_name, value: $value, unit: $unit, limit_type: $limit_type}) MERGE (s)-[:HAS_MAX_LIMIT]->(l)'\n",
            "WARNING:neo4j.notifications:Received notification from DBMS server: {severity: WARNING} {code: Neo.ClientNotification.Statement.FeatureDeprecationWarning} {category: DEPRECATION} {title: This feature is deprecated and will be removed in future versions.} {description: The query used a deprecated function: `id`.} {position: line: 1, column: 150, offset: 149} for query: 'MATCH (t:Tool {model_number: $model}) MERGE (s:Specification {name: $spec_name}) ON CREATE SET s = $props MERGE (t)-[:HAS_SPECIFICATION]->(s) RETURN id(s) as spec_id'\n",
            "WARNING:neo4j.notifications:Received notification from DBMS server: {severity: WARNING} {code: Neo.ClientNotification.Statement.FeatureDeprecationWarning} {category: DEPRECATION} {title: This feature is deprecated and will be removed in future versions.} {description: The query used a deprecated function: `id`.} {position: line: 1, column: 31, offset: 30} for query: 'MATCH (s:Specification) WHERE id(s) = $spec_id MERGE (l:RangeLimit {name: $limit_name, value: $value, unit: $unit, limit_type: $limit_type}) MERGE (s)-[:HAS_MIN_LIMIT]->(l)'\n",
            "WARNING:neo4j.notifications:Received notification from DBMS server: {severity: WARNING} {code: Neo.ClientNotification.Statement.FeatureDeprecationWarning} {category: DEPRECATION} {title: This feature is deprecated and will be removed in future versions.} {description: The query used a deprecated function: `id`.} {position: line: 1, column: 31, offset: 30} for query: 'MATCH (s:Specification) WHERE id(s) = $spec_id MERGE (l:RangeLimit {name: $limit_name, value: $value, unit: $unit, limit_type: $limit_type}) MERGE (s)-[:HAS_MAX_LIMIT]->(l)'\n",
            "WARNING:neo4j.notifications:Received notification from DBMS server: {severity: WARNING} {code: Neo.ClientNotification.Statement.FeatureDeprecationWarning} {category: DEPRECATION} {title: This feature is deprecated and will be removed in future versions.} {description: The query used a deprecated function: `id`.} {position: line: 1, column: 150, offset: 149} for query: 'MATCH (t:Tool {model_number: $model}) MERGE (s:Specification {name: $spec_name}) ON CREATE SET s = $props MERGE (t)-[:HAS_SPECIFICATION]->(s) RETURN id(s) as spec_id'\n",
            "WARNING:neo4j.notifications:Received notification from DBMS server: {severity: WARNING} {code: Neo.ClientNotification.Statement.FeatureDeprecationWarning} {category: DEPRECATION} {title: This feature is deprecated and will be removed in future versions.} {description: The query used a deprecated function: `id`.} {position: line: 1, column: 150, offset: 149} for query: 'MATCH (t:Tool {model_number: $model}) MERGE (s:Specification {name: $spec_name}) ON CREATE SET s = $props MERGE (t)-[:HAS_SPECIFICATION]->(s) RETURN id(s) as spec_id'\n",
            "WARNING:neo4j.notifications:Received notification from DBMS server: {severity: WARNING} {code: Neo.ClientNotification.Statement.FeatureDeprecationWarning} {category: DEPRECATION} {title: This feature is deprecated and will be removed in future versions.} {description: The query used a deprecated function: `id`.} {position: line: 1, column: 150, offset: 149} for query: 'MATCH (t:Tool {model_number: $model}) MERGE (s:Specification {name: $spec_name}) ON CREATE SET s = $props MERGE (t)-[:HAS_SPECIFICATION]->(s) RETURN id(s) as spec_id'\n",
            "WARNING:neo4j.notifications:Received notification from DBMS server: {severity: WARNING} {code: Neo.ClientNotification.Statement.FeatureDeprecationWarning} {category: DEPRECATION} {title: This feature is deprecated and will be removed in future versions.} {description: The query used a deprecated function: `id`.} {position: line: 1, column: 150, offset: 149} for query: 'MATCH (t:Tool {model_number: $model}) MERGE (s:Specification {name: $spec_name}) ON CREATE SET s = $props MERGE (t)-[:HAS_SPECIFICATION]->(s) RETURN id(s) as spec_id'\n",
            "WARNING:neo4j.notifications:Received notification from DBMS server: {severity: WARNING} {code: Neo.ClientNotification.Statement.FeatureDeprecationWarning} {category: DEPRECATION} {title: This feature is deprecated and will be removed in future versions.} {description: The query used a deprecated function: `id`.} {position: line: 1, column: 150, offset: 149} for query: 'MATCH (t:Tool {model_number: $model}) MERGE (s:Specification {name: $spec_name}) ON CREATE SET s = $props MERGE (t)-[:HAS_SPECIFICATION]->(s) RETURN id(s) as spec_id'\n",
            "WARNING:neo4j.notifications:Received notification from DBMS server: {severity: WARNING} {code: Neo.ClientNotification.Statement.FeatureDeprecationWarning} {category: DEPRECATION} {title: This feature is deprecated and will be removed in future versions.} {description: The query used a deprecated function: `id`.} {position: line: 1, column: 31, offset: 30} for query: 'MATCH (s:Specification) WHERE id(s) = $spec_id MERGE (l:RangeLimit {name: $limit_name, value: $value, unit: $unit, limit_type: $limit_type}) MERGE (s)-[:HAS_MIN_LIMIT]->(l)'\n",
            "WARNING:neo4j.notifications:Received notification from DBMS server: {severity: WARNING} {code: Neo.ClientNotification.Statement.FeatureDeprecationWarning} {category: DEPRECATION} {title: This feature is deprecated and will be removed in future versions.} {description: The query used a deprecated function: `id`.} {position: line: 1, column: 31, offset: 30} for query: 'MATCH (s:Specification) WHERE id(s) = $spec_id MERGE (l:RangeLimit {name: $limit_name, value: $value, unit: $unit, limit_type: $limit_type}) MERGE (s)-[:HAS_MAX_LIMIT]->(l)'\n",
            "WARNING:neo4j.notifications:Received notification from DBMS server: {severity: WARNING} {code: Neo.ClientNotification.Statement.FeatureDeprecationWarning} {category: DEPRECATION} {title: This feature is deprecated and will be removed in future versions.} {description: The query used a deprecated function: `id`.} {position: line: 1, column: 150, offset: 149} for query: 'MATCH (t:Tool {model_number: $model}) MERGE (s:Specification {name: $spec_name}) ON CREATE SET s = $props MERGE (t)-[:HAS_SPECIFICATION]->(s) RETURN id(s) as spec_id'\n",
            "WARNING:neo4j.notifications:Received notification from DBMS server: {severity: WARNING} {code: Neo.ClientNotification.Statement.FeatureDeprecationWarning} {category: DEPRECATION} {title: This feature is deprecated and will be removed in future versions.} {description: The query used a deprecated function: `id`.} {position: line: 1, column: 31, offset: 30} for query: 'MATCH (s:Specification) WHERE id(s) = $spec_id MERGE (l:RangeLimit {name: $limit_name, value: $value, unit: $unit, limit_type: $limit_type}) MERGE (s)-[:HAS_MIN_LIMIT]->(l)'\n",
            "WARNING:neo4j.notifications:Received notification from DBMS server: {severity: WARNING} {code: Neo.ClientNotification.Statement.FeatureDeprecationWarning} {category: DEPRECATION} {title: This feature is deprecated and will be removed in future versions.} {description: The query used a deprecated function: `id`.} {position: line: 1, column: 31, offset: 30} for query: 'MATCH (s:Specification) WHERE id(s) = $spec_id MERGE (l:RangeLimit {name: $limit_name, value: $value, unit: $unit, limit_type: $limit_type}) MERGE (s)-[:HAS_MAX_LIMIT]->(l)'\n",
            "WARNING:neo4j.notifications:Received notification from DBMS server: {severity: WARNING} {code: Neo.ClientNotification.Statement.FeatureDeprecationWarning} {category: DEPRECATION} {title: This feature is deprecated and will be removed in future versions.} {description: The query used a deprecated function: `id`.} {position: line: 1, column: 150, offset: 149} for query: 'MATCH (t:Tool {model_number: $model}) MERGE (s:Specification {name: $spec_name}) ON CREATE SET s = $props MERGE (t)-[:HAS_SPECIFICATION]->(s) RETURN id(s) as spec_id'\n",
            "WARNING:neo4j.notifications:Received notification from DBMS server: {severity: WARNING} {code: Neo.ClientNotification.Statement.FeatureDeprecationWarning} {category: DEPRECATION} {title: This feature is deprecated and will be removed in future versions.} {description: The query used a deprecated function: `id`.} {position: line: 1, column: 150, offset: 149} for query: 'MATCH (t:Tool {model_number: $model}) MERGE (s:Specification {name: $spec_name}) ON CREATE SET s = $props MERGE (t)-[:HAS_SPECIFICATION]->(s) RETURN id(s) as spec_id'\n",
            "WARNING:neo4j.notifications:Received notification from DBMS server: {severity: WARNING} {code: Neo.ClientNotification.Statement.FeatureDeprecationWarning} {category: DEPRECATION} {title: This feature is deprecated and will be removed in future versions.} {description: The query used a deprecated function: `id`.} {position: line: 1, column: 150, offset: 149} for query: 'MATCH (t:Tool {model_number: $model}) MERGE (s:Specification {name: $spec_name}) ON CREATE SET s = $props MERGE (t)-[:HAS_SPECIFICATION]->(s) RETURN id(s) as spec_id'\n",
            "WARNING:neo4j.notifications:Received notification from DBMS server: {severity: WARNING} {code: Neo.ClientNotification.Statement.FeatureDeprecationWarning} {category: DEPRECATION} {title: This feature is deprecated and will be removed in future versions.} {description: The query used a deprecated function: `id`.} {position: line: 1, column: 31, offset: 30} for query: 'MATCH (s:Specification) WHERE id(s) = $spec_id MERGE (u:Unit {symbol: $symbol}) ON CREATE SET u.name = $name MERGE (s)-[:HAS_UNIT]->(u)'\n",
            "WARNING:neo4j.notifications:Received notification from DBMS server: {severity: WARNING} {code: Neo.ClientNotification.Statement.FeatureDeprecationWarning} {category: DEPRECATION} {title: This feature is deprecated and will be removed in future versions.} {description: The query used a deprecated function: `id`.} {position: line: 1, column: 150, offset: 149} for query: 'MATCH (t:Tool {model_number: $model}) MERGE (s:Specification {name: $spec_name}) ON CREATE SET s = $props MERGE (t)-[:HAS_SPECIFICATION]->(s) RETURN id(s) as spec_id'\n",
            "WARNING:neo4j.notifications:Received notification from DBMS server: {severity: WARNING} {code: Neo.ClientNotification.Statement.FeatureDeprecationWarning} {category: DEPRECATION} {title: This feature is deprecated and will be removed in future versions.} {description: The query used a deprecated function: `id`.} {position: line: 1, column: 31, offset: 30} for query: 'MATCH (s:Specification) WHERE id(s) = $spec_id MERGE (l:RangeLimit {name: $limit_name, value: $value, unit: $unit, limit_type: $limit_type}) MERGE (s)-[:HAS_MIN_LIMIT]->(l)'\n",
            "WARNING:neo4j.notifications:Received notification from DBMS server: {severity: WARNING} {code: Neo.ClientNotification.Statement.FeatureDeprecationWarning} {category: DEPRECATION} {title: This feature is deprecated and will be removed in future versions.} {description: The query used a deprecated function: `id`.} {position: line: 1, column: 31, offset: 30} for query: 'MATCH (s:Specification) WHERE id(s) = $spec_id MERGE (l:RangeLimit {name: $limit_name, value: $value, unit: $unit, limit_type: $limit_type}) MERGE (s)-[:HAS_MAX_LIMIT]->(l)'\n",
            "WARNING:neo4j.notifications:Received notification from DBMS server: {severity: WARNING} {code: Neo.ClientNotification.Statement.FeatureDeprecationWarning} {category: DEPRECATION} {title: This feature is deprecated and will be removed in future versions.} {description: The query used a deprecated function: `id`.} {position: line: 1, column: 150, offset: 149} for query: 'MATCH (t:Tool {model_number: $model}) MERGE (s:Specification {name: $spec_name}) ON CREATE SET s = $props MERGE (t)-[:HAS_SPECIFICATION]->(s) RETURN id(s) as spec_id'\n",
            "WARNING:neo4j.notifications:Received notification from DBMS server: {severity: WARNING} {code: Neo.ClientNotification.Statement.FeatureDeprecationWarning} {category: DEPRECATION} {title: This feature is deprecated and will be removed in future versions.} {description: The query used a deprecated function: `id`.} {position: line: 1, column: 31, offset: 30} for query: 'MATCH (s:Specification) WHERE id(s) = $spec_id MERGE (u:Unit {symbol: $symbol}) ON CREATE SET u.name = $name MERGE (s)-[:HAS_UNIT]->(u)'\n",
            "WARNING:neo4j.notifications:Received notification from DBMS server: {severity: WARNING} {code: Neo.ClientNotification.Statement.FeatureDeprecationWarning} {category: DEPRECATION} {title: This feature is deprecated and will be removed in future versions.} {description: The query used a deprecated function: `id`.} {position: line: 1, column: 150, offset: 149} for query: 'MATCH (t:Tool {model_number: $model}) MERGE (s:Specification {name: $spec_name}) ON CREATE SET s = $props MERGE (t)-[:HAS_SPECIFICATION]->(s) RETURN id(s) as spec_id'\n",
            "WARNING:neo4j.notifications:Received notification from DBMS server: {severity: WARNING} {code: Neo.ClientNotification.Statement.FeatureDeprecationWarning} {category: DEPRECATION} {title: This feature is deprecated and will be removed in future versions.} {description: The query used a deprecated function: `id`.} {position: line: 1, column: 150, offset: 149} for query: 'MATCH (t:Tool {model_number: $model}) MERGE (s:Specification {name: $spec_name}) ON CREATE SET s = $props MERGE (t)-[:HAS_SPECIFICATION]->(s) RETURN id(s) as spec_id'\n",
            "WARNING:neo4j.notifications:Received notification from DBMS server: {severity: WARNING} {code: Neo.ClientNotification.Statement.FeatureDeprecationWarning} {category: DEPRECATION} {title: This feature is deprecated and will be removed in future versions.} {description: The query used a deprecated function: `id`.} {position: line: 1, column: 31, offset: 30} for query: 'MATCH (s:Specification) WHERE id(s) = $spec_id MERGE (u:Unit {symbol: $symbol}) ON CREATE SET u.name = $name MERGE (s)-[:HAS_UNIT]->(u)'\n",
            "WARNING:neo4j.notifications:Received notification from DBMS server: {severity: WARNING} {code: Neo.ClientNotification.Statement.FeatureDeprecationWarning} {category: DEPRECATION} {title: This feature is deprecated and will be removed in future versions.} {description: The query used a deprecated function: `id`.} {position: line: 1, column: 150, offset: 149} for query: 'MATCH (t:Tool {model_number: $model}) MERGE (s:Specification {name: $spec_name}) ON CREATE SET s = $props MERGE (t)-[:HAS_SPECIFICATION]->(s) RETURN id(s) as spec_id'\n",
            "WARNING:neo4j.notifications:Received notification from DBMS server: {severity: WARNING} {code: Neo.ClientNotification.Statement.FeatureDeprecationWarning} {category: DEPRECATION} {title: This feature is deprecated and will be removed in future versions.} {description: The query used a deprecated function: `id`.} {position: line: 1, column: 150, offset: 149} for query: 'MATCH (t:Tool {model_number: $model}) MERGE (s:Specification {name: $spec_name}) ON CREATE SET s = $props MERGE (t)-[:HAS_SPECIFICATION]->(s) RETURN id(s) as spec_id'\n",
            "WARNING:neo4j.notifications:Received notification from DBMS server: {severity: WARNING} {code: Neo.ClientNotification.Statement.FeatureDeprecationWarning} {category: DEPRECATION} {title: This feature is deprecated and will be removed in future versions.} {description: The query used a deprecated function: `id`.} {position: line: 1, column: 31, offset: 30} for query: 'MATCH (s:Specification) WHERE id(s) = $spec_id MERGE (l:RangeLimit {name: $limit_name, value: $value, unit: $unit, limit_type: $limit_type}) MERGE (s)-[:HAS_MIN_LIMIT]->(l)'\n",
            "WARNING:neo4j.notifications:Received notification from DBMS server: {severity: WARNING} {code: Neo.ClientNotification.Statement.FeatureDeprecationWarning} {category: DEPRECATION} {title: This feature is deprecated and will be removed in future versions.} {description: The query used a deprecated function: `id`.} {position: line: 1, column: 31, offset: 30} for query: 'MATCH (s:Specification) WHERE id(s) = $spec_id MERGE (l:RangeLimit {name: $limit_name, value: $value, unit: $unit, limit_type: $limit_type}) MERGE (s)-[:HAS_MAX_LIMIT]->(l)'\n",
            "WARNING:neo4j.notifications:Received notification from DBMS server: {severity: WARNING} {code: Neo.ClientNotification.Statement.FeatureDeprecationWarning} {category: DEPRECATION} {title: This feature is deprecated and will be removed in future versions.} {description: The query used a deprecated function: `id`.} {position: line: 1, column: 150, offset: 149} for query: 'MATCH (t:Tool {model_number: $model}) MERGE (s:Specification {name: $spec_name}) ON CREATE SET s = $props MERGE (t)-[:HAS_SPECIFICATION]->(s) RETURN id(s) as spec_id'\n",
            "WARNING:neo4j.notifications:Received notification from DBMS server: {severity: WARNING} {code: Neo.ClientNotification.Statement.FeatureDeprecationWarning} {category: DEPRECATION} {title: This feature is deprecated and will be removed in future versions.} {description: The query used a deprecated function: `id`.} {position: line: 1, column: 31, offset: 30} for query: 'MATCH (s:Specification) WHERE id(s) = $spec_id MERGE (l:RangeLimit {name: $limit_name, value: $value, unit: $unit, limit_type: $limit_type}) MERGE (s)-[:HAS_MIN_LIMIT]->(l)'\n",
            "WARNING:neo4j.notifications:Received notification from DBMS server: {severity: WARNING} {code: Neo.ClientNotification.Statement.FeatureDeprecationWarning} {category: DEPRECATION} {title: This feature is deprecated and will be removed in future versions.} {description: The query used a deprecated function: `id`.} {position: line: 1, column: 31, offset: 30} for query: 'MATCH (s:Specification) WHERE id(s) = $spec_id MERGE (l:RangeLimit {name: $limit_name, value: $value, unit: $unit, limit_type: $limit_type}) MERGE (s)-[:HAS_MAX_LIMIT]->(l)'\n",
            "WARNING:neo4j.notifications:Received notification from DBMS server: {severity: WARNING} {code: Neo.ClientNotification.Statement.FeatureDeprecationWarning} {category: DEPRECATION} {title: This feature is deprecated and will be removed in future versions.} {description: The query used a deprecated function: `id`.} {position: line: 1, column: 150, offset: 149} for query: 'MATCH (t:Tool {model_number: $model}) MERGE (s:Specification {name: $spec_name}) ON CREATE SET s = $props MERGE (t)-[:HAS_SPECIFICATION]->(s) RETURN id(s) as spec_id'\n",
            "WARNING:neo4j.notifications:Received notification from DBMS server: {severity: WARNING} {code: Neo.ClientNotification.Statement.FeatureDeprecationWarning} {category: DEPRECATION} {title: This feature is deprecated and will be removed in future versions.} {description: The query used a deprecated function: `id`.} {position: line: 1, column: 150, offset: 149} for query: 'MATCH (t:Tool {model_number: $model}) MERGE (s:Specification {name: $spec_name}) ON CREATE SET s = $props MERGE (t)-[:HAS_SPECIFICATION]->(s) RETURN id(s) as spec_id'\n",
            "WARNING:neo4j.notifications:Received notification from DBMS server: {severity: WARNING} {code: Neo.ClientNotification.Statement.FeatureDeprecationWarning} {category: DEPRECATION} {title: This feature is deprecated and will be removed in future versions.} {description: The query used a deprecated function: `id`.} {position: line: 1, column: 31, offset: 30} for query: 'MATCH (s:Specification) WHERE id(s) = $spec_id MERGE (l:RangeLimit {name: $limit_name, value: $value, unit: $unit, limit_type: $limit_type}) MERGE (s)-[:HAS_MIN_LIMIT]->(l)'\n",
            "WARNING:neo4j.notifications:Received notification from DBMS server: {severity: WARNING} {code: Neo.ClientNotification.Statement.FeatureDeprecationWarning} {category: DEPRECATION} {title: This feature is deprecated and will be removed in future versions.} {description: The query used a deprecated function: `id`.} {position: line: 1, column: 31, offset: 30} for query: 'MATCH (s:Specification) WHERE id(s) = $spec_id MERGE (l:RangeLimit {name: $limit_name, value: $value, unit: $unit, limit_type: $limit_type}) MERGE (s)-[:HAS_MAX_LIMIT]->(l)'\n",
            "WARNING:neo4j.notifications:Received notification from DBMS server: {severity: WARNING} {code: Neo.ClientNotification.Statement.FeatureDeprecationWarning} {category: DEPRECATION} {title: This feature is deprecated and will be removed in future versions.} {description: The query used a deprecated function: `id`.} {position: line: 1, column: 150, offset: 149} for query: 'MATCH (t:Tool {model_number: $model}) MERGE (s:Specification {name: $spec_name}) ON CREATE SET s = $props MERGE (t)-[:HAS_SPECIFICATION]->(s) RETURN id(s) as spec_id'\n",
            "WARNING:neo4j.notifications:Received notification from DBMS server: {severity: WARNING} {code: Neo.ClientNotification.Statement.FeatureDeprecationWarning} {category: DEPRECATION} {title: This feature is deprecated and will be removed in future versions.} {description: The query used a deprecated function: `id`.} {position: line: 1, column: 31, offset: 30} for query: 'MATCH (s:Specification) WHERE id(s) = $spec_id MERGE (u:Unit {symbol: $symbol}) ON CREATE SET u.name = $name MERGE (s)-[:HAS_UNIT]->(u)'\n",
            "WARNING:neo4j.notifications:Received notification from DBMS server: {severity: WARNING} {code: Neo.ClientNotification.Statement.FeatureDeprecationWarning} {category: DEPRECATION} {title: This feature is deprecated and will be removed in future versions.} {description: The query used a deprecated function: `id`.} {position: line: 1, column: 150, offset: 149} for query: 'MATCH (t:Tool {model_number: $model}) MERGE (s:Specification {name: $spec_name}) ON CREATE SET s = $props MERGE (t)-[:HAS_SPECIFICATION]->(s) RETURN id(s) as spec_id'\n",
            "WARNING:neo4j.notifications:Received notification from DBMS server: {severity: WARNING} {code: Neo.ClientNotification.Statement.FeatureDeprecationWarning} {category: DEPRECATION} {title: This feature is deprecated and will be removed in future versions.} {description: The query used a deprecated function: `id`.} {position: line: 1, column: 31, offset: 30} for query: 'MATCH (s:Specification) WHERE id(s) = $spec_id MERGE (u:Unit {symbol: $symbol}) ON CREATE SET u.name = $name MERGE (s)-[:HAS_UNIT]->(u)'\n",
            "WARNING:neo4j.notifications:Received notification from DBMS server: {severity: WARNING} {code: Neo.ClientNotification.Statement.FeatureDeprecationWarning} {category: DEPRECATION} {title: This feature is deprecated and will be removed in future versions.} {description: The query used a deprecated function: `id`.} {position: line: 1, column: 150, offset: 149} for query: 'MATCH (t:Tool {model_number: $model}) MERGE (s:Specification {name: $spec_name}) ON CREATE SET s = $props MERGE (t)-[:HAS_SPECIFICATION]->(s) RETURN id(s) as spec_id'\n",
            "WARNING:neo4j.notifications:Received notification from DBMS server: {severity: WARNING} {code: Neo.ClientNotification.Statement.FeatureDeprecationWarning} {category: DEPRECATION} {title: This feature is deprecated and will be removed in future versions.} {description: The query used a deprecated function: `id`.} {position: line: 1, column: 31, offset: 30} for query: 'MATCH (s:Specification) WHERE id(s) = $spec_id MERGE (u:Unit {symbol: $symbol}) ON CREATE SET u.name = $name MERGE (s)-[:HAS_UNIT]->(u)'\n",
            "WARNING:neo4j.notifications:Received notification from DBMS server: {severity: WARNING} {code: Neo.ClientNotification.Statement.FeatureDeprecationWarning} {category: DEPRECATION} {title: This feature is deprecated and will be removed in future versions.} {description: The query used a deprecated function: `id`.} {position: line: 1, column: 182, offset: 181} for query: 'MATCH (t:Tool {model_number: $model}) MERGE (l:Limitation {description: $description, warning_type: $warning_type}) ON CREATE SET l.id = $id MERGE (t)-[:HAS_LIMITATION]->(l) RETURN id(l) as limit_id'\n",
            "WARNING:neo4j.notifications:Received notification from DBMS server: {severity: WARNING} {code: Neo.ClientNotification.Statement.FeatureDeprecationWarning} {category: DEPRECATION} {title: This feature is deprecated and will be removed in future versions.} {description: The query used a deprecated function: `id`.} {position: line: 1, column: 28, offset: 27} for query: 'MATCH (l:Limitation) WHERE id(l) = $limit_id MERGE (r:RangeLimit {name: $name, value: $value, unit: $unit, limit_type: $limit_type}) MERGE (l)-[:HAS_MIN_LIMIT]->(r)'\n",
            "WARNING:neo4j.notifications:Received notification from DBMS server: {severity: WARNING} {code: Neo.ClientNotification.Statement.FeatureDeprecationWarning} {category: DEPRECATION} {title: This feature is deprecated and will be removed in future versions.} {description: The query used a deprecated function: `id`.} {position: line: 1, column: 28, offset: 27} for query: 'MATCH (l:Limitation) WHERE id(l) = $limit_id CREATE (r:RangeLimit $props) MERGE (l)-[:HAS_MAX_LIMIT]->(r)'\n",
            "WARNING:neo4j.notifications:Received notification from DBMS server: {severity: WARNING} {code: Neo.ClientNotification.Statement.FeatureDeprecationWarning} {category: DEPRECATION} {title: This feature is deprecated and will be removed in future versions.} {description: The query used a deprecated function: `id`.} {position: line: 1, column: 28, offset: 27} for query: 'MATCH (l:Limitation) WHERE id(l) = $limit_id MATCH (s:Specification {id: $spec_id}) MERGE (l)-[:LIMITS_SPECIFICATION]->(s)'\n",
            "WARNING:neo4j.notifications:Received notification from DBMS server: {severity: WARNING} {code: Neo.ClientNotification.Statement.FeatureDeprecationWarning} {category: DEPRECATION} {title: This feature is deprecated and will be removed in future versions.} {description: The query used a deprecated function: `id`.} {position: line: 1, column: 182, offset: 181} for query: 'MATCH (t:Tool {model_number: $model}) MERGE (l:Limitation {description: $description, warning_type: $warning_type}) ON CREATE SET l.id = $id MERGE (t)-[:HAS_LIMITATION]->(l) RETURN id(l) as limit_id'\n",
            "WARNING:neo4j.notifications:Received notification from DBMS server: {severity: WARNING} {code: Neo.ClientNotification.Statement.FeatureDeprecationWarning} {category: DEPRECATION} {title: This feature is deprecated and will be removed in future versions.} {description: The query used a deprecated function: `id`.} {position: line: 1, column: 28, offset: 27} for query: 'MATCH (l:Limitation) WHERE id(l) = $limit_id MERGE (r:RangeLimit {name: $name, value: $value, unit: $unit, limit_type: $limit_type}) MERGE (l)-[:HAS_MIN_LIMIT]->(r)'\n",
            "WARNING:neo4j.notifications:Received notification from DBMS server: {severity: WARNING} {code: Neo.ClientNotification.Statement.FeatureDeprecationWarning} {category: DEPRECATION} {title: This feature is deprecated and will be removed in future versions.} {description: The query used a deprecated function: `id`.} {position: line: 1, column: 28, offset: 27} for query: 'MATCH (l:Limitation) WHERE id(l) = $limit_id CREATE (r:RangeLimit $props) MERGE (l)-[:HAS_MAX_LIMIT]->(r)'\n",
            "WARNING:neo4j.notifications:Received notification from DBMS server: {severity: WARNING} {code: Neo.ClientNotification.Statement.FeatureDeprecationWarning} {category: DEPRECATION} {title: This feature is deprecated and will be removed in future versions.} {description: The query used a deprecated function: `id`.} {position: line: 1, column: 28, offset: 27} for query: 'MATCH (l:Limitation) WHERE id(l) = $limit_id MATCH (s:Specification {id: $spec_id}) MERGE (l)-[:LIMITS_SPECIFICATION]->(s)'\n",
            "WARNING:neo4j.notifications:Received notification from DBMS server: {severity: WARNING} {code: Neo.ClientNotification.Statement.FeatureDeprecationWarning} {category: DEPRECATION} {title: This feature is deprecated and will be removed in future versions.} {description: The query used a deprecated function: `id`.} {position: line: 1, column: 182, offset: 181} for query: 'MATCH (t:Tool {model_number: $model}) MERGE (l:Limitation {description: $description, warning_type: $warning_type}) ON CREATE SET l.id = $id MERGE (t)-[:HAS_LIMITATION]->(l) RETURN id(l) as limit_id'\n",
            "WARNING:neo4j.notifications:Received notification from DBMS server: {severity: WARNING} {code: Neo.ClientNotification.Statement.FeatureDeprecationWarning} {category: DEPRECATION} {title: This feature is deprecated and will be removed in future versions.} {description: The query used a deprecated function: `id`.} {position: line: 1, column: 28, offset: 27} for query: 'MATCH (l:Limitation) WHERE id(l) = $limit_id MERGE (r:RangeLimit {name: $name, value: $value, unit: $unit, limit_type: $limit_type}) MERGE (l)-[:HAS_MIN_LIMIT]->(r)'\n",
            "WARNING:neo4j.notifications:Received notification from DBMS server: {severity: WARNING} {code: Neo.ClientNotification.Statement.FeatureDeprecationWarning} {category: DEPRECATION} {title: This feature is deprecated and will be removed in future versions.} {description: The query used a deprecated function: `id`.} {position: line: 1, column: 28, offset: 27} for query: 'MATCH (l:Limitation) WHERE id(l) = $limit_id CREATE (r:RangeLimit $props) MERGE (l)-[:HAS_MAX_LIMIT]->(r)'\n",
            "WARNING:neo4j.notifications:Received notification from DBMS server: {severity: WARNING} {code: Neo.ClientNotification.Statement.FeatureDeprecationWarning} {category: DEPRECATION} {title: This feature is deprecated and will be removed in future versions.} {description: The query used a deprecated function: `id`.} {position: line: 1, column: 28, offset: 27} for query: 'MATCH (l:Limitation) WHERE id(l) = $limit_id MATCH (s:Specification {id: $spec_id}) MERGE (l)-[:LIMITS_SPECIFICATION]->(s)'\n",
            "WARNING:neo4j.notifications:Received notification from DBMS server: {severity: WARNING} {code: Neo.ClientNotification.Statement.FeatureDeprecationWarning} {category: DEPRECATION} {title: This feature is deprecated and will be removed in future versions.} {description: The query used a deprecated function: `id`.} {position: line: 1, column: 182, offset: 181} for query: 'MATCH (t:Tool {model_number: $model}) MERGE (l:Limitation {description: $description, warning_type: $warning_type}) ON CREATE SET l.id = $id MERGE (t)-[:HAS_LIMITATION]->(l) RETURN id(l) as limit_id'\n",
            "WARNING:neo4j.notifications:Received notification from DBMS server: {severity: WARNING} {code: Neo.ClientNotification.Statement.FeatureDeprecationWarning} {category: DEPRECATION} {title: This feature is deprecated and will be removed in future versions.} {description: The query used a deprecated function: `id`.} {position: line: 1, column: 28, offset: 27} for query: 'MATCH (l:Limitation) WHERE id(l) = $limit_id MERGE (r:RangeLimit {name: $name, value: $value, unit: $unit, limit_type: $limit_type}) MERGE (l)-[:HAS_MIN_LIMIT]->(r)'\n",
            "WARNING:neo4j.notifications:Received notification from DBMS server: {severity: WARNING} {code: Neo.ClientNotification.Statement.FeatureDeprecationWarning} {category: DEPRECATION} {title: This feature is deprecated and will be removed in future versions.} {description: The query used a deprecated function: `id`.} {position: line: 1, column: 28, offset: 27} for query: 'MATCH (l:Limitation) WHERE id(l) = $limit_id CREATE (r:RangeLimit $props) MERGE (l)-[:HAS_MAX_LIMIT]->(r)'\n",
            "WARNING:neo4j.notifications:Received notification from DBMS server: {severity: WARNING} {code: Neo.ClientNotification.Statement.FeatureDeprecationWarning} {category: DEPRECATION} {title: This feature is deprecated and will be removed in future versions.} {description: The query used a deprecated function: `id`.} {position: line: 1, column: 28, offset: 27} for query: 'MATCH (l:Limitation) WHERE id(l) = $limit_id MATCH (s:Specification {id: $spec_id}) MERGE (l)-[:LIMITS_SPECIFICATION]->(s)'\n",
            "WARNING:neo4j.notifications:Received notification from DBMS server: {severity: WARNING} {code: Neo.ClientNotification.Statement.FeatureDeprecationWarning} {category: DEPRECATION} {title: This feature is deprecated and will be removed in future versions.} {description: The query used a deprecated function: `id`.} {position: line: 1, column: 182, offset: 181} for query: 'MATCH (t:Tool {model_number: $model}) MERGE (l:Limitation {description: $description, warning_type: $warning_type}) ON CREATE SET l.id = $id MERGE (t)-[:HAS_LIMITATION]->(l) RETURN id(l) as limit_id'\n",
            "WARNING:neo4j.notifications:Received notification from DBMS server: {severity: WARNING} {code: Neo.ClientNotification.Statement.FeatureDeprecationWarning} {category: DEPRECATION} {title: This feature is deprecated and will be removed in future versions.} {description: The query used a deprecated function: `id`.} {position: line: 1, column: 28, offset: 27} for query: 'MATCH (l:Limitation) WHERE id(l) = $limit_id MERGE (r:RangeLimit {name: $name, value: $value, unit: $unit, limit_type: $limit_type}) MERGE (l)-[:HAS_MIN_LIMIT]->(r)'\n",
            "WARNING:neo4j.notifications:Received notification from DBMS server: {severity: WARNING} {code: Neo.ClientNotification.Statement.FeatureDeprecationWarning} {category: DEPRECATION} {title: This feature is deprecated and will be removed in future versions.} {description: The query used a deprecated function: `id`.} {position: line: 1, column: 28, offset: 27} for query: 'MATCH (l:Limitation) WHERE id(l) = $limit_id CREATE (r:RangeLimit $props) MERGE (l)-[:HAS_MAX_LIMIT]->(r)'\n",
            "WARNING:neo4j.notifications:Received notification from DBMS server: {severity: WARNING} {code: Neo.ClientNotification.Statement.FeatureDeprecationWarning} {category: DEPRECATION} {title: This feature is deprecated and will be removed in future versions.} {description: The query used a deprecated function: `id`.} {position: line: 1, column: 28, offset: 27} for query: 'MATCH (l:Limitation) WHERE id(l) = $limit_id MATCH (s:Specification {id: $spec_id}) MERGE (l)-[:LIMITS_SPECIFICATION]->(s)'\n",
            "WARNING:neo4j.notifications:Received notification from DBMS server: {severity: WARNING} {code: Neo.ClientNotification.Statement.FeatureDeprecationWarning} {category: DEPRECATION} {title: This feature is deprecated and will be removed in future versions.} {description: The query used a deprecated function: `id`.} {position: line: 1, column: 182, offset: 181} for query: 'MATCH (t:Tool {model_number: $model}) MERGE (l:Limitation {description: $description, warning_type: $warning_type}) ON CREATE SET l.id = $id MERGE (t)-[:HAS_LIMITATION]->(l) RETURN id(l) as limit_id'\n",
            "WARNING:neo4j.notifications:Received notification from DBMS server: {severity: WARNING} {code: Neo.ClientNotification.Statement.FeatureDeprecationWarning} {category: DEPRECATION} {title: This feature is deprecated and will be removed in future versions.} {description: The query used a deprecated function: `id`.} {position: line: 1, column: 28, offset: 27} for query: 'MATCH (l:Limitation) WHERE id(l) = $limit_id MERGE (r:RangeLimit {name: $name, value: $value, unit: $unit, limit_type: $limit_type}) MERGE (l)-[:HAS_MIN_LIMIT]->(r)'\n",
            "WARNING:neo4j.notifications:Received notification from DBMS server: {severity: WARNING} {code: Neo.ClientNotification.Statement.FeatureDeprecationWarning} {category: DEPRECATION} {title: This feature is deprecated and will be removed in future versions.} {description: The query used a deprecated function: `id`.} {position: line: 1, column: 28, offset: 27} for query: 'MATCH (l:Limitation) WHERE id(l) = $limit_id CREATE (r:RangeLimit $props) MERGE (l)-[:HAS_MAX_LIMIT]->(r)'\n",
            "WARNING:neo4j.notifications:Received notification from DBMS server: {severity: WARNING} {code: Neo.ClientNotification.Statement.FeatureDeprecationWarning} {category: DEPRECATION} {title: This feature is deprecated and will be removed in future versions.} {description: The query used a deprecated function: `id`.} {position: line: 1, column: 28, offset: 27} for query: 'MATCH (l:Limitation) WHERE id(l) = $limit_id MATCH (s:Specification {id: $spec_id}) MERGE (l)-[:LIMITS_SPECIFICATION]->(s)'\n",
            "WARNING:neo4j.notifications:Received notification from DBMS server: {severity: WARNING} {code: Neo.ClientNotification.Statement.FeatureDeprecationWarning} {category: DEPRECATION} {title: This feature is deprecated and will be removed in future versions.} {description: The query used a deprecated function: `id`.} {position: line: 1, column: 182, offset: 181} for query: 'MATCH (t:Tool {model_number: $model}) MERGE (l:Limitation {description: $description, warning_type: $warning_type}) ON CREATE SET l.id = $id MERGE (t)-[:HAS_LIMITATION]->(l) RETURN id(l) as limit_id'\n",
            "WARNING:neo4j.notifications:Received notification from DBMS server: {severity: WARNING} {code: Neo.ClientNotification.Statement.FeatureDeprecationWarning} {category: DEPRECATION} {title: This feature is deprecated and will be removed in future versions.} {description: The query used a deprecated function: `id`.} {position: line: 1, column: 28, offset: 27} for query: 'MATCH (l:Limitation) WHERE id(l) = $limit_id MERGE (r:RangeLimit {name: $name, value: $value, unit: $unit, limit_type: $limit_type}) MERGE (l)-[:HAS_MIN_LIMIT]->(r)'\n",
            "WARNING:neo4j.notifications:Received notification from DBMS server: {severity: WARNING} {code: Neo.ClientNotification.Statement.FeatureDeprecationWarning} {category: DEPRECATION} {title: This feature is deprecated and will be removed in future versions.} {description: The query used a deprecated function: `id`.} {position: line: 1, column: 28, offset: 27} for query: 'MATCH (l:Limitation) WHERE id(l) = $limit_id CREATE (r:RangeLimit $props) MERGE (l)-[:HAS_MAX_LIMIT]->(r)'\n",
            "WARNING:neo4j.notifications:Received notification from DBMS server: {severity: WARNING} {code: Neo.ClientNotification.Statement.FeatureDeprecationWarning} {category: DEPRECATION} {title: This feature is deprecated and will be removed in future versions.} {description: The query used a deprecated function: `id`.} {position: line: 1, column: 28, offset: 27} for query: 'MATCH (l:Limitation) WHERE id(l) = $limit_id MATCH (s:Specification {id: $spec_id}) MERGE (l)-[:LIMITS_SPECIFICATION]->(s)'\n",
            "WARNING:neo4j.notifications:Received notification from DBMS server: {severity: WARNING} {code: Neo.ClientNotification.Statement.FeatureDeprecationWarning} {category: DEPRECATION} {title: This feature is deprecated and will be removed in future versions.} {description: The query used a deprecated function: `id`.} {position: line: 1, column: 182, offset: 181} for query: 'MATCH (t:Tool {model_number: $model}) MERGE (l:Limitation {description: $description, warning_type: $warning_type}) ON CREATE SET l.id = $id MERGE (t)-[:HAS_LIMITATION]->(l) RETURN id(l) as limit_id'\n",
            "WARNING:neo4j.notifications:Received notification from DBMS server: {severity: WARNING} {code: Neo.ClientNotification.Statement.FeatureDeprecationWarning} {category: DEPRECATION} {title: This feature is deprecated and will be removed in future versions.} {description: The query used a deprecated function: `id`.} {position: line: 1, column: 28, offset: 27} for query: 'MATCH (l:Limitation) WHERE id(l) = $limit_id MERGE (r:RangeLimit {name: $name, value: $value, unit: $unit, limit_type: $limit_type}) MERGE (l)-[:HAS_MIN_LIMIT]->(r)'\n",
            "WARNING:neo4j.notifications:Received notification from DBMS server: {severity: WARNING} {code: Neo.ClientNotification.Statement.FeatureDeprecationWarning} {category: DEPRECATION} {title: This feature is deprecated and will be removed in future versions.} {description: The query used a deprecated function: `id`.} {position: line: 1, column: 28, offset: 27} for query: 'MATCH (l:Limitation) WHERE id(l) = $limit_id CREATE (r:RangeLimit $props) MERGE (l)-[:HAS_MAX_LIMIT]->(r)'\n",
            "WARNING:neo4j.notifications:Received notification from DBMS server: {severity: WARNING} {code: Neo.ClientNotification.Statement.FeatureDeprecationWarning} {category: DEPRECATION} {title: This feature is deprecated and will be removed in future versions.} {description: The query used a deprecated function: `id`.} {position: line: 1, column: 28, offset: 27} for query: 'MATCH (l:Limitation) WHERE id(l) = $limit_id MATCH (s:Specification {id: $spec_id}) MERGE (l)-[:LIMITS_SPECIFICATION]->(s)'\n",
            "WARNING:neo4j.notifications:Received notification from DBMS server: {severity: WARNING} {code: Neo.ClientNotification.Statement.FeatureDeprecationWarning} {category: DEPRECATION} {title: This feature is deprecated and will be removed in future versions.} {description: The query used a deprecated function: `id`.} {position: line: 1, column: 182, offset: 181} for query: 'MATCH (t:Tool {model_number: $model}) MERGE (l:Limitation {description: $description, warning_type: $warning_type}) ON CREATE SET l.id = $id MERGE (t)-[:HAS_LIMITATION]->(l) RETURN id(l) as limit_id'\n",
            "WARNING:neo4j.notifications:Received notification from DBMS server: {severity: WARNING} {code: Neo.ClientNotification.Statement.FeatureDeprecationWarning} {category: DEPRECATION} {title: This feature is deprecated and will be removed in future versions.} {description: The query used a deprecated function: `id`.} {position: line: 1, column: 28, offset: 27} for query: 'MATCH (l:Limitation) WHERE id(l) = $limit_id MERGE (r:RangeLimit {name: $name, value: $value, unit: $unit, limit_type: $limit_type}) MERGE (l)-[:HAS_MIN_LIMIT]->(r)'\n",
            "WARNING:neo4j.notifications:Received notification from DBMS server: {severity: WARNING} {code: Neo.ClientNotification.Statement.FeatureDeprecationWarning} {category: DEPRECATION} {title: This feature is deprecated and will be removed in future versions.} {description: The query used a deprecated function: `id`.} {position: line: 1, column: 28, offset: 27} for query: 'MATCH (l:Limitation) WHERE id(l) = $limit_id CREATE (r:RangeLimit $props) MERGE (l)-[:HAS_MAX_LIMIT]->(r)'\n",
            "WARNING:neo4j.notifications:Received notification from DBMS server: {severity: WARNING} {code: Neo.ClientNotification.Statement.FeatureDeprecationWarning} {category: DEPRECATION} {title: This feature is deprecated and will be removed in future versions.} {description: The query used a deprecated function: `id`.} {position: line: 1, column: 28, offset: 27} for query: 'MATCH (l:Limitation) WHERE id(l) = $limit_id MATCH (s:Specification {id: $spec_id}) MERGE (l)-[:LIMITS_SPECIFICATION]->(s)'\n",
            "WARNING:neo4j.notifications:Received notification from DBMS server: {severity: WARNING} {code: Neo.ClientNotification.Statement.FeatureDeprecationWarning} {category: DEPRECATION} {title: This feature is deprecated and will be removed in future versions.} {description: The query used a deprecated function: `id`.} {position: line: 1, column: 182, offset: 181} for query: 'MATCH (t:Tool {model_number: $model}) MERGE (l:Limitation {description: $description, warning_type: $warning_type}) ON CREATE SET l.id = $id MERGE (t)-[:HAS_LIMITATION]->(l) RETURN id(l) as limit_id'\n",
            "WARNING:neo4j.notifications:Received notification from DBMS server: {severity: WARNING} {code: Neo.ClientNotification.Statement.FeatureDeprecationWarning} {category: DEPRECATION} {title: This feature is deprecated and will be removed in future versions.} {description: The query used a deprecated function: `id`.} {position: line: 1, column: 150, offset: 149} for query: 'MATCH (t:Tool {model_number: $model}) MERGE (s:Specification {name: $spec_name}) ON CREATE SET s = $props MERGE (t)-[:HAS_SPECIFICATION]->(s) RETURN id(s) as spec_id'\n",
            "WARNING:neo4j.notifications:Received notification from DBMS server: {severity: WARNING} {code: Neo.ClientNotification.Statement.FeatureDeprecationWarning} {category: DEPRECATION} {title: This feature is deprecated and will be removed in future versions.} {description: The query used a deprecated function: `id`.} {position: line: 1, column: 31, offset: 30} for query: 'MATCH (s:Specification) WHERE id(s) = $spec_id MERGE (u:Unit {symbol: $symbol}) ON CREATE SET u.name = $name MERGE (s)-[:HAS_UNIT]->(u)'\n",
            "WARNING:neo4j.notifications:Received notification from DBMS server: {severity: WARNING} {code: Neo.ClientNotification.Statement.FeatureDeprecationWarning} {category: DEPRECATION} {title: This feature is deprecated and will be removed in future versions.} {description: The query used a deprecated function: `id`.} {position: line: 1, column: 31, offset: 30} for query: 'MATCH (s:Specification) WHERE id(s) = $spec_id MERGE (l:RangeLimit {name: $limit_name, value: $value, unit: $unit, limit_type: $limit_type}) MERGE (s)-[:HAS_MIN_LIMIT]->(l)'\n",
            "WARNING:neo4j.notifications:Received notification from DBMS server: {severity: WARNING} {code: Neo.ClientNotification.Statement.FeatureDeprecationWarning} {category: DEPRECATION} {title: This feature is deprecated and will be removed in future versions.} {description: The query used a deprecated function: `id`.} {position: line: 1, column: 31, offset: 30} for query: 'MATCH (s:Specification) WHERE id(s) = $spec_id MERGE (l:RangeLimit {name: $limit_name, value: $value, unit: $unit, limit_type: $limit_type}) MERGE (s)-[:HAS_MAX_LIMIT]->(l)'\n",
            "WARNING:neo4j.notifications:Received notification from DBMS server: {severity: WARNING} {code: Neo.ClientNotification.Statement.FeatureDeprecationWarning} {category: DEPRECATION} {title: This feature is deprecated and will be removed in future versions.} {description: The query used a deprecated function: `id`.} {position: line: 1, column: 150, offset: 149} for query: 'MATCH (t:Tool {model_number: $model}) MERGE (s:Specification {name: $spec_name}) ON CREATE SET s = $props MERGE (t)-[:HAS_SPECIFICATION]->(s) RETURN id(s) as spec_id'\n",
            "WARNING:neo4j.notifications:Received notification from DBMS server: {severity: WARNING} {code: Neo.ClientNotification.Statement.FeatureDeprecationWarning} {category: DEPRECATION} {title: This feature is deprecated and will be removed in future versions.} {description: The query used a deprecated function: `id`.} {position: line: 1, column: 31, offset: 30} for query: 'MATCH (s:Specification) WHERE id(s) = $spec_id MERGE (u:Unit {symbol: $symbol}) ON CREATE SET u.name = $name MERGE (s)-[:HAS_UNIT]->(u)'\n",
            "WARNING:neo4j.notifications:Received notification from DBMS server: {severity: WARNING} {code: Neo.ClientNotification.Statement.FeatureDeprecationWarning} {category: DEPRECATION} {title: This feature is deprecated and will be removed in future versions.} {description: The query used a deprecated function: `id`.} {position: line: 1, column: 150, offset: 149} for query: 'MATCH (t:Tool {model_number: $model}) MERGE (s:Specification {name: $spec_name}) ON CREATE SET s = $props MERGE (t)-[:HAS_SPECIFICATION]->(s) RETURN id(s) as spec_id'\n",
            "WARNING:neo4j.notifications:Received notification from DBMS server: {severity: WARNING} {code: Neo.ClientNotification.Statement.FeatureDeprecationWarning} {category: DEPRECATION} {title: This feature is deprecated and will be removed in future versions.} {description: The query used a deprecated function: `id`.} {position: line: 1, column: 150, offset: 149} for query: 'MATCH (t:Tool {model_number: $model}) MERGE (s:Specification {name: $spec_name}) ON CREATE SET s = $props MERGE (t)-[:HAS_SPECIFICATION]->(s) RETURN id(s) as spec_id'\n",
            "WARNING:neo4j.notifications:Received notification from DBMS server: {severity: WARNING} {code: Neo.ClientNotification.Statement.FeatureDeprecationWarning} {category: DEPRECATION} {title: This feature is deprecated and will be removed in future versions.} {description: The query used a deprecated function: `id`.} {position: line: 1, column: 150, offset: 149} for query: 'MATCH (t:Tool {model_number: $model}) MERGE (s:Specification {name: $spec_name}) ON CREATE SET s = $props MERGE (t)-[:HAS_SPECIFICATION]->(s) RETURN id(s) as spec_id'\n",
            "WARNING:neo4j.notifications:Received notification from DBMS server: {severity: WARNING} {code: Neo.ClientNotification.Statement.FeatureDeprecationWarning} {category: DEPRECATION} {title: This feature is deprecated and will be removed in future versions.} {description: The query used a deprecated function: `id`.} {position: line: 1, column: 150, offset: 149} for query: 'MATCH (t:Tool {model_number: $model}) MERGE (s:Specification {name: $spec_name}) ON CREATE SET s = $props MERGE (t)-[:HAS_SPECIFICATION]->(s) RETURN id(s) as spec_id'\n",
            "WARNING:neo4j.notifications:Received notification from DBMS server: {severity: WARNING} {code: Neo.ClientNotification.Statement.FeatureDeprecationWarning} {category: DEPRECATION} {title: This feature is deprecated and will be removed in future versions.} {description: The query used a deprecated function: `id`.} {position: line: 1, column: 150, offset: 149} for query: 'MATCH (t:Tool {model_number: $model}) MERGE (s:Specification {name: $spec_name}) ON CREATE SET s = $props MERGE (t)-[:HAS_SPECIFICATION]->(s) RETURN id(s) as spec_id'\n",
            "WARNING:neo4j.notifications:Received notification from DBMS server: {severity: WARNING} {code: Neo.ClientNotification.Statement.FeatureDeprecationWarning} {category: DEPRECATION} {title: This feature is deprecated and will be removed in future versions.} {description: The query used a deprecated function: `id`.} {position: line: 1, column: 150, offset: 149} for query: 'MATCH (t:Tool {model_number: $model}) MERGE (s:Specification {name: $spec_name}) ON CREATE SET s = $props MERGE (t)-[:HAS_SPECIFICATION]->(s) RETURN id(s) as spec_id'\n",
            "WARNING:neo4j.notifications:Received notification from DBMS server: {severity: WARNING} {code: Neo.ClientNotification.Statement.FeatureDeprecationWarning} {category: DEPRECATION} {title: This feature is deprecated and will be removed in future versions.} {description: The query used a deprecated function: `id`.} {position: line: 1, column: 150, offset: 149} for query: 'MATCH (t:Tool {model_number: $model}) MERGE (s:Specification {name: $spec_name}) ON CREATE SET s = $props MERGE (t)-[:HAS_SPECIFICATION]->(s) RETURN id(s) as spec_id'\n",
            "WARNING:neo4j.notifications:Received notification from DBMS server: {severity: WARNING} {code: Neo.ClientNotification.Statement.FeatureDeprecationWarning} {category: DEPRECATION} {title: This feature is deprecated and will be removed in future versions.} {description: The query used a deprecated function: `id`.} {position: line: 1, column: 150, offset: 149} for query: 'MATCH (t:Tool {model_number: $model}) MERGE (s:Specification {name: $spec_name}) ON CREATE SET s = $props MERGE (t)-[:HAS_SPECIFICATION]->(s) RETURN id(s) as spec_id'\n",
            "WARNING:neo4j.notifications:Received notification from DBMS server: {severity: WARNING} {code: Neo.ClientNotification.Statement.FeatureDeprecationWarning} {category: DEPRECATION} {title: This feature is deprecated and will be removed in future versions.} {description: The query used a deprecated function: `id`.} {position: line: 1, column: 150, offset: 149} for query: 'MATCH (t:Tool {model_number: $model}) MERGE (s:Specification {name: $spec_name}) ON CREATE SET s = $props MERGE (t)-[:HAS_SPECIFICATION]->(s) RETURN id(s) as spec_id'\n",
            "WARNING:neo4j.notifications:Received notification from DBMS server: {severity: WARNING} {code: Neo.ClientNotification.Statement.FeatureDeprecationWarning} {category: DEPRECATION} {title: This feature is deprecated and will be removed in future versions.} {description: The query used a deprecated function: `id`.} {position: line: 1, column: 150, offset: 149} for query: 'MATCH (t:Tool {model_number: $model}) MERGE (s:Specification {name: $spec_name}) ON CREATE SET s = $props MERGE (t)-[:HAS_SPECIFICATION]->(s) RETURN id(s) as spec_id'\n",
            "WARNING:neo4j.notifications:Received notification from DBMS server: {severity: WARNING} {code: Neo.ClientNotification.Statement.FeatureDeprecationWarning} {category: DEPRECATION} {title: This feature is deprecated and will be removed in future versions.} {description: The query used a deprecated function: `id`.} {position: line: 1, column: 31, offset: 30} for query: 'MATCH (s:Specification) WHERE id(s) = $spec_id MERGE (u:Unit {symbol: $symbol}) ON CREATE SET u.name = $name MERGE (s)-[:HAS_UNIT]->(u)'\n",
            "WARNING:neo4j.notifications:Received notification from DBMS server: {severity: WARNING} {code: Neo.ClientNotification.Statement.FeatureDeprecationWarning} {category: DEPRECATION} {title: This feature is deprecated and will be removed in future versions.} {description: The query used a deprecated function: `id`.} {position: line: 1, column: 150, offset: 149} for query: 'MATCH (t:Tool {model_number: $model}) MERGE (s:Specification {name: $spec_name}) ON CREATE SET s = $props MERGE (t)-[:HAS_SPECIFICATION]->(s) RETURN id(s) as spec_id'\n",
            "WARNING:neo4j.notifications:Received notification from DBMS server: {severity: WARNING} {code: Neo.ClientNotification.Statement.FeatureDeprecationWarning} {category: DEPRECATION} {title: This feature is deprecated and will be removed in future versions.} {description: The query used a deprecated function: `id`.} {position: line: 1, column: 150, offset: 149} for query: 'MATCH (t:Tool {model_number: $model}) MERGE (s:Specification {name: $spec_name}) ON CREATE SET s = $props MERGE (t)-[:HAS_SPECIFICATION]->(s) RETURN id(s) as spec_id'\n",
            "WARNING:neo4j.notifications:Received notification from DBMS server: {severity: WARNING} {code: Neo.ClientNotification.Statement.FeatureDeprecationWarning} {category: DEPRECATION} {title: This feature is deprecated and will be removed in future versions.} {description: The query used a deprecated function: `id`.} {position: line: 1, column: 150, offset: 149} for query: 'MATCH (t:Tool {model_number: $model}) MERGE (s:Specification {name: $spec_name}) ON CREATE SET s = $props MERGE (t)-[:HAS_SPECIFICATION]->(s) RETURN id(s) as spec_id'\n",
            "WARNING:neo4j.notifications:Received notification from DBMS server: {severity: WARNING} {code: Neo.ClientNotification.Statement.FeatureDeprecationWarning} {category: DEPRECATION} {title: This feature is deprecated and will be removed in future versions.} {description: The query used a deprecated function: `id`.} {position: line: 1, column: 31, offset: 30} for query: 'MATCH (s:Specification) WHERE id(s) = $spec_id MERGE (u:Unit {symbol: $symbol}) ON CREATE SET u.name = $name MERGE (s)-[:HAS_UNIT]->(u)'\n",
            "WARNING:neo4j.notifications:Received notification from DBMS server: {severity: WARNING} {code: Neo.ClientNotification.Statement.FeatureDeprecationWarning} {category: DEPRECATION} {title: This feature is deprecated and will be removed in future versions.} {description: The query used a deprecated function: `id`.} {position: line: 1, column: 150, offset: 149} for query: 'MATCH (t:Tool {model_number: $model}) MERGE (s:Specification {name: $spec_name}) ON CREATE SET s = $props MERGE (t)-[:HAS_SPECIFICATION]->(s) RETURN id(s) as spec_id'\n",
            "WARNING:neo4j.notifications:Received notification from DBMS server: {severity: WARNING} {code: Neo.ClientNotification.Statement.FeatureDeprecationWarning} {category: DEPRECATION} {title: This feature is deprecated and will be removed in future versions.} {description: The query used a deprecated function: `id`.} {position: line: 1, column: 31, offset: 30} for query: 'MATCH (s:Specification) WHERE id(s) = $spec_id MERGE (u:Unit {symbol: $symbol}) ON CREATE SET u.name = $name MERGE (s)-[:HAS_UNIT]->(u)'\n",
            "WARNING:neo4j.notifications:Received notification from DBMS server: {severity: WARNING} {code: Neo.ClientNotification.Statement.FeatureDeprecationWarning} {category: DEPRECATION} {title: This feature is deprecated and will be removed in future versions.} {description: The query used a deprecated function: `id`.} {position: line: 1, column: 150, offset: 149} for query: 'MATCH (t:Tool {model_number: $model}) MERGE (s:Specification {name: $spec_name}) ON CREATE SET s = $props MERGE (t)-[:HAS_SPECIFICATION]->(s) RETURN id(s) as spec_id'\n",
            "WARNING:neo4j.notifications:Received notification from DBMS server: {severity: WARNING} {code: Neo.ClientNotification.Statement.FeatureDeprecationWarning} {category: DEPRECATION} {title: This feature is deprecated and will be removed in future versions.} {description: The query used a deprecated function: `id`.} {position: line: 1, column: 31, offset: 30} for query: 'MATCH (s:Specification) WHERE id(s) = $spec_id MERGE (u:Unit {symbol: $symbol}) ON CREATE SET u.name = $name MERGE (s)-[:HAS_UNIT]->(u)'\n",
            "WARNING:neo4j.notifications:Received notification from DBMS server: {severity: WARNING} {code: Neo.ClientNotification.Statement.FeatureDeprecationWarning} {category: DEPRECATION} {title: This feature is deprecated and will be removed in future versions.} {description: The query used a deprecated function: `id`.} {position: line: 1, column: 150, offset: 149} for query: 'MATCH (t:Tool {model_number: $model}) MERGE (s:Specification {name: $spec_name}) ON CREATE SET s = $props MERGE (t)-[:HAS_SPECIFICATION]->(s) RETURN id(s) as spec_id'\n",
            "WARNING:neo4j.notifications:Received notification from DBMS server: {severity: WARNING} {code: Neo.ClientNotification.Statement.FeatureDeprecationWarning} {category: DEPRECATION} {title: This feature is deprecated and will be removed in future versions.} {description: The query used a deprecated function: `id`.} {position: line: 1, column: 150, offset: 149} for query: 'MATCH (t:Tool {model_number: $model}) MERGE (s:Specification {name: $spec_name}) ON CREATE SET s = $props MERGE (t)-[:HAS_SPECIFICATION]->(s) RETURN id(s) as spec_id'\n",
            "WARNING:neo4j.notifications:Received notification from DBMS server: {severity: WARNING} {code: Neo.ClientNotification.Statement.FeatureDeprecationWarning} {category: DEPRECATION} {title: This feature is deprecated and will be removed in future versions.} {description: The query used a deprecated function: `id`.} {position: line: 1, column: 31, offset: 30} for query: 'MATCH (s:Specification) WHERE id(s) = $spec_id MERGE (u:Unit {symbol: $symbol}) ON CREATE SET u.name = $name MERGE (s)-[:HAS_UNIT]->(u)'\n",
            "WARNING:neo4j.notifications:Received notification from DBMS server: {severity: WARNING} {code: Neo.ClientNotification.Statement.FeatureDeprecationWarning} {category: DEPRECATION} {title: This feature is deprecated and will be removed in future versions.} {description: The query used a deprecated function: `id`.} {position: line: 1, column: 150, offset: 149} for query: 'MATCH (t:Tool {model_number: $model}) MERGE (s:Specification {name: $spec_name}) ON CREATE SET s = $props MERGE (t)-[:HAS_SPECIFICATION]->(s) RETURN id(s) as spec_id'\n",
            "WARNING:neo4j.notifications:Received notification from DBMS server: {severity: WARNING} {code: Neo.ClientNotification.Statement.FeatureDeprecationWarning} {category: DEPRECATION} {title: This feature is deprecated and will be removed in future versions.} {description: The query used a deprecated function: `id`.} {position: line: 1, column: 31, offset: 30} for query: 'MATCH (s:Specification) WHERE id(s) = $spec_id MERGE (u:Unit {symbol: $symbol}) ON CREATE SET u.name = $name MERGE (s)-[:HAS_UNIT]->(u)'\n",
            "WARNING:neo4j.notifications:Received notification from DBMS server: {severity: WARNING} {code: Neo.ClientNotification.Statement.FeatureDeprecationWarning} {category: DEPRECATION} {title: This feature is deprecated and will be removed in future versions.} {description: The query used a deprecated function: `id`.} {position: line: 1, column: 150, offset: 149} for query: 'MATCH (t:Tool {model_number: $model}) MERGE (s:Specification {name: $spec_name}) ON CREATE SET s = $props MERGE (t)-[:HAS_SPECIFICATION]->(s) RETURN id(s) as spec_id'\n",
            "WARNING:neo4j.notifications:Received notification from DBMS server: {severity: WARNING} {code: Neo.ClientNotification.Statement.FeatureDeprecationWarning} {category: DEPRECATION} {title: This feature is deprecated and will be removed in future versions.} {description: The query used a deprecated function: `id`.} {position: line: 1, column: 150, offset: 149} for query: 'MATCH (t:Tool {model_number: $model}) MERGE (s:Specification {name: $spec_name}) ON CREATE SET s = $props MERGE (t)-[:HAS_SPECIFICATION]->(s) RETURN id(s) as spec_id'\n",
            "WARNING:neo4j.notifications:Received notification from DBMS server: {severity: WARNING} {code: Neo.ClientNotification.Statement.FeatureDeprecationWarning} {category: DEPRECATION} {title: This feature is deprecated and will be removed in future versions.} {description: The query used a deprecated function: `id`.} {position: line: 1, column: 31, offset: 30} for query: 'MATCH (s:Specification) WHERE id(s) = $spec_id MERGE (l:RangeLimit {name: $limit_name, value: $value, unit: $unit, limit_type: $limit_type}) MERGE (s)-[:HAS_MIN_LIMIT]->(l)'\n",
            "WARNING:neo4j.notifications:Received notification from DBMS server: {severity: WARNING} {code: Neo.ClientNotification.Statement.FeatureDeprecationWarning} {category: DEPRECATION} {title: This feature is deprecated and will be removed in future versions.} {description: The query used a deprecated function: `id`.} {position: line: 1, column: 31, offset: 30} for query: 'MATCH (s:Specification) WHERE id(s) = $spec_id MERGE (l:RangeLimit {name: $limit_name, value: $value, unit: $unit, limit_type: $limit_type}) MERGE (s)-[:HAS_MAX_LIMIT]->(l)'\n",
            "WARNING:neo4j.notifications:Received notification from DBMS server: {severity: WARNING} {code: Neo.ClientNotification.Statement.FeatureDeprecationWarning} {category: DEPRECATION} {title: This feature is deprecated and will be removed in future versions.} {description: The query used a deprecated function: `id`.} {position: line: 1, column: 150, offset: 149} for query: 'MATCH (t:Tool {model_number: $model}) MERGE (s:Specification {name: $spec_name}) ON CREATE SET s = $props MERGE (t)-[:HAS_SPECIFICATION]->(s) RETURN id(s) as spec_id'\n",
            "WARNING:neo4j.notifications:Received notification from DBMS server: {severity: WARNING} {code: Neo.ClientNotification.Statement.FeatureDeprecationWarning} {category: DEPRECATION} {title: This feature is deprecated and will be removed in future versions.} {description: The query used a deprecated function: `id`.} {position: line: 1, column: 31, offset: 30} for query: 'MATCH (s:Specification) WHERE id(s) = $spec_id MERGE (u:Unit {symbol: $symbol}) ON CREATE SET u.name = $name MERGE (s)-[:HAS_UNIT]->(u)'\n",
            "WARNING:neo4j.notifications:Received notification from DBMS server: {severity: WARNING} {code: Neo.ClientNotification.Statement.FeatureDeprecationWarning} {category: DEPRECATION} {title: This feature is deprecated and will be removed in future versions.} {description: The query used a deprecated function: `id`.} {position: line: 1, column: 150, offset: 149} for query: 'MATCH (t:Tool {model_number: $model}) MERGE (s:Specification {name: $spec_name}) ON CREATE SET s = $props MERGE (t)-[:HAS_SPECIFICATION]->(s) RETURN id(s) as spec_id'\n",
            "WARNING:neo4j.notifications:Received notification from DBMS server: {severity: WARNING} {code: Neo.ClientNotification.Statement.FeatureDeprecationWarning} {category: DEPRECATION} {title: This feature is deprecated and will be removed in future versions.} {description: The query used a deprecated function: `id`.} {position: line: 1, column: 150, offset: 149} for query: 'MATCH (t:Tool {model_number: $model}) MERGE (s:Specification {name: $spec_name}) ON CREATE SET s = $props MERGE (t)-[:HAS_SPECIFICATION]->(s) RETURN id(s) as spec_id'\n",
            "WARNING:neo4j.notifications:Received notification from DBMS server: {severity: WARNING} {code: Neo.ClientNotification.Statement.FeatureDeprecationWarning} {category: DEPRECATION} {title: This feature is deprecated and will be removed in future versions.} {description: The query used a deprecated function: `id`.} {position: line: 1, column: 182, offset: 181} for query: 'MATCH (t:Tool {model_number: $model}) MERGE (l:Limitation {description: $description, warning_type: $warning_type}) ON CREATE SET l.id = $id MERGE (t)-[:HAS_LIMITATION]->(l) RETURN id(l) as limit_id'\n",
            "WARNING:neo4j.notifications:Received notification from DBMS server: {severity: WARNING} {code: Neo.ClientNotification.Statement.FeatureDeprecationWarning} {category: DEPRECATION} {title: This feature is deprecated and will be removed in future versions.} {description: The query used a deprecated function: `id`.} {position: line: 1, column: 28, offset: 27} for query: 'MATCH (l:Limitation) WHERE id(l) = $limit_id MERGE (r:RangeLimit {name: $name, value: $value, unit: $unit, limit_type: $limit_type}) MERGE (l)-[:HAS_MIN_LIMIT]->(r)'\n",
            "WARNING:neo4j.notifications:Received notification from DBMS server: {severity: WARNING} {code: Neo.ClientNotification.Statement.FeatureDeprecationWarning} {category: DEPRECATION} {title: This feature is deprecated and will be removed in future versions.} {description: The query used a deprecated function: `id`.} {position: line: 1, column: 28, offset: 27} for query: 'MATCH (l:Limitation) WHERE id(l) = $limit_id CREATE (r:RangeLimit $props) MERGE (l)-[:HAS_MAX_LIMIT]->(r)'\n",
            "WARNING:neo4j.notifications:Received notification from DBMS server: {severity: WARNING} {code: Neo.ClientNotification.Statement.FeatureDeprecationWarning} {category: DEPRECATION} {title: This feature is deprecated and will be removed in future versions.} {description: The query used a deprecated function: `id`.} {position: line: 1, column: 28, offset: 27} for query: 'MATCH (l:Limitation) WHERE id(l) = $limit_id MATCH (s:Specification {id: $spec_id}) MERGE (l)-[:LIMITS_SPECIFICATION]->(s)'\n",
            "WARNING:neo4j.notifications:Received notification from DBMS server: {severity: WARNING} {code: Neo.ClientNotification.Statement.FeatureDeprecationWarning} {category: DEPRECATION} {title: This feature is deprecated and will be removed in future versions.} {description: The query used a deprecated function: `id`.} {position: line: 1, column: 182, offset: 181} for query: 'MATCH (t:Tool {model_number: $model}) MERGE (l:Limitation {description: $description, warning_type: $warning_type}) ON CREATE SET l.id = $id MERGE (t)-[:HAS_LIMITATION]->(l) RETURN id(l) as limit_id'\n",
            "WARNING:neo4j.notifications:Received notification from DBMS server: {severity: WARNING} {code: Neo.ClientNotification.Statement.FeatureDeprecationWarning} {category: DEPRECATION} {title: This feature is deprecated and will be removed in future versions.} {description: The query used a deprecated function: `id`.} {position: line: 1, column: 28, offset: 27} for query: 'MATCH (l:Limitation) WHERE id(l) = $limit_id MERGE (r:RangeLimit {name: $name, value: $value, unit: $unit, limit_type: $limit_type}) MERGE (l)-[:HAS_MIN_LIMIT]->(r)'\n",
            "WARNING:neo4j.notifications:Received notification from DBMS server: {severity: WARNING} {code: Neo.ClientNotification.Statement.FeatureDeprecationWarning} {category: DEPRECATION} {title: This feature is deprecated and will be removed in future versions.} {description: The query used a deprecated function: `id`.} {position: line: 1, column: 28, offset: 27} for query: 'MATCH (l:Limitation) WHERE id(l) = $limit_id CREATE (r:RangeLimit $props) MERGE (l)-[:HAS_MAX_LIMIT]->(r)'\n",
            "WARNING:neo4j.notifications:Received notification from DBMS server: {severity: WARNING} {code: Neo.ClientNotification.Statement.FeatureDeprecationWarning} {category: DEPRECATION} {title: This feature is deprecated and will be removed in future versions.} {description: The query used a deprecated function: `id`.} {position: line: 1, column: 28, offset: 27} for query: 'MATCH (l:Limitation) WHERE id(l) = $limit_id MATCH (s:Specification {id: $spec_id}) MERGE (l)-[:LIMITS_SPECIFICATION]->(s)'\n",
            "WARNING:neo4j.notifications:Received notification from DBMS server: {severity: WARNING} {code: Neo.ClientNotification.Statement.FeatureDeprecationWarning} {category: DEPRECATION} {title: This feature is deprecated and will be removed in future versions.} {description: The query used a deprecated function: `id`.} {position: line: 1, column: 182, offset: 181} for query: 'MATCH (t:Tool {model_number: $model}) MERGE (l:Limitation {description: $description, warning_type: $warning_type}) ON CREATE SET l.id = $id MERGE (t)-[:HAS_LIMITATION]->(l) RETURN id(l) as limit_id'\n",
            "WARNING:neo4j.notifications:Received notification from DBMS server: {severity: WARNING} {code: Neo.ClientNotification.Statement.FeatureDeprecationWarning} {category: DEPRECATION} {title: This feature is deprecated and will be removed in future versions.} {description: The query used a deprecated function: `id`.} {position: line: 1, column: 150, offset: 149} for query: 'MATCH (t:Tool {model_number: $model}) MERGE (s:Specification {name: $spec_name}) ON CREATE SET s = $props MERGE (t)-[:HAS_SPECIFICATION]->(s) RETURN id(s) as spec_id'\n",
            "WARNING:neo4j.notifications:Received notification from DBMS server: {severity: WARNING} {code: Neo.ClientNotification.Statement.FeatureDeprecationWarning} {category: DEPRECATION} {title: This feature is deprecated and will be removed in future versions.} {description: The query used a deprecated function: `id`.} {position: line: 1, column: 31, offset: 30} for query: 'MATCH (s:Specification) WHERE id(s) = $spec_id MERGE (u:Unit {symbol: $symbol}) ON CREATE SET u.name = $name MERGE (s)-[:HAS_UNIT]->(u)'\n",
            "WARNING:neo4j.notifications:Received notification from DBMS server: {severity: WARNING} {code: Neo.ClientNotification.Statement.FeatureDeprecationWarning} {category: DEPRECATION} {title: This feature is deprecated and will be removed in future versions.} {description: The query used a deprecated function: `id`.} {position: line: 1, column: 31, offset: 30} for query: 'MATCH (s:Specification) WHERE id(s) = $spec_id MERGE (l:RangeLimit {name: $limit_name, value: $value, unit: $unit, limit_type: $limit_type}) MERGE (s)-[:HAS_MIN_LIMIT]->(l)'\n",
            "WARNING:neo4j.notifications:Received notification from DBMS server: {severity: WARNING} {code: Neo.ClientNotification.Statement.FeatureDeprecationWarning} {category: DEPRECATION} {title: This feature is deprecated and will be removed in future versions.} {description: The query used a deprecated function: `id`.} {position: line: 1, column: 31, offset: 30} for query: 'MATCH (s:Specification) WHERE id(s) = $spec_id MERGE (l:RangeLimit {name: $limit_name, value: $value, unit: $unit, limit_type: $limit_type}) MERGE (s)-[:HAS_MAX_LIMIT]->(l)'\n",
            "WARNING:neo4j.notifications:Received notification from DBMS server: {severity: WARNING} {code: Neo.ClientNotification.Statement.FeatureDeprecationWarning} {category: DEPRECATION} {title: This feature is deprecated and will be removed in future versions.} {description: The query used a deprecated function: `id`.} {position: line: 1, column: 150, offset: 149} for query: 'MATCH (t:Tool {model_number: $model}) MERGE (s:Specification {name: $spec_name}) ON CREATE SET s = $props MERGE (t)-[:HAS_SPECIFICATION]->(s) RETURN id(s) as spec_id'\n",
            "WARNING:neo4j.notifications:Received notification from DBMS server: {severity: WARNING} {code: Neo.ClientNotification.Statement.FeatureDeprecationWarning} {category: DEPRECATION} {title: This feature is deprecated and will be removed in future versions.} {description: The query used a deprecated function: `id`.} {position: line: 1, column: 150, offset: 149} for query: 'MATCH (t:Tool {model_number: $model}) MERGE (s:Specification {name: $spec_name}) ON CREATE SET s = $props MERGE (t)-[:HAS_SPECIFICATION]->(s) RETURN id(s) as spec_id'\n",
            "WARNING:neo4j.notifications:Received notification from DBMS server: {severity: WARNING} {code: Neo.ClientNotification.Statement.FeatureDeprecationWarning} {category: DEPRECATION} {title: This feature is deprecated and will be removed in future versions.} {description: The query used a deprecated function: `id`.} {position: line: 1, column: 150, offset: 149} for query: 'MATCH (t:Tool {model_number: $model}) MERGE (s:Specification {name: $spec_name}) ON CREATE SET s = $props MERGE (t)-[:HAS_SPECIFICATION]->(s) RETURN id(s) as spec_id'\n",
            "WARNING:neo4j.notifications:Received notification from DBMS server: {severity: WARNING} {code: Neo.ClientNotification.Statement.FeatureDeprecationWarning} {category: DEPRECATION} {title: This feature is deprecated and will be removed in future versions.} {description: The query used a deprecated function: `id`.} {position: line: 1, column: 150, offset: 149} for query: 'MATCH (t:Tool {model_number: $model}) MERGE (s:Specification {name: $spec_name}) ON CREATE SET s = $props MERGE (t)-[:HAS_SPECIFICATION]->(s) RETURN id(s) as spec_id'\n",
            "WARNING:neo4j.notifications:Received notification from DBMS server: {severity: WARNING} {code: Neo.ClientNotification.Statement.FeatureDeprecationWarning} {category: DEPRECATION} {title: This feature is deprecated and will be removed in future versions.} {description: The query used a deprecated function: `id`.} {position: line: 1, column: 150, offset: 149} for query: 'MATCH (t:Tool {model_number: $model}) MERGE (s:Specification {name: $spec_name}) ON CREATE SET s = $props MERGE (t)-[:HAS_SPECIFICATION]->(s) RETURN id(s) as spec_id'\n",
            "WARNING:neo4j.notifications:Received notification from DBMS server: {severity: WARNING} {code: Neo.ClientNotification.Statement.FeatureDeprecationWarning} {category: DEPRECATION} {title: This feature is deprecated and will be removed in future versions.} {description: The query used a deprecated function: `id`.} {position: line: 1, column: 150, offset: 149} for query: 'MATCH (t:Tool {model_number: $model}) MERGE (s:Specification {name: $spec_name}) ON CREATE SET s = $props MERGE (t)-[:HAS_SPECIFICATION]->(s) RETURN id(s) as spec_id'\n",
            "WARNING:neo4j.notifications:Received notification from DBMS server: {severity: WARNING} {code: Neo.ClientNotification.Statement.FeatureDeprecationWarning} {category: DEPRECATION} {title: This feature is deprecated and will be removed in future versions.} {description: The query used a deprecated function: `id`.} {position: line: 1, column: 150, offset: 149} for query: 'MATCH (t:Tool {model_number: $model}) MERGE (s:Specification {name: $spec_name}) ON CREATE SET s = $props MERGE (t)-[:HAS_SPECIFICATION]->(s) RETURN id(s) as spec_id'\n",
            "WARNING:neo4j.notifications:Received notification from DBMS server: {severity: WARNING} {code: Neo.ClientNotification.Statement.FeatureDeprecationWarning} {category: DEPRECATION} {title: This feature is deprecated and will be removed in future versions.} {description: The query used a deprecated function: `id`.} {position: line: 1, column: 150, offset: 149} for query: 'MATCH (t:Tool {model_number: $model}) MERGE (s:Specification {name: $spec_name}) ON CREATE SET s = $props MERGE (t)-[:HAS_SPECIFICATION]->(s) RETURN id(s) as spec_id'\n",
            "WARNING:neo4j.notifications:Received notification from DBMS server: {severity: WARNING} {code: Neo.ClientNotification.Statement.FeatureDeprecationWarning} {category: DEPRECATION} {title: This feature is deprecated and will be removed in future versions.} {description: The query used a deprecated function: `id`.} {position: line: 1, column: 31, offset: 30} for query: 'MATCH (s:Specification) WHERE id(s) = $spec_id MERGE (u:Unit {symbol: $symbol}) ON CREATE SET u.name = $name MERGE (s)-[:HAS_UNIT]->(u)'\n",
            "WARNING:neo4j.notifications:Received notification from DBMS server: {severity: WARNING} {code: Neo.ClientNotification.Statement.FeatureDeprecationWarning} {category: DEPRECATION} {title: This feature is deprecated and will be removed in future versions.} {description: The query used a deprecated function: `id`.} {position: line: 1, column: 150, offset: 149} for query: 'MATCH (t:Tool {model_number: $model}) MERGE (s:Specification {name: $spec_name}) ON CREATE SET s = $props MERGE (t)-[:HAS_SPECIFICATION]->(s) RETURN id(s) as spec_id'\n",
            "WARNING:neo4j.notifications:Received notification from DBMS server: {severity: WARNING} {code: Neo.ClientNotification.Statement.FeatureDeprecationWarning} {category: DEPRECATION} {title: This feature is deprecated and will be removed in future versions.} {description: The query used a deprecated function: `id`.} {position: line: 1, column: 150, offset: 149} for query: 'MATCH (t:Tool {model_number: $model}) MERGE (s:Specification {name: $spec_name}) ON CREATE SET s = $props MERGE (t)-[:HAS_SPECIFICATION]->(s) RETURN id(s) as spec_id'\n",
            "WARNING:neo4j.notifications:Received notification from DBMS server: {severity: WARNING} {code: Neo.ClientNotification.Statement.FeatureDeprecationWarning} {category: DEPRECATION} {title: This feature is deprecated and will be removed in future versions.} {description: The query used a deprecated function: `id`.} {position: line: 1, column: 31, offset: 30} for query: 'MATCH (s:Specification) WHERE id(s) = $spec_id MERGE (u:Unit {symbol: $symbol}) ON CREATE SET u.name = $name MERGE (s)-[:HAS_UNIT]->(u)'\n",
            "WARNING:neo4j.notifications:Received notification from DBMS server: {severity: WARNING} {code: Neo.ClientNotification.Statement.FeatureDeprecationWarning} {category: DEPRECATION} {title: This feature is deprecated and will be removed in future versions.} {description: The query used a deprecated function: `id`.} {position: line: 1, column: 150, offset: 149} for query: 'MATCH (t:Tool {model_number: $model}) MERGE (s:Specification {name: $spec_name}) ON CREATE SET s = $props MERGE (t)-[:HAS_SPECIFICATION]->(s) RETURN id(s) as spec_id'\n",
            "WARNING:neo4j.notifications:Received notification from DBMS server: {severity: WARNING} {code: Neo.ClientNotification.Statement.FeatureDeprecationWarning} {category: DEPRECATION} {title: This feature is deprecated and will be removed in future versions.} {description: The query used a deprecated function: `id`.} {position: line: 1, column: 150, offset: 149} for query: 'MATCH (t:Tool {model_number: $model}) MERGE (s:Specification {name: $spec_name}) ON CREATE SET s = $props MERGE (t)-[:HAS_SPECIFICATION]->(s) RETURN id(s) as spec_id'\n",
            "WARNING:neo4j.notifications:Received notification from DBMS server: {severity: WARNING} {code: Neo.ClientNotification.Statement.FeatureDeprecationWarning} {category: DEPRECATION} {title: This feature is deprecated and will be removed in future versions.} {description: The query used a deprecated function: `id`.} {position: line: 1, column: 31, offset: 30} for query: 'MATCH (s:Specification) WHERE id(s) = $spec_id MERGE (u:Unit {symbol: $symbol}) ON CREATE SET u.name = $name MERGE (s)-[:HAS_UNIT]->(u)'\n",
            "WARNING:neo4j.notifications:Received notification from DBMS server: {severity: WARNING} {code: Neo.ClientNotification.Statement.FeatureDeprecationWarning} {category: DEPRECATION} {title: This feature is deprecated and will be removed in future versions.} {description: The query used a deprecated function: `id`.} {position: line: 1, column: 150, offset: 149} for query: 'MATCH (t:Tool {model_number: $model}) MERGE (s:Specification {name: $spec_name}) ON CREATE SET s = $props MERGE (t)-[:HAS_SPECIFICATION]->(s) RETURN id(s) as spec_id'\n",
            "WARNING:neo4j.notifications:Received notification from DBMS server: {severity: WARNING} {code: Neo.ClientNotification.Statement.FeatureDeprecationWarning} {category: DEPRECATION} {title: This feature is deprecated and will be removed in future versions.} {description: The query used a deprecated function: `id`.} {position: line: 1, column: 150, offset: 149} for query: 'MATCH (t:Tool {model_number: $model}) MERGE (s:Specification {name: $spec_name}) ON CREATE SET s = $props MERGE (t)-[:HAS_SPECIFICATION]->(s) RETURN id(s) as spec_id'\n",
            "WARNING:neo4j.notifications:Received notification from DBMS server: {severity: WARNING} {code: Neo.ClientNotification.Statement.FeatureDeprecationWarning} {category: DEPRECATION} {title: This feature is deprecated and will be removed in future versions.} {description: The query used a deprecated function: `id`.} {position: line: 1, column: 31, offset: 30} for query: 'MATCH (s:Specification) WHERE id(s) = $spec_id MERGE (u:Unit {symbol: $symbol}) ON CREATE SET u.name = $name MERGE (s)-[:HAS_UNIT]->(u)'\n",
            "WARNING:neo4j.notifications:Received notification from DBMS server: {severity: WARNING} {code: Neo.ClientNotification.Statement.FeatureDeprecationWarning} {category: DEPRECATION} {title: This feature is deprecated and will be removed in future versions.} {description: The query used a deprecated function: `id`.} {position: line: 1, column: 150, offset: 149} for query: 'MATCH (t:Tool {model_number: $model}) MERGE (s:Specification {name: $spec_name}) ON CREATE SET s = $props MERGE (t)-[:HAS_SPECIFICATION]->(s) RETURN id(s) as spec_id'\n",
            "WARNING:neo4j.notifications:Received notification from DBMS server: {severity: WARNING} {code: Neo.ClientNotification.Statement.FeatureDeprecationWarning} {category: DEPRECATION} {title: This feature is deprecated and will be removed in future versions.} {description: The query used a deprecated function: `id`.} {position: line: 1, column: 31, offset: 30} for query: 'MATCH (s:Specification) WHERE id(s) = $spec_id MERGE (u:Unit {symbol: $symbol}) ON CREATE SET u.name = $name MERGE (s)-[:HAS_UNIT]->(u)'\n",
            "WARNING:neo4j.notifications:Received notification from DBMS server: {severity: WARNING} {code: Neo.ClientNotification.Statement.FeatureDeprecationWarning} {category: DEPRECATION} {title: This feature is deprecated and will be removed in future versions.} {description: The query used a deprecated function: `id`.} {position: line: 1, column: 150, offset: 149} for query: 'MATCH (t:Tool {model_number: $model}) MERGE (s:Specification {name: $spec_name}) ON CREATE SET s = $props MERGE (t)-[:HAS_SPECIFICATION]->(s) RETURN id(s) as spec_id'\n",
            "WARNING:neo4j.notifications:Received notification from DBMS server: {severity: WARNING} {code: Neo.ClientNotification.Statement.FeatureDeprecationWarning} {category: DEPRECATION} {title: This feature is deprecated and will be removed in future versions.} {description: The query used a deprecated function: `id`.} {position: line: 1, column: 31, offset: 30} for query: 'MATCH (s:Specification) WHERE id(s) = $spec_id MERGE (u:Unit {symbol: $symbol}) ON CREATE SET u.name = $name MERGE (s)-[:HAS_UNIT]->(u)'\n",
            "WARNING:neo4j.notifications:Received notification from DBMS server: {severity: WARNING} {code: Neo.ClientNotification.Statement.FeatureDeprecationWarning} {category: DEPRECATION} {title: This feature is deprecated and will be removed in future versions.} {description: The query used a deprecated function: `id`.} {position: line: 1, column: 182, offset: 181} for query: 'MATCH (t:Tool {model_number: $model}) MERGE (l:Limitation {description: $description, warning_type: $warning_type}) ON CREATE SET l.id = $id MERGE (t)-[:HAS_LIMITATION]->(l) RETURN id(l) as limit_id'\n",
            "WARNING:neo4j.notifications:Received notification from DBMS server: {severity: WARNING} {code: Neo.ClientNotification.Statement.FeatureDeprecationWarning} {category: DEPRECATION} {title: This feature is deprecated and will be removed in future versions.} {description: The query used a deprecated function: `id`.} {position: line: 1, column: 28, offset: 27} for query: 'MATCH (l:Limitation) WHERE id(l) = $limit_id MERGE (r:RangeLimit {name: $name, value: $value, unit: $unit, limit_type: $limit_type}) MERGE (l)-[:HAS_MIN_LIMIT]->(r)'\n",
            "WARNING:neo4j.notifications:Received notification from DBMS server: {severity: WARNING} {code: Neo.ClientNotification.Statement.FeatureDeprecationWarning} {category: DEPRECATION} {title: This feature is deprecated and will be removed in future versions.} {description: The query used a deprecated function: `id`.} {position: line: 1, column: 28, offset: 27} for query: 'MATCH (l:Limitation) WHERE id(l) = $limit_id CREATE (r:RangeLimit $props) MERGE (l)-[:HAS_MAX_LIMIT]->(r)'\n",
            "WARNING:neo4j.notifications:Received notification from DBMS server: {severity: WARNING} {code: Neo.ClientNotification.Statement.FeatureDeprecationWarning} {category: DEPRECATION} {title: This feature is deprecated and will be removed in future versions.} {description: The query used a deprecated function: `id`.} {position: line: 1, column: 28, offset: 27} for query: 'MATCH (l:Limitation) WHERE id(l) = $limit_id MATCH (s:Specification {id: $spec_id}) MERGE (l)-[:LIMITS_SPECIFICATION]->(s)'\n",
            "WARNING:neo4j.notifications:Received notification from DBMS server: {severity: WARNING} {code: Neo.ClientNotification.Statement.FeatureDeprecationWarning} {category: DEPRECATION} {title: This feature is deprecated and will be removed in future versions.} {description: The query used a deprecated function: `id`.} {position: line: 1, column: 150, offset: 149} for query: 'MATCH (t:Tool {model_number: $model}) MERGE (s:Specification {name: $spec_name}) ON CREATE SET s = $props MERGE (t)-[:HAS_SPECIFICATION]->(s) RETURN id(s) as spec_id'\n",
            "WARNING:neo4j.notifications:Received notification from DBMS server: {severity: WARNING} {code: Neo.ClientNotification.Statement.FeatureDeprecationWarning} {category: DEPRECATION} {title: This feature is deprecated and will be removed in future versions.} {description: The query used a deprecated function: `id`.} {position: line: 1, column: 31, offset: 30} for query: 'MATCH (s:Specification) WHERE id(s) = $spec_id MERGE (u:Unit {symbol: $symbol}) ON CREATE SET u.name = $name MERGE (s)-[:HAS_UNIT]->(u)'\n",
            "WARNING:neo4j.notifications:Received notification from DBMS server: {severity: WARNING} {code: Neo.ClientNotification.Statement.FeatureDeprecationWarning} {category: DEPRECATION} {title: This feature is deprecated and will be removed in future versions.} {description: The query used a deprecated function: `id`.} {position: line: 1, column: 31, offset: 30} for query: 'MATCH (s:Specification) WHERE id(s) = $spec_id MERGE (l:RangeLimit {name: $limit_name, value: $value, unit: $unit, limit_type: $limit_type}) MERGE (s)-[:HAS_MIN_LIMIT]->(l)'\n",
            "WARNING:neo4j.notifications:Received notification from DBMS server: {severity: WARNING} {code: Neo.ClientNotification.Statement.FeatureDeprecationWarning} {category: DEPRECATION} {title: This feature is deprecated and will be removed in future versions.} {description: The query used a deprecated function: `id`.} {position: line: 1, column: 31, offset: 30} for query: 'MATCH (s:Specification) WHERE id(s) = $spec_id MERGE (l:RangeLimit {name: $limit_name, value: $value, unit: $unit, limit_type: $limit_type}) MERGE (s)-[:HAS_MAX_LIMIT]->(l)'\n",
            "WARNING:neo4j.notifications:Received notification from DBMS server: {severity: WARNING} {code: Neo.ClientNotification.Statement.FeatureDeprecationWarning} {category: DEPRECATION} {title: This feature is deprecated and will be removed in future versions.} {description: The query used a deprecated function: `id`.} {position: line: 1, column: 150, offset: 149} for query: 'MATCH (t:Tool {model_number: $model}) MERGE (s:Specification {name: $spec_name}) ON CREATE SET s = $props MERGE (t)-[:HAS_SPECIFICATION]->(s) RETURN id(s) as spec_id'\n",
            "WARNING:neo4j.notifications:Received notification from DBMS server: {severity: WARNING} {code: Neo.ClientNotification.Statement.FeatureDeprecationWarning} {category: DEPRECATION} {title: This feature is deprecated and will be removed in future versions.} {description: The query used a deprecated function: `id`.} {position: line: 1, column: 31, offset: 30} for query: 'MATCH (s:Specification) WHERE id(s) = $spec_id MERGE (u:Unit {symbol: $symbol}) ON CREATE SET u.name = $name MERGE (s)-[:HAS_UNIT]->(u)'\n",
            "WARNING:neo4j.notifications:Received notification from DBMS server: {severity: WARNING} {code: Neo.ClientNotification.Statement.FeatureDeprecationWarning} {category: DEPRECATION} {title: This feature is deprecated and will be removed in future versions.} {description: The query used a deprecated function: `id`.} {position: line: 1, column: 150, offset: 149} for query: 'MATCH (t:Tool {model_number: $model}) MERGE (s:Specification {name: $spec_name}) ON CREATE SET s = $props MERGE (t)-[:HAS_SPECIFICATION]->(s) RETURN id(s) as spec_id'\n",
            "WARNING:neo4j.notifications:Received notification from DBMS server: {severity: WARNING} {code: Neo.ClientNotification.Statement.FeatureDeprecationWarning} {category: DEPRECATION} {title: This feature is deprecated and will be removed in future versions.} {description: The query used a deprecated function: `id`.} {position: line: 1, column: 150, offset: 149} for query: 'MATCH (t:Tool {model_number: $model}) MERGE (s:Specification {name: $spec_name}) ON CREATE SET s = $props MERGE (t)-[:HAS_SPECIFICATION]->(s) RETURN id(s) as spec_id'\n",
            "WARNING:neo4j.notifications:Received notification from DBMS server: {severity: WARNING} {code: Neo.ClientNotification.Statement.FeatureDeprecationWarning} {category: DEPRECATION} {title: This feature is deprecated and will be removed in future versions.} {description: The query used a deprecated function: `id`.} {position: line: 1, column: 150, offset: 149} for query: 'MATCH (t:Tool {model_number: $model}) MERGE (s:Specification {name: $spec_name}) ON CREATE SET s = $props MERGE (t)-[:HAS_SPECIFICATION]->(s) RETURN id(s) as spec_id'\n",
            "WARNING:neo4j.notifications:Received notification from DBMS server: {severity: WARNING} {code: Neo.ClientNotification.Statement.FeatureDeprecationWarning} {category: DEPRECATION} {title: This feature is deprecated and will be removed in future versions.} {description: The query used a deprecated function: `id`.} {position: line: 1, column: 31, offset: 30} for query: 'MATCH (s:Specification) WHERE id(s) = $spec_id MERGE (u:Unit {symbol: $symbol}) ON CREATE SET u.name = $name MERGE (s)-[:HAS_UNIT]->(u)'\n",
            "WARNING:neo4j.notifications:Received notification from DBMS server: {severity: WARNING} {code: Neo.ClientNotification.Statement.FeatureDeprecationWarning} {category: DEPRECATION} {title: This feature is deprecated and will be removed in future versions.} {description: The query used a deprecated function: `id`.} {position: line: 1, column: 150, offset: 149} for query: 'MATCH (t:Tool {model_number: $model}) MERGE (s:Specification {name: $spec_name}) ON CREATE SET s = $props MERGE (t)-[:HAS_SPECIFICATION]->(s) RETURN id(s) as spec_id'\n",
            "WARNING:neo4j.notifications:Received notification from DBMS server: {severity: WARNING} {code: Neo.ClientNotification.Statement.FeatureDeprecationWarning} {category: DEPRECATION} {title: This feature is deprecated and will be removed in future versions.} {description: The query used a deprecated function: `id`.} {position: line: 1, column: 31, offset: 30} for query: 'MATCH (s:Specification) WHERE id(s) = $spec_id MERGE (l:RangeLimit {name: $limit_name, value: $value, unit: $unit, limit_type: $limit_type}) MERGE (s)-[:HAS_MIN_LIMIT]->(l)'\n",
            "WARNING:neo4j.notifications:Received notification from DBMS server: {severity: WARNING} {code: Neo.ClientNotification.Statement.FeatureDeprecationWarning} {category: DEPRECATION} {title: This feature is deprecated and will be removed in future versions.} {description: The query used a deprecated function: `id`.} {position: line: 1, column: 31, offset: 30} for query: 'MATCH (s:Specification) WHERE id(s) = $spec_id MERGE (l:RangeLimit {name: $limit_name, value: $value, unit: $unit, limit_type: $limit_type}) MERGE (s)-[:HAS_MAX_LIMIT]->(l)'\n",
            "WARNING:neo4j.notifications:Received notification from DBMS server: {severity: WARNING} {code: Neo.ClientNotification.Statement.FeatureDeprecationWarning} {category: DEPRECATION} {title: This feature is deprecated and will be removed in future versions.} {description: The query used a deprecated function: `id`.} {position: line: 1, column: 150, offset: 149} for query: 'MATCH (t:Tool {model_number: $model}) MERGE (s:Specification {name: $spec_name}) ON CREATE SET s = $props MERGE (t)-[:HAS_SPECIFICATION]->(s) RETURN id(s) as spec_id'\n",
            "WARNING:neo4j.notifications:Received notification from DBMS server: {severity: WARNING} {code: Neo.ClientNotification.Statement.FeatureDeprecationWarning} {category: DEPRECATION} {title: This feature is deprecated and will be removed in future versions.} {description: The query used a deprecated function: `id`.} {position: line: 1, column: 150, offset: 149} for query: 'MATCH (t:Tool {model_number: $model}) MERGE (s:Specification {name: $spec_name}) ON CREATE SET s = $props MERGE (t)-[:HAS_SPECIFICATION]->(s) RETURN id(s) as spec_id'\n",
            "WARNING:neo4j.notifications:Received notification from DBMS server: {severity: WARNING} {code: Neo.ClientNotification.Statement.FeatureDeprecationWarning} {category: DEPRECATION} {title: This feature is deprecated and will be removed in future versions.} {description: The query used a deprecated function: `id`.} {position: line: 1, column: 31, offset: 30} for query: 'MATCH (s:Specification) WHERE id(s) = $spec_id MERGE (u:Unit {symbol: $symbol}) ON CREATE SET u.name = $name MERGE (s)-[:HAS_UNIT]->(u)'\n",
            "WARNING:neo4j.notifications:Received notification from DBMS server: {severity: WARNING} {code: Neo.ClientNotification.Statement.FeatureDeprecationWarning} {category: DEPRECATION} {title: This feature is deprecated and will be removed in future versions.} {description: The query used a deprecated function: `id`.} {position: line: 1, column: 150, offset: 149} for query: 'MATCH (t:Tool {model_number: $model}) MERGE (s:Specification {name: $spec_name}) ON CREATE SET s = $props MERGE (t)-[:HAS_SPECIFICATION]->(s) RETURN id(s) as spec_id'\n",
            "WARNING:neo4j.notifications:Received notification from DBMS server: {severity: WARNING} {code: Neo.ClientNotification.Statement.FeatureDeprecationWarning} {category: DEPRECATION} {title: This feature is deprecated and will be removed in future versions.} {description: The query used a deprecated function: `id`.} {position: line: 1, column: 150, offset: 149} for query: 'MATCH (t:Tool {model_number: $model}) MERGE (s:Specification {name: $spec_name}) ON CREATE SET s = $props MERGE (t)-[:HAS_SPECIFICATION]->(s) RETURN id(s) as spec_id'\n",
            "WARNING:neo4j.notifications:Received notification from DBMS server: {severity: WARNING} {code: Neo.ClientNotification.Statement.FeatureDeprecationWarning} {category: DEPRECATION} {title: This feature is deprecated and will be removed in future versions.} {description: The query used a deprecated function: `id`.} {position: line: 1, column: 150, offset: 149} for query: 'MATCH (t:Tool {model_number: $model}) MERGE (s:Specification {name: $spec_name}) ON CREATE SET s = $props MERGE (t)-[:HAS_SPECIFICATION]->(s) RETURN id(s) as spec_id'\n",
            "WARNING:neo4j.notifications:Received notification from DBMS server: {severity: WARNING} {code: Neo.ClientNotification.Statement.FeatureDeprecationWarning} {category: DEPRECATION} {title: This feature is deprecated and will be removed in future versions.} {description: The query used a deprecated function: `id`.} {position: line: 1, column: 150, offset: 149} for query: 'MATCH (t:Tool {model_number: $model}) MERGE (s:Specification {name: $spec_name}) ON CREATE SET s = $props MERGE (t)-[:HAS_SPECIFICATION]->(s) RETURN id(s) as spec_id'\n",
            "WARNING:neo4j.notifications:Received notification from DBMS server: {severity: WARNING} {code: Neo.ClientNotification.Statement.FeatureDeprecationWarning} {category: DEPRECATION} {title: This feature is deprecated and will be removed in future versions.} {description: The query used a deprecated function: `id`.} {position: line: 1, column: 31, offset: 30} for query: 'MATCH (s:Specification) WHERE id(s) = $spec_id MERGE (u:Unit {symbol: $symbol}) ON CREATE SET u.name = $name MERGE (s)-[:HAS_UNIT]->(u)'\n",
            "WARNING:neo4j.notifications:Received notification from DBMS server: {severity: WARNING} {code: Neo.ClientNotification.Statement.FeatureDeprecationWarning} {category: DEPRECATION} {title: This feature is deprecated and will be removed in future versions.} {description: The query used a deprecated function: `id`.} {position: line: 1, column: 150, offset: 149} for query: 'MATCH (t:Tool {model_number: $model}) MERGE (s:Specification {name: $spec_name}) ON CREATE SET s = $props MERGE (t)-[:HAS_SPECIFICATION]->(s) RETURN id(s) as spec_id'\n",
            "WARNING:neo4j.notifications:Received notification from DBMS server: {severity: WARNING} {code: Neo.ClientNotification.Statement.FeatureDeprecationWarning} {category: DEPRECATION} {title: This feature is deprecated and will be removed in future versions.} {description: The query used a deprecated function: `id`.} {position: line: 1, column: 31, offset: 30} for query: 'MATCH (s:Specification) WHERE id(s) = $spec_id MERGE (u:Unit {symbol: $symbol}) ON CREATE SET u.name = $name MERGE (s)-[:HAS_UNIT]->(u)'\n",
            "WARNING:neo4j.notifications:Received notification from DBMS server: {severity: WARNING} {code: Neo.ClientNotification.Statement.FeatureDeprecationWarning} {category: DEPRECATION} {title: This feature is deprecated and will be removed in future versions.} {description: The query used a deprecated function: `id`.} {position: line: 1, column: 150, offset: 149} for query: 'MATCH (t:Tool {model_number: $model}) MERGE (s:Specification {name: $spec_name}) ON CREATE SET s = $props MERGE (t)-[:HAS_SPECIFICATION]->(s) RETURN id(s) as spec_id'\n",
            "WARNING:neo4j.notifications:Received notification from DBMS server: {severity: WARNING} {code: Neo.ClientNotification.Statement.FeatureDeprecationWarning} {category: DEPRECATION} {title: This feature is deprecated and will be removed in future versions.} {description: The query used a deprecated function: `id`.} {position: line: 1, column: 31, offset: 30} for query: 'MATCH (s:Specification) WHERE id(s) = $spec_id MERGE (u:Unit {symbol: $symbol}) ON CREATE SET u.name = $name MERGE (s)-[:HAS_UNIT]->(u)'\n",
            "WARNING:neo4j.notifications:Received notification from DBMS server: {severity: WARNING} {code: Neo.ClientNotification.Statement.FeatureDeprecationWarning} {category: DEPRECATION} {title: This feature is deprecated and will be removed in future versions.} {description: The query used a deprecated function: `id`.} {position: line: 1, column: 150, offset: 149} for query: 'MATCH (t:Tool {model_number: $model}) MERGE (s:Specification {name: $spec_name}) ON CREATE SET s = $props MERGE (t)-[:HAS_SPECIFICATION]->(s) RETURN id(s) as spec_id'\n",
            "WARNING:neo4j.notifications:Received notification from DBMS server: {severity: WARNING} {code: Neo.ClientNotification.Statement.FeatureDeprecationWarning} {category: DEPRECATION} {title: This feature is deprecated and will be removed in future versions.} {description: The query used a deprecated function: `id`.} {position: line: 1, column: 31, offset: 30} for query: 'MATCH (s:Specification) WHERE id(s) = $spec_id MERGE (u:Unit {symbol: $symbol}) ON CREATE SET u.name = $name MERGE (s)-[:HAS_UNIT]->(u)'\n",
            "WARNING:neo4j.notifications:Received notification from DBMS server: {severity: WARNING} {code: Neo.ClientNotification.Statement.FeatureDeprecationWarning} {category: DEPRECATION} {title: This feature is deprecated and will be removed in future versions.} {description: The query used a deprecated function: `id`.} {position: line: 1, column: 182, offset: 181} for query: 'MATCH (t:Tool {model_number: $model}) MERGE (l:Limitation {description: $description, warning_type: $warning_type}) ON CREATE SET l.id = $id MERGE (t)-[:HAS_LIMITATION]->(l) RETURN id(l) as limit_id'\n",
            "WARNING:neo4j.notifications:Received notification from DBMS server: {severity: WARNING} {code: Neo.ClientNotification.Statement.FeatureDeprecationWarning} {category: DEPRECATION} {title: This feature is deprecated and will be removed in future versions.} {description: The query used a deprecated function: `id`.} {position: line: 1, column: 28, offset: 27} for query: 'MATCH (l:Limitation) WHERE id(l) = $limit_id MERGE (r:RangeLimit {name: $name, value: $value, unit: $unit, limit_type: $limit_type}) MERGE (l)-[:HAS_MIN_LIMIT]->(r)'\n",
            "WARNING:neo4j.notifications:Received notification from DBMS server: {severity: WARNING} {code: Neo.ClientNotification.Statement.FeatureDeprecationWarning} {category: DEPRECATION} {title: This feature is deprecated and will be removed in future versions.} {description: The query used a deprecated function: `id`.} {position: line: 1, column: 28, offset: 27} for query: 'MATCH (l:Limitation) WHERE id(l) = $limit_id CREATE (r:RangeLimit $props) MERGE (l)-[:HAS_MAX_LIMIT]->(r)'\n",
            "WARNING:neo4j.notifications:Received notification from DBMS server: {severity: WARNING} {code: Neo.ClientNotification.Statement.FeatureDeprecationWarning} {category: DEPRECATION} {title: This feature is deprecated and will be removed in future versions.} {description: The query used a deprecated function: `id`.} {position: line: 1, column: 28, offset: 27} for query: 'MATCH (l:Limitation) WHERE id(l) = $limit_id MATCH (s:Specification {id: $spec_id}) MERGE (l)-[:LIMITS_SPECIFICATION]->(s)'\n",
            "WARNING:neo4j.notifications:Received notification from DBMS server: {severity: WARNING} {code: Neo.ClientNotification.Statement.FeatureDeprecationWarning} {category: DEPRECATION} {title: This feature is deprecated and will be removed in future versions.} {description: The query used a deprecated function: `id`.} {position: line: 1, column: 182, offset: 181} for query: 'MATCH (t:Tool {model_number: $model}) MERGE (l:Limitation {description: $description, warning_type: $warning_type}) ON CREATE SET l.id = $id MERGE (t)-[:HAS_LIMITATION]->(l) RETURN id(l) as limit_id'\n",
            "WARNING:neo4j.notifications:Received notification from DBMS server: {severity: WARNING} {code: Neo.ClientNotification.Statement.FeatureDeprecationWarning} {category: DEPRECATION} {title: This feature is deprecated and will be removed in future versions.} {description: The query used a deprecated function: `id`.} {position: line: 1, column: 28, offset: 27} for query: 'MATCH (l:Limitation) WHERE id(l) = $limit_id MERGE (r:RangeLimit {name: $name, value: $value, unit: $unit, limit_type: $limit_type}) MERGE (l)-[:HAS_MIN_LIMIT]->(r)'\n",
            "WARNING:neo4j.notifications:Received notification from DBMS server: {severity: WARNING} {code: Neo.ClientNotification.Statement.FeatureDeprecationWarning} {category: DEPRECATION} {title: This feature is deprecated and will be removed in future versions.} {description: The query used a deprecated function: `id`.} {position: line: 1, column: 28, offset: 27} for query: 'MATCH (l:Limitation) WHERE id(l) = $limit_id CREATE (r:RangeLimit $props) MERGE (l)-[:HAS_MAX_LIMIT]->(r)'\n",
            "WARNING:neo4j.notifications:Received notification from DBMS server: {severity: WARNING} {code: Neo.ClientNotification.Statement.FeatureDeprecationWarning} {category: DEPRECATION} {title: This feature is deprecated and will be removed in future versions.} {description: The query used a deprecated function: `id`.} {position: line: 1, column: 28, offset: 27} for query: 'MATCH (l:Limitation) WHERE id(l) = $limit_id MATCH (s:Specification {id: $spec_id}) MERGE (l)-[:LIMITS_SPECIFICATION]->(s)'\n",
            "WARNING:neo4j.notifications:Received notification from DBMS server: {severity: WARNING} {code: Neo.ClientNotification.Statement.FeatureDeprecationWarning} {category: DEPRECATION} {title: This feature is deprecated and will be removed in future versions.} {description: The query used a deprecated function: `id`.} {position: line: 1, column: 182, offset: 181} for query: 'MATCH (t:Tool {model_number: $model}) MERGE (l:Limitation {description: $description, warning_type: $warning_type}) ON CREATE SET l.id = $id MERGE (t)-[:HAS_LIMITATION]->(l) RETURN id(l) as limit_id'\n",
            "WARNING:neo4j.notifications:Received notification from DBMS server: {severity: WARNING} {code: Neo.ClientNotification.Statement.FeatureDeprecationWarning} {category: DEPRECATION} {title: This feature is deprecated and will be removed in future versions.} {description: The query used a deprecated function: `id`.} {position: line: 1, column: 182, offset: 181} for query: 'MATCH (t:Tool {model_number: $model}) MERGE (l:Limitation {description: $description, warning_type: $warning_type}) ON CREATE SET l.id = $id MERGE (t)-[:HAS_LIMITATION]->(l) RETURN id(l) as limit_id'\n",
            "WARNING:neo4j.notifications:Received notification from DBMS server: {severity: WARNING} {code: Neo.ClientNotification.Statement.FeatureDeprecationWarning} {category: DEPRECATION} {title: This feature is deprecated and will be removed in future versions.} {description: The query used a deprecated function: `id`.} {position: line: 1, column: 150, offset: 149} for query: 'MATCH (t:Tool {model_number: $model}) MERGE (s:Specification {name: $spec_name}) ON CREATE SET s = $props MERGE (t)-[:HAS_SPECIFICATION]->(s) RETURN id(s) as spec_id'\n",
            "WARNING:neo4j.notifications:Received notification from DBMS server: {severity: WARNING} {code: Neo.ClientNotification.Statement.FeatureDeprecationWarning} {category: DEPRECATION} {title: This feature is deprecated and will be removed in future versions.} {description: The query used a deprecated function: `id`.} {position: line: 1, column: 31, offset: 30} for query: 'MATCH (s:Specification) WHERE id(s) = $spec_id MERGE (u:Unit {symbol: $symbol}) ON CREATE SET u.name = $name MERGE (s)-[:HAS_UNIT]->(u)'\n",
            "WARNING:neo4j.notifications:Received notification from DBMS server: {severity: WARNING} {code: Neo.ClientNotification.Statement.FeatureDeprecationWarning} {category: DEPRECATION} {title: This feature is deprecated and will be removed in future versions.} {description: The query used a deprecated function: `id`.} {position: line: 1, column: 31, offset: 30} for query: 'MATCH (s:Specification) WHERE id(s) = $spec_id MERGE (l:RangeLimit {name: $limit_name, value: $value, unit: $unit, limit_type: $limit_type}) MERGE (s)-[:HAS_MIN_LIMIT]->(l)'\n",
            "WARNING:neo4j.notifications:Received notification from DBMS server: {severity: WARNING} {code: Neo.ClientNotification.Statement.FeatureDeprecationWarning} {category: DEPRECATION} {title: This feature is deprecated and will be removed in future versions.} {description: The query used a deprecated function: `id`.} {position: line: 1, column: 31, offset: 30} for query: 'MATCH (s:Specification) WHERE id(s) = $spec_id MERGE (l:RangeLimit {name: $limit_name, value: $value, unit: $unit, limit_type: $limit_type}) MERGE (s)-[:HAS_MAX_LIMIT]->(l)'\n",
            "WARNING:neo4j.notifications:Received notification from DBMS server: {severity: WARNING} {code: Neo.ClientNotification.Statement.FeatureDeprecationWarning} {category: DEPRECATION} {title: This feature is deprecated and will be removed in future versions.} {description: The query used a deprecated function: `id`.} {position: line: 1, column: 150, offset: 149} for query: 'MATCH (t:Tool {model_number: $model}) MERGE (s:Specification {name: $spec_name}) ON CREATE SET s = $props MERGE (t)-[:HAS_SPECIFICATION]->(s) RETURN id(s) as spec_id'\n",
            "WARNING:neo4j.notifications:Received notification from DBMS server: {severity: WARNING} {code: Neo.ClientNotification.Statement.FeatureDeprecationWarning} {category: DEPRECATION} {title: This feature is deprecated and will be removed in future versions.} {description: The query used a deprecated function: `id`.} {position: line: 1, column: 150, offset: 149} for query: 'MATCH (t:Tool {model_number: $model}) MERGE (s:Specification {name: $spec_name}) ON CREATE SET s = $props MERGE (t)-[:HAS_SPECIFICATION]->(s) RETURN id(s) as spec_id'\n",
            "WARNING:neo4j.notifications:Received notification from DBMS server: {severity: WARNING} {code: Neo.ClientNotification.Statement.FeatureDeprecationWarning} {category: DEPRECATION} {title: This feature is deprecated and will be removed in future versions.} {description: The query used a deprecated function: `id`.} {position: line: 1, column: 150, offset: 149} for query: 'MATCH (t:Tool {model_number: $model}) MERGE (s:Specification {name: $spec_name}) ON CREATE SET s = $props MERGE (t)-[:HAS_SPECIFICATION]->(s) RETURN id(s) as spec_id'\n",
            "WARNING:neo4j.notifications:Received notification from DBMS server: {severity: WARNING} {code: Neo.ClientNotification.Statement.FeatureDeprecationWarning} {category: DEPRECATION} {title: This feature is deprecated and will be removed in future versions.} {description: The query used a deprecated function: `id`.} {position: line: 1, column: 31, offset: 30} for query: 'MATCH (s:Specification) WHERE id(s) = $spec_id MERGE (u:Unit {symbol: $symbol}) ON CREATE SET u.name = $name MERGE (s)-[:HAS_UNIT]->(u)'\n",
            "WARNING:neo4j.notifications:Received notification from DBMS server: {severity: WARNING} {code: Neo.ClientNotification.Statement.FeatureDeprecationWarning} {category: DEPRECATION} {title: This feature is deprecated and will be removed in future versions.} {description: The query used a deprecated function: `id`.} {position: line: 1, column: 31, offset: 30} for query: 'MATCH (s:Specification) WHERE id(s) = $spec_id MERGE (l:RangeLimit {name: $limit_name, value: $value, unit: $unit, limit_type: $limit_type}) MERGE (s)-[:HAS_MIN_LIMIT]->(l)'\n",
            "WARNING:neo4j.notifications:Received notification from DBMS server: {severity: WARNING} {code: Neo.ClientNotification.Statement.FeatureDeprecationWarning} {category: DEPRECATION} {title: This feature is deprecated and will be removed in future versions.} {description: The query used a deprecated function: `id`.} {position: line: 1, column: 31, offset: 30} for query: 'MATCH (s:Specification) WHERE id(s) = $spec_id MERGE (l:RangeLimit {name: $limit_name, value: $value, unit: $unit, limit_type: $limit_type}) MERGE (s)-[:HAS_MAX_LIMIT]->(l)'\n",
            "WARNING:neo4j.notifications:Received notification from DBMS server: {severity: WARNING} {code: Neo.ClientNotification.Statement.FeatureDeprecationWarning} {category: DEPRECATION} {title: This feature is deprecated and will be removed in future versions.} {description: The query used a deprecated function: `id`.} {position: line: 1, column: 150, offset: 149} for query: 'MATCH (t:Tool {model_number: $model}) MERGE (s:Specification {name: $spec_name}) ON CREATE SET s = $props MERGE (t)-[:HAS_SPECIFICATION]->(s) RETURN id(s) as spec_id'\n",
            "WARNING:neo4j.notifications:Received notification from DBMS server: {severity: WARNING} {code: Neo.ClientNotification.Statement.FeatureDeprecationWarning} {category: DEPRECATION} {title: This feature is deprecated and will be removed in future versions.} {description: The query used a deprecated function: `id`.} {position: line: 1, column: 31, offset: 30} for query: 'MATCH (s:Specification) WHERE id(s) = $spec_id MERGE (u:Unit {symbol: $symbol}) ON CREATE SET u.name = $name MERGE (s)-[:HAS_UNIT]->(u)'\n",
            "WARNING:neo4j.notifications:Received notification from DBMS server: {severity: WARNING} {code: Neo.ClientNotification.Statement.FeatureDeprecationWarning} {category: DEPRECATION} {title: This feature is deprecated and will be removed in future versions.} {description: The query used a deprecated function: `id`.} {position: line: 1, column: 31, offset: 30} for query: 'MATCH (s:Specification) WHERE id(s) = $spec_id MERGE (l:RangeLimit {name: $limit_name, value: $value, unit: $unit, limit_type: $limit_type}) MERGE (s)-[:HAS_MIN_LIMIT]->(l)'\n",
            "WARNING:neo4j.notifications:Received notification from DBMS server: {severity: WARNING} {code: Neo.ClientNotification.Statement.FeatureDeprecationWarning} {category: DEPRECATION} {title: This feature is deprecated and will be removed in future versions.} {description: The query used a deprecated function: `id`.} {position: line: 1, column: 31, offset: 30} for query: 'MATCH (s:Specification) WHERE id(s) = $spec_id MERGE (l:RangeLimit {name: $limit_name, value: $value, unit: $unit, limit_type: $limit_type}) MERGE (s)-[:HAS_MAX_LIMIT]->(l)'\n",
            "WARNING:neo4j.notifications:Received notification from DBMS server: {severity: WARNING} {code: Neo.ClientNotification.Statement.FeatureDeprecationWarning} {category: DEPRECATION} {title: This feature is deprecated and will be removed in future versions.} {description: The query used a deprecated function: `id`.} {position: line: 1, column: 150, offset: 149} for query: 'MATCH (t:Tool {model_number: $model}) MERGE (s:Specification {name: $spec_name}) ON CREATE SET s = $props MERGE (t)-[:HAS_SPECIFICATION]->(s) RETURN id(s) as spec_id'\n",
            "WARNING:neo4j.notifications:Received notification from DBMS server: {severity: WARNING} {code: Neo.ClientNotification.Statement.FeatureDeprecationWarning} {category: DEPRECATION} {title: This feature is deprecated and will be removed in future versions.} {description: The query used a deprecated function: `id`.} {position: line: 1, column: 150, offset: 149} for query: 'MATCH (t:Tool {model_number: $model}) MERGE (s:Specification {name: $spec_name}) ON CREATE SET s = $props MERGE (t)-[:HAS_SPECIFICATION]->(s) RETURN id(s) as spec_id'\n",
            "WARNING:neo4j.notifications:Received notification from DBMS server: {severity: WARNING} {code: Neo.ClientNotification.Statement.FeatureDeprecationWarning} {category: DEPRECATION} {title: This feature is deprecated and will be removed in future versions.} {description: The query used a deprecated function: `id`.} {position: line: 1, column: 150, offset: 149} for query: 'MATCH (t:Tool {model_number: $model}) MERGE (s:Specification {name: $spec_name}) ON CREATE SET s = $props MERGE (t)-[:HAS_SPECIFICATION]->(s) RETURN id(s) as spec_id'\n",
            "WARNING:neo4j.notifications:Received notification from DBMS server: {severity: WARNING} {code: Neo.ClientNotification.Statement.FeatureDeprecationWarning} {category: DEPRECATION} {title: This feature is deprecated and will be removed in future versions.} {description: The query used a deprecated function: `id`.} {position: line: 1, column: 150, offset: 149} for query: 'MATCH (t:Tool {model_number: $model}) MERGE (s:Specification {name: $spec_name}) ON CREATE SET s = $props MERGE (t)-[:HAS_SPECIFICATION]->(s) RETURN id(s) as spec_id'\n",
            "WARNING:neo4j.notifications:Received notification from DBMS server: {severity: WARNING} {code: Neo.ClientNotification.Statement.FeatureDeprecationWarning} {category: DEPRECATION} {title: This feature is deprecated and will be removed in future versions.} {description: The query used a deprecated function: `id`.} {position: line: 1, column: 31, offset: 30} for query: 'MATCH (s:Specification) WHERE id(s) = $spec_id MERGE (u:Unit {symbol: $symbol}) ON CREATE SET u.name = $name MERGE (s)-[:HAS_UNIT]->(u)'\n",
            "WARNING:neo4j.notifications:Received notification from DBMS server: {severity: WARNING} {code: Neo.ClientNotification.Statement.FeatureDeprecationWarning} {category: DEPRECATION} {title: This feature is deprecated and will be removed in future versions.} {description: The query used a deprecated function: `id`.} {position: line: 1, column: 150, offset: 149} for query: 'MATCH (t:Tool {model_number: $model}) MERGE (s:Specification {name: $spec_name}) ON CREATE SET s = $props MERGE (t)-[:HAS_SPECIFICATION]->(s) RETURN id(s) as spec_id'\n",
            "WARNING:neo4j.notifications:Received notification from DBMS server: {severity: WARNING} {code: Neo.ClientNotification.Statement.FeatureDeprecationWarning} {category: DEPRECATION} {title: This feature is deprecated and will be removed in future versions.} {description: The query used a deprecated function: `id`.} {position: line: 1, column: 31, offset: 30} for query: 'MATCH (s:Specification) WHERE id(s) = $spec_id MERGE (u:Unit {symbol: $symbol}) ON CREATE SET u.name = $name MERGE (s)-[:HAS_UNIT]->(u)'\n",
            "WARNING:neo4j.notifications:Received notification from DBMS server: {severity: WARNING} {code: Neo.ClientNotification.Statement.FeatureDeprecationWarning} {category: DEPRECATION} {title: This feature is deprecated and will be removed in future versions.} {description: The query used a deprecated function: `id`.} {position: line: 1, column: 150, offset: 149} for query: 'MATCH (t:Tool {model_number: $model}) MERGE (s:Specification {name: $spec_name}) ON CREATE SET s = $props MERGE (t)-[:HAS_SPECIFICATION]->(s) RETURN id(s) as spec_id'\n",
            "WARNING:neo4j.notifications:Received notification from DBMS server: {severity: WARNING} {code: Neo.ClientNotification.Statement.FeatureDeprecationWarning} {category: DEPRECATION} {title: This feature is deprecated and will be removed in future versions.} {description: The query used a deprecated function: `id`.} {position: line: 1, column: 150, offset: 149} for query: 'MATCH (t:Tool {model_number: $model}) MERGE (s:Specification {name: $spec_name}) ON CREATE SET s = $props MERGE (t)-[:HAS_SPECIFICATION]->(s) RETURN id(s) as spec_id'\n",
            "WARNING:neo4j.notifications:Received notification from DBMS server: {severity: WARNING} {code: Neo.ClientNotification.Statement.FeatureDeprecationWarning} {category: DEPRECATION} {title: This feature is deprecated and will be removed in future versions.} {description: The query used a deprecated function: `id`.} {position: line: 1, column: 31, offset: 30} for query: 'MATCH (s:Specification) WHERE id(s) = $spec_id MERGE (u:Unit {symbol: $symbol}) ON CREATE SET u.name = $name MERGE (s)-[:HAS_UNIT]->(u)'\n",
            "WARNING:neo4j.notifications:Received notification from DBMS server: {severity: WARNING} {code: Neo.ClientNotification.Statement.FeatureDeprecationWarning} {category: DEPRECATION} {title: This feature is deprecated and will be removed in future versions.} {description: The query used a deprecated function: `id`.} {position: line: 1, column: 31, offset: 30} for query: 'MATCH (s:Specification) WHERE id(s) = $spec_id MERGE (l:RangeLimit {name: $limit_name, value: $value, unit: $unit, limit_type: $limit_type}) MERGE (s)-[:HAS_MIN_LIMIT]->(l)'\n",
            "WARNING:neo4j.notifications:Received notification from DBMS server: {severity: WARNING} {code: Neo.ClientNotification.Statement.FeatureDeprecationWarning} {category: DEPRECATION} {title: This feature is deprecated and will be removed in future versions.} {description: The query used a deprecated function: `id`.} {position: line: 1, column: 31, offset: 30} for query: 'MATCH (s:Specification) WHERE id(s) = $spec_id MERGE (l:RangeLimit {name: $limit_name, value: $value, unit: $unit, limit_type: $limit_type}) MERGE (s)-[:HAS_MAX_LIMIT]->(l)'\n",
            "WARNING:neo4j.notifications:Received notification from DBMS server: {severity: WARNING} {code: Neo.ClientNotification.Statement.FeatureDeprecationWarning} {category: DEPRECATION} {title: This feature is deprecated and will be removed in future versions.} {description: The query used a deprecated function: `id`.} {position: line: 1, column: 150, offset: 149} for query: 'MATCH (t:Tool {model_number: $model}) MERGE (s:Specification {name: $spec_name}) ON CREATE SET s = $props MERGE (t)-[:HAS_SPECIFICATION]->(s) RETURN id(s) as spec_id'\n",
            "WARNING:neo4j.notifications:Received notification from DBMS server: {severity: WARNING} {code: Neo.ClientNotification.Statement.FeatureDeprecationWarning} {category: DEPRECATION} {title: This feature is deprecated and will be removed in future versions.} {description: The query used a deprecated function: `id`.} {position: line: 1, column: 31, offset: 30} for query: 'MATCH (s:Specification) WHERE id(s) = $spec_id MERGE (u:Unit {symbol: $symbol}) ON CREATE SET u.name = $name MERGE (s)-[:HAS_UNIT]->(u)'\n",
            "WARNING:neo4j.notifications:Received notification from DBMS server: {severity: WARNING} {code: Neo.ClientNotification.Statement.FeatureDeprecationWarning} {category: DEPRECATION} {title: This feature is deprecated and will be removed in future versions.} {description: The query used a deprecated function: `id`.} {position: line: 1, column: 31, offset: 30} for query: 'MATCH (s:Specification) WHERE id(s) = $spec_id MERGE (l:RangeLimit {name: $limit_name, value: $value, unit: $unit, limit_type: $limit_type}) MERGE (s)-[:HAS_MIN_LIMIT]->(l)'\n",
            "WARNING:neo4j.notifications:Received notification from DBMS server: {severity: WARNING} {code: Neo.ClientNotification.Statement.FeatureDeprecationWarning} {category: DEPRECATION} {title: This feature is deprecated and will be removed in future versions.} {description: The query used a deprecated function: `id`.} {position: line: 1, column: 31, offset: 30} for query: 'MATCH (s:Specification) WHERE id(s) = $spec_id MERGE (l:RangeLimit {name: $limit_name, value: $value, unit: $unit, limit_type: $limit_type}) MERGE (s)-[:HAS_MAX_LIMIT]->(l)'\n",
            "WARNING:neo4j.notifications:Received notification from DBMS server: {severity: WARNING} {code: Neo.ClientNotification.Statement.FeatureDeprecationWarning} {category: DEPRECATION} {title: This feature is deprecated and will be removed in future versions.} {description: The query used a deprecated function: `id`.} {position: line: 1, column: 150, offset: 149} for query: 'MATCH (t:Tool {model_number: $model}) MERGE (s:Specification {name: $spec_name}) ON CREATE SET s = $props MERGE (t)-[:HAS_SPECIFICATION]->(s) RETURN id(s) as spec_id'\n",
            "WARNING:neo4j.notifications:Received notification from DBMS server: {severity: WARNING} {code: Neo.ClientNotification.Statement.FeatureDeprecationWarning} {category: DEPRECATION} {title: This feature is deprecated and will be removed in future versions.} {description: The query used a deprecated function: `id`.} {position: line: 1, column: 31, offset: 30} for query: 'MATCH (s:Specification) WHERE id(s) = $spec_id MERGE (u:Unit {symbol: $symbol}) ON CREATE SET u.name = $name MERGE (s)-[:HAS_UNIT]->(u)'\n",
            "WARNING:neo4j.notifications:Received notification from DBMS server: {severity: WARNING} {code: Neo.ClientNotification.Statement.FeatureDeprecationWarning} {category: DEPRECATION} {title: This feature is deprecated and will be removed in future versions.} {description: The query used a deprecated function: `id`.} {position: line: 1, column: 150, offset: 149} for query: 'MATCH (t:Tool {model_number: $model}) MERGE (s:Specification {name: $spec_name}) ON CREATE SET s = $props MERGE (t)-[:HAS_SPECIFICATION]->(s) RETURN id(s) as spec_id'\n",
            "WARNING:neo4j.notifications:Received notification from DBMS server: {severity: WARNING} {code: Neo.ClientNotification.Statement.FeatureDeprecationWarning} {category: DEPRECATION} {title: This feature is deprecated and will be removed in future versions.} {description: The query used a deprecated function: `id`.} {position: line: 1, column: 31, offset: 30} for query: 'MATCH (s:Specification) WHERE id(s) = $spec_id MERGE (u:Unit {symbol: $symbol}) ON CREATE SET u.name = $name MERGE (s)-[:HAS_UNIT]->(u)'\n",
            "WARNING:neo4j.notifications:Received notification from DBMS server: {severity: WARNING} {code: Neo.ClientNotification.Statement.FeatureDeprecationWarning} {category: DEPRECATION} {title: This feature is deprecated and will be removed in future versions.} {description: The query used a deprecated function: `id`.} {position: line: 1, column: 150, offset: 149} for query: 'MATCH (t:Tool {model_number: $model}) MERGE (s:Specification {name: $spec_name}) ON CREATE SET s = $props MERGE (t)-[:HAS_SPECIFICATION]->(s) RETURN id(s) as spec_id'\n",
            "WARNING:neo4j.notifications:Received notification from DBMS server: {severity: WARNING} {code: Neo.ClientNotification.Statement.FeatureDeprecationWarning} {category: DEPRECATION} {title: This feature is deprecated and will be removed in future versions.} {description: The query used a deprecated function: `id`.} {position: line: 1, column: 31, offset: 30} for query: 'MATCH (s:Specification) WHERE id(s) = $spec_id MERGE (u:Unit {symbol: $symbol}) ON CREATE SET u.name = $name MERGE (s)-[:HAS_UNIT]->(u)'\n",
            "WARNING:neo4j.notifications:Received notification from DBMS server: {severity: WARNING} {code: Neo.ClientNotification.Statement.FeatureDeprecationWarning} {category: DEPRECATION} {title: This feature is deprecated and will be removed in future versions.} {description: The query used a deprecated function: `id`.} {position: line: 1, column: 150, offset: 149} for query: 'MATCH (t:Tool {model_number: $model}) MERGE (s:Specification {name: $spec_name}) ON CREATE SET s = $props MERGE (t)-[:HAS_SPECIFICATION]->(s) RETURN id(s) as spec_id'\n",
            "WARNING:neo4j.notifications:Received notification from DBMS server: {severity: WARNING} {code: Neo.ClientNotification.Statement.FeatureDeprecationWarning} {category: DEPRECATION} {title: This feature is deprecated and will be removed in future versions.} {description: The query used a deprecated function: `id`.} {position: line: 1, column: 31, offset: 30} for query: 'MATCH (s:Specification) WHERE id(s) = $spec_id MERGE (u:Unit {symbol: $symbol}) ON CREATE SET u.name = $name MERGE (s)-[:HAS_UNIT]->(u)'\n",
            "WARNING:neo4j.notifications:Received notification from DBMS server: {severity: WARNING} {code: Neo.ClientNotification.Statement.FeatureDeprecationWarning} {category: DEPRECATION} {title: This feature is deprecated and will be removed in future versions.} {description: The query used a deprecated function: `id`.} {position: line: 1, column: 31, offset: 30} for query: 'MATCH (s:Specification) WHERE id(s) = $spec_id MERGE (l:RangeLimit {name: $limit_name, value: $value, unit: $unit, limit_type: $limit_type}) MERGE (s)-[:HAS_MIN_LIMIT]->(l)'\n",
            "WARNING:neo4j.notifications:Received notification from DBMS server: {severity: WARNING} {code: Neo.ClientNotification.Statement.FeatureDeprecationWarning} {category: DEPRECATION} {title: This feature is deprecated and will be removed in future versions.} {description: The query used a deprecated function: `id`.} {position: line: 1, column: 31, offset: 30} for query: 'MATCH (s:Specification) WHERE id(s) = $spec_id MERGE (l:RangeLimit {name: $limit_name, value: $value, unit: $unit, limit_type: $limit_type}) MERGE (s)-[:HAS_MAX_LIMIT]->(l)'\n",
            "WARNING:neo4j.notifications:Received notification from DBMS server: {severity: WARNING} {code: Neo.ClientNotification.Statement.FeatureDeprecationWarning} {category: DEPRECATION} {title: This feature is deprecated and will be removed in future versions.} {description: The query used a deprecated function: `id`.} {position: line: 1, column: 182, offset: 181} for query: 'MATCH (t:Tool {model_number: $model}) MERGE (l:Limitation {description: $description, warning_type: $warning_type}) ON CREATE SET l.id = $id MERGE (t)-[:HAS_LIMITATION]->(l) RETURN id(l) as limit_id'\n",
            "WARNING:neo4j.notifications:Received notification from DBMS server: {severity: WARNING} {code: Neo.ClientNotification.Statement.FeatureDeprecationWarning} {category: DEPRECATION} {title: This feature is deprecated and will be removed in future versions.} {description: The query used a deprecated function: `id`.} {position: line: 1, column: 28, offset: 27} for query: 'MATCH (l:Limitation) WHERE id(l) = $limit_id MERGE (r:RangeLimit {name: $name, value: $value, unit: $unit, limit_type: $limit_type}) MERGE (l)-[:HAS_MIN_LIMIT]->(r)'\n",
            "WARNING:neo4j.notifications:Received notification from DBMS server: {severity: WARNING} {code: Neo.ClientNotification.Statement.FeatureDeprecationWarning} {category: DEPRECATION} {title: This feature is deprecated and will be removed in future versions.} {description: The query used a deprecated function: `id`.} {position: line: 1, column: 28, offset: 27} for query: 'MATCH (l:Limitation) WHERE id(l) = $limit_id CREATE (r:RangeLimit $props) MERGE (l)-[:HAS_MAX_LIMIT]->(r)'\n",
            "WARNING:neo4j.notifications:Received notification from DBMS server: {severity: WARNING} {code: Neo.ClientNotification.Statement.FeatureDeprecationWarning} {category: DEPRECATION} {title: This feature is deprecated and will be removed in future versions.} {description: The query used a deprecated function: `id`.} {position: line: 1, column: 28, offset: 27} for query: 'MATCH (l:Limitation) WHERE id(l) = $limit_id MATCH (s:Specification {id: $spec_id}) MERGE (l)-[:LIMITS_SPECIFICATION]->(s)'\n",
            "WARNING:neo4j.notifications:Received notification from DBMS server: {severity: WARNING} {code: Neo.ClientNotification.Statement.FeatureDeprecationWarning} {category: DEPRECATION} {title: This feature is deprecated and will be removed in future versions.} {description: The query used a deprecated function: `id`.} {position: line: 1, column: 182, offset: 181} for query: 'MATCH (t:Tool {model_number: $model}) MERGE (l:Limitation {description: $description, warning_type: $warning_type}) ON CREATE SET l.id = $id MERGE (t)-[:HAS_LIMITATION]->(l) RETURN id(l) as limit_id'\n",
            "WARNING:neo4j.notifications:Received notification from DBMS server: {severity: WARNING} {code: Neo.ClientNotification.Statement.FeatureDeprecationWarning} {category: DEPRECATION} {title: This feature is deprecated and will be removed in future versions.} {description: The query used a deprecated function: `id`.} {position: line: 1, column: 28, offset: 27} for query: 'MATCH (l:Limitation) WHERE id(l) = $limit_id MERGE (r:RangeLimit {name: $name, value: $value, unit: $unit, limit_type: $limit_type}) MERGE (l)-[:HAS_MIN_LIMIT]->(r)'\n",
            "WARNING:neo4j.notifications:Received notification from DBMS server: {severity: WARNING} {code: Neo.ClientNotification.Statement.FeatureDeprecationWarning} {category: DEPRECATION} {title: This feature is deprecated and will be removed in future versions.} {description: The query used a deprecated function: `id`.} {position: line: 1, column: 28, offset: 27} for query: 'MATCH (l:Limitation) WHERE id(l) = $limit_id CREATE (r:RangeLimit $props) MERGE (l)-[:HAS_MAX_LIMIT]->(r)'\n",
            "WARNING:neo4j.notifications:Received notification from DBMS server: {severity: WARNING} {code: Neo.ClientNotification.Statement.FeatureDeprecationWarning} {category: DEPRECATION} {title: This feature is deprecated and will be removed in future versions.} {description: The query used a deprecated function: `id`.} {position: line: 1, column: 28, offset: 27} for query: 'MATCH (l:Limitation) WHERE id(l) = $limit_id MATCH (s:Specification {id: $spec_id}) MERGE (l)-[:LIMITS_SPECIFICATION]->(s)'\n",
            "WARNING:neo4j.notifications:Received notification from DBMS server: {severity: WARNING} {code: Neo.ClientNotification.Statement.FeatureDeprecationWarning} {category: DEPRECATION} {title: This feature is deprecated and will be removed in future versions.} {description: The query used a deprecated function: `id`.} {position: line: 1, column: 182, offset: 181} for query: 'MATCH (t:Tool {model_number: $model}) MERGE (l:Limitation {description: $description, warning_type: $warning_type}) ON CREATE SET l.id = $id MERGE (t)-[:HAS_LIMITATION]->(l) RETURN id(l) as limit_id'\n",
            "WARNING:neo4j.notifications:Received notification from DBMS server: {severity: WARNING} {code: Neo.ClientNotification.Statement.FeatureDeprecationWarning} {category: DEPRECATION} {title: This feature is deprecated and will be removed in future versions.} {description: The query used a deprecated function: `id`.} {position: line: 1, column: 28, offset: 27} for query: 'MATCH (l:Limitation) WHERE id(l) = $limit_id MERGE (r:RangeLimit {name: $name, value: $value, unit: $unit, limit_type: $limit_type}) MERGE (l)-[:HAS_MIN_LIMIT]->(r)'\n",
            "WARNING:neo4j.notifications:Received notification from DBMS server: {severity: WARNING} {code: Neo.ClientNotification.Statement.FeatureDeprecationWarning} {category: DEPRECATION} {title: This feature is deprecated and will be removed in future versions.} {description: The query used a deprecated function: `id`.} {position: line: 1, column: 28, offset: 27} for query: 'MATCH (l:Limitation) WHERE id(l) = $limit_id CREATE (r:RangeLimit $props) MERGE (l)-[:HAS_MAX_LIMIT]->(r)'\n",
            "WARNING:neo4j.notifications:Received notification from DBMS server: {severity: WARNING} {code: Neo.ClientNotification.Statement.FeatureDeprecationWarning} {category: DEPRECATION} {title: This feature is deprecated and will be removed in future versions.} {description: The query used a deprecated function: `id`.} {position: line: 1, column: 28, offset: 27} for query: 'MATCH (l:Limitation) WHERE id(l) = $limit_id MATCH (s:Specification {id: $spec_id}) MERGE (l)-[:LIMITS_SPECIFICATION]->(s)'\n",
            "WARNING:neo4j.notifications:Received notification from DBMS server: {severity: WARNING} {code: Neo.ClientNotification.Statement.FeatureDeprecationWarning} {category: DEPRECATION} {title: This feature is deprecated and will be removed in future versions.} {description: The query used a deprecated function: `id`.} {position: line: 1, column: 182, offset: 181} for query: 'MATCH (t:Tool {model_number: $model}) MERGE (l:Limitation {description: $description, warning_type: $warning_type}) ON CREATE SET l.id = $id MERGE (t)-[:HAS_LIMITATION]->(l) RETURN id(l) as limit_id'\n",
            "WARNING:neo4j.notifications:Received notification from DBMS server: {severity: WARNING} {code: Neo.ClientNotification.Statement.FeatureDeprecationWarning} {category: DEPRECATION} {title: This feature is deprecated and will be removed in future versions.} {description: The query used a deprecated function: `id`.} {position: line: 1, column: 28, offset: 27} for query: 'MATCH (l:Limitation) WHERE id(l) = $limit_id MERGE (r:RangeLimit {name: $name, value: $value, unit: $unit, limit_type: $limit_type}) MERGE (l)-[:HAS_MIN_LIMIT]->(r)'\n",
            "WARNING:neo4j.notifications:Received notification from DBMS server: {severity: WARNING} {code: Neo.ClientNotification.Statement.FeatureDeprecationWarning} {category: DEPRECATION} {title: This feature is deprecated and will be removed in future versions.} {description: The query used a deprecated function: `id`.} {position: line: 1, column: 28, offset: 27} for query: 'MATCH (l:Limitation) WHERE id(l) = $limit_id CREATE (r:RangeLimit $props) MERGE (l)-[:HAS_MAX_LIMIT]->(r)'\n",
            "WARNING:neo4j.notifications:Received notification from DBMS server: {severity: WARNING} {code: Neo.ClientNotification.Statement.FeatureDeprecationWarning} {category: DEPRECATION} {title: This feature is deprecated and will be removed in future versions.} {description: The query used a deprecated function: `id`.} {position: line: 1, column: 28, offset: 27} for query: 'MATCH (l:Limitation) WHERE id(l) = $limit_id MATCH (s:Specification {id: $spec_id}) MERGE (l)-[:LIMITS_SPECIFICATION]->(s)'\n",
            "WARNING:neo4j.notifications:Received notification from DBMS server: {severity: WARNING} {code: Neo.ClientNotification.Statement.FeatureDeprecationWarning} {category: DEPRECATION} {title: This feature is deprecated and will be removed in future versions.} {description: The query used a deprecated function: `id`.} {position: line: 1, column: 182, offset: 181} for query: 'MATCH (t:Tool {model_number: $model}) MERGE (l:Limitation {description: $description, warning_type: $warning_type}) ON CREATE SET l.id = $id MERGE (t)-[:HAS_LIMITATION]->(l) RETURN id(l) as limit_id'\n",
            "WARNING:neo4j.notifications:Received notification from DBMS server: {severity: WARNING} {code: Neo.ClientNotification.Statement.FeatureDeprecationWarning} {category: DEPRECATION} {title: This feature is deprecated and will be removed in future versions.} {description: The query used a deprecated function: `id`.} {position: line: 1, column: 28, offset: 27} for query: 'MATCH (l:Limitation) WHERE id(l) = $limit_id MERGE (r:RangeLimit {name: $name, value: $value, unit: $unit, limit_type: $limit_type}) MERGE (l)-[:HAS_MIN_LIMIT]->(r)'\n",
            "WARNING:neo4j.notifications:Received notification from DBMS server: {severity: WARNING} {code: Neo.ClientNotification.Statement.FeatureDeprecationWarning} {category: DEPRECATION} {title: This feature is deprecated and will be removed in future versions.} {description: The query used a deprecated function: `id`.} {position: line: 1, column: 28, offset: 27} for query: 'MATCH (l:Limitation) WHERE id(l) = $limit_id CREATE (r:RangeLimit $props) MERGE (l)-[:HAS_MAX_LIMIT]->(r)'\n",
            "WARNING:neo4j.notifications:Received notification from DBMS server: {severity: WARNING} {code: Neo.ClientNotification.Statement.FeatureDeprecationWarning} {category: DEPRECATION} {title: This feature is deprecated and will be removed in future versions.} {description: The query used a deprecated function: `id`.} {position: line: 1, column: 28, offset: 27} for query: 'MATCH (l:Limitation) WHERE id(l) = $limit_id MATCH (s:Specification {id: $spec_id}) MERGE (l)-[:LIMITS_SPECIFICATION]->(s)'\n",
            "WARNING:neo4j.notifications:Received notification from DBMS server: {severity: WARNING} {code: Neo.ClientNotification.Statement.FeatureDeprecationWarning} {category: DEPRECATION} {title: This feature is deprecated and will be removed in future versions.} {description: The query used a deprecated function: `id`.} {position: line: 1, column: 182, offset: 181} for query: 'MATCH (t:Tool {model_number: $model}) MERGE (l:Limitation {description: $description, warning_type: $warning_type}) ON CREATE SET l.id = $id MERGE (t)-[:HAS_LIMITATION]->(l) RETURN id(l) as limit_id'\n",
            "WARNING:neo4j.notifications:Received notification from DBMS server: {severity: WARNING} {code: Neo.ClientNotification.Statement.FeatureDeprecationWarning} {category: DEPRECATION} {title: This feature is deprecated and will be removed in future versions.} {description: The query used a deprecated function: `id`.} {position: line: 1, column: 28, offset: 27} for query: 'MATCH (l:Limitation) WHERE id(l) = $limit_id MERGE (r:RangeLimit {name: $name, value: $value, unit: $unit, limit_type: $limit_type}) MERGE (l)-[:HAS_MIN_LIMIT]->(r)'\n",
            "WARNING:neo4j.notifications:Received notification from DBMS server: {severity: WARNING} {code: Neo.ClientNotification.Statement.FeatureDeprecationWarning} {category: DEPRECATION} {title: This feature is deprecated and will be removed in future versions.} {description: The query used a deprecated function: `id`.} {position: line: 1, column: 28, offset: 27} for query: 'MATCH (l:Limitation) WHERE id(l) = $limit_id CREATE (r:RangeLimit $props) MERGE (l)-[:HAS_MAX_LIMIT]->(r)'\n",
            "WARNING:neo4j.notifications:Received notification from DBMS server: {severity: WARNING} {code: Neo.ClientNotification.Statement.FeatureDeprecationWarning} {category: DEPRECATION} {title: This feature is deprecated and will be removed in future versions.} {description: The query used a deprecated function: `id`.} {position: line: 1, column: 28, offset: 27} for query: 'MATCH (l:Limitation) WHERE id(l) = $limit_id MATCH (s:Specification {id: $spec_id}) MERGE (l)-[:LIMITS_SPECIFICATION]->(s)'\n",
            "WARNING:neo4j.notifications:Received notification from DBMS server: {severity: WARNING} {code: Neo.ClientNotification.Statement.FeatureDeprecationWarning} {category: DEPRECATION} {title: This feature is deprecated and will be removed in future versions.} {description: The query used a deprecated function: `id`.} {position: line: 1, column: 182, offset: 181} for query: 'MATCH (t:Tool {model_number: $model}) MERGE (l:Limitation {description: $description, warning_type: $warning_type}) ON CREATE SET l.id = $id MERGE (t)-[:HAS_LIMITATION]->(l) RETURN id(l) as limit_id'\n",
            "WARNING:neo4j.notifications:Received notification from DBMS server: {severity: WARNING} {code: Neo.ClientNotification.Statement.FeatureDeprecationWarning} {category: DEPRECATION} {title: This feature is deprecated and will be removed in future versions.} {description: The query used a deprecated function: `id`.} {position: line: 1, column: 28, offset: 27} for query: 'MATCH (l:Limitation) WHERE id(l) = $limit_id MERGE (r:RangeLimit {name: $name, value: $value, unit: $unit, limit_type: $limit_type}) MERGE (l)-[:HAS_MIN_LIMIT]->(r)'\n",
            "WARNING:neo4j.notifications:Received notification from DBMS server: {severity: WARNING} {code: Neo.ClientNotification.Statement.FeatureDeprecationWarning} {category: DEPRECATION} {title: This feature is deprecated and will be removed in future versions.} {description: The query used a deprecated function: `id`.} {position: line: 1, column: 28, offset: 27} for query: 'MATCH (l:Limitation) WHERE id(l) = $limit_id CREATE (r:RangeLimit $props) MERGE (l)-[:HAS_MAX_LIMIT]->(r)'\n",
            "WARNING:neo4j.notifications:Received notification from DBMS server: {severity: WARNING} {code: Neo.ClientNotification.Statement.FeatureDeprecationWarning} {category: DEPRECATION} {title: This feature is deprecated and will be removed in future versions.} {description: The query used a deprecated function: `id`.} {position: line: 1, column: 28, offset: 27} for query: 'MATCH (l:Limitation) WHERE id(l) = $limit_id MATCH (s:Specification {id: $spec_id}) MERGE (l)-[:LIMITS_SPECIFICATION]->(s)'\n",
            "WARNING:neo4j.notifications:Received notification from DBMS server: {severity: WARNING} {code: Neo.ClientNotification.Statement.FeatureDeprecationWarning} {category: DEPRECATION} {title: This feature is deprecated and will be removed in future versions.} {description: The query used a deprecated function: `id`.} {position: line: 1, column: 150, offset: 149} for query: 'MATCH (t:Tool {model_number: $model}) MERGE (s:Specification {name: $spec_name}) ON CREATE SET s = $props MERGE (t)-[:HAS_SPECIFICATION]->(s) RETURN id(s) as spec_id'\n",
            "WARNING:neo4j.notifications:Received notification from DBMS server: {severity: WARNING} {code: Neo.ClientNotification.Statement.FeatureDeprecationWarning} {category: DEPRECATION} {title: This feature is deprecated and will be removed in future versions.} {description: The query used a deprecated function: `id`.} {position: line: 1, column: 31, offset: 30} for query: 'MATCH (s:Specification) WHERE id(s) = $spec_id MERGE (u:Unit {symbol: $symbol}) ON CREATE SET u.name = $name MERGE (s)-[:HAS_UNIT]->(u)'\n",
            "WARNING:neo4j.notifications:Received notification from DBMS server: {severity: WARNING} {code: Neo.ClientNotification.Statement.FeatureDeprecationWarning} {category: DEPRECATION} {title: This feature is deprecated and will be removed in future versions.} {description: The query used a deprecated function: `id`.} {position: line: 1, column: 31, offset: 30} for query: 'MATCH (s:Specification) WHERE id(s) = $spec_id MERGE (l:RangeLimit {name: $limit_name, value: $value, unit: $unit, limit_type: $limit_type}) MERGE (s)-[:HAS_MIN_LIMIT]->(l)'\n",
            "WARNING:neo4j.notifications:Received notification from DBMS server: {severity: WARNING} {code: Neo.ClientNotification.Statement.FeatureDeprecationWarning} {category: DEPRECATION} {title: This feature is deprecated and will be removed in future versions.} {description: The query used a deprecated function: `id`.} {position: line: 1, column: 31, offset: 30} for query: 'MATCH (s:Specification) WHERE id(s) = $spec_id MERGE (l:RangeLimit {name: $limit_name, value: $value, unit: $unit, limit_type: $limit_type}) MERGE (s)-[:HAS_MAX_LIMIT]->(l)'\n",
            "WARNING:neo4j.notifications:Received notification from DBMS server: {severity: WARNING} {code: Neo.ClientNotification.Statement.FeatureDeprecationWarning} {category: DEPRECATION} {title: This feature is deprecated and will be removed in future versions.} {description: The query used a deprecated function: `id`.} {position: line: 1, column: 150, offset: 149} for query: 'MATCH (t:Tool {model_number: $model}) MERGE (s:Specification {name: $spec_name}) ON CREATE SET s = $props MERGE (t)-[:HAS_SPECIFICATION]->(s) RETURN id(s) as spec_id'\n",
            "WARNING:neo4j.notifications:Received notification from DBMS server: {severity: WARNING} {code: Neo.ClientNotification.Statement.FeatureDeprecationWarning} {category: DEPRECATION} {title: This feature is deprecated and will be removed in future versions.} {description: The query used a deprecated function: `id`.} {position: line: 1, column: 150, offset: 149} for query: 'MATCH (t:Tool {model_number: $model}) MERGE (s:Specification {name: $spec_name}) ON CREATE SET s = $props MERGE (t)-[:HAS_SPECIFICATION]->(s) RETURN id(s) as spec_id'\n",
            "WARNING:neo4j.notifications:Received notification from DBMS server: {severity: WARNING} {code: Neo.ClientNotification.Statement.FeatureDeprecationWarning} {category: DEPRECATION} {title: This feature is deprecated and will be removed in future versions.} {description: The query used a deprecated function: `id`.} {position: line: 1, column: 150, offset: 149} for query: 'MATCH (t:Tool {model_number: $model}) MERGE (s:Specification {name: $spec_name}) ON CREATE SET s = $props MERGE (t)-[:HAS_SPECIFICATION]->(s) RETURN id(s) as spec_id'\n",
            "WARNING:neo4j.notifications:Received notification from DBMS server: {severity: WARNING} {code: Neo.ClientNotification.Statement.FeatureDeprecationWarning} {category: DEPRECATION} {title: This feature is deprecated and will be removed in future versions.} {description: The query used a deprecated function: `id`.} {position: line: 1, column: 31, offset: 30} for query: 'MATCH (s:Specification) WHERE id(s) = $spec_id MERGE (l:RangeLimit {name: $limit_name, value: $value, unit: $unit, limit_type: $limit_type}) MERGE (s)-[:HAS_MIN_LIMIT]->(l)'\n",
            "WARNING:neo4j.notifications:Received notification from DBMS server: {severity: WARNING} {code: Neo.ClientNotification.Statement.FeatureDeprecationWarning} {category: DEPRECATION} {title: This feature is deprecated and will be removed in future versions.} {description: The query used a deprecated function: `id`.} {position: line: 1, column: 31, offset: 30} for query: 'MATCH (s:Specification) WHERE id(s) = $spec_id MERGE (l:RangeLimit {name: $limit_name, value: $value, unit: $unit, limit_type: $limit_type}) MERGE (s)-[:HAS_MAX_LIMIT]->(l)'\n",
            "WARNING:neo4j.notifications:Received notification from DBMS server: {severity: WARNING} {code: Neo.ClientNotification.Statement.FeatureDeprecationWarning} {category: DEPRECATION} {title: This feature is deprecated and will be removed in future versions.} {description: The query used a deprecated function: `id`.} {position: line: 1, column: 150, offset: 149} for query: 'MATCH (t:Tool {model_number: $model}) MERGE (s:Specification {name: $spec_name}) ON CREATE SET s = $props MERGE (t)-[:HAS_SPECIFICATION]->(s) RETURN id(s) as spec_id'\n",
            "WARNING:neo4j.notifications:Received notification from DBMS server: {severity: WARNING} {code: Neo.ClientNotification.Statement.FeatureDeprecationWarning} {category: DEPRECATION} {title: This feature is deprecated and will be removed in future versions.} {description: The query used a deprecated function: `id`.} {position: line: 1, column: 31, offset: 30} for query: 'MATCH (s:Specification) WHERE id(s) = $spec_id MERGE (l:RangeLimit {name: $limit_name, value: $value, unit: $unit, limit_type: $limit_type}) MERGE (s)-[:HAS_MIN_LIMIT]->(l)'\n",
            "WARNING:neo4j.notifications:Received notification from DBMS server: {severity: WARNING} {code: Neo.ClientNotification.Statement.FeatureDeprecationWarning} {category: DEPRECATION} {title: This feature is deprecated and will be removed in future versions.} {description: The query used a deprecated function: `id`.} {position: line: 1, column: 31, offset: 30} for query: 'MATCH (s:Specification) WHERE id(s) = $spec_id MERGE (l:RangeLimit {name: $limit_name, value: $value, unit: $unit, limit_type: $limit_type}) MERGE (s)-[:HAS_MAX_LIMIT]->(l)'\n",
            "WARNING:neo4j.notifications:Received notification from DBMS server: {severity: WARNING} {code: Neo.ClientNotification.Statement.FeatureDeprecationWarning} {category: DEPRECATION} {title: This feature is deprecated and will be removed in future versions.} {description: The query used a deprecated function: `id`.} {position: line: 1, column: 150, offset: 149} for query: 'MATCH (t:Tool {model_number: $model}) MERGE (s:Specification {name: $spec_name}) ON CREATE SET s = $props MERGE (t)-[:HAS_SPECIFICATION]->(s) RETURN id(s) as spec_id'\n",
            "WARNING:neo4j.notifications:Received notification from DBMS server: {severity: WARNING} {code: Neo.ClientNotification.Statement.FeatureDeprecationWarning} {category: DEPRECATION} {title: This feature is deprecated and will be removed in future versions.} {description: The query used a deprecated function: `id`.} {position: line: 1, column: 150, offset: 149} for query: 'MATCH (t:Tool {model_number: $model}) MERGE (s:Specification {name: $spec_name}) ON CREATE SET s = $props MERGE (t)-[:HAS_SPECIFICATION]->(s) RETURN id(s) as spec_id'\n",
            "WARNING:neo4j.notifications:Received notification from DBMS server: {severity: WARNING} {code: Neo.ClientNotification.Statement.FeatureDeprecationWarning} {category: DEPRECATION} {title: This feature is deprecated and will be removed in future versions.} {description: The query used a deprecated function: `id`.} {position: line: 1, column: 150, offset: 149} for query: 'MATCH (t:Tool {model_number: $model}) MERGE (s:Specification {name: $spec_name}) ON CREATE SET s = $props MERGE (t)-[:HAS_SPECIFICATION]->(s) RETURN id(s) as spec_id'\n",
            "WARNING:neo4j.notifications:Received notification from DBMS server: {severity: WARNING} {code: Neo.ClientNotification.Statement.FeatureDeprecationWarning} {category: DEPRECATION} {title: This feature is deprecated and will be removed in future versions.} {description: The query used a deprecated function: `id`.} {position: line: 1, column: 150, offset: 149} for query: 'MATCH (t:Tool {model_number: $model}) MERGE (s:Specification {name: $spec_name}) ON CREATE SET s = $props MERGE (t)-[:HAS_SPECIFICATION]->(s) RETURN id(s) as spec_id'\n",
            "WARNING:neo4j.notifications:Received notification from DBMS server: {severity: WARNING} {code: Neo.ClientNotification.Statement.FeatureDeprecationWarning} {category: DEPRECATION} {title: This feature is deprecated and will be removed in future versions.} {description: The query used a deprecated function: `id`.} {position: line: 1, column: 31, offset: 30} for query: 'MATCH (s:Specification) WHERE id(s) = $spec_id MERGE (u:Unit {symbol: $symbol}) ON CREATE SET u.name = $name MERGE (s)-[:HAS_UNIT]->(u)'\n",
            "WARNING:neo4j.notifications:Received notification from DBMS server: {severity: WARNING} {code: Neo.ClientNotification.Statement.FeatureDeprecationWarning} {category: DEPRECATION} {title: This feature is deprecated and will be removed in future versions.} {description: The query used a deprecated function: `id`.} {position: line: 1, column: 150, offset: 149} for query: 'MATCH (t:Tool {model_number: $model}) MERGE (s:Specification {name: $spec_name}) ON CREATE SET s = $props MERGE (t)-[:HAS_SPECIFICATION]->(s) RETURN id(s) as spec_id'\n",
            "WARNING:neo4j.notifications:Received notification from DBMS server: {severity: WARNING} {code: Neo.ClientNotification.Statement.FeatureDeprecationWarning} {category: DEPRECATION} {title: This feature is deprecated and will be removed in future versions.} {description: The query used a deprecated function: `id`.} {position: line: 1, column: 31, offset: 30} for query: 'MATCH (s:Specification) WHERE id(s) = $spec_id MERGE (u:Unit {symbol: $symbol}) ON CREATE SET u.name = $name MERGE (s)-[:HAS_UNIT]->(u)'\n",
            "WARNING:neo4j.notifications:Received notification from DBMS server: {severity: WARNING} {code: Neo.ClientNotification.Statement.FeatureDeprecationWarning} {category: DEPRECATION} {title: This feature is deprecated and will be removed in future versions.} {description: The query used a deprecated function: `id`.} {position: line: 1, column: 150, offset: 149} for query: 'MATCH (t:Tool {model_number: $model}) MERGE (s:Specification {name: $spec_name}) ON CREATE SET s = $props MERGE (t)-[:HAS_SPECIFICATION]->(s) RETURN id(s) as spec_id'\n",
            "WARNING:neo4j.notifications:Received notification from DBMS server: {severity: WARNING} {code: Neo.ClientNotification.Statement.FeatureDeprecationWarning} {category: DEPRECATION} {title: This feature is deprecated and will be removed in future versions.} {description: The query used a deprecated function: `id`.} {position: line: 1, column: 150, offset: 149} for query: 'MATCH (t:Tool {model_number: $model}) MERGE (s:Specification {name: $spec_name}) ON CREATE SET s = $props MERGE (t)-[:HAS_SPECIFICATION]->(s) RETURN id(s) as spec_id'\n",
            "WARNING:neo4j.notifications:Received notification from DBMS server: {severity: WARNING} {code: Neo.ClientNotification.Statement.FeatureDeprecationWarning} {category: DEPRECATION} {title: This feature is deprecated and will be removed in future versions.} {description: The query used a deprecated function: `id`.} {position: line: 1, column: 31, offset: 30} for query: 'MATCH (s:Specification) WHERE id(s) = $spec_id MERGE (l:RangeLimit {name: $limit_name, value: $value, unit: $unit, limit_type: $limit_type}) MERGE (s)-[:HAS_MIN_LIMIT]->(l)'\n",
            "WARNING:neo4j.notifications:Received notification from DBMS server: {severity: WARNING} {code: Neo.ClientNotification.Statement.FeatureDeprecationWarning} {category: DEPRECATION} {title: This feature is deprecated and will be removed in future versions.} {description: The query used a deprecated function: `id`.} {position: line: 1, column: 31, offset: 30} for query: 'MATCH (s:Specification) WHERE id(s) = $spec_id MERGE (l:RangeLimit {name: $limit_name, value: $value, unit: $unit, limit_type: $limit_type}) MERGE (s)-[:HAS_MAX_LIMIT]->(l)'\n",
            "WARNING:neo4j.notifications:Received notification from DBMS server: {severity: WARNING} {code: Neo.ClientNotification.Statement.FeatureDeprecationWarning} {category: DEPRECATION} {title: This feature is deprecated and will be removed in future versions.} {description: The query used a deprecated function: `id`.} {position: line: 1, column: 150, offset: 149} for query: 'MATCH (t:Tool {model_number: $model}) MERGE (s:Specification {name: $spec_name}) ON CREATE SET s = $props MERGE (t)-[:HAS_SPECIFICATION]->(s) RETURN id(s) as spec_id'\n",
            "WARNING:neo4j.notifications:Received notification from DBMS server: {severity: WARNING} {code: Neo.ClientNotification.Statement.FeatureDeprecationWarning} {category: DEPRECATION} {title: This feature is deprecated and will be removed in future versions.} {description: The query used a deprecated function: `id`.} {position: line: 1, column: 31, offset: 30} for query: 'MATCH (s:Specification) WHERE id(s) = $spec_id MERGE (u:Unit {symbol: $symbol}) ON CREATE SET u.name = $name MERGE (s)-[:HAS_UNIT]->(u)'\n",
            "WARNING:neo4j.notifications:Received notification from DBMS server: {severity: WARNING} {code: Neo.ClientNotification.Statement.FeatureDeprecationWarning} {category: DEPRECATION} {title: This feature is deprecated and will be removed in future versions.} {description: The query used a deprecated function: `id`.} {position: line: 1, column: 31, offset: 30} for query: 'MATCH (s:Specification) WHERE id(s) = $spec_id MERGE (l:RangeLimit {name: $limit_name, value: $value, unit: $unit, limit_type: $limit_type}) MERGE (s)-[:HAS_MIN_LIMIT]->(l)'\n",
            "WARNING:neo4j.notifications:Received notification from DBMS server: {severity: WARNING} {code: Neo.ClientNotification.Statement.FeatureDeprecationWarning} {category: DEPRECATION} {title: This feature is deprecated and will be removed in future versions.} {description: The query used a deprecated function: `id`.} {position: line: 1, column: 31, offset: 30} for query: 'MATCH (s:Specification) WHERE id(s) = $spec_id MERGE (l:RangeLimit {name: $limit_name, value: $value, unit: $unit, limit_type: $limit_type}) MERGE (s)-[:HAS_MAX_LIMIT]->(l)'\n",
            "WARNING:neo4j.notifications:Received notification from DBMS server: {severity: WARNING} {code: Neo.ClientNotification.Statement.FeatureDeprecationWarning} {category: DEPRECATION} {title: This feature is deprecated and will be removed in future versions.} {description: The query used a deprecated function: `id`.} {position: line: 1, column: 150, offset: 149} for query: 'MATCH (t:Tool {model_number: $model}) MERGE (s:Specification {name: $spec_name}) ON CREATE SET s = $props MERGE (t)-[:HAS_SPECIFICATION]->(s) RETURN id(s) as spec_id'\n",
            "WARNING:neo4j.notifications:Received notification from DBMS server: {severity: WARNING} {code: Neo.ClientNotification.Statement.FeatureDeprecationWarning} {category: DEPRECATION} {title: This feature is deprecated and will be removed in future versions.} {description: The query used a deprecated function: `id`.} {position: line: 1, column: 31, offset: 30} for query: 'MATCH (s:Specification) WHERE id(s) = $spec_id MERGE (u:Unit {symbol: $symbol}) ON CREATE SET u.name = $name MERGE (s)-[:HAS_UNIT]->(u)'\n",
            "WARNING:neo4j.notifications:Received notification from DBMS server: {severity: WARNING} {code: Neo.ClientNotification.Statement.FeatureDeprecationWarning} {category: DEPRECATION} {title: This feature is deprecated and will be removed in future versions.} {description: The query used a deprecated function: `id`.} {position: line: 1, column: 150, offset: 149} for query: 'MATCH (t:Tool {model_number: $model}) MERGE (s:Specification {name: $spec_name}) ON CREATE SET s = $props MERGE (t)-[:HAS_SPECIFICATION]->(s) RETURN id(s) as spec_id'\n",
            "WARNING:neo4j.notifications:Received notification from DBMS server: {severity: WARNING} {code: Neo.ClientNotification.Statement.FeatureDeprecationWarning} {category: DEPRECATION} {title: This feature is deprecated and will be removed in future versions.} {description: The query used a deprecated function: `id`.} {position: line: 1, column: 31, offset: 30} for query: 'MATCH (s:Specification) WHERE id(s) = $spec_id MERGE (u:Unit {symbol: $symbol}) ON CREATE SET u.name = $name MERGE (s)-[:HAS_UNIT]->(u)'\n",
            "WARNING:neo4j.notifications:Received notification from DBMS server: {severity: WARNING} {code: Neo.ClientNotification.Statement.FeatureDeprecationWarning} {category: DEPRECATION} {title: This feature is deprecated and will be removed in future versions.} {description: The query used a deprecated function: `id`.} {position: line: 1, column: 150, offset: 149} for query: 'MATCH (t:Tool {model_number: $model}) MERGE (s:Specification {name: $spec_name}) ON CREATE SET s = $props MERGE (t)-[:HAS_SPECIFICATION]->(s) RETURN id(s) as spec_id'\n",
            "WARNING:neo4j.notifications:Received notification from DBMS server: {severity: WARNING} {code: Neo.ClientNotification.Statement.FeatureDeprecationWarning} {category: DEPRECATION} {title: This feature is deprecated and will be removed in future versions.} {description: The query used a deprecated function: `id`.} {position: line: 1, column: 150, offset: 149} for query: 'MATCH (t:Tool {model_number: $model}) MERGE (s:Specification {name: $spec_name}) ON CREATE SET s = $props MERGE (t)-[:HAS_SPECIFICATION]->(s) RETURN id(s) as spec_id'\n",
            "WARNING:neo4j.notifications:Received notification from DBMS server: {severity: WARNING} {code: Neo.ClientNotification.Statement.FeatureDeprecationWarning} {category: DEPRECATION} {title: This feature is deprecated and will be removed in future versions.} {description: The query used a deprecated function: `id`.} {position: line: 1, column: 31, offset: 30} for query: 'MATCH (s:Specification) WHERE id(s) = $spec_id MERGE (u:Unit {symbol: $symbol}) ON CREATE SET u.name = $name MERGE (s)-[:HAS_UNIT]->(u)'\n",
            "WARNING:neo4j.notifications:Received notification from DBMS server: {severity: WARNING} {code: Neo.ClientNotification.Statement.FeatureDeprecationWarning} {category: DEPRECATION} {title: This feature is deprecated and will be removed in future versions.} {description: The query used a deprecated function: `id`.} {position: line: 1, column: 150, offset: 149} for query: 'MATCH (t:Tool {model_number: $model}) MERGE (s:Specification {name: $spec_name}) ON CREATE SET s = $props MERGE (t)-[:HAS_SPECIFICATION]->(s) RETURN id(s) as spec_id'\n",
            "WARNING:neo4j.notifications:Received notification from DBMS server: {severity: WARNING} {code: Neo.ClientNotification.Statement.FeatureDeprecationWarning} {category: DEPRECATION} {title: This feature is deprecated and will be removed in future versions.} {description: The query used a deprecated function: `id`.} {position: line: 1, column: 31, offset: 30} for query: 'MATCH (s:Specification) WHERE id(s) = $spec_id MERGE (l:RangeLimit {name: $limit_name, value: $value, unit: $unit, limit_type: $limit_type}) MERGE (s)-[:HAS_MIN_LIMIT]->(l)'\n",
            "WARNING:neo4j.notifications:Received notification from DBMS server: {severity: WARNING} {code: Neo.ClientNotification.Statement.FeatureDeprecationWarning} {category: DEPRECATION} {title: This feature is deprecated and will be removed in future versions.} {description: The query used a deprecated function: `id`.} {position: line: 1, column: 31, offset: 30} for query: 'MATCH (s:Specification) WHERE id(s) = $spec_id MERGE (l:RangeLimit {name: $limit_name, value: $value, unit: $unit, limit_type: $limit_type}) MERGE (s)-[:HAS_MAX_LIMIT]->(l)'\n",
            "WARNING:neo4j.notifications:Received notification from DBMS server: {severity: WARNING} {code: Neo.ClientNotification.Statement.FeatureDeprecationWarning} {category: DEPRECATION} {title: This feature is deprecated and will be removed in future versions.} {description: The query used a deprecated function: `id`.} {position: line: 1, column: 182, offset: 181} for query: 'MATCH (t:Tool {model_number: $model}) MERGE (l:Limitation {description: $description, warning_type: $warning_type}) ON CREATE SET l.id = $id MERGE (t)-[:HAS_LIMITATION]->(l) RETURN id(l) as limit_id'\n",
            "WARNING:neo4j.notifications:Received notification from DBMS server: {severity: WARNING} {code: Neo.ClientNotification.Statement.FeatureDeprecationWarning} {category: DEPRECATION} {title: This feature is deprecated and will be removed in future versions.} {description: The query used a deprecated function: `id`.} {position: line: 1, column: 28, offset: 27} for query: 'MATCH (l:Limitation) WHERE id(l) = $limit_id MERGE (r:RangeLimit {name: $name, value: $value, unit: $unit, limit_type: $limit_type}) MERGE (l)-[:HAS_MIN_LIMIT]->(r)'\n",
            "WARNING:neo4j.notifications:Received notification from DBMS server: {severity: WARNING} {code: Neo.ClientNotification.Statement.FeatureDeprecationWarning} {category: DEPRECATION} {title: This feature is deprecated and will be removed in future versions.} {description: The query used a deprecated function: `id`.} {position: line: 1, column: 28, offset: 27} for query: 'MATCH (l:Limitation) WHERE id(l) = $limit_id CREATE (r:RangeLimit $props) MERGE (l)-[:HAS_MAX_LIMIT]->(r)'\n",
            "WARNING:neo4j.notifications:Received notification from DBMS server: {severity: WARNING} {code: Neo.ClientNotification.Statement.FeatureDeprecationWarning} {category: DEPRECATION} {title: This feature is deprecated and will be removed in future versions.} {description: The query used a deprecated function: `id`.} {position: line: 1, column: 28, offset: 27} for query: 'MATCH (l:Limitation) WHERE id(l) = $limit_id MATCH (s:Specification {id: $spec_id}) MERGE (l)-[:LIMITS_SPECIFICATION]->(s)'\n",
            "WARNING:neo4j.notifications:Received notification from DBMS server: {severity: WARNING} {code: Neo.ClientNotification.Statement.FeatureDeprecationWarning} {category: DEPRECATION} {title: This feature is deprecated and will be removed in future versions.} {description: The query used a deprecated function: `id`.} {position: line: 1, column: 182, offset: 181} for query: 'MATCH (t:Tool {model_number: $model}) MERGE (l:Limitation {description: $description, warning_type: $warning_type}) ON CREATE SET l.id = $id MERGE (t)-[:HAS_LIMITATION]->(l) RETURN id(l) as limit_id'\n",
            "WARNING:neo4j.notifications:Received notification from DBMS server: {severity: WARNING} {code: Neo.ClientNotification.Statement.FeatureDeprecationWarning} {category: DEPRECATION} {title: This feature is deprecated and will be removed in future versions.} {description: The query used a deprecated function: `id`.} {position: line: 1, column: 28, offset: 27} for query: 'MATCH (l:Limitation) WHERE id(l) = $limit_id MERGE (r:RangeLimit {name: $name, value: $value, unit: $unit, limit_type: $limit_type}) MERGE (l)-[:HAS_MIN_LIMIT]->(r)'\n",
            "WARNING:neo4j.notifications:Received notification from DBMS server: {severity: WARNING} {code: Neo.ClientNotification.Statement.FeatureDeprecationWarning} {category: DEPRECATION} {title: This feature is deprecated and will be removed in future versions.} {description: The query used a deprecated function: `id`.} {position: line: 1, column: 28, offset: 27} for query: 'MATCH (l:Limitation) WHERE id(l) = $limit_id CREATE (r:RangeLimit $props) MERGE (l)-[:HAS_MAX_LIMIT]->(r)'\n",
            "WARNING:neo4j.notifications:Received notification from DBMS server: {severity: WARNING} {code: Neo.ClientNotification.Statement.FeatureDeprecationWarning} {category: DEPRECATION} {title: This feature is deprecated and will be removed in future versions.} {description: The query used a deprecated function: `id`.} {position: line: 1, column: 28, offset: 27} for query: 'MATCH (l:Limitation) WHERE id(l) = $limit_id MATCH (s:Specification {id: $spec_id}) MERGE (l)-[:LIMITS_SPECIFICATION]->(s)'\n",
            "WARNING:neo4j.notifications:Received notification from DBMS server: {severity: WARNING} {code: Neo.ClientNotification.Statement.FeatureDeprecationWarning} {category: DEPRECATION} {title: This feature is deprecated and will be removed in future versions.} {description: The query used a deprecated function: `id`.} {position: line: 1, column: 182, offset: 181} for query: 'MATCH (t:Tool {model_number: $model}) MERGE (l:Limitation {description: $description, warning_type: $warning_type}) ON CREATE SET l.id = $id MERGE (t)-[:HAS_LIMITATION]->(l) RETURN id(l) as limit_id'\n",
            "WARNING:neo4j.notifications:Received notification from DBMS server: {severity: WARNING} {code: Neo.ClientNotification.Statement.FeatureDeprecationWarning} {category: DEPRECATION} {title: This feature is deprecated and will be removed in future versions.} {description: The query used a deprecated function: `id`.} {position: line: 1, column: 28, offset: 27} for query: 'MATCH (l:Limitation) WHERE id(l) = $limit_id MERGE (r:RangeLimit {name: $name, value: $value, unit: $unit, limit_type: $limit_type}) MERGE (l)-[:HAS_MIN_LIMIT]->(r)'\n",
            "WARNING:neo4j.notifications:Received notification from DBMS server: {severity: WARNING} {code: Neo.ClientNotification.Statement.FeatureDeprecationWarning} {category: DEPRECATION} {title: This feature is deprecated and will be removed in future versions.} {description: The query used a deprecated function: `id`.} {position: line: 1, column: 28, offset: 27} for query: 'MATCH (l:Limitation) WHERE id(l) = $limit_id CREATE (r:RangeLimit $props) MERGE (l)-[:HAS_MAX_LIMIT]->(r)'\n",
            "WARNING:neo4j.notifications:Received notification from DBMS server: {severity: WARNING} {code: Neo.ClientNotification.Statement.FeatureDeprecationWarning} {category: DEPRECATION} {title: This feature is deprecated and will be removed in future versions.} {description: The query used a deprecated function: `id`.} {position: line: 1, column: 28, offset: 27} for query: 'MATCH (l:Limitation) WHERE id(l) = $limit_id MATCH (s:Specification {id: $spec_id}) MERGE (l)-[:LIMITS_SPECIFICATION]->(s)'\n",
            "WARNING:neo4j.notifications:Received notification from DBMS server: {severity: WARNING} {code: Neo.ClientNotification.Statement.FeatureDeprecationWarning} {category: DEPRECATION} {title: This feature is deprecated and will be removed in future versions.} {description: The query used a deprecated function: `id`.} {position: line: 1, column: 182, offset: 181} for query: 'MATCH (t:Tool {model_number: $model}) MERGE (l:Limitation {description: $description, warning_type: $warning_type}) ON CREATE SET l.id = $id MERGE (t)-[:HAS_LIMITATION]->(l) RETURN id(l) as limit_id'\n",
            "WARNING:neo4j.notifications:Received notification from DBMS server: {severity: WARNING} {code: Neo.ClientNotification.Statement.FeatureDeprecationWarning} {category: DEPRECATION} {title: This feature is deprecated and will be removed in future versions.} {description: The query used a deprecated function: `id`.} {position: line: 1, column: 28, offset: 27} for query: 'MATCH (l:Limitation) WHERE id(l) = $limit_id MERGE (r:RangeLimit {name: $name, value: $value, unit: $unit, limit_type: $limit_type}) MERGE (l)-[:HAS_MIN_LIMIT]->(r)'\n",
            "WARNING:neo4j.notifications:Received notification from DBMS server: {severity: WARNING} {code: Neo.ClientNotification.Statement.FeatureDeprecationWarning} {category: DEPRECATION} {title: This feature is deprecated and will be removed in future versions.} {description: The query used a deprecated function: `id`.} {position: line: 1, column: 28, offset: 27} for query: 'MATCH (l:Limitation) WHERE id(l) = $limit_id CREATE (r:RangeLimit $props) MERGE (l)-[:HAS_MAX_LIMIT]->(r)'\n",
            "WARNING:neo4j.notifications:Received notification from DBMS server: {severity: WARNING} {code: Neo.ClientNotification.Statement.FeatureDeprecationWarning} {category: DEPRECATION} {title: This feature is deprecated and will be removed in future versions.} {description: The query used a deprecated function: `id`.} {position: line: 1, column: 28, offset: 27} for query: 'MATCH (l:Limitation) WHERE id(l) = $limit_id MATCH (s:Specification {id: $spec_id}) MERGE (l)-[:LIMITS_SPECIFICATION]->(s)'\n",
            "WARNING:neo4j.notifications:Received notification from DBMS server: {severity: WARNING} {code: Neo.ClientNotification.Statement.FeatureDeprecationWarning} {category: DEPRECATION} {title: This feature is deprecated and will be removed in future versions.} {description: The query used a deprecated function: `id`.} {position: line: 1, column: 182, offset: 181} for query: 'MATCH (t:Tool {model_number: $model}) MERGE (l:Limitation {description: $description, warning_type: $warning_type}) ON CREATE SET l.id = $id MERGE (t)-[:HAS_LIMITATION]->(l) RETURN id(l) as limit_id'\n",
            "WARNING:neo4j.notifications:Received notification from DBMS server: {severity: WARNING} {code: Neo.ClientNotification.Statement.FeatureDeprecationWarning} {category: DEPRECATION} {title: This feature is deprecated and will be removed in future versions.} {description: The query used a deprecated function: `id`.} {position: line: 1, column: 28, offset: 27} for query: 'MATCH (l:Limitation) WHERE id(l) = $limit_id MERGE (r:RangeLimit {name: $name, value: $value, unit: $unit, limit_type: $limit_type}) MERGE (l)-[:HAS_MIN_LIMIT]->(r)'\n",
            "WARNING:neo4j.notifications:Received notification from DBMS server: {severity: WARNING} {code: Neo.ClientNotification.Statement.FeatureDeprecationWarning} {category: DEPRECATION} {title: This feature is deprecated and will be removed in future versions.} {description: The query used a deprecated function: `id`.} {position: line: 1, column: 28, offset: 27} for query: 'MATCH (l:Limitation) WHERE id(l) = $limit_id CREATE (r:RangeLimit $props) MERGE (l)-[:HAS_MAX_LIMIT]->(r)'\n",
            "WARNING:neo4j.notifications:Received notification from DBMS server: {severity: WARNING} {code: Neo.ClientNotification.Statement.FeatureDeprecationWarning} {category: DEPRECATION} {title: This feature is deprecated and will be removed in future versions.} {description: The query used a deprecated function: `id`.} {position: line: 1, column: 28, offset: 27} for query: 'MATCH (l:Limitation) WHERE id(l) = $limit_id MATCH (s:Specification {id: $spec_id}) MERGE (l)-[:LIMITS_SPECIFICATION]->(s)'\n",
            "WARNING:neo4j.notifications:Received notification from DBMS server: {severity: WARNING} {code: Neo.ClientNotification.Statement.FeatureDeprecationWarning} {category: DEPRECATION} {title: This feature is deprecated and will be removed in future versions.} {description: The query used a deprecated function: `id`.} {position: line: 1, column: 182, offset: 181} for query: 'MATCH (t:Tool {model_number: $model}) MERGE (l:Limitation {description: $description, warning_type: $warning_type}) ON CREATE SET l.id = $id MERGE (t)-[:HAS_LIMITATION]->(l) RETURN id(l) as limit_id'\n",
            "WARNING:neo4j.notifications:Received notification from DBMS server: {severity: WARNING} {code: Neo.ClientNotification.Statement.FeatureDeprecationWarning} {category: DEPRECATION} {title: This feature is deprecated and will be removed in future versions.} {description: The query used a deprecated function: `id`.} {position: line: 1, column: 28, offset: 27} for query: 'MATCH (l:Limitation) WHERE id(l) = $limit_id MERGE (r:RangeLimit {name: $name, value: $value, unit: $unit, limit_type: $limit_type}) MERGE (l)-[:HAS_MIN_LIMIT]->(r)'\n",
            "WARNING:neo4j.notifications:Received notification from DBMS server: {severity: WARNING} {code: Neo.ClientNotification.Statement.FeatureDeprecationWarning} {category: DEPRECATION} {title: This feature is deprecated and will be removed in future versions.} {description: The query used a deprecated function: `id`.} {position: line: 1, column: 28, offset: 27} for query: 'MATCH (l:Limitation) WHERE id(l) = $limit_id CREATE (r:RangeLimit $props) MERGE (l)-[:HAS_MAX_LIMIT]->(r)'\n",
            "WARNING:neo4j.notifications:Received notification from DBMS server: {severity: WARNING} {code: Neo.ClientNotification.Statement.FeatureDeprecationWarning} {category: DEPRECATION} {title: This feature is deprecated and will be removed in future versions.} {description: The query used a deprecated function: `id`.} {position: line: 1, column: 28, offset: 27} for query: 'MATCH (l:Limitation) WHERE id(l) = $limit_id MATCH (s:Specification {id: $spec_id}) MERGE (l)-[:LIMITS_SPECIFICATION]->(s)'\n",
            "WARNING:neo4j.notifications:Received notification from DBMS server: {severity: WARNING} {code: Neo.ClientNotification.Statement.FeatureDeprecationWarning} {category: DEPRECATION} {title: This feature is deprecated and will be removed in future versions.} {description: The query used a deprecated function: `id`.} {position: line: 1, column: 182, offset: 181} for query: 'MATCH (t:Tool {model_number: $model}) MERGE (l:Limitation {description: $description, warning_type: $warning_type}) ON CREATE SET l.id = $id MERGE (t)-[:HAS_LIMITATION]->(l) RETURN id(l) as limit_id'\n",
            "WARNING:neo4j.notifications:Received notification from DBMS server: {severity: WARNING} {code: Neo.ClientNotification.Statement.FeatureDeprecationWarning} {category: DEPRECATION} {title: This feature is deprecated and will be removed in future versions.} {description: The query used a deprecated function: `id`.} {position: line: 1, column: 28, offset: 27} for query: 'MATCH (l:Limitation) WHERE id(l) = $limit_id MERGE (r:RangeLimit {name: $name, value: $value, unit: $unit, limit_type: $limit_type}) MERGE (l)-[:HAS_MIN_LIMIT]->(r)'\n",
            "WARNING:neo4j.notifications:Received notification from DBMS server: {severity: WARNING} {code: Neo.ClientNotification.Statement.FeatureDeprecationWarning} {category: DEPRECATION} {title: This feature is deprecated and will be removed in future versions.} {description: The query used a deprecated function: `id`.} {position: line: 1, column: 28, offset: 27} for query: 'MATCH (l:Limitation) WHERE id(l) = $limit_id CREATE (r:RangeLimit $props) MERGE (l)-[:HAS_MAX_LIMIT]->(r)'\n",
            "WARNING:neo4j.notifications:Received notification from DBMS server: {severity: WARNING} {code: Neo.ClientNotification.Statement.FeatureDeprecationWarning} {category: DEPRECATION} {title: This feature is deprecated and will be removed in future versions.} {description: The query used a deprecated function: `id`.} {position: line: 1, column: 28, offset: 27} for query: 'MATCH (l:Limitation) WHERE id(l) = $limit_id MATCH (s:Specification {id: $spec_id}) MERGE (l)-[:LIMITS_SPECIFICATION]->(s)'\n",
            "WARNING:neo4j.notifications:Received notification from DBMS server: {severity: WARNING} {code: Neo.ClientNotification.Statement.FeatureDeprecationWarning} {category: DEPRECATION} {title: This feature is deprecated and will be removed in future versions.} {description: The query used a deprecated function: `id`.} {position: line: 1, column: 150, offset: 149} for query: 'MATCH (t:Tool {model_number: $model}) MERGE (s:Specification {name: $spec_name}) ON CREATE SET s = $props MERGE (t)-[:HAS_SPECIFICATION]->(s) RETURN id(s) as spec_id'\n",
            "WARNING:neo4j.notifications:Received notification from DBMS server: {severity: WARNING} {code: Neo.ClientNotification.Statement.FeatureDeprecationWarning} {category: DEPRECATION} {title: This feature is deprecated and will be removed in future versions.} {description: The query used a deprecated function: `id`.} {position: line: 1, column: 31, offset: 30} for query: 'MATCH (s:Specification) WHERE id(s) = $spec_id MERGE (u:Unit {symbol: $symbol}) ON CREATE SET u.name = $name MERGE (s)-[:HAS_UNIT]->(u)'\n",
            "WARNING:neo4j.notifications:Received notification from DBMS server: {severity: WARNING} {code: Neo.ClientNotification.Statement.FeatureDeprecationWarning} {category: DEPRECATION} {title: This feature is deprecated and will be removed in future versions.} {description: The query used a deprecated function: `id`.} {position: line: 1, column: 31, offset: 30} for query: 'MATCH (s:Specification) WHERE id(s) = $spec_id MERGE (l:RangeLimit {name: $limit_name, value: $value, unit: $unit, limit_type: $limit_type}) MERGE (s)-[:HAS_MIN_LIMIT]->(l)'\n",
            "WARNING:neo4j.notifications:Received notification from DBMS server: {severity: WARNING} {code: Neo.ClientNotification.Statement.FeatureDeprecationWarning} {category: DEPRECATION} {title: This feature is deprecated and will be removed in future versions.} {description: The query used a deprecated function: `id`.} {position: line: 1, column: 31, offset: 30} for query: 'MATCH (s:Specification) WHERE id(s) = $spec_id MERGE (l:RangeLimit {name: $limit_name, value: $value, unit: $unit, limit_type: $limit_type}) MERGE (s)-[:HAS_MAX_LIMIT]->(l)'\n",
            "WARNING:neo4j.notifications:Received notification from DBMS server: {severity: WARNING} {code: Neo.ClientNotification.Statement.FeatureDeprecationWarning} {category: DEPRECATION} {title: This feature is deprecated and will be removed in future versions.} {description: The query used a deprecated function: `id`.} {position: line: 1, column: 150, offset: 149} for query: 'MATCH (t:Tool {model_number: $model}) MERGE (s:Specification {name: $spec_name}) ON CREATE SET s = $props MERGE (t)-[:HAS_SPECIFICATION]->(s) RETURN id(s) as spec_id'\n",
            "WARNING:neo4j.notifications:Received notification from DBMS server: {severity: WARNING} {code: Neo.ClientNotification.Statement.FeatureDeprecationWarning} {category: DEPRECATION} {title: This feature is deprecated and will be removed in future versions.} {description: The query used a deprecated function: `id`.} {position: line: 1, column: 31, offset: 30} for query: 'MATCH (s:Specification) WHERE id(s) = $spec_id MERGE (u:Unit {symbol: $symbol}) ON CREATE SET u.name = $name MERGE (s)-[:HAS_UNIT]->(u)'\n",
            "WARNING:neo4j.notifications:Received notification from DBMS server: {severity: WARNING} {code: Neo.ClientNotification.Statement.FeatureDeprecationWarning} {category: DEPRECATION} {title: This feature is deprecated and will be removed in future versions.} {description: The query used a deprecated function: `id`.} {position: line: 1, column: 150, offset: 149} for query: 'MATCH (t:Tool {model_number: $model}) MERGE (s:Specification {name: $spec_name}) ON CREATE SET s = $props MERGE (t)-[:HAS_SPECIFICATION]->(s) RETURN id(s) as spec_id'\n",
            "WARNING:neo4j.notifications:Received notification from DBMS server: {severity: WARNING} {code: Neo.ClientNotification.Statement.FeatureDeprecationWarning} {category: DEPRECATION} {title: This feature is deprecated and will be removed in future versions.} {description: The query used a deprecated function: `id`.} {position: line: 1, column: 150, offset: 149} for query: 'MATCH (t:Tool {model_number: $model}) MERGE (s:Specification {name: $spec_name}) ON CREATE SET s = $props MERGE (t)-[:HAS_SPECIFICATION]->(s) RETURN id(s) as spec_id'\n",
            "WARNING:neo4j.notifications:Received notification from DBMS server: {severity: WARNING} {code: Neo.ClientNotification.Statement.FeatureDeprecationWarning} {category: DEPRECATION} {title: This feature is deprecated and will be removed in future versions.} {description: The query used a deprecated function: `id`.} {position: line: 1, column: 31, offset: 30} for query: 'MATCH (s:Specification) WHERE id(s) = $spec_id MERGE (u:Unit {symbol: $symbol}) ON CREATE SET u.name = $name MERGE (s)-[:HAS_UNIT]->(u)'\n",
            "WARNING:neo4j.notifications:Received notification from DBMS server: {severity: WARNING} {code: Neo.ClientNotification.Statement.FeatureDeprecationWarning} {category: DEPRECATION} {title: This feature is deprecated and will be removed in future versions.} {description: The query used a deprecated function: `id`.} {position: line: 1, column: 150, offset: 149} for query: 'MATCH (t:Tool {model_number: $model}) MERGE (s:Specification {name: $spec_name}) ON CREATE SET s = $props MERGE (t)-[:HAS_SPECIFICATION]->(s) RETURN id(s) as spec_id'\n",
            "WARNING:neo4j.notifications:Received notification from DBMS server: {severity: WARNING} {code: Neo.ClientNotification.Statement.FeatureDeprecationWarning} {category: DEPRECATION} {title: This feature is deprecated and will be removed in future versions.} {description: The query used a deprecated function: `id`.} {position: line: 1, column: 150, offset: 149} for query: 'MATCH (t:Tool {model_number: $model}) MERGE (s:Specification {name: $spec_name}) ON CREATE SET s = $props MERGE (t)-[:HAS_SPECIFICATION]->(s) RETURN id(s) as spec_id'\n",
            "WARNING:neo4j.notifications:Received notification from DBMS server: {severity: WARNING} {code: Neo.ClientNotification.Statement.FeatureDeprecationWarning} {category: DEPRECATION} {title: This feature is deprecated and will be removed in future versions.} {description: The query used a deprecated function: `id`.} {position: line: 1, column: 31, offset: 30} for query: 'MATCH (s:Specification) WHERE id(s) = $spec_id MERGE (u:Unit {symbol: $symbol}) ON CREATE SET u.name = $name MERGE (s)-[:HAS_UNIT]->(u)'\n",
            "WARNING:neo4j.notifications:Received notification from DBMS server: {severity: WARNING} {code: Neo.ClientNotification.Statement.FeatureDeprecationWarning} {category: DEPRECATION} {title: This feature is deprecated and will be removed in future versions.} {description: The query used a deprecated function: `id`.} {position: line: 1, column: 31, offset: 30} for query: 'MATCH (s:Specification) WHERE id(s) = $spec_id MERGE (l:RangeLimit {name: $limit_name, value: $value, unit: $unit, limit_type: $limit_type}) MERGE (s)-[:HAS_MIN_LIMIT]->(l)'\n",
            "WARNING:neo4j.notifications:Received notification from DBMS server: {severity: WARNING} {code: Neo.ClientNotification.Statement.FeatureDeprecationWarning} {category: DEPRECATION} {title: This feature is deprecated and will be removed in future versions.} {description: The query used a deprecated function: `id`.} {position: line: 1, column: 31, offset: 30} for query: 'MATCH (s:Specification) WHERE id(s) = $spec_id MERGE (l:RangeLimit {name: $limit_name, value: $value, unit: $unit, limit_type: $limit_type}) MERGE (s)-[:HAS_MAX_LIMIT]->(l)'\n",
            "WARNING:neo4j.notifications:Received notification from DBMS server: {severity: WARNING} {code: Neo.ClientNotification.Statement.FeatureDeprecationWarning} {category: DEPRECATION} {title: This feature is deprecated and will be removed in future versions.} {description: The query used a deprecated function: `id`.} {position: line: 1, column: 150, offset: 149} for query: 'MATCH (t:Tool {model_number: $model}) MERGE (s:Specification {name: $spec_name}) ON CREATE SET s = $props MERGE (t)-[:HAS_SPECIFICATION]->(s) RETURN id(s) as spec_id'\n",
            "WARNING:neo4j.notifications:Received notification from DBMS server: {severity: WARNING} {code: Neo.ClientNotification.Statement.FeatureDeprecationWarning} {category: DEPRECATION} {title: This feature is deprecated and will be removed in future versions.} {description: The query used a deprecated function: `id`.} {position: line: 1, column: 150, offset: 149} for query: 'MATCH (t:Tool {model_number: $model}) MERGE (s:Specification {name: $spec_name}) ON CREATE SET s = $props MERGE (t)-[:HAS_SPECIFICATION]->(s) RETURN id(s) as spec_id'\n",
            "WARNING:neo4j.notifications:Received notification from DBMS server: {severity: WARNING} {code: Neo.ClientNotification.Statement.FeatureDeprecationWarning} {category: DEPRECATION} {title: This feature is deprecated and will be removed in future versions.} {description: The query used a deprecated function: `id`.} {position: line: 1, column: 31, offset: 30} for query: 'MATCH (s:Specification) WHERE id(s) = $spec_id MERGE (u:Unit {symbol: $symbol}) ON CREATE SET u.name = $name MERGE (s)-[:HAS_UNIT]->(u)'\n",
            "WARNING:neo4j.notifications:Received notification from DBMS server: {severity: WARNING} {code: Neo.ClientNotification.Statement.FeatureDeprecationWarning} {category: DEPRECATION} {title: This feature is deprecated and will be removed in future versions.} {description: The query used a deprecated function: `id`.} {position: line: 1, column: 150, offset: 149} for query: 'MATCH (t:Tool {model_number: $model}) MERGE (s:Specification {name: $spec_name}) ON CREATE SET s = $props MERGE (t)-[:HAS_SPECIFICATION]->(s) RETURN id(s) as spec_id'\n",
            "WARNING:neo4j.notifications:Received notification from DBMS server: {severity: WARNING} {code: Neo.ClientNotification.Statement.FeatureDeprecationWarning} {category: DEPRECATION} {title: This feature is deprecated and will be removed in future versions.} {description: The query used a deprecated function: `id`.} {position: line: 1, column: 150, offset: 149} for query: 'MATCH (t:Tool {model_number: $model}) MERGE (s:Specification {name: $spec_name}) ON CREATE SET s = $props MERGE (t)-[:HAS_SPECIFICATION]->(s) RETURN id(s) as spec_id'\n",
            "WARNING:neo4j.notifications:Received notification from DBMS server: {severity: WARNING} {code: Neo.ClientNotification.Statement.FeatureDeprecationWarning} {category: DEPRECATION} {title: This feature is deprecated and will be removed in future versions.} {description: The query used a deprecated function: `id`.} {position: line: 1, column: 150, offset: 149} for query: 'MATCH (t:Tool {model_number: $model}) MERGE (s:Specification {name: $spec_name}) ON CREATE SET s = $props MERGE (t)-[:HAS_SPECIFICATION]->(s) RETURN id(s) as spec_id'\n",
            "WARNING:neo4j.notifications:Received notification from DBMS server: {severity: WARNING} {code: Neo.ClientNotification.Statement.FeatureDeprecationWarning} {category: DEPRECATION} {title: This feature is deprecated and will be removed in future versions.} {description: The query used a deprecated function: `id`.} {position: line: 1, column: 150, offset: 149} for query: 'MATCH (t:Tool {model_number: $model}) MERGE (s:Specification {name: $spec_name}) ON CREATE SET s = $props MERGE (t)-[:HAS_SPECIFICATION]->(s) RETURN id(s) as spec_id'\n",
            "WARNING:neo4j.notifications:Received notification from DBMS server: {severity: WARNING} {code: Neo.ClientNotification.Statement.FeatureDeprecationWarning} {category: DEPRECATION} {title: This feature is deprecated and will be removed in future versions.} {description: The query used a deprecated function: `id`.} {position: line: 1, column: 31, offset: 30} for query: 'MATCH (s:Specification) WHERE id(s) = $spec_id MERGE (u:Unit {symbol: $symbol}) ON CREATE SET u.name = $name MERGE (s)-[:HAS_UNIT]->(u)'\n",
            "WARNING:neo4j.notifications:Received notification from DBMS server: {severity: WARNING} {code: Neo.ClientNotification.Statement.FeatureDeprecationWarning} {category: DEPRECATION} {title: This feature is deprecated and will be removed in future versions.} {description: The query used a deprecated function: `id`.} {position: line: 1, column: 150, offset: 149} for query: 'MATCH (t:Tool {model_number: $model}) MERGE (s:Specification {name: $spec_name}) ON CREATE SET s = $props MERGE (t)-[:HAS_SPECIFICATION]->(s) RETURN id(s) as spec_id'\n",
            "WARNING:neo4j.notifications:Received notification from DBMS server: {severity: WARNING} {code: Neo.ClientNotification.Statement.FeatureDeprecationWarning} {category: DEPRECATION} {title: This feature is deprecated and will be removed in future versions.} {description: The query used a deprecated function: `id`.} {position: line: 1, column: 31, offset: 30} for query: 'MATCH (s:Specification) WHERE id(s) = $spec_id MERGE (u:Unit {symbol: $symbol}) ON CREATE SET u.name = $name MERGE (s)-[:HAS_UNIT]->(u)'\n",
            "WARNING:neo4j.notifications:Received notification from DBMS server: {severity: WARNING} {code: Neo.ClientNotification.Statement.FeatureDeprecationWarning} {category: DEPRECATION} {title: This feature is deprecated and will be removed in future versions.} {description: The query used a deprecated function: `id`.} {position: line: 1, column: 150, offset: 149} for query: 'MATCH (t:Tool {model_number: $model}) MERGE (s:Specification {name: $spec_name}) ON CREATE SET s = $props MERGE (t)-[:HAS_SPECIFICATION]->(s) RETURN id(s) as spec_id'\n",
            "WARNING:neo4j.notifications:Received notification from DBMS server: {severity: WARNING} {code: Neo.ClientNotification.Statement.FeatureDeprecationWarning} {category: DEPRECATION} {title: This feature is deprecated and will be removed in future versions.} {description: The query used a deprecated function: `id`.} {position: line: 1, column: 31, offset: 30} for query: 'MATCH (s:Specification) WHERE id(s) = $spec_id MERGE (u:Unit {symbol: $symbol}) ON CREATE SET u.name = $name MERGE (s)-[:HAS_UNIT]->(u)'\n",
            "WARNING:neo4j.notifications:Received notification from DBMS server: {severity: WARNING} {code: Neo.ClientNotification.Statement.FeatureDeprecationWarning} {category: DEPRECATION} {title: This feature is deprecated and will be removed in future versions.} {description: The query used a deprecated function: `id`.} {position: line: 1, column: 150, offset: 149} for query: 'MATCH (t:Tool {model_number: $model}) MERGE (s:Specification {name: $spec_name}) ON CREATE SET s = $props MERGE (t)-[:HAS_SPECIFICATION]->(s) RETURN id(s) as spec_id'\n",
            "WARNING:neo4j.notifications:Received notification from DBMS server: {severity: WARNING} {code: Neo.ClientNotification.Statement.FeatureDeprecationWarning} {category: DEPRECATION} {title: This feature is deprecated and will be removed in future versions.} {description: The query used a deprecated function: `id`.} {position: line: 1, column: 31, offset: 30} for query: 'MATCH (s:Specification) WHERE id(s) = $spec_id MERGE (u:Unit {symbol: $symbol}) ON CREATE SET u.name = $name MERGE (s)-[:HAS_UNIT]->(u)'\n",
            "WARNING:neo4j.notifications:Received notification from DBMS server: {severity: WARNING} {code: Neo.ClientNotification.Statement.FeatureDeprecationWarning} {category: DEPRECATION} {title: This feature is deprecated and will be removed in future versions.} {description: The query used a deprecated function: `id`.} {position: line: 1, column: 182, offset: 181} for query: 'MATCH (t:Tool {model_number: $model}) MERGE (l:Limitation {description: $description, warning_type: $warning_type}) ON CREATE SET l.id = $id MERGE (t)-[:HAS_LIMITATION]->(l) RETURN id(l) as limit_id'\n",
            "WARNING:neo4j.notifications:Received notification from DBMS server: {severity: WARNING} {code: Neo.ClientNotification.Statement.FeatureDeprecationWarning} {category: DEPRECATION} {title: This feature is deprecated and will be removed in future versions.} {description: The query used a deprecated function: `id`.} {position: line: 1, column: 28, offset: 27} for query: 'MATCH (l:Limitation) WHERE id(l) = $limit_id MERGE (r:RangeLimit {name: $name, value: $value, unit: $unit, limit_type: $limit_type}) MERGE (l)-[:HAS_MIN_LIMIT]->(r)'\n",
            "WARNING:neo4j.notifications:Received notification from DBMS server: {severity: WARNING} {code: Neo.ClientNotification.Statement.FeatureDeprecationWarning} {category: DEPRECATION} {title: This feature is deprecated and will be removed in future versions.} {description: The query used a deprecated function: `id`.} {position: line: 1, column: 28, offset: 27} for query: 'MATCH (l:Limitation) WHERE id(l) = $limit_id CREATE (r:RangeLimit $props) MERGE (l)-[:HAS_MAX_LIMIT]->(r)'\n",
            "WARNING:neo4j.notifications:Received notification from DBMS server: {severity: WARNING} {code: Neo.ClientNotification.Statement.FeatureDeprecationWarning} {category: DEPRECATION} {title: This feature is deprecated and will be removed in future versions.} {description: The query used a deprecated function: `id`.} {position: line: 1, column: 28, offset: 27} for query: 'MATCH (l:Limitation) WHERE id(l) = $limit_id MATCH (s:Specification {id: $spec_id}) MERGE (l)-[:LIMITS_SPECIFICATION]->(s)'\n",
            "WARNING:neo4j.notifications:Received notification from DBMS server: {severity: WARNING} {code: Neo.ClientNotification.Statement.FeatureDeprecationWarning} {category: DEPRECATION} {title: This feature is deprecated and will be removed in future versions.} {description: The query used a deprecated function: `id`.} {position: line: 1, column: 182, offset: 181} for query: 'MATCH (t:Tool {model_number: $model}) MERGE (l:Limitation {description: $description, warning_type: $warning_type}) ON CREATE SET l.id = $id MERGE (t)-[:HAS_LIMITATION]->(l) RETURN id(l) as limit_id'\n",
            "WARNING:neo4j.notifications:Received notification from DBMS server: {severity: WARNING} {code: Neo.ClientNotification.Statement.FeatureDeprecationWarning} {category: DEPRECATION} {title: This feature is deprecated and will be removed in future versions.} {description: The query used a deprecated function: `id`.} {position: line: 1, column: 28, offset: 27} for query: 'MATCH (l:Limitation) WHERE id(l) = $limit_id MERGE (r:RangeLimit {name: $name, value: $value, unit: $unit, limit_type: $limit_type}) MERGE (l)-[:HAS_MIN_LIMIT]->(r)'\n",
            "WARNING:neo4j.notifications:Received notification from DBMS server: {severity: WARNING} {code: Neo.ClientNotification.Statement.FeatureDeprecationWarning} {category: DEPRECATION} {title: This feature is deprecated and will be removed in future versions.} {description: The query used a deprecated function: `id`.} {position: line: 1, column: 28, offset: 27} for query: 'MATCH (l:Limitation) WHERE id(l) = $limit_id CREATE (r:RangeLimit $props) MERGE (l)-[:HAS_MAX_LIMIT]->(r)'\n",
            "WARNING:neo4j.notifications:Received notification from DBMS server: {severity: WARNING} {code: Neo.ClientNotification.Statement.FeatureDeprecationWarning} {category: DEPRECATION} {title: This feature is deprecated and will be removed in future versions.} {description: The query used a deprecated function: `id`.} {position: line: 1, column: 28, offset: 27} for query: 'MATCH (l:Limitation) WHERE id(l) = $limit_id MATCH (s:Specification {id: $spec_id}) MERGE (l)-[:LIMITS_SPECIFICATION]->(s)'\n",
            "WARNING:neo4j.notifications:Received notification from DBMS server: {severity: WARNING} {code: Neo.ClientNotification.Statement.FeatureDeprecationWarning} {category: DEPRECATION} {title: This feature is deprecated and will be removed in future versions.} {description: The query used a deprecated function: `id`.} {position: line: 1, column: 182, offset: 181} for query: 'MATCH (t:Tool {model_number: $model}) MERGE (l:Limitation {description: $description, warning_type: $warning_type}) ON CREATE SET l.id = $id MERGE (t)-[:HAS_LIMITATION]->(l) RETURN id(l) as limit_id'\n",
            "WARNING:neo4j.notifications:Received notification from DBMS server: {severity: WARNING} {code: Neo.ClientNotification.Statement.FeatureDeprecationWarning} {category: DEPRECATION} {title: This feature is deprecated and will be removed in future versions.} {description: The query used a deprecated function: `id`.} {position: line: 1, column: 150, offset: 149} for query: 'MATCH (t:Tool {model_number: $model}) MERGE (s:Specification {name: $spec_name}) ON CREATE SET s = $props MERGE (t)-[:HAS_SPECIFICATION]->(s) RETURN id(s) as spec_id'\n",
            "WARNING:neo4j.notifications:Received notification from DBMS server: {severity: WARNING} {code: Neo.ClientNotification.Statement.FeatureDeprecationWarning} {category: DEPRECATION} {title: This feature is deprecated and will be removed in future versions.} {description: The query used a deprecated function: `id`.} {position: line: 1, column: 31, offset: 30} for query: 'MATCH (s:Specification) WHERE id(s) = $spec_id MERGE (u:Unit {symbol: $symbol}) ON CREATE SET u.name = $name MERGE (s)-[:HAS_UNIT]->(u)'\n",
            "WARNING:neo4j.notifications:Received notification from DBMS server: {severity: WARNING} {code: Neo.ClientNotification.Statement.FeatureDeprecationWarning} {category: DEPRECATION} {title: This feature is deprecated and will be removed in future versions.} {description: The query used a deprecated function: `id`.} {position: line: 1, column: 31, offset: 30} for query: 'MATCH (s:Specification) WHERE id(s) = $spec_id MERGE (l:RangeLimit {name: $limit_name, value: $value, unit: $unit, limit_type: $limit_type}) MERGE (s)-[:HAS_MIN_LIMIT]->(l)'\n",
            "WARNING:neo4j.notifications:Received notification from DBMS server: {severity: WARNING} {code: Neo.ClientNotification.Statement.FeatureDeprecationWarning} {category: DEPRECATION} {title: This feature is deprecated and will be removed in future versions.} {description: The query used a deprecated function: `id`.} {position: line: 1, column: 31, offset: 30} for query: 'MATCH (s:Specification) WHERE id(s) = $spec_id MERGE (l:RangeLimit {name: $limit_name, value: $value, unit: $unit, limit_type: $limit_type}) MERGE (s)-[:HAS_MAX_LIMIT]->(l)'\n",
            "WARNING:neo4j.notifications:Received notification from DBMS server: {severity: WARNING} {code: Neo.ClientNotification.Statement.FeatureDeprecationWarning} {category: DEPRECATION} {title: This feature is deprecated and will be removed in future versions.} {description: The query used a deprecated function: `id`.} {position: line: 1, column: 150, offset: 149} for query: 'MATCH (t:Tool {model_number: $model}) MERGE (s:Specification {name: $spec_name}) ON CREATE SET s = $props MERGE (t)-[:HAS_SPECIFICATION]->(s) RETURN id(s) as spec_id'\n",
            "WARNING:neo4j.notifications:Received notification from DBMS server: {severity: WARNING} {code: Neo.ClientNotification.Statement.FeatureDeprecationWarning} {category: DEPRECATION} {title: This feature is deprecated and will be removed in future versions.} {description: The query used a deprecated function: `id`.} {position: line: 1, column: 31, offset: 30} for query: 'MATCH (s:Specification) WHERE id(s) = $spec_id MERGE (u:Unit {symbol: $symbol}) ON CREATE SET u.name = $name MERGE (s)-[:HAS_UNIT]->(u)'\n",
            "WARNING:neo4j.notifications:Received notification from DBMS server: {severity: WARNING} {code: Neo.ClientNotification.Statement.FeatureDeprecationWarning} {category: DEPRECATION} {title: This feature is deprecated and will be removed in future versions.} {description: The query used a deprecated function: `id`.} {position: line: 1, column: 150, offset: 149} for query: 'MATCH (t:Tool {model_number: $model}) MERGE (s:Specification {name: $spec_name}) ON CREATE SET s = $props MERGE (t)-[:HAS_SPECIFICATION]->(s) RETURN id(s) as spec_id'\n",
            "WARNING:neo4j.notifications:Received notification from DBMS server: {severity: WARNING} {code: Neo.ClientNotification.Statement.FeatureDeprecationWarning} {category: DEPRECATION} {title: This feature is deprecated and will be removed in future versions.} {description: The query used a deprecated function: `id`.} {position: line: 1, column: 31, offset: 30} for query: 'MATCH (s:Specification) WHERE id(s) = $spec_id MERGE (l:RangeLimit {name: $limit_name, value: $value, unit: $unit, limit_type: $limit_type}) MERGE (s)-[:HAS_MIN_LIMIT]->(l)'\n",
            "WARNING:neo4j.notifications:Received notification from DBMS server: {severity: WARNING} {code: Neo.ClientNotification.Statement.FeatureDeprecationWarning} {category: DEPRECATION} {title: This feature is deprecated and will be removed in future versions.} {description: The query used a deprecated function: `id`.} {position: line: 1, column: 31, offset: 30} for query: 'MATCH (s:Specification) WHERE id(s) = $spec_id MERGE (l:RangeLimit {name: $limit_name, value: $value, unit: $unit, limit_type: $limit_type}) MERGE (s)-[:HAS_MAX_LIMIT]->(l)'\n",
            "WARNING:neo4j.notifications:Received notification from DBMS server: {severity: WARNING} {code: Neo.ClientNotification.Statement.FeatureDeprecationWarning} {category: DEPRECATION} {title: This feature is deprecated and will be removed in future versions.} {description: The query used a deprecated function: `id`.} {position: line: 1, column: 150, offset: 149} for query: 'MATCH (t:Tool {model_number: $model}) MERGE (s:Specification {name: $spec_name}) ON CREATE SET s = $props MERGE (t)-[:HAS_SPECIFICATION]->(s) RETURN id(s) as spec_id'\n",
            "WARNING:neo4j.notifications:Received notification from DBMS server: {severity: WARNING} {code: Neo.ClientNotification.Statement.FeatureDeprecationWarning} {category: DEPRECATION} {title: This feature is deprecated and will be removed in future versions.} {description: The query used a deprecated function: `id`.} {position: line: 1, column: 31, offset: 30} for query: 'MATCH (s:Specification) WHERE id(s) = $spec_id MERGE (l:RangeLimit {name: $limit_name, value: $value, unit: $unit, limit_type: $limit_type}) MERGE (s)-[:HAS_MIN_LIMIT]->(l)'\n",
            "WARNING:neo4j.notifications:Received notification from DBMS server: {severity: WARNING} {code: Neo.ClientNotification.Statement.FeatureDeprecationWarning} {category: DEPRECATION} {title: This feature is deprecated and will be removed in future versions.} {description: The query used a deprecated function: `id`.} {position: line: 1, column: 31, offset: 30} for query: 'MATCH (s:Specification) WHERE id(s) = $spec_id MERGE (l:RangeLimit {name: $limit_name, value: $value, unit: $unit, limit_type: $limit_type}) MERGE (s)-[:HAS_MAX_LIMIT]->(l)'\n",
            "WARNING:neo4j.notifications:Received notification from DBMS server: {severity: WARNING} {code: Neo.ClientNotification.Statement.FeatureDeprecationWarning} {category: DEPRECATION} {title: This feature is deprecated and will be removed in future versions.} {description: The query used a deprecated function: `id`.} {position: line: 1, column: 150, offset: 149} for query: 'MATCH (t:Tool {model_number: $model}) MERGE (s:Specification {name: $spec_name}) ON CREATE SET s = $props MERGE (t)-[:HAS_SPECIFICATION]->(s) RETURN id(s) as spec_id'\n",
            "WARNING:neo4j.notifications:Received notification from DBMS server: {severity: WARNING} {code: Neo.ClientNotification.Statement.FeatureDeprecationWarning} {category: DEPRECATION} {title: This feature is deprecated and will be removed in future versions.} {description: The query used a deprecated function: `id`.} {position: line: 1, column: 150, offset: 149} for query: 'MATCH (t:Tool {model_number: $model}) MERGE (s:Specification {name: $spec_name}) ON CREATE SET s = $props MERGE (t)-[:HAS_SPECIFICATION]->(s) RETURN id(s) as spec_id'\n",
            "WARNING:neo4j.notifications:Received notification from DBMS server: {severity: WARNING} {code: Neo.ClientNotification.Statement.FeatureDeprecationWarning} {category: DEPRECATION} {title: This feature is deprecated and will be removed in future versions.} {description: The query used a deprecated function: `id`.} {position: line: 1, column: 31, offset: 30} for query: 'MATCH (s:Specification) WHERE id(s) = $spec_id MERGE (l:RangeLimit {name: $limit_name, value: $value, unit: $unit, limit_type: $limit_type}) MERGE (s)-[:HAS_MIN_LIMIT]->(l)'\n",
            "WARNING:neo4j.notifications:Received notification from DBMS server: {severity: WARNING} {code: Neo.ClientNotification.Statement.FeatureDeprecationWarning} {category: DEPRECATION} {title: This feature is deprecated and will be removed in future versions.} {description: The query used a deprecated function: `id`.} {position: line: 1, column: 31, offset: 30} for query: 'MATCH (s:Specification) WHERE id(s) = $spec_id MERGE (l:RangeLimit {name: $limit_name, value: $value, unit: $unit, limit_type: $limit_type}) MERGE (s)-[:HAS_MAX_LIMIT]->(l)'\n",
            "WARNING:neo4j.notifications:Received notification from DBMS server: {severity: WARNING} {code: Neo.ClientNotification.Statement.FeatureDeprecationWarning} {category: DEPRECATION} {title: This feature is deprecated and will be removed in future versions.} {description: The query used a deprecated function: `id`.} {position: line: 1, column: 150, offset: 149} for query: 'MATCH (t:Tool {model_number: $model}) MERGE (s:Specification {name: $spec_name}) ON CREATE SET s = $props MERGE (t)-[:HAS_SPECIFICATION]->(s) RETURN id(s) as spec_id'\n",
            "WARNING:neo4j.notifications:Received notification from DBMS server: {severity: WARNING} {code: Neo.ClientNotification.Statement.FeatureDeprecationWarning} {category: DEPRECATION} {title: This feature is deprecated and will be removed in future versions.} {description: The query used a deprecated function: `id`.} {position: line: 1, column: 150, offset: 149} for query: 'MATCH (t:Tool {model_number: $model}) MERGE (s:Specification {name: $spec_name}) ON CREATE SET s = $props MERGE (t)-[:HAS_SPECIFICATION]->(s) RETURN id(s) as spec_id'\n",
            "WARNING:neo4j.notifications:Received notification from DBMS server: {severity: WARNING} {code: Neo.ClientNotification.Statement.FeatureDeprecationWarning} {category: DEPRECATION} {title: This feature is deprecated and will be removed in future versions.} {description: The query used a deprecated function: `id`.} {position: line: 1, column: 150, offset: 149} for query: 'MATCH (t:Tool {model_number: $model}) MERGE (s:Specification {name: $spec_name}) ON CREATE SET s = $props MERGE (t)-[:HAS_SPECIFICATION]->(s) RETURN id(s) as spec_id'\n",
            "WARNING:neo4j.notifications:Received notification from DBMS server: {severity: WARNING} {code: Neo.ClientNotification.Statement.FeatureDeprecationWarning} {category: DEPRECATION} {title: This feature is deprecated and will be removed in future versions.} {description: The query used a deprecated function: `id`.} {position: line: 1, column: 150, offset: 149} for query: 'MATCH (t:Tool {model_number: $model}) MERGE (s:Specification {name: $spec_name}) ON CREATE SET s = $props MERGE (t)-[:HAS_SPECIFICATION]->(s) RETURN id(s) as spec_id'\n",
            "WARNING:neo4j.notifications:Received notification from DBMS server: {severity: WARNING} {code: Neo.ClientNotification.Statement.FeatureDeprecationWarning} {category: DEPRECATION} {title: This feature is deprecated and will be removed in future versions.} {description: The query used a deprecated function: `id`.} {position: line: 1, column: 150, offset: 149} for query: 'MATCH (t:Tool {model_number: $model}) MERGE (s:Specification {name: $spec_name}) ON CREATE SET s = $props MERGE (t)-[:HAS_SPECIFICATION]->(s) RETURN id(s) as spec_id'\n",
            "WARNING:neo4j.notifications:Received notification from DBMS server: {severity: WARNING} {code: Neo.ClientNotification.Statement.FeatureDeprecationWarning} {category: DEPRECATION} {title: This feature is deprecated and will be removed in future versions.} {description: The query used a deprecated function: `id`.} {position: line: 1, column: 150, offset: 149} for query: 'MATCH (t:Tool {model_number: $model}) MERGE (s:Specification {name: $spec_name}) ON CREATE SET s = $props MERGE (t)-[:HAS_SPECIFICATION]->(s) RETURN id(s) as spec_id'\n",
            "WARNING:neo4j.notifications:Received notification from DBMS server: {severity: WARNING} {code: Neo.ClientNotification.Statement.FeatureDeprecationWarning} {category: DEPRECATION} {title: This feature is deprecated and will be removed in future versions.} {description: The query used a deprecated function: `id`.} {position: line: 1, column: 150, offset: 149} for query: 'MATCH (t:Tool {model_number: $model}) MERGE (s:Specification {name: $spec_name}) ON CREATE SET s = $props MERGE (t)-[:HAS_SPECIFICATION]->(s) RETURN id(s) as spec_id'\n",
            "WARNING:neo4j.notifications:Received notification from DBMS server: {severity: WARNING} {code: Neo.ClientNotification.Statement.FeatureDeprecationWarning} {category: DEPRECATION} {title: This feature is deprecated and will be removed in future versions.} {description: The query used a deprecated function: `id`.} {position: line: 1, column: 150, offset: 149} for query: 'MATCH (t:Tool {model_number: $model}) MERGE (s:Specification {name: $spec_name}) ON CREATE SET s = $props MERGE (t)-[:HAS_SPECIFICATION]->(s) RETURN id(s) as spec_id'\n",
            "WARNING:neo4j.notifications:Received notification from DBMS server: {severity: WARNING} {code: Neo.ClientNotification.Statement.FeatureDeprecationWarning} {category: DEPRECATION} {title: This feature is deprecated and will be removed in future versions.} {description: The query used a deprecated function: `id`.} {position: line: 1, column: 150, offset: 149} for query: 'MATCH (t:Tool {model_number: $model}) MERGE (s:Specification {name: $spec_name}) ON CREATE SET s = $props MERGE (t)-[:HAS_SPECIFICATION]->(s) RETURN id(s) as spec_id'\n",
            "WARNING:neo4j.notifications:Received notification from DBMS server: {severity: WARNING} {code: Neo.ClientNotification.Statement.FeatureDeprecationWarning} {category: DEPRECATION} {title: This feature is deprecated and will be removed in future versions.} {description: The query used a deprecated function: `id`.} {position: line: 1, column: 150, offset: 149} for query: 'MATCH (t:Tool {model_number: $model}) MERGE (s:Specification {name: $spec_name}) ON CREATE SET s = $props MERGE (t)-[:HAS_SPECIFICATION]->(s) RETURN id(s) as spec_id'\n",
            "WARNING:neo4j.notifications:Received notification from DBMS server: {severity: WARNING} {code: Neo.ClientNotification.Statement.FeatureDeprecationWarning} {category: DEPRECATION} {title: This feature is deprecated and will be removed in future versions.} {description: The query used a deprecated function: `id`.} {position: line: 1, column: 150, offset: 149} for query: 'MATCH (t:Tool {model_number: $model}) MERGE (s:Specification {name: $spec_name}) ON CREATE SET s = $props MERGE (t)-[:HAS_SPECIFICATION]->(s) RETURN id(s) as spec_id'\n",
            "WARNING:neo4j.notifications:Received notification from DBMS server: {severity: WARNING} {code: Neo.ClientNotification.Statement.FeatureDeprecationWarning} {category: DEPRECATION} {title: This feature is deprecated and will be removed in future versions.} {description: The query used a deprecated function: `id`.} {position: line: 1, column: 150, offset: 149} for query: 'MATCH (t:Tool {model_number: $model}) MERGE (s:Specification {name: $spec_name}) ON CREATE SET s = $props MERGE (t)-[:HAS_SPECIFICATION]->(s) RETURN id(s) as spec_id'\n",
            "WARNING:neo4j.notifications:Received notification from DBMS server: {severity: WARNING} {code: Neo.ClientNotification.Statement.FeatureDeprecationWarning} {category: DEPRECATION} {title: This feature is deprecated and will be removed in future versions.} {description: The query used a deprecated function: `id`.} {position: line: 1, column: 150, offset: 149} for query: 'MATCH (t:Tool {model_number: $model}) MERGE (s:Specification {name: $spec_name}) ON CREATE SET s = $props MERGE (t)-[:HAS_SPECIFICATION]->(s) RETURN id(s) as spec_id'\n",
            "WARNING:neo4j.notifications:Received notification from DBMS server: {severity: WARNING} {code: Neo.ClientNotification.Statement.FeatureDeprecationWarning} {category: DEPRECATION} {title: This feature is deprecated and will be removed in future versions.} {description: The query used a deprecated function: `id`.} {position: line: 1, column: 150, offset: 149} for query: 'MATCH (t:Tool {model_number: $model}) MERGE (s:Specification {name: $spec_name}) ON CREATE SET s = $props MERGE (t)-[:HAS_SPECIFICATION]->(s) RETURN id(s) as spec_id'\n",
            "WARNING:neo4j.notifications:Received notification from DBMS server: {severity: WARNING} {code: Neo.ClientNotification.Statement.FeatureDeprecationWarning} {category: DEPRECATION} {title: This feature is deprecated and will be removed in future versions.} {description: The query used a deprecated function: `id`.} {position: line: 1, column: 150, offset: 149} for query: 'MATCH (t:Tool {model_number: $model}) MERGE (s:Specification {name: $spec_name}) ON CREATE SET s = $props MERGE (t)-[:HAS_SPECIFICATION]->(s) RETURN id(s) as spec_id'\n",
            "WARNING:neo4j.notifications:Received notification from DBMS server: {severity: WARNING} {code: Neo.ClientNotification.Statement.FeatureDeprecationWarning} {category: DEPRECATION} {title: This feature is deprecated and will be removed in future versions.} {description: The query used a deprecated function: `id`.} {position: line: 1, column: 31, offset: 30} for query: 'MATCH (s:Specification) WHERE id(s) = $spec_id MERGE (u:Unit {symbol: $symbol}) ON CREATE SET u.name = $name MERGE (s)-[:HAS_UNIT]->(u)'\n",
            "WARNING:neo4j.notifications:Received notification from DBMS server: {severity: WARNING} {code: Neo.ClientNotification.Statement.FeatureDeprecationWarning} {category: DEPRECATION} {title: This feature is deprecated and will be removed in future versions.} {description: The query used a deprecated function: `id`.} {position: line: 1, column: 150, offset: 149} for query: 'MATCH (t:Tool {model_number: $model}) MERGE (s:Specification {name: $spec_name}) ON CREATE SET s = $props MERGE (t)-[:HAS_SPECIFICATION]->(s) RETURN id(s) as spec_id'\n",
            "WARNING:neo4j.notifications:Received notification from DBMS server: {severity: WARNING} {code: Neo.ClientNotification.Statement.FeatureDeprecationWarning} {category: DEPRECATION} {title: This feature is deprecated and will be removed in future versions.} {description: The query used a deprecated function: `id`.} {position: line: 1, column: 31, offset: 30} for query: 'MATCH (s:Specification) WHERE id(s) = $spec_id MERGE (u:Unit {symbol: $symbol}) ON CREATE SET u.name = $name MERGE (s)-[:HAS_UNIT]->(u)'\n",
            "WARNING:neo4j.notifications:Received notification from DBMS server: {severity: WARNING} {code: Neo.ClientNotification.Statement.FeatureDeprecationWarning} {category: DEPRECATION} {title: This feature is deprecated and will be removed in future versions.} {description: The query used a deprecated function: `id`.} {position: line: 1, column: 150, offset: 149} for query: 'MATCH (t:Tool {model_number: $model}) MERGE (s:Specification {name: $spec_name}) ON CREATE SET s = $props MERGE (t)-[:HAS_SPECIFICATION]->(s) RETURN id(s) as spec_id'\n",
            "WARNING:neo4j.notifications:Received notification from DBMS server: {severity: WARNING} {code: Neo.ClientNotification.Statement.FeatureDeprecationWarning} {category: DEPRECATION} {title: This feature is deprecated and will be removed in future versions.} {description: The query used a deprecated function: `id`.} {position: line: 1, column: 31, offset: 30} for query: 'MATCH (s:Specification) WHERE id(s) = $spec_id MERGE (l:RangeLimit {name: $limit_name, value: $value, unit: $unit, limit_type: $limit_type}) MERGE (s)-[:HAS_MIN_LIMIT]->(l)'\n",
            "WARNING:neo4j.notifications:Received notification from DBMS server: {severity: WARNING} {code: Neo.ClientNotification.Statement.FeatureDeprecationWarning} {category: DEPRECATION} {title: This feature is deprecated and will be removed in future versions.} {description: The query used a deprecated function: `id`.} {position: line: 1, column: 31, offset: 30} for query: 'MATCH (s:Specification) WHERE id(s) = $spec_id MERGE (l:RangeLimit {name: $limit_name, value: $value, unit: $unit, limit_type: $limit_type}) MERGE (s)-[:HAS_MAX_LIMIT]->(l)'\n",
            "WARNING:neo4j.notifications:Received notification from DBMS server: {severity: WARNING} {code: Neo.ClientNotification.Statement.FeatureDeprecationWarning} {category: DEPRECATION} {title: This feature is deprecated and will be removed in future versions.} {description: The query used a deprecated function: `id`.} {position: line: 1, column: 150, offset: 149} for query: 'MATCH (t:Tool {model_number: $model}) MERGE (s:Specification {name: $spec_name}) ON CREATE SET s = $props MERGE (t)-[:HAS_SPECIFICATION]->(s) RETURN id(s) as spec_id'\n",
            "WARNING:neo4j.notifications:Received notification from DBMS server: {severity: WARNING} {code: Neo.ClientNotification.Statement.FeatureDeprecationWarning} {category: DEPRECATION} {title: This feature is deprecated and will be removed in future versions.} {description: The query used a deprecated function: `id`.} {position: line: 1, column: 31, offset: 30} for query: 'MATCH (s:Specification) WHERE id(s) = $spec_id MERGE (u:Unit {symbol: $symbol}) ON CREATE SET u.name = $name MERGE (s)-[:HAS_UNIT]->(u)'\n",
            "WARNING:neo4j.notifications:Received notification from DBMS server: {severity: WARNING} {code: Neo.ClientNotification.Statement.FeatureDeprecationWarning} {category: DEPRECATION} {title: This feature is deprecated and will be removed in future versions.} {description: The query used a deprecated function: `id`.} {position: line: 1, column: 150, offset: 149} for query: 'MATCH (t:Tool {model_number: $model}) MERGE (s:Specification {name: $spec_name}) ON CREATE SET s = $props MERGE (t)-[:HAS_SPECIFICATION]->(s) RETURN id(s) as spec_id'\n",
            "WARNING:neo4j.notifications:Received notification from DBMS server: {severity: WARNING} {code: Neo.ClientNotification.Statement.FeatureDeprecationWarning} {category: DEPRECATION} {title: This feature is deprecated and will be removed in future versions.} {description: The query used a deprecated function: `id`.} {position: line: 1, column: 150, offset: 149} for query: 'MATCH (t:Tool {model_number: $model}) MERGE (s:Specification {name: $spec_name}) ON CREATE SET s = $props MERGE (t)-[:HAS_SPECIFICATION]->(s) RETURN id(s) as spec_id'\n",
            "WARNING:neo4j.notifications:Received notification from DBMS server: {severity: WARNING} {code: Neo.ClientNotification.Statement.FeatureDeprecationWarning} {category: DEPRECATION} {title: This feature is deprecated and will be removed in future versions.} {description: The query used a deprecated function: `id`.} {position: line: 1, column: 31, offset: 30} for query: 'MATCH (s:Specification) WHERE id(s) = $spec_id MERGE (u:Unit {symbol: $symbol}) ON CREATE SET u.name = $name MERGE (s)-[:HAS_UNIT]->(u)'\n",
            "WARNING:neo4j.notifications:Received notification from DBMS server: {severity: WARNING} {code: Neo.ClientNotification.Statement.FeatureDeprecationWarning} {category: DEPRECATION} {title: This feature is deprecated and will be removed in future versions.} {description: The query used a deprecated function: `id`.} {position: line: 1, column: 150, offset: 149} for query: 'MATCH (t:Tool {model_number: $model}) MERGE (s:Specification {name: $spec_name}) ON CREATE SET s = $props MERGE (t)-[:HAS_SPECIFICATION]->(s) RETURN id(s) as spec_id'\n",
            "WARNING:neo4j.notifications:Received notification from DBMS server: {severity: WARNING} {code: Neo.ClientNotification.Statement.FeatureDeprecationWarning} {category: DEPRECATION} {title: This feature is deprecated and will be removed in future versions.} {description: The query used a deprecated function: `id`.} {position: line: 1, column: 150, offset: 149} for query: 'MATCH (t:Tool {model_number: $model}) MERGE (s:Specification {name: $spec_name}) ON CREATE SET s = $props MERGE (t)-[:HAS_SPECIFICATION]->(s) RETURN id(s) as spec_id'\n",
            "WARNING:neo4j.notifications:Received notification from DBMS server: {severity: WARNING} {code: Neo.ClientNotification.Statement.FeatureDeprecationWarning} {category: DEPRECATION} {title: This feature is deprecated and will be removed in future versions.} {description: The query used a deprecated function: `id`.} {position: line: 1, column: 31, offset: 30} for query: 'MATCH (s:Specification) WHERE id(s) = $spec_id MERGE (u:Unit {symbol: $symbol}) ON CREATE SET u.name = $name MERGE (s)-[:HAS_UNIT]->(u)'\n",
            "WARNING:neo4j.notifications:Received notification from DBMS server: {severity: WARNING} {code: Neo.ClientNotification.Statement.FeatureDeprecationWarning} {category: DEPRECATION} {title: This feature is deprecated and will be removed in future versions.} {description: The query used a deprecated function: `id`.} {position: line: 1, column: 150, offset: 149} for query: 'MATCH (t:Tool {model_number: $model}) MERGE (s:Specification {name: $spec_name}) ON CREATE SET s = $props MERGE (t)-[:HAS_SPECIFICATION]->(s) RETURN id(s) as spec_id'\n",
            "WARNING:neo4j.notifications:Received notification from DBMS server: {severity: WARNING} {code: Neo.ClientNotification.Statement.FeatureDeprecationWarning} {category: DEPRECATION} {title: This feature is deprecated and will be removed in future versions.} {description: The query used a deprecated function: `id`.} {position: line: 1, column: 150, offset: 149} for query: 'MATCH (t:Tool {model_number: $model}) MERGE (s:Specification {name: $spec_name}) ON CREATE SET s = $props MERGE (t)-[:HAS_SPECIFICATION]->(s) RETURN id(s) as spec_id'\n",
            "WARNING:neo4j.notifications:Received notification from DBMS server: {severity: WARNING} {code: Neo.ClientNotification.Statement.FeatureDeprecationWarning} {category: DEPRECATION} {title: This feature is deprecated and will be removed in future versions.} {description: The query used a deprecated function: `id`.} {position: line: 1, column: 31, offset: 30} for query: 'MATCH (s:Specification) WHERE id(s) = $spec_id MERGE (l:RangeLimit {name: $limit_name, value: $value, unit: $unit, limit_type: $limit_type}) MERGE (s)-[:HAS_MIN_LIMIT]->(l)'\n",
            "WARNING:neo4j.notifications:Received notification from DBMS server: {severity: WARNING} {code: Neo.ClientNotification.Statement.FeatureDeprecationWarning} {category: DEPRECATION} {title: This feature is deprecated and will be removed in future versions.} {description: The query used a deprecated function: `id`.} {position: line: 1, column: 31, offset: 30} for query: 'MATCH (s:Specification) WHERE id(s) = $spec_id MERGE (l:RangeLimit {name: $limit_name, value: $value, unit: $unit, limit_type: $limit_type}) MERGE (s)-[:HAS_MAX_LIMIT]->(l)'\n",
            "WARNING:neo4j.notifications:Received notification from DBMS server: {severity: WARNING} {code: Neo.ClientNotification.Statement.FeatureDeprecationWarning} {category: DEPRECATION} {title: This feature is deprecated and will be removed in future versions.} {description: The query used a deprecated function: `id`.} {position: line: 1, column: 182, offset: 181} for query: 'MATCH (t:Tool {model_number: $model}) MERGE (l:Limitation {description: $description, warning_type: $warning_type}) ON CREATE SET l.id = $id MERGE (t)-[:HAS_LIMITATION]->(l) RETURN id(l) as limit_id'\n",
            "WARNING:neo4j.notifications:Received notification from DBMS server: {severity: WARNING} {code: Neo.ClientNotification.Statement.FeatureDeprecationWarning} {category: DEPRECATION} {title: This feature is deprecated and will be removed in future versions.} {description: The query used a deprecated function: `id`.} {position: line: 1, column: 28, offset: 27} for query: 'MATCH (l:Limitation) WHERE id(l) = $limit_id MERGE (r:RangeLimit {name: $name, value: $value, unit: $unit, limit_type: $limit_type}) MERGE (l)-[:HAS_MIN_LIMIT]->(r)'\n",
            "WARNING:neo4j.notifications:Received notification from DBMS server: {severity: WARNING} {code: Neo.ClientNotification.Statement.FeatureDeprecationWarning} {category: DEPRECATION} {title: This feature is deprecated and will be removed in future versions.} {description: The query used a deprecated function: `id`.} {position: line: 1, column: 28, offset: 27} for query: 'MATCH (l:Limitation) WHERE id(l) = $limit_id CREATE (r:RangeLimit $props) MERGE (l)-[:HAS_MAX_LIMIT]->(r)'\n",
            "WARNING:neo4j.notifications:Received notification from DBMS server: {severity: WARNING} {code: Neo.ClientNotification.Statement.FeatureDeprecationWarning} {category: DEPRECATION} {title: This feature is deprecated and will be removed in future versions.} {description: The query used a deprecated function: `id`.} {position: line: 1, column: 28, offset: 27} for query: 'MATCH (l:Limitation) WHERE id(l) = $limit_id MATCH (s:Specification {id: $spec_id}) MERGE (l)-[:LIMITS_SPECIFICATION]->(s)'\n",
            "WARNING:neo4j.notifications:Received notification from DBMS server: {severity: WARNING} {code: Neo.ClientNotification.Statement.FeatureDeprecationWarning} {category: DEPRECATION} {title: This feature is deprecated and will be removed in future versions.} {description: The query used a deprecated function: `id`.} {position: line: 1, column: 182, offset: 181} for query: 'MATCH (t:Tool {model_number: $model}) MERGE (l:Limitation {description: $description, warning_type: $warning_type}) ON CREATE SET l.id = $id MERGE (t)-[:HAS_LIMITATION]->(l) RETURN id(l) as limit_id'\n",
            "WARNING:neo4j.notifications:Received notification from DBMS server: {severity: WARNING} {code: Neo.ClientNotification.Statement.FeatureDeprecationWarning} {category: DEPRECATION} {title: This feature is deprecated and will be removed in future versions.} {description: The query used a deprecated function: `id`.} {position: line: 1, column: 28, offset: 27} for query: 'MATCH (l:Limitation) WHERE id(l) = $limit_id MERGE (r:RangeLimit {name: $name, value: $value, unit: $unit, limit_type: $limit_type}) MERGE (l)-[:HAS_MIN_LIMIT]->(r)'\n",
            "WARNING:neo4j.notifications:Received notification from DBMS server: {severity: WARNING} {code: Neo.ClientNotification.Statement.FeatureDeprecationWarning} {category: DEPRECATION} {title: This feature is deprecated and will be removed in future versions.} {description: The query used a deprecated function: `id`.} {position: line: 1, column: 28, offset: 27} for query: 'MATCH (l:Limitation) WHERE id(l) = $limit_id CREATE (r:RangeLimit $props) MERGE (l)-[:HAS_MAX_LIMIT]->(r)'\n",
            "WARNING:neo4j.notifications:Received notification from DBMS server: {severity: WARNING} {code: Neo.ClientNotification.Statement.FeatureDeprecationWarning} {category: DEPRECATION} {title: This feature is deprecated and will be removed in future versions.} {description: The query used a deprecated function: `id`.} {position: line: 1, column: 28, offset: 27} for query: 'MATCH (l:Limitation) WHERE id(l) = $limit_id MATCH (s:Specification {id: $spec_id}) MERGE (l)-[:LIMITS_SPECIFICATION]->(s)'\n",
            "WARNING:neo4j.notifications:Received notification from DBMS server: {severity: WARNING} {code: Neo.ClientNotification.Statement.FeatureDeprecationWarning} {category: DEPRECATION} {title: This feature is deprecated and will be removed in future versions.} {description: The query used a deprecated function: `id`.} {position: line: 1, column: 182, offset: 181} for query: 'MATCH (t:Tool {model_number: $model}) MERGE (l:Limitation {description: $description, warning_type: $warning_type}) ON CREATE SET l.id = $id MERGE (t)-[:HAS_LIMITATION]->(l) RETURN id(l) as limit_id'\n",
            "WARNING:neo4j.notifications:Received notification from DBMS server: {severity: WARNING} {code: Neo.ClientNotification.Statement.FeatureDeprecationWarning} {category: DEPRECATION} {title: This feature is deprecated and will be removed in future versions.} {description: The query used a deprecated function: `id`.} {position: line: 1, column: 28, offset: 27} for query: 'MATCH (l:Limitation) WHERE id(l) = $limit_id MERGE (r:RangeLimit {name: $name, value: $value, unit: $unit, limit_type: $limit_type}) MERGE (l)-[:HAS_MIN_LIMIT]->(r)'\n",
            "WARNING:neo4j.notifications:Received notification from DBMS server: {severity: WARNING} {code: Neo.ClientNotification.Statement.FeatureDeprecationWarning} {category: DEPRECATION} {title: This feature is deprecated and will be removed in future versions.} {description: The query used a deprecated function: `id`.} {position: line: 1, column: 28, offset: 27} for query: 'MATCH (l:Limitation) WHERE id(l) = $limit_id CREATE (r:RangeLimit $props) MERGE (l)-[:HAS_MAX_LIMIT]->(r)'\n",
            "WARNING:neo4j.notifications:Received notification from DBMS server: {severity: WARNING} {code: Neo.ClientNotification.Statement.FeatureDeprecationWarning} {category: DEPRECATION} {title: This feature is deprecated and will be removed in future versions.} {description: The query used a deprecated function: `id`.} {position: line: 1, column: 28, offset: 27} for query: 'MATCH (l:Limitation) WHERE id(l) = $limit_id MATCH (s:Specification {id: $spec_id}) MERGE (l)-[:LIMITS_SPECIFICATION]->(s)'\n",
            "WARNING:neo4j.notifications:Received notification from DBMS server: {severity: WARNING} {code: Neo.ClientNotification.Statement.FeatureDeprecationWarning} {category: DEPRECATION} {title: This feature is deprecated and will be removed in future versions.} {description: The query used a deprecated function: `id`.} {position: line: 1, column: 182, offset: 181} for query: 'MATCH (t:Tool {model_number: $model}) MERGE (l:Limitation {description: $description, warning_type: $warning_type}) ON CREATE SET l.id = $id MERGE (t)-[:HAS_LIMITATION]->(l) RETURN id(l) as limit_id'\n",
            "WARNING:neo4j.notifications:Received notification from DBMS server: {severity: WARNING} {code: Neo.ClientNotification.Statement.FeatureDeprecationWarning} {category: DEPRECATION} {title: This feature is deprecated and will be removed in future versions.} {description: The query used a deprecated function: `id`.} {position: line: 1, column: 28, offset: 27} for query: 'MATCH (l:Limitation) WHERE id(l) = $limit_id MERGE (r:RangeLimit {name: $name, value: $value, unit: $unit, limit_type: $limit_type}) MERGE (l)-[:HAS_MIN_LIMIT]->(r)'\n",
            "WARNING:neo4j.notifications:Received notification from DBMS server: {severity: WARNING} {code: Neo.ClientNotification.Statement.FeatureDeprecationWarning} {category: DEPRECATION} {title: This feature is deprecated and will be removed in future versions.} {description: The query used a deprecated function: `id`.} {position: line: 1, column: 28, offset: 27} for query: 'MATCH (l:Limitation) WHERE id(l) = $limit_id CREATE (r:RangeLimit $props) MERGE (l)-[:HAS_MAX_LIMIT]->(r)'\n",
            "WARNING:neo4j.notifications:Received notification from DBMS server: {severity: WARNING} {code: Neo.ClientNotification.Statement.FeatureDeprecationWarning} {category: DEPRECATION} {title: This feature is deprecated and will be removed in future versions.} {description: The query used a deprecated function: `id`.} {position: line: 1, column: 28, offset: 27} for query: 'MATCH (l:Limitation) WHERE id(l) = $limit_id MATCH (s:Specification {id: $spec_id}) MERGE (l)-[:LIMITS_SPECIFICATION]->(s)'\n",
            "WARNING:neo4j.notifications:Received notification from DBMS server: {severity: WARNING} {code: Neo.ClientNotification.Statement.FeatureDeprecationWarning} {category: DEPRECATION} {title: This feature is deprecated and will be removed in future versions.} {description: The query used a deprecated function: `id`.} {position: line: 1, column: 182, offset: 181} for query: 'MATCH (t:Tool {model_number: $model}) MERGE (l:Limitation {description: $description, warning_type: $warning_type}) ON CREATE SET l.id = $id MERGE (t)-[:HAS_LIMITATION]->(l) RETURN id(l) as limit_id'\n",
            "WARNING:neo4j.notifications:Received notification from DBMS server: {severity: WARNING} {code: Neo.ClientNotification.Statement.FeatureDeprecationWarning} {category: DEPRECATION} {title: This feature is deprecated and will be removed in future versions.} {description: The query used a deprecated function: `id`.} {position: line: 1, column: 28, offset: 27} for query: 'MATCH (l:Limitation) WHERE id(l) = $limit_id MERGE (r:RangeLimit {name: $name, value: $value, unit: $unit, limit_type: $limit_type}) MERGE (l)-[:HAS_MIN_LIMIT]->(r)'\n",
            "WARNING:neo4j.notifications:Received notification from DBMS server: {severity: WARNING} {code: Neo.ClientNotification.Statement.FeatureDeprecationWarning} {category: DEPRECATION} {title: This feature is deprecated and will be removed in future versions.} {description: The query used a deprecated function: `id`.} {position: line: 1, column: 28, offset: 27} for query: 'MATCH (l:Limitation) WHERE id(l) = $limit_id CREATE (r:RangeLimit $props) MERGE (l)-[:HAS_MAX_LIMIT]->(r)'\n",
            "WARNING:neo4j.notifications:Received notification from DBMS server: {severity: WARNING} {code: Neo.ClientNotification.Statement.FeatureDeprecationWarning} {category: DEPRECATION} {title: This feature is deprecated and will be removed in future versions.} {description: The query used a deprecated function: `id`.} {position: line: 1, column: 28, offset: 27} for query: 'MATCH (l:Limitation) WHERE id(l) = $limit_id MATCH (s:Specification {id: $spec_id}) MERGE (l)-[:LIMITS_SPECIFICATION]->(s)'\n",
            "WARNING:neo4j.notifications:Received notification from DBMS server: {severity: WARNING} {code: Neo.ClientNotification.Statement.FeatureDeprecationWarning} {category: DEPRECATION} {title: This feature is deprecated and will be removed in future versions.} {description: The query used a deprecated function: `id`.} {position: line: 1, column: 182, offset: 181} for query: 'MATCH (t:Tool {model_number: $model}) MERGE (l:Limitation {description: $description, warning_type: $warning_type}) ON CREATE SET l.id = $id MERGE (t)-[:HAS_LIMITATION]->(l) RETURN id(l) as limit_id'\n",
            "WARNING:neo4j.notifications:Received notification from DBMS server: {severity: WARNING} {code: Neo.ClientNotification.Statement.FeatureDeprecationWarning} {category: DEPRECATION} {title: This feature is deprecated and will be removed in future versions.} {description: The query used a deprecated function: `id`.} {position: line: 1, column: 150, offset: 149} for query: 'MATCH (t:Tool {model_number: $model}) MERGE (s:Specification {name: $spec_name}) ON CREATE SET s = $props MERGE (t)-[:HAS_SPECIFICATION]->(s) RETURN id(s) as spec_id'\n",
            "WARNING:neo4j.notifications:Received notification from DBMS server: {severity: WARNING} {code: Neo.ClientNotification.Statement.FeatureDeprecationWarning} {category: DEPRECATION} {title: This feature is deprecated and will be removed in future versions.} {description: The query used a deprecated function: `id`.} {position: line: 1, column: 31, offset: 30} for query: 'MATCH (s:Specification) WHERE id(s) = $spec_id MERGE (u:Unit {symbol: $symbol}) ON CREATE SET u.name = $name MERGE (s)-[:HAS_UNIT]->(u)'\n",
            "WARNING:neo4j.notifications:Received notification from DBMS server: {severity: WARNING} {code: Neo.ClientNotification.Statement.FeatureDeprecationWarning} {category: DEPRECATION} {title: This feature is deprecated and will be removed in future versions.} {description: The query used a deprecated function: `id`.} {position: line: 1, column: 31, offset: 30} for query: 'MATCH (s:Specification) WHERE id(s) = $spec_id MERGE (l:RangeLimit {name: $limit_name, value: $value, unit: $unit, limit_type: $limit_type}) MERGE (s)-[:HAS_MIN_LIMIT]->(l)'\n",
            "WARNING:neo4j.notifications:Received notification from DBMS server: {severity: WARNING} {code: Neo.ClientNotification.Statement.FeatureDeprecationWarning} {category: DEPRECATION} {title: This feature is deprecated and will be removed in future versions.} {description: The query used a deprecated function: `id`.} {position: line: 1, column: 31, offset: 30} for query: 'MATCH (s:Specification) WHERE id(s) = $spec_id MERGE (l:RangeLimit {name: $limit_name, value: $value, unit: $unit, limit_type: $limit_type}) MERGE (s)-[:HAS_MAX_LIMIT]->(l)'\n",
            "WARNING:neo4j.notifications:Received notification from DBMS server: {severity: WARNING} {code: Neo.ClientNotification.Statement.FeatureDeprecationWarning} {category: DEPRECATION} {title: This feature is deprecated and will be removed in future versions.} {description: The query used a deprecated function: `id`.} {position: line: 1, column: 150, offset: 149} for query: 'MATCH (t:Tool {model_number: $model}) MERGE (s:Specification {name: $spec_name}) ON CREATE SET s = $props MERGE (t)-[:HAS_SPECIFICATION]->(s) RETURN id(s) as spec_id'\n",
            "WARNING:neo4j.notifications:Received notification from DBMS server: {severity: WARNING} {code: Neo.ClientNotification.Statement.FeatureDeprecationWarning} {category: DEPRECATION} {title: This feature is deprecated and will be removed in future versions.} {description: The query used a deprecated function: `id`.} {position: line: 1, column: 31, offset: 30} for query: 'MATCH (s:Specification) WHERE id(s) = $spec_id MERGE (u:Unit {symbol: $symbol}) ON CREATE SET u.name = $name MERGE (s)-[:HAS_UNIT]->(u)'\n",
            "WARNING:neo4j.notifications:Received notification from DBMS server: {severity: WARNING} {code: Neo.ClientNotification.Statement.FeatureDeprecationWarning} {category: DEPRECATION} {title: This feature is deprecated and will be removed in future versions.} {description: The query used a deprecated function: `id`.} {position: line: 1, column: 150, offset: 149} for query: 'MATCH (t:Tool {model_number: $model}) MERGE (s:Specification {name: $spec_name}) ON CREATE SET s = $props MERGE (t)-[:HAS_SPECIFICATION]->(s) RETURN id(s) as spec_id'\n",
            "WARNING:neo4j.notifications:Received notification from DBMS server: {severity: WARNING} {code: Neo.ClientNotification.Statement.FeatureDeprecationWarning} {category: DEPRECATION} {title: This feature is deprecated and will be removed in future versions.} {description: The query used a deprecated function: `id`.} {position: line: 1, column: 150, offset: 149} for query: 'MATCH (t:Tool {model_number: $model}) MERGE (s:Specification {name: $spec_name}) ON CREATE SET s = $props MERGE (t)-[:HAS_SPECIFICATION]->(s) RETURN id(s) as spec_id'\n",
            "WARNING:neo4j.notifications:Received notification from DBMS server: {severity: WARNING} {code: Neo.ClientNotification.Statement.FeatureDeprecationWarning} {category: DEPRECATION} {title: This feature is deprecated and will be removed in future versions.} {description: The query used a deprecated function: `id`.} {position: line: 1, column: 150, offset: 149} for query: 'MATCH (t:Tool {model_number: $model}) MERGE (s:Specification {name: $spec_name}) ON CREATE SET s = $props MERGE (t)-[:HAS_SPECIFICATION]->(s) RETURN id(s) as spec_id'\n",
            "WARNING:neo4j.notifications:Received notification from DBMS server: {severity: WARNING} {code: Neo.ClientNotification.Statement.FeatureDeprecationWarning} {category: DEPRECATION} {title: This feature is deprecated and will be removed in future versions.} {description: The query used a deprecated function: `id`.} {position: line: 1, column: 31, offset: 30} for query: 'MATCH (s:Specification) WHERE id(s) = $spec_id MERGE (u:Unit {symbol: $symbol}) ON CREATE SET u.name = $name MERGE (s)-[:HAS_UNIT]->(u)'\n",
            "WARNING:neo4j.notifications:Received notification from DBMS server: {severity: WARNING} {code: Neo.ClientNotification.Statement.FeatureDeprecationWarning} {category: DEPRECATION} {title: This feature is deprecated and will be removed in future versions.} {description: The query used a deprecated function: `id`.} {position: line: 1, column: 150, offset: 149} for query: 'MATCH (t:Tool {model_number: $model}) MERGE (s:Specification {name: $spec_name}) ON CREATE SET s = $props MERGE (t)-[:HAS_SPECIFICATION]->(s) RETURN id(s) as spec_id'\n",
            "WARNING:neo4j.notifications:Received notification from DBMS server: {severity: WARNING} {code: Neo.ClientNotification.Statement.FeatureDeprecationWarning} {category: DEPRECATION} {title: This feature is deprecated and will be removed in future versions.} {description: The query used a deprecated function: `id`.} {position: line: 1, column: 31, offset: 30} for query: 'MATCH (s:Specification) WHERE id(s) = $spec_id MERGE (l:RangeLimit {name: $limit_name, value: $value, unit: $unit, limit_type: $limit_type}) MERGE (s)-[:HAS_MIN_LIMIT]->(l)'\n",
            "WARNING:neo4j.notifications:Received notification from DBMS server: {severity: WARNING} {code: Neo.ClientNotification.Statement.FeatureDeprecationWarning} {category: DEPRECATION} {title: This feature is deprecated and will be removed in future versions.} {description: The query used a deprecated function: `id`.} {position: line: 1, column: 31, offset: 30} for query: 'MATCH (s:Specification) WHERE id(s) = $spec_id MERGE (l:RangeLimit {name: $limit_name, value: $value, unit: $unit, limit_type: $limit_type}) MERGE (s)-[:HAS_MAX_LIMIT]->(l)'\n",
            "WARNING:neo4j.notifications:Received notification from DBMS server: {severity: WARNING} {code: Neo.ClientNotification.Statement.FeatureDeprecationWarning} {category: DEPRECATION} {title: This feature is deprecated and will be removed in future versions.} {description: The query used a deprecated function: `id`.} {position: line: 1, column: 150, offset: 149} for query: 'MATCH (t:Tool {model_number: $model}) MERGE (s:Specification {name: $spec_name}) ON CREATE SET s = $props MERGE (t)-[:HAS_SPECIFICATION]->(s) RETURN id(s) as spec_id'\n",
            "WARNING:neo4j.notifications:Received notification from DBMS server: {severity: WARNING} {code: Neo.ClientNotification.Statement.FeatureDeprecationWarning} {category: DEPRECATION} {title: This feature is deprecated and will be removed in future versions.} {description: The query used a deprecated function: `id`.} {position: line: 1, column: 150, offset: 149} for query: 'MATCH (t:Tool {model_number: $model}) MERGE (s:Specification {name: $spec_name}) ON CREATE SET s = $props MERGE (t)-[:HAS_SPECIFICATION]->(s) RETURN id(s) as spec_id'\n",
            "WARNING:neo4j.notifications:Received notification from DBMS server: {severity: WARNING} {code: Neo.ClientNotification.Statement.FeatureDeprecationWarning} {category: DEPRECATION} {title: This feature is deprecated and will be removed in future versions.} {description: The query used a deprecated function: `id`.} {position: line: 1, column: 31, offset: 30} for query: 'MATCH (s:Specification) WHERE id(s) = $spec_id MERGE (u:Unit {symbol: $symbol}) ON CREATE SET u.name = $name MERGE (s)-[:HAS_UNIT]->(u)'\n",
            "WARNING:neo4j.notifications:Received notification from DBMS server: {severity: WARNING} {code: Neo.ClientNotification.Statement.FeatureDeprecationWarning} {category: DEPRECATION} {title: This feature is deprecated and will be removed in future versions.} {description: The query used a deprecated function: `id`.} {position: line: 1, column: 150, offset: 149} for query: 'MATCH (t:Tool {model_number: $model}) MERGE (s:Specification {name: $spec_name}) ON CREATE SET s = $props MERGE (t)-[:HAS_SPECIFICATION]->(s) RETURN id(s) as spec_id'\n",
            "WARNING:neo4j.notifications:Received notification from DBMS server: {severity: WARNING} {code: Neo.ClientNotification.Statement.FeatureDeprecationWarning} {category: DEPRECATION} {title: This feature is deprecated and will be removed in future versions.} {description: The query used a deprecated function: `id`.} {position: line: 1, column: 150, offset: 149} for query: 'MATCH (t:Tool {model_number: $model}) MERGE (s:Specification {name: $spec_name}) ON CREATE SET s = $props MERGE (t)-[:HAS_SPECIFICATION]->(s) RETURN id(s) as spec_id'\n",
            "WARNING:neo4j.notifications:Received notification from DBMS server: {severity: WARNING} {code: Neo.ClientNotification.Statement.FeatureDeprecationWarning} {category: DEPRECATION} {title: This feature is deprecated and will be removed in future versions.} {description: The query used a deprecated function: `id`.} {position: line: 1, column: 150, offset: 149} for query: 'MATCH (t:Tool {model_number: $model}) MERGE (s:Specification {name: $spec_name}) ON CREATE SET s = $props MERGE (t)-[:HAS_SPECIFICATION]->(s) RETURN id(s) as spec_id'\n",
            "WARNING:neo4j.notifications:Received notification from DBMS server: {severity: WARNING} {code: Neo.ClientNotification.Statement.FeatureDeprecationWarning} {category: DEPRECATION} {title: This feature is deprecated and will be removed in future versions.} {description: The query used a deprecated function: `id`.} {position: line: 1, column: 150, offset: 149} for query: 'MATCH (t:Tool {model_number: $model}) MERGE (s:Specification {name: $spec_name}) ON CREATE SET s = $props MERGE (t)-[:HAS_SPECIFICATION]->(s) RETURN id(s) as spec_id'\n",
            "WARNING:neo4j.notifications:Received notification from DBMS server: {severity: WARNING} {code: Neo.ClientNotification.Statement.FeatureDeprecationWarning} {category: DEPRECATION} {title: This feature is deprecated and will be removed in future versions.} {description: The query used a deprecated function: `id`.} {position: line: 1, column: 31, offset: 30} for query: 'MATCH (s:Specification) WHERE id(s) = $spec_id MERGE (u:Unit {symbol: $symbol}) ON CREATE SET u.name = $name MERGE (s)-[:HAS_UNIT]->(u)'\n",
            "WARNING:neo4j.notifications:Received notification from DBMS server: {severity: WARNING} {code: Neo.ClientNotification.Statement.FeatureDeprecationWarning} {category: DEPRECATION} {title: This feature is deprecated and will be removed in future versions.} {description: The query used a deprecated function: `id`.} {position: line: 1, column: 150, offset: 149} for query: 'MATCH (t:Tool {model_number: $model}) MERGE (s:Specification {name: $spec_name}) ON CREATE SET s = $props MERGE (t)-[:HAS_SPECIFICATION]->(s) RETURN id(s) as spec_id'\n",
            "WARNING:neo4j.notifications:Received notification from DBMS server: {severity: WARNING} {code: Neo.ClientNotification.Statement.FeatureDeprecationWarning} {category: DEPRECATION} {title: This feature is deprecated and will be removed in future versions.} {description: The query used a deprecated function: `id`.} {position: line: 1, column: 31, offset: 30} for query: 'MATCH (s:Specification) WHERE id(s) = $spec_id MERGE (u:Unit {symbol: $symbol}) ON CREATE SET u.name = $name MERGE (s)-[:HAS_UNIT]->(u)'\n",
            "WARNING:neo4j.notifications:Received notification from DBMS server: {severity: WARNING} {code: Neo.ClientNotification.Statement.FeatureDeprecationWarning} {category: DEPRECATION} {title: This feature is deprecated and will be removed in future versions.} {description: The query used a deprecated function: `id`.} {position: line: 1, column: 150, offset: 149} for query: 'MATCH (t:Tool {model_number: $model}) MERGE (s:Specification {name: $spec_name}) ON CREATE SET s = $props MERGE (t)-[:HAS_SPECIFICATION]->(s) RETURN id(s) as spec_id'\n",
            "WARNING:neo4j.notifications:Received notification from DBMS server: {severity: WARNING} {code: Neo.ClientNotification.Statement.FeatureDeprecationWarning} {category: DEPRECATION} {title: This feature is deprecated and will be removed in future versions.} {description: The query used a deprecated function: `id`.} {position: line: 1, column: 31, offset: 30} for query: 'MATCH (s:Specification) WHERE id(s) = $spec_id MERGE (u:Unit {symbol: $symbol}) ON CREATE SET u.name = $name MERGE (s)-[:HAS_UNIT]->(u)'\n",
            "WARNING:neo4j.notifications:Received notification from DBMS server: {severity: WARNING} {code: Neo.ClientNotification.Statement.FeatureDeprecationWarning} {category: DEPRECATION} {title: This feature is deprecated and will be removed in future versions.} {description: The query used a deprecated function: `id`.} {position: line: 1, column: 150, offset: 149} for query: 'MATCH (t:Tool {model_number: $model}) MERGE (s:Specification {name: $spec_name}) ON CREATE SET s = $props MERGE (t)-[:HAS_SPECIFICATION]->(s) RETURN id(s) as spec_id'\n",
            "WARNING:neo4j.notifications:Received notification from DBMS server: {severity: WARNING} {code: Neo.ClientNotification.Statement.FeatureDeprecationWarning} {category: DEPRECATION} {title: This feature is deprecated and will be removed in future versions.} {description: The query used a deprecated function: `id`.} {position: line: 1, column: 31, offset: 30} for query: 'MATCH (s:Specification) WHERE id(s) = $spec_id MERGE (u:Unit {symbol: $symbol}) ON CREATE SET u.name = $name MERGE (s)-[:HAS_UNIT]->(u)'\n",
            "WARNING:neo4j.notifications:Received notification from DBMS server: {severity: WARNING} {code: Neo.ClientNotification.Statement.FeatureDeprecationWarning} {category: DEPRECATION} {title: This feature is deprecated and will be removed in future versions.} {description: The query used a deprecated function: `id`.} {position: line: 1, column: 182, offset: 181} for query: 'MATCH (t:Tool {model_number: $model}) MERGE (l:Limitation {description: $description, warning_type: $warning_type}) ON CREATE SET l.id = $id MERGE (t)-[:HAS_LIMITATION]->(l) RETURN id(l) as limit_id'\n",
            "WARNING:neo4j.notifications:Received notification from DBMS server: {severity: WARNING} {code: Neo.ClientNotification.Statement.FeatureDeprecationWarning} {category: DEPRECATION} {title: This feature is deprecated and will be removed in future versions.} {description: The query used a deprecated function: `id`.} {position: line: 1, column: 28, offset: 27} for query: 'MATCH (l:Limitation) WHERE id(l) = $limit_id MERGE (r:RangeLimit {name: $name, value: $value, unit: $unit, limit_type: $limit_type}) MERGE (l)-[:HAS_MIN_LIMIT]->(r)'\n",
            "WARNING:neo4j.notifications:Received notification from DBMS server: {severity: WARNING} {code: Neo.ClientNotification.Statement.FeatureDeprecationWarning} {category: DEPRECATION} {title: This feature is deprecated and will be removed in future versions.} {description: The query used a deprecated function: `id`.} {position: line: 1, column: 28, offset: 27} for query: 'MATCH (l:Limitation) WHERE id(l) = $limit_id CREATE (r:RangeLimit $props) MERGE (l)-[:HAS_MAX_LIMIT]->(r)'\n",
            "WARNING:neo4j.notifications:Received notification from DBMS server: {severity: WARNING} {code: Neo.ClientNotification.Statement.FeatureDeprecationWarning} {category: DEPRECATION} {title: This feature is deprecated and will be removed in future versions.} {description: The query used a deprecated function: `id`.} {position: line: 1, column: 28, offset: 27} for query: 'MATCH (l:Limitation) WHERE id(l) = $limit_id MATCH (s:Specification {id: $spec_id}) MERGE (l)-[:LIMITS_SPECIFICATION]->(s)'\n",
            "WARNING:neo4j.notifications:Received notification from DBMS server: {severity: WARNING} {code: Neo.ClientNotification.Statement.FeatureDeprecationWarning} {category: DEPRECATION} {title: This feature is deprecated and will be removed in future versions.} {description: The query used a deprecated function: `id`.} {position: line: 1, column: 182, offset: 181} for query: 'MATCH (t:Tool {model_number: $model}) MERGE (l:Limitation {description: $description, warning_type: $warning_type}) ON CREATE SET l.id = $id MERGE (t)-[:HAS_LIMITATION]->(l) RETURN id(l) as limit_id'\n",
            "WARNING:neo4j.notifications:Received notification from DBMS server: {severity: WARNING} {code: Neo.ClientNotification.Statement.FeatureDeprecationWarning} {category: DEPRECATION} {title: This feature is deprecated and will be removed in future versions.} {description: The query used a deprecated function: `id`.} {position: line: 1, column: 28, offset: 27} for query: 'MATCH (l:Limitation) WHERE id(l) = $limit_id MERGE (r:RangeLimit {name: $name, value: $value, unit: $unit, limit_type: $limit_type}) MERGE (l)-[:HAS_MIN_LIMIT]->(r)'\n",
            "WARNING:neo4j.notifications:Received notification from DBMS server: {severity: WARNING} {code: Neo.ClientNotification.Statement.FeatureDeprecationWarning} {category: DEPRECATION} {title: This feature is deprecated and will be removed in future versions.} {description: The query used a deprecated function: `id`.} {position: line: 1, column: 28, offset: 27} for query: 'MATCH (l:Limitation) WHERE id(l) = $limit_id CREATE (r:RangeLimit $props) MERGE (l)-[:HAS_MAX_LIMIT]->(r)'\n",
            "WARNING:neo4j.notifications:Received notification from DBMS server: {severity: WARNING} {code: Neo.ClientNotification.Statement.FeatureDeprecationWarning} {category: DEPRECATION} {title: This feature is deprecated and will be removed in future versions.} {description: The query used a deprecated function: `id`.} {position: line: 1, column: 28, offset: 27} for query: 'MATCH (l:Limitation) WHERE id(l) = $limit_id MATCH (s:Specification {id: $spec_id}) MERGE (l)-[:LIMITS_SPECIFICATION]->(s)'\n",
            "WARNING:neo4j.notifications:Received notification from DBMS server: {severity: WARNING} {code: Neo.ClientNotification.Statement.FeatureDeprecationWarning} {category: DEPRECATION} {title: This feature is deprecated and will be removed in future versions.} {description: The query used a deprecated function: `id`.} {position: line: 1, column: 182, offset: 181} for query: 'MATCH (t:Tool {model_number: $model}) MERGE (l:Limitation {description: $description, warning_type: $warning_type}) ON CREATE SET l.id = $id MERGE (t)-[:HAS_LIMITATION]->(l) RETURN id(l) as limit_id'\n",
            "WARNING:neo4j.notifications:Received notification from DBMS server: {severity: WARNING} {code: Neo.ClientNotification.Statement.FeatureDeprecationWarning} {category: DEPRECATION} {title: This feature is deprecated and will be removed in future versions.} {description: The query used a deprecated function: `id`.} {position: line: 1, column: 182, offset: 181} for query: 'MATCH (t:Tool {model_number: $model}) MERGE (l:Limitation {description: $description, warning_type: $warning_type}) ON CREATE SET l.id = $id MERGE (t)-[:HAS_LIMITATION]->(l) RETURN id(l) as limit_id'\n",
            "WARNING:neo4j.notifications:Received notification from DBMS server: {severity: WARNING} {code: Neo.ClientNotification.Statement.FeatureDeprecationWarning} {category: DEPRECATION} {title: This feature is deprecated and will be removed in future versions.} {description: The query used a deprecated function: `id`.} {position: line: 1, column: 150, offset: 149} for query: 'MATCH (t:Tool {model_number: $model}) MERGE (s:Specification {name: $spec_name}) ON CREATE SET s = $props MERGE (t)-[:HAS_SPECIFICATION]->(s) RETURN id(s) as spec_id'\n",
            "WARNING:neo4j.notifications:Received notification from DBMS server: {severity: WARNING} {code: Neo.ClientNotification.Statement.FeatureDeprecationWarning} {category: DEPRECATION} {title: This feature is deprecated and will be removed in future versions.} {description: The query used a deprecated function: `id`.} {position: line: 1, column: 31, offset: 30} for query: 'MATCH (s:Specification) WHERE id(s) = $spec_id MERGE (u:Unit {symbol: $symbol}) ON CREATE SET u.name = $name MERGE (s)-[:HAS_UNIT]->(u)'\n",
            "WARNING:neo4j.notifications:Received notification from DBMS server: {severity: WARNING} {code: Neo.ClientNotification.Statement.FeatureDeprecationWarning} {category: DEPRECATION} {title: This feature is deprecated and will be removed in future versions.} {description: The query used a deprecated function: `id`.} {position: line: 1, column: 31, offset: 30} for query: 'MATCH (s:Specification) WHERE id(s) = $spec_id MERGE (l:RangeLimit {name: $limit_name, value: $value, unit: $unit, limit_type: $limit_type}) MERGE (s)-[:HAS_MIN_LIMIT]->(l)'\n",
            "WARNING:neo4j.notifications:Received notification from DBMS server: {severity: WARNING} {code: Neo.ClientNotification.Statement.FeatureDeprecationWarning} {category: DEPRECATION} {title: This feature is deprecated and will be removed in future versions.} {description: The query used a deprecated function: `id`.} {position: line: 1, column: 31, offset: 30} for query: 'MATCH (s:Specification) WHERE id(s) = $spec_id MERGE (l:RangeLimit {name: $limit_name, value: $value, unit: $unit, limit_type: $limit_type}) MERGE (s)-[:HAS_MAX_LIMIT]->(l)'\n",
            "WARNING:neo4j.notifications:Received notification from DBMS server: {severity: WARNING} {code: Neo.ClientNotification.Statement.FeatureDeprecationWarning} {category: DEPRECATION} {title: This feature is deprecated and will be removed in future versions.} {description: The query used a deprecated function: `id`.} {position: line: 1, column: 150, offset: 149} for query: 'MATCH (t:Tool {model_number: $model}) MERGE (s:Specification {name: $spec_name}) ON CREATE SET s = $props MERGE (t)-[:HAS_SPECIFICATION]->(s) RETURN id(s) as spec_id'\n",
            "WARNING:neo4j.notifications:Received notification from DBMS server: {severity: WARNING} {code: Neo.ClientNotification.Statement.FeatureDeprecationWarning} {category: DEPRECATION} {title: This feature is deprecated and will be removed in future versions.} {description: The query used a deprecated function: `id`.} {position: line: 1, column: 31, offset: 30} for query: 'MATCH (s:Specification) WHERE id(s) = $spec_id MERGE (u:Unit {symbol: $symbol}) ON CREATE SET u.name = $name MERGE (s)-[:HAS_UNIT]->(u)'\n",
            "WARNING:neo4j.notifications:Received notification from DBMS server: {severity: WARNING} {code: Neo.ClientNotification.Statement.FeatureDeprecationWarning} {category: DEPRECATION} {title: This feature is deprecated and will be removed in future versions.} {description: The query used a deprecated function: `id`.} {position: line: 1, column: 150, offset: 149} for query: 'MATCH (t:Tool {model_number: $model}) MERGE (s:Specification {name: $spec_name}) ON CREATE SET s = $props MERGE (t)-[:HAS_SPECIFICATION]->(s) RETURN id(s) as spec_id'\n",
            "WARNING:neo4j.notifications:Received notification from DBMS server: {severity: WARNING} {code: Neo.ClientNotification.Statement.FeatureDeprecationWarning} {category: DEPRECATION} {title: This feature is deprecated and will be removed in future versions.} {description: The query used a deprecated function: `id`.} {position: line: 1, column: 150, offset: 149} for query: 'MATCH (t:Tool {model_number: $model}) MERGE (s:Specification {name: $spec_name}) ON CREATE SET s = $props MERGE (t)-[:HAS_SPECIFICATION]->(s) RETURN id(s) as spec_id'\n",
            "WARNING:neo4j.notifications:Received notification from DBMS server: {severity: WARNING} {code: Neo.ClientNotification.Statement.FeatureDeprecationWarning} {category: DEPRECATION} {title: This feature is deprecated and will be removed in future versions.} {description: The query used a deprecated function: `id`.} {position: line: 1, column: 150, offset: 149} for query: 'MATCH (t:Tool {model_number: $model}) MERGE (s:Specification {name: $spec_name}) ON CREATE SET s = $props MERGE (t)-[:HAS_SPECIFICATION]->(s) RETURN id(s) as spec_id'\n",
            "WARNING:neo4j.notifications:Received notification from DBMS server: {severity: WARNING} {code: Neo.ClientNotification.Statement.FeatureDeprecationWarning} {category: DEPRECATION} {title: This feature is deprecated and will be removed in future versions.} {description: The query used a deprecated function: `id`.} {position: line: 1, column: 150, offset: 149} for query: 'MATCH (t:Tool {model_number: $model}) MERGE (s:Specification {name: $spec_name}) ON CREATE SET s = $props MERGE (t)-[:HAS_SPECIFICATION]->(s) RETURN id(s) as spec_id'\n",
            "WARNING:neo4j.notifications:Received notification from DBMS server: {severity: WARNING} {code: Neo.ClientNotification.Statement.FeatureDeprecationWarning} {category: DEPRECATION} {title: This feature is deprecated and will be removed in future versions.} {description: The query used a deprecated function: `id`.} {position: line: 1, column: 150, offset: 149} for query: 'MATCH (t:Tool {model_number: $model}) MERGE (s:Specification {name: $spec_name}) ON CREATE SET s = $props MERGE (t)-[:HAS_SPECIFICATION]->(s) RETURN id(s) as spec_id'\n",
            "WARNING:neo4j.notifications:Received notification from DBMS server: {severity: WARNING} {code: Neo.ClientNotification.Statement.FeatureDeprecationWarning} {category: DEPRECATION} {title: This feature is deprecated and will be removed in future versions.} {description: The query used a deprecated function: `id`.} {position: line: 1, column: 31, offset: 30} for query: 'MATCH (s:Specification) WHERE id(s) = $spec_id MERGE (u:Unit {symbol: $symbol}) ON CREATE SET u.name = $name MERGE (s)-[:HAS_UNIT]->(u)'\n",
            "WARNING:neo4j.notifications:Received notification from DBMS server: {severity: WARNING} {code: Neo.ClientNotification.Statement.FeatureDeprecationWarning} {category: DEPRECATION} {title: This feature is deprecated and will be removed in future versions.} {description: The query used a deprecated function: `id`.} {position: line: 1, column: 150, offset: 149} for query: 'MATCH (t:Tool {model_number: $model}) MERGE (s:Specification {name: $spec_name}) ON CREATE SET s = $props MERGE (t)-[:HAS_SPECIFICATION]->(s) RETURN id(s) as spec_id'\n",
            "WARNING:neo4j.notifications:Received notification from DBMS server: {severity: WARNING} {code: Neo.ClientNotification.Statement.FeatureDeprecationWarning} {category: DEPRECATION} {title: This feature is deprecated and will be removed in future versions.} {description: The query used a deprecated function: `id`.} {position: line: 1, column: 150, offset: 149} for query: 'MATCH (t:Tool {model_number: $model}) MERGE (s:Specification {name: $spec_name}) ON CREATE SET s = $props MERGE (t)-[:HAS_SPECIFICATION]->(s) RETURN id(s) as spec_id'\n",
            "WARNING:neo4j.notifications:Received notification from DBMS server: {severity: WARNING} {code: Neo.ClientNotification.Statement.FeatureDeprecationWarning} {category: DEPRECATION} {title: This feature is deprecated and will be removed in future versions.} {description: The query used a deprecated function: `id`.} {position: line: 1, column: 150, offset: 149} for query: 'MATCH (t:Tool {model_number: $model}) MERGE (s:Specification {name: $spec_name}) ON CREATE SET s = $props MERGE (t)-[:HAS_SPECIFICATION]->(s) RETURN id(s) as spec_id'\n",
            "WARNING:neo4j.notifications:Received notification from DBMS server: {severity: WARNING} {code: Neo.ClientNotification.Statement.FeatureDeprecationWarning} {category: DEPRECATION} {title: This feature is deprecated and will be removed in future versions.} {description: The query used a deprecated function: `id`.} {position: line: 1, column: 150, offset: 149} for query: 'MATCH (t:Tool {model_number: $model}) MERGE (s:Specification {name: $spec_name}) ON CREATE SET s = $props MERGE (t)-[:HAS_SPECIFICATION]->(s) RETURN id(s) as spec_id'\n",
            "WARNING:neo4j.notifications:Received notification from DBMS server: {severity: WARNING} {code: Neo.ClientNotification.Statement.FeatureDeprecationWarning} {category: DEPRECATION} {title: This feature is deprecated and will be removed in future versions.} {description: The query used a deprecated function: `id`.} {position: line: 1, column: 150, offset: 149} for query: 'MATCH (t:Tool {model_number: $model}) MERGE (s:Specification {name: $spec_name}) ON CREATE SET s = $props MERGE (t)-[:HAS_SPECIFICATION]->(s) RETURN id(s) as spec_id'\n",
            "WARNING:neo4j.notifications:Received notification from DBMS server: {severity: WARNING} {code: Neo.ClientNotification.Statement.FeatureDeprecationWarning} {category: DEPRECATION} {title: This feature is deprecated and will be removed in future versions.} {description: The query used a deprecated function: `id`.} {position: line: 1, column: 150, offset: 149} for query: 'MATCH (t:Tool {model_number: $model}) MERGE (s:Specification {name: $spec_name}) ON CREATE SET s = $props MERGE (t)-[:HAS_SPECIFICATION]->(s) RETURN id(s) as spec_id'\n",
            "WARNING:neo4j.notifications:Received notification from DBMS server: {severity: WARNING} {code: Neo.ClientNotification.Statement.FeatureDeprecationWarning} {category: DEPRECATION} {title: This feature is deprecated and will be removed in future versions.} {description: The query used a deprecated function: `id`.} {position: line: 1, column: 150, offset: 149} for query: 'MATCH (t:Tool {model_number: $model}) MERGE (s:Specification {name: $spec_name}) ON CREATE SET s = $props MERGE (t)-[:HAS_SPECIFICATION]->(s) RETURN id(s) as spec_id'\n",
            "WARNING:neo4j.notifications:Received notification from DBMS server: {severity: WARNING} {code: Neo.ClientNotification.Statement.FeatureDeprecationWarning} {category: DEPRECATION} {title: This feature is deprecated and will be removed in future versions.} {description: The query used a deprecated function: `id`.} {position: line: 1, column: 150, offset: 149} for query: 'MATCH (t:Tool {model_number: $model}) MERGE (s:Specification {name: $spec_name}) ON CREATE SET s = $props MERGE (t)-[:HAS_SPECIFICATION]->(s) RETURN id(s) as spec_id'\n",
            "WARNING:neo4j.notifications:Received notification from DBMS server: {severity: WARNING} {code: Neo.ClientNotification.Statement.FeatureDeprecationWarning} {category: DEPRECATION} {title: This feature is deprecated and will be removed in future versions.} {description: The query used a deprecated function: `id`.} {position: line: 1, column: 31, offset: 30} for query: 'MATCH (s:Specification) WHERE id(s) = $spec_id MERGE (u:Unit {symbol: $symbol}) ON CREATE SET u.name = $name MERGE (s)-[:HAS_UNIT]->(u)'\n",
            "WARNING:neo4j.notifications:Received notification from DBMS server: {severity: WARNING} {code: Neo.ClientNotification.Statement.FeatureDeprecationWarning} {category: DEPRECATION} {title: This feature is deprecated and will be removed in future versions.} {description: The query used a deprecated function: `id`.} {position: line: 1, column: 150, offset: 149} for query: 'MATCH (t:Tool {model_number: $model}) MERGE (s:Specification {name: $spec_name}) ON CREATE SET s = $props MERGE (t)-[:HAS_SPECIFICATION]->(s) RETURN id(s) as spec_id'\n",
            "WARNING:neo4j.notifications:Received notification from DBMS server: {severity: WARNING} {code: Neo.ClientNotification.Statement.FeatureDeprecationWarning} {category: DEPRECATION} {title: This feature is deprecated and will be removed in future versions.} {description: The query used a deprecated function: `id`.} {position: line: 1, column: 150, offset: 149} for query: 'MATCH (t:Tool {model_number: $model}) MERGE (s:Specification {name: $spec_name}) ON CREATE SET s = $props MERGE (t)-[:HAS_SPECIFICATION]->(s) RETURN id(s) as spec_id'\n",
            "WARNING:neo4j.notifications:Received notification from DBMS server: {severity: WARNING} {code: Neo.ClientNotification.Statement.FeatureDeprecationWarning} {category: DEPRECATION} {title: This feature is deprecated and will be removed in future versions.} {description: The query used a deprecated function: `id`.} {position: line: 1, column: 150, offset: 149} for query: 'MATCH (t:Tool {model_number: $model}) MERGE (s:Specification {name: $spec_name}) ON CREATE SET s = $props MERGE (t)-[:HAS_SPECIFICATION]->(s) RETURN id(s) as spec_id'\n",
            "WARNING:neo4j.notifications:Received notification from DBMS server: {severity: WARNING} {code: Neo.ClientNotification.Statement.FeatureDeprecationWarning} {category: DEPRECATION} {title: This feature is deprecated and will be removed in future versions.} {description: The query used a deprecated function: `id`.} {position: line: 1, column: 31, offset: 30} for query: 'MATCH (s:Specification) WHERE id(s) = $spec_id MERGE (u:Unit {symbol: $symbol}) ON CREATE SET u.name = $name MERGE (s)-[:HAS_UNIT]->(u)'\n",
            "WARNING:neo4j.notifications:Received notification from DBMS server: {severity: WARNING} {code: Neo.ClientNotification.Statement.FeatureDeprecationWarning} {category: DEPRECATION} {title: This feature is deprecated and will be removed in future versions.} {description: The query used a deprecated function: `id`.} {position: line: 1, column: 150, offset: 149} for query: 'MATCH (t:Tool {model_number: $model}) MERGE (s:Specification {name: $spec_name}) ON CREATE SET s = $props MERGE (t)-[:HAS_SPECIFICATION]->(s) RETURN id(s) as spec_id'\n",
            "WARNING:neo4j.notifications:Received notification from DBMS server: {severity: WARNING} {code: Neo.ClientNotification.Statement.FeatureDeprecationWarning} {category: DEPRECATION} {title: This feature is deprecated and will be removed in future versions.} {description: The query used a deprecated function: `id`.} {position: line: 1, column: 31, offset: 30} for query: 'MATCH (s:Specification) WHERE id(s) = $spec_id MERGE (u:Unit {symbol: $symbol}) ON CREATE SET u.name = $name MERGE (s)-[:HAS_UNIT]->(u)'\n",
            "WARNING:neo4j.notifications:Received notification from DBMS server: {severity: WARNING} {code: Neo.ClientNotification.Statement.FeatureDeprecationWarning} {category: DEPRECATION} {title: This feature is deprecated and will be removed in future versions.} {description: The query used a deprecated function: `id`.} {position: line: 1, column: 150, offset: 149} for query: 'MATCH (t:Tool {model_number: $model}) MERGE (s:Specification {name: $spec_name}) ON CREATE SET s = $props MERGE (t)-[:HAS_SPECIFICATION]->(s) RETURN id(s) as spec_id'\n",
            "WARNING:neo4j.notifications:Received notification from DBMS server: {severity: WARNING} {code: Neo.ClientNotification.Statement.FeatureDeprecationWarning} {category: DEPRECATION} {title: This feature is deprecated and will be removed in future versions.} {description: The query used a deprecated function: `id`.} {position: line: 1, column: 150, offset: 149} for query: 'MATCH (t:Tool {model_number: $model}) MERGE (s:Specification {name: $spec_name}) ON CREATE SET s = $props MERGE (t)-[:HAS_SPECIFICATION]->(s) RETURN id(s) as spec_id'\n",
            "WARNING:neo4j.notifications:Received notification from DBMS server: {severity: WARNING} {code: Neo.ClientNotification.Statement.FeatureDeprecationWarning} {category: DEPRECATION} {title: This feature is deprecated and will be removed in future versions.} {description: The query used a deprecated function: `id`.} {position: line: 1, column: 31, offset: 30} for query: 'MATCH (s:Specification) WHERE id(s) = $spec_id MERGE (l:RangeLimit {name: $limit_name, value: $value, unit: $unit, limit_type: $limit_type}) MERGE (s)-[:HAS_MIN_LIMIT]->(l)'\n",
            "WARNING:neo4j.notifications:Received notification from DBMS server: {severity: WARNING} {code: Neo.ClientNotification.Statement.FeatureDeprecationWarning} {category: DEPRECATION} {title: This feature is deprecated and will be removed in future versions.} {description: The query used a deprecated function: `id`.} {position: line: 1, column: 31, offset: 30} for query: 'MATCH (s:Specification) WHERE id(s) = $spec_id MERGE (l:RangeLimit {name: $limit_name, value: $value, unit: $unit, limit_type: $limit_type}) MERGE (s)-[:HAS_MAX_LIMIT]->(l)'\n",
            "WARNING:neo4j.notifications:Received notification from DBMS server: {severity: WARNING} {code: Neo.ClientNotification.Statement.FeatureDeprecationWarning} {category: DEPRECATION} {title: This feature is deprecated and will be removed in future versions.} {description: The query used a deprecated function: `id`.} {position: line: 1, column: 150, offset: 149} for query: 'MATCH (t:Tool {model_number: $model}) MERGE (s:Specification {name: $spec_name}) ON CREATE SET s = $props MERGE (t)-[:HAS_SPECIFICATION]->(s) RETURN id(s) as spec_id'\n",
            "WARNING:neo4j.notifications:Received notification from DBMS server: {severity: WARNING} {code: Neo.ClientNotification.Statement.FeatureDeprecationWarning} {category: DEPRECATION} {title: This feature is deprecated and will be removed in future versions.} {description: The query used a deprecated function: `id`.} {position: line: 1, column: 31, offset: 30} for query: 'MATCH (s:Specification) WHERE id(s) = $spec_id MERGE (u:Unit {symbol: $symbol}) ON CREATE SET u.name = $name MERGE (s)-[:HAS_UNIT]->(u)'\n",
            "WARNING:neo4j.notifications:Received notification from DBMS server: {severity: WARNING} {code: Neo.ClientNotification.Statement.FeatureDeprecationWarning} {category: DEPRECATION} {title: This feature is deprecated and will be removed in future versions.} {description: The query used a deprecated function: `id`.} {position: line: 1, column: 150, offset: 149} for query: 'MATCH (t:Tool {model_number: $model}) MERGE (s:Specification {name: $spec_name}) ON CREATE SET s = $props MERGE (t)-[:HAS_SPECIFICATION]->(s) RETURN id(s) as spec_id'\n",
            "WARNING:neo4j.notifications:Received notification from DBMS server: {severity: WARNING} {code: Neo.ClientNotification.Statement.FeatureDeprecationWarning} {category: DEPRECATION} {title: This feature is deprecated and will be removed in future versions.} {description: The query used a deprecated function: `id`.} {position: line: 1, column: 31, offset: 30} for query: 'MATCH (s:Specification) WHERE id(s) = $spec_id MERGE (u:Unit {symbol: $symbol}) ON CREATE SET u.name = $name MERGE (s)-[:HAS_UNIT]->(u)'\n",
            "WARNING:neo4j.notifications:Received notification from DBMS server: {severity: WARNING} {code: Neo.ClientNotification.Statement.FeatureDeprecationWarning} {category: DEPRECATION} {title: This feature is deprecated and will be removed in future versions.} {description: The query used a deprecated function: `id`.} {position: line: 1, column: 150, offset: 149} for query: 'MATCH (t:Tool {model_number: $model}) MERGE (s:Specification {name: $spec_name}) ON CREATE SET s = $props MERGE (t)-[:HAS_SPECIFICATION]->(s) RETURN id(s) as spec_id'\n",
            "WARNING:neo4j.notifications:Received notification from DBMS server: {severity: WARNING} {code: Neo.ClientNotification.Statement.FeatureDeprecationWarning} {category: DEPRECATION} {title: This feature is deprecated and will be removed in future versions.} {description: The query used a deprecated function: `id`.} {position: line: 1, column: 31, offset: 30} for query: 'MATCH (s:Specification) WHERE id(s) = $spec_id MERGE (u:Unit {symbol: $symbol}) ON CREATE SET u.name = $name MERGE (s)-[:HAS_UNIT]->(u)'\n",
            "WARNING:neo4j.notifications:Received notification from DBMS server: {severity: WARNING} {code: Neo.ClientNotification.Statement.FeatureDeprecationWarning} {category: DEPRECATION} {title: This feature is deprecated and will be removed in future versions.} {description: The query used a deprecated function: `id`.} {position: line: 1, column: 150, offset: 149} for query: 'MATCH (t:Tool {model_number: $model}) MERGE (s:Specification {name: $spec_name}) ON CREATE SET s = $props MERGE (t)-[:HAS_SPECIFICATION]->(s) RETURN id(s) as spec_id'\n",
            "WARNING:neo4j.notifications:Received notification from DBMS server: {severity: WARNING} {code: Neo.ClientNotification.Statement.FeatureDeprecationWarning} {category: DEPRECATION} {title: This feature is deprecated and will be removed in future versions.} {description: The query used a deprecated function: `id`.} {position: line: 1, column: 31, offset: 30} for query: 'MATCH (s:Specification) WHERE id(s) = $spec_id MERGE (u:Unit {symbol: $symbol}) ON CREATE SET u.name = $name MERGE (s)-[:HAS_UNIT]->(u)'\n",
            "WARNING:neo4j.notifications:Received notification from DBMS server: {severity: WARNING} {code: Neo.ClientNotification.Statement.FeatureDeprecationWarning} {category: DEPRECATION} {title: This feature is deprecated and will be removed in future versions.} {description: The query used a deprecated function: `id`.} {position: line: 1, column: 150, offset: 149} for query: 'MATCH (t:Tool {model_number: $model}) MERGE (s:Specification {name: $spec_name}) ON CREATE SET s = $props MERGE (t)-[:HAS_SPECIFICATION]->(s) RETURN id(s) as spec_id'\n",
            "WARNING:neo4j.notifications:Received notification from DBMS server: {severity: WARNING} {code: Neo.ClientNotification.Statement.FeatureDeprecationWarning} {category: DEPRECATION} {title: This feature is deprecated and will be removed in future versions.} {description: The query used a deprecated function: `id`.} {position: line: 1, column: 31, offset: 30} for query: 'MATCH (s:Specification) WHERE id(s) = $spec_id MERGE (u:Unit {symbol: $symbol}) ON CREATE SET u.name = $name MERGE (s)-[:HAS_UNIT]->(u)'\n",
            "WARNING:neo4j.notifications:Received notification from DBMS server: {severity: WARNING} {code: Neo.ClientNotification.Statement.FeatureDeprecationWarning} {category: DEPRECATION} {title: This feature is deprecated and will be removed in future versions.} {description: The query used a deprecated function: `id`.} {position: line: 1, column: 150, offset: 149} for query: 'MATCH (t:Tool {model_number: $model}) MERGE (s:Specification {name: $spec_name}) ON CREATE SET s = $props MERGE (t)-[:HAS_SPECIFICATION]->(s) RETURN id(s) as spec_id'\n",
            "WARNING:neo4j.notifications:Received notification from DBMS server: {severity: WARNING} {code: Neo.ClientNotification.Statement.FeatureDeprecationWarning} {category: DEPRECATION} {title: This feature is deprecated and will be removed in future versions.} {description: The query used a deprecated function: `id`.} {position: line: 1, column: 150, offset: 149} for query: 'MATCH (t:Tool {model_number: $model}) MERGE (s:Specification {name: $spec_name}) ON CREATE SET s = $props MERGE (t)-[:HAS_SPECIFICATION]->(s) RETURN id(s) as spec_id'\n",
            "WARNING:neo4j.notifications:Received notification from DBMS server: {severity: WARNING} {code: Neo.ClientNotification.Statement.FeatureDeprecationWarning} {category: DEPRECATION} {title: This feature is deprecated and will be removed in future versions.} {description: The query used a deprecated function: `id`.} {position: line: 1, column: 31, offset: 30} for query: 'MATCH (s:Specification) WHERE id(s) = $spec_id MERGE (u:Unit {symbol: $symbol}) ON CREATE SET u.name = $name MERGE (s)-[:HAS_UNIT]->(u)'\n",
            "WARNING:neo4j.notifications:Received notification from DBMS server: {severity: WARNING} {code: Neo.ClientNotification.Statement.FeatureDeprecationWarning} {category: DEPRECATION} {title: This feature is deprecated and will be removed in future versions.} {description: The query used a deprecated function: `id`.} {position: line: 1, column: 182, offset: 181} for query: 'MATCH (t:Tool {model_number: $model}) MERGE (l:Limitation {description: $description, warning_type: $warning_type}) ON CREATE SET l.id = $id MERGE (t)-[:HAS_LIMITATION]->(l) RETURN id(l) as limit_id'\n",
            "WARNING:neo4j.notifications:Received notification from DBMS server: {severity: WARNING} {code: Neo.ClientNotification.Statement.FeatureDeprecationWarning} {category: DEPRECATION} {title: This feature is deprecated and will be removed in future versions.} {description: The query used a deprecated function: `id`.} {position: line: 1, column: 28, offset: 27} for query: 'MATCH (l:Limitation) WHERE id(l) = $limit_id MERGE (r:RangeLimit {name: $name, value: $value, unit: $unit, limit_type: $limit_type}) MERGE (l)-[:HAS_MIN_LIMIT]->(r)'\n",
            "WARNING:neo4j.notifications:Received notification from DBMS server: {severity: WARNING} {code: Neo.ClientNotification.Statement.FeatureDeprecationWarning} {category: DEPRECATION} {title: This feature is deprecated and will be removed in future versions.} {description: The query used a deprecated function: `id`.} {position: line: 1, column: 28, offset: 27} for query: 'MATCH (l:Limitation) WHERE id(l) = $limit_id CREATE (r:RangeLimit $props) MERGE (l)-[:HAS_MAX_LIMIT]->(r)'\n",
            "WARNING:neo4j.notifications:Received notification from DBMS server: {severity: WARNING} {code: Neo.ClientNotification.Statement.FeatureDeprecationWarning} {category: DEPRECATION} {title: This feature is deprecated and will be removed in future versions.} {description: The query used a deprecated function: `id`.} {position: line: 1, column: 28, offset: 27} for query: 'MATCH (l:Limitation) WHERE id(l) = $limit_id MATCH (s:Specification {id: $spec_id}) MERGE (l)-[:LIMITS_SPECIFICATION]->(s)'\n",
            "WARNING:neo4j.notifications:Received notification from DBMS server: {severity: WARNING} {code: Neo.ClientNotification.Statement.FeatureDeprecationWarning} {category: DEPRECATION} {title: This feature is deprecated and will be removed in future versions.} {description: The query used a deprecated function: `id`.} {position: line: 1, column: 182, offset: 181} for query: 'MATCH (t:Tool {model_number: $model}) MERGE (l:Limitation {description: $description, warning_type: $warning_type}) ON CREATE SET l.id = $id MERGE (t)-[:HAS_LIMITATION]->(l) RETURN id(l) as limit_id'\n",
            "WARNING:neo4j.notifications:Received notification from DBMS server: {severity: WARNING} {code: Neo.ClientNotification.Statement.FeatureDeprecationWarning} {category: DEPRECATION} {title: This feature is deprecated and will be removed in future versions.} {description: The query used a deprecated function: `id`.} {position: line: 1, column: 28, offset: 27} for query: 'MATCH (l:Limitation) WHERE id(l) = $limit_id MERGE (r:RangeLimit {name: $name, value: $value, unit: $unit, limit_type: $limit_type}) MERGE (l)-[:HAS_MIN_LIMIT]->(r)'\n",
            "WARNING:neo4j.notifications:Received notification from DBMS server: {severity: WARNING} {code: Neo.ClientNotification.Statement.FeatureDeprecationWarning} {category: DEPRECATION} {title: This feature is deprecated and will be removed in future versions.} {description: The query used a deprecated function: `id`.} {position: line: 1, column: 28, offset: 27} for query: 'MATCH (l:Limitation) WHERE id(l) = $limit_id CREATE (r:RangeLimit $props) MERGE (l)-[:HAS_MAX_LIMIT]->(r)'\n",
            "WARNING:neo4j.notifications:Received notification from DBMS server: {severity: WARNING} {code: Neo.ClientNotification.Statement.FeatureDeprecationWarning} {category: DEPRECATION} {title: This feature is deprecated and will be removed in future versions.} {description: The query used a deprecated function: `id`.} {position: line: 1, column: 28, offset: 27} for query: 'MATCH (l:Limitation) WHERE id(l) = $limit_id MATCH (s:Specification {id: $spec_id}) MERGE (l)-[:LIMITS_SPECIFICATION]->(s)'\n",
            "WARNING:neo4j.notifications:Received notification from DBMS server: {severity: WARNING} {code: Neo.ClientNotification.Statement.FeatureDeprecationWarning} {category: DEPRECATION} {title: This feature is deprecated and will be removed in future versions.} {description: The query used a deprecated function: `id`.} {position: line: 1, column: 182, offset: 181} for query: 'MATCH (t:Tool {model_number: $model}) MERGE (l:Limitation {description: $description, warning_type: $warning_type}) ON CREATE SET l.id = $id MERGE (t)-[:HAS_LIMITATION]->(l) RETURN id(l) as limit_id'\n"
          ]
        },
        {
          "output_type": "stream",
          "name": "stdout",
          "text": [
            "Processed 12 tools\n",
            "\n",
            "Tool 1: GSH18V-5L\n",
            "  Category: Hammer\n",
            "  Specifications:\n",
            "    - model_number: {'value_min': 18.0, 'value_max': 5.0, 'unit': 'V', 'is_range': True}\n",
            "    - voltage: {'value': 18.0, 'unit': 'V'}\n",
            "    - shank_style: {'value': 'SDS-max', 'unit': ''}\n",
            "    - impact_rate: {'value': 3050.0, 'unit': 'BPM'}\n",
            "    - impact_energy: {'value': '6.3 ft.-lbs.', 'unit': ''}\n",
            "    - weight_per_epta: {'value': '11.7 lbs / 5.3 kg', 'unit': ''}\n",
            "    - permitted_battery_temperature_during_charging: {'value': '+32...+113°F (0...+45°C)', 'unit': ''}\n",
            "    - permitted_battery_temperature_during_operation_and_storage: {'value': '-4...+122°F (-20...+50°C)', 'unit': ''}\n",
            "    - permitted_ambient_temperature_during_charging: {'value': '+32...+95°F (0...+35°C)', 'unit': ''}\n",
            "    - battery_packs_/_chargers: {'value': 'Performance is limited at temperatures below +32°F (0°C).', 'unit': ''}\n",
            "    - chuck_design: {'value': 'Keyless', 'unit': ''}\n",
            "    - chuck_size: {'value': 'SDS-Max', 'unit': ''}\n",
            "    - decibel_rating_(db): {'value': 89.0, 'unit': ''}\n",
            "    - height_(in): {'value': 10.9, 'unit': 'in'}\n",
            "    - impact_energy/epta_(ft_lbs): {'value': '6.3 ft.-lbs.', 'unit': ''}\n",
            "    - length_(in): {'value': 18.9, 'unit': 'in'}\n",
            "    - material: {'value': 'Plastic', 'unit': ''}\n",
            "    - no_load_bpm: {'value_min': 0.0, 'value_max': 3.0, 'unit': '', 'is_range': True}\n",
            "    - reverse: {'value': 'no', 'unit': 'boolean'}\n",
            "    - variable_speed: {'value': 'yes', 'unit': 'boolean'}\n",
            "    - weight: {'value': 11.7, 'unit': 'in'}\n",
            "    - weight_(lbs): {'value': 11.7, 'unit': ''}\n",
            "    - width_(in): {'value': 4.1, 'unit': 'in'}\n",
            "  Accessories: 0\n",
            "  Included Items: 0\n",
            "  Limitations: 3\n",
            "    - operational_range: Model Number must be between 18.0 and 5.0 V.\n",
            "      Range: 18.0 - 5.0 V\n",
            "    - operational_range: No Load Bpm must be between 0.0 and 3.0 .\n",
            "      Range: 0.0 - 3.0 \n",
            "    - voltage: Maximum operating voltage: 18.0V. Using higher voltage may damage the tool.\n",
            "\n",
            "Tool 2: GSR18V-1330CN\n",
            "  Category: Drill/Drivers\n",
            "  Specifications:\n",
            "    - model_number: {'value_min': 18.0, 'value_max': 1330.0, 'unit': 'C', 'is_range': True}\n",
            "    - voltage: {'value': 18.0, 'unit': 'V'}\n",
            "    - no_load_speed_1: {'value_min': 0.0, 'value_max': 550.0, 'unit': '', 'is_range': True}\n",
            "    - no_load_speed_2: {'value_min': 0.0, 'value_max': 2200.0, 'unit': '', 'is_range': True}\n",
            "    - beats_per_minute: {'value': 'NA', 'unit': ''}\n",
            "    - permitted_battery_temperature_during_charging: {'value': '+32...+113°F (0...+45°C)', 'unit': ''}\n",
            "    - permitted_ambient_temperature_during_operation_and_storage: {'value': '-4...+122°F (-20...+50°C)', 'unit': ''}\n",
            "    - recommended_ambient_temperature_during_charging: {'value': '+32...+95°F (0...+35°C)', 'unit': ''}\n",
            "    - maximum_capacities: {'value_min': 5.0, 'value_max': 7.0, 'unit': '', 'is_range': True}\n",
            "    - masonry: {'value': 'N/A', 'unit': ''}\n",
            "    - data_transmission_(gcy42_installed): {'value': 'Bluetooth®: Bluetooth® 4.1 (Low Energy), Signal interval,', 'unit': ''}\n",
            "    - approx: {'value': '8 s, Signal range: Maximum 98 ft', 'unit': ''}\n",
            "    - battery_chemistry: {'value': 'Lithium Ion', 'unit': ''}\n",
            "    - battery_packed: {'value': 'Battery not included', 'unit': ''}\n",
            "    - battery/charger: {'value': 'Not Included', 'unit': ''}\n",
            "    - case_type: {'value': 'No Case Included', 'unit': ''}\n",
            "    - chuck_capacity: {'value': '1/2\" Keyless Chuck', 'unit': ''}\n",
            "    - chuck_design: {'value': 'Keyless', 'unit': ''}\n",
            "    - chuck_size: {'value': '1/2\"', 'unit': ''}\n",
            "    - decibel_rating_(db): {'value': 81.0, 'unit': ''}\n",
            "    - height_(in): {'value': 8.6, 'unit': 'in'}\n",
            "    - length_(in): {'value': 8.0, 'unit': 'in'}\n",
            "    - no_load_rpm: {'value_min': 0.0, 'value_max': 550.0, 'unit': '', 'is_range': True}\n",
            "    - reverse: {'value': 'yes', 'unit': 'boolean'}\n",
            "    - speed: {'value': 'Variable Two Speed', 'unit': ''}\n",
            "    - torque_(in_lbs): {'value': '1,330', 'unit': ''}\n",
            "    - variable_speed: {'value': 'yes', 'unit': 'boolean'}\n",
            "    - weight: {'value': 4.6, 'unit': 'lb'}\n",
            "    - weight_(lbs): {'value': 4.6, 'unit': ''}\n",
            "    - width_(in): {'value': 2.9, 'unit': 'in'}\n",
            "    - drilling_mild_metal: {'value': '5/8\"', 'unit': ''}\n",
            "    - drilling_wood: {'value_min': 5.0, 'value_max': 7.0, 'unit': '', 'is_range': True}\n",
            "  Accessories: 0\n",
            "  Included Items: 0\n",
            "  Limitations: 6\n",
            "    - operational_range: Model Number must be between 18.0 and 1330.0 C.\n",
            "      Range: 18.0 - 1330.0 C\n",
            "    - operational_range: No Load Speed 1 must be between 0.0 and 550.0 .\n",
            "      Range: 0.0 - 550.0 \n",
            "    - operational_range: No Load Speed 2 must be between 0.0 and 2200.0 .\n",
            "      Range: 0.0 - 2200.0 \n",
            "    - operational_range: Maximum Capacities must be between 5.0 and 7.0 .\n",
            "      Range: 5.0 - 7.0 \n",
            "    - operational_range: No Load Rpm must be between 0.0 and 550.0 .\n",
            "      Range: 0.0 - 550.0 \n",
            "    - voltage: Maximum operating voltage: 18.0V. Using higher voltage may damage the tool.\n",
            "\n",
            "Tool 3: GKF18V-25N\n",
            "  Category: Palm Router\n",
            "  Specifications:\n",
            "    - model_number: {'value_min': 18.0, 'value_max': 25.0, 'unit': 'V', 'is_range': True}\n",
            "    - voltage: {'value': 18.0, 'unit': 'V'}\n",
            "    - no_load_speed: {'value_min': 0.0, 'value_max': 30.0, 'unit': '', 'is_range': True}\n",
            "    - max_bit_size: {'value_min': 1.0, 'value_max': 1.0, 'unit': '', 'is_range': True}\n",
            "    - collet_size: {'value': '1/4 in', 'unit': ''}\n",
            "    - permitted_battery_temperature_during_charging: {'value': '+32...+113°F (0...+45°C)', 'unit': ''}\n",
            "    - permitted_ambient_battery_temperature_during_charging: {'value': '+32...+95°F (0...+35°C)', 'unit': ''}\n",
            "    - permitted_ambient_temperature_during_operation_and_storage: {'value': '* -4...+122°F (-20...+50°C)', 'unit': ''}\n",
            "    - base_diameter: {'value_min': 3.0, 'value_max': 3.0, 'unit': '', 'is_range': True}\n",
            "    - base_opening: {'value_min': 2.0, 'value_max': 13.0, 'unit': '', 'is_range': True}\n",
            "    - battery_chemistry: {'value': 'Lithium Ion', 'unit': ''}\n",
            "    - collet_capacity: {'value': '1/4\"', 'unit': ''}\n",
            "    - dust_collection: {'value': 'yes', 'unit': 'boolean'}\n",
            "    - fixed-base_depth_range: {'value_min': 1.0, 'value_max': 3.0, 'unit': '', 'is_range': True}\n",
            "    - height_(in): {'value': 6.6, 'unit': 'in'}\n",
            "    - horsepower_rating: {'value': 1.39, 'unit': ''}\n",
            "    - length_(in): {'value': 4.0, 'unit': 'in'}\n",
            "    - max_rpm: {'value': '30,000', 'unit': ''}\n",
            "    - no_load_rpm: {'value_min': 0.0, 'value_max': 30.0, 'unit': '', 'is_range': True}\n",
            "    - plunge_depth: {'value_min': 2.0, 'value_max': 1.0, 'unit': '', 'is_range': True}\n",
            "    - router_type: {'value': 'Fixed Base Routers', 'unit': ''}\n",
            "    - subbase_opening: {'value_min': 1.0, 'value_max': 11.0, 'unit': '', 'is_range': True}\n",
            "    - variable_speed: {'value': 'yes', 'unit': 'boolean'}\n",
            "    - weight: {'value': 2.4, 'unit': 'lb'}\n",
            "    - width_(in): {'value': 3.7, 'unit': 'in'}\n",
            "  Accessories: 0\n",
            "  Included Items: 0\n",
            "  Limitations: 10\n",
            "    - operational_range: Model Number must be between 18.0 and 25.0 V.\n",
            "      Range: 18.0 - 25.0 V\n",
            "    - operational_range: No Load Speed must be between 0.0 and 30.0 .\n",
            "      Range: 0.0 - 30.0 \n",
            "    - operational_range: Max Bit Size must be between 1.0 and 1.0 .\n",
            "      Range: 1.0 - 1.0 \n",
            "    - operational_range: Base Diameter must be between 3.0 and 3.0 .\n",
            "      Range: 3.0 - 3.0 \n",
            "    - operational_range: Base Opening must be between 2.0 and 13.0 .\n",
            "      Range: 2.0 - 13.0 \n",
            "    - operational_range: Fixed-Base Depth Range must be between 1.0 and 3.0 .\n",
            "      Range: 1.0 - 3.0 \n",
            "    - operational_range: No Load Rpm must be between 0.0 and 30.0 .\n",
            "      Range: 0.0 - 30.0 \n",
            "    - operational_range: Plunge Depth must be between 2.0 and 1.0 .\n",
            "      Range: 2.0 - 1.0 \n",
            "    - operational_range: Subbase Opening must be between 1.0 and 11.0 .\n",
            "      Range: 1.0 - 11.0 \n",
            "    - voltage: Maximum operating voltage: 18.0V. Using higher voltage may damage the tool.\n",
            "\n",
            "Tool 4: GWX18V-10PN\n",
            "  Category: X-LOCK Angle Grinder\n",
            "  Specifications:\n",
            "    - model_number: {'value_min': 18.0, 'value_max': 10.0, 'unit': 'P', 'is_range': True}\n",
            "    - voltage: {'value': 18.0, 'unit': 'V'}\n",
            "    - rated_speed_(rpm): {'value': 'n₀ 9,000/min', 'unit': ''}\n",
            "    - switch_type: {'value': 'Paddle', 'unit': ''}\n",
            "    - run-down_brake: {'value': 'Included', 'unit': ''}\n",
            "    - maximum_capacities: {'value': 'Max. grinding wheel Ø: 5\" (125 mm), Grinding wheel thickness: 1/4\" (6', 'unit': ''}\n",
            "    - mm),_max_cutting_wheel_ø: {'value': '5\" (125 mm), Max. sanding disc Ø: 5\" (125 mm), Max. flap disc', 'unit': ''}\n",
            "    - ø: {'value': '5\" (125 mm), Max. wire wheel Ø: 5\" (125 mm), Max. wire wheel face width (thickness): 1/2\"', 'unit': ''}\n",
            "    - (127_mm),_max_wire_cup_ø: {'value': '3\" (76 mm)', 'unit': ''}\n",
            "    - allowed_ambient_temperature: {'value': 'During charging: +32 °F...+95 °F (0 °C...+35 °C), During', 'unit': ''}\n",
            "    - operation: {'value': '-4 °F...+122 °F (-20 °C...+50 °C), During storage: -4 °F...+122 °F (-20 °C...+50 °C)', 'unit': ''}\n",
            "    - adjustable_handle_position: {'value': 'yes', 'unit': 'boolean'}\n",
            "    - battery_chemistry: {'value': 'Lithium Ion', 'unit': ''}\n",
            "    - case_type: {'value': 'No Case Included', 'unit': ''}\n",
            "    - height_(in): {'value': 4.3, 'unit': 'in'}\n",
            "    - length_(in): {'value': 12.5, 'unit': 'in'}\n",
            "    - overload_protection: {'value': 'no', 'unit': 'boolean'}\n",
            "    - spindle_thread: {'value': 'N/A', 'unit': ''}\n",
            "    - variable_speed: {'value': 'no', 'unit': 'boolean'}\n",
            "    - weight: {'value': 4.3, 'unit': 'lb'}\n",
            "    - weight_(lbs): {'value': 4.3, 'unit': ''}\n",
            "    - wheel_diameter_(in): {'value_min': 4.0, 'value_max': 1.0, 'unit': '', 'is_range': True}\n",
            "    - width_(in): {'value': 5.0, 'unit': 'in'}\n",
            "    - max._grinding_wheel_ø: {'value': '5\" (125 mm)', 'unit': ''}\n",
            "    - grinding_wheel_thickness: {'value': '1/4\" (6', 'unit': ''}\n",
            "  Accessories: 0\n",
            "  Included Items: 0\n",
            "  Limitations: 3\n",
            "    - operational_range: Model Number must be between 18.0 and 10.0 P.\n",
            "      Range: 18.0 - 10.0 P\n",
            "    - operational_range: Wheel Diameter (In) must be between 4.0 and 1.0 .\n",
            "      Range: 4.0 - 1.0 \n",
            "    - voltage: Maximum operating voltage: 18.0V. Using higher voltage may damage the tool.\n",
            "\n",
            "Tool 5: GCU18V-30N\n",
            "  Category: Drywall Tool\n",
            "  Specifications:\n",
            "    - model_number: {'value_min': 18.0, 'value_max': 30.0, 'unit': 'V', 'is_range': True}\n",
            "    - voltage: {'value': 'Lithium-Ion Battery', 'unit': ''}\n",
            "    - no_load_speed: {'value': 'n₀ 30,000/min', 'unit': ''}\n",
            "    - permitted_battery_temperature_during_charging: {'value': '+32...+113°F (0...+45°C)', 'unit': ''}\n",
            "    - permitted_ambient_temperature_during_operation_and_storage: {'value': '-4...+122°F (-20...+50°C)', 'unit': ''}\n",
            "    - recommended_ambient_temperature_during_charging: {'value': '+32...+95°F (0...+35°C)', 'unit': ''}\n",
            "    - battery_chemistry: {'value': 'Lithium Ion', 'unit': ''}\n",
            "    - chuck_design: {'value': 'Keyless', 'unit': ''}\n",
            "    - height_(in): {'value': 3.9, 'unit': 'in'}\n",
            "    - ip_rating: {'value': 'IP 5X', 'unit': ''}\n",
            "    - length_(in): {'value': 10.2, 'unit': 'in'}\n",
            "    - material: {'value': 'Composite', 'unit': ''}\n",
            "    - reverse: {'value': 'no', 'unit': 'boolean'}\n",
            "    - speed: {'value': '30,000 RPM', 'unit': ''}\n",
            "    - variable_speed: {'value': 'no', 'unit': 'boolean'}\n",
            "    - weight: {'value': 2.1, 'unit': 'lb'}\n",
            "    - width_(in): {'value': 3.2, 'unit': 'in'}\n",
            "  Accessories: 0\n",
            "  Included Items: 0\n",
            "  Limitations: 1\n",
            "    - operational_range: Model Number must be between 18.0 and 30.0 V.\n",
            "      Range: 18.0 - 30.0 V\n",
            "\n",
            "Tool 6: GNH18V-15MAN\n",
            "  Category: Finish Nailer\n",
            "  Specifications:\n",
            "    - model_number: {'value_min': 18.0, 'value_max': 15.0, 'unit': 'MA', 'is_range': True}\n",
            "    - voltage: {'value': 18.0, 'unit': 'V'}\n",
            "    - motor_type: {'value': 'DC Brushless', 'unit': ''}\n",
            "    - cycle_rate: {'value': '2 Shots/Second*', 'unit': ''}\n",
            "    - collation_angle: {'value': 34.0, 'unit': '°'}\n",
            "    - fastener_length_range: {'value_min': 1.0, 'value_max': 1.0, 'unit': '', 'is_range': True}\n",
            "    - fastener_shank_diameter: {'value': '15 Gauge (1.8 mm)', 'unit': ''}\n",
            "    - magazine_capacity: {'value': 105.0, 'unit': 'Fasteners'}\n",
            "    - permitted_battery_temperature_during_charging: {'value': '+32...+113°F (0...+45°C)', 'unit': ''}\n",
            "    - permitted_ambient_battery_temperature_during_charging: {'value': '+32...+95°F (0...+35°C)', 'unit': ''}\n",
            "    - permitted_ambient_temperature_during_operation**_and_storage: {'value': '-4...+122°F (-20...+50°C)', 'unit': ''}\n",
            "    - height_(in): {'value': 12.7, 'unit': 'in'}\n",
            "    - length_(in): {'value': 14.9, 'unit': 'in'}\n",
            "    - weight: {'value': 6.8, 'unit': 'lb'}\n",
            "    - width_(in): {'value': 3.7, 'unit': 'in'}\n",
            "  Accessories: 0\n",
            "  Included Items: 0\n",
            "  Limitations: 4\n",
            "    - operational_range: Model Number must be between 18.0 and 15.0 MA.\n",
            "      Range: 18.0 - 15.0 MA\n",
            "    - operational_range: Fastener Length Range must be between 1.0 and 1.0 .\n",
            "      Range: 1.0 - 1.0 \n",
            "    - voltage: Maximum operating voltage: 18.0V. Using higher voltage may damage the tool.\n",
            "    - compatibility: Only compatible with specified nail types and sizes. Using incorrect nails may damage the tool or workpiece.\n",
            "\n",
            "Tool 7: GHO12V-08N\n",
            "  Category: Planer\n",
            "  Specifications:\n",
            "    - model_number: {'value_min': 12.0, 'value_max': 8.0, 'unit': 'V', 'is_range': True}\n",
            "    - voltage: {'value': 'Lithium-Ion Battery', 'unit': ''}\n",
            "    - no_load_speed_(n₀): {'value': '14,500/min', 'unit': ''}\n",
            "    - maximum_capacities: {'value_min': 0.0, 'value_max': 0.04, 'unit': 'in', 'is_range': True}\n",
            "    - (10_-_20_mm),_rabbeting_depth: {'value_min': 0.0, 'value_max': 0.67, 'unit': 'in', 'is_range': True}\n",
            "    - allowed_ambient_temperature: {'value': 'during charging: 32...113 °F (0...+45 °C), during operation: -', 'unit': ''}\n",
            "    - 4122_°f_(-20+50_°c),_during_storage: {'value': '32...122 °F (0...+50 °C)', 'unit': ''}\n",
            "    - battery_chemistry: {'value': 'Lithium Ion', 'unit': ''}\n",
            "    - height: {'value': 4.33, 'unit': 'in'}\n",
            "    - length: {'value': 10.04, 'unit': 'in'}\n",
            "    - no_load_rpm: {'value': '14,500', 'unit': ''}\n",
            "    - planing_depth: {'value_min': 0.0, 'value_max': 0.04, 'unit': 'in', 'is_range': True}\n",
            "    - planing_width: {'value_min': 0.0, 'value_max': 2.2, 'unit': 'in', 'is_range': True}\n",
            "    - variable_speed: {'value': 'no', 'unit': 'boolean'}\n",
            "    - weight: {'value': 3.3, 'unit': 'lb'}\n",
            "    - width: {'value': 3.94, 'unit': 'in'}\n",
            "    - max._planing_depth: {'value_min': 0.04, 'value_max': 0.08, 'unit': 'in', 'is_range': True}\n",
            "  Accessories: 0\n",
            "  Included Items: 0\n",
            "  Limitations: 7\n",
            "    - operational_range: Model Number must be between 12.0 and 8.0 V.\n",
            "      Range: 12.0 - 8.0 V\n",
            "    - operational_range: Maximum Capacities must be between 0.0 and 0.04 in.\n",
            "      Range: 0.0 - 0.04 in\n",
            "    - operational_range: (10 - 20 Mm), Rabbeting Depth must be between 0.0 and 0.67 in.\n",
            "      Range: 0.0 - 0.67 in\n",
            "    - operational_range: Planing Depth must be between 0.0 and 0.08 in.\n",
            "      Range: 0.0 - 0.08 in\n",
            "    - operational_range: Planing Width must be between 0.0 and 2.2 in.\n",
            "      Range: 0.0 - 2.2 in\n",
            "    - material: Planing depth limited to 0.0in-0.04in. Attempting deeper cuts may damage the tool.\n",
            "      Range: 0.0 - 0.04 in\n",
            "    - material: Planing width limited to 0.0in-2.2in. Cannot plane wider materials.\n",
            "      Range: 0.0 - 2.2 in\n",
            "\n",
            "Tool 8: GHO18V-26N\n",
            "  Category: Planer\n",
            "  Specifications:\n",
            "    - model_number: {'value_min': 18.0, 'value_max': 26.0, 'unit': 'V', 'is_range': True}\n",
            "    - voltage: {'value': 'Lithium-Ion Battery', 'unit': ''}\n",
            "    - no_load_speed_(n₀): {'value': '13,600 rpm', 'unit': ''}\n",
            "    - maximum_capacities: {'value_min': 0.0, 'value_max': 3.0, 'unit': '', 'is_range': True}\n",
            "    - mm),_cutting_width: {'value_min': 3.0, 'value_max': 1.0, 'unit': '', 'is_range': True}\n",
            "    - permitted_battery_temperature_during_charging: {'value': '+32...+113°F (0...+45°C)', 'unit': ''}\n",
            "    - permitted_ambient_temperature_during_operation_and_storage: {'value': '−4...+122°F (−20...+50°C)', 'unit': ''}\n",
            "    - recommended_ambient_temperature_during_charging: {'value': '+32...+95°F (0...+35°C)', 'unit': ''}\n",
            "    - height: {'value': 7.3, 'unit': 'in'}\n",
            "    - length: {'value': 11.4, 'unit': 'in'}\n",
            "    - no_load_rpm: {'value': '13,600', 'unit': ''}\n",
            "    - planing_depth: {'value_min': 0.0, 'value_max': 3.0, 'unit': '', 'is_range': True}\n",
            "    - planing_width: {'value_min': 0.0, 'value_max': 3.25, 'unit': 'in', 'is_range': True}\n",
            "    - variable_speed: {'value': 'yes', 'unit': 'boolean'}\n",
            "    - weight: {'value': 5.4, 'unit': 'lb'}\n",
            "    - weight_(lbs): {'value': 5.4, 'unit': ''}\n",
            "    - width: {'value': 6.0, 'unit': 'in'}\n",
            "    - rabbeting_depth: {'value_min': 0.0, 'value_max': 11.0, 'unit': '', 'is_range': True}\n",
            "  Accessories: 0\n",
            "  Included Items: 0\n",
            "  Limitations: 7\n",
            "    - operational_range: Model Number must be between 18.0 and 26.0 V.\n",
            "      Range: 18.0 - 26.0 V\n",
            "    - operational_range: Maximum Capacities must be between 0.0 and 3.0 .\n",
            "      Range: 0.0 - 3.0 \n",
            "    - operational_range: Mm), Cutting Width must be between 3.0 and 1.0 .\n",
            "      Range: 3.0 - 1.0 \n",
            "    - operational_range: Planing Depth must be between 0.0 and 0.102 in.\n",
            "      Range: 0.0 - 0.102 in\n",
            "    - operational_range: Planing Width must be between 0.0 and 3.25 in.\n",
            "      Range: 0.0 - 3.25 in\n",
            "    - material: Planing depth limited to 0.0-3.0. Attempting deeper cuts may damage the tool.\n",
            "      Range: 0.0 - 3.0 \n",
            "    - material: Planing width limited to 0.0in-3.25in. Cannot plane wider materials.\n",
            "      Range: 0.0 - 3.25 in\n",
            "\n",
            "Tool 9: GTH18V-18MN\n",
            "  Category: Stapler\n",
            "  Specifications:\n",
            "    - model_number: {'value_min': 18.0, 'value_max': 18.0, 'unit': 'M', 'is_range': True}\n",
            "    - voltage: {'value': 18.0, 'unit': 'V'}\n",
            "    - motor_type: {'value': 'DC Brushless', 'unit': ''}\n",
            "    - collation_angle: {'value': 0.0, 'unit': '°'}\n",
            "    - fastener_crown_width: {'value': '1/4\" (6.35 mm)', 'unit': ''}\n",
            "    - fastener_length_range: {'value_min': 8.0, 'value_max': 1.0, 'unit': 'in', 'is_range': True}\n",
            "    - fastener_leg_diameter: {'value': '18 Gauge (1.2 mm)', 'unit': ''}\n",
            "    - magazine_capacity: {'value': 105.0, 'unit': 'Fasteners'}\n",
            "    - permitted_battery_temperature_during_charging: {'value': '+32...+113°F (0...+45°C)', 'unit': ''}\n",
            "    - permitted_ambient_battery_temperature_during_charging: {'value': '+32...+95°F (0...+35°C)', 'unit': ''}\n",
            "    - permitted_ambient_temperature_during_operation**_and_storage: {'value': '-4...+122°F (-20...+50°C)', 'unit': ''}\n",
            "    - height: {'value': 10.9, 'unit': 'in'}\n",
            "    - length: {'value': 13.0, 'unit': 'in'}\n",
            "    - weight: {'value': 6.8, 'unit': 'lb'}\n",
            "    - width: {'value': 3.8, 'unit': 'in'}\n",
            "  Accessories: 0\n",
            "  Included Items: 0\n",
            "  Limitations: 3\n",
            "    - operational_range: Model Number must be between 18.0 and 18.0 M.\n",
            "      Range: 18.0 - 18.0 M\n",
            "    - operational_range: Fastener Length Range must be between 8.0 and 1.0 in.\n",
            "      Range: 8.0 - 1.0 in\n",
            "    - voltage: Maximum operating voltage: 18.0V. Using higher voltage may damage the tool.\n",
            "\n",
            "Tool 10: GSR18V-755CB25\n",
            "  Category: Drill/Drivers\n",
            "  Specifications:\n",
            "    - model_number: {'value_min': 18.0, 'value_max': 975.0, 'unit': 'C', 'is_range': True}\n",
            "    - voltage: {'value': 18.0, 'unit': 'V'}\n",
            "    - no_load_speed_1: {'value_min': 0.0, 'value_max': 480.0, 'unit': '', 'is_range': True}\n",
            "    - no_load_speed_2: {'value_min': 0.0, 'value_max': 2100.0, 'unit': '', 'is_range': True}\n",
            "    - beats_per_minute: {'value': 'NA', 'unit': ''}\n",
            "    - maximum_capacities: {'value_min': 3.0, 'value_max': 1.0, 'unit': '', 'is_range': True}\n",
            "    - masonry: {'value': 'NA', 'unit': ''}\n",
            "    - permitted_battery_temperature_during_charging: {'value': '+32...+113°F (0...+45°C)', 'unit': ''}\n",
            "    - permitted_ambient_temperature_during_operation_and_storage: {'value': '-4...+122°F (-20...+50°C)', 'unit': ''}\n",
            "    - recommended_ambient_temperature_during_charging: {'value': '+32...+95°F (0...+35°C)', 'unit': ''}\n",
            "    - data_transmission_(gcy42_installed): {'value': 'Bluetooth: Bluetooth® 4.1 (Low Energy), Signal interval,', 'unit': ''}\n",
            "    - approx: {'value': '8 s, Signal range: maximum 98 ft', 'unit': ''}\n",
            "    - a: {'value': 'The mobile terminal devices must be compatible with Bluetooth® Low Energy devices', 'unit': ''}\n",
            "    - b: {'value': 'The signal range may vary greatly depending on external conditions. The Bluetooth® range', 'unit': ''}\n",
            "    - battery_chemistry: {'value': 'Lithium Ion', 'unit': ''}\n",
            "    - battery/charger: {'value': 'Included', 'unit': ''}\n",
            "    - case_type: {'value': 'Bag', 'unit': ''}\n",
            "    - chuck_capacity: {'value': '1/2\" Keyless Chuck', 'unit': ''}\n",
            "    - chuck_design: {'value': 'Keyless', 'unit': ''}\n",
            "    - chuck_size: {'value': '1/2\"', 'unit': ''}\n",
            "    - height: {'value': 8.4, 'unit': 'in'}\n",
            "    - length: {'value': 7.6, 'unit': 'in'}\n",
            "    - no_load_rpm: {'value_min': 0.0, 'value_max': 2.0, 'unit': '', 'is_range': True}\n",
            "    - reverse: {'value': 'yes', 'unit': 'boolean'}\n",
            "    - torque_(in_lbs): {'value': 755.0, 'unit': ''}\n",
            "    - variable_speed: {'value': 'yes', 'unit': 'boolean'}\n",
            "    - weight_(lbs): {'value': 3.4, 'unit': ''}\n",
            "    - width: {'value': 3.0, 'unit': 'in'}\n",
            "    - drilling_mild_metal: {'value': '1/2\"', 'unit': ''}\n",
            "    - drilling_wood: {'value_min': 3.0, 'value_max': 1.0, 'unit': '', 'is_range': True}\n",
            "  Accessories: 0\n",
            "  Included Items: 0\n",
            "  Limitations: 6\n",
            "    - operational_range: Model Number must be between 18.0 and 975.0 C.\n",
            "      Range: 18.0 - 975.0 C\n",
            "    - operational_range: No Load Speed 1 must be between 0.0 and 480.0 .\n",
            "      Range: 0.0 - 480.0 \n",
            "    - operational_range: No Load Speed 2 must be between 0.0 and 2100.0 .\n",
            "      Range: 0.0 - 2100.0 \n",
            "    - operational_range: Maximum Capacities must be between 3.0 and 1.0 .\n",
            "      Range: 3.0 - 1.0 \n",
            "    - operational_range: No Load Rpm must be between 0.0 and 2.0 .\n",
            "      Range: 0.0 - 2.0 \n",
            "    - voltage: Maximum operating voltage: 18.0V. Using higher voltage may damage the tool.\n",
            "\n",
            "Tool 11: GNH18V-16MAN\n",
            "  Category: Finish Nailer\n",
            "  Specifications:\n",
            "    - model_number: {'value_min': 18.0, 'value_max': 16.0, 'unit': 'MA', 'is_range': True}\n",
            "    - voltage: {'value': 18.0, 'unit': 'V'}\n",
            "    - motor_type: {'value': 'DC Brushless', 'unit': ''}\n",
            "    - cycle_rate: {'value': 'Shots/Second*', 'unit': ''}\n",
            "    - collation_angle: {'value': 20.0, 'unit': '°'}\n",
            "    - fastener_length_range: {'value_min': 1.0, 'value_max': 1.0, 'unit': '', 'is_range': True}\n",
            "    - fastener_shank_diameter: {'value': '16 Gauge (1.6 mm)', 'unit': ''}\n",
            "    - magazine_capacity: {'value': 105.0, 'unit': 'Fasteners'}\n",
            "    - permitted_battery_temperature_during_charging: {'value': '+32...+113°F (0...+45°C)', 'unit': ''}\n",
            "    - permitted_ambient_battery_temperature_during_charging: {'value': '+32...+95°F (0...+35°C)', 'unit': ''}\n",
            "    - permitted_ambient_temperature_during_operation**_and_storage: {'value': '-4...+122°F (-20...+50°C)', 'unit': ''}\n",
            "    - height: {'value': 11.1, 'unit': 'in'}\n",
            "    - length: {'value': 13.3, 'unit': 'in'}\n",
            "    - weight: {'value': 6.6, 'unit': 'lb'}\n",
            "    - width: {'value': 3.8, 'unit': 'in'}\n",
            "  Accessories: 0\n",
            "  Included Items: 0\n",
            "  Limitations: 4\n",
            "    - operational_range: Model Number must be between 18.0 and 16.0 MA.\n",
            "      Range: 18.0 - 16.0 MA\n",
            "    - operational_range: Fastener Length Range must be between 1.0 and 1.0 .\n",
            "      Range: 1.0 - 1.0 \n",
            "    - voltage: Maximum operating voltage: 18.0V. Using higher voltage may damage the tool.\n",
            "    - compatibility: Only compatible with specified nail types and sizes. Using incorrect nails may damage the tool or workpiece.\n",
            "\n",
            "Tool 12: GBL18V-450N\n",
            "  Category: Blower\n",
            "  Specifications:\n",
            "    - model_number: {'value_min': 18.0, 'value_max': 450.0, 'unit': 'V', 'is_range': True}\n",
            "    - voltage: {'value': 18.0, 'unit': 'V'}\n",
            "    - air_volume_(maximum): {'value': '459 CFM (780 m³/h)', 'unit': ''}\n",
            "    - air_volume_(minimum): {'value': '160 CFM (272 m³/h)', 'unit': ''}\n",
            "    - air_speed_(maximum): {'value': '123 MPH (198 km/h)', 'unit': ''}\n",
            "    - air_speed_(minimum): {'value': '50 MPH (80 km/h)', 'unit': ''}\n",
            "    - sound_pressure_level: {'value': 64.0, 'unit': 'dB'}\n",
            "    - overall_length_(with_nozzle_tube): {'value': '33.6 in (85.3 cm)', 'unit': ''}\n",
            "    - weight_(without_battery_pack): {'value': '6.6 lb (2.9 kg)', 'unit': ''}\n",
            "    - permitted_battery_temperature_during_charging: {'value': '+32...+113°F (0...+45°C)', 'unit': ''}\n",
            "    - permitted_battery_temperature_during_operation*_and_storage: {'value': '-4...+122°F (-20...+50°C)', 'unit': ''}\n",
            "    - permitted_ambient_temperature_during_charging: {'value': '+32...+95°F (0...+35°C)', 'unit': ''}\n",
            "    - air_velocity_(mph): {'value': 123.0, 'unit': ''}\n",
            "    - air_volume_(cfm): {'value': 459.0, 'unit': ''}\n",
            "    - battery_capacity_warning_lamp: {'value': 'no', 'unit': 'boolean'}\n",
            "    - battery_chemistry: {'value': 'Lithium Ion', 'unit': ''}\n",
            "    - decibel_rating_(db): {'value': 64.0, 'unit': ''}\n",
            "    - height: {'value': 11.9, 'unit': 'in'}\n",
            "    - length: {'value': 33.6, 'unit': 'in'}\n",
            "    - motor_speed: {'value': 'Variable', 'unit': ''}\n",
            "    - no_load_rpm: {'value_min': 0.0, 'value_max': 20.0, 'unit': '', 'is_range': True}\n",
            "    - overheat_protection: {'value': 'yes', 'unit': 'boolean'}\n",
            "    - overload_protection: {'value': 'yes', 'unit': 'boolean'}\n",
            "    - vacuum_capable: {'value': 'no', 'unit': 'boolean'}\n",
            "    - variable_speed: {'value': 'yes', 'unit': 'boolean'}\n",
            "    - weight: {'value': 6.6, 'unit': 'lb'}\n",
            "    - weight_(lbs): {'value': 6.6, 'unit': ''}\n",
            "    - width: {'value': 7.7, 'unit': 'in'}\n",
            "  Accessories: 0\n",
            "  Included Items: 0\n",
            "  Limitations: 3\n",
            "    - operational_range: Model Number must be between 18.0 and 450.0 V.\n",
            "      Range: 18.0 - 450.0 V\n",
            "    - operational_range: No Load Rpm must be between 0.0 and 20.0 .\n",
            "      Range: 0.0 - 20.0 \n",
            "    - voltage: Maximum operating voltage: 18.0V. Using higher voltage may damage the tool.\n"
          ]
        }
      ]
    },
    {
      "cell_type": "markdown",
      "source": [
        "Code to analyse dataset and check error flagging"
      ],
      "metadata": {
        "id": "otCFFSB4CiS7"
      }
    },
    {
      "cell_type": "code",
      "source": [
        "import pandas as pd\n",
        "import re\n",
        "from typing import List, Dict, Any, Tuple\n",
        "from neo4j import GraphDatabase\n",
        "from langchain_community.graphs import Neo4jGraph\n",
        "import os\n",
        "from dotenv import load_dotenv\n",
        "import openai  # Import the openai module\n",
        "from sklearn.metrics import accuracy_score, precision_score, recall_score, f1_score, confusion_matrix\n",
        "import numpy as np\n",
        "import matplotlib.pyplot as plt\n",
        "import seaborn as sns\n",
        "\n",
        "class ReviewErrorDetector:\n",
        "    \"\"\"Class to detect semantic and contextual errors in product reviews using Neo4j KG and LLM.\"\"\"\n",
        "\n",
        "    def __init__(self, neo4j_uri: str, neo4j_username: str, neo4j_password: str, openai_api_key: str):\n",
        "        \"\"\"Initialize with Neo4j and OpenAI connection parameters.\"\"\"\n",
        "        self.uri = neo4j_uri\n",
        "        self.auth = (neo4j_username, neo4j_password)\n",
        "        self.graph = Neo4jGraph(url=neo4j_uri, username=neo4j_username, password=neo4j_password)\n",
        "\n",
        "        # --- Azure OpenAI Setup ---\n",
        "        # Get API keys and connection info from environment variables or defaults\n",
        "        self.client = openai.AzureOpenAI(\n",
        "            api_key=os.environ.get(\"AZURE_OPENAI_API_KEY\"),  # Use os.environ.get() for safer key retrieval\n",
        "            api_version=os.environ.get(\"AZURE_OPENAI_API_VERSION\"),\n",
        "            azure_deployment=os.environ.get(\"AZURE_OPENAI_DEPLOYMENT\"),\n",
        "            azure_endpoint=os.environ.get(\"AZURE_OPENAI_ENDPOINT\")\n",
        "        )\n",
        "\n",
        "    def retrieve_product_info(self, product_id: str) -> Dict[str, Any]:\n",
        "        \"\"\"Retrieve product information from Neo4j knowledge graph.\"\"\"\n",
        "        # Query to get complete product information\n",
        "        query = \"\"\"\n",
        "        MATCH (t:Tool {model_number: $product_id})\n",
        "        OPTIONAL MATCH (t)-[:BELONGS_TO]->(c:Category)\n",
        "        OPTIONAL MATCH (t)-[:HAS_SPECIFICATION]->(s:Specification)\n",
        "        OPTIONAL MATCH (s)-[:HAS_UNIT]->(u:Unit)\n",
        "        OPTIONAL MATCH (t)-[:COMPATIBLE_WITH]->(a:Accessory)\n",
        "        OPTIONAL MATCH (t)-[:INCLUDES]->(i:IncludedItem)\n",
        "        OPTIONAL MATCH (t)-[:HAS_LIMITATION]->(l:Limitation)\n",
        "        RETURN t, c, collect(DISTINCT {spec: s, unit: u}) as specs,\n",
        "               collect(DISTINCT a) as accessories,\n",
        "               collect(DISTINCT i) as included_items,\n",
        "               collect(DISTINCT l) as limitations\n",
        "        \"\"\"\n",
        "\n",
        "        result = self.graph.query(query, {\"product_id\": product_id})\n",
        "\n",
        "        if not result:\n",
        "            return {\"error\": f\"Product {product_id} not found in knowledge graph\"}\n",
        "\n",
        "        # Process and structure the product data\n",
        "        product_data = {\n",
        "            \"model_number\": result[0][\"t\"][\"model_number\"],\n",
        "            \"name\": result[0][\"t\"][\"name\"],\n",
        "            \"category\": result[0][\"c\"][\"name\"] if result[0][\"c\"] else \"Unknown\",\n",
        "            \"specifications\": {},\n",
        "            \"accessories\": [],\n",
        "            \"included_items\": [],\n",
        "            \"limitations\": []\n",
        "        }\n",
        "\n",
        "        # Process specifications\n",
        "        for spec_info in result[0][\"specs\"]:\n",
        "            if not spec_info[\"spec\"]:\n",
        "                continue\n",
        "\n",
        "            spec = spec_info[\"spec\"]\n",
        "            unit = spec_info[\"unit\"]\n",
        "\n",
        "            spec_name = spec[\"name\"] if \"name\" in spec else \"\"\n",
        "\n",
        "            # Handle different specification value types\n",
        "            if \"numeric_value\" in spec:\n",
        "                value = spec[\"numeric_value\"]\n",
        "            elif \"text_value\" in spec:\n",
        "                value = spec[\"text_value\"]\n",
        "            elif \"value_min\" in spec and \"value_max\" in spec:\n",
        "                value = {\n",
        "                    \"min\": spec[\"value_min\"],\n",
        "                    \"max\": spec[\"value_max\"],\n",
        "                    \"is_range\": True\n",
        "                }\n",
        "            else:\n",
        "                value = None\n",
        "\n",
        "            # Add unit information if available\n",
        "            unit_symbol = unit[\"symbol\"] if unit and \"symbol\" in unit else \"\"\n",
        "\n",
        "            product_data[\"specifications\"][spec_name] = {\n",
        "                \"value\": value,\n",
        "                \"unit\": unit_symbol\n",
        "            }\n",
        "\n",
        "        # Process accessories\n",
        "        for acc in result[0][\"accessories\"]:\n",
        "            if acc:\n",
        "                product_data[\"accessories\"].append(acc[\"name\"])\n",
        "\n",
        "        # Process included items\n",
        "        for item in result[0][\"included_items\"]:\n",
        "            if item:\n",
        "                product_data[\"included_items\"].append({\n",
        "                    \"name\": item[\"name\"],\n",
        "                    \"quantity\": item.get(\"quantity\", 1)\n",
        "                })\n",
        "\n",
        "        # Process limitations\n",
        "        for limit in result[0][\"limitations\"]:\n",
        "            if limit:\n",
        "                limitation_data = {\n",
        "                    \"description\": limit[\"description\"],\n",
        "                    \"warning_type\": limit.get(\"warning_type\", \"\")\n",
        "                }\n",
        "\n",
        "                # Add min/max values if available\n",
        "                if \"min_value\" in limit:\n",
        "                    limitation_data[\"min_value\"] = limit[\"min_value\"]\n",
        "                if \"max_value\" in limit:\n",
        "                    limitation_data[\"max_value\"] = limit[\"max_value\"]\n",
        "                if \"unit\" in limit:\n",
        "                    limitation_data[\"unit\"] = limit[\"unit\"]\n",
        "\n",
        "                product_data[\"limitations\"].append(limitation_data)\n",
        "\n",
        "        return product_data\n",
        "\n",
        "    def analyze_review(self, review: str, product_data: Dict[str, Any]) -> Tuple[str, str]:\n",
        "        \"\"\"\n",
        "        Analyze a review using LLM to detect semantic and contextual errors.\n",
        "        Returns tuple of (error_type, explanation)\n",
        "        \"\"\"\n",
        "        # Prepare context information about the product\n",
        "        product_context = f\"\"\"\n",
        "        PRODUCT INFORMATION:\n",
        "        - Model: {product_data['model_number']}\n",
        "        - Name: {product_data['name']}\n",
        "        - Category: {product_data['category']}\n",
        "\n",
        "        SPECIFICATIONS:\n",
        "        \"\"\"\n",
        "\n",
        "        # Add specifications\n",
        "        for spec_name, spec_info in product_data['specifications'].items():\n",
        "            if isinstance(spec_info['value'], dict) and spec_info['value'].get('is_range'):\n",
        "                product_context += f\"- {spec_name}: {spec_info['value']['min']} - {spec_info['value']['max']} {spec_info['unit']}\\n\"\n",
        "            else:\n",
        "                product_context += f\"- {spec_name}: {spec_info['value']} {spec_info['unit']}\\n\"\n",
        "\n",
        "        # Add accessories\n",
        "        product_context += \"\\nCOMPATIBLE ACCESSORIES:\\n\"\n",
        "        for acc in product_data['accessories']:\n",
        "            product_context += f\"- {acc}\\n\"\n",
        "\n",
        "        # Add included items\n",
        "        product_context += \"\\nINCLUDED ITEMS:\\n\"\n",
        "        for item in product_data['included_items']:\n",
        "            product_context += f\"- {item['name']} (Quantity: {item['quantity']})\\n\"\n",
        "\n",
        "        # Add limitations\n",
        "        product_context += \"\\nLIMITATIONS AND CONSTRAINTS:\\n\"\n",
        "        for limitation in product_data['limitations']:\n",
        "            product_context += f\"- {limitation['description']}\\n\"\n",
        "            if 'min_value' in limitation and 'max_value' in limitation:\n",
        "                product_context += f\"  Range: {limitation['min_value']} - {limitation['max_value']} {limitation.get('unit', '')}\\n\"\n",
        "\n",
        "        # Prepare prompt for the LLM\n",
        "        prompt = f\"\"\"\n",
        "        You are analyzing product reviews for accuracy and identifying semantic misalignment or contextual errors.\n",
        "\n",
        "        {product_context}\n",
        "\n",
        "        REVIEW TO ANALYZE: \"{review}\"\n",
        "\n",
        "        Please identify if there are any semantic misalignments or contextual errors in this review based on the product specifications and limitations.\n",
        "        Semantic errors refer to using terms incorrectly (e.g., calling a planer a hammer).\n",
        "        Contextual errors refer to mentioning features, capabilities, or limitations that don't match the product's actual specifications.\n",
        "\n",
        "        Answer in the following format:\n",
        "        ERROR_TYPE: [None/Semantic/Contextual/Both]\n",
        "        EXPLANATION: [Detailed explanation of the errors found or why no errors were detected]\n",
        "        \"\"\"\n",
        "        response = self.client.chat.completions.create(\n",
        "            messages=[\n",
        "                {\"role\": \"system\", \"content\": \"You are analyzing product reviews for accuracy and identifying semantic misalignment or contextual errors.\"},\n",
        "                {\"role\": \"user\", \"content\": prompt}\n",
        "            ],\n",
        "            model=os.environ.get(\"AZURE_OPENAI_DEPLOYMENT\", \"gpt-4o\"),  # Get model name from env or default\n",
        "            temperature=0\n",
        "        )\n",
        "\n",
        "\n",
        "        # Extract error type and explanation\n",
        "        error_type_match = re.search(r'ERROR_TYPE:\\s*(None|Semantic|Contextual|Both)', response.choices[0].message.content)\n",
        "        explanation_match = re.search(r'EXPLANATION:\\s*(.*?)(?:\\n\\n|$)', response.choices[0].message.content, re.DOTALL)\n",
        "\n",
        "        error_type = error_type_match.group(1) if error_type_match else \"Unknown\"\n",
        "        explanation = explanation_match.group(1).strip() if explanation_match else \"No explanation provided.\"\n",
        "\n",
        "        return error_type, explanation\n",
        "\n",
        "    def process_reviews(self, reviews_file: str) -> pd.DataFrame:\n",
        "        \"\"\"Process reviews from Excel file and detect errors.\"\"\"\n",
        "        # Load reviews from Excel\n",
        "        df = pd.read_excel(reviews_file)\n",
        "\n",
        "        # Map Review_Type to standard error types if it exists\n",
        "        if 'Review_Type' in df.columns:\n",
        "            # Create mapping from Review_Type to standard error categories\n",
        "            review_type_map = {\n",
        "                'Normal': 'None',\n",
        "                'Semantic Misalignment': 'Semantic',\n",
        "                'Specialized Error': 'Contextual',\n",
        "                # Add more mappings if needed\n",
        "            }\n",
        "\n",
        "            # Create Actual_Error_Type column based on the mapping\n",
        "            df['Actual_Error_Type'] = df['Review_Type'].map(review_type_map)\n",
        "            print(f\"Using 'Review_Type' column for ground truth labels. Mapped {len(df)} reviews.\")\n",
        "        else:\n",
        "            # If no Review_Type, create empty Actual_Error_Type column\n",
        "            print(\"Warning: 'Review_Type' column not found. Creating empty column for ground truth labels.\")\n",
        "            df['Actual_Error_Type'] = None\n",
        "\n",
        "        # Add columns for error flagging and explanation\n",
        "        df['Predicted_Error_Type'] = None\n",
        "        df['Explanation'] = None\n",
        "\n",
        "        # Process each review\n",
        "        for index, row in df.iterrows():\n",
        "            print(f\"Processing review {index+1}/{len(df)}...\")\n",
        "            product_id = row['Product_ID']\n",
        "            review = row['Review']\n",
        "\n",
        "            # Retrieve product information from Neo4j\n",
        "            product_data = self.retrieve_product_info(product_id)\n",
        "\n",
        "            if 'error' in product_data:\n",
        "                df.at[index, 'Predicted_Error_Type'] = 'Data Error'\n",
        "                df.at[index, 'Explanation'] = product_data['error']\n",
        "                continue\n",
        "\n",
        "            # Analyze the review using LLM\n",
        "            error_type, explanation = self.analyze_review(review, product_data)\n",
        "\n",
        "            # Update DataFrame with results\n",
        "            df.at[index, 'Predicted_Error_Type'] = error_type\n",
        "            df.at[index, 'Explanation'] = explanation\n",
        "\n",
        "        # Save results to Excel\n",
        "        output_file = reviews_file.replace('.xlsx', '_analyzed.xlsx')\n",
        "        df.to_excel(output_file, index=False)\n",
        "\n",
        "        return df\n",
        "\n",
        "    def calculate_accuracy_metrics(self, df: pd.DataFrame) -> Dict[str, Any]:\n",
        "        \"\"\"Calculate accuracy metrics based on actual vs predicted error types.\"\"\"\n",
        "        if 'Actual_Error_Type' not in df.columns or df['Actual_Error_Type'].isna().all():\n",
        "            return {\"error\": \"No ground truth labels found. Cannot calculate accuracy metrics.\"}\n",
        "\n",
        "        # Filter out rows with Data Error\n",
        "        valid_df = df[(df['Predicted_Error_Type'] != 'Data Error') & (~df['Actual_Error_Type'].isna())]\n",
        "\n",
        "        if len(valid_df) == 0:\n",
        "            return {\"error\": \"No valid predictions found. Cannot calculate accuracy metrics.\"}\n",
        "\n",
        "        # Convert error types to numeric labels for metrics calculation\n",
        "        error_type_map = {'None': 0, 'Semantic': 1, 'Contextual': 2, 'Both': 3}\n",
        "\n",
        "        # Map any values not in the standard error types to None for safety\n",
        "        valid_df['Actual_Error_Type_Mapped'] = valid_df['Actual_Error_Type'].apply(\n",
        "            lambda x: x if x in error_type_map else 'None'\n",
        "        )\n",
        "        valid_df['Predicted_Error_Type_Mapped'] = valid_df['Predicted_Error_Type'].apply(\n",
        "            lambda x: x if x in error_type_map else 'None'\n",
        "        )\n",
        "\n",
        "        y_true = valid_df['Actual_Error_Type_Mapped'].map(error_type_map)\n",
        "        y_pred = valid_df['Predicted_Error_Type_Mapped'].map(error_type_map)\n",
        "\n",
        "        # Calculate metrics\n",
        "        metrics = {\n",
        "            'accuracy': accuracy_score(y_true, y_pred),\n",
        "            'precision_macro': precision_score(y_true, y_pred, average='macro'),\n",
        "            'recall_macro': recall_score(y_true, y_pred, average='macro'),\n",
        "            'f1_macro': f1_score(y_true, y_pred, average='macro'),\n",
        "            'confusion_matrix': confusion_matrix(y_true, y_pred).tolist(),\n",
        "            'class_labels': list(error_type_map.keys())\n",
        "        }\n",
        "\n",
        "        return metrics\n",
        "\n",
        "    def visualize_results(self, df: pd.DataFrame, output_dir: str = \"./\"):\n",
        "        \"\"\"Visualize the analysis results and save the plots.\"\"\"\n",
        "        if 'Actual_Error_Type' not in df.columns or df['Actual_Error_Type'].isna().all():\n",
        "            print(\"No ground truth labels found. Cannot generate visualizations for accuracy metrics.\")\n",
        "            return\n",
        "\n",
        "        # Filter out rows with Data Error\n",
        "        valid_df = df[(df['Predicted_Error_Type'] != 'Data Error') & (~df['Actual_Error_Type'].isna())]\n",
        "\n",
        "        if len(valid_df) == 0:\n",
        "            print(\"No valid predictions found. Cannot generate visualizations.\")\n",
        "            return\n",
        "\n",
        "        # Create standardized columns for visualization\n",
        "        error_type_map = {'None': 0, 'Semantic': 1, 'Contextual': 2, 'Both': 3}\n",
        "\n",
        "        # Map any values not in the standard error types to None for safety\n",
        "        valid_df['Actual_Error_Type_Mapped'] = valid_df['Actual_Error_Type'].apply(\n",
        "            lambda x: x if x in error_type_map else 'None'\n",
        "        )\n",
        "        valid_df['Predicted_Error_Type_Mapped'] = valid_df['Predicted_Error_Type'].apply(\n",
        "            lambda x: x if x in error_type_map else 'None'\n",
        "        )\n",
        "\n",
        "        # 1. Distribution of error types (actual vs predicted)\n",
        "        plt.figure(figsize=(12, 6))\n",
        "\n",
        "        # Create a grouped bar chart\n",
        "        error_types = ['None', 'Semantic', 'Contextual', 'Both']\n",
        "        actual_counts = [len(valid_df[valid_df['Actual_Error_Type_Mapped'] == et]) for et in error_types]\n",
        "        predicted_counts = [len(valid_df[valid_df['Predicted_Error_Type_Mapped'] == et]) for et in error_types]\n",
        "\n",
        "        x = np.arange(len(error_types))\n",
        "        width = 0.35\n",
        "\n",
        "        plt.bar(x - width/2, actual_counts, width, label='Actual')\n",
        "        plt.bar(x + width/2, predicted_counts, width, label='Predicted')\n",
        "\n",
        "        plt.xlabel('Error Type')\n",
        "        plt.ylabel('Count')\n",
        "        plt.title('Distribution of Error Types: Actual vs Predicted')\n",
        "        plt.xticks(x, error_types)\n",
        "        plt.legend()\n",
        "        plt.grid(axis='y', linestyle='--', alpha=0.7)\n",
        "\n",
        "        plt.savefig(os.path.join(output_dir, 'error_type_distribution.png'), dpi=300, bbox_inches='tight')\n",
        "        plt.close()\n",
        "\n",
        "        # 2. Confusion Matrix\n",
        "        error_type_map = {'None': 0, 'Semantic': 1, 'Contextual': 2, 'Both': 3}\n",
        "\n",
        "        y_true = valid_df['Actual_Error_Type_Mapped'].map(error_type_map)\n",
        "        y_pred = valid_df['Predicted_Error_Type_Mapped'].map(error_type_map)\n",
        "\n",
        "        cm = confusion_matrix(y_true, y_pred)\n",
        "\n",
        "        plt.figure(figsize=(10, 8))\n",
        "        sns.heatmap(cm, annot=True, fmt='d', cmap='Blues',\n",
        "                    xticklabels=error_types,\n",
        "                    yticklabels=error_types)\n",
        "        plt.xlabel('Predicted')\n",
        "        plt.ylabel('Actual')\n",
        "        plt.title('Confusion Matrix')\n",
        "\n",
        "        plt.savefig(os.path.join(output_dir, 'confusion_matrix.png'), dpi=300, bbox_inches='tight')\n",
        "        plt.close()\n",
        "\n",
        "        # 3. Per-class metrics\n",
        "        unique_classes = np.unique(np.concatenate([y_true, y_pred]))\n",
        "        actual_error_types = [error_types[int(cls)] for cls in unique_classes]\n",
        "        # Calculate metrics only for classes that exist\n",
        "        precision_per_class = precision_score(y_true, y_pred, average=None, labels=unique_classes)\n",
        "        recall_per_class = recall_score(y_true, y_pred, average=None, labels=unique_classes)\n",
        "        f1_per_class = f1_score(y_true, y_pred, average=None, labels=unique_classes)\n",
        "\n",
        "        plt.figure(figsize=(12, 6))\n",
        "\n",
        "        x = np.arange(len(actual_error_types))\n",
        "        width = 0.25\n",
        "\n",
        "        plt.bar(x - width, precision_per_class, width, label='Precision')\n",
        "        plt.bar(x, recall_per_class, width, label='Recall')\n",
        "        plt.bar(x + width, f1_per_class, width, label='F1 Score')\n",
        "\n",
        "        plt.xlabel('Error Type')\n",
        "        plt.ylabel('Score')\n",
        "        plt.title('Per-Class Performance Metrics')\n",
        "        plt.xticks(x, error_types)\n",
        "        plt.legend()\n",
        "        plt.grid(axis='y', linestyle='--', alpha=0.7)\n",
        "\n",
        "        plt.savefig(os.path.join(output_dir, 'per_class_metrics.png'), dpi=300, bbox_inches='tight')\n",
        "        plt.close()\n",
        "\n",
        "        # 4. Product-wise error distribution\n",
        "        product_errors = valid_df.groupby('Product_ID')['Predicted_Error_Type_Mapped'].value_counts().unstack().fillna(0)\n",
        "\n",
        "        if not product_errors.empty:\n",
        "            plt.figure(figsize=(14, 8))\n",
        "            product_errors.plot(kind='bar', stacked=True, colormap='viridis')\n",
        "            plt.xlabel('Product ID')\n",
        "            plt.ylabel('Count')\n",
        "            plt.title('Error Type Distribution by Product')\n",
        "            plt.legend(title='Error Type')\n",
        "            plt.xticks(rotation=45)\n",
        "            plt.grid(axis='y', linestyle='--', alpha=0.7)\n",
        "\n",
        "            plt.savefig(os.path.join(output_dir, 'product_error_distribution.png'), dpi=300, bbox_inches='tight')\n",
        "            plt.close()\n",
        "\n",
        "def main():\n",
        "    # Load environment variables\n",
        "    load_dotenv()\n",
        "\n",
        "    # Create output directory for visualizations\n",
        "    output_dir = \"./results\"\n",
        "    os.makedirs(output_dir, exist_ok=True)\n",
        "\n",
        "    # Set Azure OpenAI API Details\n",
        "    os.environ[\"AZURE_OPENAI_API_KEY\"] = \"CGovkeIlaBZW0ZxDj7PxwwAKGcbmHaa9IHuIHhlpl11wWG2uiclUJQQJ99BBACYeBjFXJ3w3AAABACOGuRYX\"  # Replace with your actual key\n",
        "    os.environ[\"AZURE_OPENAI_ENDPOINT\"] = \"https://llm-data-quality.openai.azure.com/\"\n",
        "    os.environ[\"AZURE_OPENAI_DEPLOYMENT\"] = \"gpt-4o\"  # Must match Azure\n",
        "    os.environ[\"AZURE_OPENAI_API_VERSION\"] = \"2024-08-01-preview\"  # Recommended version\n",
        "\n",
        "    print(\"\\n===============================\")\n",
        "    print(\"BOSCH TOOL REVIEW ANALYZER\")\n",
        "    print(\"===============================\\n\")\n",
        "    print(\"This program analyzes Bosch tool reviews for semantic and contextual errors\")\n",
        "    print(\"using the Neo4j knowledge graph and Azure OpenAI API.\\n\")\n",
        "\n",
        "    # Get API keys and connection info from environment variables\n",
        "    neo4j_uri = os.getenv(\"NEO4J_URI\") or \"neo4j+s://8ee3c741.databases.neo4j.io\"\n",
        "    neo4j_username = os.getenv(\"NEO4J_USERNAME\") or \"neo4j\"\n",
        "    neo4j_password = os.getenv(\"NEO4J_PASSWORD\") or \"IA36BLF3uO0pH_A2A0h-3wJ1EhPIT-ye-bgae9AO-t8\"  # Replace with your actual password\n",
        "    openai_api_key = os.getenv(\"OPENAI_API_KEY\") or \"your-openai-api-key\"\n",
        "\n",
        "    # Initialize error detector\n",
        "    detector = ReviewErrorDetector(neo4j_uri, neo4j_username, neo4j_password, openai_api_key)\n",
        "\n",
        "    # Process reviews\n",
        "    reviews_file = \"/content/bosch_reviews_100_new.xlsx\"\n",
        "    result_df = detector.process_reviews(reviews_file)\n",
        "\n",
        "    print(f\"Analysis complete. Results saved to {reviews_file.replace('.xlsx', '_analyzed.xlsx')}\")\n",
        "\n",
        "    # Calculate accuracy metrics\n",
        "    metrics = detector.calculate_accuracy_metrics(result_df)\n",
        "\n",
        "    if \"error\" in metrics:\n",
        "        print(f\"Error calculating metrics: {metrics['error']}\")\n",
        "    else:\n",
        "        print(\"\\nAccuracy Metrics:\")\n",
        "        print(f\"Overall Accuracy: {metrics['accuracy']:.4f}\")\n",
        "        print(f\"Macro Precision: {metrics['precision_macro']:.4f}\")\n",
        "        print(f\"Macro Recall: {metrics['recall_macro']:.4f}\")\n",
        "        print(f\"Macro F1 Score: {metrics['f1_macro']:.4f}\")\n",
        "\n",
        "        print(\"\\nConfusion Matrix:\")\n",
        "        print(f\"Labels: {metrics['class_labels']}\")\n",
        "        for row in metrics['confusion_matrix']:\n",
        "            print(row)\n",
        "\n",
        "    # Create visualizations\n",
        "    detector.visualize_results(result_df, output_dir)\n",
        "    print(f\"Visualizations saved to {output_dir}\")\n",
        "\n",
        "    # Display summary\n",
        "    error_counts = result_df['Predicted_Error_Type'].value_counts()\n",
        "    print(\"\\nPredicted Error Type Summary:\")\n",
        "    for error_type, count in error_counts.items():\n",
        "        print(f\"- {error_type}: {count}\")\n",
        "\n",
        "    if 'Actual_Error_Type' in result_df.columns and not result_df['Actual_Error_Type'].isna().all():\n",
        "        actual_counts = result_df['Actual_Error_Type'].value_counts()\n",
        "        print(\"\\nActual Error Type Summary:\")\n",
        "        for error_type, count in actual_counts.items():\n",
        "            print(f\"- {error_type}: {count}\")\n",
        "\n",
        "if __name__ == \"__main__\":\n",
        "    main()"
      ],
      "metadata": {
        "colab": {
          "base_uri": "https://localhost:8080/",
          "height": 1000
        },
        "id": "PVAZJ6w018Pu",
        "outputId": "13b8d7a7-2825-40da-b4b0-d0913329bb1b"
      },
      "execution_count": null,
      "outputs": [
        {
          "output_type": "stream",
          "name": "stdout",
          "text": [
            "\n",
            "===============================\n",
            "BOSCH TOOL REVIEW ANALYZER\n",
            "===============================\n",
            "\n",
            "This program analyzes Bosch tool reviews for semantic and contextual errors\n",
            "using the Neo4j knowledge graph and Azure OpenAI API.\n",
            "\n",
            "Using 'Review_Type' column for ground truth labels. Mapped 100 reviews.\n",
            "Processing review 1/100...\n"
          ]
        },
        {
          "output_type": "stream",
          "name": "stderr",
          "text": [
            "WARNING:neo4j.notifications:Received notification from DBMS server: {severity: WARNING} {code: Neo.ClientNotification.Statement.AggregationSkippedNull} {category: UNRECOGNIZED} {title: The query contains an aggregation function that skips null values.} {description: null value eliminated in set function.} {position: None} for query: '\\n        MATCH (t:Tool {model_number: $product_id})\\n        OPTIONAL MATCH (t)-[:BELONGS_TO]->(c:Category)\\n        OPTIONAL MATCH (t)-[:HAS_SPECIFICATION]->(s:Specification)\\n        OPTIONAL MATCH (s)-[:HAS_UNIT]->(u:Unit)\\n        OPTIONAL MATCH (t)-[:COMPATIBLE_WITH]->(a:Accessory)\\n        OPTIONAL MATCH (t)-[:INCLUDES]->(i:IncludedItem)\\n        OPTIONAL MATCH (t)-[:HAS_LIMITATION]->(l:Limitation)\\n        RETURN t, c, collect(DISTINCT {spec: s, unit: u}) as specs,\\n               collect(DISTINCT a) as accessories,\\n               collect(DISTINCT i) as included_items,\\n               collect(DISTINCT l) as limitations\\n        '\n"
          ]
        },
        {
          "output_type": "stream",
          "name": "stdout",
          "text": [
            "Processing review 2/100...\n"
          ]
        },
        {
          "output_type": "stream",
          "name": "stderr",
          "text": [
            "WARNING:neo4j.notifications:Received notification from DBMS server: {severity: WARNING} {code: Neo.ClientNotification.Statement.AggregationSkippedNull} {category: UNRECOGNIZED} {title: The query contains an aggregation function that skips null values.} {description: null value eliminated in set function.} {position: None} for query: '\\n        MATCH (t:Tool {model_number: $product_id})\\n        OPTIONAL MATCH (t)-[:BELONGS_TO]->(c:Category)\\n        OPTIONAL MATCH (t)-[:HAS_SPECIFICATION]->(s:Specification)\\n        OPTIONAL MATCH (s)-[:HAS_UNIT]->(u:Unit)\\n        OPTIONAL MATCH (t)-[:COMPATIBLE_WITH]->(a:Accessory)\\n        OPTIONAL MATCH (t)-[:INCLUDES]->(i:IncludedItem)\\n        OPTIONAL MATCH (t)-[:HAS_LIMITATION]->(l:Limitation)\\n        RETURN t, c, collect(DISTINCT {spec: s, unit: u}) as specs,\\n               collect(DISTINCT a) as accessories,\\n               collect(DISTINCT i) as included_items,\\n               collect(DISTINCT l) as limitations\\n        '\n"
          ]
        },
        {
          "output_type": "stream",
          "name": "stdout",
          "text": [
            "Processing review 3/100...\n"
          ]
        },
        {
          "output_type": "stream",
          "name": "stderr",
          "text": [
            "WARNING:neo4j.notifications:Received notification from DBMS server: {severity: WARNING} {code: Neo.ClientNotification.Statement.AggregationSkippedNull} {category: UNRECOGNIZED} {title: The query contains an aggregation function that skips null values.} {description: null value eliminated in set function.} {position: None} for query: '\\n        MATCH (t:Tool {model_number: $product_id})\\n        OPTIONAL MATCH (t)-[:BELONGS_TO]->(c:Category)\\n        OPTIONAL MATCH (t)-[:HAS_SPECIFICATION]->(s:Specification)\\n        OPTIONAL MATCH (s)-[:HAS_UNIT]->(u:Unit)\\n        OPTIONAL MATCH (t)-[:COMPATIBLE_WITH]->(a:Accessory)\\n        OPTIONAL MATCH (t)-[:INCLUDES]->(i:IncludedItem)\\n        OPTIONAL MATCH (t)-[:HAS_LIMITATION]->(l:Limitation)\\n        RETURN t, c, collect(DISTINCT {spec: s, unit: u}) as specs,\\n               collect(DISTINCT a) as accessories,\\n               collect(DISTINCT i) as included_items,\\n               collect(DISTINCT l) as limitations\\n        '\n"
          ]
        },
        {
          "output_type": "stream",
          "name": "stdout",
          "text": [
            "Processing review 4/100...\n"
          ]
        },
        {
          "output_type": "stream",
          "name": "stderr",
          "text": [
            "WARNING:neo4j.notifications:Received notification from DBMS server: {severity: WARNING} {code: Neo.ClientNotification.Statement.AggregationSkippedNull} {category: UNRECOGNIZED} {title: The query contains an aggregation function that skips null values.} {description: null value eliminated in set function.} {position: None} for query: '\\n        MATCH (t:Tool {model_number: $product_id})\\n        OPTIONAL MATCH (t)-[:BELONGS_TO]->(c:Category)\\n        OPTIONAL MATCH (t)-[:HAS_SPECIFICATION]->(s:Specification)\\n        OPTIONAL MATCH (s)-[:HAS_UNIT]->(u:Unit)\\n        OPTIONAL MATCH (t)-[:COMPATIBLE_WITH]->(a:Accessory)\\n        OPTIONAL MATCH (t)-[:INCLUDES]->(i:IncludedItem)\\n        OPTIONAL MATCH (t)-[:HAS_LIMITATION]->(l:Limitation)\\n        RETURN t, c, collect(DISTINCT {spec: s, unit: u}) as specs,\\n               collect(DISTINCT a) as accessories,\\n               collect(DISTINCT i) as included_items,\\n               collect(DISTINCT l) as limitations\\n        '\n"
          ]
        },
        {
          "output_type": "stream",
          "name": "stdout",
          "text": [
            "Processing review 5/100...\n"
          ]
        },
        {
          "output_type": "stream",
          "name": "stderr",
          "text": [
            "WARNING:neo4j.notifications:Received notification from DBMS server: {severity: WARNING} {code: Neo.ClientNotification.Statement.AggregationSkippedNull} {category: UNRECOGNIZED} {title: The query contains an aggregation function that skips null values.} {description: null value eliminated in set function.} {position: None} for query: '\\n        MATCH (t:Tool {model_number: $product_id})\\n        OPTIONAL MATCH (t)-[:BELONGS_TO]->(c:Category)\\n        OPTIONAL MATCH (t)-[:HAS_SPECIFICATION]->(s:Specification)\\n        OPTIONAL MATCH (s)-[:HAS_UNIT]->(u:Unit)\\n        OPTIONAL MATCH (t)-[:COMPATIBLE_WITH]->(a:Accessory)\\n        OPTIONAL MATCH (t)-[:INCLUDES]->(i:IncludedItem)\\n        OPTIONAL MATCH (t)-[:HAS_LIMITATION]->(l:Limitation)\\n        RETURN t, c, collect(DISTINCT {spec: s, unit: u}) as specs,\\n               collect(DISTINCT a) as accessories,\\n               collect(DISTINCT i) as included_items,\\n               collect(DISTINCT l) as limitations\\n        '\n"
          ]
        },
        {
          "output_type": "stream",
          "name": "stdout",
          "text": [
            "Processing review 6/100...\n"
          ]
        },
        {
          "output_type": "stream",
          "name": "stderr",
          "text": [
            "WARNING:neo4j.notifications:Received notification from DBMS server: {severity: WARNING} {code: Neo.ClientNotification.Statement.AggregationSkippedNull} {category: UNRECOGNIZED} {title: The query contains an aggregation function that skips null values.} {description: null value eliminated in set function.} {position: None} for query: '\\n        MATCH (t:Tool {model_number: $product_id})\\n        OPTIONAL MATCH (t)-[:BELONGS_TO]->(c:Category)\\n        OPTIONAL MATCH (t)-[:HAS_SPECIFICATION]->(s:Specification)\\n        OPTIONAL MATCH (s)-[:HAS_UNIT]->(u:Unit)\\n        OPTIONAL MATCH (t)-[:COMPATIBLE_WITH]->(a:Accessory)\\n        OPTIONAL MATCH (t)-[:INCLUDES]->(i:IncludedItem)\\n        OPTIONAL MATCH (t)-[:HAS_LIMITATION]->(l:Limitation)\\n        RETURN t, c, collect(DISTINCT {spec: s, unit: u}) as specs,\\n               collect(DISTINCT a) as accessories,\\n               collect(DISTINCT i) as included_items,\\n               collect(DISTINCT l) as limitations\\n        '\n"
          ]
        },
        {
          "output_type": "stream",
          "name": "stdout",
          "text": [
            "Processing review 7/100...\n"
          ]
        },
        {
          "output_type": "stream",
          "name": "stderr",
          "text": [
            "WARNING:neo4j.notifications:Received notification from DBMS server: {severity: WARNING} {code: Neo.ClientNotification.Statement.AggregationSkippedNull} {category: UNRECOGNIZED} {title: The query contains an aggregation function that skips null values.} {description: null value eliminated in set function.} {position: None} for query: '\\n        MATCH (t:Tool {model_number: $product_id})\\n        OPTIONAL MATCH (t)-[:BELONGS_TO]->(c:Category)\\n        OPTIONAL MATCH (t)-[:HAS_SPECIFICATION]->(s:Specification)\\n        OPTIONAL MATCH (s)-[:HAS_UNIT]->(u:Unit)\\n        OPTIONAL MATCH (t)-[:COMPATIBLE_WITH]->(a:Accessory)\\n        OPTIONAL MATCH (t)-[:INCLUDES]->(i:IncludedItem)\\n        OPTIONAL MATCH (t)-[:HAS_LIMITATION]->(l:Limitation)\\n        RETURN t, c, collect(DISTINCT {spec: s, unit: u}) as specs,\\n               collect(DISTINCT a) as accessories,\\n               collect(DISTINCT i) as included_items,\\n               collect(DISTINCT l) as limitations\\n        '\n"
          ]
        },
        {
          "output_type": "stream",
          "name": "stdout",
          "text": [
            "Processing review 8/100...\n"
          ]
        },
        {
          "output_type": "stream",
          "name": "stderr",
          "text": [
            "WARNING:neo4j.notifications:Received notification from DBMS server: {severity: WARNING} {code: Neo.ClientNotification.Statement.AggregationSkippedNull} {category: UNRECOGNIZED} {title: The query contains an aggregation function that skips null values.} {description: null value eliminated in set function.} {position: None} for query: '\\n        MATCH (t:Tool {model_number: $product_id})\\n        OPTIONAL MATCH (t)-[:BELONGS_TO]->(c:Category)\\n        OPTIONAL MATCH (t)-[:HAS_SPECIFICATION]->(s:Specification)\\n        OPTIONAL MATCH (s)-[:HAS_UNIT]->(u:Unit)\\n        OPTIONAL MATCH (t)-[:COMPATIBLE_WITH]->(a:Accessory)\\n        OPTIONAL MATCH (t)-[:INCLUDES]->(i:IncludedItem)\\n        OPTIONAL MATCH (t)-[:HAS_LIMITATION]->(l:Limitation)\\n        RETURN t, c, collect(DISTINCT {spec: s, unit: u}) as specs,\\n               collect(DISTINCT a) as accessories,\\n               collect(DISTINCT i) as included_items,\\n               collect(DISTINCT l) as limitations\\n        '\n"
          ]
        },
        {
          "output_type": "stream",
          "name": "stdout",
          "text": [
            "Processing review 9/100...\n"
          ]
        },
        {
          "output_type": "stream",
          "name": "stderr",
          "text": [
            "WARNING:neo4j.notifications:Received notification from DBMS server: {severity: WARNING} {code: Neo.ClientNotification.Statement.AggregationSkippedNull} {category: UNRECOGNIZED} {title: The query contains an aggregation function that skips null values.} {description: null value eliminated in set function.} {position: None} for query: '\\n        MATCH (t:Tool {model_number: $product_id})\\n        OPTIONAL MATCH (t)-[:BELONGS_TO]->(c:Category)\\n        OPTIONAL MATCH (t)-[:HAS_SPECIFICATION]->(s:Specification)\\n        OPTIONAL MATCH (s)-[:HAS_UNIT]->(u:Unit)\\n        OPTIONAL MATCH (t)-[:COMPATIBLE_WITH]->(a:Accessory)\\n        OPTIONAL MATCH (t)-[:INCLUDES]->(i:IncludedItem)\\n        OPTIONAL MATCH (t)-[:HAS_LIMITATION]->(l:Limitation)\\n        RETURN t, c, collect(DISTINCT {spec: s, unit: u}) as specs,\\n               collect(DISTINCT a) as accessories,\\n               collect(DISTINCT i) as included_items,\\n               collect(DISTINCT l) as limitations\\n        '\n"
          ]
        },
        {
          "output_type": "stream",
          "name": "stdout",
          "text": [
            "Processing review 10/100...\n"
          ]
        },
        {
          "output_type": "stream",
          "name": "stderr",
          "text": [
            "WARNING:neo4j.notifications:Received notification from DBMS server: {severity: WARNING} {code: Neo.ClientNotification.Statement.AggregationSkippedNull} {category: UNRECOGNIZED} {title: The query contains an aggregation function that skips null values.} {description: null value eliminated in set function.} {position: None} for query: '\\n        MATCH (t:Tool {model_number: $product_id})\\n        OPTIONAL MATCH (t)-[:BELONGS_TO]->(c:Category)\\n        OPTIONAL MATCH (t)-[:HAS_SPECIFICATION]->(s:Specification)\\n        OPTIONAL MATCH (s)-[:HAS_UNIT]->(u:Unit)\\n        OPTIONAL MATCH (t)-[:COMPATIBLE_WITH]->(a:Accessory)\\n        OPTIONAL MATCH (t)-[:INCLUDES]->(i:IncludedItem)\\n        OPTIONAL MATCH (t)-[:HAS_LIMITATION]->(l:Limitation)\\n        RETURN t, c, collect(DISTINCT {spec: s, unit: u}) as specs,\\n               collect(DISTINCT a) as accessories,\\n               collect(DISTINCT i) as included_items,\\n               collect(DISTINCT l) as limitations\\n        '\n"
          ]
        },
        {
          "output_type": "stream",
          "name": "stdout",
          "text": [
            "Processing review 11/100...\n"
          ]
        },
        {
          "output_type": "stream",
          "name": "stderr",
          "text": [
            "WARNING:neo4j.notifications:Received notification from DBMS server: {severity: WARNING} {code: Neo.ClientNotification.Statement.AggregationSkippedNull} {category: UNRECOGNIZED} {title: The query contains an aggregation function that skips null values.} {description: null value eliminated in set function.} {position: None} for query: '\\n        MATCH (t:Tool {model_number: $product_id})\\n        OPTIONAL MATCH (t)-[:BELONGS_TO]->(c:Category)\\n        OPTIONAL MATCH (t)-[:HAS_SPECIFICATION]->(s:Specification)\\n        OPTIONAL MATCH (s)-[:HAS_UNIT]->(u:Unit)\\n        OPTIONAL MATCH (t)-[:COMPATIBLE_WITH]->(a:Accessory)\\n        OPTIONAL MATCH (t)-[:INCLUDES]->(i:IncludedItem)\\n        OPTIONAL MATCH (t)-[:HAS_LIMITATION]->(l:Limitation)\\n        RETURN t, c, collect(DISTINCT {spec: s, unit: u}) as specs,\\n               collect(DISTINCT a) as accessories,\\n               collect(DISTINCT i) as included_items,\\n               collect(DISTINCT l) as limitations\\n        '\n"
          ]
        },
        {
          "output_type": "stream",
          "name": "stdout",
          "text": [
            "Processing review 12/100...\n"
          ]
        },
        {
          "output_type": "stream",
          "name": "stderr",
          "text": [
            "WARNING:neo4j.notifications:Received notification from DBMS server: {severity: WARNING} {code: Neo.ClientNotification.Statement.AggregationSkippedNull} {category: UNRECOGNIZED} {title: The query contains an aggregation function that skips null values.} {description: null value eliminated in set function.} {position: None} for query: '\\n        MATCH (t:Tool {model_number: $product_id})\\n        OPTIONAL MATCH (t)-[:BELONGS_TO]->(c:Category)\\n        OPTIONAL MATCH (t)-[:HAS_SPECIFICATION]->(s:Specification)\\n        OPTIONAL MATCH (s)-[:HAS_UNIT]->(u:Unit)\\n        OPTIONAL MATCH (t)-[:COMPATIBLE_WITH]->(a:Accessory)\\n        OPTIONAL MATCH (t)-[:INCLUDES]->(i:IncludedItem)\\n        OPTIONAL MATCH (t)-[:HAS_LIMITATION]->(l:Limitation)\\n        RETURN t, c, collect(DISTINCT {spec: s, unit: u}) as specs,\\n               collect(DISTINCT a) as accessories,\\n               collect(DISTINCT i) as included_items,\\n               collect(DISTINCT l) as limitations\\n        '\n"
          ]
        },
        {
          "output_type": "stream",
          "name": "stdout",
          "text": [
            "Processing review 13/100...\n"
          ]
        },
        {
          "output_type": "stream",
          "name": "stderr",
          "text": [
            "WARNING:neo4j.notifications:Received notification from DBMS server: {severity: WARNING} {code: Neo.ClientNotification.Statement.AggregationSkippedNull} {category: UNRECOGNIZED} {title: The query contains an aggregation function that skips null values.} {description: null value eliminated in set function.} {position: None} for query: '\\n        MATCH (t:Tool {model_number: $product_id})\\n        OPTIONAL MATCH (t)-[:BELONGS_TO]->(c:Category)\\n        OPTIONAL MATCH (t)-[:HAS_SPECIFICATION]->(s:Specification)\\n        OPTIONAL MATCH (s)-[:HAS_UNIT]->(u:Unit)\\n        OPTIONAL MATCH (t)-[:COMPATIBLE_WITH]->(a:Accessory)\\n        OPTIONAL MATCH (t)-[:INCLUDES]->(i:IncludedItem)\\n        OPTIONAL MATCH (t)-[:HAS_LIMITATION]->(l:Limitation)\\n        RETURN t, c, collect(DISTINCT {spec: s, unit: u}) as specs,\\n               collect(DISTINCT a) as accessories,\\n               collect(DISTINCT i) as included_items,\\n               collect(DISTINCT l) as limitations\\n        '\n"
          ]
        },
        {
          "output_type": "stream",
          "name": "stdout",
          "text": [
            "Processing review 14/100...\n"
          ]
        },
        {
          "output_type": "stream",
          "name": "stderr",
          "text": [
            "WARNING:neo4j.notifications:Received notification from DBMS server: {severity: WARNING} {code: Neo.ClientNotification.Statement.AggregationSkippedNull} {category: UNRECOGNIZED} {title: The query contains an aggregation function that skips null values.} {description: null value eliminated in set function.} {position: None} for query: '\\n        MATCH (t:Tool {model_number: $product_id})\\n        OPTIONAL MATCH (t)-[:BELONGS_TO]->(c:Category)\\n        OPTIONAL MATCH (t)-[:HAS_SPECIFICATION]->(s:Specification)\\n        OPTIONAL MATCH (s)-[:HAS_UNIT]->(u:Unit)\\n        OPTIONAL MATCH (t)-[:COMPATIBLE_WITH]->(a:Accessory)\\n        OPTIONAL MATCH (t)-[:INCLUDES]->(i:IncludedItem)\\n        OPTIONAL MATCH (t)-[:HAS_LIMITATION]->(l:Limitation)\\n        RETURN t, c, collect(DISTINCT {spec: s, unit: u}) as specs,\\n               collect(DISTINCT a) as accessories,\\n               collect(DISTINCT i) as included_items,\\n               collect(DISTINCT l) as limitations\\n        '\n"
          ]
        },
        {
          "output_type": "stream",
          "name": "stdout",
          "text": [
            "Processing review 15/100...\n"
          ]
        },
        {
          "output_type": "stream",
          "name": "stderr",
          "text": [
            "WARNING:neo4j.notifications:Received notification from DBMS server: {severity: WARNING} {code: Neo.ClientNotification.Statement.AggregationSkippedNull} {category: UNRECOGNIZED} {title: The query contains an aggregation function that skips null values.} {description: null value eliminated in set function.} {position: None} for query: '\\n        MATCH (t:Tool {model_number: $product_id})\\n        OPTIONAL MATCH (t)-[:BELONGS_TO]->(c:Category)\\n        OPTIONAL MATCH (t)-[:HAS_SPECIFICATION]->(s:Specification)\\n        OPTIONAL MATCH (s)-[:HAS_UNIT]->(u:Unit)\\n        OPTIONAL MATCH (t)-[:COMPATIBLE_WITH]->(a:Accessory)\\n        OPTIONAL MATCH (t)-[:INCLUDES]->(i:IncludedItem)\\n        OPTIONAL MATCH (t)-[:HAS_LIMITATION]->(l:Limitation)\\n        RETURN t, c, collect(DISTINCT {spec: s, unit: u}) as specs,\\n               collect(DISTINCT a) as accessories,\\n               collect(DISTINCT i) as included_items,\\n               collect(DISTINCT l) as limitations\\n        '\n"
          ]
        },
        {
          "output_type": "stream",
          "name": "stdout",
          "text": [
            "Processing review 16/100...\n"
          ]
        },
        {
          "output_type": "stream",
          "name": "stderr",
          "text": [
            "WARNING:neo4j.notifications:Received notification from DBMS server: {severity: WARNING} {code: Neo.ClientNotification.Statement.AggregationSkippedNull} {category: UNRECOGNIZED} {title: The query contains an aggregation function that skips null values.} {description: null value eliminated in set function.} {position: None} for query: '\\n        MATCH (t:Tool {model_number: $product_id})\\n        OPTIONAL MATCH (t)-[:BELONGS_TO]->(c:Category)\\n        OPTIONAL MATCH (t)-[:HAS_SPECIFICATION]->(s:Specification)\\n        OPTIONAL MATCH (s)-[:HAS_UNIT]->(u:Unit)\\n        OPTIONAL MATCH (t)-[:COMPATIBLE_WITH]->(a:Accessory)\\n        OPTIONAL MATCH (t)-[:INCLUDES]->(i:IncludedItem)\\n        OPTIONAL MATCH (t)-[:HAS_LIMITATION]->(l:Limitation)\\n        RETURN t, c, collect(DISTINCT {spec: s, unit: u}) as specs,\\n               collect(DISTINCT a) as accessories,\\n               collect(DISTINCT i) as included_items,\\n               collect(DISTINCT l) as limitations\\n        '\n"
          ]
        },
        {
          "output_type": "stream",
          "name": "stdout",
          "text": [
            "Processing review 17/100...\n"
          ]
        },
        {
          "output_type": "stream",
          "name": "stderr",
          "text": [
            "WARNING:neo4j.notifications:Received notification from DBMS server: {severity: WARNING} {code: Neo.ClientNotification.Statement.AggregationSkippedNull} {category: UNRECOGNIZED} {title: The query contains an aggregation function that skips null values.} {description: null value eliminated in set function.} {position: None} for query: '\\n        MATCH (t:Tool {model_number: $product_id})\\n        OPTIONAL MATCH (t)-[:BELONGS_TO]->(c:Category)\\n        OPTIONAL MATCH (t)-[:HAS_SPECIFICATION]->(s:Specification)\\n        OPTIONAL MATCH (s)-[:HAS_UNIT]->(u:Unit)\\n        OPTIONAL MATCH (t)-[:COMPATIBLE_WITH]->(a:Accessory)\\n        OPTIONAL MATCH (t)-[:INCLUDES]->(i:IncludedItem)\\n        OPTIONAL MATCH (t)-[:HAS_LIMITATION]->(l:Limitation)\\n        RETURN t, c, collect(DISTINCT {spec: s, unit: u}) as specs,\\n               collect(DISTINCT a) as accessories,\\n               collect(DISTINCT i) as included_items,\\n               collect(DISTINCT l) as limitations\\n        '\n"
          ]
        },
        {
          "output_type": "stream",
          "name": "stdout",
          "text": [
            "Processing review 18/100...\n"
          ]
        },
        {
          "output_type": "stream",
          "name": "stderr",
          "text": [
            "WARNING:neo4j.notifications:Received notification from DBMS server: {severity: WARNING} {code: Neo.ClientNotification.Statement.AggregationSkippedNull} {category: UNRECOGNIZED} {title: The query contains an aggregation function that skips null values.} {description: null value eliminated in set function.} {position: None} for query: '\\n        MATCH (t:Tool {model_number: $product_id})\\n        OPTIONAL MATCH (t)-[:BELONGS_TO]->(c:Category)\\n        OPTIONAL MATCH (t)-[:HAS_SPECIFICATION]->(s:Specification)\\n        OPTIONAL MATCH (s)-[:HAS_UNIT]->(u:Unit)\\n        OPTIONAL MATCH (t)-[:COMPATIBLE_WITH]->(a:Accessory)\\n        OPTIONAL MATCH (t)-[:INCLUDES]->(i:IncludedItem)\\n        OPTIONAL MATCH (t)-[:HAS_LIMITATION]->(l:Limitation)\\n        RETURN t, c, collect(DISTINCT {spec: s, unit: u}) as specs,\\n               collect(DISTINCT a) as accessories,\\n               collect(DISTINCT i) as included_items,\\n               collect(DISTINCT l) as limitations\\n        '\n"
          ]
        },
        {
          "output_type": "stream",
          "name": "stdout",
          "text": [
            "Processing review 19/100...\n"
          ]
        },
        {
          "output_type": "stream",
          "name": "stderr",
          "text": [
            "WARNING:neo4j.notifications:Received notification from DBMS server: {severity: WARNING} {code: Neo.ClientNotification.Statement.AggregationSkippedNull} {category: UNRECOGNIZED} {title: The query contains an aggregation function that skips null values.} {description: null value eliminated in set function.} {position: None} for query: '\\n        MATCH (t:Tool {model_number: $product_id})\\n        OPTIONAL MATCH (t)-[:BELONGS_TO]->(c:Category)\\n        OPTIONAL MATCH (t)-[:HAS_SPECIFICATION]->(s:Specification)\\n        OPTIONAL MATCH (s)-[:HAS_UNIT]->(u:Unit)\\n        OPTIONAL MATCH (t)-[:COMPATIBLE_WITH]->(a:Accessory)\\n        OPTIONAL MATCH (t)-[:INCLUDES]->(i:IncludedItem)\\n        OPTIONAL MATCH (t)-[:HAS_LIMITATION]->(l:Limitation)\\n        RETURN t, c, collect(DISTINCT {spec: s, unit: u}) as specs,\\n               collect(DISTINCT a) as accessories,\\n               collect(DISTINCT i) as included_items,\\n               collect(DISTINCT l) as limitations\\n        '\n"
          ]
        },
        {
          "output_type": "stream",
          "name": "stdout",
          "text": [
            "Processing review 20/100...\n"
          ]
        },
        {
          "output_type": "stream",
          "name": "stderr",
          "text": [
            "WARNING:neo4j.notifications:Received notification from DBMS server: {severity: WARNING} {code: Neo.ClientNotification.Statement.AggregationSkippedNull} {category: UNRECOGNIZED} {title: The query contains an aggregation function that skips null values.} {description: null value eliminated in set function.} {position: None} for query: '\\n        MATCH (t:Tool {model_number: $product_id})\\n        OPTIONAL MATCH (t)-[:BELONGS_TO]->(c:Category)\\n        OPTIONAL MATCH (t)-[:HAS_SPECIFICATION]->(s:Specification)\\n        OPTIONAL MATCH (s)-[:HAS_UNIT]->(u:Unit)\\n        OPTIONAL MATCH (t)-[:COMPATIBLE_WITH]->(a:Accessory)\\n        OPTIONAL MATCH (t)-[:INCLUDES]->(i:IncludedItem)\\n        OPTIONAL MATCH (t)-[:HAS_LIMITATION]->(l:Limitation)\\n        RETURN t, c, collect(DISTINCT {spec: s, unit: u}) as specs,\\n               collect(DISTINCT a) as accessories,\\n               collect(DISTINCT i) as included_items,\\n               collect(DISTINCT l) as limitations\\n        '\n"
          ]
        },
        {
          "output_type": "stream",
          "name": "stdout",
          "text": [
            "Processing review 21/100...\n"
          ]
        },
        {
          "output_type": "stream",
          "name": "stderr",
          "text": [
            "WARNING:neo4j.notifications:Received notification from DBMS server: {severity: WARNING} {code: Neo.ClientNotification.Statement.AggregationSkippedNull} {category: UNRECOGNIZED} {title: The query contains an aggregation function that skips null values.} {description: null value eliminated in set function.} {position: None} for query: '\\n        MATCH (t:Tool {model_number: $product_id})\\n        OPTIONAL MATCH (t)-[:BELONGS_TO]->(c:Category)\\n        OPTIONAL MATCH (t)-[:HAS_SPECIFICATION]->(s:Specification)\\n        OPTIONAL MATCH (s)-[:HAS_UNIT]->(u:Unit)\\n        OPTIONAL MATCH (t)-[:COMPATIBLE_WITH]->(a:Accessory)\\n        OPTIONAL MATCH (t)-[:INCLUDES]->(i:IncludedItem)\\n        OPTIONAL MATCH (t)-[:HAS_LIMITATION]->(l:Limitation)\\n        RETURN t, c, collect(DISTINCT {spec: s, unit: u}) as specs,\\n               collect(DISTINCT a) as accessories,\\n               collect(DISTINCT i) as included_items,\\n               collect(DISTINCT l) as limitations\\n        '\n"
          ]
        },
        {
          "output_type": "stream",
          "name": "stdout",
          "text": [
            "Processing review 22/100...\n"
          ]
        },
        {
          "output_type": "stream",
          "name": "stderr",
          "text": [
            "WARNING:neo4j.notifications:Received notification from DBMS server: {severity: WARNING} {code: Neo.ClientNotification.Statement.AggregationSkippedNull} {category: UNRECOGNIZED} {title: The query contains an aggregation function that skips null values.} {description: null value eliminated in set function.} {position: None} for query: '\\n        MATCH (t:Tool {model_number: $product_id})\\n        OPTIONAL MATCH (t)-[:BELONGS_TO]->(c:Category)\\n        OPTIONAL MATCH (t)-[:HAS_SPECIFICATION]->(s:Specification)\\n        OPTIONAL MATCH (s)-[:HAS_UNIT]->(u:Unit)\\n        OPTIONAL MATCH (t)-[:COMPATIBLE_WITH]->(a:Accessory)\\n        OPTIONAL MATCH (t)-[:INCLUDES]->(i:IncludedItem)\\n        OPTIONAL MATCH (t)-[:HAS_LIMITATION]->(l:Limitation)\\n        RETURN t, c, collect(DISTINCT {spec: s, unit: u}) as specs,\\n               collect(DISTINCT a) as accessories,\\n               collect(DISTINCT i) as included_items,\\n               collect(DISTINCT l) as limitations\\n        '\n"
          ]
        },
        {
          "output_type": "stream",
          "name": "stdout",
          "text": [
            "Processing review 23/100...\n"
          ]
        },
        {
          "output_type": "stream",
          "name": "stderr",
          "text": [
            "WARNING:neo4j.notifications:Received notification from DBMS server: {severity: WARNING} {code: Neo.ClientNotification.Statement.AggregationSkippedNull} {category: UNRECOGNIZED} {title: The query contains an aggregation function that skips null values.} {description: null value eliminated in set function.} {position: None} for query: '\\n        MATCH (t:Tool {model_number: $product_id})\\n        OPTIONAL MATCH (t)-[:BELONGS_TO]->(c:Category)\\n        OPTIONAL MATCH (t)-[:HAS_SPECIFICATION]->(s:Specification)\\n        OPTIONAL MATCH (s)-[:HAS_UNIT]->(u:Unit)\\n        OPTIONAL MATCH (t)-[:COMPATIBLE_WITH]->(a:Accessory)\\n        OPTIONAL MATCH (t)-[:INCLUDES]->(i:IncludedItem)\\n        OPTIONAL MATCH (t)-[:HAS_LIMITATION]->(l:Limitation)\\n        RETURN t, c, collect(DISTINCT {spec: s, unit: u}) as specs,\\n               collect(DISTINCT a) as accessories,\\n               collect(DISTINCT i) as included_items,\\n               collect(DISTINCT l) as limitations\\n        '\n"
          ]
        },
        {
          "output_type": "stream",
          "name": "stdout",
          "text": [
            "Processing review 24/100...\n"
          ]
        },
        {
          "output_type": "stream",
          "name": "stderr",
          "text": [
            "WARNING:neo4j.notifications:Received notification from DBMS server: {severity: WARNING} {code: Neo.ClientNotification.Statement.AggregationSkippedNull} {category: UNRECOGNIZED} {title: The query contains an aggregation function that skips null values.} {description: null value eliminated in set function.} {position: None} for query: '\\n        MATCH (t:Tool {model_number: $product_id})\\n        OPTIONAL MATCH (t)-[:BELONGS_TO]->(c:Category)\\n        OPTIONAL MATCH (t)-[:HAS_SPECIFICATION]->(s:Specification)\\n        OPTIONAL MATCH (s)-[:HAS_UNIT]->(u:Unit)\\n        OPTIONAL MATCH (t)-[:COMPATIBLE_WITH]->(a:Accessory)\\n        OPTIONAL MATCH (t)-[:INCLUDES]->(i:IncludedItem)\\n        OPTIONAL MATCH (t)-[:HAS_LIMITATION]->(l:Limitation)\\n        RETURN t, c, collect(DISTINCT {spec: s, unit: u}) as specs,\\n               collect(DISTINCT a) as accessories,\\n               collect(DISTINCT i) as included_items,\\n               collect(DISTINCT l) as limitations\\n        '\n"
          ]
        },
        {
          "output_type": "stream",
          "name": "stdout",
          "text": [
            "Processing review 25/100...\n"
          ]
        },
        {
          "output_type": "stream",
          "name": "stderr",
          "text": [
            "WARNING:neo4j.notifications:Received notification from DBMS server: {severity: WARNING} {code: Neo.ClientNotification.Statement.AggregationSkippedNull} {category: UNRECOGNIZED} {title: The query contains an aggregation function that skips null values.} {description: null value eliminated in set function.} {position: None} for query: '\\n        MATCH (t:Tool {model_number: $product_id})\\n        OPTIONAL MATCH (t)-[:BELONGS_TO]->(c:Category)\\n        OPTIONAL MATCH (t)-[:HAS_SPECIFICATION]->(s:Specification)\\n        OPTIONAL MATCH (s)-[:HAS_UNIT]->(u:Unit)\\n        OPTIONAL MATCH (t)-[:COMPATIBLE_WITH]->(a:Accessory)\\n        OPTIONAL MATCH (t)-[:INCLUDES]->(i:IncludedItem)\\n        OPTIONAL MATCH (t)-[:HAS_LIMITATION]->(l:Limitation)\\n        RETURN t, c, collect(DISTINCT {spec: s, unit: u}) as specs,\\n               collect(DISTINCT a) as accessories,\\n               collect(DISTINCT i) as included_items,\\n               collect(DISTINCT l) as limitations\\n        '\n"
          ]
        },
        {
          "output_type": "stream",
          "name": "stdout",
          "text": [
            "Processing review 26/100...\n"
          ]
        },
        {
          "output_type": "stream",
          "name": "stderr",
          "text": [
            "WARNING:neo4j.notifications:Received notification from DBMS server: {severity: WARNING} {code: Neo.ClientNotification.Statement.AggregationSkippedNull} {category: UNRECOGNIZED} {title: The query contains an aggregation function that skips null values.} {description: null value eliminated in set function.} {position: None} for query: '\\n        MATCH (t:Tool {model_number: $product_id})\\n        OPTIONAL MATCH (t)-[:BELONGS_TO]->(c:Category)\\n        OPTIONAL MATCH (t)-[:HAS_SPECIFICATION]->(s:Specification)\\n        OPTIONAL MATCH (s)-[:HAS_UNIT]->(u:Unit)\\n        OPTIONAL MATCH (t)-[:COMPATIBLE_WITH]->(a:Accessory)\\n        OPTIONAL MATCH (t)-[:INCLUDES]->(i:IncludedItem)\\n        OPTIONAL MATCH (t)-[:HAS_LIMITATION]->(l:Limitation)\\n        RETURN t, c, collect(DISTINCT {spec: s, unit: u}) as specs,\\n               collect(DISTINCT a) as accessories,\\n               collect(DISTINCT i) as included_items,\\n               collect(DISTINCT l) as limitations\\n        '\n"
          ]
        },
        {
          "output_type": "stream",
          "name": "stdout",
          "text": [
            "Processing review 27/100...\n"
          ]
        },
        {
          "output_type": "stream",
          "name": "stderr",
          "text": [
            "WARNING:neo4j.notifications:Received notification from DBMS server: {severity: WARNING} {code: Neo.ClientNotification.Statement.AggregationSkippedNull} {category: UNRECOGNIZED} {title: The query contains an aggregation function that skips null values.} {description: null value eliminated in set function.} {position: None} for query: '\\n        MATCH (t:Tool {model_number: $product_id})\\n        OPTIONAL MATCH (t)-[:BELONGS_TO]->(c:Category)\\n        OPTIONAL MATCH (t)-[:HAS_SPECIFICATION]->(s:Specification)\\n        OPTIONAL MATCH (s)-[:HAS_UNIT]->(u:Unit)\\n        OPTIONAL MATCH (t)-[:COMPATIBLE_WITH]->(a:Accessory)\\n        OPTIONAL MATCH (t)-[:INCLUDES]->(i:IncludedItem)\\n        OPTIONAL MATCH (t)-[:HAS_LIMITATION]->(l:Limitation)\\n        RETURN t, c, collect(DISTINCT {spec: s, unit: u}) as specs,\\n               collect(DISTINCT a) as accessories,\\n               collect(DISTINCT i) as included_items,\\n               collect(DISTINCT l) as limitations\\n        '\n"
          ]
        },
        {
          "output_type": "stream",
          "name": "stdout",
          "text": [
            "Processing review 28/100...\n"
          ]
        },
        {
          "output_type": "stream",
          "name": "stderr",
          "text": [
            "WARNING:neo4j.notifications:Received notification from DBMS server: {severity: WARNING} {code: Neo.ClientNotification.Statement.AggregationSkippedNull} {category: UNRECOGNIZED} {title: The query contains an aggregation function that skips null values.} {description: null value eliminated in set function.} {position: None} for query: '\\n        MATCH (t:Tool {model_number: $product_id})\\n        OPTIONAL MATCH (t)-[:BELONGS_TO]->(c:Category)\\n        OPTIONAL MATCH (t)-[:HAS_SPECIFICATION]->(s:Specification)\\n        OPTIONAL MATCH (s)-[:HAS_UNIT]->(u:Unit)\\n        OPTIONAL MATCH (t)-[:COMPATIBLE_WITH]->(a:Accessory)\\n        OPTIONAL MATCH (t)-[:INCLUDES]->(i:IncludedItem)\\n        OPTIONAL MATCH (t)-[:HAS_LIMITATION]->(l:Limitation)\\n        RETURN t, c, collect(DISTINCT {spec: s, unit: u}) as specs,\\n               collect(DISTINCT a) as accessories,\\n               collect(DISTINCT i) as included_items,\\n               collect(DISTINCT l) as limitations\\n        '\n"
          ]
        },
        {
          "output_type": "stream",
          "name": "stdout",
          "text": [
            "Processing review 29/100...\n"
          ]
        },
        {
          "output_type": "stream",
          "name": "stderr",
          "text": [
            "WARNING:neo4j.notifications:Received notification from DBMS server: {severity: WARNING} {code: Neo.ClientNotification.Statement.AggregationSkippedNull} {category: UNRECOGNIZED} {title: The query contains an aggregation function that skips null values.} {description: null value eliminated in set function.} {position: None} for query: '\\n        MATCH (t:Tool {model_number: $product_id})\\n        OPTIONAL MATCH (t)-[:BELONGS_TO]->(c:Category)\\n        OPTIONAL MATCH (t)-[:HAS_SPECIFICATION]->(s:Specification)\\n        OPTIONAL MATCH (s)-[:HAS_UNIT]->(u:Unit)\\n        OPTIONAL MATCH (t)-[:COMPATIBLE_WITH]->(a:Accessory)\\n        OPTIONAL MATCH (t)-[:INCLUDES]->(i:IncludedItem)\\n        OPTIONAL MATCH (t)-[:HAS_LIMITATION]->(l:Limitation)\\n        RETURN t, c, collect(DISTINCT {spec: s, unit: u}) as specs,\\n               collect(DISTINCT a) as accessories,\\n               collect(DISTINCT i) as included_items,\\n               collect(DISTINCT l) as limitations\\n        '\n"
          ]
        },
        {
          "output_type": "stream",
          "name": "stdout",
          "text": [
            "Processing review 30/100...\n"
          ]
        },
        {
          "output_type": "stream",
          "name": "stderr",
          "text": [
            "WARNING:neo4j.notifications:Received notification from DBMS server: {severity: WARNING} {code: Neo.ClientNotification.Statement.AggregationSkippedNull} {category: UNRECOGNIZED} {title: The query contains an aggregation function that skips null values.} {description: null value eliminated in set function.} {position: None} for query: '\\n        MATCH (t:Tool {model_number: $product_id})\\n        OPTIONAL MATCH (t)-[:BELONGS_TO]->(c:Category)\\n        OPTIONAL MATCH (t)-[:HAS_SPECIFICATION]->(s:Specification)\\n        OPTIONAL MATCH (s)-[:HAS_UNIT]->(u:Unit)\\n        OPTIONAL MATCH (t)-[:COMPATIBLE_WITH]->(a:Accessory)\\n        OPTIONAL MATCH (t)-[:INCLUDES]->(i:IncludedItem)\\n        OPTIONAL MATCH (t)-[:HAS_LIMITATION]->(l:Limitation)\\n        RETURN t, c, collect(DISTINCT {spec: s, unit: u}) as specs,\\n               collect(DISTINCT a) as accessories,\\n               collect(DISTINCT i) as included_items,\\n               collect(DISTINCT l) as limitations\\n        '\n"
          ]
        },
        {
          "output_type": "stream",
          "name": "stdout",
          "text": [
            "Processing review 31/100...\n"
          ]
        },
        {
          "output_type": "stream",
          "name": "stderr",
          "text": [
            "WARNING:neo4j.notifications:Received notification from DBMS server: {severity: WARNING} {code: Neo.ClientNotification.Statement.AggregationSkippedNull} {category: UNRECOGNIZED} {title: The query contains an aggregation function that skips null values.} {description: null value eliminated in set function.} {position: None} for query: '\\n        MATCH (t:Tool {model_number: $product_id})\\n        OPTIONAL MATCH (t)-[:BELONGS_TO]->(c:Category)\\n        OPTIONAL MATCH (t)-[:HAS_SPECIFICATION]->(s:Specification)\\n        OPTIONAL MATCH (s)-[:HAS_UNIT]->(u:Unit)\\n        OPTIONAL MATCH (t)-[:COMPATIBLE_WITH]->(a:Accessory)\\n        OPTIONAL MATCH (t)-[:INCLUDES]->(i:IncludedItem)\\n        OPTIONAL MATCH (t)-[:HAS_LIMITATION]->(l:Limitation)\\n        RETURN t, c, collect(DISTINCT {spec: s, unit: u}) as specs,\\n               collect(DISTINCT a) as accessories,\\n               collect(DISTINCT i) as included_items,\\n               collect(DISTINCT l) as limitations\\n        '\n"
          ]
        },
        {
          "output_type": "stream",
          "name": "stdout",
          "text": [
            "Processing review 32/100...\n"
          ]
        },
        {
          "output_type": "stream",
          "name": "stderr",
          "text": [
            "WARNING:neo4j.notifications:Received notification from DBMS server: {severity: WARNING} {code: Neo.ClientNotification.Statement.AggregationSkippedNull} {category: UNRECOGNIZED} {title: The query contains an aggregation function that skips null values.} {description: null value eliminated in set function.} {position: None} for query: '\\n        MATCH (t:Tool {model_number: $product_id})\\n        OPTIONAL MATCH (t)-[:BELONGS_TO]->(c:Category)\\n        OPTIONAL MATCH (t)-[:HAS_SPECIFICATION]->(s:Specification)\\n        OPTIONAL MATCH (s)-[:HAS_UNIT]->(u:Unit)\\n        OPTIONAL MATCH (t)-[:COMPATIBLE_WITH]->(a:Accessory)\\n        OPTIONAL MATCH (t)-[:INCLUDES]->(i:IncludedItem)\\n        OPTIONAL MATCH (t)-[:HAS_LIMITATION]->(l:Limitation)\\n        RETURN t, c, collect(DISTINCT {spec: s, unit: u}) as specs,\\n               collect(DISTINCT a) as accessories,\\n               collect(DISTINCT i) as included_items,\\n               collect(DISTINCT l) as limitations\\n        '\n"
          ]
        },
        {
          "output_type": "stream",
          "name": "stdout",
          "text": [
            "Processing review 33/100...\n"
          ]
        },
        {
          "output_type": "stream",
          "name": "stderr",
          "text": [
            "WARNING:neo4j.notifications:Received notification from DBMS server: {severity: WARNING} {code: Neo.ClientNotification.Statement.AggregationSkippedNull} {category: UNRECOGNIZED} {title: The query contains an aggregation function that skips null values.} {description: null value eliminated in set function.} {position: None} for query: '\\n        MATCH (t:Tool {model_number: $product_id})\\n        OPTIONAL MATCH (t)-[:BELONGS_TO]->(c:Category)\\n        OPTIONAL MATCH (t)-[:HAS_SPECIFICATION]->(s:Specification)\\n        OPTIONAL MATCH (s)-[:HAS_UNIT]->(u:Unit)\\n        OPTIONAL MATCH (t)-[:COMPATIBLE_WITH]->(a:Accessory)\\n        OPTIONAL MATCH (t)-[:INCLUDES]->(i:IncludedItem)\\n        OPTIONAL MATCH (t)-[:HAS_LIMITATION]->(l:Limitation)\\n        RETURN t, c, collect(DISTINCT {spec: s, unit: u}) as specs,\\n               collect(DISTINCT a) as accessories,\\n               collect(DISTINCT i) as included_items,\\n               collect(DISTINCT l) as limitations\\n        '\n"
          ]
        },
        {
          "output_type": "stream",
          "name": "stdout",
          "text": [
            "Processing review 34/100...\n"
          ]
        },
        {
          "output_type": "stream",
          "name": "stderr",
          "text": [
            "WARNING:neo4j.notifications:Received notification from DBMS server: {severity: WARNING} {code: Neo.ClientNotification.Statement.AggregationSkippedNull} {category: UNRECOGNIZED} {title: The query contains an aggregation function that skips null values.} {description: null value eliminated in set function.} {position: None} for query: '\\n        MATCH (t:Tool {model_number: $product_id})\\n        OPTIONAL MATCH (t)-[:BELONGS_TO]->(c:Category)\\n        OPTIONAL MATCH (t)-[:HAS_SPECIFICATION]->(s:Specification)\\n        OPTIONAL MATCH (s)-[:HAS_UNIT]->(u:Unit)\\n        OPTIONAL MATCH (t)-[:COMPATIBLE_WITH]->(a:Accessory)\\n        OPTIONAL MATCH (t)-[:INCLUDES]->(i:IncludedItem)\\n        OPTIONAL MATCH (t)-[:HAS_LIMITATION]->(l:Limitation)\\n        RETURN t, c, collect(DISTINCT {spec: s, unit: u}) as specs,\\n               collect(DISTINCT a) as accessories,\\n               collect(DISTINCT i) as included_items,\\n               collect(DISTINCT l) as limitations\\n        '\n"
          ]
        },
        {
          "output_type": "stream",
          "name": "stdout",
          "text": [
            "Processing review 35/100...\n"
          ]
        },
        {
          "output_type": "stream",
          "name": "stderr",
          "text": [
            "WARNING:neo4j.notifications:Received notification from DBMS server: {severity: WARNING} {code: Neo.ClientNotification.Statement.AggregationSkippedNull} {category: UNRECOGNIZED} {title: The query contains an aggregation function that skips null values.} {description: null value eliminated in set function.} {position: None} for query: '\\n        MATCH (t:Tool {model_number: $product_id})\\n        OPTIONAL MATCH (t)-[:BELONGS_TO]->(c:Category)\\n        OPTIONAL MATCH (t)-[:HAS_SPECIFICATION]->(s:Specification)\\n        OPTIONAL MATCH (s)-[:HAS_UNIT]->(u:Unit)\\n        OPTIONAL MATCH (t)-[:COMPATIBLE_WITH]->(a:Accessory)\\n        OPTIONAL MATCH (t)-[:INCLUDES]->(i:IncludedItem)\\n        OPTIONAL MATCH (t)-[:HAS_LIMITATION]->(l:Limitation)\\n        RETURN t, c, collect(DISTINCT {spec: s, unit: u}) as specs,\\n               collect(DISTINCT a) as accessories,\\n               collect(DISTINCT i) as included_items,\\n               collect(DISTINCT l) as limitations\\n        '\n"
          ]
        },
        {
          "output_type": "stream",
          "name": "stdout",
          "text": [
            "Processing review 36/100...\n"
          ]
        },
        {
          "output_type": "stream",
          "name": "stderr",
          "text": [
            "WARNING:neo4j.notifications:Received notification from DBMS server: {severity: WARNING} {code: Neo.ClientNotification.Statement.AggregationSkippedNull} {category: UNRECOGNIZED} {title: The query contains an aggregation function that skips null values.} {description: null value eliminated in set function.} {position: None} for query: '\\n        MATCH (t:Tool {model_number: $product_id})\\n        OPTIONAL MATCH (t)-[:BELONGS_TO]->(c:Category)\\n        OPTIONAL MATCH (t)-[:HAS_SPECIFICATION]->(s:Specification)\\n        OPTIONAL MATCH (s)-[:HAS_UNIT]->(u:Unit)\\n        OPTIONAL MATCH (t)-[:COMPATIBLE_WITH]->(a:Accessory)\\n        OPTIONAL MATCH (t)-[:INCLUDES]->(i:IncludedItem)\\n        OPTIONAL MATCH (t)-[:HAS_LIMITATION]->(l:Limitation)\\n        RETURN t, c, collect(DISTINCT {spec: s, unit: u}) as specs,\\n               collect(DISTINCT a) as accessories,\\n               collect(DISTINCT i) as included_items,\\n               collect(DISTINCT l) as limitations\\n        '\n"
          ]
        },
        {
          "output_type": "stream",
          "name": "stdout",
          "text": [
            "Processing review 37/100...\n"
          ]
        },
        {
          "output_type": "stream",
          "name": "stderr",
          "text": [
            "WARNING:neo4j.notifications:Received notification from DBMS server: {severity: WARNING} {code: Neo.ClientNotification.Statement.AggregationSkippedNull} {category: UNRECOGNIZED} {title: The query contains an aggregation function that skips null values.} {description: null value eliminated in set function.} {position: None} for query: '\\n        MATCH (t:Tool {model_number: $product_id})\\n        OPTIONAL MATCH (t)-[:BELONGS_TO]->(c:Category)\\n        OPTIONAL MATCH (t)-[:HAS_SPECIFICATION]->(s:Specification)\\n        OPTIONAL MATCH (s)-[:HAS_UNIT]->(u:Unit)\\n        OPTIONAL MATCH (t)-[:COMPATIBLE_WITH]->(a:Accessory)\\n        OPTIONAL MATCH (t)-[:INCLUDES]->(i:IncludedItem)\\n        OPTIONAL MATCH (t)-[:HAS_LIMITATION]->(l:Limitation)\\n        RETURN t, c, collect(DISTINCT {spec: s, unit: u}) as specs,\\n               collect(DISTINCT a) as accessories,\\n               collect(DISTINCT i) as included_items,\\n               collect(DISTINCT l) as limitations\\n        '\n"
          ]
        },
        {
          "output_type": "stream",
          "name": "stdout",
          "text": [
            "Processing review 38/100...\n"
          ]
        },
        {
          "output_type": "stream",
          "name": "stderr",
          "text": [
            "WARNING:neo4j.notifications:Received notification from DBMS server: {severity: WARNING} {code: Neo.ClientNotification.Statement.AggregationSkippedNull} {category: UNRECOGNIZED} {title: The query contains an aggregation function that skips null values.} {description: null value eliminated in set function.} {position: None} for query: '\\n        MATCH (t:Tool {model_number: $product_id})\\n        OPTIONAL MATCH (t)-[:BELONGS_TO]->(c:Category)\\n        OPTIONAL MATCH (t)-[:HAS_SPECIFICATION]->(s:Specification)\\n        OPTIONAL MATCH (s)-[:HAS_UNIT]->(u:Unit)\\n        OPTIONAL MATCH (t)-[:COMPATIBLE_WITH]->(a:Accessory)\\n        OPTIONAL MATCH (t)-[:INCLUDES]->(i:IncludedItem)\\n        OPTIONAL MATCH (t)-[:HAS_LIMITATION]->(l:Limitation)\\n        RETURN t, c, collect(DISTINCT {spec: s, unit: u}) as specs,\\n               collect(DISTINCT a) as accessories,\\n               collect(DISTINCT i) as included_items,\\n               collect(DISTINCT l) as limitations\\n        '\n"
          ]
        },
        {
          "output_type": "stream",
          "name": "stdout",
          "text": [
            "Processing review 39/100...\n"
          ]
        },
        {
          "output_type": "stream",
          "name": "stderr",
          "text": [
            "WARNING:neo4j.notifications:Received notification from DBMS server: {severity: WARNING} {code: Neo.ClientNotification.Statement.AggregationSkippedNull} {category: UNRECOGNIZED} {title: The query contains an aggregation function that skips null values.} {description: null value eliminated in set function.} {position: None} for query: '\\n        MATCH (t:Tool {model_number: $product_id})\\n        OPTIONAL MATCH (t)-[:BELONGS_TO]->(c:Category)\\n        OPTIONAL MATCH (t)-[:HAS_SPECIFICATION]->(s:Specification)\\n        OPTIONAL MATCH (s)-[:HAS_UNIT]->(u:Unit)\\n        OPTIONAL MATCH (t)-[:COMPATIBLE_WITH]->(a:Accessory)\\n        OPTIONAL MATCH (t)-[:INCLUDES]->(i:IncludedItem)\\n        OPTIONAL MATCH (t)-[:HAS_LIMITATION]->(l:Limitation)\\n        RETURN t, c, collect(DISTINCT {spec: s, unit: u}) as specs,\\n               collect(DISTINCT a) as accessories,\\n               collect(DISTINCT i) as included_items,\\n               collect(DISTINCT l) as limitations\\n        '\n"
          ]
        },
        {
          "output_type": "stream",
          "name": "stdout",
          "text": [
            "Processing review 40/100...\n"
          ]
        },
        {
          "output_type": "stream",
          "name": "stderr",
          "text": [
            "WARNING:neo4j.notifications:Received notification from DBMS server: {severity: WARNING} {code: Neo.ClientNotification.Statement.AggregationSkippedNull} {category: UNRECOGNIZED} {title: The query contains an aggregation function that skips null values.} {description: null value eliminated in set function.} {position: None} for query: '\\n        MATCH (t:Tool {model_number: $product_id})\\n        OPTIONAL MATCH (t)-[:BELONGS_TO]->(c:Category)\\n        OPTIONAL MATCH (t)-[:HAS_SPECIFICATION]->(s:Specification)\\n        OPTIONAL MATCH (s)-[:HAS_UNIT]->(u:Unit)\\n        OPTIONAL MATCH (t)-[:COMPATIBLE_WITH]->(a:Accessory)\\n        OPTIONAL MATCH (t)-[:INCLUDES]->(i:IncludedItem)\\n        OPTIONAL MATCH (t)-[:HAS_LIMITATION]->(l:Limitation)\\n        RETURN t, c, collect(DISTINCT {spec: s, unit: u}) as specs,\\n               collect(DISTINCT a) as accessories,\\n               collect(DISTINCT i) as included_items,\\n               collect(DISTINCT l) as limitations\\n        '\n"
          ]
        },
        {
          "output_type": "stream",
          "name": "stdout",
          "text": [
            "Processing review 41/100...\n"
          ]
        },
        {
          "output_type": "stream",
          "name": "stderr",
          "text": [
            "WARNING:neo4j.notifications:Received notification from DBMS server: {severity: WARNING} {code: Neo.ClientNotification.Statement.AggregationSkippedNull} {category: UNRECOGNIZED} {title: The query contains an aggregation function that skips null values.} {description: null value eliminated in set function.} {position: None} for query: '\\n        MATCH (t:Tool {model_number: $product_id})\\n        OPTIONAL MATCH (t)-[:BELONGS_TO]->(c:Category)\\n        OPTIONAL MATCH (t)-[:HAS_SPECIFICATION]->(s:Specification)\\n        OPTIONAL MATCH (s)-[:HAS_UNIT]->(u:Unit)\\n        OPTIONAL MATCH (t)-[:COMPATIBLE_WITH]->(a:Accessory)\\n        OPTIONAL MATCH (t)-[:INCLUDES]->(i:IncludedItem)\\n        OPTIONAL MATCH (t)-[:HAS_LIMITATION]->(l:Limitation)\\n        RETURN t, c, collect(DISTINCT {spec: s, unit: u}) as specs,\\n               collect(DISTINCT a) as accessories,\\n               collect(DISTINCT i) as included_items,\\n               collect(DISTINCT l) as limitations\\n        '\n"
          ]
        },
        {
          "output_type": "stream",
          "name": "stdout",
          "text": [
            "Processing review 42/100...\n"
          ]
        },
        {
          "output_type": "stream",
          "name": "stderr",
          "text": [
            "WARNING:neo4j.notifications:Received notification from DBMS server: {severity: WARNING} {code: Neo.ClientNotification.Statement.AggregationSkippedNull} {category: UNRECOGNIZED} {title: The query contains an aggregation function that skips null values.} {description: null value eliminated in set function.} {position: None} for query: '\\n        MATCH (t:Tool {model_number: $product_id})\\n        OPTIONAL MATCH (t)-[:BELONGS_TO]->(c:Category)\\n        OPTIONAL MATCH (t)-[:HAS_SPECIFICATION]->(s:Specification)\\n        OPTIONAL MATCH (s)-[:HAS_UNIT]->(u:Unit)\\n        OPTIONAL MATCH (t)-[:COMPATIBLE_WITH]->(a:Accessory)\\n        OPTIONAL MATCH (t)-[:INCLUDES]->(i:IncludedItem)\\n        OPTIONAL MATCH (t)-[:HAS_LIMITATION]->(l:Limitation)\\n        RETURN t, c, collect(DISTINCT {spec: s, unit: u}) as specs,\\n               collect(DISTINCT a) as accessories,\\n               collect(DISTINCT i) as included_items,\\n               collect(DISTINCT l) as limitations\\n        '\n"
          ]
        },
        {
          "output_type": "stream",
          "name": "stdout",
          "text": [
            "Processing review 43/100...\n"
          ]
        },
        {
          "output_type": "stream",
          "name": "stderr",
          "text": [
            "WARNING:neo4j.notifications:Received notification from DBMS server: {severity: WARNING} {code: Neo.ClientNotification.Statement.AggregationSkippedNull} {category: UNRECOGNIZED} {title: The query contains an aggregation function that skips null values.} {description: null value eliminated in set function.} {position: None} for query: '\\n        MATCH (t:Tool {model_number: $product_id})\\n        OPTIONAL MATCH (t)-[:BELONGS_TO]->(c:Category)\\n        OPTIONAL MATCH (t)-[:HAS_SPECIFICATION]->(s:Specification)\\n        OPTIONAL MATCH (s)-[:HAS_UNIT]->(u:Unit)\\n        OPTIONAL MATCH (t)-[:COMPATIBLE_WITH]->(a:Accessory)\\n        OPTIONAL MATCH (t)-[:INCLUDES]->(i:IncludedItem)\\n        OPTIONAL MATCH (t)-[:HAS_LIMITATION]->(l:Limitation)\\n        RETURN t, c, collect(DISTINCT {spec: s, unit: u}) as specs,\\n               collect(DISTINCT a) as accessories,\\n               collect(DISTINCT i) as included_items,\\n               collect(DISTINCT l) as limitations\\n        '\n"
          ]
        },
        {
          "output_type": "stream",
          "name": "stdout",
          "text": [
            "Processing review 44/100...\n"
          ]
        },
        {
          "output_type": "stream",
          "name": "stderr",
          "text": [
            "WARNING:neo4j.notifications:Received notification from DBMS server: {severity: WARNING} {code: Neo.ClientNotification.Statement.AggregationSkippedNull} {category: UNRECOGNIZED} {title: The query contains an aggregation function that skips null values.} {description: null value eliminated in set function.} {position: None} for query: '\\n        MATCH (t:Tool {model_number: $product_id})\\n        OPTIONAL MATCH (t)-[:BELONGS_TO]->(c:Category)\\n        OPTIONAL MATCH (t)-[:HAS_SPECIFICATION]->(s:Specification)\\n        OPTIONAL MATCH (s)-[:HAS_UNIT]->(u:Unit)\\n        OPTIONAL MATCH (t)-[:COMPATIBLE_WITH]->(a:Accessory)\\n        OPTIONAL MATCH (t)-[:INCLUDES]->(i:IncludedItem)\\n        OPTIONAL MATCH (t)-[:HAS_LIMITATION]->(l:Limitation)\\n        RETURN t, c, collect(DISTINCT {spec: s, unit: u}) as specs,\\n               collect(DISTINCT a) as accessories,\\n               collect(DISTINCT i) as included_items,\\n               collect(DISTINCT l) as limitations\\n        '\n"
          ]
        },
        {
          "output_type": "stream",
          "name": "stdout",
          "text": [
            "Processing review 45/100...\n"
          ]
        },
        {
          "output_type": "stream",
          "name": "stderr",
          "text": [
            "WARNING:neo4j.notifications:Received notification from DBMS server: {severity: WARNING} {code: Neo.ClientNotification.Statement.AggregationSkippedNull} {category: UNRECOGNIZED} {title: The query contains an aggregation function that skips null values.} {description: null value eliminated in set function.} {position: None} for query: '\\n        MATCH (t:Tool {model_number: $product_id})\\n        OPTIONAL MATCH (t)-[:BELONGS_TO]->(c:Category)\\n        OPTIONAL MATCH (t)-[:HAS_SPECIFICATION]->(s:Specification)\\n        OPTIONAL MATCH (s)-[:HAS_UNIT]->(u:Unit)\\n        OPTIONAL MATCH (t)-[:COMPATIBLE_WITH]->(a:Accessory)\\n        OPTIONAL MATCH (t)-[:INCLUDES]->(i:IncludedItem)\\n        OPTIONAL MATCH (t)-[:HAS_LIMITATION]->(l:Limitation)\\n        RETURN t, c, collect(DISTINCT {spec: s, unit: u}) as specs,\\n               collect(DISTINCT a) as accessories,\\n               collect(DISTINCT i) as included_items,\\n               collect(DISTINCT l) as limitations\\n        '\n"
          ]
        },
        {
          "output_type": "stream",
          "name": "stdout",
          "text": [
            "Processing review 46/100...\n"
          ]
        },
        {
          "output_type": "stream",
          "name": "stderr",
          "text": [
            "WARNING:neo4j.notifications:Received notification from DBMS server: {severity: WARNING} {code: Neo.ClientNotification.Statement.AggregationSkippedNull} {category: UNRECOGNIZED} {title: The query contains an aggregation function that skips null values.} {description: null value eliminated in set function.} {position: None} for query: '\\n        MATCH (t:Tool {model_number: $product_id})\\n        OPTIONAL MATCH (t)-[:BELONGS_TO]->(c:Category)\\n        OPTIONAL MATCH (t)-[:HAS_SPECIFICATION]->(s:Specification)\\n        OPTIONAL MATCH (s)-[:HAS_UNIT]->(u:Unit)\\n        OPTIONAL MATCH (t)-[:COMPATIBLE_WITH]->(a:Accessory)\\n        OPTIONAL MATCH (t)-[:INCLUDES]->(i:IncludedItem)\\n        OPTIONAL MATCH (t)-[:HAS_LIMITATION]->(l:Limitation)\\n        RETURN t, c, collect(DISTINCT {spec: s, unit: u}) as specs,\\n               collect(DISTINCT a) as accessories,\\n               collect(DISTINCT i) as included_items,\\n               collect(DISTINCT l) as limitations\\n        '\n"
          ]
        },
        {
          "output_type": "stream",
          "name": "stdout",
          "text": [
            "Processing review 47/100...\n"
          ]
        },
        {
          "output_type": "stream",
          "name": "stderr",
          "text": [
            "WARNING:neo4j.notifications:Received notification from DBMS server: {severity: WARNING} {code: Neo.ClientNotification.Statement.AggregationSkippedNull} {category: UNRECOGNIZED} {title: The query contains an aggregation function that skips null values.} {description: null value eliminated in set function.} {position: None} for query: '\\n        MATCH (t:Tool {model_number: $product_id})\\n        OPTIONAL MATCH (t)-[:BELONGS_TO]->(c:Category)\\n        OPTIONAL MATCH (t)-[:HAS_SPECIFICATION]->(s:Specification)\\n        OPTIONAL MATCH (s)-[:HAS_UNIT]->(u:Unit)\\n        OPTIONAL MATCH (t)-[:COMPATIBLE_WITH]->(a:Accessory)\\n        OPTIONAL MATCH (t)-[:INCLUDES]->(i:IncludedItem)\\n        OPTIONAL MATCH (t)-[:HAS_LIMITATION]->(l:Limitation)\\n        RETURN t, c, collect(DISTINCT {spec: s, unit: u}) as specs,\\n               collect(DISTINCT a) as accessories,\\n               collect(DISTINCT i) as included_items,\\n               collect(DISTINCT l) as limitations\\n        '\n"
          ]
        },
        {
          "output_type": "stream",
          "name": "stdout",
          "text": [
            "Processing review 48/100...\n"
          ]
        },
        {
          "output_type": "stream",
          "name": "stderr",
          "text": [
            "WARNING:neo4j.notifications:Received notification from DBMS server: {severity: WARNING} {code: Neo.ClientNotification.Statement.AggregationSkippedNull} {category: UNRECOGNIZED} {title: The query contains an aggregation function that skips null values.} {description: null value eliminated in set function.} {position: None} for query: '\\n        MATCH (t:Tool {model_number: $product_id})\\n        OPTIONAL MATCH (t)-[:BELONGS_TO]->(c:Category)\\n        OPTIONAL MATCH (t)-[:HAS_SPECIFICATION]->(s:Specification)\\n        OPTIONAL MATCH (s)-[:HAS_UNIT]->(u:Unit)\\n        OPTIONAL MATCH (t)-[:COMPATIBLE_WITH]->(a:Accessory)\\n        OPTIONAL MATCH (t)-[:INCLUDES]->(i:IncludedItem)\\n        OPTIONAL MATCH (t)-[:HAS_LIMITATION]->(l:Limitation)\\n        RETURN t, c, collect(DISTINCT {spec: s, unit: u}) as specs,\\n               collect(DISTINCT a) as accessories,\\n               collect(DISTINCT i) as included_items,\\n               collect(DISTINCT l) as limitations\\n        '\n"
          ]
        },
        {
          "output_type": "stream",
          "name": "stdout",
          "text": [
            "Processing review 49/100...\n"
          ]
        },
        {
          "output_type": "stream",
          "name": "stderr",
          "text": [
            "WARNING:neo4j.notifications:Received notification from DBMS server: {severity: WARNING} {code: Neo.ClientNotification.Statement.AggregationSkippedNull} {category: UNRECOGNIZED} {title: The query contains an aggregation function that skips null values.} {description: null value eliminated in set function.} {position: None} for query: '\\n        MATCH (t:Tool {model_number: $product_id})\\n        OPTIONAL MATCH (t)-[:BELONGS_TO]->(c:Category)\\n        OPTIONAL MATCH (t)-[:HAS_SPECIFICATION]->(s:Specification)\\n        OPTIONAL MATCH (s)-[:HAS_UNIT]->(u:Unit)\\n        OPTIONAL MATCH (t)-[:COMPATIBLE_WITH]->(a:Accessory)\\n        OPTIONAL MATCH (t)-[:INCLUDES]->(i:IncludedItem)\\n        OPTIONAL MATCH (t)-[:HAS_LIMITATION]->(l:Limitation)\\n        RETURN t, c, collect(DISTINCT {spec: s, unit: u}) as specs,\\n               collect(DISTINCT a) as accessories,\\n               collect(DISTINCT i) as included_items,\\n               collect(DISTINCT l) as limitations\\n        '\n"
          ]
        },
        {
          "output_type": "stream",
          "name": "stdout",
          "text": [
            "Processing review 50/100...\n"
          ]
        },
        {
          "output_type": "stream",
          "name": "stderr",
          "text": [
            "WARNING:neo4j.notifications:Received notification from DBMS server: {severity: WARNING} {code: Neo.ClientNotification.Statement.AggregationSkippedNull} {category: UNRECOGNIZED} {title: The query contains an aggregation function that skips null values.} {description: null value eliminated in set function.} {position: None} for query: '\\n        MATCH (t:Tool {model_number: $product_id})\\n        OPTIONAL MATCH (t)-[:BELONGS_TO]->(c:Category)\\n        OPTIONAL MATCH (t)-[:HAS_SPECIFICATION]->(s:Specification)\\n        OPTIONAL MATCH (s)-[:HAS_UNIT]->(u:Unit)\\n        OPTIONAL MATCH (t)-[:COMPATIBLE_WITH]->(a:Accessory)\\n        OPTIONAL MATCH (t)-[:INCLUDES]->(i:IncludedItem)\\n        OPTIONAL MATCH (t)-[:HAS_LIMITATION]->(l:Limitation)\\n        RETURN t, c, collect(DISTINCT {spec: s, unit: u}) as specs,\\n               collect(DISTINCT a) as accessories,\\n               collect(DISTINCT i) as included_items,\\n               collect(DISTINCT l) as limitations\\n        '\n"
          ]
        },
        {
          "output_type": "stream",
          "name": "stdout",
          "text": [
            "Processing review 51/100...\n"
          ]
        },
        {
          "output_type": "stream",
          "name": "stderr",
          "text": [
            "WARNING:neo4j.notifications:Received notification from DBMS server: {severity: WARNING} {code: Neo.ClientNotification.Statement.AggregationSkippedNull} {category: UNRECOGNIZED} {title: The query contains an aggregation function that skips null values.} {description: null value eliminated in set function.} {position: None} for query: '\\n        MATCH (t:Tool {model_number: $product_id})\\n        OPTIONAL MATCH (t)-[:BELONGS_TO]->(c:Category)\\n        OPTIONAL MATCH (t)-[:HAS_SPECIFICATION]->(s:Specification)\\n        OPTIONAL MATCH (s)-[:HAS_UNIT]->(u:Unit)\\n        OPTIONAL MATCH (t)-[:COMPATIBLE_WITH]->(a:Accessory)\\n        OPTIONAL MATCH (t)-[:INCLUDES]->(i:IncludedItem)\\n        OPTIONAL MATCH (t)-[:HAS_LIMITATION]->(l:Limitation)\\n        RETURN t, c, collect(DISTINCT {spec: s, unit: u}) as specs,\\n               collect(DISTINCT a) as accessories,\\n               collect(DISTINCT i) as included_items,\\n               collect(DISTINCT l) as limitations\\n        '\n"
          ]
        },
        {
          "output_type": "stream",
          "name": "stdout",
          "text": [
            "Processing review 52/100...\n"
          ]
        },
        {
          "output_type": "stream",
          "name": "stderr",
          "text": [
            "WARNING:neo4j.notifications:Received notification from DBMS server: {severity: WARNING} {code: Neo.ClientNotification.Statement.AggregationSkippedNull} {category: UNRECOGNIZED} {title: The query contains an aggregation function that skips null values.} {description: null value eliminated in set function.} {position: None} for query: '\\n        MATCH (t:Tool {model_number: $product_id})\\n        OPTIONAL MATCH (t)-[:BELONGS_TO]->(c:Category)\\n        OPTIONAL MATCH (t)-[:HAS_SPECIFICATION]->(s:Specification)\\n        OPTIONAL MATCH (s)-[:HAS_UNIT]->(u:Unit)\\n        OPTIONAL MATCH (t)-[:COMPATIBLE_WITH]->(a:Accessory)\\n        OPTIONAL MATCH (t)-[:INCLUDES]->(i:IncludedItem)\\n        OPTIONAL MATCH (t)-[:HAS_LIMITATION]->(l:Limitation)\\n        RETURN t, c, collect(DISTINCT {spec: s, unit: u}) as specs,\\n               collect(DISTINCT a) as accessories,\\n               collect(DISTINCT i) as included_items,\\n               collect(DISTINCT l) as limitations\\n        '\n"
          ]
        },
        {
          "output_type": "stream",
          "name": "stdout",
          "text": [
            "Processing review 53/100...\n"
          ]
        },
        {
          "output_type": "stream",
          "name": "stderr",
          "text": [
            "WARNING:neo4j.notifications:Received notification from DBMS server: {severity: WARNING} {code: Neo.ClientNotification.Statement.AggregationSkippedNull} {category: UNRECOGNIZED} {title: The query contains an aggregation function that skips null values.} {description: null value eliminated in set function.} {position: None} for query: '\\n        MATCH (t:Tool {model_number: $product_id})\\n        OPTIONAL MATCH (t)-[:BELONGS_TO]->(c:Category)\\n        OPTIONAL MATCH (t)-[:HAS_SPECIFICATION]->(s:Specification)\\n        OPTIONAL MATCH (s)-[:HAS_UNIT]->(u:Unit)\\n        OPTIONAL MATCH (t)-[:COMPATIBLE_WITH]->(a:Accessory)\\n        OPTIONAL MATCH (t)-[:INCLUDES]->(i:IncludedItem)\\n        OPTIONAL MATCH (t)-[:HAS_LIMITATION]->(l:Limitation)\\n        RETURN t, c, collect(DISTINCT {spec: s, unit: u}) as specs,\\n               collect(DISTINCT a) as accessories,\\n               collect(DISTINCT i) as included_items,\\n               collect(DISTINCT l) as limitations\\n        '\n"
          ]
        },
        {
          "output_type": "stream",
          "name": "stdout",
          "text": [
            "Processing review 54/100...\n"
          ]
        },
        {
          "output_type": "stream",
          "name": "stderr",
          "text": [
            "WARNING:neo4j.notifications:Received notification from DBMS server: {severity: WARNING} {code: Neo.ClientNotification.Statement.AggregationSkippedNull} {category: UNRECOGNIZED} {title: The query contains an aggregation function that skips null values.} {description: null value eliminated in set function.} {position: None} for query: '\\n        MATCH (t:Tool {model_number: $product_id})\\n        OPTIONAL MATCH (t)-[:BELONGS_TO]->(c:Category)\\n        OPTIONAL MATCH (t)-[:HAS_SPECIFICATION]->(s:Specification)\\n        OPTIONAL MATCH (s)-[:HAS_UNIT]->(u:Unit)\\n        OPTIONAL MATCH (t)-[:COMPATIBLE_WITH]->(a:Accessory)\\n        OPTIONAL MATCH (t)-[:INCLUDES]->(i:IncludedItem)\\n        OPTIONAL MATCH (t)-[:HAS_LIMITATION]->(l:Limitation)\\n        RETURN t, c, collect(DISTINCT {spec: s, unit: u}) as specs,\\n               collect(DISTINCT a) as accessories,\\n               collect(DISTINCT i) as included_items,\\n               collect(DISTINCT l) as limitations\\n        '\n"
          ]
        },
        {
          "output_type": "stream",
          "name": "stdout",
          "text": [
            "Processing review 55/100...\n"
          ]
        },
        {
          "output_type": "stream",
          "name": "stderr",
          "text": [
            "WARNING:neo4j.notifications:Received notification from DBMS server: {severity: WARNING} {code: Neo.ClientNotification.Statement.AggregationSkippedNull} {category: UNRECOGNIZED} {title: The query contains an aggregation function that skips null values.} {description: null value eliminated in set function.} {position: None} for query: '\\n        MATCH (t:Tool {model_number: $product_id})\\n        OPTIONAL MATCH (t)-[:BELONGS_TO]->(c:Category)\\n        OPTIONAL MATCH (t)-[:HAS_SPECIFICATION]->(s:Specification)\\n        OPTIONAL MATCH (s)-[:HAS_UNIT]->(u:Unit)\\n        OPTIONAL MATCH (t)-[:COMPATIBLE_WITH]->(a:Accessory)\\n        OPTIONAL MATCH (t)-[:INCLUDES]->(i:IncludedItem)\\n        OPTIONAL MATCH (t)-[:HAS_LIMITATION]->(l:Limitation)\\n        RETURN t, c, collect(DISTINCT {spec: s, unit: u}) as specs,\\n               collect(DISTINCT a) as accessories,\\n               collect(DISTINCT i) as included_items,\\n               collect(DISTINCT l) as limitations\\n        '\n"
          ]
        },
        {
          "output_type": "stream",
          "name": "stdout",
          "text": [
            "Processing review 56/100...\n"
          ]
        },
        {
          "output_type": "stream",
          "name": "stderr",
          "text": [
            "WARNING:neo4j.notifications:Received notification from DBMS server: {severity: WARNING} {code: Neo.ClientNotification.Statement.AggregationSkippedNull} {category: UNRECOGNIZED} {title: The query contains an aggregation function that skips null values.} {description: null value eliminated in set function.} {position: None} for query: '\\n        MATCH (t:Tool {model_number: $product_id})\\n        OPTIONAL MATCH (t)-[:BELONGS_TO]->(c:Category)\\n        OPTIONAL MATCH (t)-[:HAS_SPECIFICATION]->(s:Specification)\\n        OPTIONAL MATCH (s)-[:HAS_UNIT]->(u:Unit)\\n        OPTIONAL MATCH (t)-[:COMPATIBLE_WITH]->(a:Accessory)\\n        OPTIONAL MATCH (t)-[:INCLUDES]->(i:IncludedItem)\\n        OPTIONAL MATCH (t)-[:HAS_LIMITATION]->(l:Limitation)\\n        RETURN t, c, collect(DISTINCT {spec: s, unit: u}) as specs,\\n               collect(DISTINCT a) as accessories,\\n               collect(DISTINCT i) as included_items,\\n               collect(DISTINCT l) as limitations\\n        '\n"
          ]
        },
        {
          "output_type": "stream",
          "name": "stdout",
          "text": [
            "Processing review 57/100...\n"
          ]
        },
        {
          "output_type": "stream",
          "name": "stderr",
          "text": [
            "WARNING:neo4j.notifications:Received notification from DBMS server: {severity: WARNING} {code: Neo.ClientNotification.Statement.AggregationSkippedNull} {category: UNRECOGNIZED} {title: The query contains an aggregation function that skips null values.} {description: null value eliminated in set function.} {position: None} for query: '\\n        MATCH (t:Tool {model_number: $product_id})\\n        OPTIONAL MATCH (t)-[:BELONGS_TO]->(c:Category)\\n        OPTIONAL MATCH (t)-[:HAS_SPECIFICATION]->(s:Specification)\\n        OPTIONAL MATCH (s)-[:HAS_UNIT]->(u:Unit)\\n        OPTIONAL MATCH (t)-[:COMPATIBLE_WITH]->(a:Accessory)\\n        OPTIONAL MATCH (t)-[:INCLUDES]->(i:IncludedItem)\\n        OPTIONAL MATCH (t)-[:HAS_LIMITATION]->(l:Limitation)\\n        RETURN t, c, collect(DISTINCT {spec: s, unit: u}) as specs,\\n               collect(DISTINCT a) as accessories,\\n               collect(DISTINCT i) as included_items,\\n               collect(DISTINCT l) as limitations\\n        '\n"
          ]
        },
        {
          "output_type": "stream",
          "name": "stdout",
          "text": [
            "Processing review 58/100...\n"
          ]
        },
        {
          "output_type": "stream",
          "name": "stderr",
          "text": [
            "WARNING:neo4j.notifications:Received notification from DBMS server: {severity: WARNING} {code: Neo.ClientNotification.Statement.AggregationSkippedNull} {category: UNRECOGNIZED} {title: The query contains an aggregation function that skips null values.} {description: null value eliminated in set function.} {position: None} for query: '\\n        MATCH (t:Tool {model_number: $product_id})\\n        OPTIONAL MATCH (t)-[:BELONGS_TO]->(c:Category)\\n        OPTIONAL MATCH (t)-[:HAS_SPECIFICATION]->(s:Specification)\\n        OPTIONAL MATCH (s)-[:HAS_UNIT]->(u:Unit)\\n        OPTIONAL MATCH (t)-[:COMPATIBLE_WITH]->(a:Accessory)\\n        OPTIONAL MATCH (t)-[:INCLUDES]->(i:IncludedItem)\\n        OPTIONAL MATCH (t)-[:HAS_LIMITATION]->(l:Limitation)\\n        RETURN t, c, collect(DISTINCT {spec: s, unit: u}) as specs,\\n               collect(DISTINCT a) as accessories,\\n               collect(DISTINCT i) as included_items,\\n               collect(DISTINCT l) as limitations\\n        '\n"
          ]
        },
        {
          "output_type": "stream",
          "name": "stdout",
          "text": [
            "Processing review 59/100...\n"
          ]
        },
        {
          "output_type": "stream",
          "name": "stderr",
          "text": [
            "WARNING:neo4j.notifications:Received notification from DBMS server: {severity: WARNING} {code: Neo.ClientNotification.Statement.AggregationSkippedNull} {category: UNRECOGNIZED} {title: The query contains an aggregation function that skips null values.} {description: null value eliminated in set function.} {position: None} for query: '\\n        MATCH (t:Tool {model_number: $product_id})\\n        OPTIONAL MATCH (t)-[:BELONGS_TO]->(c:Category)\\n        OPTIONAL MATCH (t)-[:HAS_SPECIFICATION]->(s:Specification)\\n        OPTIONAL MATCH (s)-[:HAS_UNIT]->(u:Unit)\\n        OPTIONAL MATCH (t)-[:COMPATIBLE_WITH]->(a:Accessory)\\n        OPTIONAL MATCH (t)-[:INCLUDES]->(i:IncludedItem)\\n        OPTIONAL MATCH (t)-[:HAS_LIMITATION]->(l:Limitation)\\n        RETURN t, c, collect(DISTINCT {spec: s, unit: u}) as specs,\\n               collect(DISTINCT a) as accessories,\\n               collect(DISTINCT i) as included_items,\\n               collect(DISTINCT l) as limitations\\n        '\n"
          ]
        },
        {
          "output_type": "stream",
          "name": "stdout",
          "text": [
            "Processing review 60/100...\n"
          ]
        },
        {
          "output_type": "stream",
          "name": "stderr",
          "text": [
            "WARNING:neo4j.notifications:Received notification from DBMS server: {severity: WARNING} {code: Neo.ClientNotification.Statement.AggregationSkippedNull} {category: UNRECOGNIZED} {title: The query contains an aggregation function that skips null values.} {description: null value eliminated in set function.} {position: None} for query: '\\n        MATCH (t:Tool {model_number: $product_id})\\n        OPTIONAL MATCH (t)-[:BELONGS_TO]->(c:Category)\\n        OPTIONAL MATCH (t)-[:HAS_SPECIFICATION]->(s:Specification)\\n        OPTIONAL MATCH (s)-[:HAS_UNIT]->(u:Unit)\\n        OPTIONAL MATCH (t)-[:COMPATIBLE_WITH]->(a:Accessory)\\n        OPTIONAL MATCH (t)-[:INCLUDES]->(i:IncludedItem)\\n        OPTIONAL MATCH (t)-[:HAS_LIMITATION]->(l:Limitation)\\n        RETURN t, c, collect(DISTINCT {spec: s, unit: u}) as specs,\\n               collect(DISTINCT a) as accessories,\\n               collect(DISTINCT i) as included_items,\\n               collect(DISTINCT l) as limitations\\n        '\n"
          ]
        },
        {
          "output_type": "stream",
          "name": "stdout",
          "text": [
            "Processing review 61/100...\n"
          ]
        },
        {
          "output_type": "stream",
          "name": "stderr",
          "text": [
            "WARNING:neo4j.notifications:Received notification from DBMS server: {severity: WARNING} {code: Neo.ClientNotification.Statement.AggregationSkippedNull} {category: UNRECOGNIZED} {title: The query contains an aggregation function that skips null values.} {description: null value eliminated in set function.} {position: None} for query: '\\n        MATCH (t:Tool {model_number: $product_id})\\n        OPTIONAL MATCH (t)-[:BELONGS_TO]->(c:Category)\\n        OPTIONAL MATCH (t)-[:HAS_SPECIFICATION]->(s:Specification)\\n        OPTIONAL MATCH (s)-[:HAS_UNIT]->(u:Unit)\\n        OPTIONAL MATCH (t)-[:COMPATIBLE_WITH]->(a:Accessory)\\n        OPTIONAL MATCH (t)-[:INCLUDES]->(i:IncludedItem)\\n        OPTIONAL MATCH (t)-[:HAS_LIMITATION]->(l:Limitation)\\n        RETURN t, c, collect(DISTINCT {spec: s, unit: u}) as specs,\\n               collect(DISTINCT a) as accessories,\\n               collect(DISTINCT i) as included_items,\\n               collect(DISTINCT l) as limitations\\n        '\n"
          ]
        },
        {
          "output_type": "stream",
          "name": "stdout",
          "text": [
            "Processing review 62/100...\n"
          ]
        },
        {
          "output_type": "stream",
          "name": "stderr",
          "text": [
            "WARNING:neo4j.notifications:Received notification from DBMS server: {severity: WARNING} {code: Neo.ClientNotification.Statement.AggregationSkippedNull} {category: UNRECOGNIZED} {title: The query contains an aggregation function that skips null values.} {description: null value eliminated in set function.} {position: None} for query: '\\n        MATCH (t:Tool {model_number: $product_id})\\n        OPTIONAL MATCH (t)-[:BELONGS_TO]->(c:Category)\\n        OPTIONAL MATCH (t)-[:HAS_SPECIFICATION]->(s:Specification)\\n        OPTIONAL MATCH (s)-[:HAS_UNIT]->(u:Unit)\\n        OPTIONAL MATCH (t)-[:COMPATIBLE_WITH]->(a:Accessory)\\n        OPTIONAL MATCH (t)-[:INCLUDES]->(i:IncludedItem)\\n        OPTIONAL MATCH (t)-[:HAS_LIMITATION]->(l:Limitation)\\n        RETURN t, c, collect(DISTINCT {spec: s, unit: u}) as specs,\\n               collect(DISTINCT a) as accessories,\\n               collect(DISTINCT i) as included_items,\\n               collect(DISTINCT l) as limitations\\n        '\n"
          ]
        },
        {
          "output_type": "stream",
          "name": "stdout",
          "text": [
            "Processing review 63/100...\n"
          ]
        },
        {
          "output_type": "stream",
          "name": "stderr",
          "text": [
            "WARNING:neo4j.notifications:Received notification from DBMS server: {severity: WARNING} {code: Neo.ClientNotification.Statement.AggregationSkippedNull} {category: UNRECOGNIZED} {title: The query contains an aggregation function that skips null values.} {description: null value eliminated in set function.} {position: None} for query: '\\n        MATCH (t:Tool {model_number: $product_id})\\n        OPTIONAL MATCH (t)-[:BELONGS_TO]->(c:Category)\\n        OPTIONAL MATCH (t)-[:HAS_SPECIFICATION]->(s:Specification)\\n        OPTIONAL MATCH (s)-[:HAS_UNIT]->(u:Unit)\\n        OPTIONAL MATCH (t)-[:COMPATIBLE_WITH]->(a:Accessory)\\n        OPTIONAL MATCH (t)-[:INCLUDES]->(i:IncludedItem)\\n        OPTIONAL MATCH (t)-[:HAS_LIMITATION]->(l:Limitation)\\n        RETURN t, c, collect(DISTINCT {spec: s, unit: u}) as specs,\\n               collect(DISTINCT a) as accessories,\\n               collect(DISTINCT i) as included_items,\\n               collect(DISTINCT l) as limitations\\n        '\n"
          ]
        },
        {
          "output_type": "stream",
          "name": "stdout",
          "text": [
            "Processing review 64/100...\n"
          ]
        },
        {
          "output_type": "stream",
          "name": "stderr",
          "text": [
            "WARNING:neo4j.notifications:Received notification from DBMS server: {severity: WARNING} {code: Neo.ClientNotification.Statement.AggregationSkippedNull} {category: UNRECOGNIZED} {title: The query contains an aggregation function that skips null values.} {description: null value eliminated in set function.} {position: None} for query: '\\n        MATCH (t:Tool {model_number: $product_id})\\n        OPTIONAL MATCH (t)-[:BELONGS_TO]->(c:Category)\\n        OPTIONAL MATCH (t)-[:HAS_SPECIFICATION]->(s:Specification)\\n        OPTIONAL MATCH (s)-[:HAS_UNIT]->(u:Unit)\\n        OPTIONAL MATCH (t)-[:COMPATIBLE_WITH]->(a:Accessory)\\n        OPTIONAL MATCH (t)-[:INCLUDES]->(i:IncludedItem)\\n        OPTIONAL MATCH (t)-[:HAS_LIMITATION]->(l:Limitation)\\n        RETURN t, c, collect(DISTINCT {spec: s, unit: u}) as specs,\\n               collect(DISTINCT a) as accessories,\\n               collect(DISTINCT i) as included_items,\\n               collect(DISTINCT l) as limitations\\n        '\n"
          ]
        },
        {
          "output_type": "stream",
          "name": "stdout",
          "text": [
            "Processing review 65/100...\n"
          ]
        },
        {
          "output_type": "stream",
          "name": "stderr",
          "text": [
            "WARNING:neo4j.notifications:Received notification from DBMS server: {severity: WARNING} {code: Neo.ClientNotification.Statement.AggregationSkippedNull} {category: UNRECOGNIZED} {title: The query contains an aggregation function that skips null values.} {description: null value eliminated in set function.} {position: None} for query: '\\n        MATCH (t:Tool {model_number: $product_id})\\n        OPTIONAL MATCH (t)-[:BELONGS_TO]->(c:Category)\\n        OPTIONAL MATCH (t)-[:HAS_SPECIFICATION]->(s:Specification)\\n        OPTIONAL MATCH (s)-[:HAS_UNIT]->(u:Unit)\\n        OPTIONAL MATCH (t)-[:COMPATIBLE_WITH]->(a:Accessory)\\n        OPTIONAL MATCH (t)-[:INCLUDES]->(i:IncludedItem)\\n        OPTIONAL MATCH (t)-[:HAS_LIMITATION]->(l:Limitation)\\n        RETURN t, c, collect(DISTINCT {spec: s, unit: u}) as specs,\\n               collect(DISTINCT a) as accessories,\\n               collect(DISTINCT i) as included_items,\\n               collect(DISTINCT l) as limitations\\n        '\n"
          ]
        },
        {
          "output_type": "stream",
          "name": "stdout",
          "text": [
            "Processing review 66/100...\n"
          ]
        },
        {
          "output_type": "stream",
          "name": "stderr",
          "text": [
            "WARNING:neo4j.notifications:Received notification from DBMS server: {severity: WARNING} {code: Neo.ClientNotification.Statement.AggregationSkippedNull} {category: UNRECOGNIZED} {title: The query contains an aggregation function that skips null values.} {description: null value eliminated in set function.} {position: None} for query: '\\n        MATCH (t:Tool {model_number: $product_id})\\n        OPTIONAL MATCH (t)-[:BELONGS_TO]->(c:Category)\\n        OPTIONAL MATCH (t)-[:HAS_SPECIFICATION]->(s:Specification)\\n        OPTIONAL MATCH (s)-[:HAS_UNIT]->(u:Unit)\\n        OPTIONAL MATCH (t)-[:COMPATIBLE_WITH]->(a:Accessory)\\n        OPTIONAL MATCH (t)-[:INCLUDES]->(i:IncludedItem)\\n        OPTIONAL MATCH (t)-[:HAS_LIMITATION]->(l:Limitation)\\n        RETURN t, c, collect(DISTINCT {spec: s, unit: u}) as specs,\\n               collect(DISTINCT a) as accessories,\\n               collect(DISTINCT i) as included_items,\\n               collect(DISTINCT l) as limitations\\n        '\n"
          ]
        },
        {
          "output_type": "stream",
          "name": "stdout",
          "text": [
            "Processing review 67/100...\n"
          ]
        },
        {
          "output_type": "stream",
          "name": "stderr",
          "text": [
            "WARNING:neo4j.notifications:Received notification from DBMS server: {severity: WARNING} {code: Neo.ClientNotification.Statement.AggregationSkippedNull} {category: UNRECOGNIZED} {title: The query contains an aggregation function that skips null values.} {description: null value eliminated in set function.} {position: None} for query: '\\n        MATCH (t:Tool {model_number: $product_id})\\n        OPTIONAL MATCH (t)-[:BELONGS_TO]->(c:Category)\\n        OPTIONAL MATCH (t)-[:HAS_SPECIFICATION]->(s:Specification)\\n        OPTIONAL MATCH (s)-[:HAS_UNIT]->(u:Unit)\\n        OPTIONAL MATCH (t)-[:COMPATIBLE_WITH]->(a:Accessory)\\n        OPTIONAL MATCH (t)-[:INCLUDES]->(i:IncludedItem)\\n        OPTIONAL MATCH (t)-[:HAS_LIMITATION]->(l:Limitation)\\n        RETURN t, c, collect(DISTINCT {spec: s, unit: u}) as specs,\\n               collect(DISTINCT a) as accessories,\\n               collect(DISTINCT i) as included_items,\\n               collect(DISTINCT l) as limitations\\n        '\n"
          ]
        },
        {
          "output_type": "stream",
          "name": "stdout",
          "text": [
            "Processing review 68/100...\n"
          ]
        },
        {
          "output_type": "stream",
          "name": "stderr",
          "text": [
            "WARNING:neo4j.notifications:Received notification from DBMS server: {severity: WARNING} {code: Neo.ClientNotification.Statement.AggregationSkippedNull} {category: UNRECOGNIZED} {title: The query contains an aggregation function that skips null values.} {description: null value eliminated in set function.} {position: None} for query: '\\n        MATCH (t:Tool {model_number: $product_id})\\n        OPTIONAL MATCH (t)-[:BELONGS_TO]->(c:Category)\\n        OPTIONAL MATCH (t)-[:HAS_SPECIFICATION]->(s:Specification)\\n        OPTIONAL MATCH (s)-[:HAS_UNIT]->(u:Unit)\\n        OPTIONAL MATCH (t)-[:COMPATIBLE_WITH]->(a:Accessory)\\n        OPTIONAL MATCH (t)-[:INCLUDES]->(i:IncludedItem)\\n        OPTIONAL MATCH (t)-[:HAS_LIMITATION]->(l:Limitation)\\n        RETURN t, c, collect(DISTINCT {spec: s, unit: u}) as specs,\\n               collect(DISTINCT a) as accessories,\\n               collect(DISTINCT i) as included_items,\\n               collect(DISTINCT l) as limitations\\n        '\n"
          ]
        },
        {
          "output_type": "stream",
          "name": "stdout",
          "text": [
            "Processing review 69/100...\n"
          ]
        },
        {
          "output_type": "stream",
          "name": "stderr",
          "text": [
            "WARNING:neo4j.notifications:Received notification from DBMS server: {severity: WARNING} {code: Neo.ClientNotification.Statement.AggregationSkippedNull} {category: UNRECOGNIZED} {title: The query contains an aggregation function that skips null values.} {description: null value eliminated in set function.} {position: None} for query: '\\n        MATCH (t:Tool {model_number: $product_id})\\n        OPTIONAL MATCH (t)-[:BELONGS_TO]->(c:Category)\\n        OPTIONAL MATCH (t)-[:HAS_SPECIFICATION]->(s:Specification)\\n        OPTIONAL MATCH (s)-[:HAS_UNIT]->(u:Unit)\\n        OPTIONAL MATCH (t)-[:COMPATIBLE_WITH]->(a:Accessory)\\n        OPTIONAL MATCH (t)-[:INCLUDES]->(i:IncludedItem)\\n        OPTIONAL MATCH (t)-[:HAS_LIMITATION]->(l:Limitation)\\n        RETURN t, c, collect(DISTINCT {spec: s, unit: u}) as specs,\\n               collect(DISTINCT a) as accessories,\\n               collect(DISTINCT i) as included_items,\\n               collect(DISTINCT l) as limitations\\n        '\n"
          ]
        },
        {
          "output_type": "stream",
          "name": "stdout",
          "text": [
            "Processing review 70/100...\n"
          ]
        },
        {
          "output_type": "stream",
          "name": "stderr",
          "text": [
            "WARNING:neo4j.notifications:Received notification from DBMS server: {severity: WARNING} {code: Neo.ClientNotification.Statement.AggregationSkippedNull} {category: UNRECOGNIZED} {title: The query contains an aggregation function that skips null values.} {description: null value eliminated in set function.} {position: None} for query: '\\n        MATCH (t:Tool {model_number: $product_id})\\n        OPTIONAL MATCH (t)-[:BELONGS_TO]->(c:Category)\\n        OPTIONAL MATCH (t)-[:HAS_SPECIFICATION]->(s:Specification)\\n        OPTIONAL MATCH (s)-[:HAS_UNIT]->(u:Unit)\\n        OPTIONAL MATCH (t)-[:COMPATIBLE_WITH]->(a:Accessory)\\n        OPTIONAL MATCH (t)-[:INCLUDES]->(i:IncludedItem)\\n        OPTIONAL MATCH (t)-[:HAS_LIMITATION]->(l:Limitation)\\n        RETURN t, c, collect(DISTINCT {spec: s, unit: u}) as specs,\\n               collect(DISTINCT a) as accessories,\\n               collect(DISTINCT i) as included_items,\\n               collect(DISTINCT l) as limitations\\n        '\n"
          ]
        },
        {
          "output_type": "stream",
          "name": "stdout",
          "text": [
            "Processing review 71/100...\n"
          ]
        },
        {
          "output_type": "stream",
          "name": "stderr",
          "text": [
            "WARNING:neo4j.notifications:Received notification from DBMS server: {severity: WARNING} {code: Neo.ClientNotification.Statement.AggregationSkippedNull} {category: UNRECOGNIZED} {title: The query contains an aggregation function that skips null values.} {description: null value eliminated in set function.} {position: None} for query: '\\n        MATCH (t:Tool {model_number: $product_id})\\n        OPTIONAL MATCH (t)-[:BELONGS_TO]->(c:Category)\\n        OPTIONAL MATCH (t)-[:HAS_SPECIFICATION]->(s:Specification)\\n        OPTIONAL MATCH (s)-[:HAS_UNIT]->(u:Unit)\\n        OPTIONAL MATCH (t)-[:COMPATIBLE_WITH]->(a:Accessory)\\n        OPTIONAL MATCH (t)-[:INCLUDES]->(i:IncludedItem)\\n        OPTIONAL MATCH (t)-[:HAS_LIMITATION]->(l:Limitation)\\n        RETURN t, c, collect(DISTINCT {spec: s, unit: u}) as specs,\\n               collect(DISTINCT a) as accessories,\\n               collect(DISTINCT i) as included_items,\\n               collect(DISTINCT l) as limitations\\n        '\n"
          ]
        },
        {
          "output_type": "stream",
          "name": "stdout",
          "text": [
            "Processing review 72/100...\n"
          ]
        },
        {
          "output_type": "stream",
          "name": "stderr",
          "text": [
            "WARNING:neo4j.notifications:Received notification from DBMS server: {severity: WARNING} {code: Neo.ClientNotification.Statement.AggregationSkippedNull} {category: UNRECOGNIZED} {title: The query contains an aggregation function that skips null values.} {description: null value eliminated in set function.} {position: None} for query: '\\n        MATCH (t:Tool {model_number: $product_id})\\n        OPTIONAL MATCH (t)-[:BELONGS_TO]->(c:Category)\\n        OPTIONAL MATCH (t)-[:HAS_SPECIFICATION]->(s:Specification)\\n        OPTIONAL MATCH (s)-[:HAS_UNIT]->(u:Unit)\\n        OPTIONAL MATCH (t)-[:COMPATIBLE_WITH]->(a:Accessory)\\n        OPTIONAL MATCH (t)-[:INCLUDES]->(i:IncludedItem)\\n        OPTIONAL MATCH (t)-[:HAS_LIMITATION]->(l:Limitation)\\n        RETURN t, c, collect(DISTINCT {spec: s, unit: u}) as specs,\\n               collect(DISTINCT a) as accessories,\\n               collect(DISTINCT i) as included_items,\\n               collect(DISTINCT l) as limitations\\n        '\n"
          ]
        },
        {
          "output_type": "stream",
          "name": "stdout",
          "text": [
            "Processing review 73/100...\n"
          ]
        },
        {
          "output_type": "stream",
          "name": "stderr",
          "text": [
            "WARNING:neo4j.notifications:Received notification from DBMS server: {severity: WARNING} {code: Neo.ClientNotification.Statement.AggregationSkippedNull} {category: UNRECOGNIZED} {title: The query contains an aggregation function that skips null values.} {description: null value eliminated in set function.} {position: None} for query: '\\n        MATCH (t:Tool {model_number: $product_id})\\n        OPTIONAL MATCH (t)-[:BELONGS_TO]->(c:Category)\\n        OPTIONAL MATCH (t)-[:HAS_SPECIFICATION]->(s:Specification)\\n        OPTIONAL MATCH (s)-[:HAS_UNIT]->(u:Unit)\\n        OPTIONAL MATCH (t)-[:COMPATIBLE_WITH]->(a:Accessory)\\n        OPTIONAL MATCH (t)-[:INCLUDES]->(i:IncludedItem)\\n        OPTIONAL MATCH (t)-[:HAS_LIMITATION]->(l:Limitation)\\n        RETURN t, c, collect(DISTINCT {spec: s, unit: u}) as specs,\\n               collect(DISTINCT a) as accessories,\\n               collect(DISTINCT i) as included_items,\\n               collect(DISTINCT l) as limitations\\n        '\n"
          ]
        },
        {
          "output_type": "stream",
          "name": "stdout",
          "text": [
            "Processing review 74/100...\n"
          ]
        },
        {
          "output_type": "stream",
          "name": "stderr",
          "text": [
            "WARNING:neo4j.notifications:Received notification from DBMS server: {severity: WARNING} {code: Neo.ClientNotification.Statement.AggregationSkippedNull} {category: UNRECOGNIZED} {title: The query contains an aggregation function that skips null values.} {description: null value eliminated in set function.} {position: None} for query: '\\n        MATCH (t:Tool {model_number: $product_id})\\n        OPTIONAL MATCH (t)-[:BELONGS_TO]->(c:Category)\\n        OPTIONAL MATCH (t)-[:HAS_SPECIFICATION]->(s:Specification)\\n        OPTIONAL MATCH (s)-[:HAS_UNIT]->(u:Unit)\\n        OPTIONAL MATCH (t)-[:COMPATIBLE_WITH]->(a:Accessory)\\n        OPTIONAL MATCH (t)-[:INCLUDES]->(i:IncludedItem)\\n        OPTIONAL MATCH (t)-[:HAS_LIMITATION]->(l:Limitation)\\n        RETURN t, c, collect(DISTINCT {spec: s, unit: u}) as specs,\\n               collect(DISTINCT a) as accessories,\\n               collect(DISTINCT i) as included_items,\\n               collect(DISTINCT l) as limitations\\n        '\n"
          ]
        },
        {
          "output_type": "stream",
          "name": "stdout",
          "text": [
            "Processing review 75/100...\n"
          ]
        },
        {
          "output_type": "stream",
          "name": "stderr",
          "text": [
            "WARNING:neo4j.notifications:Received notification from DBMS server: {severity: WARNING} {code: Neo.ClientNotification.Statement.AggregationSkippedNull} {category: UNRECOGNIZED} {title: The query contains an aggregation function that skips null values.} {description: null value eliminated in set function.} {position: None} for query: '\\n        MATCH (t:Tool {model_number: $product_id})\\n        OPTIONAL MATCH (t)-[:BELONGS_TO]->(c:Category)\\n        OPTIONAL MATCH (t)-[:HAS_SPECIFICATION]->(s:Specification)\\n        OPTIONAL MATCH (s)-[:HAS_UNIT]->(u:Unit)\\n        OPTIONAL MATCH (t)-[:COMPATIBLE_WITH]->(a:Accessory)\\n        OPTIONAL MATCH (t)-[:INCLUDES]->(i:IncludedItem)\\n        OPTIONAL MATCH (t)-[:HAS_LIMITATION]->(l:Limitation)\\n        RETURN t, c, collect(DISTINCT {spec: s, unit: u}) as specs,\\n               collect(DISTINCT a) as accessories,\\n               collect(DISTINCT i) as included_items,\\n               collect(DISTINCT l) as limitations\\n        '\n"
          ]
        },
        {
          "output_type": "stream",
          "name": "stdout",
          "text": [
            "Processing review 76/100...\n"
          ]
        },
        {
          "output_type": "stream",
          "name": "stderr",
          "text": [
            "WARNING:neo4j.notifications:Received notification from DBMS server: {severity: WARNING} {code: Neo.ClientNotification.Statement.AggregationSkippedNull} {category: UNRECOGNIZED} {title: The query contains an aggregation function that skips null values.} {description: null value eliminated in set function.} {position: None} for query: '\\n        MATCH (t:Tool {model_number: $product_id})\\n        OPTIONAL MATCH (t)-[:BELONGS_TO]->(c:Category)\\n        OPTIONAL MATCH (t)-[:HAS_SPECIFICATION]->(s:Specification)\\n        OPTIONAL MATCH (s)-[:HAS_UNIT]->(u:Unit)\\n        OPTIONAL MATCH (t)-[:COMPATIBLE_WITH]->(a:Accessory)\\n        OPTIONAL MATCH (t)-[:INCLUDES]->(i:IncludedItem)\\n        OPTIONAL MATCH (t)-[:HAS_LIMITATION]->(l:Limitation)\\n        RETURN t, c, collect(DISTINCT {spec: s, unit: u}) as specs,\\n               collect(DISTINCT a) as accessories,\\n               collect(DISTINCT i) as included_items,\\n               collect(DISTINCT l) as limitations\\n        '\n"
          ]
        },
        {
          "output_type": "stream",
          "name": "stdout",
          "text": [
            "Processing review 77/100...\n"
          ]
        },
        {
          "output_type": "stream",
          "name": "stderr",
          "text": [
            "WARNING:neo4j.notifications:Received notification from DBMS server: {severity: WARNING} {code: Neo.ClientNotification.Statement.AggregationSkippedNull} {category: UNRECOGNIZED} {title: The query contains an aggregation function that skips null values.} {description: null value eliminated in set function.} {position: None} for query: '\\n        MATCH (t:Tool {model_number: $product_id})\\n        OPTIONAL MATCH (t)-[:BELONGS_TO]->(c:Category)\\n        OPTIONAL MATCH (t)-[:HAS_SPECIFICATION]->(s:Specification)\\n        OPTIONAL MATCH (s)-[:HAS_UNIT]->(u:Unit)\\n        OPTIONAL MATCH (t)-[:COMPATIBLE_WITH]->(a:Accessory)\\n        OPTIONAL MATCH (t)-[:INCLUDES]->(i:IncludedItem)\\n        OPTIONAL MATCH (t)-[:HAS_LIMITATION]->(l:Limitation)\\n        RETURN t, c, collect(DISTINCT {spec: s, unit: u}) as specs,\\n               collect(DISTINCT a) as accessories,\\n               collect(DISTINCT i) as included_items,\\n               collect(DISTINCT l) as limitations\\n        '\n"
          ]
        },
        {
          "output_type": "stream",
          "name": "stdout",
          "text": [
            "Processing review 78/100...\n"
          ]
        },
        {
          "output_type": "stream",
          "name": "stderr",
          "text": [
            "WARNING:neo4j.notifications:Received notification from DBMS server: {severity: WARNING} {code: Neo.ClientNotification.Statement.AggregationSkippedNull} {category: UNRECOGNIZED} {title: The query contains an aggregation function that skips null values.} {description: null value eliminated in set function.} {position: None} for query: '\\n        MATCH (t:Tool {model_number: $product_id})\\n        OPTIONAL MATCH (t)-[:BELONGS_TO]->(c:Category)\\n        OPTIONAL MATCH (t)-[:HAS_SPECIFICATION]->(s:Specification)\\n        OPTIONAL MATCH (s)-[:HAS_UNIT]->(u:Unit)\\n        OPTIONAL MATCH (t)-[:COMPATIBLE_WITH]->(a:Accessory)\\n        OPTIONAL MATCH (t)-[:INCLUDES]->(i:IncludedItem)\\n        OPTIONAL MATCH (t)-[:HAS_LIMITATION]->(l:Limitation)\\n        RETURN t, c, collect(DISTINCT {spec: s, unit: u}) as specs,\\n               collect(DISTINCT a) as accessories,\\n               collect(DISTINCT i) as included_items,\\n               collect(DISTINCT l) as limitations\\n        '\n"
          ]
        },
        {
          "output_type": "stream",
          "name": "stdout",
          "text": [
            "Processing review 79/100...\n"
          ]
        },
        {
          "output_type": "stream",
          "name": "stderr",
          "text": [
            "WARNING:neo4j.notifications:Received notification from DBMS server: {severity: WARNING} {code: Neo.ClientNotification.Statement.AggregationSkippedNull} {category: UNRECOGNIZED} {title: The query contains an aggregation function that skips null values.} {description: null value eliminated in set function.} {position: None} for query: '\\n        MATCH (t:Tool {model_number: $product_id})\\n        OPTIONAL MATCH (t)-[:BELONGS_TO]->(c:Category)\\n        OPTIONAL MATCH (t)-[:HAS_SPECIFICATION]->(s:Specification)\\n        OPTIONAL MATCH (s)-[:HAS_UNIT]->(u:Unit)\\n        OPTIONAL MATCH (t)-[:COMPATIBLE_WITH]->(a:Accessory)\\n        OPTIONAL MATCH (t)-[:INCLUDES]->(i:IncludedItem)\\n        OPTIONAL MATCH (t)-[:HAS_LIMITATION]->(l:Limitation)\\n        RETURN t, c, collect(DISTINCT {spec: s, unit: u}) as specs,\\n               collect(DISTINCT a) as accessories,\\n               collect(DISTINCT i) as included_items,\\n               collect(DISTINCT l) as limitations\\n        '\n"
          ]
        },
        {
          "output_type": "stream",
          "name": "stdout",
          "text": [
            "Processing review 80/100...\n"
          ]
        },
        {
          "output_type": "stream",
          "name": "stderr",
          "text": [
            "WARNING:neo4j.notifications:Received notification from DBMS server: {severity: WARNING} {code: Neo.ClientNotification.Statement.AggregationSkippedNull} {category: UNRECOGNIZED} {title: The query contains an aggregation function that skips null values.} {description: null value eliminated in set function.} {position: None} for query: '\\n        MATCH (t:Tool {model_number: $product_id})\\n        OPTIONAL MATCH (t)-[:BELONGS_TO]->(c:Category)\\n        OPTIONAL MATCH (t)-[:HAS_SPECIFICATION]->(s:Specification)\\n        OPTIONAL MATCH (s)-[:HAS_UNIT]->(u:Unit)\\n        OPTIONAL MATCH (t)-[:COMPATIBLE_WITH]->(a:Accessory)\\n        OPTIONAL MATCH (t)-[:INCLUDES]->(i:IncludedItem)\\n        OPTIONAL MATCH (t)-[:HAS_LIMITATION]->(l:Limitation)\\n        RETURN t, c, collect(DISTINCT {spec: s, unit: u}) as specs,\\n               collect(DISTINCT a) as accessories,\\n               collect(DISTINCT i) as included_items,\\n               collect(DISTINCT l) as limitations\\n        '\n"
          ]
        },
        {
          "output_type": "stream",
          "name": "stdout",
          "text": [
            "Processing review 81/100...\n",
            "Processing review 82/100...\n",
            "Processing review 83/100...\n",
            "Processing review 84/100...\n",
            "Processing review 85/100...\n",
            "Processing review 86/100...\n",
            "Processing review 87/100...\n",
            "Processing review 88/100...\n",
            "Processing review 89/100...\n",
            "Processing review 90/100...\n",
            "Processing review 91/100...\n"
          ]
        },
        {
          "output_type": "stream",
          "name": "stderr",
          "text": [
            "WARNING:neo4j.notifications:Received notification from DBMS server: {severity: WARNING} {code: Neo.ClientNotification.Statement.AggregationSkippedNull} {category: UNRECOGNIZED} {title: The query contains an aggregation function that skips null values.} {description: null value eliminated in set function.} {position: None} for query: '\\n        MATCH (t:Tool {model_number: $product_id})\\n        OPTIONAL MATCH (t)-[:BELONGS_TO]->(c:Category)\\n        OPTIONAL MATCH (t)-[:HAS_SPECIFICATION]->(s:Specification)\\n        OPTIONAL MATCH (s)-[:HAS_UNIT]->(u:Unit)\\n        OPTIONAL MATCH (t)-[:COMPATIBLE_WITH]->(a:Accessory)\\n        OPTIONAL MATCH (t)-[:INCLUDES]->(i:IncludedItem)\\n        OPTIONAL MATCH (t)-[:HAS_LIMITATION]->(l:Limitation)\\n        RETURN t, c, collect(DISTINCT {spec: s, unit: u}) as specs,\\n               collect(DISTINCT a) as accessories,\\n               collect(DISTINCT i) as included_items,\\n               collect(DISTINCT l) as limitations\\n        '\n"
          ]
        },
        {
          "output_type": "stream",
          "name": "stdout",
          "text": [
            "Processing review 92/100...\n"
          ]
        },
        {
          "output_type": "stream",
          "name": "stderr",
          "text": [
            "WARNING:neo4j.notifications:Received notification from DBMS server: {severity: WARNING} {code: Neo.ClientNotification.Statement.AggregationSkippedNull} {category: UNRECOGNIZED} {title: The query contains an aggregation function that skips null values.} {description: null value eliminated in set function.} {position: None} for query: '\\n        MATCH (t:Tool {model_number: $product_id})\\n        OPTIONAL MATCH (t)-[:BELONGS_TO]->(c:Category)\\n        OPTIONAL MATCH (t)-[:HAS_SPECIFICATION]->(s:Specification)\\n        OPTIONAL MATCH (s)-[:HAS_UNIT]->(u:Unit)\\n        OPTIONAL MATCH (t)-[:COMPATIBLE_WITH]->(a:Accessory)\\n        OPTIONAL MATCH (t)-[:INCLUDES]->(i:IncludedItem)\\n        OPTIONAL MATCH (t)-[:HAS_LIMITATION]->(l:Limitation)\\n        RETURN t, c, collect(DISTINCT {spec: s, unit: u}) as specs,\\n               collect(DISTINCT a) as accessories,\\n               collect(DISTINCT i) as included_items,\\n               collect(DISTINCT l) as limitations\\n        '\n"
          ]
        },
        {
          "output_type": "stream",
          "name": "stdout",
          "text": [
            "Processing review 93/100...\n"
          ]
        },
        {
          "output_type": "stream",
          "name": "stderr",
          "text": [
            "WARNING:neo4j.notifications:Received notification from DBMS server: {severity: WARNING} {code: Neo.ClientNotification.Statement.AggregationSkippedNull} {category: UNRECOGNIZED} {title: The query contains an aggregation function that skips null values.} {description: null value eliminated in set function.} {position: None} for query: '\\n        MATCH (t:Tool {model_number: $product_id})\\n        OPTIONAL MATCH (t)-[:BELONGS_TO]->(c:Category)\\n        OPTIONAL MATCH (t)-[:HAS_SPECIFICATION]->(s:Specification)\\n        OPTIONAL MATCH (s)-[:HAS_UNIT]->(u:Unit)\\n        OPTIONAL MATCH (t)-[:COMPATIBLE_WITH]->(a:Accessory)\\n        OPTIONAL MATCH (t)-[:INCLUDES]->(i:IncludedItem)\\n        OPTIONAL MATCH (t)-[:HAS_LIMITATION]->(l:Limitation)\\n        RETURN t, c, collect(DISTINCT {spec: s, unit: u}) as specs,\\n               collect(DISTINCT a) as accessories,\\n               collect(DISTINCT i) as included_items,\\n               collect(DISTINCT l) as limitations\\n        '\n"
          ]
        },
        {
          "output_type": "stream",
          "name": "stdout",
          "text": [
            "Processing review 94/100...\n"
          ]
        },
        {
          "output_type": "stream",
          "name": "stderr",
          "text": [
            "WARNING:neo4j.notifications:Received notification from DBMS server: {severity: WARNING} {code: Neo.ClientNotification.Statement.AggregationSkippedNull} {category: UNRECOGNIZED} {title: The query contains an aggregation function that skips null values.} {description: null value eliminated in set function.} {position: None} for query: '\\n        MATCH (t:Tool {model_number: $product_id})\\n        OPTIONAL MATCH (t)-[:BELONGS_TO]->(c:Category)\\n        OPTIONAL MATCH (t)-[:HAS_SPECIFICATION]->(s:Specification)\\n        OPTIONAL MATCH (s)-[:HAS_UNIT]->(u:Unit)\\n        OPTIONAL MATCH (t)-[:COMPATIBLE_WITH]->(a:Accessory)\\n        OPTIONAL MATCH (t)-[:INCLUDES]->(i:IncludedItem)\\n        OPTIONAL MATCH (t)-[:HAS_LIMITATION]->(l:Limitation)\\n        RETURN t, c, collect(DISTINCT {spec: s, unit: u}) as specs,\\n               collect(DISTINCT a) as accessories,\\n               collect(DISTINCT i) as included_items,\\n               collect(DISTINCT l) as limitations\\n        '\n"
          ]
        },
        {
          "output_type": "stream",
          "name": "stdout",
          "text": [
            "Processing review 95/100...\n"
          ]
        },
        {
          "output_type": "stream",
          "name": "stderr",
          "text": [
            "WARNING:neo4j.notifications:Received notification from DBMS server: {severity: WARNING} {code: Neo.ClientNotification.Statement.AggregationSkippedNull} {category: UNRECOGNIZED} {title: The query contains an aggregation function that skips null values.} {description: null value eliminated in set function.} {position: None} for query: '\\n        MATCH (t:Tool {model_number: $product_id})\\n        OPTIONAL MATCH (t)-[:BELONGS_TO]->(c:Category)\\n        OPTIONAL MATCH (t)-[:HAS_SPECIFICATION]->(s:Specification)\\n        OPTIONAL MATCH (s)-[:HAS_UNIT]->(u:Unit)\\n        OPTIONAL MATCH (t)-[:COMPATIBLE_WITH]->(a:Accessory)\\n        OPTIONAL MATCH (t)-[:INCLUDES]->(i:IncludedItem)\\n        OPTIONAL MATCH (t)-[:HAS_LIMITATION]->(l:Limitation)\\n        RETURN t, c, collect(DISTINCT {spec: s, unit: u}) as specs,\\n               collect(DISTINCT a) as accessories,\\n               collect(DISTINCT i) as included_items,\\n               collect(DISTINCT l) as limitations\\n        '\n"
          ]
        },
        {
          "output_type": "stream",
          "name": "stdout",
          "text": [
            "Processing review 96/100...\n"
          ]
        },
        {
          "output_type": "stream",
          "name": "stderr",
          "text": [
            "WARNING:neo4j.notifications:Received notification from DBMS server: {severity: WARNING} {code: Neo.ClientNotification.Statement.AggregationSkippedNull} {category: UNRECOGNIZED} {title: The query contains an aggregation function that skips null values.} {description: null value eliminated in set function.} {position: None} for query: '\\n        MATCH (t:Tool {model_number: $product_id})\\n        OPTIONAL MATCH (t)-[:BELONGS_TO]->(c:Category)\\n        OPTIONAL MATCH (t)-[:HAS_SPECIFICATION]->(s:Specification)\\n        OPTIONAL MATCH (s)-[:HAS_UNIT]->(u:Unit)\\n        OPTIONAL MATCH (t)-[:COMPATIBLE_WITH]->(a:Accessory)\\n        OPTIONAL MATCH (t)-[:INCLUDES]->(i:IncludedItem)\\n        OPTIONAL MATCH (t)-[:HAS_LIMITATION]->(l:Limitation)\\n        RETURN t, c, collect(DISTINCT {spec: s, unit: u}) as specs,\\n               collect(DISTINCT a) as accessories,\\n               collect(DISTINCT i) as included_items,\\n               collect(DISTINCT l) as limitations\\n        '\n"
          ]
        },
        {
          "output_type": "stream",
          "name": "stdout",
          "text": [
            "Processing review 97/100...\n"
          ]
        },
        {
          "output_type": "stream",
          "name": "stderr",
          "text": [
            "WARNING:neo4j.notifications:Received notification from DBMS server: {severity: WARNING} {code: Neo.ClientNotification.Statement.AggregationSkippedNull} {category: UNRECOGNIZED} {title: The query contains an aggregation function that skips null values.} {description: null value eliminated in set function.} {position: None} for query: '\\n        MATCH (t:Tool {model_number: $product_id})\\n        OPTIONAL MATCH (t)-[:BELONGS_TO]->(c:Category)\\n        OPTIONAL MATCH (t)-[:HAS_SPECIFICATION]->(s:Specification)\\n        OPTIONAL MATCH (s)-[:HAS_UNIT]->(u:Unit)\\n        OPTIONAL MATCH (t)-[:COMPATIBLE_WITH]->(a:Accessory)\\n        OPTIONAL MATCH (t)-[:INCLUDES]->(i:IncludedItem)\\n        OPTIONAL MATCH (t)-[:HAS_LIMITATION]->(l:Limitation)\\n        RETURN t, c, collect(DISTINCT {spec: s, unit: u}) as specs,\\n               collect(DISTINCT a) as accessories,\\n               collect(DISTINCT i) as included_items,\\n               collect(DISTINCT l) as limitations\\n        '\n"
          ]
        },
        {
          "output_type": "stream",
          "name": "stdout",
          "text": [
            "Processing review 98/100...\n"
          ]
        },
        {
          "output_type": "stream",
          "name": "stderr",
          "text": [
            "WARNING:neo4j.notifications:Received notification from DBMS server: {severity: WARNING} {code: Neo.ClientNotification.Statement.AggregationSkippedNull} {category: UNRECOGNIZED} {title: The query contains an aggregation function that skips null values.} {description: null value eliminated in set function.} {position: None} for query: '\\n        MATCH (t:Tool {model_number: $product_id})\\n        OPTIONAL MATCH (t)-[:BELONGS_TO]->(c:Category)\\n        OPTIONAL MATCH (t)-[:HAS_SPECIFICATION]->(s:Specification)\\n        OPTIONAL MATCH (s)-[:HAS_UNIT]->(u:Unit)\\n        OPTIONAL MATCH (t)-[:COMPATIBLE_WITH]->(a:Accessory)\\n        OPTIONAL MATCH (t)-[:INCLUDES]->(i:IncludedItem)\\n        OPTIONAL MATCH (t)-[:HAS_LIMITATION]->(l:Limitation)\\n        RETURN t, c, collect(DISTINCT {spec: s, unit: u}) as specs,\\n               collect(DISTINCT a) as accessories,\\n               collect(DISTINCT i) as included_items,\\n               collect(DISTINCT l) as limitations\\n        '\n"
          ]
        },
        {
          "output_type": "stream",
          "name": "stdout",
          "text": [
            "Processing review 99/100...\n"
          ]
        },
        {
          "output_type": "stream",
          "name": "stderr",
          "text": [
            "WARNING:neo4j.notifications:Received notification from DBMS server: {severity: WARNING} {code: Neo.ClientNotification.Statement.AggregationSkippedNull} {category: UNRECOGNIZED} {title: The query contains an aggregation function that skips null values.} {description: null value eliminated in set function.} {position: None} for query: '\\n        MATCH (t:Tool {model_number: $product_id})\\n        OPTIONAL MATCH (t)-[:BELONGS_TO]->(c:Category)\\n        OPTIONAL MATCH (t)-[:HAS_SPECIFICATION]->(s:Specification)\\n        OPTIONAL MATCH (s)-[:HAS_UNIT]->(u:Unit)\\n        OPTIONAL MATCH (t)-[:COMPATIBLE_WITH]->(a:Accessory)\\n        OPTIONAL MATCH (t)-[:INCLUDES]->(i:IncludedItem)\\n        OPTIONAL MATCH (t)-[:HAS_LIMITATION]->(l:Limitation)\\n        RETURN t, c, collect(DISTINCT {spec: s, unit: u}) as specs,\\n               collect(DISTINCT a) as accessories,\\n               collect(DISTINCT i) as included_items,\\n               collect(DISTINCT l) as limitations\\n        '\n"
          ]
        },
        {
          "output_type": "stream",
          "name": "stdout",
          "text": [
            "Processing review 100/100...\n"
          ]
        },
        {
          "output_type": "stream",
          "name": "stderr",
          "text": [
            "WARNING:neo4j.notifications:Received notification from DBMS server: {severity: WARNING} {code: Neo.ClientNotification.Statement.AggregationSkippedNull} {category: UNRECOGNIZED} {title: The query contains an aggregation function that skips null values.} {description: null value eliminated in set function.} {position: None} for query: '\\n        MATCH (t:Tool {model_number: $product_id})\\n        OPTIONAL MATCH (t)-[:BELONGS_TO]->(c:Category)\\n        OPTIONAL MATCH (t)-[:HAS_SPECIFICATION]->(s:Specification)\\n        OPTIONAL MATCH (s)-[:HAS_UNIT]->(u:Unit)\\n        OPTIONAL MATCH (t)-[:COMPATIBLE_WITH]->(a:Accessory)\\n        OPTIONAL MATCH (t)-[:INCLUDES]->(i:IncludedItem)\\n        OPTIONAL MATCH (t)-[:HAS_LIMITATION]->(l:Limitation)\\n        RETURN t, c, collect(DISTINCT {spec: s, unit: u}) as specs,\\n               collect(DISTINCT a) as accessories,\\n               collect(DISTINCT i) as included_items,\\n               collect(DISTINCT l) as limitations\\n        '\n"
          ]
        },
        {
          "output_type": "stream",
          "name": "stdout",
          "text": [
            "Analysis complete. Results saved to /content/bosch_reviews_100_new_analyzed.xlsx\n",
            "\n",
            "Accuracy Metrics:\n",
            "Overall Accuracy: 0.6556\n",
            "Macro Precision: 0.6792\n",
            "Macro Recall: 0.5000\n",
            "Macro F1 Score: 0.4745\n",
            "\n",
            "Confusion Matrix:\n",
            "Labels: ['None', 'Semantic', 'Contextual', 'Both']\n",
            "[52, 0, 20]\n",
            "[5, 2, 2]\n",
            "[4, 0, 5]\n"
          ]
        },
        {
          "output_type": "stream",
          "name": "stderr",
          "text": [
            "<ipython-input-15-561b014a6904>:273: SettingWithCopyWarning: \n",
            "A value is trying to be set on a copy of a slice from a DataFrame.\n",
            "Try using .loc[row_indexer,col_indexer] = value instead\n",
            "\n",
            "See the caveats in the documentation: https://pandas.pydata.org/pandas-docs/stable/user_guide/indexing.html#returning-a-view-versus-a-copy\n",
            "  valid_df['Actual_Error_Type_Mapped'] = valid_df['Actual_Error_Type'].apply(\n",
            "<ipython-input-15-561b014a6904>:276: SettingWithCopyWarning: \n",
            "A value is trying to be set on a copy of a slice from a DataFrame.\n",
            "Try using .loc[row_indexer,col_indexer] = value instead\n",
            "\n",
            "See the caveats in the documentation: https://pandas.pydata.org/pandas-docs/stable/user_guide/indexing.html#returning-a-view-versus-a-copy\n",
            "  valid_df['Predicted_Error_Type_Mapped'] = valid_df['Predicted_Error_Type'].apply(\n",
            "<ipython-input-15-561b014a6904>:312: SettingWithCopyWarning: \n",
            "A value is trying to be set on a copy of a slice from a DataFrame.\n",
            "Try using .loc[row_indexer,col_indexer] = value instead\n",
            "\n",
            "See the caveats in the documentation: https://pandas.pydata.org/pandas-docs/stable/user_guide/indexing.html#returning-a-view-versus-a-copy\n",
            "  valid_df['Actual_Error_Type_Mapped'] = valid_df['Actual_Error_Type'].apply(\n",
            "<ipython-input-15-561b014a6904>:315: SettingWithCopyWarning: \n",
            "A value is trying to be set on a copy of a slice from a DataFrame.\n",
            "Try using .loc[row_indexer,col_indexer] = value instead\n",
            "\n",
            "See the caveats in the documentation: https://pandas.pydata.org/pandas-docs/stable/user_guide/indexing.html#returning-a-view-versus-a-copy\n",
            "  valid_df['Predicted_Error_Type_Mapped'] = valid_df['Predicted_Error_Type'].apply(\n"
          ]
        },
        {
          "output_type": "error",
          "ename": "ValueError",
          "evalue": "The number of FixedLocator locations (3), usually from a call to set_ticks, does not match the number of labels (4).",
          "traceback": [
            "\u001b[0;31m---------------------------------------------------------------------------\u001b[0m",
            "\u001b[0;31mValueError\u001b[0m                                Traceback (most recent call last)",
            "\u001b[0;32m<ipython-input-15-561b014a6904>\u001b[0m in \u001b[0;36m<cell line: 0>\u001b[0;34m()\u001b[0m\n\u001b[1;32m    472\u001b[0m \u001b[0;34m\u001b[0m\u001b[0m\n\u001b[1;32m    473\u001b[0m \u001b[0;32mif\u001b[0m \u001b[0m__name__\u001b[0m \u001b[0;34m==\u001b[0m \u001b[0;34m\"__main__\"\u001b[0m\u001b[0;34m:\u001b[0m\u001b[0;34m\u001b[0m\u001b[0;34m\u001b[0m\u001b[0m\n\u001b[0;32m--> 474\u001b[0;31m     \u001b[0mmain\u001b[0m\u001b[0;34m(\u001b[0m\u001b[0;34m)\u001b[0m\u001b[0;34m\u001b[0m\u001b[0;34m\u001b[0m\u001b[0m\n\u001b[0m",
            "\u001b[0;32m<ipython-input-15-561b014a6904>\u001b[0m in \u001b[0;36mmain\u001b[0;34m()\u001b[0m\n\u001b[1;32m    456\u001b[0m \u001b[0;34m\u001b[0m\u001b[0m\n\u001b[1;32m    457\u001b[0m     \u001b[0;31m# Create visualizations\u001b[0m\u001b[0;34m\u001b[0m\u001b[0;34m\u001b[0m\u001b[0m\n\u001b[0;32m--> 458\u001b[0;31m     \u001b[0mdetector\u001b[0m\u001b[0;34m.\u001b[0m\u001b[0mvisualize_results\u001b[0m\u001b[0;34m(\u001b[0m\u001b[0mresult_df\u001b[0m\u001b[0;34m,\u001b[0m \u001b[0moutput_dir\u001b[0m\u001b[0;34m)\u001b[0m\u001b[0;34m\u001b[0m\u001b[0;34m\u001b[0m\u001b[0m\n\u001b[0m\u001b[1;32m    459\u001b[0m     \u001b[0mprint\u001b[0m\u001b[0;34m(\u001b[0m\u001b[0;34mf\"Visualizations saved to {output_dir}\"\u001b[0m\u001b[0;34m)\u001b[0m\u001b[0;34m\u001b[0m\u001b[0;34m\u001b[0m\u001b[0m\n\u001b[1;32m    460\u001b[0m \u001b[0;34m\u001b[0m\u001b[0m\n",
            "\u001b[0;32m<ipython-input-15-561b014a6904>\u001b[0m in \u001b[0;36mvisualize_results\u001b[0;34m(self, df, output_dir)\u001b[0m\n\u001b[1;32m    380\u001b[0m         \u001b[0mplt\u001b[0m\u001b[0;34m.\u001b[0m\u001b[0mylabel\u001b[0m\u001b[0;34m(\u001b[0m\u001b[0;34m'Score'\u001b[0m\u001b[0;34m)\u001b[0m\u001b[0;34m\u001b[0m\u001b[0;34m\u001b[0m\u001b[0m\n\u001b[1;32m    381\u001b[0m         \u001b[0mplt\u001b[0m\u001b[0;34m.\u001b[0m\u001b[0mtitle\u001b[0m\u001b[0;34m(\u001b[0m\u001b[0;34m'Per-Class Performance Metrics'\u001b[0m\u001b[0;34m)\u001b[0m\u001b[0;34m\u001b[0m\u001b[0;34m\u001b[0m\u001b[0m\n\u001b[0;32m--> 382\u001b[0;31m         \u001b[0mplt\u001b[0m\u001b[0;34m.\u001b[0m\u001b[0mxticks\u001b[0m\u001b[0;34m(\u001b[0m\u001b[0mx\u001b[0m\u001b[0;34m,\u001b[0m \u001b[0merror_types\u001b[0m\u001b[0;34m)\u001b[0m\u001b[0;34m\u001b[0m\u001b[0;34m\u001b[0m\u001b[0m\n\u001b[0m\u001b[1;32m    383\u001b[0m         \u001b[0mplt\u001b[0m\u001b[0;34m.\u001b[0m\u001b[0mlegend\u001b[0m\u001b[0;34m(\u001b[0m\u001b[0;34m)\u001b[0m\u001b[0;34m\u001b[0m\u001b[0;34m\u001b[0m\u001b[0m\n\u001b[1;32m    384\u001b[0m         \u001b[0mplt\u001b[0m\u001b[0;34m.\u001b[0m\u001b[0mgrid\u001b[0m\u001b[0;34m(\u001b[0m\u001b[0maxis\u001b[0m\u001b[0;34m=\u001b[0m\u001b[0;34m'y'\u001b[0m\u001b[0;34m,\u001b[0m \u001b[0mlinestyle\u001b[0m\u001b[0;34m=\u001b[0m\u001b[0;34m'--'\u001b[0m\u001b[0;34m,\u001b[0m \u001b[0malpha\u001b[0m\u001b[0;34m=\u001b[0m\u001b[0;36m0.7\u001b[0m\u001b[0;34m)\u001b[0m\u001b[0;34m\u001b[0m\u001b[0;34m\u001b[0m\u001b[0m\n",
            "\u001b[0;32m/usr/local/lib/python3.11/dist-packages/matplotlib/pyplot.py\u001b[0m in \u001b[0;36mxticks\u001b[0;34m(ticks, labels, minor, **kwargs)\u001b[0m\n\u001b[1;32m   2243\u001b[0m             \u001b[0ml\u001b[0m\u001b[0;34m.\u001b[0m\u001b[0m_internal_update\u001b[0m\u001b[0;34m(\u001b[0m\u001b[0mkwargs\u001b[0m\u001b[0;34m)\u001b[0m\u001b[0;34m\u001b[0m\u001b[0;34m\u001b[0m\u001b[0m\n\u001b[1;32m   2244\u001b[0m     \u001b[0;32melse\u001b[0m\u001b[0;34m:\u001b[0m\u001b[0;34m\u001b[0m\u001b[0;34m\u001b[0m\u001b[0m\n\u001b[0;32m-> 2245\u001b[0;31m         \u001b[0mlabels_out\u001b[0m \u001b[0;34m=\u001b[0m \u001b[0max\u001b[0m\u001b[0;34m.\u001b[0m\u001b[0mset_xticklabels\u001b[0m\u001b[0;34m(\u001b[0m\u001b[0mlabels\u001b[0m\u001b[0;34m,\u001b[0m \u001b[0mminor\u001b[0m\u001b[0;34m=\u001b[0m\u001b[0mminor\u001b[0m\u001b[0;34m,\u001b[0m \u001b[0;34m**\u001b[0m\u001b[0mkwargs\u001b[0m\u001b[0;34m)\u001b[0m\u001b[0;34m\u001b[0m\u001b[0;34m\u001b[0m\u001b[0m\n\u001b[0m\u001b[1;32m   2246\u001b[0m \u001b[0;34m\u001b[0m\u001b[0m\n\u001b[1;32m   2247\u001b[0m     \u001b[0;32mreturn\u001b[0m \u001b[0mlocs\u001b[0m\u001b[0;34m,\u001b[0m \u001b[0mlabels_out\u001b[0m\u001b[0;34m\u001b[0m\u001b[0;34m\u001b[0m\u001b[0m\n",
            "\u001b[0;32m/usr/local/lib/python3.11/dist-packages/matplotlib/axes/_base.py\u001b[0m in \u001b[0;36mwrapper\u001b[0;34m(self, *args, **kwargs)\u001b[0m\n\u001b[1;32m     72\u001b[0m \u001b[0;34m\u001b[0m\u001b[0m\n\u001b[1;32m     73\u001b[0m         \u001b[0;32mdef\u001b[0m \u001b[0mwrapper\u001b[0m\u001b[0;34m(\u001b[0m\u001b[0mself\u001b[0m\u001b[0;34m,\u001b[0m \u001b[0;34m*\u001b[0m\u001b[0margs\u001b[0m\u001b[0;34m,\u001b[0m \u001b[0;34m**\u001b[0m\u001b[0mkwargs\u001b[0m\u001b[0;34m)\u001b[0m\u001b[0;34m:\u001b[0m\u001b[0;34m\u001b[0m\u001b[0;34m\u001b[0m\u001b[0m\n\u001b[0;32m---> 74\u001b[0;31m             \u001b[0;32mreturn\u001b[0m \u001b[0mget_method\u001b[0m\u001b[0;34m(\u001b[0m\u001b[0mself\u001b[0m\u001b[0;34m)\u001b[0m\u001b[0;34m(\u001b[0m\u001b[0;34m*\u001b[0m\u001b[0margs\u001b[0m\u001b[0;34m,\u001b[0m \u001b[0;34m**\u001b[0m\u001b[0mkwargs\u001b[0m\u001b[0;34m)\u001b[0m\u001b[0;34m\u001b[0m\u001b[0;34m\u001b[0m\u001b[0m\n\u001b[0m\u001b[1;32m     75\u001b[0m \u001b[0;34m\u001b[0m\u001b[0m\n\u001b[1;32m     76\u001b[0m         \u001b[0mwrapper\u001b[0m\u001b[0;34m.\u001b[0m\u001b[0m__module__\u001b[0m \u001b[0;34m=\u001b[0m \u001b[0mowner\u001b[0m\u001b[0;34m.\u001b[0m\u001b[0m__module__\u001b[0m\u001b[0;34m\u001b[0m\u001b[0;34m\u001b[0m\u001b[0m\n",
            "\u001b[0;32m/usr/local/lib/python3.11/dist-packages/matplotlib/axis.py\u001b[0m in \u001b[0;36mset_ticklabels\u001b[0;34m(self, labels, minor, fontdict, **kwargs)\u001b[0m\n\u001b[1;32m   2115\u001b[0m             \u001b[0;31m# remove all tick labels, so only error for > 0 labels\u001b[0m\u001b[0;34m\u001b[0m\u001b[0;34m\u001b[0m\u001b[0m\n\u001b[1;32m   2116\u001b[0m             \u001b[0;32mif\u001b[0m \u001b[0mlen\u001b[0m\u001b[0;34m(\u001b[0m\u001b[0mlocator\u001b[0m\u001b[0;34m.\u001b[0m\u001b[0mlocs\u001b[0m\u001b[0;34m)\u001b[0m \u001b[0;34m!=\u001b[0m \u001b[0mlen\u001b[0m\u001b[0;34m(\u001b[0m\u001b[0mlabels\u001b[0m\u001b[0;34m)\u001b[0m \u001b[0;32mand\u001b[0m \u001b[0mlen\u001b[0m\u001b[0;34m(\u001b[0m\u001b[0mlabels\u001b[0m\u001b[0;34m)\u001b[0m \u001b[0;34m!=\u001b[0m \u001b[0;36m0\u001b[0m\u001b[0;34m:\u001b[0m\u001b[0;34m\u001b[0m\u001b[0;34m\u001b[0m\u001b[0m\n\u001b[0;32m-> 2117\u001b[0;31m                 raise ValueError(\n\u001b[0m\u001b[1;32m   2118\u001b[0m                     \u001b[0;34m\"The number of FixedLocator locations\"\u001b[0m\u001b[0;34m\u001b[0m\u001b[0;34m\u001b[0m\u001b[0m\n\u001b[1;32m   2119\u001b[0m                     \u001b[0;34mf\" ({len(locator.locs)}), usually from a call to\"\u001b[0m\u001b[0;34m\u001b[0m\u001b[0;34m\u001b[0m\u001b[0m\n",
            "\u001b[0;31mValueError\u001b[0m: The number of FixedLocator locations (3), usually from a call to set_ticks, does not match the number of labels (4)."
          ]
        },
        {
          "output_type": "display_data",
          "data": {
            "text/plain": [
              "<Figure size 1200x600 with 1 Axes>"
            ],
            "image/png": "[encoded data removed]"
          },
          "metadata": {}
        }
      ]
    }
  ]
}